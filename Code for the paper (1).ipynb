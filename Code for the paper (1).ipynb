{
 "cells": [
  {
   "cell_type": "markdown",
   "metadata": {},
   "source": [
    "# Importing libraries and Data cleaning"
   ]
  },
  {
   "cell_type": "code",
   "execution_count": 1,
   "metadata": {},
   "outputs": [
    {
     "name": "stdout",
     "output_type": "stream",
     "text": [
      "Requirement already satisfied: pmdarima in c:\\users\\naled\\anaconda3\\lib\\site-packages (1.8.2)\n",
      "Requirement already satisfied: numpy~=1.19.0 in c:\\users\\naled\\anaconda3\\lib\\site-packages (from pmdarima) (1.19.2)\n",
      "Requirement already satisfied: setuptools!=50.0.0,>=38.6.0 in c:\\users\\naled\\anaconda3\\lib\\site-packages (from pmdarima) (50.3.1.post20201107)\n",
      "Requirement already satisfied: Cython!=0.29.18,>=0.29 in c:\\users\\naled\\anaconda3\\lib\\site-packages (from pmdarima) (0.29.21)\n",
      "Requirement already satisfied: scipy>=1.3.2 in c:\\users\\naled\\anaconda3\\lib\\site-packages (from pmdarima) (1.5.2)\n",
      "Requirement already satisfied: statsmodels!=0.12.0,>=0.11 in c:\\users\\naled\\anaconda3\\lib\\site-packages (from pmdarima) (0.12.2)\n",
      "Requirement already satisfied: urllib3 in c:\\users\\naled\\anaconda3\\lib\\site-packages (from pmdarima) (1.25.11)\n",
      "Requirement already satisfied: pandas>=0.19 in c:\\users\\naled\\anaconda3\\lib\\site-packages (from pmdarima) (1.1.3)\n",
      "Requirement already satisfied: scikit-learn>=0.22 in c:\\users\\naled\\anaconda3\\lib\\site-packages (from pmdarima) (0.24.2)\n",
      "Requirement already satisfied: joblib>=0.11 in c:\\users\\naled\\anaconda3\\lib\\site-packages (from pmdarima) (0.17.0)\n",
      "Requirement already satisfied: patsy>=0.5 in c:\\users\\naled\\anaconda3\\lib\\site-packages (from statsmodels!=0.12.0,>=0.11->pmdarima) (0.5.1)\n",
      "Requirement already satisfied: pytz>=2017.2 in c:\\users\\naled\\anaconda3\\lib\\site-packages (from pandas>=0.19->pmdarima) (2020.1)\n",
      "Requirement already satisfied: python-dateutil>=2.7.3 in c:\\users\\naled\\anaconda3\\lib\\site-packages (from pandas>=0.19->pmdarima) (2.8.1)\n",
      "Requirement already satisfied: threadpoolctl>=2.0.0 in c:\\users\\naled\\anaconda3\\lib\\site-packages (from scikit-learn>=0.22->pmdarima) (2.1.0)\n",
      "Requirement already satisfied: six in c:\\users\\naled\\anaconda3\\lib\\site-packages (from patsy>=0.5->statsmodels!=0.12.0,>=0.11->pmdarima) (1.15.0)\n"
     ]
    }
   ],
   "source": [
    "!pip install pmdarima"
   ]
  },
  {
   "cell_type": "code",
   "execution_count": 2,
   "metadata": {},
   "outputs": [
    {
     "name": "stdout",
     "output_type": "stream",
     "text": [
      "Requirement already satisfied: iplot in c:\\users\\naled\\anaconda3\\lib\\site-packages (0.0.0)\n"
     ]
    }
   ],
   "source": [
    "!pip install iplot"
   ]
  },
  {
   "cell_type": "code",
   "execution_count": 3,
   "metadata": {},
   "outputs": [
    {
     "name": "stdout",
     "output_type": "stream",
     "text": [
      "Requirement already satisfied: cufflinks in c:\\users\\naled\\anaconda3\\lib\\site-packages (0.17.3)\n",
      "Requirement already satisfied: plotly>=4.1.1 in c:\\users\\naled\\anaconda3\\lib\\site-packages (from cufflinks) (4.14.3)\n",
      "Requirement already satisfied: colorlover>=0.2.1 in c:\\users\\naled\\anaconda3\\lib\\site-packages (from cufflinks) (0.3.0)\n",
      "Requirement already satisfied: pandas>=0.19.2 in c:\\users\\naled\\anaconda3\\lib\\site-packages (from cufflinks) (1.1.3)\n",
      "Requirement already satisfied: six>=1.9.0 in c:\\users\\naled\\anaconda3\\lib\\site-packages (from cufflinks) (1.15.0)\n",
      "Requirement already satisfied: numpy>=1.9.2 in c:\\users\\naled\\anaconda3\\lib\\site-packages (from cufflinks) (1.19.2)\n",
      "Requirement already satisfied: ipywidgets>=7.0.0 in c:\\users\\naled\\anaconda3\\lib\\site-packages (from cufflinks) (7.5.1)\n",
      "Requirement already satisfied: ipython>=5.3.0 in c:\\users\\naled\\anaconda3\\lib\\site-packages (from cufflinks) (7.19.0)\n",
      "Requirement already satisfied: setuptools>=34.4.1 in c:\\users\\naled\\anaconda3\\lib\\site-packages (from cufflinks) (50.3.1.post20201107)\n",
      "Requirement already satisfied: retrying>=1.3.3 in c:\\users\\naled\\anaconda3\\lib\\site-packages (from plotly>=4.1.1->cufflinks) (1.3.3)\n",
      "Requirement already satisfied: python-dateutil>=2.7.3 in c:\\users\\naled\\anaconda3\\lib\\site-packages (from pandas>=0.19.2->cufflinks) (2.8.1)\n",
      "Requirement already satisfied: pytz>=2017.2 in c:\\users\\naled\\anaconda3\\lib\\site-packages (from pandas>=0.19.2->cufflinks) (2020.1)\n",
      "Requirement already satisfied: ipykernel>=4.5.1 in c:\\users\\naled\\anaconda3\\lib\\site-packages (from ipywidgets>=7.0.0->cufflinks) (5.3.4)\n",
      "Requirement already satisfied: nbformat>=4.2.0 in c:\\users\\naled\\anaconda3\\lib\\site-packages (from ipywidgets>=7.0.0->cufflinks) (5.0.8)\n",
      "Requirement already satisfied: widgetsnbextension~=3.5.0 in c:\\users\\naled\\anaconda3\\lib\\site-packages (from ipywidgets>=7.0.0->cufflinks) (3.5.1)\n",
      "Requirement already satisfied: traitlets>=4.3.1 in c:\\users\\naled\\anaconda3\\lib\\site-packages (from ipywidgets>=7.0.0->cufflinks) (5.0.5)\n",
      "Requirement already satisfied: decorator in c:\\users\\naled\\anaconda3\\lib\\site-packages (from ipython>=5.3.0->cufflinks) (4.4.2)\n",
      "Requirement already satisfied: pickleshare in c:\\users\\naled\\anaconda3\\lib\\site-packages (from ipython>=5.3.0->cufflinks) (0.7.5)\n",
      "Requirement already satisfied: jedi>=0.10 in c:\\users\\naled\\anaconda3\\lib\\site-packages (from ipython>=5.3.0->cufflinks) (0.17.1)\n",
      "Requirement already satisfied: backcall in c:\\users\\naled\\anaconda3\\lib\\site-packages (from ipython>=5.3.0->cufflinks) (0.2.0)\n",
      "Requirement already satisfied: colorama; sys_platform == \"win32\" in c:\\users\\naled\\anaconda3\\lib\\site-packages (from ipython>=5.3.0->cufflinks) (0.4.4)\n",
      "Requirement already satisfied: prompt-toolkit!=3.0.0,!=3.0.1,<3.1.0,>=2.0.0 in c:\\users\\naled\\anaconda3\\lib\\site-packages (from ipython>=5.3.0->cufflinks) (3.0.8)\n",
      "Requirement already satisfied: pygments in c:\\users\\naled\\anaconda3\\lib\\site-packages (from ipython>=5.3.0->cufflinks) (2.7.2)\n",
      "Requirement already satisfied: jupyter-client in c:\\users\\naled\\anaconda3\\lib\\site-packages (from ipykernel>=4.5.1->ipywidgets>=7.0.0->cufflinks) (6.1.7)\n",
      "Requirement already satisfied: tornado>=4.2 in c:\\users\\naled\\anaconda3\\lib\\site-packages (from ipykernel>=4.5.1->ipywidgets>=7.0.0->cufflinks) (6.0.4)\n",
      "Requirement already satisfied: jsonschema!=2.5.0,>=2.4 in c:\\users\\naled\\anaconda3\\lib\\site-packages (from nbformat>=4.2.0->ipywidgets>=7.0.0->cufflinks) (3.2.0)\n",
      "Requirement already satisfied: jupyter-core in c:\\users\\naled\\anaconda3\\lib\\site-packages (from nbformat>=4.2.0->ipywidgets>=7.0.0->cufflinks) (4.6.3)\n",
      "Requirement already satisfied: ipython-genutils in c:\\users\\naled\\anaconda3\\lib\\site-packages (from nbformat>=4.2.0->ipywidgets>=7.0.0->cufflinks) (0.2.0)\n",
      "Requirement already satisfied: notebook>=4.4.1 in c:\\users\\naled\\anaconda3\\lib\\site-packages (from widgetsnbextension~=3.5.0->ipywidgets>=7.0.0->cufflinks) (6.1.4)\n",
      "Requirement already satisfied: parso<0.8.0,>=0.7.0 in c:\\users\\naled\\anaconda3\\lib\\site-packages (from jedi>=0.10->ipython>=5.3.0->cufflinks) (0.7.0)\n",
      "Requirement already satisfied: wcwidth in c:\\users\\naled\\anaconda3\\lib\\site-packages (from prompt-toolkit!=3.0.0,!=3.0.1,<3.1.0,>=2.0.0->ipython>=5.3.0->cufflinks) (0.2.5)\n",
      "Requirement already satisfied: pyzmq>=13 in c:\\users\\naled\\anaconda3\\lib\\site-packages (from jupyter-client->ipykernel>=4.5.1->ipywidgets>=7.0.0->cufflinks) (19.0.2)\n",
      "Requirement already satisfied: attrs>=17.4.0 in c:\\users\\naled\\anaconda3\\lib\\site-packages (from jsonschema!=2.5.0,>=2.4->nbformat>=4.2.0->ipywidgets>=7.0.0->cufflinks) (20.3.0)\n",
      "Requirement already satisfied: pyrsistent>=0.14.0 in c:\\users\\naled\\anaconda3\\lib\\site-packages (from jsonschema!=2.5.0,>=2.4->nbformat>=4.2.0->ipywidgets>=7.0.0->cufflinks) (0.17.3)\n",
      "Requirement already satisfied: pywin32>=1.0; sys_platform == \"win32\" in c:\\users\\naled\\anaconda3\\lib\\site-packages (from jupyter-core->nbformat>=4.2.0->ipywidgets>=7.0.0->cufflinks) (227)\n",
      "Requirement already satisfied: jinja2 in c:\\users\\naled\\anaconda3\\lib\\site-packages (from notebook>=4.4.1->widgetsnbextension~=3.5.0->ipywidgets>=7.0.0->cufflinks) (2.11.2)\n",
      "Requirement already satisfied: prometheus-client in c:\\users\\naled\\anaconda3\\lib\\site-packages (from notebook>=4.4.1->widgetsnbextension~=3.5.0->ipywidgets>=7.0.0->cufflinks) (0.8.0)\n",
      "Requirement already satisfied: nbconvert in c:\\users\\naled\\anaconda3\\lib\\site-packages (from notebook>=4.4.1->widgetsnbextension~=3.5.0->ipywidgets>=7.0.0->cufflinks) (6.0.7)\n",
      "Requirement already satisfied: argon2-cffi in c:\\users\\naled\\anaconda3\\lib\\site-packages (from notebook>=4.4.1->widgetsnbextension~=3.5.0->ipywidgets>=7.0.0->cufflinks) (20.1.0)\n",
      "Requirement already satisfied: terminado>=0.8.3 in c:\\users\\naled\\anaconda3\\lib\\site-packages (from notebook>=4.4.1->widgetsnbextension~=3.5.0->ipywidgets>=7.0.0->cufflinks) (0.9.1)\n",
      "Requirement already satisfied: Send2Trash in c:\\users\\naled\\anaconda3\\lib\\site-packages (from notebook>=4.4.1->widgetsnbextension~=3.5.0->ipywidgets>=7.0.0->cufflinks) (1.5.0)\n",
      "Requirement already satisfied: MarkupSafe>=0.23 in c:\\users\\naled\\anaconda3\\lib\\site-packages (from jinja2->notebook>=4.4.1->widgetsnbextension~=3.5.0->ipywidgets>=7.0.0->cufflinks) (1.1.1)\n",
      "Requirement already satisfied: jupyterlab-pygments in c:\\users\\naled\\anaconda3\\lib\\site-packages (from nbconvert->notebook>=4.4.1->widgetsnbextension~=3.5.0->ipywidgets>=7.0.0->cufflinks) (0.1.2)\n",
      "Requirement already satisfied: testpath in c:\\users\\naled\\anaconda3\\lib\\site-packages (from nbconvert->notebook>=4.4.1->widgetsnbextension~=3.5.0->ipywidgets>=7.0.0->cufflinks) (0.4.4)\n",
      "Requirement already satisfied: entrypoints>=0.2.2 in c:\\users\\naled\\anaconda3\\lib\\site-packages (from nbconvert->notebook>=4.4.1->widgetsnbextension~=3.5.0->ipywidgets>=7.0.0->cufflinks) (0.3)\n",
      "Requirement already satisfied: defusedxml in c:\\users\\naled\\anaconda3\\lib\\site-packages (from nbconvert->notebook>=4.4.1->widgetsnbextension~=3.5.0->ipywidgets>=7.0.0->cufflinks) (0.6.0)\n",
      "Requirement already satisfied: bleach in c:\\users\\naled\\anaconda3\\lib\\site-packages (from nbconvert->notebook>=4.4.1->widgetsnbextension~=3.5.0->ipywidgets>=7.0.0->cufflinks) (3.2.1)\n",
      "Requirement already satisfied: pandocfilters>=1.4.1 in c:\\users\\naled\\anaconda3\\lib\\site-packages (from nbconvert->notebook>=4.4.1->widgetsnbextension~=3.5.0->ipywidgets>=7.0.0->cufflinks) (1.4.3)\n",
      "Requirement already satisfied: mistune<2,>=0.8.1 in c:\\users\\naled\\anaconda3\\lib\\site-packages (from nbconvert->notebook>=4.4.1->widgetsnbextension~=3.5.0->ipywidgets>=7.0.0->cufflinks) (0.8.4)\n",
      "Requirement already satisfied: nbclient<0.6.0,>=0.5.0 in c:\\users\\naled\\anaconda3\\lib\\site-packages (from nbconvert->notebook>=4.4.1->widgetsnbextension~=3.5.0->ipywidgets>=7.0.0->cufflinks) (0.5.1)\n",
      "Requirement already satisfied: cffi>=1.0.0 in c:\\users\\naled\\anaconda3\\lib\\site-packages (from argon2-cffi->notebook>=4.4.1->widgetsnbextension~=3.5.0->ipywidgets>=7.0.0->cufflinks) (1.14.3)\n",
      "Requirement already satisfied: pywinpty>=0.5 in c:\\users\\naled\\anaconda3\\lib\\site-packages (from terminado>=0.8.3->notebook>=4.4.1->widgetsnbextension~=3.5.0->ipywidgets>=7.0.0->cufflinks) (0.5.7)\n",
      "Requirement already satisfied: webencodings in c:\\users\\naled\\anaconda3\\lib\\site-packages (from bleach->nbconvert->notebook>=4.4.1->widgetsnbextension~=3.5.0->ipywidgets>=7.0.0->cufflinks) (0.5.1)\n",
      "Requirement already satisfied: packaging in c:\\users\\naled\\anaconda3\\lib\\site-packages (from bleach->nbconvert->notebook>=4.4.1->widgetsnbextension~=3.5.0->ipywidgets>=7.0.0->cufflinks) (20.4)\n",
      "Requirement already satisfied: nest-asyncio in c:\\users\\naled\\anaconda3\\lib\\site-packages (from nbclient<0.6.0,>=0.5.0->nbconvert->notebook>=4.4.1->widgetsnbextension~=3.5.0->ipywidgets>=7.0.0->cufflinks) (1.4.2)\n",
      "Requirement already satisfied: async-generator in c:\\users\\naled\\anaconda3\\lib\\site-packages (from nbclient<0.6.0,>=0.5.0->nbconvert->notebook>=4.4.1->widgetsnbextension~=3.5.0->ipywidgets>=7.0.0->cufflinks) (1.10)\n",
      "Requirement already satisfied: pycparser in c:\\users\\naled\\anaconda3\\lib\\site-packages (from cffi>=1.0.0->argon2-cffi->notebook>=4.4.1->widgetsnbextension~=3.5.0->ipywidgets>=7.0.0->cufflinks) (2.20)\n",
      "Requirement already satisfied: pyparsing>=2.0.2 in c:\\users\\naled\\anaconda3\\lib\\site-packages (from packaging->bleach->nbconvert->notebook>=4.4.1->widgetsnbextension~=3.5.0->ipywidgets>=7.0.0->cufflinks) (2.4.7)\n"
     ]
    }
   ],
   "source": [
    "!pip install cufflinks"
   ]
  },
  {
   "cell_type": "code",
   "execution_count": 4,
   "metadata": {},
   "outputs": [
    {
     "data": {
      "text/html": [
       "        <script type=\"text/javascript\">\n",
       "        window.PlotlyConfig = {MathJaxConfig: 'local'};\n",
       "        if (window.MathJax) {MathJax.Hub.Config({SVG: {font: \"STIX-Web\"}});}\n",
       "        if (typeof require !== 'undefined') {\n",
       "        require.undef(\"plotly\");\n",
       "        requirejs.config({\n",
       "            paths: {\n",
       "                'plotly': ['https://cdn.plot.ly/plotly-latest.min']\n",
       "            }\n",
       "        });\n",
       "        require(['plotly'], function(Plotly) {\n",
       "            window._Plotly = Plotly;\n",
       "        });\n",
       "        }\n",
       "        </script>\n",
       "        "
      ]
     },
     "metadata": {},
     "output_type": "display_data"
    }
   ],
   "source": [
    "# linear algebra\n",
    "import numpy as np \n",
    "import math\n",
    "\n",
    "# data processing\n",
    "import pandas as pd\n",
    "\n",
    "# data visualization(for EDA)\n",
    "import matplotlib.pyplot as plt\n",
    "import seaborn as sns\n",
    "%matplotlib inline\n",
    "plt.style.use('ggplot')\n",
    "sns.set(color_codes=True)\n",
    "import plotly.express as px\n",
    "import cufflinks as cf\n",
    "cf.go_offline()\n",
    "cf.set_config_file(offline=False, world_readable=True)\n",
    "\n",
    "#ignore warnings\n",
    "import warnings\n",
    "warnings.filterwarnings('ignore')\n",
    "\n",
    "\n",
    "\n",
    "#For lstm model\n",
    "from sklearn.preprocessing import MinMaxScaler\n",
    "from sklearn.metrics import mean_squared_error, mean_absolute_error, mean_absolute_percentage_error\n",
    "from keras.models import Sequential\n",
    "from keras.layers import Dense\n",
    "from keras.layers import LSTM\n",
    "\n",
    "#for Arima model\n",
    "from pmdarima.arima import auto_arima\n",
    "from statsmodels.tsa.stattools import adfuller"
   ]
  },
  {
   "cell_type": "code",
   "execution_count": 5,
   "metadata": {},
   "outputs": [
    {
     "data": {
      "text/html": [
       "<div>\n",
       "<style scoped>\n",
       "    .dataframe tbody tr th:only-of-type {\n",
       "        vertical-align: middle;\n",
       "    }\n",
       "\n",
       "    .dataframe tbody tr th {\n",
       "        vertical-align: top;\n",
       "    }\n",
       "\n",
       "    .dataframe thead th {\n",
       "        text-align: right;\n",
       "    }\n",
       "</style>\n",
       "<table border=\"1\" class=\"dataframe\">\n",
       "  <thead>\n",
       "    <tr style=\"text-align: right;\">\n",
       "      <th></th>\n",
       "      <th>year</th>\n",
       "      <th>month</th>\n",
       "      <th>rainfall</th>\n",
       "    </tr>\n",
       "  </thead>\n",
       "  <tbody>\n",
       "    <tr>\n",
       "      <th>0</th>\n",
       "      <td>1940</td>\n",
       "      <td>January</td>\n",
       "      <td>82.9</td>\n",
       "    </tr>\n",
       "    <tr>\n",
       "      <th>1</th>\n",
       "      <td>1940</td>\n",
       "      <td>February</td>\n",
       "      <td>64.9</td>\n",
       "    </tr>\n",
       "    <tr>\n",
       "      <th>2</th>\n",
       "      <td>1940</td>\n",
       "      <td>March</td>\n",
       "      <td>111.3</td>\n",
       "    </tr>\n",
       "    <tr>\n",
       "      <th>3</th>\n",
       "      <td>1940</td>\n",
       "      <td>April</td>\n",
       "      <td>56.5</td>\n",
       "    </tr>\n",
       "    <tr>\n",
       "      <th>4</th>\n",
       "      <td>1940</td>\n",
       "      <td>May</td>\n",
       "      <td>15.8</td>\n",
       "    </tr>\n",
       "  </tbody>\n",
       "</table>\n",
       "</div>"
      ],
      "text/plain": [
       "   year     month  rainfall\n",
       "0  1940   January      82.9\n",
       "1  1940  February      64.9\n",
       "2  1940     March     111.3\n",
       "3  1940     April      56.5\n",
       "4  1940       May      15.8"
      ]
     },
     "execution_count": 5,
     "metadata": {},
     "output_type": "execute_result"
    }
   ],
   "source": [
    "df=pd.read_csv('Precipitation2.csv')\n",
    "df.head()"
   ]
  },
  {
   "cell_type": "code",
   "execution_count": 6,
   "metadata": {},
   "outputs": [
    {
     "data": {
      "text/html": [
       "<div>\n",
       "<style scoped>\n",
       "    .dataframe tbody tr th:only-of-type {\n",
       "        vertical-align: middle;\n",
       "    }\n",
       "\n",
       "    .dataframe tbody tr th {\n",
       "        vertical-align: top;\n",
       "    }\n",
       "\n",
       "    .dataframe thead th {\n",
       "        text-align: right;\n",
       "    }\n",
       "</style>\n",
       "<table border=\"1\" class=\"dataframe\">\n",
       "  <thead>\n",
       "    <tr style=\"text-align: right;\">\n",
       "      <th></th>\n",
       "      <th>year</th>\n",
       "      <th>month</th>\n",
       "      <th>rainfall</th>\n",
       "    </tr>\n",
       "    <tr>\n",
       "      <th>date</th>\n",
       "      <th></th>\n",
       "      <th></th>\n",
       "      <th></th>\n",
       "    </tr>\n",
       "  </thead>\n",
       "  <tbody>\n",
       "    <tr>\n",
       "      <th>1940-01</th>\n",
       "      <td>1940</td>\n",
       "      <td>January</td>\n",
       "      <td>82.9</td>\n",
       "    </tr>\n",
       "    <tr>\n",
       "      <th>1940-02</th>\n",
       "      <td>1940</td>\n",
       "      <td>February</td>\n",
       "      <td>64.9</td>\n",
       "    </tr>\n",
       "    <tr>\n",
       "      <th>1940-03</th>\n",
       "      <td>1940</td>\n",
       "      <td>March</td>\n",
       "      <td>111.3</td>\n",
       "    </tr>\n",
       "    <tr>\n",
       "      <th>1940-04</th>\n",
       "      <td>1940</td>\n",
       "      <td>April</td>\n",
       "      <td>56.5</td>\n",
       "    </tr>\n",
       "    <tr>\n",
       "      <th>1940-05</th>\n",
       "      <td>1940</td>\n",
       "      <td>May</td>\n",
       "      <td>15.8</td>\n",
       "    </tr>\n",
       "  </tbody>\n",
       "</table>\n",
       "</div>"
      ],
      "text/plain": [
       "         year     month  rainfall\n",
       "date                             \n",
       "1940-01  1940   January      82.9\n",
       "1940-02  1940  February      64.9\n",
       "1940-03  1940     March     111.3\n",
       "1940-04  1940     April      56.5\n",
       "1940-05  1940       May      15.8"
      ]
     },
     "execution_count": 6,
     "metadata": {},
     "output_type": "execute_result"
    }
   ],
   "source": [
    "#creating index column\n",
    "df['date']=pd.to_datetime(df['year'].astype(str)  + df['month'], format='%Y%B').dt.to_period('m')\n",
    "df = df.set_index('date')\n",
    "df = df.rename(columns = {'rainfall':'rainfall',' year':'year'})\n",
    "df.head()"
   ]
  },
  {
   "cell_type": "markdown",
   "metadata": {},
   "source": [
    "# Exploratory Data Analysis"
   ]
  },
  {
   "cell_type": "code",
   "execution_count": 7,
   "metadata": {},
   "outputs": [
    {
     "data": {
      "application/vnd.plotly.v1+json": {
       "config": {
        "plotlyServerURL": "https://plot.ly"
       },
       "data": [
        {
         "hovertemplate": "year=%{x}<br>rainfall=%{y}<extra></extra>",
         "legendgroup": "",
         "line": {
          "color": "Orange",
          "dash": "solid"
         },
         "mode": "lines+markers",
         "name": "",
         "orientation": "v",
         "showlegend": false,
         "type": "scatter",
         "x": [
          1940,
          1941,
          1942,
          1943,
          1944,
          1945,
          1946,
          1947,
          1948,
          1949,
          1950,
          1951,
          1952,
          1953,
          1954,
          1955,
          1956,
          1957,
          1958,
          1959,
          1960,
          1961,
          1962,
          1964,
          1965,
          1966,
          1967,
          1968,
          1969,
          1970,
          1971,
          1972,
          1974,
          1975,
          1976,
          1977,
          1978,
          1979,
          1980,
          1981,
          1982,
          1983,
          1984,
          1985,
          1986,
          1987,
          1988,
          1989,
          1990,
          1991,
          1993,
          1994,
          1995,
          1996,
          1997,
          1998,
          1999,
          2000,
          2001,
          2002,
          2003,
          2004,
          2005,
          2006,
          2007,
          2008,
          2009,
          2010,
          2011,
          2012,
          2013,
          2014,
          2015,
          2016,
          2017,
          2018,
          2019
         ],
         "xaxis": "x",
         "y": [
          77.50909090909092,
          62.936363636363645,
          92.38333333333333,
          75.3,
          63.04545454545455,
          65.10000000000001,
          55.866666666666674,
          118.25,
          75.41,
          86.09,
          47.1,
          26.354545454545452,
          64.78333333333332,
          61.68999999999998,
          72.17272727272729,
          101.66363636363636,
          83.58181818181818,
          73.45,
          95.74,
          88.13333333333333,
          61.34444444444445,
          78.88333333333333,
          50.23333333333334,
          68.48181818181818,
          46.474999999999994,
          67.85833333333333,
          67.06666666666668,
          47.60833333333333,
          77.03333333333335,
          34.75,
          79.47499999999998,
          80.63636363636363,
          38.6875,
          89.05454545454546,
          90.17999999999999,
          74.65,
          61,
          51.958333333333336,
          96.16,
          76.89999999999999,
          46.13636363636363,
          52.99090909090909,
          86.41818181818182,
          80.25454545454544,
          64.91818181818182,
          82.01818181818182,
          67.69166666666668,
          75.10000000000001,
          74.71818181818182,
          192.25,
          34.699999999999996,
          50.239999999999995,
          71.7,
          109.54545454545455,
          58.25,
          48.63636363636363,
          64.60000000000001,
          123.7,
          56.036363636363625,
          46.05833333333334,
          33.44444444444444,
          50.56666666666666,
          58.67999999999999,
          112.52000000000001,
          45.290909090909096,
          57.283333333333324,
          57.57142857142858,
          57.2,
          69.58333333333333,
          84.23636363636363,
          84.00000000000001,
          69.66666666666667,
          58.4,
          57.300000000000004,
          64.31666666666666,
          56.90909090909091,
          53.127272727272725
         ],
         "yaxis": "y"
        }
       ],
       "layout": {
        "legend": {
         "tracegroupgap": 0
        },
        "template": {
         "data": {
          "bar": [
           {
            "error_x": {
             "color": "#2a3f5f"
            },
            "error_y": {
             "color": "#2a3f5f"
            },
            "marker": {
             "line": {
              "color": "#E5ECF6",
              "width": 0.5
             }
            },
            "type": "bar"
           }
          ],
          "barpolar": [
           {
            "marker": {
             "line": {
              "color": "#E5ECF6",
              "width": 0.5
             }
            },
            "type": "barpolar"
           }
          ],
          "carpet": [
           {
            "aaxis": {
             "endlinecolor": "#2a3f5f",
             "gridcolor": "white",
             "linecolor": "white",
             "minorgridcolor": "white",
             "startlinecolor": "#2a3f5f"
            },
            "baxis": {
             "endlinecolor": "#2a3f5f",
             "gridcolor": "white",
             "linecolor": "white",
             "minorgridcolor": "white",
             "startlinecolor": "#2a3f5f"
            },
            "type": "carpet"
           }
          ],
          "choropleth": [
           {
            "colorbar": {
             "outlinewidth": 0,
             "ticks": ""
            },
            "type": "choropleth"
           }
          ],
          "contour": [
           {
            "colorbar": {
             "outlinewidth": 0,
             "ticks": ""
            },
            "colorscale": [
             [
              0,
              "#0d0887"
             ],
             [
              0.1111111111111111,
              "#46039f"
             ],
             [
              0.2222222222222222,
              "#7201a8"
             ],
             [
              0.3333333333333333,
              "#9c179e"
             ],
             [
              0.4444444444444444,
              "#bd3786"
             ],
             [
              0.5555555555555556,
              "#d8576b"
             ],
             [
              0.6666666666666666,
              "#ed7953"
             ],
             [
              0.7777777777777778,
              "#fb9f3a"
             ],
             [
              0.8888888888888888,
              "#fdca26"
             ],
             [
              1,
              "#f0f921"
             ]
            ],
            "type": "contour"
           }
          ],
          "contourcarpet": [
           {
            "colorbar": {
             "outlinewidth": 0,
             "ticks": ""
            },
            "type": "contourcarpet"
           }
          ],
          "heatmap": [
           {
            "colorbar": {
             "outlinewidth": 0,
             "ticks": ""
            },
            "colorscale": [
             [
              0,
              "#0d0887"
             ],
             [
              0.1111111111111111,
              "#46039f"
             ],
             [
              0.2222222222222222,
              "#7201a8"
             ],
             [
              0.3333333333333333,
              "#9c179e"
             ],
             [
              0.4444444444444444,
              "#bd3786"
             ],
             [
              0.5555555555555556,
              "#d8576b"
             ],
             [
              0.6666666666666666,
              "#ed7953"
             ],
             [
              0.7777777777777778,
              "#fb9f3a"
             ],
             [
              0.8888888888888888,
              "#fdca26"
             ],
             [
              1,
              "#f0f921"
             ]
            ],
            "type": "heatmap"
           }
          ],
          "heatmapgl": [
           {
            "colorbar": {
             "outlinewidth": 0,
             "ticks": ""
            },
            "colorscale": [
             [
              0,
              "#0d0887"
             ],
             [
              0.1111111111111111,
              "#46039f"
             ],
             [
              0.2222222222222222,
              "#7201a8"
             ],
             [
              0.3333333333333333,
              "#9c179e"
             ],
             [
              0.4444444444444444,
              "#bd3786"
             ],
             [
              0.5555555555555556,
              "#d8576b"
             ],
             [
              0.6666666666666666,
              "#ed7953"
             ],
             [
              0.7777777777777778,
              "#fb9f3a"
             ],
             [
              0.8888888888888888,
              "#fdca26"
             ],
             [
              1,
              "#f0f921"
             ]
            ],
            "type": "heatmapgl"
           }
          ],
          "histogram": [
           {
            "marker": {
             "colorbar": {
              "outlinewidth": 0,
              "ticks": ""
             }
            },
            "type": "histogram"
           }
          ],
          "histogram2d": [
           {
            "colorbar": {
             "outlinewidth": 0,
             "ticks": ""
            },
            "colorscale": [
             [
              0,
              "#0d0887"
             ],
             [
              0.1111111111111111,
              "#46039f"
             ],
             [
              0.2222222222222222,
              "#7201a8"
             ],
             [
              0.3333333333333333,
              "#9c179e"
             ],
             [
              0.4444444444444444,
              "#bd3786"
             ],
             [
              0.5555555555555556,
              "#d8576b"
             ],
             [
              0.6666666666666666,
              "#ed7953"
             ],
             [
              0.7777777777777778,
              "#fb9f3a"
             ],
             [
              0.8888888888888888,
              "#fdca26"
             ],
             [
              1,
              "#f0f921"
             ]
            ],
            "type": "histogram2d"
           }
          ],
          "histogram2dcontour": [
           {
            "colorbar": {
             "outlinewidth": 0,
             "ticks": ""
            },
            "colorscale": [
             [
              0,
              "#0d0887"
             ],
             [
              0.1111111111111111,
              "#46039f"
             ],
             [
              0.2222222222222222,
              "#7201a8"
             ],
             [
              0.3333333333333333,
              "#9c179e"
             ],
             [
              0.4444444444444444,
              "#bd3786"
             ],
             [
              0.5555555555555556,
              "#d8576b"
             ],
             [
              0.6666666666666666,
              "#ed7953"
             ],
             [
              0.7777777777777778,
              "#fb9f3a"
             ],
             [
              0.8888888888888888,
              "#fdca26"
             ],
             [
              1,
              "#f0f921"
             ]
            ],
            "type": "histogram2dcontour"
           }
          ],
          "mesh3d": [
           {
            "colorbar": {
             "outlinewidth": 0,
             "ticks": ""
            },
            "type": "mesh3d"
           }
          ],
          "parcoords": [
           {
            "line": {
             "colorbar": {
              "outlinewidth": 0,
              "ticks": ""
             }
            },
            "type": "parcoords"
           }
          ],
          "pie": [
           {
            "automargin": true,
            "type": "pie"
           }
          ],
          "scatter": [
           {
            "marker": {
             "colorbar": {
              "outlinewidth": 0,
              "ticks": ""
             }
            },
            "type": "scatter"
           }
          ],
          "scatter3d": [
           {
            "line": {
             "colorbar": {
              "outlinewidth": 0,
              "ticks": ""
             }
            },
            "marker": {
             "colorbar": {
              "outlinewidth": 0,
              "ticks": ""
             }
            },
            "type": "scatter3d"
           }
          ],
          "scattercarpet": [
           {
            "marker": {
             "colorbar": {
              "outlinewidth": 0,
              "ticks": ""
             }
            },
            "type": "scattercarpet"
           }
          ],
          "scattergeo": [
           {
            "marker": {
             "colorbar": {
              "outlinewidth": 0,
              "ticks": ""
             }
            },
            "type": "scattergeo"
           }
          ],
          "scattergl": [
           {
            "marker": {
             "colorbar": {
              "outlinewidth": 0,
              "ticks": ""
             }
            },
            "type": "scattergl"
           }
          ],
          "scattermapbox": [
           {
            "marker": {
             "colorbar": {
              "outlinewidth": 0,
              "ticks": ""
             }
            },
            "type": "scattermapbox"
           }
          ],
          "scatterpolar": [
           {
            "marker": {
             "colorbar": {
              "outlinewidth": 0,
              "ticks": ""
             }
            },
            "type": "scatterpolar"
           }
          ],
          "scatterpolargl": [
           {
            "marker": {
             "colorbar": {
              "outlinewidth": 0,
              "ticks": ""
             }
            },
            "type": "scatterpolargl"
           }
          ],
          "scatterternary": [
           {
            "marker": {
             "colorbar": {
              "outlinewidth": 0,
              "ticks": ""
             }
            },
            "type": "scatterternary"
           }
          ],
          "surface": [
           {
            "colorbar": {
             "outlinewidth": 0,
             "ticks": ""
            },
            "colorscale": [
             [
              0,
              "#0d0887"
             ],
             [
              0.1111111111111111,
              "#46039f"
             ],
             [
              0.2222222222222222,
              "#7201a8"
             ],
             [
              0.3333333333333333,
              "#9c179e"
             ],
             [
              0.4444444444444444,
              "#bd3786"
             ],
             [
              0.5555555555555556,
              "#d8576b"
             ],
             [
              0.6666666666666666,
              "#ed7953"
             ],
             [
              0.7777777777777778,
              "#fb9f3a"
             ],
             [
              0.8888888888888888,
              "#fdca26"
             ],
             [
              1,
              "#f0f921"
             ]
            ],
            "type": "surface"
           }
          ],
          "table": [
           {
            "cells": {
             "fill": {
              "color": "#EBF0F8"
             },
             "line": {
              "color": "white"
             }
            },
            "header": {
             "fill": {
              "color": "#C8D4E3"
             },
             "line": {
              "color": "white"
             }
            },
            "type": "table"
           }
          ]
         },
         "layout": {
          "annotationdefaults": {
           "arrowcolor": "#2a3f5f",
           "arrowhead": 0,
           "arrowwidth": 1
          },
          "autotypenumbers": "strict",
          "coloraxis": {
           "colorbar": {
            "outlinewidth": 0,
            "ticks": ""
           }
          },
          "colorscale": {
           "diverging": [
            [
             0,
             "#8e0152"
            ],
            [
             0.1,
             "#c51b7d"
            ],
            [
             0.2,
             "#de77ae"
            ],
            [
             0.3,
             "#f1b6da"
            ],
            [
             0.4,
             "#fde0ef"
            ],
            [
             0.5,
             "#f7f7f7"
            ],
            [
             0.6,
             "#e6f5d0"
            ],
            [
             0.7,
             "#b8e186"
            ],
            [
             0.8,
             "#7fbc41"
            ],
            [
             0.9,
             "#4d9221"
            ],
            [
             1,
             "#276419"
            ]
           ],
           "sequential": [
            [
             0,
             "#0d0887"
            ],
            [
             0.1111111111111111,
             "#46039f"
            ],
            [
             0.2222222222222222,
             "#7201a8"
            ],
            [
             0.3333333333333333,
             "#9c179e"
            ],
            [
             0.4444444444444444,
             "#bd3786"
            ],
            [
             0.5555555555555556,
             "#d8576b"
            ],
            [
             0.6666666666666666,
             "#ed7953"
            ],
            [
             0.7777777777777778,
             "#fb9f3a"
            ],
            [
             0.8888888888888888,
             "#fdca26"
            ],
            [
             1,
             "#f0f921"
            ]
           ],
           "sequentialminus": [
            [
             0,
             "#0d0887"
            ],
            [
             0.1111111111111111,
             "#46039f"
            ],
            [
             0.2222222222222222,
             "#7201a8"
            ],
            [
             0.3333333333333333,
             "#9c179e"
            ],
            [
             0.4444444444444444,
             "#bd3786"
            ],
            [
             0.5555555555555556,
             "#d8576b"
            ],
            [
             0.6666666666666666,
             "#ed7953"
            ],
            [
             0.7777777777777778,
             "#fb9f3a"
            ],
            [
             0.8888888888888888,
             "#fdca26"
            ],
            [
             1,
             "#f0f921"
            ]
           ]
          },
          "colorway": [
           "#636efa",
           "#EF553B",
           "#00cc96",
           "#ab63fa",
           "#FFA15A",
           "#19d3f3",
           "#FF6692",
           "#B6E880",
           "#FF97FF",
           "#FECB52"
          ],
          "font": {
           "color": "#2a3f5f"
          },
          "geo": {
           "bgcolor": "white",
           "lakecolor": "white",
           "landcolor": "#E5ECF6",
           "showlakes": true,
           "showland": true,
           "subunitcolor": "white"
          },
          "hoverlabel": {
           "align": "left"
          },
          "hovermode": "closest",
          "mapbox": {
           "style": "light"
          },
          "paper_bgcolor": "white",
          "plot_bgcolor": "#E5ECF6",
          "polar": {
           "angularaxis": {
            "gridcolor": "white",
            "linecolor": "white",
            "ticks": ""
           },
           "bgcolor": "#E5ECF6",
           "radialaxis": {
            "gridcolor": "white",
            "linecolor": "white",
            "ticks": ""
           }
          },
          "scene": {
           "xaxis": {
            "backgroundcolor": "#E5ECF6",
            "gridcolor": "white",
            "gridwidth": 2,
            "linecolor": "white",
            "showbackground": true,
            "ticks": "",
            "zerolinecolor": "white"
           },
           "yaxis": {
            "backgroundcolor": "#E5ECF6",
            "gridcolor": "white",
            "gridwidth": 2,
            "linecolor": "white",
            "showbackground": true,
            "ticks": "",
            "zerolinecolor": "white"
           },
           "zaxis": {
            "backgroundcolor": "#E5ECF6",
            "gridcolor": "white",
            "gridwidth": 2,
            "linecolor": "white",
            "showbackground": true,
            "ticks": "",
            "zerolinecolor": "white"
           }
          },
          "shapedefaults": {
           "line": {
            "color": "#2a3f5f"
           }
          },
          "ternary": {
           "aaxis": {
            "gridcolor": "white",
            "linecolor": "white",
            "ticks": ""
           },
           "baxis": {
            "gridcolor": "white",
            "linecolor": "white",
            "ticks": ""
           },
           "bgcolor": "#E5ECF6",
           "caxis": {
            "gridcolor": "white",
            "linecolor": "white",
            "ticks": ""
           }
          },
          "title": {
           "x": 0.05
          },
          "xaxis": {
           "automargin": true,
           "gridcolor": "white",
           "linecolor": "white",
           "ticks": "",
           "title": {
            "standoff": 15
           },
           "zerolinecolor": "white",
           "zerolinewidth": 2
          },
          "yaxis": {
           "automargin": true,
           "gridcolor": "white",
           "linecolor": "white",
           "ticks": "",
           "title": {
            "standoff": 15
           },
           "zerolinecolor": "white",
           "zerolinewidth": 2
          }
         }
        },
        "title": {
         "text": "Annual rainfall in Mbombela  from 1940 to 2019",
         "x": 0.5
        },
        "xaxis": {
         "anchor": "y",
         "domain": [
          0,
          1
         ],
         "title": {
          "text": "year"
         }
        },
        "yaxis": {
         "anchor": "x",
         "domain": [
          0,
          1
         ],
         "title": {
          "text": "rainfall"
         }
        }
       }
      },
      "text/html": [
       "<div>                            <div id=\"bb1d6044-e7b5-472e-b54d-52c58f6a9838\" class=\"plotly-graph-div\" style=\"height:525px; width:100%;\"></div>            <script type=\"text/javascript\">                require([\"plotly\"], function(Plotly) {                    window.PLOTLYENV=window.PLOTLYENV || {};                                    if (document.getElementById(\"bb1d6044-e7b5-472e-b54d-52c58f6a9838\")) {                    Plotly.newPlot(                        \"bb1d6044-e7b5-472e-b54d-52c58f6a9838\",                        [{\"hovertemplate\": \"year=%{x}<br>rainfall=%{y}<extra></extra>\", \"legendgroup\": \"\", \"line\": {\"color\": \"Orange\", \"dash\": \"solid\"}, \"mode\": \"lines+markers\", \"name\": \"\", \"orientation\": \"v\", \"showlegend\": false, \"type\": \"scatter\", \"x\": [1940, 1941, 1942, 1943, 1944, 1945, 1946, 1947, 1948, 1949, 1950, 1951, 1952, 1953, 1954, 1955, 1956, 1957, 1958, 1959, 1960, 1961, 1962, 1964, 1965, 1966, 1967, 1968, 1969, 1970, 1971, 1972, 1974, 1975, 1976, 1977, 1978, 1979, 1980, 1981, 1982, 1983, 1984, 1985, 1986, 1987, 1988, 1989, 1990, 1991, 1993, 1994, 1995, 1996, 1997, 1998, 1999, 2000, 2001, 2002, 2003, 2004, 2005, 2006, 2007, 2008, 2009, 2010, 2011, 2012, 2013, 2014, 2015, 2016, 2017, 2018, 2019], \"xaxis\": \"x\", \"y\": [77.50909090909092, 62.936363636363645, 92.38333333333333, 75.3, 63.04545454545455, 65.10000000000001, 55.866666666666674, 118.25, 75.41, 86.09, 47.1, 26.354545454545452, 64.78333333333332, 61.68999999999998, 72.17272727272729, 101.66363636363636, 83.58181818181818, 73.45, 95.74, 88.13333333333333, 61.34444444444445, 78.88333333333333, 50.23333333333334, 68.48181818181818, 46.474999999999994, 67.85833333333333, 67.06666666666668, 47.60833333333333, 77.03333333333335, 34.75, 79.47499999999998, 80.63636363636363, 38.6875, 89.05454545454546, 90.17999999999999, 74.65, 61.0, 51.958333333333336, 96.16, 76.89999999999999, 46.13636363636363, 52.99090909090909, 86.41818181818182, 80.25454545454544, 64.91818181818182, 82.01818181818182, 67.69166666666668, 75.10000000000001, 74.71818181818182, 192.25, 34.699999999999996, 50.239999999999995, 71.7, 109.54545454545455, 58.25, 48.63636363636363, 64.60000000000001, 123.7, 56.036363636363625, 46.05833333333334, 33.44444444444444, 50.56666666666666, 58.67999999999999, 112.52000000000001, 45.290909090909096, 57.283333333333324, 57.57142857142858, 57.2, 69.58333333333333, 84.23636363636363, 84.00000000000001, 69.66666666666667, 58.4, 57.300000000000004, 64.31666666666666, 56.90909090909091, 53.127272727272725], \"yaxis\": \"y\"}],                        {\"legend\": {\"tracegroupgap\": 0}, \"template\": {\"data\": {\"bar\": [{\"error_x\": {\"color\": \"#2a3f5f\"}, \"error_y\": {\"color\": \"#2a3f5f\"}, \"marker\": {\"line\": {\"color\": \"#E5ECF6\", \"width\": 0.5}}, \"type\": \"bar\"}], \"barpolar\": [{\"marker\": {\"line\": {\"color\": \"#E5ECF6\", \"width\": 0.5}}, \"type\": \"barpolar\"}], \"carpet\": [{\"aaxis\": {\"endlinecolor\": \"#2a3f5f\", \"gridcolor\": \"white\", \"linecolor\": \"white\", \"minorgridcolor\": \"white\", \"startlinecolor\": \"#2a3f5f\"}, \"baxis\": {\"endlinecolor\": \"#2a3f5f\", \"gridcolor\": \"white\", \"linecolor\": \"white\", \"minorgridcolor\": \"white\", \"startlinecolor\": \"#2a3f5f\"}, \"type\": \"carpet\"}], \"choropleth\": [{\"colorbar\": {\"outlinewidth\": 0, \"ticks\": \"\"}, \"type\": \"choropleth\"}], \"contour\": [{\"colorbar\": {\"outlinewidth\": 0, \"ticks\": \"\"}, \"colorscale\": [[0.0, \"#0d0887\"], [0.1111111111111111, \"#46039f\"], [0.2222222222222222, \"#7201a8\"], [0.3333333333333333, \"#9c179e\"], [0.4444444444444444, \"#bd3786\"], [0.5555555555555556, \"#d8576b\"], [0.6666666666666666, \"#ed7953\"], [0.7777777777777778, \"#fb9f3a\"], [0.8888888888888888, \"#fdca26\"], [1.0, \"#f0f921\"]], \"type\": \"contour\"}], \"contourcarpet\": [{\"colorbar\": {\"outlinewidth\": 0, \"ticks\": \"\"}, \"type\": \"contourcarpet\"}], \"heatmap\": [{\"colorbar\": {\"outlinewidth\": 0, \"ticks\": \"\"}, \"colorscale\": [[0.0, \"#0d0887\"], [0.1111111111111111, \"#46039f\"], [0.2222222222222222, \"#7201a8\"], [0.3333333333333333, \"#9c179e\"], [0.4444444444444444, \"#bd3786\"], [0.5555555555555556, \"#d8576b\"], [0.6666666666666666, \"#ed7953\"], [0.7777777777777778, \"#fb9f3a\"], [0.8888888888888888, \"#fdca26\"], [1.0, \"#f0f921\"]], \"type\": \"heatmap\"}], \"heatmapgl\": [{\"colorbar\": {\"outlinewidth\": 0, \"ticks\": \"\"}, \"colorscale\": [[0.0, \"#0d0887\"], [0.1111111111111111, \"#46039f\"], [0.2222222222222222, \"#7201a8\"], [0.3333333333333333, \"#9c179e\"], [0.4444444444444444, \"#bd3786\"], [0.5555555555555556, \"#d8576b\"], [0.6666666666666666, \"#ed7953\"], [0.7777777777777778, \"#fb9f3a\"], [0.8888888888888888, \"#fdca26\"], [1.0, \"#f0f921\"]], \"type\": \"heatmapgl\"}], \"histogram\": [{\"marker\": {\"colorbar\": {\"outlinewidth\": 0, \"ticks\": \"\"}}, \"type\": \"histogram\"}], \"histogram2d\": [{\"colorbar\": {\"outlinewidth\": 0, \"ticks\": \"\"}, \"colorscale\": [[0.0, \"#0d0887\"], [0.1111111111111111, \"#46039f\"], [0.2222222222222222, \"#7201a8\"], [0.3333333333333333, \"#9c179e\"], [0.4444444444444444, \"#bd3786\"], [0.5555555555555556, \"#d8576b\"], [0.6666666666666666, \"#ed7953\"], [0.7777777777777778, \"#fb9f3a\"], [0.8888888888888888, \"#fdca26\"], [1.0, \"#f0f921\"]], \"type\": \"histogram2d\"}], \"histogram2dcontour\": [{\"colorbar\": {\"outlinewidth\": 0, \"ticks\": \"\"}, \"colorscale\": [[0.0, \"#0d0887\"], [0.1111111111111111, \"#46039f\"], [0.2222222222222222, \"#7201a8\"], [0.3333333333333333, \"#9c179e\"], [0.4444444444444444, \"#bd3786\"], [0.5555555555555556, \"#d8576b\"], [0.6666666666666666, \"#ed7953\"], [0.7777777777777778, \"#fb9f3a\"], [0.8888888888888888, \"#fdca26\"], [1.0, \"#f0f921\"]], \"type\": \"histogram2dcontour\"}], \"mesh3d\": [{\"colorbar\": {\"outlinewidth\": 0, \"ticks\": \"\"}, \"type\": \"mesh3d\"}], \"parcoords\": [{\"line\": {\"colorbar\": {\"outlinewidth\": 0, \"ticks\": \"\"}}, \"type\": \"parcoords\"}], \"pie\": [{\"automargin\": true, \"type\": \"pie\"}], \"scatter\": [{\"marker\": {\"colorbar\": {\"outlinewidth\": 0, \"ticks\": \"\"}}, \"type\": \"scatter\"}], \"scatter3d\": [{\"line\": {\"colorbar\": {\"outlinewidth\": 0, \"ticks\": \"\"}}, \"marker\": {\"colorbar\": {\"outlinewidth\": 0, \"ticks\": \"\"}}, \"type\": \"scatter3d\"}], \"scattercarpet\": [{\"marker\": {\"colorbar\": {\"outlinewidth\": 0, \"ticks\": \"\"}}, \"type\": \"scattercarpet\"}], \"scattergeo\": [{\"marker\": {\"colorbar\": {\"outlinewidth\": 0, \"ticks\": \"\"}}, \"type\": \"scattergeo\"}], \"scattergl\": [{\"marker\": {\"colorbar\": {\"outlinewidth\": 0, \"ticks\": \"\"}}, \"type\": \"scattergl\"}], \"scattermapbox\": [{\"marker\": {\"colorbar\": {\"outlinewidth\": 0, \"ticks\": \"\"}}, \"type\": \"scattermapbox\"}], \"scatterpolar\": [{\"marker\": {\"colorbar\": {\"outlinewidth\": 0, \"ticks\": \"\"}}, \"type\": \"scatterpolar\"}], \"scatterpolargl\": [{\"marker\": {\"colorbar\": {\"outlinewidth\": 0, \"ticks\": \"\"}}, \"type\": \"scatterpolargl\"}], \"scatterternary\": [{\"marker\": {\"colorbar\": {\"outlinewidth\": 0, \"ticks\": \"\"}}, \"type\": \"scatterternary\"}], \"surface\": [{\"colorbar\": {\"outlinewidth\": 0, \"ticks\": \"\"}, \"colorscale\": [[0.0, \"#0d0887\"], [0.1111111111111111, \"#46039f\"], [0.2222222222222222, \"#7201a8\"], [0.3333333333333333, \"#9c179e\"], [0.4444444444444444, \"#bd3786\"], [0.5555555555555556, \"#d8576b\"], [0.6666666666666666, \"#ed7953\"], [0.7777777777777778, \"#fb9f3a\"], [0.8888888888888888, \"#fdca26\"], [1.0, \"#f0f921\"]], \"type\": \"surface\"}], \"table\": [{\"cells\": {\"fill\": {\"color\": \"#EBF0F8\"}, \"line\": {\"color\": \"white\"}}, \"header\": {\"fill\": {\"color\": \"#C8D4E3\"}, \"line\": {\"color\": \"white\"}}, \"type\": \"table\"}]}, \"layout\": {\"annotationdefaults\": {\"arrowcolor\": \"#2a3f5f\", \"arrowhead\": 0, \"arrowwidth\": 1}, \"autotypenumbers\": \"strict\", \"coloraxis\": {\"colorbar\": {\"outlinewidth\": 0, \"ticks\": \"\"}}, \"colorscale\": {\"diverging\": [[0, \"#8e0152\"], [0.1, \"#c51b7d\"], [0.2, \"#de77ae\"], [0.3, \"#f1b6da\"], [0.4, \"#fde0ef\"], [0.5, \"#f7f7f7\"], [0.6, \"#e6f5d0\"], [0.7, \"#b8e186\"], [0.8, \"#7fbc41\"], [0.9, \"#4d9221\"], [1, \"#276419\"]], \"sequential\": [[0.0, \"#0d0887\"], [0.1111111111111111, \"#46039f\"], [0.2222222222222222, \"#7201a8\"], [0.3333333333333333, \"#9c179e\"], [0.4444444444444444, \"#bd3786\"], [0.5555555555555556, \"#d8576b\"], [0.6666666666666666, \"#ed7953\"], [0.7777777777777778, \"#fb9f3a\"], [0.8888888888888888, \"#fdca26\"], [1.0, \"#f0f921\"]], \"sequentialminus\": [[0.0, \"#0d0887\"], [0.1111111111111111, \"#46039f\"], [0.2222222222222222, \"#7201a8\"], [0.3333333333333333, \"#9c179e\"], [0.4444444444444444, \"#bd3786\"], [0.5555555555555556, \"#d8576b\"], [0.6666666666666666, \"#ed7953\"], [0.7777777777777778, \"#fb9f3a\"], [0.8888888888888888, \"#fdca26\"], [1.0, \"#f0f921\"]]}, \"colorway\": [\"#636efa\", \"#EF553B\", \"#00cc96\", \"#ab63fa\", \"#FFA15A\", \"#19d3f3\", \"#FF6692\", \"#B6E880\", \"#FF97FF\", \"#FECB52\"], \"font\": {\"color\": \"#2a3f5f\"}, \"geo\": {\"bgcolor\": \"white\", \"lakecolor\": \"white\", \"landcolor\": \"#E5ECF6\", \"showlakes\": true, \"showland\": true, \"subunitcolor\": \"white\"}, \"hoverlabel\": {\"align\": \"left\"}, \"hovermode\": \"closest\", \"mapbox\": {\"style\": \"light\"}, \"paper_bgcolor\": \"white\", \"plot_bgcolor\": \"#E5ECF6\", \"polar\": {\"angularaxis\": {\"gridcolor\": \"white\", \"linecolor\": \"white\", \"ticks\": \"\"}, \"bgcolor\": \"#E5ECF6\", \"radialaxis\": {\"gridcolor\": \"white\", \"linecolor\": \"white\", \"ticks\": \"\"}}, \"scene\": {\"xaxis\": {\"backgroundcolor\": \"#E5ECF6\", \"gridcolor\": \"white\", \"gridwidth\": 2, \"linecolor\": \"white\", \"showbackground\": true, \"ticks\": \"\", \"zerolinecolor\": \"white\"}, \"yaxis\": {\"backgroundcolor\": \"#E5ECF6\", \"gridcolor\": \"white\", \"gridwidth\": 2, \"linecolor\": \"white\", \"showbackground\": true, \"ticks\": \"\", \"zerolinecolor\": \"white\"}, \"zaxis\": {\"backgroundcolor\": \"#E5ECF6\", \"gridcolor\": \"white\", \"gridwidth\": 2, \"linecolor\": \"white\", \"showbackground\": true, \"ticks\": \"\", \"zerolinecolor\": \"white\"}}, \"shapedefaults\": {\"line\": {\"color\": \"#2a3f5f\"}}, \"ternary\": {\"aaxis\": {\"gridcolor\": \"white\", \"linecolor\": \"white\", \"ticks\": \"\"}, \"baxis\": {\"gridcolor\": \"white\", \"linecolor\": \"white\", \"ticks\": \"\"}, \"bgcolor\": \"#E5ECF6\", \"caxis\": {\"gridcolor\": \"white\", \"linecolor\": \"white\", \"ticks\": \"\"}}, \"title\": {\"x\": 0.05}, \"xaxis\": {\"automargin\": true, \"gridcolor\": \"white\", \"linecolor\": \"white\", \"ticks\": \"\", \"title\": {\"standoff\": 15}, \"zerolinecolor\": \"white\", \"zerolinewidth\": 2}, \"yaxis\": {\"automargin\": true, \"gridcolor\": \"white\", \"linecolor\": \"white\", \"ticks\": \"\", \"title\": {\"standoff\": 15}, \"zerolinecolor\": \"white\", \"zerolinewidth\": 2}}}, \"title\": {\"text\": \"Annual rainfall in Mbombela  from 1940 to 2019\", \"x\": 0.5}, \"xaxis\": {\"anchor\": \"y\", \"domain\": [0.0, 1.0], \"title\": {\"text\": \"year\"}}, \"yaxis\": {\"anchor\": \"x\", \"domain\": [0.0, 1.0], \"title\": {\"text\": \"rainfall\"}}},                        {\"responsive\": true}                    ).then(function(){\n",
       "                            \n",
       "var gd = document.getElementById('bb1d6044-e7b5-472e-b54d-52c58f6a9838');\n",
       "var x = new MutationObserver(function (mutations, observer) {{\n",
       "        var display = window.getComputedStyle(gd).display;\n",
       "        if (!display || display === 'none') {{\n",
       "            console.log([gd, 'removed!']);\n",
       "            Plotly.purge(gd);\n",
       "            observer.disconnect();\n",
       "        }}\n",
       "}});\n",
       "\n",
       "// Listen for the removal of the full notebook cells\n",
       "var notebookContainer = gd.closest('#notebook-container');\n",
       "if (notebookContainer) {{\n",
       "    x.observe(notebookContainer, {childList: true});\n",
       "}}\n",
       "\n",
       "// Listen for the clearing of the current output cell\n",
       "var outputEl = gd.closest('.output');\n",
       "if (outputEl) {{\n",
       "    x.observe(outputEl, {childList: true});\n",
       "}}\n",
       "\n",
       "                        })                };                });            </script>        </div>"
      ]
     },
     "metadata": {},
     "output_type": "display_data"
    }
   ],
   "source": [
    "ax=df.groupby([df.year]).mean()['rainfall']\n",
    "fig = px.line(ax, x=ax.index, y='rainfall', title='Annual rainfall in Mbombela  from 1940 to 2019')\n",
    "fig.update_traces(mode='lines+markers',line=dict(color='Orange'))\n",
    "fig.update(layout=dict(title=dict(x=0.5)))\n",
    "fig.show()"
   ]
  },
  {
   "cell_type": "code",
   "execution_count": 8,
   "metadata": {},
   "outputs": [
    {
     "data": {
      "application/vnd.plotly.v1+json": {
       "config": {
        "plotlyServerURL": "https://plot.ly"
       },
       "data": [
        {
         "hovertemplate": "year=%{x}<br>rainfall=%{y}<extra></extra>",
         "legendgroup": "",
         "line": {
          "color": "Black",
          "dash": "solid"
         },
         "mode": "lines+markers",
         "name": "",
         "orientation": "v",
         "showlegend": false,
         "type": "scatter",
         "x": [
          1940,
          1941,
          1942,
          1943,
          1944,
          1945,
          1946,
          1947,
          1948,
          1949,
          1950,
          1951,
          1952,
          1953,
          1954,
          1955,
          1956,
          1957,
          1958,
          1959,
          1960,
          1961,
          1962,
          1964,
          1965,
          1966,
          1967,
          1968,
          1969,
          1970,
          1971,
          1972,
          1974,
          1975,
          1976,
          1977,
          1978,
          1979,
          1980,
          1981,
          1982,
          1983,
          1984,
          1985,
          1986,
          1987,
          1988,
          1989,
          1990,
          1991,
          1993,
          1994,
          1995,
          1996,
          1997,
          1998,
          1999,
          2000,
          2001,
          2002,
          2003,
          2004,
          2005,
          2006,
          2007,
          2008,
          2009,
          2010,
          2011,
          2012,
          2013,
          2014,
          2015,
          2016,
          2017,
          2018,
          2019
         ],
         "xaxis": "x",
         "y": [
          null,
          null,
          null,
          null,
          null,
          null,
          null,
          null,
          null,
          77.18909090909092,
          74.14818181818183,
          70.49000000000001,
          67.73,
          66.369,
          67.2817272727273,
          70.93809090909092,
          73.70960606060608,
          69.22960606060607,
          71.26260606060609,
          71.46693939393941,
          72.89138383838386,
          78.14426262626264,
          76.68926262626265,
          77.36844444444446,
          74.79867171717174,
          71.41814141414145,
          69.76662626262629,
          67.18245959595961,
          65.31179292929295,
          59.97345959595962,
          61.786515151515175,
          61.9618181818182,
          60.80723484848487,
          62.8645075757576,
          67.23500757575759,
          67.91417424242425,
          67.30750757575758,
          67.74250757575759,
          69.65517424242425,
          73.87017424242426,
          70.53631060606061,
          67.77176515151515,
          72.54483333333334,
          71.66483333333333,
          69.13865151515151,
          69.8754696969697,
          70.54463636363637,
          72.85880303030304,
          70.71462121212122,
          82.24962121212123,
          81.10598484848487,
          80.83089393939396,
          79.35907575757578,
          82.28816666666668,
          81.62134848484851,
          78.28316666666669,
          77.97400000000002,
          82.83400000000003,
          80.96581818181821,
          66.34665151515154,
          66.22109595959597,
          66.25376262626264,
          64.95176262626264,
          65.24921717171718,
          63.953308080808085,
          64.81800505050505,
          64.11514790764791,
          57.4651479076479,
          58.819844877344885,
          62.63764790764792,
          67.69320346320347,
          69.60320346320347,
          69.57520346320348,
          64.05320346320347,
          65.95577922077923,
          65.91835497835498,
          65.4739393939394
         ],
         "yaxis": "y"
        }
       ],
       "layout": {
        "legend": {
         "tracegroupgap": 0
        },
        "template": {
         "data": {
          "bar": [
           {
            "error_x": {
             "color": "#2a3f5f"
            },
            "error_y": {
             "color": "#2a3f5f"
            },
            "marker": {
             "line": {
              "color": "#E5ECF6",
              "width": 0.5
             }
            },
            "type": "bar"
           }
          ],
          "barpolar": [
           {
            "marker": {
             "line": {
              "color": "#E5ECF6",
              "width": 0.5
             }
            },
            "type": "barpolar"
           }
          ],
          "carpet": [
           {
            "aaxis": {
             "endlinecolor": "#2a3f5f",
             "gridcolor": "white",
             "linecolor": "white",
             "minorgridcolor": "white",
             "startlinecolor": "#2a3f5f"
            },
            "baxis": {
             "endlinecolor": "#2a3f5f",
             "gridcolor": "white",
             "linecolor": "white",
             "minorgridcolor": "white",
             "startlinecolor": "#2a3f5f"
            },
            "type": "carpet"
           }
          ],
          "choropleth": [
           {
            "colorbar": {
             "outlinewidth": 0,
             "ticks": ""
            },
            "type": "choropleth"
           }
          ],
          "contour": [
           {
            "colorbar": {
             "outlinewidth": 0,
             "ticks": ""
            },
            "colorscale": [
             [
              0,
              "#0d0887"
             ],
             [
              0.1111111111111111,
              "#46039f"
             ],
             [
              0.2222222222222222,
              "#7201a8"
             ],
             [
              0.3333333333333333,
              "#9c179e"
             ],
             [
              0.4444444444444444,
              "#bd3786"
             ],
             [
              0.5555555555555556,
              "#d8576b"
             ],
             [
              0.6666666666666666,
              "#ed7953"
             ],
             [
              0.7777777777777778,
              "#fb9f3a"
             ],
             [
              0.8888888888888888,
              "#fdca26"
             ],
             [
              1,
              "#f0f921"
             ]
            ],
            "type": "contour"
           }
          ],
          "contourcarpet": [
           {
            "colorbar": {
             "outlinewidth": 0,
             "ticks": ""
            },
            "type": "contourcarpet"
           }
          ],
          "heatmap": [
           {
            "colorbar": {
             "outlinewidth": 0,
             "ticks": ""
            },
            "colorscale": [
             [
              0,
              "#0d0887"
             ],
             [
              0.1111111111111111,
              "#46039f"
             ],
             [
              0.2222222222222222,
              "#7201a8"
             ],
             [
              0.3333333333333333,
              "#9c179e"
             ],
             [
              0.4444444444444444,
              "#bd3786"
             ],
             [
              0.5555555555555556,
              "#d8576b"
             ],
             [
              0.6666666666666666,
              "#ed7953"
             ],
             [
              0.7777777777777778,
              "#fb9f3a"
             ],
             [
              0.8888888888888888,
              "#fdca26"
             ],
             [
              1,
              "#f0f921"
             ]
            ],
            "type": "heatmap"
           }
          ],
          "heatmapgl": [
           {
            "colorbar": {
             "outlinewidth": 0,
             "ticks": ""
            },
            "colorscale": [
             [
              0,
              "#0d0887"
             ],
             [
              0.1111111111111111,
              "#46039f"
             ],
             [
              0.2222222222222222,
              "#7201a8"
             ],
             [
              0.3333333333333333,
              "#9c179e"
             ],
             [
              0.4444444444444444,
              "#bd3786"
             ],
             [
              0.5555555555555556,
              "#d8576b"
             ],
             [
              0.6666666666666666,
              "#ed7953"
             ],
             [
              0.7777777777777778,
              "#fb9f3a"
             ],
             [
              0.8888888888888888,
              "#fdca26"
             ],
             [
              1,
              "#f0f921"
             ]
            ],
            "type": "heatmapgl"
           }
          ],
          "histogram": [
           {
            "marker": {
             "colorbar": {
              "outlinewidth": 0,
              "ticks": ""
             }
            },
            "type": "histogram"
           }
          ],
          "histogram2d": [
           {
            "colorbar": {
             "outlinewidth": 0,
             "ticks": ""
            },
            "colorscale": [
             [
              0,
              "#0d0887"
             ],
             [
              0.1111111111111111,
              "#46039f"
             ],
             [
              0.2222222222222222,
              "#7201a8"
             ],
             [
              0.3333333333333333,
              "#9c179e"
             ],
             [
              0.4444444444444444,
              "#bd3786"
             ],
             [
              0.5555555555555556,
              "#d8576b"
             ],
             [
              0.6666666666666666,
              "#ed7953"
             ],
             [
              0.7777777777777778,
              "#fb9f3a"
             ],
             [
              0.8888888888888888,
              "#fdca26"
             ],
             [
              1,
              "#f0f921"
             ]
            ],
            "type": "histogram2d"
           }
          ],
          "histogram2dcontour": [
           {
            "colorbar": {
             "outlinewidth": 0,
             "ticks": ""
            },
            "colorscale": [
             [
              0,
              "#0d0887"
             ],
             [
              0.1111111111111111,
              "#46039f"
             ],
             [
              0.2222222222222222,
              "#7201a8"
             ],
             [
              0.3333333333333333,
              "#9c179e"
             ],
             [
              0.4444444444444444,
              "#bd3786"
             ],
             [
              0.5555555555555556,
              "#d8576b"
             ],
             [
              0.6666666666666666,
              "#ed7953"
             ],
             [
              0.7777777777777778,
              "#fb9f3a"
             ],
             [
              0.8888888888888888,
              "#fdca26"
             ],
             [
              1,
              "#f0f921"
             ]
            ],
            "type": "histogram2dcontour"
           }
          ],
          "mesh3d": [
           {
            "colorbar": {
             "outlinewidth": 0,
             "ticks": ""
            },
            "type": "mesh3d"
           }
          ],
          "parcoords": [
           {
            "line": {
             "colorbar": {
              "outlinewidth": 0,
              "ticks": ""
             }
            },
            "type": "parcoords"
           }
          ],
          "pie": [
           {
            "automargin": true,
            "type": "pie"
           }
          ],
          "scatter": [
           {
            "marker": {
             "colorbar": {
              "outlinewidth": 0,
              "ticks": ""
             }
            },
            "type": "scatter"
           }
          ],
          "scatter3d": [
           {
            "line": {
             "colorbar": {
              "outlinewidth": 0,
              "ticks": ""
             }
            },
            "marker": {
             "colorbar": {
              "outlinewidth": 0,
              "ticks": ""
             }
            },
            "type": "scatter3d"
           }
          ],
          "scattercarpet": [
           {
            "marker": {
             "colorbar": {
              "outlinewidth": 0,
              "ticks": ""
             }
            },
            "type": "scattercarpet"
           }
          ],
          "scattergeo": [
           {
            "marker": {
             "colorbar": {
              "outlinewidth": 0,
              "ticks": ""
             }
            },
            "type": "scattergeo"
           }
          ],
          "scattergl": [
           {
            "marker": {
             "colorbar": {
              "outlinewidth": 0,
              "ticks": ""
             }
            },
            "type": "scattergl"
           }
          ],
          "scattermapbox": [
           {
            "marker": {
             "colorbar": {
              "outlinewidth": 0,
              "ticks": ""
             }
            },
            "type": "scattermapbox"
           }
          ],
          "scatterpolar": [
           {
            "marker": {
             "colorbar": {
              "outlinewidth": 0,
              "ticks": ""
             }
            },
            "type": "scatterpolar"
           }
          ],
          "scatterpolargl": [
           {
            "marker": {
             "colorbar": {
              "outlinewidth": 0,
              "ticks": ""
             }
            },
            "type": "scatterpolargl"
           }
          ],
          "scatterternary": [
           {
            "marker": {
             "colorbar": {
              "outlinewidth": 0,
              "ticks": ""
             }
            },
            "type": "scatterternary"
           }
          ],
          "surface": [
           {
            "colorbar": {
             "outlinewidth": 0,
             "ticks": ""
            },
            "colorscale": [
             [
              0,
              "#0d0887"
             ],
             [
              0.1111111111111111,
              "#46039f"
             ],
             [
              0.2222222222222222,
              "#7201a8"
             ],
             [
              0.3333333333333333,
              "#9c179e"
             ],
             [
              0.4444444444444444,
              "#bd3786"
             ],
             [
              0.5555555555555556,
              "#d8576b"
             ],
             [
              0.6666666666666666,
              "#ed7953"
             ],
             [
              0.7777777777777778,
              "#fb9f3a"
             ],
             [
              0.8888888888888888,
              "#fdca26"
             ],
             [
              1,
              "#f0f921"
             ]
            ],
            "type": "surface"
           }
          ],
          "table": [
           {
            "cells": {
             "fill": {
              "color": "#EBF0F8"
             },
             "line": {
              "color": "white"
             }
            },
            "header": {
             "fill": {
              "color": "#C8D4E3"
             },
             "line": {
              "color": "white"
             }
            },
            "type": "table"
           }
          ]
         },
         "layout": {
          "annotationdefaults": {
           "arrowcolor": "#2a3f5f",
           "arrowhead": 0,
           "arrowwidth": 1
          },
          "autotypenumbers": "strict",
          "coloraxis": {
           "colorbar": {
            "outlinewidth": 0,
            "ticks": ""
           }
          },
          "colorscale": {
           "diverging": [
            [
             0,
             "#8e0152"
            ],
            [
             0.1,
             "#c51b7d"
            ],
            [
             0.2,
             "#de77ae"
            ],
            [
             0.3,
             "#f1b6da"
            ],
            [
             0.4,
             "#fde0ef"
            ],
            [
             0.5,
             "#f7f7f7"
            ],
            [
             0.6,
             "#e6f5d0"
            ],
            [
             0.7,
             "#b8e186"
            ],
            [
             0.8,
             "#7fbc41"
            ],
            [
             0.9,
             "#4d9221"
            ],
            [
             1,
             "#276419"
            ]
           ],
           "sequential": [
            [
             0,
             "#0d0887"
            ],
            [
             0.1111111111111111,
             "#46039f"
            ],
            [
             0.2222222222222222,
             "#7201a8"
            ],
            [
             0.3333333333333333,
             "#9c179e"
            ],
            [
             0.4444444444444444,
             "#bd3786"
            ],
            [
             0.5555555555555556,
             "#d8576b"
            ],
            [
             0.6666666666666666,
             "#ed7953"
            ],
            [
             0.7777777777777778,
             "#fb9f3a"
            ],
            [
             0.8888888888888888,
             "#fdca26"
            ],
            [
             1,
             "#f0f921"
            ]
           ],
           "sequentialminus": [
            [
             0,
             "#0d0887"
            ],
            [
             0.1111111111111111,
             "#46039f"
            ],
            [
             0.2222222222222222,
             "#7201a8"
            ],
            [
             0.3333333333333333,
             "#9c179e"
            ],
            [
             0.4444444444444444,
             "#bd3786"
            ],
            [
             0.5555555555555556,
             "#d8576b"
            ],
            [
             0.6666666666666666,
             "#ed7953"
            ],
            [
             0.7777777777777778,
             "#fb9f3a"
            ],
            [
             0.8888888888888888,
             "#fdca26"
            ],
            [
             1,
             "#f0f921"
            ]
           ]
          },
          "colorway": [
           "#636efa",
           "#EF553B",
           "#00cc96",
           "#ab63fa",
           "#FFA15A",
           "#19d3f3",
           "#FF6692",
           "#B6E880",
           "#FF97FF",
           "#FECB52"
          ],
          "font": {
           "color": "#2a3f5f"
          },
          "geo": {
           "bgcolor": "white",
           "lakecolor": "white",
           "landcolor": "#E5ECF6",
           "showlakes": true,
           "showland": true,
           "subunitcolor": "white"
          },
          "hoverlabel": {
           "align": "left"
          },
          "hovermode": "closest",
          "mapbox": {
           "style": "light"
          },
          "paper_bgcolor": "white",
          "plot_bgcolor": "#E5ECF6",
          "polar": {
           "angularaxis": {
            "gridcolor": "white",
            "linecolor": "white",
            "ticks": ""
           },
           "bgcolor": "#E5ECF6",
           "radialaxis": {
            "gridcolor": "white",
            "linecolor": "white",
            "ticks": ""
           }
          },
          "scene": {
           "xaxis": {
            "backgroundcolor": "#E5ECF6",
            "gridcolor": "white",
            "gridwidth": 2,
            "linecolor": "white",
            "showbackground": true,
            "ticks": "",
            "zerolinecolor": "white"
           },
           "yaxis": {
            "backgroundcolor": "#E5ECF6",
            "gridcolor": "white",
            "gridwidth": 2,
            "linecolor": "white",
            "showbackground": true,
            "ticks": "",
            "zerolinecolor": "white"
           },
           "zaxis": {
            "backgroundcolor": "#E5ECF6",
            "gridcolor": "white",
            "gridwidth": 2,
            "linecolor": "white",
            "showbackground": true,
            "ticks": "",
            "zerolinecolor": "white"
           }
          },
          "shapedefaults": {
           "line": {
            "color": "#2a3f5f"
           }
          },
          "ternary": {
           "aaxis": {
            "gridcolor": "white",
            "linecolor": "white",
            "ticks": ""
           },
           "baxis": {
            "gridcolor": "white",
            "linecolor": "white",
            "ticks": ""
           },
           "bgcolor": "#E5ECF6",
           "caxis": {
            "gridcolor": "white",
            "linecolor": "white",
            "ticks": ""
           }
          },
          "title": {
           "x": 0.05
          },
          "xaxis": {
           "automargin": true,
           "gridcolor": "white",
           "linecolor": "white",
           "ticks": "",
           "title": {
            "standoff": 15
           },
           "zerolinecolor": "white",
           "zerolinewidth": 2
          },
          "yaxis": {
           "automargin": true,
           "gridcolor": "white",
           "linecolor": "white",
           "ticks": "",
           "title": {
            "standoff": 15
           },
           "zerolinecolor": "white",
           "zerolinewidth": 2
          }
         }
        },
        "title": {
         "text": "Rolling average of 10 years of Rainfall",
         "x": 0.5
        },
        "xaxis": {
         "anchor": "y",
         "domain": [
          0,
          1
         ],
         "title": {
          "text": "year"
         }
        },
        "yaxis": {
         "anchor": "x",
         "domain": [
          0,
          1
         ],
         "title": {
          "text": "rainfall"
         }
        }
       }
      },
      "text/html": [
       "<div>                            <div id=\"344bcd34-ba56-4bd4-8ccc-d94d76832c7c\" class=\"plotly-graph-div\" style=\"height:525px; width:100%;\"></div>            <script type=\"text/javascript\">                require([\"plotly\"], function(Plotly) {                    window.PLOTLYENV=window.PLOTLYENV || {};                                    if (document.getElementById(\"344bcd34-ba56-4bd4-8ccc-d94d76832c7c\")) {                    Plotly.newPlot(                        \"344bcd34-ba56-4bd4-8ccc-d94d76832c7c\",                        [{\"hovertemplate\": \"year=%{x}<br>rainfall=%{y}<extra></extra>\", \"legendgroup\": \"\", \"line\": {\"color\": \"Black\", \"dash\": \"solid\"}, \"mode\": \"lines+markers\", \"name\": \"\", \"orientation\": \"v\", \"showlegend\": false, \"type\": \"scatter\", \"x\": [1940, 1941, 1942, 1943, 1944, 1945, 1946, 1947, 1948, 1949, 1950, 1951, 1952, 1953, 1954, 1955, 1956, 1957, 1958, 1959, 1960, 1961, 1962, 1964, 1965, 1966, 1967, 1968, 1969, 1970, 1971, 1972, 1974, 1975, 1976, 1977, 1978, 1979, 1980, 1981, 1982, 1983, 1984, 1985, 1986, 1987, 1988, 1989, 1990, 1991, 1993, 1994, 1995, 1996, 1997, 1998, 1999, 2000, 2001, 2002, 2003, 2004, 2005, 2006, 2007, 2008, 2009, 2010, 2011, 2012, 2013, 2014, 2015, 2016, 2017, 2018, 2019], \"xaxis\": \"x\", \"y\": [null, null, null, null, null, null, null, null, null, 77.18909090909092, 74.14818181818183, 70.49000000000001, 67.73, 66.369, 67.2817272727273, 70.93809090909092, 73.70960606060608, 69.22960606060607, 71.26260606060609, 71.46693939393941, 72.89138383838386, 78.14426262626264, 76.68926262626265, 77.36844444444446, 74.79867171717174, 71.41814141414145, 69.76662626262629, 67.18245959595961, 65.31179292929295, 59.97345959595962, 61.786515151515175, 61.9618181818182, 60.80723484848487, 62.8645075757576, 67.23500757575759, 67.91417424242425, 67.30750757575758, 67.74250757575759, 69.65517424242425, 73.87017424242426, 70.53631060606061, 67.77176515151515, 72.54483333333334, 71.66483333333333, 69.13865151515151, 69.8754696969697, 70.54463636363637, 72.85880303030304, 70.71462121212122, 82.24962121212123, 81.10598484848487, 80.83089393939396, 79.35907575757578, 82.28816666666668, 81.62134848484851, 78.28316666666669, 77.97400000000002, 82.83400000000003, 80.96581818181821, 66.34665151515154, 66.22109595959597, 66.25376262626264, 64.95176262626264, 65.24921717171718, 63.953308080808085, 64.81800505050505, 64.11514790764791, 57.4651479076479, 58.819844877344885, 62.63764790764792, 67.69320346320347, 69.60320346320347, 69.57520346320348, 64.05320346320347, 65.95577922077923, 65.91835497835498, 65.4739393939394], \"yaxis\": \"y\"}],                        {\"legend\": {\"tracegroupgap\": 0}, \"template\": {\"data\": {\"bar\": [{\"error_x\": {\"color\": \"#2a3f5f\"}, \"error_y\": {\"color\": \"#2a3f5f\"}, \"marker\": {\"line\": {\"color\": \"#E5ECF6\", \"width\": 0.5}}, \"type\": \"bar\"}], \"barpolar\": [{\"marker\": {\"line\": {\"color\": \"#E5ECF6\", \"width\": 0.5}}, \"type\": \"barpolar\"}], \"carpet\": [{\"aaxis\": {\"endlinecolor\": \"#2a3f5f\", \"gridcolor\": \"white\", \"linecolor\": \"white\", \"minorgridcolor\": \"white\", \"startlinecolor\": \"#2a3f5f\"}, \"baxis\": {\"endlinecolor\": \"#2a3f5f\", \"gridcolor\": \"white\", \"linecolor\": \"white\", \"minorgridcolor\": \"white\", \"startlinecolor\": \"#2a3f5f\"}, \"type\": \"carpet\"}], \"choropleth\": [{\"colorbar\": {\"outlinewidth\": 0, \"ticks\": \"\"}, \"type\": \"choropleth\"}], \"contour\": [{\"colorbar\": {\"outlinewidth\": 0, \"ticks\": \"\"}, \"colorscale\": [[0.0, \"#0d0887\"], [0.1111111111111111, \"#46039f\"], [0.2222222222222222, \"#7201a8\"], [0.3333333333333333, \"#9c179e\"], [0.4444444444444444, \"#bd3786\"], [0.5555555555555556, \"#d8576b\"], [0.6666666666666666, \"#ed7953\"], [0.7777777777777778, \"#fb9f3a\"], [0.8888888888888888, \"#fdca26\"], [1.0, \"#f0f921\"]], \"type\": \"contour\"}], \"contourcarpet\": [{\"colorbar\": {\"outlinewidth\": 0, \"ticks\": \"\"}, \"type\": \"contourcarpet\"}], \"heatmap\": [{\"colorbar\": {\"outlinewidth\": 0, \"ticks\": \"\"}, \"colorscale\": [[0.0, \"#0d0887\"], [0.1111111111111111, \"#46039f\"], [0.2222222222222222, \"#7201a8\"], [0.3333333333333333, \"#9c179e\"], [0.4444444444444444, \"#bd3786\"], [0.5555555555555556, \"#d8576b\"], [0.6666666666666666, \"#ed7953\"], [0.7777777777777778, \"#fb9f3a\"], [0.8888888888888888, \"#fdca26\"], [1.0, \"#f0f921\"]], \"type\": \"heatmap\"}], \"heatmapgl\": [{\"colorbar\": {\"outlinewidth\": 0, \"ticks\": \"\"}, \"colorscale\": [[0.0, \"#0d0887\"], [0.1111111111111111, \"#46039f\"], [0.2222222222222222, \"#7201a8\"], [0.3333333333333333, \"#9c179e\"], [0.4444444444444444, \"#bd3786\"], [0.5555555555555556, \"#d8576b\"], [0.6666666666666666, \"#ed7953\"], [0.7777777777777778, \"#fb9f3a\"], [0.8888888888888888, \"#fdca26\"], [1.0, \"#f0f921\"]], \"type\": \"heatmapgl\"}], \"histogram\": [{\"marker\": {\"colorbar\": {\"outlinewidth\": 0, \"ticks\": \"\"}}, \"type\": \"histogram\"}], \"histogram2d\": [{\"colorbar\": {\"outlinewidth\": 0, \"ticks\": \"\"}, \"colorscale\": [[0.0, \"#0d0887\"], [0.1111111111111111, \"#46039f\"], [0.2222222222222222, \"#7201a8\"], [0.3333333333333333, \"#9c179e\"], [0.4444444444444444, \"#bd3786\"], [0.5555555555555556, \"#d8576b\"], [0.6666666666666666, \"#ed7953\"], [0.7777777777777778, \"#fb9f3a\"], [0.8888888888888888, \"#fdca26\"], [1.0, \"#f0f921\"]], \"type\": \"histogram2d\"}], \"histogram2dcontour\": [{\"colorbar\": {\"outlinewidth\": 0, \"ticks\": \"\"}, \"colorscale\": [[0.0, \"#0d0887\"], [0.1111111111111111, \"#46039f\"], [0.2222222222222222, \"#7201a8\"], [0.3333333333333333, \"#9c179e\"], [0.4444444444444444, \"#bd3786\"], [0.5555555555555556, \"#d8576b\"], [0.6666666666666666, \"#ed7953\"], [0.7777777777777778, \"#fb9f3a\"], [0.8888888888888888, \"#fdca26\"], [1.0, \"#f0f921\"]], \"type\": \"histogram2dcontour\"}], \"mesh3d\": [{\"colorbar\": {\"outlinewidth\": 0, \"ticks\": \"\"}, \"type\": \"mesh3d\"}], \"parcoords\": [{\"line\": {\"colorbar\": {\"outlinewidth\": 0, \"ticks\": \"\"}}, \"type\": \"parcoords\"}], \"pie\": [{\"automargin\": true, \"type\": \"pie\"}], \"scatter\": [{\"marker\": {\"colorbar\": {\"outlinewidth\": 0, \"ticks\": \"\"}}, \"type\": \"scatter\"}], \"scatter3d\": [{\"line\": {\"colorbar\": {\"outlinewidth\": 0, \"ticks\": \"\"}}, \"marker\": {\"colorbar\": {\"outlinewidth\": 0, \"ticks\": \"\"}}, \"type\": \"scatter3d\"}], \"scattercarpet\": [{\"marker\": {\"colorbar\": {\"outlinewidth\": 0, \"ticks\": \"\"}}, \"type\": \"scattercarpet\"}], \"scattergeo\": [{\"marker\": {\"colorbar\": {\"outlinewidth\": 0, \"ticks\": \"\"}}, \"type\": \"scattergeo\"}], \"scattergl\": [{\"marker\": {\"colorbar\": {\"outlinewidth\": 0, \"ticks\": \"\"}}, \"type\": \"scattergl\"}], \"scattermapbox\": [{\"marker\": {\"colorbar\": {\"outlinewidth\": 0, \"ticks\": \"\"}}, \"type\": \"scattermapbox\"}], \"scatterpolar\": [{\"marker\": {\"colorbar\": {\"outlinewidth\": 0, \"ticks\": \"\"}}, \"type\": \"scatterpolar\"}], \"scatterpolargl\": [{\"marker\": {\"colorbar\": {\"outlinewidth\": 0, \"ticks\": \"\"}}, \"type\": \"scatterpolargl\"}], \"scatterternary\": [{\"marker\": {\"colorbar\": {\"outlinewidth\": 0, \"ticks\": \"\"}}, \"type\": \"scatterternary\"}], \"surface\": [{\"colorbar\": {\"outlinewidth\": 0, \"ticks\": \"\"}, \"colorscale\": [[0.0, \"#0d0887\"], [0.1111111111111111, \"#46039f\"], [0.2222222222222222, \"#7201a8\"], [0.3333333333333333, \"#9c179e\"], [0.4444444444444444, \"#bd3786\"], [0.5555555555555556, \"#d8576b\"], [0.6666666666666666, \"#ed7953\"], [0.7777777777777778, \"#fb9f3a\"], [0.8888888888888888, \"#fdca26\"], [1.0, \"#f0f921\"]], \"type\": \"surface\"}], \"table\": [{\"cells\": {\"fill\": {\"color\": \"#EBF0F8\"}, \"line\": {\"color\": \"white\"}}, \"header\": {\"fill\": {\"color\": \"#C8D4E3\"}, \"line\": {\"color\": \"white\"}}, \"type\": \"table\"}]}, \"layout\": {\"annotationdefaults\": {\"arrowcolor\": \"#2a3f5f\", \"arrowhead\": 0, \"arrowwidth\": 1}, \"autotypenumbers\": \"strict\", \"coloraxis\": {\"colorbar\": {\"outlinewidth\": 0, \"ticks\": \"\"}}, \"colorscale\": {\"diverging\": [[0, \"#8e0152\"], [0.1, \"#c51b7d\"], [0.2, \"#de77ae\"], [0.3, \"#f1b6da\"], [0.4, \"#fde0ef\"], [0.5, \"#f7f7f7\"], [0.6, \"#e6f5d0\"], [0.7, \"#b8e186\"], [0.8, \"#7fbc41\"], [0.9, \"#4d9221\"], [1, \"#276419\"]], \"sequential\": [[0.0, \"#0d0887\"], [0.1111111111111111, \"#46039f\"], [0.2222222222222222, \"#7201a8\"], [0.3333333333333333, \"#9c179e\"], [0.4444444444444444, \"#bd3786\"], [0.5555555555555556, \"#d8576b\"], [0.6666666666666666, \"#ed7953\"], [0.7777777777777778, \"#fb9f3a\"], [0.8888888888888888, \"#fdca26\"], [1.0, \"#f0f921\"]], \"sequentialminus\": [[0.0, \"#0d0887\"], [0.1111111111111111, \"#46039f\"], [0.2222222222222222, \"#7201a8\"], [0.3333333333333333, \"#9c179e\"], [0.4444444444444444, \"#bd3786\"], [0.5555555555555556, \"#d8576b\"], [0.6666666666666666, \"#ed7953\"], [0.7777777777777778, \"#fb9f3a\"], [0.8888888888888888, \"#fdca26\"], [1.0, \"#f0f921\"]]}, \"colorway\": [\"#636efa\", \"#EF553B\", \"#00cc96\", \"#ab63fa\", \"#FFA15A\", \"#19d3f3\", \"#FF6692\", \"#B6E880\", \"#FF97FF\", \"#FECB52\"], \"font\": {\"color\": \"#2a3f5f\"}, \"geo\": {\"bgcolor\": \"white\", \"lakecolor\": \"white\", \"landcolor\": \"#E5ECF6\", \"showlakes\": true, \"showland\": true, \"subunitcolor\": \"white\"}, \"hoverlabel\": {\"align\": \"left\"}, \"hovermode\": \"closest\", \"mapbox\": {\"style\": \"light\"}, \"paper_bgcolor\": \"white\", \"plot_bgcolor\": \"#E5ECF6\", \"polar\": {\"angularaxis\": {\"gridcolor\": \"white\", \"linecolor\": \"white\", \"ticks\": \"\"}, \"bgcolor\": \"#E5ECF6\", \"radialaxis\": {\"gridcolor\": \"white\", \"linecolor\": \"white\", \"ticks\": \"\"}}, \"scene\": {\"xaxis\": {\"backgroundcolor\": \"#E5ECF6\", \"gridcolor\": \"white\", \"gridwidth\": 2, \"linecolor\": \"white\", \"showbackground\": true, \"ticks\": \"\", \"zerolinecolor\": \"white\"}, \"yaxis\": {\"backgroundcolor\": \"#E5ECF6\", \"gridcolor\": \"white\", \"gridwidth\": 2, \"linecolor\": \"white\", \"showbackground\": true, \"ticks\": \"\", \"zerolinecolor\": \"white\"}, \"zaxis\": {\"backgroundcolor\": \"#E5ECF6\", \"gridcolor\": \"white\", \"gridwidth\": 2, \"linecolor\": \"white\", \"showbackground\": true, \"ticks\": \"\", \"zerolinecolor\": \"white\"}}, \"shapedefaults\": {\"line\": {\"color\": \"#2a3f5f\"}}, \"ternary\": {\"aaxis\": {\"gridcolor\": \"white\", \"linecolor\": \"white\", \"ticks\": \"\"}, \"baxis\": {\"gridcolor\": \"white\", \"linecolor\": \"white\", \"ticks\": \"\"}, \"bgcolor\": \"#E5ECF6\", \"caxis\": {\"gridcolor\": \"white\", \"linecolor\": \"white\", \"ticks\": \"\"}}, \"title\": {\"x\": 0.05}, \"xaxis\": {\"automargin\": true, \"gridcolor\": \"white\", \"linecolor\": \"white\", \"ticks\": \"\", \"title\": {\"standoff\": 15}, \"zerolinecolor\": \"white\", \"zerolinewidth\": 2}, \"yaxis\": {\"automargin\": true, \"gridcolor\": \"white\", \"linecolor\": \"white\", \"ticks\": \"\", \"title\": {\"standoff\": 15}, \"zerolinecolor\": \"white\", \"zerolinewidth\": 2}}}, \"title\": {\"text\": \"Rolling average of 10 years of Rainfall\", \"x\": 0.5}, \"xaxis\": {\"anchor\": \"y\", \"domain\": [0.0, 1.0], \"title\": {\"text\": \"year\"}}, \"yaxis\": {\"anchor\": \"x\", \"domain\": [0.0, 1.0], \"title\": {\"text\": \"rainfall\"}}},                        {\"responsive\": true}                    ).then(function(){\n",
       "                            \n",
       "var gd = document.getElementById('344bcd34-ba56-4bd4-8ccc-d94d76832c7c');\n",
       "var x = new MutationObserver(function (mutations, observer) {{\n",
       "        var display = window.getComputedStyle(gd).display;\n",
       "        if (!display || display === 'none') {{\n",
       "            console.log([gd, 'removed!']);\n",
       "            Plotly.purge(gd);\n",
       "            observer.disconnect();\n",
       "        }}\n",
       "}});\n",
       "\n",
       "// Listen for the removal of the full notebook cells\n",
       "var notebookContainer = gd.closest('#notebook-container');\n",
       "if (notebookContainer) {{\n",
       "    x.observe(notebookContainer, {childList: true});\n",
       "}}\n",
       "\n",
       "// Listen for the clearing of the current output cell\n",
       "var outputEl = gd.closest('.output');\n",
       "if (outputEl) {{\n",
       "    x.observe(outputEl, {childList: true});\n",
       "}}\n",
       "\n",
       "                        })                };                });            </script>        </div>"
      ]
     },
     "metadata": {},
     "output_type": "display_data"
    }
   ],
   "source": [
    "ax=df.groupby('year').mean()['rainfall'].rolling(10).mean()\n",
    "fig = px.line(ax, x=ax.index, y='rainfall', title='Rolling average of 10 years of Rainfall')\n",
    "fig.update_traces(mode='lines+markers',line=dict(color='Black'))\n",
    "fig.update(layout=dict(title=dict(x=0.5)))\n",
    "fig.show()"
   ]
  },
  {
   "cell_type": "code",
   "execution_count": 9,
   "metadata": {},
   "outputs": [
    {
     "data": {
      "application/vnd.plotly.v1+json": {
       "config": {
        "plotlyServerURL": "https://plot.ly"
       },
       "data": [
        {
         "alignmentgroup": "True",
         "hovertemplate": "month=%{x}<br>rainfall=%{y}<extra></extra>",
         "legendgroup": "",
         "marker": {
          "color": "#1F77B4"
         },
         "name": "",
         "offsetgroup": "",
         "orientation": "v",
         "showlegend": false,
         "textposition": "auto",
         "type": "bar",
         "x": [
          "April",
          "August",
          "December",
          "February",
          "January",
          "July",
          "June",
          "March",
          "May",
          "November",
          "October",
          "September"
         ],
         "xaxis": "x",
         "y": [
          54.89154929577465,
          12.07230769230769,
          130.5319444444444,
          112.84366197183098,
          131.11666666666665,
          12.428301886792458,
          11.33269230769231,
          99.6549295774648,
          17.180303030303033,
          105.24571428571431,
          65.62054794520547,
          29.11884057971014
         ],
         "yaxis": "y"
        }
       ],
       "layout": {
        "barmode": "relative",
        "legend": {
         "tracegroupgap": 0
        },
        "template": {
         "data": {
          "bar": [
           {
            "error_x": {
             "color": "#2a3f5f"
            },
            "error_y": {
             "color": "#2a3f5f"
            },
            "marker": {
             "line": {
              "color": "#E5ECF6",
              "width": 0.5
             }
            },
            "type": "bar"
           }
          ],
          "barpolar": [
           {
            "marker": {
             "line": {
              "color": "#E5ECF6",
              "width": 0.5
             }
            },
            "type": "barpolar"
           }
          ],
          "carpet": [
           {
            "aaxis": {
             "endlinecolor": "#2a3f5f",
             "gridcolor": "white",
             "linecolor": "white",
             "minorgridcolor": "white",
             "startlinecolor": "#2a3f5f"
            },
            "baxis": {
             "endlinecolor": "#2a3f5f",
             "gridcolor": "white",
             "linecolor": "white",
             "minorgridcolor": "white",
             "startlinecolor": "#2a3f5f"
            },
            "type": "carpet"
           }
          ],
          "choropleth": [
           {
            "colorbar": {
             "outlinewidth": 0,
             "ticks": ""
            },
            "type": "choropleth"
           }
          ],
          "contour": [
           {
            "colorbar": {
             "outlinewidth": 0,
             "ticks": ""
            },
            "colorscale": [
             [
              0,
              "#0d0887"
             ],
             [
              0.1111111111111111,
              "#46039f"
             ],
             [
              0.2222222222222222,
              "#7201a8"
             ],
             [
              0.3333333333333333,
              "#9c179e"
             ],
             [
              0.4444444444444444,
              "#bd3786"
             ],
             [
              0.5555555555555556,
              "#d8576b"
             ],
             [
              0.6666666666666666,
              "#ed7953"
             ],
             [
              0.7777777777777778,
              "#fb9f3a"
             ],
             [
              0.8888888888888888,
              "#fdca26"
             ],
             [
              1,
              "#f0f921"
             ]
            ],
            "type": "contour"
           }
          ],
          "contourcarpet": [
           {
            "colorbar": {
             "outlinewidth": 0,
             "ticks": ""
            },
            "type": "contourcarpet"
           }
          ],
          "heatmap": [
           {
            "colorbar": {
             "outlinewidth": 0,
             "ticks": ""
            },
            "colorscale": [
             [
              0,
              "#0d0887"
             ],
             [
              0.1111111111111111,
              "#46039f"
             ],
             [
              0.2222222222222222,
              "#7201a8"
             ],
             [
              0.3333333333333333,
              "#9c179e"
             ],
             [
              0.4444444444444444,
              "#bd3786"
             ],
             [
              0.5555555555555556,
              "#d8576b"
             ],
             [
              0.6666666666666666,
              "#ed7953"
             ],
             [
              0.7777777777777778,
              "#fb9f3a"
             ],
             [
              0.8888888888888888,
              "#fdca26"
             ],
             [
              1,
              "#f0f921"
             ]
            ],
            "type": "heatmap"
           }
          ],
          "heatmapgl": [
           {
            "colorbar": {
             "outlinewidth": 0,
             "ticks": ""
            },
            "colorscale": [
             [
              0,
              "#0d0887"
             ],
             [
              0.1111111111111111,
              "#46039f"
             ],
             [
              0.2222222222222222,
              "#7201a8"
             ],
             [
              0.3333333333333333,
              "#9c179e"
             ],
             [
              0.4444444444444444,
              "#bd3786"
             ],
             [
              0.5555555555555556,
              "#d8576b"
             ],
             [
              0.6666666666666666,
              "#ed7953"
             ],
             [
              0.7777777777777778,
              "#fb9f3a"
             ],
             [
              0.8888888888888888,
              "#fdca26"
             ],
             [
              1,
              "#f0f921"
             ]
            ],
            "type": "heatmapgl"
           }
          ],
          "histogram": [
           {
            "marker": {
             "colorbar": {
              "outlinewidth": 0,
              "ticks": ""
             }
            },
            "type": "histogram"
           }
          ],
          "histogram2d": [
           {
            "colorbar": {
             "outlinewidth": 0,
             "ticks": ""
            },
            "colorscale": [
             [
              0,
              "#0d0887"
             ],
             [
              0.1111111111111111,
              "#46039f"
             ],
             [
              0.2222222222222222,
              "#7201a8"
             ],
             [
              0.3333333333333333,
              "#9c179e"
             ],
             [
              0.4444444444444444,
              "#bd3786"
             ],
             [
              0.5555555555555556,
              "#d8576b"
             ],
             [
              0.6666666666666666,
              "#ed7953"
             ],
             [
              0.7777777777777778,
              "#fb9f3a"
             ],
             [
              0.8888888888888888,
              "#fdca26"
             ],
             [
              1,
              "#f0f921"
             ]
            ],
            "type": "histogram2d"
           }
          ],
          "histogram2dcontour": [
           {
            "colorbar": {
             "outlinewidth": 0,
             "ticks": ""
            },
            "colorscale": [
             [
              0,
              "#0d0887"
             ],
             [
              0.1111111111111111,
              "#46039f"
             ],
             [
              0.2222222222222222,
              "#7201a8"
             ],
             [
              0.3333333333333333,
              "#9c179e"
             ],
             [
              0.4444444444444444,
              "#bd3786"
             ],
             [
              0.5555555555555556,
              "#d8576b"
             ],
             [
              0.6666666666666666,
              "#ed7953"
             ],
             [
              0.7777777777777778,
              "#fb9f3a"
             ],
             [
              0.8888888888888888,
              "#fdca26"
             ],
             [
              1,
              "#f0f921"
             ]
            ],
            "type": "histogram2dcontour"
           }
          ],
          "mesh3d": [
           {
            "colorbar": {
             "outlinewidth": 0,
             "ticks": ""
            },
            "type": "mesh3d"
           }
          ],
          "parcoords": [
           {
            "line": {
             "colorbar": {
              "outlinewidth": 0,
              "ticks": ""
             }
            },
            "type": "parcoords"
           }
          ],
          "pie": [
           {
            "automargin": true,
            "type": "pie"
           }
          ],
          "scatter": [
           {
            "marker": {
             "colorbar": {
              "outlinewidth": 0,
              "ticks": ""
             }
            },
            "type": "scatter"
           }
          ],
          "scatter3d": [
           {
            "line": {
             "colorbar": {
              "outlinewidth": 0,
              "ticks": ""
             }
            },
            "marker": {
             "colorbar": {
              "outlinewidth": 0,
              "ticks": ""
             }
            },
            "type": "scatter3d"
           }
          ],
          "scattercarpet": [
           {
            "marker": {
             "colorbar": {
              "outlinewidth": 0,
              "ticks": ""
             }
            },
            "type": "scattercarpet"
           }
          ],
          "scattergeo": [
           {
            "marker": {
             "colorbar": {
              "outlinewidth": 0,
              "ticks": ""
             }
            },
            "type": "scattergeo"
           }
          ],
          "scattergl": [
           {
            "marker": {
             "colorbar": {
              "outlinewidth": 0,
              "ticks": ""
             }
            },
            "type": "scattergl"
           }
          ],
          "scattermapbox": [
           {
            "marker": {
             "colorbar": {
              "outlinewidth": 0,
              "ticks": ""
             }
            },
            "type": "scattermapbox"
           }
          ],
          "scatterpolar": [
           {
            "marker": {
             "colorbar": {
              "outlinewidth": 0,
              "ticks": ""
             }
            },
            "type": "scatterpolar"
           }
          ],
          "scatterpolargl": [
           {
            "marker": {
             "colorbar": {
              "outlinewidth": 0,
              "ticks": ""
             }
            },
            "type": "scatterpolargl"
           }
          ],
          "scatterternary": [
           {
            "marker": {
             "colorbar": {
              "outlinewidth": 0,
              "ticks": ""
             }
            },
            "type": "scatterternary"
           }
          ],
          "surface": [
           {
            "colorbar": {
             "outlinewidth": 0,
             "ticks": ""
            },
            "colorscale": [
             [
              0,
              "#0d0887"
             ],
             [
              0.1111111111111111,
              "#46039f"
             ],
             [
              0.2222222222222222,
              "#7201a8"
             ],
             [
              0.3333333333333333,
              "#9c179e"
             ],
             [
              0.4444444444444444,
              "#bd3786"
             ],
             [
              0.5555555555555556,
              "#d8576b"
             ],
             [
              0.6666666666666666,
              "#ed7953"
             ],
             [
              0.7777777777777778,
              "#fb9f3a"
             ],
             [
              0.8888888888888888,
              "#fdca26"
             ],
             [
              1,
              "#f0f921"
             ]
            ],
            "type": "surface"
           }
          ],
          "table": [
           {
            "cells": {
             "fill": {
              "color": "#EBF0F8"
             },
             "line": {
              "color": "white"
             }
            },
            "header": {
             "fill": {
              "color": "#C8D4E3"
             },
             "line": {
              "color": "white"
             }
            },
            "type": "table"
           }
          ]
         },
         "layout": {
          "annotationdefaults": {
           "arrowcolor": "#2a3f5f",
           "arrowhead": 0,
           "arrowwidth": 1
          },
          "autotypenumbers": "strict",
          "coloraxis": {
           "colorbar": {
            "outlinewidth": 0,
            "ticks": ""
           }
          },
          "colorscale": {
           "diverging": [
            [
             0,
             "#8e0152"
            ],
            [
             0.1,
             "#c51b7d"
            ],
            [
             0.2,
             "#de77ae"
            ],
            [
             0.3,
             "#f1b6da"
            ],
            [
             0.4,
             "#fde0ef"
            ],
            [
             0.5,
             "#f7f7f7"
            ],
            [
             0.6,
             "#e6f5d0"
            ],
            [
             0.7,
             "#b8e186"
            ],
            [
             0.8,
             "#7fbc41"
            ],
            [
             0.9,
             "#4d9221"
            ],
            [
             1,
             "#276419"
            ]
           ],
           "sequential": [
            [
             0,
             "#0d0887"
            ],
            [
             0.1111111111111111,
             "#46039f"
            ],
            [
             0.2222222222222222,
             "#7201a8"
            ],
            [
             0.3333333333333333,
             "#9c179e"
            ],
            [
             0.4444444444444444,
             "#bd3786"
            ],
            [
             0.5555555555555556,
             "#d8576b"
            ],
            [
             0.6666666666666666,
             "#ed7953"
            ],
            [
             0.7777777777777778,
             "#fb9f3a"
            ],
            [
             0.8888888888888888,
             "#fdca26"
            ],
            [
             1,
             "#f0f921"
            ]
           ],
           "sequentialminus": [
            [
             0,
             "#0d0887"
            ],
            [
             0.1111111111111111,
             "#46039f"
            ],
            [
             0.2222222222222222,
             "#7201a8"
            ],
            [
             0.3333333333333333,
             "#9c179e"
            ],
            [
             0.4444444444444444,
             "#bd3786"
            ],
            [
             0.5555555555555556,
             "#d8576b"
            ],
            [
             0.6666666666666666,
             "#ed7953"
            ],
            [
             0.7777777777777778,
             "#fb9f3a"
            ],
            [
             0.8888888888888888,
             "#fdca26"
            ],
            [
             1,
             "#f0f921"
            ]
           ]
          },
          "colorway": [
           "#636efa",
           "#EF553B",
           "#00cc96",
           "#ab63fa",
           "#FFA15A",
           "#19d3f3",
           "#FF6692",
           "#B6E880",
           "#FF97FF",
           "#FECB52"
          ],
          "font": {
           "color": "#2a3f5f"
          },
          "geo": {
           "bgcolor": "white",
           "lakecolor": "white",
           "landcolor": "#E5ECF6",
           "showlakes": true,
           "showland": true,
           "subunitcolor": "white"
          },
          "hoverlabel": {
           "align": "left"
          },
          "hovermode": "closest",
          "mapbox": {
           "style": "light"
          },
          "paper_bgcolor": "white",
          "plot_bgcolor": "#E5ECF6",
          "polar": {
           "angularaxis": {
            "gridcolor": "white",
            "linecolor": "white",
            "ticks": ""
           },
           "bgcolor": "#E5ECF6",
           "radialaxis": {
            "gridcolor": "white",
            "linecolor": "white",
            "ticks": ""
           }
          },
          "scene": {
           "xaxis": {
            "backgroundcolor": "#E5ECF6",
            "gridcolor": "white",
            "gridwidth": 2,
            "linecolor": "white",
            "showbackground": true,
            "ticks": "",
            "zerolinecolor": "white"
           },
           "yaxis": {
            "backgroundcolor": "#E5ECF6",
            "gridcolor": "white",
            "gridwidth": 2,
            "linecolor": "white",
            "showbackground": true,
            "ticks": "",
            "zerolinecolor": "white"
           },
           "zaxis": {
            "backgroundcolor": "#E5ECF6",
            "gridcolor": "white",
            "gridwidth": 2,
            "linecolor": "white",
            "showbackground": true,
            "ticks": "",
            "zerolinecolor": "white"
           }
          },
          "shapedefaults": {
           "line": {
            "color": "#2a3f5f"
           }
          },
          "ternary": {
           "aaxis": {
            "gridcolor": "white",
            "linecolor": "white",
            "ticks": ""
           },
           "baxis": {
            "gridcolor": "white",
            "linecolor": "white",
            "ticks": ""
           },
           "bgcolor": "#E5ECF6",
           "caxis": {
            "gridcolor": "white",
            "linecolor": "white",
            "ticks": ""
           }
          },
          "title": {
           "x": 0.05
          },
          "xaxis": {
           "automargin": true,
           "gridcolor": "white",
           "linecolor": "white",
           "ticks": "",
           "title": {
            "standoff": 15
           },
           "zerolinecolor": "white",
           "zerolinewidth": 2
          },
          "yaxis": {
           "automargin": true,
           "gridcolor": "white",
           "linecolor": "white",
           "ticks": "",
           "title": {
            "standoff": 15
           },
           "zerolinecolor": "white",
           "zerolinewidth": 2
          }
         }
        },
        "title": {
         "text": "Monthly Rainfall in Mbombela",
         "x": 0.5
        },
        "xaxis": {
         "anchor": "y",
         "categoryarray": [
          "January",
          "February",
          "March",
          "April",
          "May",
          "June",
          "July",
          "August",
          "September",
          "October",
          "November",
          "December"
         ],
         "categoryorder": "array",
         "domain": [
          0,
          1
         ],
         "title": {
          "text": "month"
         }
        },
        "yaxis": {
         "anchor": "x",
         "domain": [
          0,
          1
         ],
         "title": {
          "text": "rainfall"
         }
        }
       }
      },
      "text/html": [
       "<div>                            <div id=\"7d351ccf-4a61-4a95-bfd5-db630c1c4e3e\" class=\"plotly-graph-div\" style=\"height:525px; width:100%;\"></div>            <script type=\"text/javascript\">                require([\"plotly\"], function(Plotly) {                    window.PLOTLYENV=window.PLOTLYENV || {};                                    if (document.getElementById(\"7d351ccf-4a61-4a95-bfd5-db630c1c4e3e\")) {                    Plotly.newPlot(                        \"7d351ccf-4a61-4a95-bfd5-db630c1c4e3e\",                        [{\"alignmentgroup\": \"True\", \"hovertemplate\": \"month=%{x}<br>rainfall=%{y}<extra></extra>\", \"legendgroup\": \"\", \"marker\": {\"color\": \"#1F77B4\"}, \"name\": \"\", \"offsetgroup\": \"\", \"orientation\": \"v\", \"showlegend\": false, \"textposition\": \"auto\", \"type\": \"bar\", \"x\": [\"April\", \"August\", \"December\", \"February\", \"January\", \"July\", \"June\", \"March\", \"May\", \"November\", \"October\", \"September\"], \"xaxis\": \"x\", \"y\": [54.89154929577465, 12.07230769230769, 130.5319444444444, 112.84366197183098, 131.11666666666665, 12.428301886792458, 11.33269230769231, 99.6549295774648, 17.180303030303033, 105.24571428571431, 65.62054794520547, 29.11884057971014], \"yaxis\": \"y\"}],                        {\"barmode\": \"relative\", \"legend\": {\"tracegroupgap\": 0}, \"template\": {\"data\": {\"bar\": [{\"error_x\": {\"color\": \"#2a3f5f\"}, \"error_y\": {\"color\": \"#2a3f5f\"}, \"marker\": {\"line\": {\"color\": \"#E5ECF6\", \"width\": 0.5}}, \"type\": \"bar\"}], \"barpolar\": [{\"marker\": {\"line\": {\"color\": \"#E5ECF6\", \"width\": 0.5}}, \"type\": \"barpolar\"}], \"carpet\": [{\"aaxis\": {\"endlinecolor\": \"#2a3f5f\", \"gridcolor\": \"white\", \"linecolor\": \"white\", \"minorgridcolor\": \"white\", \"startlinecolor\": \"#2a3f5f\"}, \"baxis\": {\"endlinecolor\": \"#2a3f5f\", \"gridcolor\": \"white\", \"linecolor\": \"white\", \"minorgridcolor\": \"white\", \"startlinecolor\": \"#2a3f5f\"}, \"type\": \"carpet\"}], \"choropleth\": [{\"colorbar\": {\"outlinewidth\": 0, \"ticks\": \"\"}, \"type\": \"choropleth\"}], \"contour\": [{\"colorbar\": {\"outlinewidth\": 0, \"ticks\": \"\"}, \"colorscale\": [[0.0, \"#0d0887\"], [0.1111111111111111, \"#46039f\"], [0.2222222222222222, \"#7201a8\"], [0.3333333333333333, \"#9c179e\"], [0.4444444444444444, \"#bd3786\"], [0.5555555555555556, \"#d8576b\"], [0.6666666666666666, \"#ed7953\"], [0.7777777777777778, \"#fb9f3a\"], [0.8888888888888888, \"#fdca26\"], [1.0, \"#f0f921\"]], \"type\": \"contour\"}], \"contourcarpet\": [{\"colorbar\": {\"outlinewidth\": 0, \"ticks\": \"\"}, \"type\": \"contourcarpet\"}], \"heatmap\": [{\"colorbar\": {\"outlinewidth\": 0, \"ticks\": \"\"}, \"colorscale\": [[0.0, \"#0d0887\"], [0.1111111111111111, \"#46039f\"], [0.2222222222222222, \"#7201a8\"], [0.3333333333333333, \"#9c179e\"], [0.4444444444444444, \"#bd3786\"], [0.5555555555555556, \"#d8576b\"], [0.6666666666666666, \"#ed7953\"], [0.7777777777777778, \"#fb9f3a\"], [0.8888888888888888, \"#fdca26\"], [1.0, \"#f0f921\"]], \"type\": \"heatmap\"}], \"heatmapgl\": [{\"colorbar\": {\"outlinewidth\": 0, \"ticks\": \"\"}, \"colorscale\": [[0.0, \"#0d0887\"], [0.1111111111111111, \"#46039f\"], [0.2222222222222222, \"#7201a8\"], [0.3333333333333333, \"#9c179e\"], [0.4444444444444444, \"#bd3786\"], [0.5555555555555556, \"#d8576b\"], [0.6666666666666666, \"#ed7953\"], [0.7777777777777778, \"#fb9f3a\"], [0.8888888888888888, \"#fdca26\"], [1.0, \"#f0f921\"]], \"type\": \"heatmapgl\"}], \"histogram\": [{\"marker\": {\"colorbar\": {\"outlinewidth\": 0, \"ticks\": \"\"}}, \"type\": \"histogram\"}], \"histogram2d\": [{\"colorbar\": {\"outlinewidth\": 0, \"ticks\": \"\"}, \"colorscale\": [[0.0, \"#0d0887\"], [0.1111111111111111, \"#46039f\"], [0.2222222222222222, \"#7201a8\"], [0.3333333333333333, \"#9c179e\"], [0.4444444444444444, \"#bd3786\"], [0.5555555555555556, \"#d8576b\"], [0.6666666666666666, \"#ed7953\"], [0.7777777777777778, \"#fb9f3a\"], [0.8888888888888888, \"#fdca26\"], [1.0, \"#f0f921\"]], \"type\": \"histogram2d\"}], \"histogram2dcontour\": [{\"colorbar\": {\"outlinewidth\": 0, \"ticks\": \"\"}, \"colorscale\": [[0.0, \"#0d0887\"], [0.1111111111111111, \"#46039f\"], [0.2222222222222222, \"#7201a8\"], [0.3333333333333333, \"#9c179e\"], [0.4444444444444444, \"#bd3786\"], [0.5555555555555556, \"#d8576b\"], [0.6666666666666666, \"#ed7953\"], [0.7777777777777778, \"#fb9f3a\"], [0.8888888888888888, \"#fdca26\"], [1.0, \"#f0f921\"]], \"type\": \"histogram2dcontour\"}], \"mesh3d\": [{\"colorbar\": {\"outlinewidth\": 0, \"ticks\": \"\"}, \"type\": \"mesh3d\"}], \"parcoords\": [{\"line\": {\"colorbar\": {\"outlinewidth\": 0, \"ticks\": \"\"}}, \"type\": \"parcoords\"}], \"pie\": [{\"automargin\": true, \"type\": \"pie\"}], \"scatter\": [{\"marker\": {\"colorbar\": {\"outlinewidth\": 0, \"ticks\": \"\"}}, \"type\": \"scatter\"}], \"scatter3d\": [{\"line\": {\"colorbar\": {\"outlinewidth\": 0, \"ticks\": \"\"}}, \"marker\": {\"colorbar\": {\"outlinewidth\": 0, \"ticks\": \"\"}}, \"type\": \"scatter3d\"}], \"scattercarpet\": [{\"marker\": {\"colorbar\": {\"outlinewidth\": 0, \"ticks\": \"\"}}, \"type\": \"scattercarpet\"}], \"scattergeo\": [{\"marker\": {\"colorbar\": {\"outlinewidth\": 0, \"ticks\": \"\"}}, \"type\": \"scattergeo\"}], \"scattergl\": [{\"marker\": {\"colorbar\": {\"outlinewidth\": 0, \"ticks\": \"\"}}, \"type\": \"scattergl\"}], \"scattermapbox\": [{\"marker\": {\"colorbar\": {\"outlinewidth\": 0, \"ticks\": \"\"}}, \"type\": \"scattermapbox\"}], \"scatterpolar\": [{\"marker\": {\"colorbar\": {\"outlinewidth\": 0, \"ticks\": \"\"}}, \"type\": \"scatterpolar\"}], \"scatterpolargl\": [{\"marker\": {\"colorbar\": {\"outlinewidth\": 0, \"ticks\": \"\"}}, \"type\": \"scatterpolargl\"}], \"scatterternary\": [{\"marker\": {\"colorbar\": {\"outlinewidth\": 0, \"ticks\": \"\"}}, \"type\": \"scatterternary\"}], \"surface\": [{\"colorbar\": {\"outlinewidth\": 0, \"ticks\": \"\"}, \"colorscale\": [[0.0, \"#0d0887\"], [0.1111111111111111, \"#46039f\"], [0.2222222222222222, \"#7201a8\"], [0.3333333333333333, \"#9c179e\"], [0.4444444444444444, \"#bd3786\"], [0.5555555555555556, \"#d8576b\"], [0.6666666666666666, \"#ed7953\"], [0.7777777777777778, \"#fb9f3a\"], [0.8888888888888888, \"#fdca26\"], [1.0, \"#f0f921\"]], \"type\": \"surface\"}], \"table\": [{\"cells\": {\"fill\": {\"color\": \"#EBF0F8\"}, \"line\": {\"color\": \"white\"}}, \"header\": {\"fill\": {\"color\": \"#C8D4E3\"}, \"line\": {\"color\": \"white\"}}, \"type\": \"table\"}]}, \"layout\": {\"annotationdefaults\": {\"arrowcolor\": \"#2a3f5f\", \"arrowhead\": 0, \"arrowwidth\": 1}, \"autotypenumbers\": \"strict\", \"coloraxis\": {\"colorbar\": {\"outlinewidth\": 0, \"ticks\": \"\"}}, \"colorscale\": {\"diverging\": [[0, \"#8e0152\"], [0.1, \"#c51b7d\"], [0.2, \"#de77ae\"], [0.3, \"#f1b6da\"], [0.4, \"#fde0ef\"], [0.5, \"#f7f7f7\"], [0.6, \"#e6f5d0\"], [0.7, \"#b8e186\"], [0.8, \"#7fbc41\"], [0.9, \"#4d9221\"], [1, \"#276419\"]], \"sequential\": [[0.0, \"#0d0887\"], [0.1111111111111111, \"#46039f\"], [0.2222222222222222, \"#7201a8\"], [0.3333333333333333, \"#9c179e\"], [0.4444444444444444, \"#bd3786\"], [0.5555555555555556, \"#d8576b\"], [0.6666666666666666, \"#ed7953\"], [0.7777777777777778, \"#fb9f3a\"], [0.8888888888888888, \"#fdca26\"], [1.0, \"#f0f921\"]], \"sequentialminus\": [[0.0, \"#0d0887\"], [0.1111111111111111, \"#46039f\"], [0.2222222222222222, \"#7201a8\"], [0.3333333333333333, \"#9c179e\"], [0.4444444444444444, \"#bd3786\"], [0.5555555555555556, \"#d8576b\"], [0.6666666666666666, \"#ed7953\"], [0.7777777777777778, \"#fb9f3a\"], [0.8888888888888888, \"#fdca26\"], [1.0, \"#f0f921\"]]}, \"colorway\": [\"#636efa\", \"#EF553B\", \"#00cc96\", \"#ab63fa\", \"#FFA15A\", \"#19d3f3\", \"#FF6692\", \"#B6E880\", \"#FF97FF\", \"#FECB52\"], \"font\": {\"color\": \"#2a3f5f\"}, \"geo\": {\"bgcolor\": \"white\", \"lakecolor\": \"white\", \"landcolor\": \"#E5ECF6\", \"showlakes\": true, \"showland\": true, \"subunitcolor\": \"white\"}, \"hoverlabel\": {\"align\": \"left\"}, \"hovermode\": \"closest\", \"mapbox\": {\"style\": \"light\"}, \"paper_bgcolor\": \"white\", \"plot_bgcolor\": \"#E5ECF6\", \"polar\": {\"angularaxis\": {\"gridcolor\": \"white\", \"linecolor\": \"white\", \"ticks\": \"\"}, \"bgcolor\": \"#E5ECF6\", \"radialaxis\": {\"gridcolor\": \"white\", \"linecolor\": \"white\", \"ticks\": \"\"}}, \"scene\": {\"xaxis\": {\"backgroundcolor\": \"#E5ECF6\", \"gridcolor\": \"white\", \"gridwidth\": 2, \"linecolor\": \"white\", \"showbackground\": true, \"ticks\": \"\", \"zerolinecolor\": \"white\"}, \"yaxis\": {\"backgroundcolor\": \"#E5ECF6\", \"gridcolor\": \"white\", \"gridwidth\": 2, \"linecolor\": \"white\", \"showbackground\": true, \"ticks\": \"\", \"zerolinecolor\": \"white\"}, \"zaxis\": {\"backgroundcolor\": \"#E5ECF6\", \"gridcolor\": \"white\", \"gridwidth\": 2, \"linecolor\": \"white\", \"showbackground\": true, \"ticks\": \"\", \"zerolinecolor\": \"white\"}}, \"shapedefaults\": {\"line\": {\"color\": \"#2a3f5f\"}}, \"ternary\": {\"aaxis\": {\"gridcolor\": \"white\", \"linecolor\": \"white\", \"ticks\": \"\"}, \"baxis\": {\"gridcolor\": \"white\", \"linecolor\": \"white\", \"ticks\": \"\"}, \"bgcolor\": \"#E5ECF6\", \"caxis\": {\"gridcolor\": \"white\", \"linecolor\": \"white\", \"ticks\": \"\"}}, \"title\": {\"x\": 0.05}, \"xaxis\": {\"automargin\": true, \"gridcolor\": \"white\", \"linecolor\": \"white\", \"ticks\": \"\", \"title\": {\"standoff\": 15}, \"zerolinecolor\": \"white\", \"zerolinewidth\": 2}, \"yaxis\": {\"automargin\": true, \"gridcolor\": \"white\", \"linecolor\": \"white\", \"ticks\": \"\", \"title\": {\"standoff\": 15}, \"zerolinecolor\": \"white\", \"zerolinewidth\": 2}}}, \"title\": {\"text\": \"Monthly Rainfall in Mbombela\", \"x\": 0.5}, \"xaxis\": {\"anchor\": \"y\", \"categoryarray\": [\"January\", \"February\", \"March\", \"April\", \"May\", \"June\", \"July\", \"August\", \"September\", \"October\", \"November\", \"December\"], \"categoryorder\": \"array\", \"domain\": [0.0, 1.0], \"title\": {\"text\": \"month\"}}, \"yaxis\": {\"anchor\": \"x\", \"domain\": [0.0, 1.0], \"title\": {\"text\": \"rainfall\"}}},                        {\"responsive\": true}                    ).then(function(){\n",
       "                            \n",
       "var gd = document.getElementById('7d351ccf-4a61-4a95-bfd5-db630c1c4e3e');\n",
       "var x = new MutationObserver(function (mutations, observer) {{\n",
       "        var display = window.getComputedStyle(gd).display;\n",
       "        if (!display || display === 'none') {{\n",
       "            console.log([gd, 'removed!']);\n",
       "            Plotly.purge(gd);\n",
       "            observer.disconnect();\n",
       "        }}\n",
       "}});\n",
       "\n",
       "// Listen for the removal of the full notebook cells\n",
       "var notebookContainer = gd.closest('#notebook-container');\n",
       "if (notebookContainer) {{\n",
       "    x.observe(notebookContainer, {childList: true});\n",
       "}}\n",
       "\n",
       "// Listen for the clearing of the current output cell\n",
       "var outputEl = gd.closest('.output');\n",
       "if (outputEl) {{\n",
       "    x.observe(outputEl, {childList: true});\n",
       "}}\n",
       "\n",
       "                        })                };                });            </script>        </div>"
      ]
     },
     "metadata": {},
     "output_type": "display_data"
    }
   ],
   "source": [
    "ax=df.groupby([df.month]).mean()['rainfall']\n",
    "fig = px.bar(ax,y='rainfall',title='Monthly Rainfall in Mbombela',category_orders={\"month\": [\"January\", \"February\", \"March\", \"April\", \"May\", \"June\",\n",
    "      \"July\", \"August\", \"September\", \"October\", \"November\", \"December\"]},color_discrete_sequence=px.colors.qualitative.D3)\n",
    "fig.update(layout=dict(title=dict(x=0.5)))\n",
    "fig.show()"
   ]
  },
  {
   "cell_type": "code",
   "execution_count": 10,
   "metadata": {},
   "outputs": [
    {
     "name": "stdout",
     "output_type": "stream",
     "text": [
      "The largest amount of rain was recorded in the following years\n"
     ]
    },
    {
     "data": {
      "text/plain": [
       "date\n",
       "2000    1360.7\n",
       "1996    1205.0\n",
       "2006    1125.2\n",
       "1955    1118.3\n",
       "1942    1108.6\n",
       "Name: rainfall, dtype: float64"
      ]
     },
     "execution_count": 10,
     "metadata": {},
     "output_type": "execute_result"
    }
   ],
   "source": [
    "ax=df.groupby([df.index.year]).agg({'rainfall':sum})\n",
    "print('The largest amount of rain was recorded in the following years')\n",
    "ax['rainfall'].nlargest(5)"
   ]
  },
  {
   "cell_type": "code",
   "execution_count": 11,
   "metadata": {},
   "outputs": [
    {
     "data": {
      "image/png": "[encoded data removed]",
      "text/plain": [
       "<Figure size 432x288 with 1 Axes>"
      ]
     },
     "metadata": {},
     "output_type": "display_data"
    }
   ],
   "source": [
    "g1 = sns.distplot(np.log(df['rainfall'] + 1))\n",
    "g1.set_title(\"Rainfall Distribution\", fontsize=16);"
   ]
  },
  {
   "cell_type": "markdown",
   "metadata": {},
   "source": [
    "# LSTM Model"
   ]
  },
  {
   "cell_type": "code",
   "execution_count": 12,
   "metadata": {},
   "outputs": [],
   "source": [
    "#Data preprcessing\n",
    "dataset = df.drop(columns = ['month','year'])\n",
    "# normalize the dataset\n",
    "scaler = MinMaxScaler(feature_range=(0, 1))\n",
    "dataset = scaler.fit_transform(dataset)"
   ]
  },
  {
   "cell_type": "markdown",
   "metadata": {},
   "source": [
    "Converting an array of values into a dataset matrix. The function takes two arguments: the dataset, which is a NumPy array that we want to convert into a dataset, and the look_back, which is the number of previous time steps to use as input variables to predict the next time period and in our case look back is 1."
   ]
  },
  {
   "cell_type": "code",
   "execution_count": 13,
   "metadata": {},
   "outputs": [],
   "source": [
    "# convert an array of values into a dataset matrix\n",
    "def create_dataset(dataset, look_back=12):\n",
    "    dataX, dataY = [], []\n",
    "    for i in range(len(dataset)-look_back-1):\n",
    "        a = dataset[i:(i+look_back), 0]\n",
    "        dataX.append(a)\n",
    "        dataY.append(dataset[i + look_back, 0])\n",
    "    return np.array(dataX), np.array(dataY)"
   ]
  },
  {
   "cell_type": "code",
   "execution_count": 14,
   "metadata": {},
   "outputs": [],
   "source": [
    "# split into train and test sets\n",
    "training_size=int(len(dataset)*0.90)\n",
    "test_size=len(dataset)-training_size\n",
    "train, test =dataset[0:training_size,:],dataset[training_size:len(dataset),:1]\n",
    "\n",
    "#reshape into X=t and Y=t+1\n",
    "look_back =12\n",
    "trainX, trainY = create_dataset(train, look_back)\n",
    "testX, testY = create_dataset(test, look_back)"
   ]
  },
  {
   "cell_type": "markdown",
   "metadata": {},
   "source": [
    "The LSTM network expects the input data (X) to be provided with a specific array structure in the form of: (samples, time steps, features) but Currently, our data is in the form: (samples, features)"
   ]
  },
  {
   "cell_type": "code",
   "execution_count": 15,
   "metadata": {},
   "outputs": [],
   "source": [
    "# reshape input to be [samples, time steps, features]\n",
    "trainX = np.reshape(trainX, (trainX.shape[0], 1, trainX.shape[1]))\n",
    "testX = np.reshape(testX, (testX.shape[0], 1, testX.shape[1]))"
   ]
  },
  {
   "cell_type": "markdown",
   "metadata": {},
   "source": [
    "We are now ready to design and fit our LSTM network."
   ]
  },
  {
   "cell_type": "code",
   "execution_count": 16,
   "metadata": {},
   "outputs": [
    {
     "name": "stdout",
     "output_type": "stream",
     "text": [
      "Epoch 1/600\n",
      "4/4 [==============================] - 5s 338ms/step - loss: 0.0517 - val_loss: 0.0358\n",
      "Epoch 2/600\n",
      "4/4 [==============================] - 0s 8ms/step - loss: 0.0471 - val_loss: 0.0320\n",
      "Epoch 3/600\n",
      "4/4 [==============================] - 0s 9ms/step - loss: 0.0424 - val_loss: 0.0282\n",
      "Epoch 4/600\n",
      "4/4 [==============================] - 0s 10ms/step - loss: 0.0378 - val_loss: 0.0246\n",
      "Epoch 5/600\n",
      "4/4 [==============================] - 0s 9ms/step - loss: 0.0333 - val_loss: 0.0215\n",
      "Epoch 6/600\n",
      "4/4 [==============================] - 0s 9ms/step - loss: 0.0292 - val_loss: 0.0194\n",
      "Epoch 7/600\n",
      "4/4 [==============================] - 0s 9ms/step - loss: 0.0262 - val_loss: 0.0188\n",
      "Epoch 8/600\n",
      "4/4 [==============================] - 0s 9ms/step - loss: 0.0249 - val_loss: 0.0195\n",
      "Epoch 9/600\n",
      "4/4 [==============================] - 0s 9ms/step - loss: 0.0248 - val_loss: 0.0199\n",
      "Epoch 10/600\n",
      "4/4 [==============================] - 0s 9ms/step - loss: 0.0244 - val_loss: 0.0189\n",
      "Epoch 11/600\n",
      "4/4 [==============================] - 0s 9ms/step - loss: 0.0235 - val_loss: 0.0176\n",
      "Epoch 12/600\n",
      "4/4 [==============================] - 0s 9ms/step - loss: 0.0226 - val_loss: 0.0165\n",
      "Epoch 13/600\n",
      "4/4 [==============================] - 0s 9ms/step - loss: 0.0220 - val_loss: 0.0157\n",
      "Epoch 14/600\n",
      "4/4 [==============================] - 0s 11ms/step - loss: 0.0214 - val_loss: 0.0150\n",
      "Epoch 15/600\n",
      "4/4 [==============================] - 0s 9ms/step - loss: 0.0206 - val_loss: 0.0142\n",
      "Epoch 16/600\n",
      "4/4 [==============================] - 0s 9ms/step - loss: 0.0197 - val_loss: 0.0136\n",
      "Epoch 17/600\n",
      "4/4 [==============================] - 0s 9ms/step - loss: 0.0190 - val_loss: 0.0129\n",
      "Epoch 18/600\n",
      "4/4 [==============================] - 0s 8ms/step - loss: 0.0184 - val_loss: 0.0121\n",
      "Epoch 19/600\n",
      "4/4 [==============================] - 0s 9ms/step - loss: 0.0180 - val_loss: 0.0115\n",
      "Epoch 20/600\n",
      "4/4 [==============================] - 0s 11ms/step - loss: 0.0178 - val_loss: 0.0113\n",
      "Epoch 21/600\n",
      "4/4 [==============================] - 0s 9ms/step - loss: 0.0178 - val_loss: 0.0112\n",
      "Epoch 22/600\n",
      "4/4 [==============================] - 0s 9ms/step - loss: 0.0177 - val_loss: 0.0113\n",
      "Epoch 23/600\n",
      "4/4 [==============================] - 0s 9ms/step - loss: 0.0176 - val_loss: 0.0113\n",
      "Epoch 24/600\n",
      "4/4 [==============================] - 0s 9ms/step - loss: 0.0175 - val_loss: 0.0113\n",
      "Epoch 25/600\n",
      "4/4 [==============================] - 0s 11ms/step - loss: 0.0174 - val_loss: 0.0113\n",
      "Epoch 26/600\n",
      "4/4 [==============================] - 0s 9ms/step - loss: 0.0173 - val_loss: 0.0114\n",
      "Epoch 27/600\n",
      "4/4 [==============================] - 0s 9ms/step - loss: 0.0173 - val_loss: 0.0114\n",
      "Epoch 28/600\n",
      "4/4 [==============================] - 0s 10ms/step - loss: 0.0172 - val_loss: 0.0114\n",
      "Epoch 29/600\n",
      "4/4 [==============================] - 0s 9ms/step - loss: 0.0171 - val_loss: 0.0114\n",
      "Epoch 30/600\n",
      "4/4 [==============================] - 0s 9ms/step - loss: 0.0171 - val_loss: 0.0114\n",
      "Epoch 31/600\n",
      "4/4 [==============================] - 0s 9ms/step - loss: 0.0171 - val_loss: 0.0114\n",
      "Epoch 32/600\n",
      "4/4 [==============================] - 0s 10ms/step - loss: 0.0170 - val_loss: 0.0114\n",
      "Epoch 33/600\n",
      "4/4 [==============================] - 0s 9ms/step - loss: 0.0170 - val_loss: 0.0114\n",
      "Epoch 34/600\n",
      "4/4 [==============================] - 0s 9ms/step - loss: 0.0170 - val_loss: 0.0114\n",
      "Epoch 35/600\n",
      "4/4 [==============================] - 0s 11ms/step - loss: 0.0169 - val_loss: 0.0114\n",
      "Epoch 36/600\n",
      "4/4 [==============================] - 0s 10ms/step - loss: 0.0169 - val_loss: 0.0114\n",
      "Epoch 37/600\n",
      "4/4 [==============================] - 0s 9ms/step - loss: 0.0169 - val_loss: 0.0114\n",
      "Epoch 38/600\n",
      "4/4 [==============================] - 0s 9ms/step - loss: 0.0169 - val_loss: 0.0114\n",
      "Epoch 39/600\n",
      "4/4 [==============================] - 0s 9ms/step - loss: 0.0168 - val_loss: 0.0114\n",
      "Epoch 40/600\n",
      "4/4 [==============================] - 0s 9ms/step - loss: 0.0168 - val_loss: 0.0114\n",
      "Epoch 41/600\n",
      "4/4 [==============================] - 0s 11ms/step - loss: 0.0168 - val_loss: 0.0114\n",
      "Epoch 42/600\n",
      "4/4 [==============================] - 0s 11ms/step - loss: 0.0168 - val_loss: 0.0114\n",
      "Epoch 43/600\n",
      "4/4 [==============================] - 0s 9ms/step - loss: 0.0168 - val_loss: 0.0114\n",
      "Epoch 44/600\n",
      "4/4 [==============================] - 0s 9ms/step - loss: 0.0168 - val_loss: 0.0114\n",
      "Epoch 45/600\n",
      "4/4 [==============================] - 0s 9ms/step - loss: 0.0168 - val_loss: 0.0114\n",
      "Epoch 46/600\n",
      "4/4 [==============================] - 0s 11ms/step - loss: 0.0168 - val_loss: 0.0114\n",
      "Epoch 47/600\n",
      "4/4 [==============================] - 0s 9ms/step - loss: 0.0167 - val_loss: 0.0114\n",
      "Epoch 48/600\n",
      "4/4 [==============================] - 0s 9ms/step - loss: 0.0167 - val_loss: 0.0114\n",
      "Epoch 49/600\n",
      "4/4 [==============================] - 0s 11ms/step - loss: 0.0167 - val_loss: 0.0114\n",
      "Epoch 50/600\n",
      "4/4 [==============================] - 0s 9ms/step - loss: 0.0167 - val_loss: 0.0114\n",
      "Epoch 51/600\n",
      "4/4 [==============================] - 0s 9ms/step - loss: 0.0167 - val_loss: 0.0114\n",
      "Epoch 52/600\n",
      "4/4 [==============================] - 0s 9ms/step - loss: 0.0167 - val_loss: 0.0114\n",
      "Epoch 53/600\n",
      "4/4 [==============================] - 0s 9ms/step - loss: 0.0167 - val_loss: 0.0114\n",
      "Epoch 54/600\n",
      "4/4 [==============================] - 0s 11ms/step - loss: 0.0167 - val_loss: 0.0114\n",
      "Epoch 55/600\n",
      "4/4 [==============================] - ETA: 0s - loss: 0.017 - 0s 9ms/step - loss: 0.0167 - val_loss: 0.0114\n",
      "Epoch 56/600\n",
      "4/4 [==============================] - 0s 9ms/step - loss: 0.0167 - val_loss: 0.0114\n",
      "Epoch 57/600\n",
      "4/4 [==============================] - 0s 9ms/step - loss: 0.0167 - val_loss: 0.0114\n",
      "Epoch 58/600\n",
      "4/4 [==============================] - 0s 9ms/step - loss: 0.0166 - val_loss: 0.0114\n",
      "Epoch 59/600\n",
      "4/4 [==============================] - 0s 10ms/step - loss: 0.0166 - val_loss: 0.0114\n",
      "Epoch 60/600\n",
      "4/4 [==============================] - 0s 9ms/step - loss: 0.0166 - val_loss: 0.0114\n",
      "Epoch 61/600\n",
      "4/4 [==============================] - 0s 11ms/step - loss: 0.0166 - val_loss: 0.0113\n",
      "Epoch 62/600\n",
      "4/4 [==============================] - 0s 9ms/step - loss: 0.0166 - val_loss: 0.0113\n",
      "Epoch 63/600\n",
      "4/4 [==============================] - 0s 9ms/step - loss: 0.0166 - val_loss: 0.0113\n",
      "Epoch 64/600\n",
      "4/4 [==============================] - 0s 9ms/step - loss: 0.0166 - val_loss: 0.0113\n",
      "Epoch 65/600\n",
      "4/4 [==============================] - 0s 9ms/step - loss: 0.0166 - val_loss: 0.0113\n",
      "Epoch 66/600\n",
      "4/4 [==============================] - 0s 10ms/step - loss: 0.0166 - val_loss: 0.0113\n",
      "Epoch 67/600\n",
      "4/4 [==============================] - 0s 9ms/step - loss: 0.0166 - val_loss: 0.0113\n",
      "Epoch 68/600\n",
      "4/4 [==============================] - 0s 9ms/step - loss: 0.0166 - val_loss: 0.0113\n",
      "Epoch 69/600\n",
      "4/4 [==============================] - 0s 10ms/step - loss: 0.0166 - val_loss: 0.0113\n",
      "Epoch 70/600\n",
      "4/4 [==============================] - 0s 9ms/step - loss: 0.0166 - val_loss: 0.0113\n",
      "Epoch 71/600\n",
      "4/4 [==============================] - 0s 9ms/step - loss: 0.0165 - val_loss: 0.0113\n",
      "Epoch 72/600\n",
      "4/4 [==============================] - 0s 9ms/step - loss: 0.0165 - val_loss: 0.0113\n",
      "Epoch 73/600\n",
      "4/4 [==============================] - 0s 9ms/step - loss: 0.0165 - val_loss: 0.0113\n",
      "Epoch 74/600\n",
      "4/4 [==============================] - 0s 9ms/step - loss: 0.0165 - val_loss: 0.0113\n",
      "Epoch 75/600\n",
      "4/4 [==============================] - 0s 9ms/step - loss: 0.0165 - val_loss: 0.0113\n",
      "Epoch 76/600\n",
      "4/4 [==============================] - 0s 9ms/step - loss: 0.0165 - val_loss: 0.0112\n",
      "Epoch 77/600\n",
      "4/4 [==============================] - 0s 9ms/step - loss: 0.0165 - val_loss: 0.0112\n",
      "Epoch 78/600\n",
      "4/4 [==============================] - 0s 9ms/step - loss: 0.0165 - val_loss: 0.0112\n",
      "Epoch 79/600\n",
      "4/4 [==============================] - 0s 9ms/step - loss: 0.0165 - val_loss: 0.0112\n",
      "Epoch 80/600\n",
      "4/4 [==============================] - 0s 9ms/step - loss: 0.0165 - val_loss: 0.0112\n",
      "Epoch 81/600\n",
      "4/4 [==============================] - 0s 9ms/step - loss: 0.0165 - val_loss: 0.0112\n",
      "Epoch 82/600\n",
      "4/4 [==============================] - 0s 9ms/step - loss: 0.0165 - val_loss: 0.0112\n",
      "Epoch 83/600\n",
      "4/4 [==============================] - 0s 9ms/step - loss: 0.0164 - val_loss: 0.0112\n",
      "Epoch 84/600\n",
      "4/4 [==============================] - 0s 9ms/step - loss: 0.0164 - val_loss: 0.0112\n",
      "Epoch 85/600\n",
      "4/4 [==============================] - 0s 9ms/step - loss: 0.0164 - val_loss: 0.0112\n",
      "Epoch 86/600\n",
      "4/4 [==============================] - 0s 8ms/step - loss: 0.0164 - val_loss: 0.0112\n",
      "Epoch 87/600\n",
      "4/4 [==============================] - 0s 8ms/step - loss: 0.0164 - val_loss: 0.0112\n",
      "Epoch 88/600\n",
      "4/4 [==============================] - 0s 8ms/step - loss: 0.0164 - val_loss: 0.0112\n",
      "Epoch 89/600\n",
      "4/4 [==============================] - 0s 8ms/step - loss: 0.0164 - val_loss: 0.0112\n",
      "Epoch 90/600\n",
      "4/4 [==============================] - 0s 9ms/step - loss: 0.0164 - val_loss: 0.0112\n",
      "Epoch 91/600\n",
      "4/4 [==============================] - 0s 9ms/step - loss: 0.0164 - val_loss: 0.0111\n",
      "Epoch 92/600\n",
      "4/4 [==============================] - 0s 9ms/step - loss: 0.0164 - val_loss: 0.0111\n",
      "Epoch 93/600\n",
      "4/4 [==============================] - 0s 9ms/step - loss: 0.0164 - val_loss: 0.0111\n",
      "Epoch 94/600\n",
      "4/4 [==============================] - 0s 9ms/step - loss: 0.0164 - val_loss: 0.0111\n",
      "Epoch 95/600\n",
      "4/4 [==============================] - 0s 9ms/step - loss: 0.0163 - val_loss: 0.0111\n",
      "Epoch 96/600\n",
      "4/4 [==============================] - 0s 9ms/step - loss: 0.0163 - val_loss: 0.0111\n",
      "Epoch 97/600\n",
      "4/4 [==============================] - 0s 8ms/step - loss: 0.0163 - val_loss: 0.0111\n",
      "Epoch 98/600\n",
      "4/4 [==============================] - 0s 9ms/step - loss: 0.0163 - val_loss: 0.0111\n",
      "Epoch 99/600\n",
      "4/4 [==============================] - 0s 9ms/step - loss: 0.0163 - val_loss: 0.0111\n",
      "Epoch 100/600\n",
      "4/4 [==============================] - 0s 9ms/step - loss: 0.0163 - val_loss: 0.0111\n",
      "Epoch 101/600\n",
      "4/4 [==============================] - 0s 10ms/step - loss: 0.0163 - val_loss: 0.0111\n",
      "Epoch 102/600\n",
      "4/4 [==============================] - 0s 8ms/step - loss: 0.0163 - val_loss: 0.0111\n",
      "Epoch 103/600\n",
      "4/4 [==============================] - 0s 9ms/step - loss: 0.0163 - val_loss: 0.0111\n",
      "Epoch 104/600\n",
      "4/4 [==============================] - 0s 9ms/step - loss: 0.0163 - val_loss: 0.0111\n",
      "Epoch 105/600\n",
      "4/4 [==============================] - 0s 8ms/step - loss: 0.0163 - val_loss: 0.0111\n",
      "Epoch 106/600\n",
      "4/4 [==============================] - 0s 8ms/step - loss: 0.0162 - val_loss: 0.0110\n",
      "Epoch 107/600\n",
      "4/4 [==============================] - 0s 9ms/step - loss: 0.0162 - val_loss: 0.0110\n",
      "Epoch 108/600\n",
      "4/4 [==============================] - 0s 9ms/step - loss: 0.0162 - val_loss: 0.0110\n",
      "Epoch 109/600\n",
      "4/4 [==============================] - 0s 9ms/step - loss: 0.0162 - val_loss: 0.0110\n",
      "Epoch 110/600\n",
      "4/4 [==============================] - 0s 9ms/step - loss: 0.0162 - val_loss: 0.0110\n",
      "Epoch 111/600\n",
      "4/4 [==============================] - 0s 10ms/step - loss: 0.0162 - val_loss: 0.0110\n",
      "Epoch 112/600\n",
      "4/4 [==============================] - 0s 9ms/step - loss: 0.0162 - val_loss: 0.0110\n",
      "Epoch 113/600\n",
      "4/4 [==============================] - 0s 9ms/step - loss: 0.0162 - val_loss: 0.0110\n",
      "Epoch 114/600\n",
      "4/4 [==============================] - 0s 9ms/step - loss: 0.0162 - val_loss: 0.0110\n",
      "Epoch 115/600\n",
      "4/4 [==============================] - 0s 9ms/step - loss: 0.0162 - val_loss: 0.0110\n",
      "Epoch 116/600\n",
      "4/4 [==============================] - 0s 9ms/step - loss: 0.0161 - val_loss: 0.0110\n",
      "Epoch 117/600\n",
      "4/4 [==============================] - 0s 9ms/step - loss: 0.0161 - val_loss: 0.0110\n",
      "Epoch 118/600\n",
      "4/4 [==============================] - 0s 9ms/step - loss: 0.0161 - val_loss: 0.0110\n",
      "Epoch 119/600\n",
      "4/4 [==============================] - 0s 9ms/step - loss: 0.0161 - val_loss: 0.0110\n",
      "Epoch 120/600\n",
      "4/4 [==============================] - 0s 9ms/step - loss: 0.0161 - val_loss: 0.0110\n",
      "Epoch 121/600\n",
      "4/4 [==============================] - 0s 9ms/step - loss: 0.0161 - val_loss: 0.0109\n",
      "Epoch 122/600\n",
      "4/4 [==============================] - 0s 8ms/step - loss: 0.0161 - val_loss: 0.0109\n",
      "Epoch 123/600\n",
      "4/4 [==============================] - 0s 8ms/step - loss: 0.0161 - val_loss: 0.0109\n",
      "Epoch 124/600\n",
      "4/4 [==============================] - 0s 9ms/step - loss: 0.0161 - val_loss: 0.0109\n",
      "Epoch 125/600\n",
      "4/4 [==============================] - 0s 10ms/step - loss: 0.0161 - val_loss: 0.0109\n",
      "Epoch 126/600\n",
      "4/4 [==============================] - 0s 10ms/step - loss: 0.0161 - val_loss: 0.0109\n",
      "Epoch 127/600\n",
      "4/4 [==============================] - 0s 9ms/step - loss: 0.0160 - val_loss: 0.0109\n",
      "Epoch 128/600\n",
      "4/4 [==============================] - 0s 11ms/step - loss: 0.0160 - val_loss: 0.0109\n",
      "Epoch 129/600\n",
      "4/4 [==============================] - 0s 9ms/step - loss: 0.0160 - val_loss: 0.0109\n",
      "Epoch 130/600\n",
      "4/4 [==============================] - 0s 9ms/step - loss: 0.0160 - val_loss: 0.0109\n",
      "Epoch 131/600\n",
      "4/4 [==============================] - 0s 9ms/step - loss: 0.0160 - val_loss: 0.0109\n",
      "Epoch 132/600\n",
      "4/4 [==============================] - 0s 10ms/step - loss: 0.0160 - val_loss: 0.0109\n",
      "Epoch 133/600\n",
      "4/4 [==============================] - 0s 11ms/step - loss: 0.0160 - val_loss: 0.0109\n",
      "Epoch 134/600\n",
      "4/4 [==============================] - 0s 9ms/step - loss: 0.0160 - val_loss: 0.0109\n",
      "Epoch 135/600\n",
      "4/4 [==============================] - 0s 9ms/step - loss: 0.0160 - val_loss: 0.0109\n",
      "Epoch 136/600\n",
      "4/4 [==============================] - 0s 9ms/step - loss: 0.0159 - val_loss: 0.0108\n",
      "Epoch 137/600\n",
      "4/4 [==============================] - 0s 9ms/step - loss: 0.0159 - val_loss: 0.0108\n",
      "Epoch 138/600\n",
      "4/4 [==============================] - 0s 10ms/step - loss: 0.0159 - val_loss: 0.0108\n",
      "Epoch 139/600\n",
      "4/4 [==============================] - 0s 9ms/step - loss: 0.0159 - val_loss: 0.0108\n",
      "Epoch 140/600\n",
      "4/4 [==============================] - 0s 8ms/step - loss: 0.0159 - val_loss: 0.0108\n",
      "Epoch 141/600\n",
      "4/4 [==============================] - 0s 9ms/step - loss: 0.0159 - val_loss: 0.0108\n",
      "Epoch 142/600\n",
      "4/4 [==============================] - 0s 9ms/step - loss: 0.0159 - val_loss: 0.0108\n",
      "Epoch 143/600\n",
      "4/4 [==============================] - 0s 9ms/step - loss: 0.0159 - val_loss: 0.0108\n",
      "Epoch 144/600\n",
      "4/4 [==============================] - 0s 9ms/step - loss: 0.0159 - val_loss: 0.0108\n",
      "Epoch 145/600\n",
      "4/4 [==============================] - 0s 9ms/step - loss: 0.0159 - val_loss: 0.0108\n",
      "Epoch 146/600\n",
      "4/4 [==============================] - 0s 9ms/step - loss: 0.0158 - val_loss: 0.0108\n",
      "Epoch 147/600\n",
      "4/4 [==============================] - 0s 8ms/step - loss: 0.0158 - val_loss: 0.0108\n",
      "Epoch 148/600\n",
      "4/4 [==============================] - 0s 9ms/step - loss: 0.0158 - val_loss: 0.0108\n",
      "Epoch 149/600\n",
      "4/4 [==============================] - 0s 9ms/step - loss: 0.0158 - val_loss: 0.0108\n",
      "Epoch 150/600\n",
      "4/4 [==============================] - 0s 9ms/step - loss: 0.0158 - val_loss: 0.0107\n",
      "Epoch 151/600\n",
      "4/4 [==============================] - 0s 9ms/step - loss: 0.0158 - val_loss: 0.0107\n",
      "Epoch 152/600\n",
      "4/4 [==============================] - 0s 9ms/step - loss: 0.0158 - val_loss: 0.0107\n",
      "Epoch 153/600\n",
      "4/4 [==============================] - 0s 9ms/step - loss: 0.0158 - val_loss: 0.0107\n",
      "Epoch 154/600\n",
      "4/4 [==============================] - 0s 8ms/step - loss: 0.0158 - val_loss: 0.0107\n",
      "Epoch 155/600\n",
      "4/4 [==============================] - 0s 8ms/step - loss: 0.0157 - val_loss: 0.0107\n",
      "Epoch 156/600\n",
      "4/4 [==============================] - 0s 9ms/step - loss: 0.0157 - val_loss: 0.0107\n",
      "Epoch 157/600\n",
      "4/4 [==============================] - 0s 9ms/step - loss: 0.0157 - val_loss: 0.0107\n",
      "Epoch 158/600\n",
      "4/4 [==============================] - 0s 8ms/step - loss: 0.0157 - val_loss: 0.0107\n",
      "Epoch 159/600\n",
      "4/4 [==============================] - 0s 9ms/step - loss: 0.0157 - val_loss: 0.0107\n",
      "Epoch 160/600\n",
      "4/4 [==============================] - 0s 9ms/step - loss: 0.0157 - val_loss: 0.0107\n",
      "Epoch 161/600\n",
      "4/4 [==============================] - 0s 9ms/step - loss: 0.0157 - val_loss: 0.0107\n",
      "Epoch 162/600\n",
      "4/4 [==============================] - 0s 9ms/step - loss: 0.0157 - val_loss: 0.0106\n",
      "Epoch 163/600\n",
      "4/4 [==============================] - 0s 8ms/step - loss: 0.0157 - val_loss: 0.0106\n",
      "Epoch 164/600\n",
      "4/4 [==============================] - 0s 9ms/step - loss: 0.0157 - val_loss: 0.0106\n",
      "Epoch 165/600\n",
      "4/4 [==============================] - 0s 9ms/step - loss: 0.0156 - val_loss: 0.0106\n",
      "Epoch 166/600\n",
      "4/4 [==============================] - 0s 9ms/step - loss: 0.0156 - val_loss: 0.0106\n",
      "Epoch 167/600\n",
      "4/4 [==============================] - 0s 9ms/step - loss: 0.0156 - val_loss: 0.0106\n",
      "Epoch 168/600\n",
      "4/4 [==============================] - 0s 9ms/step - loss: 0.0156 - val_loss: 0.0106\n",
      "Epoch 169/600\n",
      "4/4 [==============================] - 0s 9ms/step - loss: 0.0156 - val_loss: 0.0106\n",
      "Epoch 170/600\n",
      "4/4 [==============================] - 0s 9ms/step - loss: 0.0156 - val_loss: 0.0106\n",
      "Epoch 171/600\n",
      "4/4 [==============================] - 0s 9ms/step - loss: 0.0156 - val_loss: 0.0106\n",
      "Epoch 172/600\n",
      "4/4 [==============================] - 0s 9ms/step - loss: 0.0156 - val_loss: 0.0106\n",
      "Epoch 173/600\n",
      "4/4 [==============================] - 0s 8ms/step - loss: 0.0156 - val_loss: 0.0106\n",
      "Epoch 174/600\n",
      "4/4 [==============================] - 0s 9ms/step - loss: 0.0156 - val_loss: 0.0105\n",
      "Epoch 175/600\n",
      "4/4 [==============================] - 0s 9ms/step - loss: 0.0155 - val_loss: 0.0105\n",
      "Epoch 176/600\n",
      "4/4 [==============================] - 0s 9ms/step - loss: 0.0155 - val_loss: 0.0105\n",
      "Epoch 177/600\n",
      "4/4 [==============================] - 0s 9ms/step - loss: 0.0155 - val_loss: 0.0105\n",
      "Epoch 178/600\n",
      "4/4 [==============================] - 0s 10ms/step - loss: 0.0155 - val_loss: 0.0105\n",
      "Epoch 179/600\n",
      "4/4 [==============================] - 0s 9ms/step - loss: 0.0155 - val_loss: 0.0105\n",
      "Epoch 180/600\n",
      "4/4 [==============================] - 0s 9ms/step - loss: 0.0155 - val_loss: 0.0105\n",
      "Epoch 181/600\n",
      "4/4 [==============================] - 0s 9ms/step - loss: 0.0155 - val_loss: 0.0105\n",
      "Epoch 182/600\n",
      "4/4 [==============================] - 0s 9ms/step - loss: 0.0155 - val_loss: 0.0105\n",
      "Epoch 183/600\n",
      "4/4 [==============================] - 0s 9ms/step - loss: 0.0155 - val_loss: 0.0105\n",
      "Epoch 184/600\n",
      "4/4 [==============================] - 0s 9ms/step - loss: 0.0155 - val_loss: 0.0105\n",
      "Epoch 185/600\n",
      "4/4 [==============================] - 0s 9ms/step - loss: 0.0155 - val_loss: 0.0105\n",
      "Epoch 186/600\n",
      "4/4 [==============================] - 0s 10ms/step - loss: 0.0155 - val_loss: 0.0104\n",
      "Epoch 187/600\n",
      "4/4 [==============================] - 0s 9ms/step - loss: 0.0155 - val_loss: 0.0104\n",
      "Epoch 188/600\n",
      "4/4 [==============================] - 0s 9ms/step - loss: 0.0154 - val_loss: 0.0104\n",
      "Epoch 189/600\n",
      "4/4 [==============================] - 0s 9ms/step - loss: 0.0154 - val_loss: 0.0104\n",
      "Epoch 190/600\n",
      "4/4 [==============================] - 0s 9ms/step - loss: 0.0154 - val_loss: 0.0104\n",
      "Epoch 191/600\n",
      "4/4 [==============================] - 0s 9ms/step - loss: 0.0154 - val_loss: 0.0104\n",
      "Epoch 192/600\n",
      "4/4 [==============================] - 0s 9ms/step - loss: 0.0154 - val_loss: 0.0104\n",
      "Epoch 193/600\n",
      "4/4 [==============================] - 0s 9ms/step - loss: 0.0154 - val_loss: 0.0104\n",
      "Epoch 194/600\n",
      "4/4 [==============================] - 0s 9ms/step - loss: 0.0154 - val_loss: 0.0104\n",
      "Epoch 195/600\n",
      "4/4 [==============================] - 0s 9ms/step - loss: 0.0154 - val_loss: 0.0104\n",
      "Epoch 196/600\n",
      "4/4 [==============================] - 0s 9ms/step - loss: 0.0154 - val_loss: 0.0104\n",
      "Epoch 197/600\n",
      "4/4 [==============================] - 0s 9ms/step - loss: 0.0154 - val_loss: 0.0104\n",
      "Epoch 198/600\n",
      "4/4 [==============================] - 0s 9ms/step - loss: 0.0154 - val_loss: 0.0104\n",
      "Epoch 199/600\n",
      "4/4 [==============================] - 0s 9ms/step - loss: 0.0154 - val_loss: 0.0104\n",
      "Epoch 200/600\n",
      "4/4 [==============================] - 0s 9ms/step - loss: 0.0154 - val_loss: 0.0104\n",
      "Epoch 201/600\n",
      "4/4 [==============================] - 0s 9ms/step - loss: 0.0154 - val_loss: 0.0103\n",
      "Epoch 202/600\n",
      "4/4 [==============================] - 0s 9ms/step - loss: 0.0154 - val_loss: 0.0103\n",
      "Epoch 203/600\n",
      "4/4 [==============================] - 0s 10ms/step - loss: 0.0154 - val_loss: 0.0103\n",
      "Epoch 204/600\n",
      "4/4 [==============================] - 0s 9ms/step - loss: 0.0153 - val_loss: 0.0103\n",
      "Epoch 205/600\n",
      "4/4 [==============================] - 0s 8ms/step - loss: 0.0153 - val_loss: 0.0103\n",
      "Epoch 206/600\n",
      "4/4 [==============================] - 0s 9ms/step - loss: 0.0153 - val_loss: 0.0103\n",
      "Epoch 207/600\n",
      "4/4 [==============================] - 0s 9ms/step - loss: 0.0153 - val_loss: 0.0103\n",
      "Epoch 208/600\n",
      "4/4 [==============================] - 0s 9ms/step - loss: 0.0153 - val_loss: 0.0103\n",
      "Epoch 209/600\n",
      "4/4 [==============================] - 0s 8ms/step - loss: 0.0153 - val_loss: 0.0103\n",
      "Epoch 210/600\n",
      "4/4 [==============================] - 0s 8ms/step - loss: 0.0153 - val_loss: 0.0103\n",
      "Epoch 211/600\n",
      "4/4 [==============================] - 0s 9ms/step - loss: 0.0153 - val_loss: 0.0103\n",
      "Epoch 212/600\n",
      "4/4 [==============================] - 0s 9ms/step - loss: 0.0153 - val_loss: 0.0103\n",
      "Epoch 213/600\n",
      "4/4 [==============================] - 0s 9ms/step - loss: 0.0153 - val_loss: 0.0103\n",
      "Epoch 214/600\n",
      "4/4 [==============================] - 0s 9ms/step - loss: 0.0153 - val_loss: 0.0103\n",
      "Epoch 215/600\n",
      "4/4 [==============================] - 0s 8ms/step - loss: 0.0153 - val_loss: 0.0103\n",
      "Epoch 216/600\n",
      "4/4 [==============================] - 0s 8ms/step - loss: 0.0153 - val_loss: 0.0103\n",
      "Epoch 217/600\n",
      "4/4 [==============================] - 0s 8ms/step - loss: 0.0153 - val_loss: 0.0103\n",
      "Epoch 218/600\n",
      "4/4 [==============================] - 0s 9ms/step - loss: 0.0153 - val_loss: 0.0103\n",
      "Epoch 219/600\n",
      "4/4 [==============================] - 0s 9ms/step - loss: 0.0153 - val_loss: 0.0103\n",
      "Epoch 220/600\n",
      "4/4 [==============================] - 0s 9ms/step - loss: 0.0153 - val_loss: 0.0103\n",
      "Epoch 221/600\n",
      "4/4 [==============================] - 0s 8ms/step - loss: 0.0153 - val_loss: 0.0103\n",
      "Epoch 222/600\n",
      "4/4 [==============================] - 0s 9ms/step - loss: 0.0153 - val_loss: 0.0103\n",
      "Epoch 223/600\n",
      "4/4 [==============================] - 0s 9ms/step - loss: 0.0153 - val_loss: 0.0103\n",
      "Epoch 224/600\n",
      "4/4 [==============================] - 0s 9ms/step - loss: 0.0153 - val_loss: 0.0103\n",
      "Epoch 225/600\n",
      "4/4 [==============================] - 0s 11ms/step - loss: 0.0152 - val_loss: 0.0102\n",
      "Epoch 226/600\n",
      "4/4 [==============================] - 0s 8ms/step - loss: 0.0152 - val_loss: 0.0102\n",
      "Epoch 227/600\n",
      "4/4 [==============================] - 0s 9ms/step - loss: 0.0152 - val_loss: 0.0102\n",
      "Epoch 228/600\n",
      "4/4 [==============================] - 0s 9ms/step - loss: 0.0152 - val_loss: 0.0102\n",
      "Epoch 229/600\n",
      "4/4 [==============================] - 0s 9ms/step - loss: 0.0152 - val_loss: 0.0102\n",
      "Epoch 230/600\n",
      "4/4 [==============================] - 0s 9ms/step - loss: 0.0152 - val_loss: 0.0102\n",
      "Epoch 231/600\n",
      "4/4 [==============================] - 0s 9ms/step - loss: 0.0152 - val_loss: 0.0102\n",
      "Epoch 232/600\n",
      "4/4 [==============================] - 0s 9ms/step - loss: 0.0152 - val_loss: 0.0102\n",
      "Epoch 233/600\n",
      "4/4 [==============================] - 0s 10ms/step - loss: 0.0152 - val_loss: 0.0102\n",
      "Epoch 234/600\n",
      "4/4 [==============================] - 0s 9ms/step - loss: 0.0152 - val_loss: 0.0102\n",
      "Epoch 235/600\n",
      "4/4 [==============================] - 0s 9ms/step - loss: 0.0152 - val_loss: 0.0102\n",
      "Epoch 236/600\n",
      "4/4 [==============================] - 0s 10ms/step - loss: 0.0152 - val_loss: 0.0102\n",
      "Epoch 237/600\n",
      "4/4 [==============================] - 0s 8ms/step - loss: 0.0152 - val_loss: 0.0102\n",
      "Epoch 238/600\n",
      "4/4 [==============================] - 0s 9ms/step - loss: 0.0152 - val_loss: 0.0102\n",
      "Epoch 239/600\n",
      "4/4 [==============================] - 0s 9ms/step - loss: 0.0152 - val_loss: 0.0102\n",
      "Epoch 240/600\n",
      "4/4 [==============================] - 0s 9ms/step - loss: 0.0152 - val_loss: 0.0102\n",
      "Epoch 241/600\n",
      "4/4 [==============================] - 0s 9ms/step - loss: 0.0152 - val_loss: 0.0102\n",
      "Epoch 242/600\n",
      "4/4 [==============================] - 0s 8ms/step - loss: 0.0152 - val_loss: 0.0102\n",
      "Epoch 243/600\n",
      "4/4 [==============================] - 0s 9ms/step - loss: 0.0152 - val_loss: 0.0102\n",
      "Epoch 244/600\n",
      "4/4 [==============================] - 0s 9ms/step - loss: 0.0152 - val_loss: 0.0102\n",
      "Epoch 245/600\n",
      "4/4 [==============================] - 0s 9ms/step - loss: 0.0152 - val_loss: 0.0102\n",
      "Epoch 246/600\n",
      "4/4 [==============================] - 0s 9ms/step - loss: 0.0152 - val_loss: 0.0102\n",
      "Epoch 247/600\n",
      "4/4 [==============================] - 0s 9ms/step - loss: 0.0152 - val_loss: 0.0102\n",
      "Epoch 248/600\n",
      "4/4 [==============================] - 0s 9ms/step - loss: 0.0152 - val_loss: 0.0102\n",
      "Epoch 249/600\n",
      "4/4 [==============================] - 0s 10ms/step - loss: 0.0152 - val_loss: 0.0102\n",
      "Epoch 250/600\n",
      "4/4 [==============================] - 0s 9ms/step - loss: 0.0151 - val_loss: 0.0102\n",
      "Epoch 251/600\n",
      "4/4 [==============================] - 0s 8ms/step - loss: 0.0151 - val_loss: 0.0102\n",
      "Epoch 252/600\n",
      "4/4 [==============================] - 0s 9ms/step - loss: 0.0151 - val_loss: 0.0102\n",
      "Epoch 253/600\n",
      "4/4 [==============================] - 0s 9ms/step - loss: 0.0151 - val_loss: 0.0102\n",
      "Epoch 254/600\n",
      "4/4 [==============================] - 0s 9ms/step - loss: 0.0151 - val_loss: 0.0102\n",
      "Epoch 255/600\n",
      "4/4 [==============================] - 0s 9ms/step - loss: 0.0151 - val_loss: 0.0102\n",
      "Epoch 256/600\n",
      "4/4 [==============================] - 0s 8ms/step - loss: 0.0151 - val_loss: 0.0102\n",
      "Epoch 257/600\n",
      "4/4 [==============================] - 0s 8ms/step - loss: 0.0151 - val_loss: 0.0102\n",
      "Epoch 258/600\n",
      "4/4 [==============================] - 0s 8ms/step - loss: 0.0151 - val_loss: 0.0102\n",
      "Epoch 259/600\n",
      "4/4 [==============================] - 0s 9ms/step - loss: 0.0151 - val_loss: 0.0102\n",
      "Epoch 260/600\n",
      "4/4 [==============================] - 0s 9ms/step - loss: 0.0151 - val_loss: 0.0102\n",
      "Epoch 261/600\n",
      "4/4 [==============================] - 0s 9ms/step - loss: 0.0151 - val_loss: 0.0102\n",
      "Epoch 262/600\n",
      "4/4 [==============================] - 0s 9ms/step - loss: 0.0151 - val_loss: 0.0102\n",
      "Epoch 263/600\n",
      "4/4 [==============================] - 0s 9ms/step - loss: 0.0151 - val_loss: 0.0102\n",
      "Epoch 264/600\n",
      "4/4 [==============================] - 0s 8ms/step - loss: 0.0151 - val_loss: 0.0102\n",
      "Epoch 265/600\n",
      "4/4 [==============================] - 0s 8ms/step - loss: 0.0151 - val_loss: 0.0102\n",
      "Epoch 266/600\n",
      "4/4 [==============================] - 0s 8ms/step - loss: 0.0151 - val_loss: 0.0102\n",
      "Epoch 267/600\n",
      "4/4 [==============================] - 0s 8ms/step - loss: 0.0151 - val_loss: 0.0102\n",
      "Epoch 268/600\n",
      "4/4 [==============================] - 0s 8ms/step - loss: 0.0151 - val_loss: 0.0102\n",
      "Epoch 269/600\n",
      "4/4 [==============================] - 0s 9ms/step - loss: 0.0151 - val_loss: 0.0102\n",
      "Epoch 270/600\n",
      "4/4 [==============================] - 0s 9ms/step - loss: 0.0151 - val_loss: 0.0102\n",
      "Epoch 271/600\n",
      "4/4 [==============================] - 0s 9ms/step - loss: 0.0151 - val_loss: 0.0102\n",
      "Epoch 272/600\n",
      "4/4 [==============================] - 0s 10ms/step - loss: 0.0151 - val_loss: 0.0102\n",
      "Epoch 273/600\n",
      "4/4 [==============================] - 0s 9ms/step - loss: 0.0151 - val_loss: 0.0102\n",
      "Epoch 274/600\n",
      "4/4 [==============================] - 0s 9ms/step - loss: 0.0151 - val_loss: 0.0102\n",
      "Epoch 275/600\n",
      "4/4 [==============================] - 0s 8ms/step - loss: 0.0151 - val_loss: 0.0102\n",
      "Epoch 276/600\n",
      "4/4 [==============================] - 0s 9ms/step - loss: 0.0150 - val_loss: 0.0102\n",
      "Epoch 277/600\n",
      "4/4 [==============================] - 0s 9ms/step - loss: 0.0150 - val_loss: 0.0102\n",
      "Epoch 278/600\n",
      "4/4 [==============================] - 0s 9ms/step - loss: 0.0150 - val_loss: 0.0102\n",
      "Epoch 279/600\n",
      "4/4 [==============================] - 0s 9ms/step - loss: 0.0150 - val_loss: 0.0102\n",
      "Epoch 280/600\n",
      "4/4 [==============================] - 0s 9ms/step - loss: 0.0150 - val_loss: 0.0102\n",
      "Epoch 281/600\n",
      "4/4 [==============================] - 0s 9ms/step - loss: 0.0150 - val_loss: 0.0102\n",
      "Epoch 282/600\n",
      "4/4 [==============================] - 0s 8ms/step - loss: 0.0150 - val_loss: 0.0102\n",
      "Epoch 283/600\n",
      "4/4 [==============================] - 0s 9ms/step - loss: 0.0150 - val_loss: 0.0102\n",
      "Epoch 284/600\n",
      "4/4 [==============================] - 0s 9ms/step - loss: 0.0150 - val_loss: 0.0102\n",
      "Epoch 285/600\n",
      "4/4 [==============================] - 0s 9ms/step - loss: 0.0150 - val_loss: 0.0102\n",
      "Epoch 286/600\n",
      "4/4 [==============================] - 0s 9ms/step - loss: 0.0150 - val_loss: 0.0102\n",
      "Epoch 287/600\n",
      "4/4 [==============================] - 0s 9ms/step - loss: 0.0150 - val_loss: 0.0102\n",
      "Epoch 288/600\n",
      "4/4 [==============================] - 0s 9ms/step - loss: 0.0150 - val_loss: 0.0102\n",
      "Epoch 289/600\n",
      "4/4 [==============================] - 0s 9ms/step - loss: 0.0150 - val_loss: 0.0102\n",
      "Epoch 290/600\n",
      "4/4 [==============================] - 0s 9ms/step - loss: 0.0150 - val_loss: 0.0102\n",
      "Epoch 291/600\n",
      "4/4 [==============================] - 0s 9ms/step - loss: 0.0150 - val_loss: 0.0102\n",
      "Epoch 292/600\n",
      "4/4 [==============================] - 0s 9ms/step - loss: 0.0150 - val_loss: 0.0102\n",
      "Epoch 293/600\n",
      "4/4 [==============================] - 0s 9ms/step - loss: 0.0150 - val_loss: 0.0102\n",
      "Epoch 294/600\n",
      "4/4 [==============================] - 0s 9ms/step - loss: 0.0150 - val_loss: 0.0102\n",
      "Epoch 295/600\n",
      "4/4 [==============================] - 0s 9ms/step - loss: 0.0150 - val_loss: 0.0102\n",
      "Epoch 296/600\n",
      "4/4 [==============================] - 0s 9ms/step - loss: 0.0150 - val_loss: 0.0102\n",
      "Epoch 297/600\n",
      "4/4 [==============================] - 0s 9ms/step - loss: 0.0150 - val_loss: 0.0102\n",
      "Epoch 298/600\n",
      "4/4 [==============================] - 0s 9ms/step - loss: 0.0150 - val_loss: 0.0102\n",
      "Epoch 299/600\n",
      "4/4 [==============================] - 0s 10ms/step - loss: 0.0150 - val_loss: 0.0102\n",
      "Epoch 300/600\n",
      "4/4 [==============================] - 0s 9ms/step - loss: 0.0150 - val_loss: 0.0102\n",
      "Epoch 301/600\n",
      "4/4 [==============================] - 0s 8ms/step - loss: 0.0150 - val_loss: 0.0102\n",
      "Epoch 302/600\n",
      "4/4 [==============================] - 0s 9ms/step - loss: 0.0149 - val_loss: 0.0102\n",
      "Epoch 303/600\n",
      "4/4 [==============================] - 0s 9ms/step - loss: 0.0149 - val_loss: 0.0102\n",
      "Epoch 304/600\n",
      "4/4 [==============================] - 0s 9ms/step - loss: 0.0149 - val_loss: 0.0102\n",
      "Epoch 305/600\n",
      "4/4 [==============================] - 0s 9ms/step - loss: 0.0149 - val_loss: 0.0102\n",
      "Epoch 306/600\n",
      "4/4 [==============================] - 0s 11ms/step - loss: 0.0149 - val_loss: 0.0102\n",
      "Epoch 307/600\n",
      "4/4 [==============================] - 0s 9ms/step - loss: 0.0149 - val_loss: 0.0102\n",
      "Epoch 308/600\n",
      "4/4 [==============================] - 0s 9ms/step - loss: 0.0149 - val_loss: 0.0102\n",
      "Epoch 309/600\n",
      "4/4 [==============================] - 0s 8ms/step - loss: 0.0149 - val_loss: 0.0102\n",
      "Epoch 310/600\n",
      "4/4 [==============================] - 0s 9ms/step - loss: 0.0149 - val_loss: 0.0102\n",
      "Epoch 311/600\n",
      "4/4 [==============================] - 0s 9ms/step - loss: 0.0149 - val_loss: 0.0102\n",
      "Epoch 312/600\n",
      "4/4 [==============================] - 0s 9ms/step - loss: 0.0149 - val_loss: 0.0102\n",
      "Epoch 313/600\n",
      "4/4 [==============================] - 0s 9ms/step - loss: 0.0149 - val_loss: 0.0102\n",
      "Epoch 314/600\n",
      "4/4 [==============================] - 0s 9ms/step - loss: 0.0149 - val_loss: 0.0102\n",
      "Epoch 315/600\n",
      "4/4 [==============================] - 0s 10ms/step - loss: 0.0149 - val_loss: 0.0102\n",
      "Epoch 316/600\n",
      "4/4 [==============================] - 0s 9ms/step - loss: 0.0149 - val_loss: 0.0102\n",
      "Epoch 317/600\n",
      "4/4 [==============================] - 0s 9ms/step - loss: 0.0149 - val_loss: 0.0102\n",
      "Epoch 318/600\n",
      "4/4 [==============================] - 0s 9ms/step - loss: 0.0149 - val_loss: 0.0102\n",
      "Epoch 319/600\n",
      "4/4 [==============================] - 0s 9ms/step - loss: 0.0149 - val_loss: 0.0103\n",
      "Epoch 320/600\n",
      "4/4 [==============================] - 0s 10ms/step - loss: 0.0149 - val_loss: 0.0103\n",
      "Epoch 321/600\n",
      "4/4 [==============================] - 0s 10ms/step - loss: 0.0149 - val_loss: 0.0103\n",
      "Epoch 322/600\n",
      "4/4 [==============================] - 0s 9ms/step - loss: 0.0149 - val_loss: 0.0103\n",
      "Epoch 323/600\n",
      "4/4 [==============================] - 0s 9ms/step - loss: 0.0149 - val_loss: 0.0103\n",
      "Epoch 324/600\n",
      "4/4 [==============================] - 0s 9ms/step - loss: 0.0149 - val_loss: 0.0103\n",
      "Epoch 325/600\n",
      "4/4 [==============================] - 0s 9ms/step - loss: 0.0149 - val_loss: 0.0103\n",
      "Epoch 326/600\n",
      "4/4 [==============================] - 0s 9ms/step - loss: 0.0148 - val_loss: 0.0103\n",
      "Epoch 327/600\n",
      "4/4 [==============================] - 0s 9ms/step - loss: 0.0148 - val_loss: 0.0103\n",
      "Epoch 328/600\n",
      "4/4 [==============================] - 0s 9ms/step - loss: 0.0148 - val_loss: 0.0103\n",
      "Epoch 329/600\n",
      "4/4 [==============================] - 0s 9ms/step - loss: 0.0148 - val_loss: 0.0103\n",
      "Epoch 330/600\n",
      "4/4 [==============================] - 0s 9ms/step - loss: 0.0148 - val_loss: 0.0103\n",
      "Epoch 331/600\n",
      "4/4 [==============================] - 0s 10ms/step - loss: 0.0148 - val_loss: 0.0103\n",
      "Epoch 332/600\n",
      "4/4 [==============================] - 0s 9ms/step - loss: 0.0148 - val_loss: 0.0103\n",
      "Epoch 333/600\n",
      "4/4 [==============================] - 0s 9ms/step - loss: 0.0148 - val_loss: 0.0103\n",
      "Epoch 334/600\n",
      "4/4 [==============================] - 0s 9ms/step - loss: 0.0148 - val_loss: 0.0103\n",
      "Epoch 335/600\n",
      "4/4 [==============================] - 0s 9ms/step - loss: 0.0148 - val_loss: 0.0103\n",
      "Epoch 336/600\n",
      "4/4 [==============================] - 0s 11ms/step - loss: 0.0148 - val_loss: 0.0103\n",
      "Epoch 337/600\n",
      "4/4 [==============================] - 0s 9ms/step - loss: 0.0148 - val_loss: 0.0103\n",
      "Epoch 338/600\n",
      "4/4 [==============================] - 0s 9ms/step - loss: 0.0148 - val_loss: 0.0103\n",
      "Epoch 339/600\n",
      "4/4 [==============================] - 0s 9ms/step - loss: 0.0148 - val_loss: 0.0103\n",
      "Epoch 340/600\n",
      "4/4 [==============================] - 0s 8ms/step - loss: 0.0148 - val_loss: 0.0103\n",
      "Epoch 341/600\n",
      "4/4 [==============================] - 0s 9ms/step - loss: 0.0148 - val_loss: 0.0103\n",
      "Epoch 342/600\n",
      "4/4 [==============================] - 0s 11ms/step - loss: 0.0148 - val_loss: 0.0103\n",
      "Epoch 343/600\n",
      "4/4 [==============================] - 0s 9ms/step - loss: 0.0148 - val_loss: 0.0103\n",
      "Epoch 344/600\n",
      "4/4 [==============================] - 0s 9ms/step - loss: 0.0148 - val_loss: 0.0103\n",
      "Epoch 345/600\n",
      "4/4 [==============================] - 0s 9ms/step - loss: 0.0148 - val_loss: 0.0103\n",
      "Epoch 346/600\n",
      "4/4 [==============================] - 0s 10ms/step - loss: 0.0148 - val_loss: 0.0103\n",
      "Epoch 347/600\n",
      "4/4 [==============================] - 0s 9ms/step - loss: 0.0148 - val_loss: 0.0103\n",
      "Epoch 348/600\n",
      "4/4 [==============================] - 0s 8ms/step - loss: 0.0148 - val_loss: 0.0103\n",
      "Epoch 349/600\n",
      "4/4 [==============================] - 0s 8ms/step - loss: 0.0148 - val_loss: 0.0103\n",
      "Epoch 350/600\n",
      "4/4 [==============================] - 0s 9ms/step - loss: 0.0147 - val_loss: 0.0103\n",
      "Epoch 351/600\n",
      "4/4 [==============================] - 0s 9ms/step - loss: 0.0147 - val_loss: 0.0103\n",
      "Epoch 352/600\n",
      "4/4 [==============================] - 0s 9ms/step - loss: 0.0147 - val_loss: 0.0103\n",
      "Epoch 353/600\n",
      "4/4 [==============================] - 0s 8ms/step - loss: 0.0147 - val_loss: 0.0103\n",
      "Epoch 354/600\n",
      "4/4 [==============================] - 0s 8ms/step - loss: 0.0147 - val_loss: 0.0103\n",
      "Epoch 355/600\n",
      "4/4 [==============================] - 0s 8ms/step - loss: 0.0147 - val_loss: 0.0103\n",
      "Epoch 356/600\n",
      "4/4 [==============================] - 0s 9ms/step - loss: 0.0147 - val_loss: 0.0104\n",
      "Epoch 357/600\n",
      "4/4 [==============================] - 0s 9ms/step - loss: 0.0147 - val_loss: 0.0104\n",
      "Epoch 358/600\n",
      "4/4 [==============================] - 0s 9ms/step - loss: 0.0147 - val_loss: 0.0104\n",
      "Epoch 359/600\n",
      "4/4 [==============================] - 0s 9ms/step - loss: 0.0147 - val_loss: 0.0104\n",
      "Epoch 360/600\n",
      "4/4 [==============================] - 0s 8ms/step - loss: 0.0147 - val_loss: 0.0104\n",
      "Epoch 361/600\n",
      "4/4 [==============================] - 0s 8ms/step - loss: 0.0147 - val_loss: 0.0104\n",
      "Epoch 362/600\n",
      "4/4 [==============================] - 0s 8ms/step - loss: 0.0147 - val_loss: 0.0104\n",
      "Epoch 363/600\n",
      "4/4 [==============================] - 0s 8ms/step - loss: 0.0147 - val_loss: 0.0104\n",
      "Epoch 364/600\n",
      "4/4 [==============================] - 0s 9ms/step - loss: 0.0147 - val_loss: 0.0104\n",
      "Epoch 365/600\n",
      "4/4 [==============================] - 0s 9ms/step - loss: 0.0147 - val_loss: 0.0104\n",
      "Epoch 366/600\n",
      "4/4 [==============================] - 0s 8ms/step - loss: 0.0147 - val_loss: 0.0104\n",
      "Epoch 367/600\n",
      "4/4 [==============================] - 0s 9ms/step - loss: 0.0147 - val_loss: 0.0104\n",
      "Epoch 368/600\n",
      "4/4 [==============================] - 0s 9ms/step - loss: 0.0147 - val_loss: 0.0104\n",
      "Epoch 369/600\n",
      "4/4 [==============================] - 0s 9ms/step - loss: 0.0147 - val_loss: 0.0104\n",
      "Epoch 370/600\n",
      "4/4 [==============================] - 0s 10ms/step - loss: 0.0147 - val_loss: 0.0104\n",
      "Epoch 371/600\n",
      "4/4 [==============================] - 0s 9ms/step - loss: 0.0147 - val_loss: 0.0104\n",
      "Epoch 372/600\n",
      "4/4 [==============================] - 0s 8ms/step - loss: 0.0146 - val_loss: 0.0104\n",
      "Epoch 373/600\n",
      "4/4 [==============================] - 0s 9ms/step - loss: 0.0146 - val_loss: 0.0104\n",
      "Epoch 374/600\n",
      "4/4 [==============================] - 0s 9ms/step - loss: 0.0146 - val_loss: 0.0104\n",
      "Epoch 375/600\n",
      "4/4 [==============================] - 0s 9ms/step - loss: 0.0146 - val_loss: 0.0104\n",
      "Epoch 376/600\n",
      "4/4 [==============================] - 0s 8ms/step - loss: 0.0146 - val_loss: 0.0104\n",
      "Epoch 377/600\n",
      "4/4 [==============================] - 0s 9ms/step - loss: 0.0146 - val_loss: 0.0104\n",
      "Epoch 378/600\n",
      "4/4 [==============================] - 0s 9ms/step - loss: 0.0146 - val_loss: 0.0104\n",
      "Epoch 379/600\n",
      "4/4 [==============================] - 0s 9ms/step - loss: 0.0146 - val_loss: 0.0104\n",
      "Epoch 380/600\n",
      "4/4 [==============================] - 0s 8ms/step - loss: 0.0146 - val_loss: 0.0104\n",
      "Epoch 381/600\n",
      "4/4 [==============================] - 0s 8ms/step - loss: 0.0146 - val_loss: 0.0104\n",
      "Epoch 382/600\n",
      "4/4 [==============================] - 0s 8ms/step - loss: 0.0146 - val_loss: 0.0105\n",
      "Epoch 383/600\n",
      "4/4 [==============================] - 0s 8ms/step - loss: 0.0146 - val_loss: 0.0105\n",
      "Epoch 384/600\n",
      "4/4 [==============================] - 0s 8ms/step - loss: 0.0146 - val_loss: 0.0105\n",
      "Epoch 385/600\n",
      "4/4 [==============================] - 0s 8ms/step - loss: 0.0146 - val_loss: 0.0105\n",
      "Epoch 386/600\n",
      "4/4 [==============================] - 0s 9ms/step - loss: 0.0146 - val_loss: 0.0105\n",
      "Epoch 387/600\n",
      "4/4 [==============================] - 0s 9ms/step - loss: 0.0146 - val_loss: 0.0105\n",
      "Epoch 388/600\n",
      "4/4 [==============================] - 0s 10ms/step - loss: 0.0146 - val_loss: 0.0105\n",
      "Epoch 389/600\n",
      "4/4 [==============================] - 0s 8ms/step - loss: 0.0146 - val_loss: 0.0105\n",
      "Epoch 390/600\n",
      "4/4 [==============================] - 0s 8ms/step - loss: 0.0146 - val_loss: 0.0105\n",
      "Epoch 391/600\n",
      "4/4 [==============================] - 0s 8ms/step - loss: 0.0146 - val_loss: 0.0105\n",
      "Epoch 392/600\n",
      "4/4 [==============================] - 0s 8ms/step - loss: 0.0146 - val_loss: 0.0105\n",
      "Epoch 393/600\n",
      "4/4 [==============================] - 0s 9ms/step - loss: 0.0146 - val_loss: 0.0105\n",
      "Epoch 394/600\n",
      "4/4 [==============================] - 0s 9ms/step - loss: 0.0145 - val_loss: 0.0105\n",
      "Epoch 395/600\n",
      "4/4 [==============================] - 0s 9ms/step - loss: 0.0145 - val_loss: 0.0105\n",
      "Epoch 396/600\n",
      "4/4 [==============================] - 0s 9ms/step - loss: 0.0145 - val_loss: 0.0105\n",
      "Epoch 397/600\n",
      "4/4 [==============================] - 0s 9ms/step - loss: 0.0145 - val_loss: 0.0105\n",
      "Epoch 398/600\n",
      "4/4 [==============================] - 0s 9ms/step - loss: 0.0145 - val_loss: 0.0105\n",
      "Epoch 399/600\n",
      "4/4 [==============================] - 0s 9ms/step - loss: 0.0145 - val_loss: 0.0105\n",
      "Epoch 400/600\n",
      "4/4 [==============================] - 0s 9ms/step - loss: 0.0145 - val_loss: 0.0105\n",
      "Epoch 401/600\n",
      "4/4 [==============================] - 0s 9ms/step - loss: 0.0145 - val_loss: 0.0105\n",
      "Epoch 402/600\n",
      "4/4 [==============================] - 0s 9ms/step - loss: 0.0145 - val_loss: 0.0106\n",
      "Epoch 403/600\n",
      "4/4 [==============================] - 0s 9ms/step - loss: 0.0145 - val_loss: 0.0106\n",
      "Epoch 404/600\n",
      "4/4 [==============================] - 0s 9ms/step - loss: 0.0145 - val_loss: 0.0106\n",
      "Epoch 405/600\n",
      "4/4 [==============================] - 0s 9ms/step - loss: 0.0145 - val_loss: 0.0106\n",
      "Epoch 406/600\n",
      "4/4 [==============================] - 0s 9ms/step - loss: 0.0145 - val_loss: 0.0106\n",
      "Epoch 407/600\n",
      "4/4 [==============================] - 0s 9ms/step - loss: 0.0145 - val_loss: 0.0106\n",
      "Epoch 408/600\n",
      "4/4 [==============================] - 0s 9ms/step - loss: 0.0145 - val_loss: 0.0106\n",
      "Epoch 409/600\n",
      "4/4 [==============================] - 0s 8ms/step - loss: 0.0145 - val_loss: 0.0106\n",
      "Epoch 410/600\n",
      "4/4 [==============================] - 0s 8ms/step - loss: 0.0145 - val_loss: 0.0106\n",
      "Epoch 411/600\n",
      "4/4 [==============================] - 0s 9ms/step - loss: 0.0145 - val_loss: 0.0106\n",
      "Epoch 412/600\n",
      "4/4 [==============================] - 0s 9ms/step - loss: 0.0145 - val_loss: 0.0106\n",
      "Epoch 413/600\n",
      "4/4 [==============================] - 0s 9ms/step - loss: 0.0145 - val_loss: 0.0106\n",
      "Epoch 414/600\n",
      "4/4 [==============================] - 0s 10ms/step - loss: 0.0145 - val_loss: 0.0106\n",
      "Epoch 415/600\n",
      "4/4 [==============================] - 0s 9ms/step - loss: 0.0145 - val_loss: 0.0106\n",
      "Epoch 416/600\n",
      "4/4 [==============================] - 0s 9ms/step - loss: 0.0144 - val_loss: 0.0106\n",
      "Epoch 417/600\n",
      "4/4 [==============================] - 0s 9ms/step - loss: 0.0144 - val_loss: 0.0106\n",
      "Epoch 418/600\n",
      "4/4 [==============================] - 0s 10ms/step - loss: 0.0144 - val_loss: 0.0106\n",
      "Epoch 419/600\n",
      "4/4 [==============================] - 0s 8ms/step - loss: 0.0144 - val_loss: 0.0107\n",
      "Epoch 420/600\n",
      "4/4 [==============================] - 0s 9ms/step - loss: 0.0144 - val_loss: 0.0107\n",
      "Epoch 421/600\n",
      "4/4 [==============================] - 0s 9ms/step - loss: 0.0144 - val_loss: 0.0107\n",
      "Epoch 422/600\n",
      "4/4 [==============================] - 0s 9ms/step - loss: 0.0144 - val_loss: 0.0107\n",
      "Epoch 423/600\n",
      "4/4 [==============================] - 0s 9ms/step - loss: 0.0144 - val_loss: 0.0107\n",
      "Epoch 424/600\n",
      "4/4 [==============================] - 0s 8ms/step - loss: 0.0144 - val_loss: 0.0107\n",
      "Epoch 425/600\n",
      "4/4 [==============================] - 0s 9ms/step - loss: 0.0144 - val_loss: 0.0107\n",
      "Epoch 426/600\n",
      "4/4 [==============================] - 0s 9ms/step - loss: 0.0144 - val_loss: 0.0107\n",
      "Epoch 427/600\n",
      "4/4 [==============================] - 0s 8ms/step - loss: 0.0144 - val_loss: 0.0107\n",
      "Epoch 428/600\n",
      "4/4 [==============================] - 0s 8ms/step - loss: 0.0144 - val_loss: 0.0107\n",
      "Epoch 429/600\n",
      "4/4 [==============================] - 0s 8ms/step - loss: 0.0144 - val_loss: 0.0107\n",
      "Epoch 430/600\n",
      "4/4 [==============================] - 0s 8ms/step - loss: 0.0144 - val_loss: 0.0107\n",
      "Epoch 431/600\n",
      "4/4 [==============================] - 0s 8ms/step - loss: 0.0144 - val_loss: 0.0107\n",
      "Epoch 432/600\n",
      "4/4 [==============================] - 0s 9ms/step - loss: 0.0144 - val_loss: 0.0107\n",
      "Epoch 433/600\n",
      "4/4 [==============================] - 0s 9ms/step - loss: 0.0144 - val_loss: 0.0107\n",
      "Epoch 434/600\n",
      "4/4 [==============================] - 0s 9ms/step - loss: 0.0144 - val_loss: 0.0107\n",
      "Epoch 435/600\n",
      "4/4 [==============================] - 0s 9ms/step - loss: 0.0144 - val_loss: 0.0108\n",
      "Epoch 436/600\n",
      "4/4 [==============================] - 0s 9ms/step - loss: 0.0144 - val_loss: 0.0108\n",
      "Epoch 437/600\n",
      "4/4 [==============================] - 0s 9ms/step - loss: 0.0144 - val_loss: 0.0108\n",
      "Epoch 438/600\n",
      "4/4 [==============================] - 0s 9ms/step - loss: 0.0144 - val_loss: 0.0108\n",
      "Epoch 439/600\n",
      "4/4 [==============================] - 0s 9ms/step - loss: 0.0143 - val_loss: 0.0108\n",
      "Epoch 440/600\n",
      "4/4 [==============================] - 0s 9ms/step - loss: 0.0143 - val_loss: 0.0108\n",
      "Epoch 441/600\n",
      "4/4 [==============================] - 0s 9ms/step - loss: 0.0143 - val_loss: 0.0108\n",
      "Epoch 442/600\n",
      "4/4 [==============================] - 0s 9ms/step - loss: 0.0143 - val_loss: 0.0108\n",
      "Epoch 443/600\n",
      "4/4 [==============================] - 0s 9ms/step - loss: 0.0143 - val_loss: 0.0108\n",
      "Epoch 444/600\n",
      "4/4 [==============================] - 0s 9ms/step - loss: 0.0143 - val_loss: 0.0108\n",
      "Epoch 445/600\n",
      "4/4 [==============================] - 0s 9ms/step - loss: 0.0143 - val_loss: 0.0108\n",
      "Epoch 446/600\n",
      "4/4 [==============================] - 0s 9ms/step - loss: 0.0143 - val_loss: 0.0108\n",
      "Epoch 447/600\n",
      "4/4 [==============================] - 0s 8ms/step - loss: 0.0143 - val_loss: 0.0108\n",
      "Epoch 448/600\n",
      "4/4 [==============================] - 0s 8ms/step - loss: 0.0143 - val_loss: 0.0108\n",
      "Epoch 449/600\n",
      "4/4 [==============================] - 0s 8ms/step - loss: 0.0143 - val_loss: 0.0108\n",
      "Epoch 450/600\n",
      "4/4 [==============================] - 0s 8ms/step - loss: 0.0143 - val_loss: 0.0109\n",
      "Epoch 451/600\n",
      "4/4 [==============================] - 0s 8ms/step - loss: 0.0143 - val_loss: 0.0109\n",
      "Epoch 452/600\n",
      "4/4 [==============================] - 0s 8ms/step - loss: 0.0143 - val_loss: 0.0109\n",
      "Epoch 453/600\n",
      "4/4 [==============================] - 0s 8ms/step - loss: 0.0143 - val_loss: 0.0109\n",
      "Epoch 454/600\n",
      "4/4 [==============================] - 0s 8ms/step - loss: 0.0143 - val_loss: 0.0109\n",
      "Epoch 455/600\n",
      "4/4 [==============================] - 0s 9ms/step - loss: 0.0143 - val_loss: 0.0109\n",
      "Epoch 456/600\n",
      "4/4 [==============================] - 0s 9ms/step - loss: 0.0143 - val_loss: 0.0109\n",
      "Epoch 457/600\n",
      "4/4 [==============================] - 0s 9ms/step - loss: 0.0143 - val_loss: 0.0109\n",
      "Epoch 458/600\n",
      "4/4 [==============================] - 0s 10ms/step - loss: 0.0143 - val_loss: 0.0109\n",
      "Epoch 459/600\n",
      "4/4 [==============================] - 0s 9ms/step - loss: 0.0143 - val_loss: 0.0109\n",
      "Epoch 460/600\n",
      "4/4 [==============================] - 0s 9ms/step - loss: 0.0143 - val_loss: 0.0109\n",
      "Epoch 461/600\n",
      "4/4 [==============================] - 0s 9ms/step - loss: 0.0143 - val_loss: 0.0109\n",
      "Epoch 462/600\n",
      "4/4 [==============================] - 0s 8ms/step - loss: 0.0143 - val_loss: 0.0109\n",
      "Epoch 463/600\n",
      "4/4 [==============================] - 0s 9ms/step - loss: 0.0142 - val_loss: 0.0109\n",
      "Epoch 464/600\n",
      "4/4 [==============================] - 0s 10ms/step - loss: 0.0142 - val_loss: 0.0110\n",
      "Epoch 465/600\n",
      "4/4 [==============================] - 0s 9ms/step - loss: 0.0142 - val_loss: 0.0110\n",
      "Epoch 466/600\n",
      "4/4 [==============================] - 0s 9ms/step - loss: 0.0142 - val_loss: 0.0110\n",
      "Epoch 467/600\n",
      "4/4 [==============================] - 0s 8ms/step - loss: 0.0142 - val_loss: 0.0110\n",
      "Epoch 468/600\n",
      "4/4 [==============================] - 0s 9ms/step - loss: 0.0142 - val_loss: 0.0110\n",
      "Epoch 469/600\n",
      "4/4 [==============================] - 0s 9ms/step - loss: 0.0142 - val_loss: 0.0110\n",
      "Epoch 470/600\n",
      "4/4 [==============================] - 0s 9ms/step - loss: 0.0142 - val_loss: 0.0110\n",
      "Epoch 471/600\n",
      "4/4 [==============================] - 0s 9ms/step - loss: 0.0142 - val_loss: 0.0110\n",
      "Epoch 472/600\n",
      "4/4 [==============================] - 0s 9ms/step - loss: 0.0142 - val_loss: 0.0110\n",
      "Epoch 473/600\n",
      "4/4 [==============================] - 0s 9ms/step - loss: 0.0142 - val_loss: 0.0110\n",
      "Epoch 474/600\n",
      "4/4 [==============================] - 0s 10ms/step - loss: 0.0142 - val_loss: 0.0110\n",
      "Epoch 475/600\n",
      "4/4 [==============================] - 0s 8ms/step - loss: 0.0142 - val_loss: 0.0110\n",
      "Epoch 476/600\n",
      "4/4 [==============================] - 0s 9ms/step - loss: 0.0142 - val_loss: 0.0110\n",
      "Epoch 477/600\n",
      "4/4 [==============================] - 0s 9ms/step - loss: 0.0142 - val_loss: 0.0110\n",
      "Epoch 478/600\n",
      "4/4 [==============================] - 0s 8ms/step - loss: 0.0142 - val_loss: 0.0110\n",
      "Epoch 479/600\n",
      "4/4 [==============================] - 0s 9ms/step - loss: 0.0142 - val_loss: 0.0111\n",
      "Epoch 480/600\n",
      "4/4 [==============================] - 0s 9ms/step - loss: 0.0142 - val_loss: 0.0111\n",
      "Epoch 481/600\n",
      "4/4 [==============================] - 0s 9ms/step - loss: 0.0142 - val_loss: 0.0111\n",
      "Epoch 482/600\n",
      "4/4 [==============================] - 0s 9ms/step - loss: 0.0142 - val_loss: 0.0111\n",
      "Epoch 483/600\n",
      "4/4 [==============================] - 0s 9ms/step - loss: 0.0142 - val_loss: 0.0111\n",
      "Epoch 484/600\n",
      "4/4 [==============================] - 0s 9ms/step - loss: 0.0142 - val_loss: 0.0111\n",
      "Epoch 485/600\n",
      "4/4 [==============================] - 0s 8ms/step - loss: 0.0142 - val_loss: 0.0111\n",
      "Epoch 486/600\n",
      "4/4 [==============================] - 0s 9ms/step - loss: 0.0142 - val_loss: 0.0111\n",
      "Epoch 487/600\n",
      "4/4 [==============================] - 0s 9ms/step - loss: 0.0141 - val_loss: 0.0111\n",
      "Epoch 488/600\n",
      "4/4 [==============================] - 0s 9ms/step - loss: 0.0141 - val_loss: 0.0111\n",
      "Epoch 489/600\n",
      "4/4 [==============================] - 0s 9ms/step - loss: 0.0141 - val_loss: 0.0111\n",
      "Epoch 490/600\n",
      "4/4 [==============================] - 0s 8ms/step - loss: 0.0141 - val_loss: 0.0111\n",
      "Epoch 491/600\n",
      "4/4 [==============================] - 0s 9ms/step - loss: 0.0141 - val_loss: 0.0111\n",
      "Epoch 492/600\n",
      "4/4 [==============================] - 0s 9ms/step - loss: 0.0141 - val_loss: 0.0111\n",
      "Epoch 493/600\n",
      "4/4 [==============================] - 0s 11ms/step - loss: 0.0141 - val_loss: 0.0111\n",
      "Epoch 494/600\n",
      "4/4 [==============================] - 0s 10ms/step - loss: 0.0141 - val_loss: 0.0111\n",
      "Epoch 495/600\n",
      "4/4 [==============================] - 0s 9ms/step - loss: 0.0141 - val_loss: 0.0112\n",
      "Epoch 496/600\n",
      "4/4 [==============================] - 0s 9ms/step - loss: 0.0141 - val_loss: 0.0112\n",
      "Epoch 497/600\n",
      "4/4 [==============================] - 0s 9ms/step - loss: 0.0141 - val_loss: 0.0112\n",
      "Epoch 498/600\n",
      "4/4 [==============================] - 0s 9ms/step - loss: 0.0141 - val_loss: 0.0112\n",
      "Epoch 499/600\n",
      "4/4 [==============================] - 0s 9ms/step - loss: 0.0141 - val_loss: 0.0112\n",
      "Epoch 500/600\n",
      "4/4 [==============================] - 0s 10ms/step - loss: 0.0141 - val_loss: 0.0112\n",
      "Epoch 501/600\n",
      "4/4 [==============================] - 0s 8ms/step - loss: 0.0141 - val_loss: 0.0112\n",
      "Epoch 502/600\n",
      "4/4 [==============================] - 0s 9ms/step - loss: 0.0141 - val_loss: 0.0112\n",
      "Epoch 503/600\n",
      "4/4 [==============================] - 0s 9ms/step - loss: 0.0141 - val_loss: 0.0112\n",
      "Epoch 504/600\n",
      "4/4 [==============================] - 0s 9ms/step - loss: 0.0141 - val_loss: 0.0112\n",
      "Epoch 505/600\n",
      "4/4 [==============================] - 0s 9ms/step - loss: 0.0141 - val_loss: 0.0112\n",
      "Epoch 506/600\n",
      "4/4 [==============================] - 0s 9ms/step - loss: 0.0141 - val_loss: 0.0112\n",
      "Epoch 507/600\n",
      "4/4 [==============================] - 0s 9ms/step - loss: 0.0141 - val_loss: 0.0112\n",
      "Epoch 508/600\n",
      "4/4 [==============================] - 0s 9ms/step - loss: 0.0141 - val_loss: 0.0112\n",
      "Epoch 509/600\n",
      "4/4 [==============================] - 0s 9ms/step - loss: 0.0141 - val_loss: 0.0112\n",
      "Epoch 510/600\n",
      "4/4 [==============================] - 0s 9ms/step - loss: 0.0141 - val_loss: 0.0112\n",
      "Epoch 511/600\n",
      "4/4 [==============================] - 0s 9ms/step - loss: 0.0141 - val_loss: 0.0113\n",
      "Epoch 512/600\n",
      "4/4 [==============================] - 0s 11ms/step - loss: 0.0141 - val_loss: 0.0113\n",
      "Epoch 513/600\n",
      "4/4 [==============================] - 0s 9ms/step - loss: 0.0140 - val_loss: 0.0113\n",
      "Epoch 514/600\n",
      "4/4 [==============================] - 0s 9ms/step - loss: 0.0140 - val_loss: 0.0113\n",
      "Epoch 515/600\n",
      "4/4 [==============================] - 0s 11ms/step - loss: 0.0140 - val_loss: 0.0113\n",
      "Epoch 516/600\n",
      "4/4 [==============================] - 0s 9ms/step - loss: 0.0140 - val_loss: 0.0113\n",
      "Epoch 517/600\n",
      "4/4 [==============================] - 0s 9ms/step - loss: 0.0140 - val_loss: 0.0113\n",
      "Epoch 518/600\n",
      "4/4 [==============================] - 0s 9ms/step - loss: 0.0140 - val_loss: 0.0113\n",
      "Epoch 519/600\n",
      "4/4 [==============================] - 0s 8ms/step - loss: 0.0140 - val_loss: 0.0113\n",
      "Epoch 520/600\n",
      "4/4 [==============================] - 0s 8ms/step - loss: 0.0140 - val_loss: 0.0113\n",
      "Epoch 521/600\n",
      "4/4 [==============================] - 0s 8ms/step - loss: 0.0140 - val_loss: 0.0113\n",
      "Epoch 522/600\n",
      "4/4 [==============================] - 0s 9ms/step - loss: 0.0140 - val_loss: 0.0113\n",
      "Epoch 523/600\n",
      "4/4 [==============================] - 0s 9ms/step - loss: 0.0140 - val_loss: 0.0113\n",
      "Epoch 524/600\n",
      "4/4 [==============================] - 0s 9ms/step - loss: 0.0140 - val_loss: 0.0113\n",
      "Epoch 525/600\n",
      "4/4 [==============================] - 0s 11ms/step - loss: 0.0140 - val_loss: 0.0113\n",
      "Epoch 526/600\n",
      "4/4 [==============================] - 0s 8ms/step - loss: 0.0140 - val_loss: 0.0113\n",
      "Epoch 527/600\n",
      "4/4 [==============================] - 0s 9ms/step - loss: 0.0140 - val_loss: 0.0114\n",
      "Epoch 528/600\n",
      "4/4 [==============================] - 0s 9ms/step - loss: 0.0140 - val_loss: 0.0114\n",
      "Epoch 529/600\n",
      "4/4 [==============================] - 0s 9ms/step - loss: 0.0140 - val_loss: 0.0114\n",
      "Epoch 530/600\n",
      "4/4 [==============================] - 0s 9ms/step - loss: 0.0140 - val_loss: 0.0114\n",
      "Epoch 531/600\n",
      "4/4 [==============================] - 0s 8ms/step - loss: 0.0140 - val_loss: 0.0114\n",
      "Epoch 532/600\n",
      "4/4 [==============================] - 0s 9ms/step - loss: 0.0140 - val_loss: 0.0114\n",
      "Epoch 533/600\n",
      "4/4 [==============================] - 0s 9ms/step - loss: 0.0140 - val_loss: 0.0114\n",
      "Epoch 534/600\n",
      "4/4 [==============================] - 0s 9ms/step - loss: 0.0140 - val_loss: 0.0114\n",
      "Epoch 535/600\n",
      "4/4 [==============================] - 0s 9ms/step - loss: 0.0140 - val_loss: 0.0114\n",
      "Epoch 536/600\n",
      "4/4 [==============================] - 0s 9ms/step - loss: 0.0140 - val_loss: 0.0114\n",
      "Epoch 537/600\n",
      "4/4 [==============================] - 0s 9ms/step - loss: 0.0140 - val_loss: 0.0114\n",
      "Epoch 538/600\n",
      "4/4 [==============================] - 0s 9ms/step - loss: 0.0139 - val_loss: 0.0114\n",
      "Epoch 539/600\n",
      "4/4 [==============================] - 0s 9ms/step - loss: 0.0139 - val_loss: 0.0114\n",
      "Epoch 540/600\n",
      "4/4 [==============================] - 0s 9ms/step - loss: 0.0139 - val_loss: 0.0114\n",
      "Epoch 541/600\n",
      "4/4 [==============================] - 0s 9ms/step - loss: 0.0139 - val_loss: 0.0114\n",
      "Epoch 542/600\n",
      "4/4 [==============================] - 0s 10ms/step - loss: 0.0139 - val_loss: 0.0114\n",
      "Epoch 543/600\n",
      "4/4 [==============================] - 0s 9ms/step - loss: 0.0139 - val_loss: 0.0114\n",
      "Epoch 544/600\n",
      "4/4 [==============================] - 0s 9ms/step - loss: 0.0139 - val_loss: 0.0115\n",
      "Epoch 545/600\n",
      "4/4 [==============================] - 0s 9ms/step - loss: 0.0139 - val_loss: 0.0115\n",
      "Epoch 546/600\n",
      "4/4 [==============================] - 0s 9ms/step - loss: 0.0139 - val_loss: 0.0115\n",
      "Epoch 547/600\n",
      "4/4 [==============================] - 0s 9ms/step - loss: 0.0139 - val_loss: 0.0115\n",
      "Epoch 548/600\n",
      "4/4 [==============================] - 0s 9ms/step - loss: 0.0139 - val_loss: 0.0115\n",
      "Epoch 549/600\n",
      "4/4 [==============================] - 0s 9ms/step - loss: 0.0139 - val_loss: 0.0115\n",
      "Epoch 550/600\n",
      "4/4 [==============================] - 0s 9ms/step - loss: 0.0139 - val_loss: 0.0115\n",
      "Epoch 551/600\n",
      "4/4 [==============================] - 0s 9ms/step - loss: 0.0139 - val_loss: 0.0115\n",
      "Epoch 552/600\n",
      "4/4 [==============================] - 0s 8ms/step - loss: 0.0139 - val_loss: 0.0115\n",
      "Epoch 553/600\n",
      "4/4 [==============================] - 0s 9ms/step - loss: 0.0139 - val_loss: 0.0115\n",
      "Epoch 554/600\n",
      "4/4 [==============================] - 0s 9ms/step - loss: 0.0139 - val_loss: 0.0115\n",
      "Epoch 555/600\n",
      "4/4 [==============================] - 0s 9ms/step - loss: 0.0139 - val_loss: 0.0115\n",
      "Epoch 556/600\n",
      "4/4 [==============================] - 0s 9ms/step - loss: 0.0139 - val_loss: 0.0115\n",
      "Epoch 557/600\n",
      "4/4 [==============================] - 0s 9ms/step - loss: 0.0139 - val_loss: 0.0115\n",
      "Epoch 558/600\n",
      "4/4 [==============================] - 0s 9ms/step - loss: 0.0139 - val_loss: 0.0115\n",
      "Epoch 559/600\n",
      "4/4 [==============================] - 0s 9ms/step - loss: 0.0139 - val_loss: 0.0115\n",
      "Epoch 560/600\n",
      "4/4 [==============================] - 0s 9ms/step - loss: 0.0139 - val_loss: 0.0115\n",
      "Epoch 561/600\n",
      "4/4 [==============================] - 0s 9ms/step - loss: 0.0139 - val_loss: 0.0116\n",
      "Epoch 562/600\n",
      "4/4 [==============================] - 0s 8ms/step - loss: 0.0139 - val_loss: 0.0116\n",
      "Epoch 563/600\n",
      "4/4 [==============================] - 0s 9ms/step - loss: 0.0139 - val_loss: 0.0116\n",
      "Epoch 564/600\n",
      "4/4 [==============================] - 0s 9ms/step - loss: 0.0138 - val_loss: 0.0116\n",
      "Epoch 565/600\n",
      "4/4 [==============================] - 0s 9ms/step - loss: 0.0138 - val_loss: 0.0116\n",
      "Epoch 566/600\n",
      "4/4 [==============================] - 0s 9ms/step - loss: 0.0138 - val_loss: 0.0116\n",
      "Epoch 567/600\n",
      "4/4 [==============================] - 0s 9ms/step - loss: 0.0138 - val_loss: 0.0116\n",
      "Epoch 568/600\n",
      "4/4 [==============================] - 0s 9ms/step - loss: 0.0138 - val_loss: 0.0116\n",
      "Epoch 569/600\n",
      "4/4 [==============================] - 0s 9ms/step - loss: 0.0138 - val_loss: 0.0116\n",
      "Epoch 570/600\n",
      "4/4 [==============================] - 0s 9ms/step - loss: 0.0138 - val_loss: 0.0116\n",
      "Epoch 571/600\n",
      "4/4 [==============================] - 0s 8ms/step - loss: 0.0138 - val_loss: 0.0116\n",
      "Epoch 572/600\n",
      "4/4 [==============================] - 0s 9ms/step - loss: 0.0138 - val_loss: 0.0116\n",
      "Epoch 573/600\n",
      "4/4 [==============================] - 0s 9ms/step - loss: 0.0138 - val_loss: 0.0116\n",
      "Epoch 574/600\n",
      "4/4 [==============================] - 0s 9ms/step - loss: 0.0138 - val_loss: 0.0116\n",
      "Epoch 575/600\n",
      "4/4 [==============================] - 0s 9ms/step - loss: 0.0138 - val_loss: 0.0116\n",
      "Epoch 576/600\n",
      "4/4 [==============================] - 0s 9ms/step - loss: 0.0138 - val_loss: 0.0116\n",
      "Epoch 577/600\n",
      "4/4 [==============================] - 0s 9ms/step - loss: 0.0138 - val_loss: 0.0116\n",
      "Epoch 578/600\n",
      "4/4 [==============================] - 0s 8ms/step - loss: 0.0138 - val_loss: 0.0117\n",
      "Epoch 579/600\n",
      "4/4 [==============================] - 0s 10ms/step - loss: 0.0138 - val_loss: 0.0117\n",
      "Epoch 580/600\n",
      "4/4 [==============================] - 0s 8ms/step - loss: 0.0138 - val_loss: 0.0117\n",
      "Epoch 581/600\n",
      "4/4 [==============================] - 0s 8ms/step - loss: 0.0138 - val_loss: 0.0117\n",
      "Epoch 582/600\n",
      "4/4 [==============================] - 0s 9ms/step - loss: 0.0138 - val_loss: 0.0117\n",
      "Epoch 583/600\n",
      "4/4 [==============================] - 0s 9ms/step - loss: 0.0138 - val_loss: 0.0117\n",
      "Epoch 584/600\n",
      "4/4 [==============================] - 0s 9ms/step - loss: 0.0138 - val_loss: 0.0117\n",
      "Epoch 585/600\n",
      "4/4 [==============================] - 0s 11ms/step - loss: 0.0138 - val_loss: 0.0117\n",
      "Epoch 586/600\n",
      "4/4 [==============================] - 0s 9ms/step - loss: 0.0138 - val_loss: 0.0117\n",
      "Epoch 587/600\n",
      "4/4 [==============================] - 0s 9ms/step - loss: 0.0138 - val_loss: 0.0117\n",
      "Epoch 588/600\n",
      "4/4 [==============================] - 0s 9ms/step - loss: 0.0138 - val_loss: 0.0117\n",
      "Epoch 589/600\n",
      "4/4 [==============================] - 0s 9ms/step - loss: 0.0137 - val_loss: 0.0117\n",
      "Epoch 590/600\n",
      "4/4 [==============================] - 0s 8ms/step - loss: 0.0137 - val_loss: 0.0117\n",
      "Epoch 591/600\n",
      "4/4 [==============================] - 0s 9ms/step - loss: 0.0137 - val_loss: 0.0117\n",
      "Epoch 592/600\n",
      "4/4 [==============================] - 0s 9ms/step - loss: 0.0137 - val_loss: 0.0117\n",
      "Epoch 593/600\n",
      "4/4 [==============================] - 0s 9ms/step - loss: 0.0137 - val_loss: 0.0117\n",
      "Epoch 594/600\n",
      "4/4 [==============================] - 0s 9ms/step - loss: 0.0137 - val_loss: 0.0118\n",
      "Epoch 595/600\n",
      "4/4 [==============================] - 0s 8ms/step - loss: 0.0137 - val_loss: 0.0118\n",
      "Epoch 596/600\n",
      "4/4 [==============================] - 0s 9ms/step - loss: 0.0137 - val_loss: 0.0118\n",
      "Epoch 597/600\n",
      "4/4 [==============================] - 0s 9ms/step - loss: 0.0137 - val_loss: 0.0118\n",
      "Epoch 598/600\n",
      "4/4 [==============================] - 0s 9ms/step - loss: 0.0137 - val_loss: 0.0118\n",
      "Epoch 599/600\n",
      "4/4 [==============================] - 0s 9ms/step - loss: 0.0137 - val_loss: 0.0118\n",
      "Epoch 600/600\n",
      "4/4 [==============================] - 0s 8ms/step - loss: 0.0137 - val_loss: 0.0118\n"
     ]
    }
   ],
   "source": [
    "#create and fit the LSTM network\n",
    "model=Sequential()\n",
    "model.add(LSTM(50,return_sequences=True,input_shape=(1,look_back)))\n",
    "model.add(LSTM(50,return_sequences=True))\n",
    "model.add(LSTM(50))\n",
    "model.add(Dense(1))\n",
    "model.compile(loss='mean_squared_error', optimizer='adam')\n",
    "history = model.fit(trainX, trainY, epochs=600, batch_size=200, validation_data=(testX, testY), shuffle=False)"
   ]
  },
  {
   "cell_type": "markdown",
   "metadata": {},
   "source": [
    "# Check for overfitting and underfitting"
   ]
  },
  {
   "cell_type": "code",
   "execution_count": 17,
   "metadata": {},
   "outputs": [
    {
     "data": {
      "image/png": "[encoded data removed]",
      "text/plain": [
       "<Figure size 432x288 with 1 Axes>"
      ]
     },
     "metadata": {},
     "output_type": "display_data"
    }
   ],
   "source": [
    "# plot train and validation loss\n",
    "import matplotlib.pyplot as plt\n",
    "plt.plot(history.history['loss'])\n",
    "plt.plot(history.history['val_loss'])\n",
    "plt.title('Model train vs validation loss')\n",
    "plt.ylabel('loss')\n",
    "plt.xlabel('epoch')\n",
    "plt.legend(['train', 'validation'], loc='upper right')\n",
    "plt.show()"
   ]
  },
  {
   "cell_type": "markdown",
   "metadata": {},
   "source": [
    "The model is fit, now we can estimate the performance of the model on the test datasets."
   ]
  },
  {
   "cell_type": "markdown",
   "metadata": {},
   "source": [
    "# Predict results and Checking for accuracy scores"
   ]
  },
  {
   "cell_type": "code",
   "execution_count": 18,
   "metadata": {},
   "outputs": [
    {
     "name": "stdout",
     "output_type": "stream",
     "text": [
      "Test Score: 45.224 RMSE\n"
     ]
    }
   ],
   "source": [
    "testPredict = model.predict(testX)\n",
    "# invert predictions\n",
    "test_Predict = scaler.inverse_transform(testPredict)\n",
    "test_Y = scaler.inverse_transform([testY])\n",
    "# calculate root mean squared error\n",
    "testScore = math.sqrt(mean_squared_error(test_Y[0], test_Predict[:,0]))\n",
    "print('Test Score: %.3f RMSE' % (testScore))"
   ]
  },
  {
   "cell_type": "code",
   "execution_count": 19,
   "metadata": {},
   "outputs": [
    {
     "name": "stdout",
     "output_type": "stream",
     "text": [
      "Test Score: 2045.188 MSE\n"
     ]
    }
   ],
   "source": [
    "testScore = mean_squared_error(test_Y[0], test_Predict[:,0])\n",
    "print('Test Score: %.3f MSE' % (testScore))"
   ]
  },
  {
   "cell_type": "code",
   "execution_count": 20,
   "metadata": {},
   "outputs": [
    {
     "name": "stdout",
     "output_type": "stream",
     "text": [
      "Test Score: 30.192 MAE\n"
     ]
    }
   ],
   "source": [
    "testScore = mean_absolute_error(test_Y[0], test_Predict[:,0])\n",
    "print('Test Score: %.3f MAE' % (testScore))"
   ]
  },
  {
   "cell_type": "code",
   "execution_count": 21,
   "metadata": {},
   "outputs": [
    {
     "name": "stdout",
     "output_type": "stream",
     "text": [
      "Test Score: 4.129 MAPE\n"
     ]
    }
   ],
   "source": [
    "testScore = mean_absolute_percentage_error(test_Y[0], test_Predict[:,0])\n",
    "print('Test Score: %.3f MAPE' % (testScore))"
   ]
  },
  {
   "cell_type": "code",
   "execution_count": 22,
   "metadata": {},
   "outputs": [
    {
     "data": {
      "application/vnd.plotly.v1+json": {
       "config": {
        "linkText": "Export to plot.ly",
        "plotlyServerURL": "https://plot.ly",
        "showLink": true
       },
       "data": [
        {
         "line": {
          "color": "rgba(255, 153, 51, 1.0)",
          "dash": "solid",
          "shape": "linear",
          "width": 1.3
         },
         "mode": "lines",
         "name": "rainfall",
         "text": "",
         "type": "scatter",
         "x": [
          "2014-02",
          "2014-03",
          "2014-04",
          "2014-05",
          "2014-06",
          "2014-07",
          "2014-08",
          "2014-09",
          "2014-10",
          "2014-11",
          "2014-12",
          "2015-01",
          "2015-02",
          "2015-03",
          "2015-04",
          "2015-05",
          "2015-07",
          "2015-08",
          "2015-09",
          "2015-10",
          "2015-11",
          "2015-12",
          "2016-01",
          "2016-02",
          "2016-03",
          "2016-04",
          "2016-05",
          "2016-06",
          "2016-07",
          "2016-08",
          "2016-09",
          "2016-10",
          "2016-11",
          "2016-12",
          "2017-01",
          "2017-02",
          "2017-03",
          "2017-04",
          "2017-05",
          "2017-06",
          "2017-07",
          "2017-08",
          "2017-09",
          "2017-10",
          "2017-11",
          "2017-12",
          "2018-01",
          "2018-02",
          "2018-03",
          "2018-04",
          "2018-05",
          "2018-07",
          "2018-08",
          "2018-09",
          "2018-10",
          "2018-11",
          "2018-12",
          "2019-01",
          "2019-02",
          "2019-03",
          "2019-04",
          "2019-05",
          "2019-06",
          "2019-08",
          "2019-09",
          "2019-10",
          "2019-11",
          "2019-12"
         ],
         "y": [
          101.6,
          303.4,
          23.8,
          16.8,
          0.4,
          1.2,
          9.4,
          8.6,
          23.2,
          141.2,
          150.8,
          131.6,
          125,
          74.2,
          63.8,
          30.2,
          5.2,
          2.8,
          37.8,
          32,
          27.4,
          112.4,
          75.4,
          84.8,
          89.2,
          19.8,
          18,
          3.4,
          21.2,
          6,
          1.8,
          32.8,
          136.6,
          198.6,
          144.2,
          152.2,
          58,
          28.8,
          49.2,
          0.2,
          4,
          0.4,
          16.6,
          49.4,
          122.6,
          146.2,
          45.6,
          137.6,
          75.6,
          125.2,
          26,
          6.6,
          32.6,
          24.4,
          37.2,
          36.6,
          78.6,
          125.8,
          44,
          52.2,
          65.8,
          2.4,
          4.4,
          3.6,
          34.6,
          60.4,
          82.6,
          108.6
         ]
        },
        {
         "line": {
          "color": "rgba(55, 128, 191, 1.0)",
          "dash": "solid",
          "shape": "linear",
          "width": 1.3
         },
         "mode": "lines",
         "name": "Prediction",
         "text": "",
         "type": "scatter",
         "x": [
          "2014-02",
          "2014-03",
          "2014-04",
          "2014-05",
          "2014-06",
          "2014-07",
          "2014-08",
          "2014-09",
          "2014-10",
          "2014-11",
          "2014-12",
          "2015-01",
          "2015-02",
          "2015-03",
          "2015-04",
          "2015-05",
          "2015-07",
          "2015-08",
          "2015-09",
          "2015-10",
          "2015-11",
          "2015-12",
          "2016-01",
          "2016-02",
          "2016-03",
          "2016-04",
          "2016-05",
          "2016-06",
          "2016-07",
          "2016-08",
          "2016-09",
          "2016-10",
          "2016-11",
          "2016-12",
          "2017-01",
          "2017-02",
          "2017-03",
          "2017-04",
          "2017-05",
          "2017-06",
          "2017-07",
          "2017-08",
          "2017-09",
          "2017-10",
          "2017-11",
          "2017-12",
          "2018-01",
          "2018-02",
          "2018-03",
          "2018-04",
          "2018-05",
          "2018-07",
          "2018-08",
          "2018-09",
          "2018-10",
          "2018-11",
          "2018-12",
          "2019-01",
          "2019-02",
          "2019-03",
          "2019-04",
          "2019-05",
          "2019-06",
          "2019-08",
          "2019-09",
          "2019-10",
          "2019-11",
          "2019-12"
         ],
         "y": [
          123.59973907470703,
          94.52883911132812,
          76.8885269165039,
          75.0210189819336,
          -1.4522435665130615,
          -0.9882277846336365,
          -12.97226333618164,
          34.89802932739258,
          22.747011184692383,
          95.25856018066406,
          132.50318908691406,
          135.77963256835938,
          217.2338409423828,
          139.6481170654297,
          159.47218322753906,
          48.33544158935547,
          20.338972091674805,
          5.561370849609375,
          12.798229217529297,
          24.7583065032959,
          47.764190673828125,
          90.264404296875,
          87.33908081054688,
          110.23029327392578,
          104.95738983154297,
          87.49541473388672,
          61.694541931152344,
          37.66459274291992,
          15.025045394897461,
          13.099590301513672,
          43.870460510253906,
          42.607059478759766,
          57.57887649536133,
          89.760498046875,
          122.15894317626953,
          152.5390625,
          136.25856018066406,
          92.6601791381836,
          45.66664123535156,
          18.484289169311523,
          13.018656730651855,
          19.56553840637207,
          38.30279541015625,
          21.327926635742188,
          79.90693664550781,
          79.86449432373047,
          108.56827545166016,
          140.25201416015625,
          109.11195373535156,
          72.02876281738281,
          50.336448669433594,
          32.20100021362305,
          -1.376449465751648,
          12.842894554138184,
          21.430200576782227,
          45.57250213623047,
          75.36483001708984,
          104.64037322998047,
          120.6444091796875,
          121.41183471679688,
          84.83528900146484,
          58.3359375,
          56.05280685424805,
          24.69964027404785,
          10.9957857131958,
          28.454612731933594,
          69.65867614746094,
          73.78732299804688
         ]
        }
       ],
       "layout": {
        "legend": {
         "bgcolor": "#F5F6F9",
         "font": {
          "color": "#4D5663"
         }
        },
        "paper_bgcolor": "#F5F6F9",
        "plot_bgcolor": "#F5F6F9",
        "template": {
         "data": {
          "bar": [
           {
            "error_x": {
             "color": "#2a3f5f"
            },
            "error_y": {
             "color": "#2a3f5f"
            },
            "marker": {
             "line": {
              "color": "#E5ECF6",
              "width": 0.5
             }
            },
            "type": "bar"
           }
          ],
          "barpolar": [
           {
            "marker": {
             "line": {
              "color": "#E5ECF6",
              "width": 0.5
             }
            },
            "type": "barpolar"
           }
          ],
          "carpet": [
           {
            "aaxis": {
             "endlinecolor": "#2a3f5f",
             "gridcolor": "white",
             "linecolor": "white",
             "minorgridcolor": "white",
             "startlinecolor": "#2a3f5f"
            },
            "baxis": {
             "endlinecolor": "#2a3f5f",
             "gridcolor": "white",
             "linecolor": "white",
             "minorgridcolor": "white",
             "startlinecolor": "#2a3f5f"
            },
            "type": "carpet"
           }
          ],
          "choropleth": [
           {
            "colorbar": {
             "outlinewidth": 0,
             "ticks": ""
            },
            "type": "choropleth"
           }
          ],
          "contour": [
           {
            "colorbar": {
             "outlinewidth": 0,
             "ticks": ""
            },
            "colorscale": [
             [
              0,
              "#0d0887"
             ],
             [
              0.1111111111111111,
              "#46039f"
             ],
             [
              0.2222222222222222,
              "#7201a8"
             ],
             [
              0.3333333333333333,
              "#9c179e"
             ],
             [
              0.4444444444444444,
              "#bd3786"
             ],
             [
              0.5555555555555556,
              "#d8576b"
             ],
             [
              0.6666666666666666,
              "#ed7953"
             ],
             [
              0.7777777777777778,
              "#fb9f3a"
             ],
             [
              0.8888888888888888,
              "#fdca26"
             ],
             [
              1,
              "#f0f921"
             ]
            ],
            "type": "contour"
           }
          ],
          "contourcarpet": [
           {
            "colorbar": {
             "outlinewidth": 0,
             "ticks": ""
            },
            "type": "contourcarpet"
           }
          ],
          "heatmap": [
           {
            "colorbar": {
             "outlinewidth": 0,
             "ticks": ""
            },
            "colorscale": [
             [
              0,
              "#0d0887"
             ],
             [
              0.1111111111111111,
              "#46039f"
             ],
             [
              0.2222222222222222,
              "#7201a8"
             ],
             [
              0.3333333333333333,
              "#9c179e"
             ],
             [
              0.4444444444444444,
              "#bd3786"
             ],
             [
              0.5555555555555556,
              "#d8576b"
             ],
             [
              0.6666666666666666,
              "#ed7953"
             ],
             [
              0.7777777777777778,
              "#fb9f3a"
             ],
             [
              0.8888888888888888,
              "#fdca26"
             ],
             [
              1,
              "#f0f921"
             ]
            ],
            "type": "heatmap"
           }
          ],
          "heatmapgl": [
           {
            "colorbar": {
             "outlinewidth": 0,
             "ticks": ""
            },
            "colorscale": [
             [
              0,
              "#0d0887"
             ],
             [
              0.1111111111111111,
              "#46039f"
             ],
             [
              0.2222222222222222,
              "#7201a8"
             ],
             [
              0.3333333333333333,
              "#9c179e"
             ],
             [
              0.4444444444444444,
              "#bd3786"
             ],
             [
              0.5555555555555556,
              "#d8576b"
             ],
             [
              0.6666666666666666,
              "#ed7953"
             ],
             [
              0.7777777777777778,
              "#fb9f3a"
             ],
             [
              0.8888888888888888,
              "#fdca26"
             ],
             [
              1,
              "#f0f921"
             ]
            ],
            "type": "heatmapgl"
           }
          ],
          "histogram": [
           {
            "marker": {
             "colorbar": {
              "outlinewidth": 0,
              "ticks": ""
             }
            },
            "type": "histogram"
           }
          ],
          "histogram2d": [
           {
            "colorbar": {
             "outlinewidth": 0,
             "ticks": ""
            },
            "colorscale": [
             [
              0,
              "#0d0887"
             ],
             [
              0.1111111111111111,
              "#46039f"
             ],
             [
              0.2222222222222222,
              "#7201a8"
             ],
             [
              0.3333333333333333,
              "#9c179e"
             ],
             [
              0.4444444444444444,
              "#bd3786"
             ],
             [
              0.5555555555555556,
              "#d8576b"
             ],
             [
              0.6666666666666666,
              "#ed7953"
             ],
             [
              0.7777777777777778,
              "#fb9f3a"
             ],
             [
              0.8888888888888888,
              "#fdca26"
             ],
             [
              1,
              "#f0f921"
             ]
            ],
            "type": "histogram2d"
           }
          ],
          "histogram2dcontour": [
           {
            "colorbar": {
             "outlinewidth": 0,
             "ticks": ""
            },
            "colorscale": [
             [
              0,
              "#0d0887"
             ],
             [
              0.1111111111111111,
              "#46039f"
             ],
             [
              0.2222222222222222,
              "#7201a8"
             ],
             [
              0.3333333333333333,
              "#9c179e"
             ],
             [
              0.4444444444444444,
              "#bd3786"
             ],
             [
              0.5555555555555556,
              "#d8576b"
             ],
             [
              0.6666666666666666,
              "#ed7953"
             ],
             [
              0.7777777777777778,
              "#fb9f3a"
             ],
             [
              0.8888888888888888,
              "#fdca26"
             ],
             [
              1,
              "#f0f921"
             ]
            ],
            "type": "histogram2dcontour"
           }
          ],
          "mesh3d": [
           {
            "colorbar": {
             "outlinewidth": 0,
             "ticks": ""
            },
            "type": "mesh3d"
           }
          ],
          "parcoords": [
           {
            "line": {
             "colorbar": {
              "outlinewidth": 0,
              "ticks": ""
             }
            },
            "type": "parcoords"
           }
          ],
          "pie": [
           {
            "automargin": true,
            "type": "pie"
           }
          ],
          "scatter": [
           {
            "marker": {
             "colorbar": {
              "outlinewidth": 0,
              "ticks": ""
             }
            },
            "type": "scatter"
           }
          ],
          "scatter3d": [
           {
            "line": {
             "colorbar": {
              "outlinewidth": 0,
              "ticks": ""
             }
            },
            "marker": {
             "colorbar": {
              "outlinewidth": 0,
              "ticks": ""
             }
            },
            "type": "scatter3d"
           }
          ],
          "scattercarpet": [
           {
            "marker": {
             "colorbar": {
              "outlinewidth": 0,
              "ticks": ""
             }
            },
            "type": "scattercarpet"
           }
          ],
          "scattergeo": [
           {
            "marker": {
             "colorbar": {
              "outlinewidth": 0,
              "ticks": ""
             }
            },
            "type": "scattergeo"
           }
          ],
          "scattergl": [
           {
            "marker": {
             "colorbar": {
              "outlinewidth": 0,
              "ticks": ""
             }
            },
            "type": "scattergl"
           }
          ],
          "scattermapbox": [
           {
            "marker": {
             "colorbar": {
              "outlinewidth": 0,
              "ticks": ""
             }
            },
            "type": "scattermapbox"
           }
          ],
          "scatterpolar": [
           {
            "marker": {
             "colorbar": {
              "outlinewidth": 0,
              "ticks": ""
             }
            },
            "type": "scatterpolar"
           }
          ],
          "scatterpolargl": [
           {
            "marker": {
             "colorbar": {
              "outlinewidth": 0,
              "ticks": ""
             }
            },
            "type": "scatterpolargl"
           }
          ],
          "scatterternary": [
           {
            "marker": {
             "colorbar": {
              "outlinewidth": 0,
              "ticks": ""
             }
            },
            "type": "scatterternary"
           }
          ],
          "surface": [
           {
            "colorbar": {
             "outlinewidth": 0,
             "ticks": ""
            },
            "colorscale": [
             [
              0,
              "#0d0887"
             ],
             [
              0.1111111111111111,
              "#46039f"
             ],
             [
              0.2222222222222222,
              "#7201a8"
             ],
             [
              0.3333333333333333,
              "#9c179e"
             ],
             [
              0.4444444444444444,
              "#bd3786"
             ],
             [
              0.5555555555555556,
              "#d8576b"
             ],
             [
              0.6666666666666666,
              "#ed7953"
             ],
             [
              0.7777777777777778,
              "#fb9f3a"
             ],
             [
              0.8888888888888888,
              "#fdca26"
             ],
             [
              1,
              "#f0f921"
             ]
            ],
            "type": "surface"
           }
          ],
          "table": [
           {
            "cells": {
             "fill": {
              "color": "#EBF0F8"
             },
             "line": {
              "color": "white"
             }
            },
            "header": {
             "fill": {
              "color": "#C8D4E3"
             },
             "line": {
              "color": "white"
             }
            },
            "type": "table"
           }
          ]
         },
         "layout": {
          "annotationdefaults": {
           "arrowcolor": "#2a3f5f",
           "arrowhead": 0,
           "arrowwidth": 1
          },
          "autotypenumbers": "strict",
          "coloraxis": {
           "colorbar": {
            "outlinewidth": 0,
            "ticks": ""
           }
          },
          "colorscale": {
           "diverging": [
            [
             0,
             "#8e0152"
            ],
            [
             0.1,
             "#c51b7d"
            ],
            [
             0.2,
             "#de77ae"
            ],
            [
             0.3,
             "#f1b6da"
            ],
            [
             0.4,
             "#fde0ef"
            ],
            [
             0.5,
             "#f7f7f7"
            ],
            [
             0.6,
             "#e6f5d0"
            ],
            [
             0.7,
             "#b8e186"
            ],
            [
             0.8,
             "#7fbc41"
            ],
            [
             0.9,
             "#4d9221"
            ],
            [
             1,
             "#276419"
            ]
           ],
           "sequential": [
            [
             0,
             "#0d0887"
            ],
            [
             0.1111111111111111,
             "#46039f"
            ],
            [
             0.2222222222222222,
             "#7201a8"
            ],
            [
             0.3333333333333333,
             "#9c179e"
            ],
            [
             0.4444444444444444,
             "#bd3786"
            ],
            [
             0.5555555555555556,
             "#d8576b"
            ],
            [
             0.6666666666666666,
             "#ed7953"
            ],
            [
             0.7777777777777778,
             "#fb9f3a"
            ],
            [
             0.8888888888888888,
             "#fdca26"
            ],
            [
             1,
             "#f0f921"
            ]
           ],
           "sequentialminus": [
            [
             0,
             "#0d0887"
            ],
            [
             0.1111111111111111,
             "#46039f"
            ],
            [
             0.2222222222222222,
             "#7201a8"
            ],
            [
             0.3333333333333333,
             "#9c179e"
            ],
            [
             0.4444444444444444,
             "#bd3786"
            ],
            [
             0.5555555555555556,
             "#d8576b"
            ],
            [
             0.6666666666666666,
             "#ed7953"
            ],
            [
             0.7777777777777778,
             "#fb9f3a"
            ],
            [
             0.8888888888888888,
             "#fdca26"
            ],
            [
             1,
             "#f0f921"
            ]
           ]
          },
          "colorway": [
           "#636efa",
           "#EF553B",
           "#00cc96",
           "#ab63fa",
           "#FFA15A",
           "#19d3f3",
           "#FF6692",
           "#B6E880",
           "#FF97FF",
           "#FECB52"
          ],
          "font": {
           "color": "#2a3f5f"
          },
          "geo": {
           "bgcolor": "white",
           "lakecolor": "white",
           "landcolor": "#E5ECF6",
           "showlakes": true,
           "showland": true,
           "subunitcolor": "white"
          },
          "hoverlabel": {
           "align": "left"
          },
          "hovermode": "closest",
          "mapbox": {
           "style": "light"
          },
          "paper_bgcolor": "white",
          "plot_bgcolor": "#E5ECF6",
          "polar": {
           "angularaxis": {
            "gridcolor": "white",
            "linecolor": "white",
            "ticks": ""
           },
           "bgcolor": "#E5ECF6",
           "radialaxis": {
            "gridcolor": "white",
            "linecolor": "white",
            "ticks": ""
           }
          },
          "scene": {
           "xaxis": {
            "backgroundcolor": "#E5ECF6",
            "gridcolor": "white",
            "gridwidth": 2,
            "linecolor": "white",
            "showbackground": true,
            "ticks": "",
            "zerolinecolor": "white"
           },
           "yaxis": {
            "backgroundcolor": "#E5ECF6",
            "gridcolor": "white",
            "gridwidth": 2,
            "linecolor": "white",
            "showbackground": true,
            "ticks": "",
            "zerolinecolor": "white"
           },
           "zaxis": {
            "backgroundcolor": "#E5ECF6",
            "gridcolor": "white",
            "gridwidth": 2,
            "linecolor": "white",
            "showbackground": true,
            "ticks": "",
            "zerolinecolor": "white"
           }
          },
          "shapedefaults": {
           "line": {
            "color": "#2a3f5f"
           }
          },
          "ternary": {
           "aaxis": {
            "gridcolor": "white",
            "linecolor": "white",
            "ticks": ""
           },
           "baxis": {
            "gridcolor": "white",
            "linecolor": "white",
            "ticks": ""
           },
           "bgcolor": "#E5ECF6",
           "caxis": {
            "gridcolor": "white",
            "linecolor": "white",
            "ticks": ""
           }
          },
          "title": {
           "x": 0.05
          },
          "xaxis": {
           "automargin": true,
           "gridcolor": "white",
           "linecolor": "white",
           "ticks": "",
           "title": {
            "standoff": 15
           },
           "zerolinecolor": "white",
           "zerolinewidth": 2
          },
          "yaxis": {
           "automargin": true,
           "gridcolor": "white",
           "linecolor": "white",
           "ticks": "",
           "title": {
            "standoff": 15
           },
           "zerolinecolor": "white",
           "zerolinewidth": 2
          }
         }
        },
        "title": {
         "font": {
          "color": "#4D5663"
         }
        },
        "xaxis": {
         "gridcolor": "#E1E5ED",
         "showgrid": true,
         "tickfont": {
          "color": "#4D5663"
         },
         "title": {
          "font": {
           "color": "#4D5663"
          },
          "text": ""
         },
         "zerolinecolor": "#E1E5ED"
        },
        "yaxis": {
         "gridcolor": "#E1E5ED",
         "showgrid": true,
         "tickfont": {
          "color": "#4D5663"
         },
         "title": {
          "font": {
           "color": "#4D5663"
          },
          "text": ""
         },
         "zerolinecolor": "#E1E5ED"
        }
       }
      },
      "text/html": [
       "<div>                            <div id=\"1c84c88d-99bd-4d34-8b62-f891eccb39fd\" class=\"plotly-graph-div\" style=\"height:525px; width:100%;\"></div>            <script type=\"text/javascript\">                require([\"plotly\"], function(Plotly) {                    window.PLOTLYENV=window.PLOTLYENV || {};\n",
       "                    window.PLOTLYENV.BASE_URL='https://plot.ly';                                    if (document.getElementById(\"1c84c88d-99bd-4d34-8b62-f891eccb39fd\")) {                    Plotly.newPlot(                        \"1c84c88d-99bd-4d34-8b62-f891eccb39fd\",                        [{\"line\": {\"color\": \"rgba(255, 153, 51, 1.0)\", \"dash\": \"solid\", \"shape\": \"linear\", \"width\": 1.3}, \"mode\": \"lines\", \"name\": \"rainfall\", \"text\": \"\", \"type\": \"scatter\", \"x\": [\"2014-02\", \"2014-03\", \"2014-04\", \"2014-05\", \"2014-06\", \"2014-07\", \"2014-08\", \"2014-09\", \"2014-10\", \"2014-11\", \"2014-12\", \"2015-01\", \"2015-02\", \"2015-03\", \"2015-04\", \"2015-05\", \"2015-07\", \"2015-08\", \"2015-09\", \"2015-10\", \"2015-11\", \"2015-12\", \"2016-01\", \"2016-02\", \"2016-03\", \"2016-04\", \"2016-05\", \"2016-06\", \"2016-07\", \"2016-08\", \"2016-09\", \"2016-10\", \"2016-11\", \"2016-12\", \"2017-01\", \"2017-02\", \"2017-03\", \"2017-04\", \"2017-05\", \"2017-06\", \"2017-07\", \"2017-08\", \"2017-09\", \"2017-10\", \"2017-11\", \"2017-12\", \"2018-01\", \"2018-02\", \"2018-03\", \"2018-04\", \"2018-05\", \"2018-07\", \"2018-08\", \"2018-09\", \"2018-10\", \"2018-11\", \"2018-12\", \"2019-01\", \"2019-02\", \"2019-03\", \"2019-04\", \"2019-05\", \"2019-06\", \"2019-08\", \"2019-09\", \"2019-10\", \"2019-11\", \"2019-12\"], \"y\": [101.6, 303.4, 23.8, 16.8, 0.4, 1.2, 9.4, 8.6, 23.2, 141.2, 150.8, 131.6, 125.0, 74.2, 63.8, 30.2, 5.2, 2.8, 37.8, 32.0, 27.4, 112.4, 75.4, 84.8, 89.2, 19.8, 18.0, 3.4, 21.2, 6.0, 1.8, 32.8, 136.6, 198.6, 144.2, 152.2, 58.0, 28.8, 49.2, 0.2, 4.0, 0.4, 16.6, 49.4, 122.6, 146.2, 45.6, 137.6, 75.6, 125.2, 26.0, 6.6, 32.6, 24.4, 37.2, 36.6, 78.6, 125.8, 44.0, 52.2, 65.8, 2.4, 4.4, 3.6, 34.6, 60.4, 82.6, 108.6]}, {\"line\": {\"color\": \"rgba(55, 128, 191, 1.0)\", \"dash\": \"solid\", \"shape\": \"linear\", \"width\": 1.3}, \"mode\": \"lines\", \"name\": \"Prediction\", \"text\": \"\", \"type\": \"scatter\", \"x\": [\"2014-02\", \"2014-03\", \"2014-04\", \"2014-05\", \"2014-06\", \"2014-07\", \"2014-08\", \"2014-09\", \"2014-10\", \"2014-11\", \"2014-12\", \"2015-01\", \"2015-02\", \"2015-03\", \"2015-04\", \"2015-05\", \"2015-07\", \"2015-08\", \"2015-09\", \"2015-10\", \"2015-11\", \"2015-12\", \"2016-01\", \"2016-02\", \"2016-03\", \"2016-04\", \"2016-05\", \"2016-06\", \"2016-07\", \"2016-08\", \"2016-09\", \"2016-10\", \"2016-11\", \"2016-12\", \"2017-01\", \"2017-02\", \"2017-03\", \"2017-04\", \"2017-05\", \"2017-06\", \"2017-07\", \"2017-08\", \"2017-09\", \"2017-10\", \"2017-11\", \"2017-12\", \"2018-01\", \"2018-02\", \"2018-03\", \"2018-04\", \"2018-05\", \"2018-07\", \"2018-08\", \"2018-09\", \"2018-10\", \"2018-11\", \"2018-12\", \"2019-01\", \"2019-02\", \"2019-03\", \"2019-04\", \"2019-05\", \"2019-06\", \"2019-08\", \"2019-09\", \"2019-10\", \"2019-11\", \"2019-12\"], \"y\": [123.59973907470703, 94.52883911132812, 76.8885269165039, 75.0210189819336, -1.4522435665130615, -0.9882277846336365, -12.97226333618164, 34.89802932739258, 22.747011184692383, 95.25856018066406, 132.50318908691406, 135.77963256835938, 217.2338409423828, 139.6481170654297, 159.47218322753906, 48.33544158935547, 20.338972091674805, 5.561370849609375, 12.798229217529297, 24.7583065032959, 47.764190673828125, 90.264404296875, 87.33908081054688, 110.23029327392578, 104.95738983154297, 87.49541473388672, 61.694541931152344, 37.66459274291992, 15.025045394897461, 13.099590301513672, 43.870460510253906, 42.607059478759766, 57.57887649536133, 89.760498046875, 122.15894317626953, 152.5390625, 136.25856018066406, 92.6601791381836, 45.66664123535156, 18.484289169311523, 13.018656730651855, 19.56553840637207, 38.30279541015625, 21.327926635742188, 79.90693664550781, 79.86449432373047, 108.56827545166016, 140.25201416015625, 109.11195373535156, 72.02876281738281, 50.336448669433594, 32.20100021362305, -1.376449465751648, 12.842894554138184, 21.430200576782227, 45.57250213623047, 75.36483001708984, 104.64037322998047, 120.6444091796875, 121.41183471679688, 84.83528900146484, 58.3359375, 56.05280685424805, 24.69964027404785, 10.9957857131958, 28.454612731933594, 69.65867614746094, 73.78732299804688]}],                        {\"legend\": {\"bgcolor\": \"#F5F6F9\", \"font\": {\"color\": \"#4D5663\"}}, \"paper_bgcolor\": \"#F5F6F9\", \"plot_bgcolor\": \"#F5F6F9\", \"template\": {\"data\": {\"bar\": [{\"error_x\": {\"color\": \"#2a3f5f\"}, \"error_y\": {\"color\": \"#2a3f5f\"}, \"marker\": {\"line\": {\"color\": \"#E5ECF6\", \"width\": 0.5}}, \"type\": \"bar\"}], \"barpolar\": [{\"marker\": {\"line\": {\"color\": \"#E5ECF6\", \"width\": 0.5}}, \"type\": \"barpolar\"}], \"carpet\": [{\"aaxis\": {\"endlinecolor\": \"#2a3f5f\", \"gridcolor\": \"white\", \"linecolor\": \"white\", \"minorgridcolor\": \"white\", \"startlinecolor\": \"#2a3f5f\"}, \"baxis\": {\"endlinecolor\": \"#2a3f5f\", \"gridcolor\": \"white\", \"linecolor\": \"white\", \"minorgridcolor\": \"white\", \"startlinecolor\": \"#2a3f5f\"}, \"type\": \"carpet\"}], \"choropleth\": [{\"colorbar\": {\"outlinewidth\": 0, \"ticks\": \"\"}, \"type\": \"choropleth\"}], \"contour\": [{\"colorbar\": {\"outlinewidth\": 0, \"ticks\": \"\"}, \"colorscale\": [[0.0, \"#0d0887\"], [0.1111111111111111, \"#46039f\"], [0.2222222222222222, \"#7201a8\"], [0.3333333333333333, \"#9c179e\"], [0.4444444444444444, \"#bd3786\"], [0.5555555555555556, \"#d8576b\"], [0.6666666666666666, \"#ed7953\"], [0.7777777777777778, \"#fb9f3a\"], [0.8888888888888888, \"#fdca26\"], [1.0, \"#f0f921\"]], \"type\": \"contour\"}], \"contourcarpet\": [{\"colorbar\": {\"outlinewidth\": 0, \"ticks\": \"\"}, \"type\": \"contourcarpet\"}], \"heatmap\": [{\"colorbar\": {\"outlinewidth\": 0, \"ticks\": \"\"}, \"colorscale\": [[0.0, \"#0d0887\"], [0.1111111111111111, \"#46039f\"], [0.2222222222222222, \"#7201a8\"], [0.3333333333333333, \"#9c179e\"], [0.4444444444444444, \"#bd3786\"], [0.5555555555555556, \"#d8576b\"], [0.6666666666666666, \"#ed7953\"], [0.7777777777777778, \"#fb9f3a\"], [0.8888888888888888, \"#fdca26\"], [1.0, \"#f0f921\"]], \"type\": \"heatmap\"}], \"heatmapgl\": [{\"colorbar\": {\"outlinewidth\": 0, \"ticks\": \"\"}, \"colorscale\": [[0.0, \"#0d0887\"], [0.1111111111111111, \"#46039f\"], [0.2222222222222222, \"#7201a8\"], [0.3333333333333333, \"#9c179e\"], [0.4444444444444444, \"#bd3786\"], [0.5555555555555556, \"#d8576b\"], [0.6666666666666666, \"#ed7953\"], [0.7777777777777778, \"#fb9f3a\"], [0.8888888888888888, \"#fdca26\"], [1.0, \"#f0f921\"]], \"type\": \"heatmapgl\"}], \"histogram\": [{\"marker\": {\"colorbar\": {\"outlinewidth\": 0, \"ticks\": \"\"}}, \"type\": \"histogram\"}], \"histogram2d\": [{\"colorbar\": {\"outlinewidth\": 0, \"ticks\": \"\"}, \"colorscale\": [[0.0, \"#0d0887\"], [0.1111111111111111, \"#46039f\"], [0.2222222222222222, \"#7201a8\"], [0.3333333333333333, \"#9c179e\"], [0.4444444444444444, \"#bd3786\"], [0.5555555555555556, \"#d8576b\"], [0.6666666666666666, \"#ed7953\"], [0.7777777777777778, \"#fb9f3a\"], [0.8888888888888888, \"#fdca26\"], [1.0, \"#f0f921\"]], \"type\": \"histogram2d\"}], \"histogram2dcontour\": [{\"colorbar\": {\"outlinewidth\": 0, \"ticks\": \"\"}, \"colorscale\": [[0.0, \"#0d0887\"], [0.1111111111111111, \"#46039f\"], [0.2222222222222222, \"#7201a8\"], [0.3333333333333333, \"#9c179e\"], [0.4444444444444444, \"#bd3786\"], [0.5555555555555556, \"#d8576b\"], [0.6666666666666666, \"#ed7953\"], [0.7777777777777778, \"#fb9f3a\"], [0.8888888888888888, \"#fdca26\"], [1.0, \"#f0f921\"]], \"type\": \"histogram2dcontour\"}], \"mesh3d\": [{\"colorbar\": {\"outlinewidth\": 0, \"ticks\": \"\"}, \"type\": \"mesh3d\"}], \"parcoords\": [{\"line\": {\"colorbar\": {\"outlinewidth\": 0, \"ticks\": \"\"}}, \"type\": \"parcoords\"}], \"pie\": [{\"automargin\": true, \"type\": \"pie\"}], \"scatter\": [{\"marker\": {\"colorbar\": {\"outlinewidth\": 0, \"ticks\": \"\"}}, \"type\": \"scatter\"}], \"scatter3d\": [{\"line\": {\"colorbar\": {\"outlinewidth\": 0, \"ticks\": \"\"}}, \"marker\": {\"colorbar\": {\"outlinewidth\": 0, \"ticks\": \"\"}}, \"type\": \"scatter3d\"}], \"scattercarpet\": [{\"marker\": {\"colorbar\": {\"outlinewidth\": 0, \"ticks\": \"\"}}, \"type\": \"scattercarpet\"}], \"scattergeo\": [{\"marker\": {\"colorbar\": {\"outlinewidth\": 0, \"ticks\": \"\"}}, \"type\": \"scattergeo\"}], \"scattergl\": [{\"marker\": {\"colorbar\": {\"outlinewidth\": 0, \"ticks\": \"\"}}, \"type\": \"scattergl\"}], \"scattermapbox\": [{\"marker\": {\"colorbar\": {\"outlinewidth\": 0, \"ticks\": \"\"}}, \"type\": \"scattermapbox\"}], \"scatterpolar\": [{\"marker\": {\"colorbar\": {\"outlinewidth\": 0, \"ticks\": \"\"}}, \"type\": \"scatterpolar\"}], \"scatterpolargl\": [{\"marker\": {\"colorbar\": {\"outlinewidth\": 0, \"ticks\": \"\"}}, \"type\": \"scatterpolargl\"}], \"scatterternary\": [{\"marker\": {\"colorbar\": {\"outlinewidth\": 0, \"ticks\": \"\"}}, \"type\": \"scatterternary\"}], \"surface\": [{\"colorbar\": {\"outlinewidth\": 0, \"ticks\": \"\"}, \"colorscale\": [[0.0, \"#0d0887\"], [0.1111111111111111, \"#46039f\"], [0.2222222222222222, \"#7201a8\"], [0.3333333333333333, \"#9c179e\"], [0.4444444444444444, \"#bd3786\"], [0.5555555555555556, \"#d8576b\"], [0.6666666666666666, \"#ed7953\"], [0.7777777777777778, \"#fb9f3a\"], [0.8888888888888888, \"#fdca26\"], [1.0, \"#f0f921\"]], \"type\": \"surface\"}], \"table\": [{\"cells\": {\"fill\": {\"color\": \"#EBF0F8\"}, \"line\": {\"color\": \"white\"}}, \"header\": {\"fill\": {\"color\": \"#C8D4E3\"}, \"line\": {\"color\": \"white\"}}, \"type\": \"table\"}]}, \"layout\": {\"annotationdefaults\": {\"arrowcolor\": \"#2a3f5f\", \"arrowhead\": 0, \"arrowwidth\": 1}, \"autotypenumbers\": \"strict\", \"coloraxis\": {\"colorbar\": {\"outlinewidth\": 0, \"ticks\": \"\"}}, \"colorscale\": {\"diverging\": [[0, \"#8e0152\"], [0.1, \"#c51b7d\"], [0.2, \"#de77ae\"], [0.3, \"#f1b6da\"], [0.4, \"#fde0ef\"], [0.5, \"#f7f7f7\"], [0.6, \"#e6f5d0\"], [0.7, \"#b8e186\"], [0.8, \"#7fbc41\"], [0.9, \"#4d9221\"], [1, \"#276419\"]], \"sequential\": [[0.0, \"#0d0887\"], [0.1111111111111111, \"#46039f\"], [0.2222222222222222, \"#7201a8\"], [0.3333333333333333, \"#9c179e\"], [0.4444444444444444, \"#bd3786\"], [0.5555555555555556, \"#d8576b\"], [0.6666666666666666, \"#ed7953\"], [0.7777777777777778, \"#fb9f3a\"], [0.8888888888888888, \"#fdca26\"], [1.0, \"#f0f921\"]], \"sequentialminus\": [[0.0, \"#0d0887\"], [0.1111111111111111, \"#46039f\"], [0.2222222222222222, \"#7201a8\"], [0.3333333333333333, \"#9c179e\"], [0.4444444444444444, \"#bd3786\"], [0.5555555555555556, \"#d8576b\"], [0.6666666666666666, \"#ed7953\"], [0.7777777777777778, \"#fb9f3a\"], [0.8888888888888888, \"#fdca26\"], [1.0, \"#f0f921\"]]}, \"colorway\": [\"#636efa\", \"#EF553B\", \"#00cc96\", \"#ab63fa\", \"#FFA15A\", \"#19d3f3\", \"#FF6692\", \"#B6E880\", \"#FF97FF\", \"#FECB52\"], \"font\": {\"color\": \"#2a3f5f\"}, \"geo\": {\"bgcolor\": \"white\", \"lakecolor\": \"white\", \"landcolor\": \"#E5ECF6\", \"showlakes\": true, \"showland\": true, \"subunitcolor\": \"white\"}, \"hoverlabel\": {\"align\": \"left\"}, \"hovermode\": \"closest\", \"mapbox\": {\"style\": \"light\"}, \"paper_bgcolor\": \"white\", \"plot_bgcolor\": \"#E5ECF6\", \"polar\": {\"angularaxis\": {\"gridcolor\": \"white\", \"linecolor\": \"white\", \"ticks\": \"\"}, \"bgcolor\": \"#E5ECF6\", \"radialaxis\": {\"gridcolor\": \"white\", \"linecolor\": \"white\", \"ticks\": \"\"}}, \"scene\": {\"xaxis\": {\"backgroundcolor\": \"#E5ECF6\", \"gridcolor\": \"white\", \"gridwidth\": 2, \"linecolor\": \"white\", \"showbackground\": true, \"ticks\": \"\", \"zerolinecolor\": \"white\"}, \"yaxis\": {\"backgroundcolor\": \"#E5ECF6\", \"gridcolor\": \"white\", \"gridwidth\": 2, \"linecolor\": \"white\", \"showbackground\": true, \"ticks\": \"\", \"zerolinecolor\": \"white\"}, \"zaxis\": {\"backgroundcolor\": \"#E5ECF6\", \"gridcolor\": \"white\", \"gridwidth\": 2, \"linecolor\": \"white\", \"showbackground\": true, \"ticks\": \"\", \"zerolinecolor\": \"white\"}}, \"shapedefaults\": {\"line\": {\"color\": \"#2a3f5f\"}}, \"ternary\": {\"aaxis\": {\"gridcolor\": \"white\", \"linecolor\": \"white\", \"ticks\": \"\"}, \"baxis\": {\"gridcolor\": \"white\", \"linecolor\": \"white\", \"ticks\": \"\"}, \"bgcolor\": \"#E5ECF6\", \"caxis\": {\"gridcolor\": \"white\", \"linecolor\": \"white\", \"ticks\": \"\"}}, \"title\": {\"x\": 0.05}, \"xaxis\": {\"automargin\": true, \"gridcolor\": \"white\", \"linecolor\": \"white\", \"ticks\": \"\", \"title\": {\"standoff\": 15}, \"zerolinecolor\": \"white\", \"zerolinewidth\": 2}, \"yaxis\": {\"automargin\": true, \"gridcolor\": \"white\", \"linecolor\": \"white\", \"ticks\": \"\", \"title\": {\"standoff\": 15}, \"zerolinecolor\": \"white\", \"zerolinewidth\": 2}}}, \"title\": {\"font\": {\"color\": \"#4D5663\"}}, \"xaxis\": {\"gridcolor\": \"#E1E5ED\", \"showgrid\": true, \"tickfont\": {\"color\": \"#4D5663\"}, \"title\": {\"font\": {\"color\": \"#4D5663\"}, \"text\": \"\"}, \"zerolinecolor\": \"#E1E5ED\"}, \"yaxis\": {\"gridcolor\": \"#E1E5ED\", \"showgrid\": true, \"tickfont\": {\"color\": \"#4D5663\"}, \"title\": {\"font\": {\"color\": \"#4D5663\"}, \"text\": \"\"}, \"zerolinecolor\": \"#E1E5ED\"}},                        {\"showLink\": true, \"linkText\": \"Export to plot.ly\", \"plotlyServerURL\": \"https://plot.ly\", \"responsive\": true}                    ).then(function(){\n",
       "                            \n",
       "var gd = document.getElementById('1c84c88d-99bd-4d34-8b62-f891eccb39fd');\n",
       "var x = new MutationObserver(function (mutations, observer) {{\n",
       "        var display = window.getComputedStyle(gd).display;\n",
       "        if (!display || display === 'none') {{\n",
       "            console.log([gd, 'removed!']);\n",
       "            Plotly.purge(gd);\n",
       "            observer.disconnect();\n",
       "        }}\n",
       "}});\n",
       "\n",
       "// Listen for the removal of the full notebook cells\n",
       "var notebookContainer = gd.closest('#notebook-container');\n",
       "if (notebookContainer) {{\n",
       "    x.observe(notebookContainer, {childList: true});\n",
       "}}\n",
       "\n",
       "// Listen for the clearing of the current output cell\n",
       "var outputEl = gd.closest('.output');\n",
       "if (outputEl) {{\n",
       "    x.observe(outputEl, {childList: true});\n",
       "}}\n",
       "\n",
       "                        })                };                });            </script>        </div>"
      ]
     },
     "metadata": {},
     "output_type": "display_data"
    }
   ],
   "source": [
    "data = df.drop(columns = ['month','year'])\n",
    "testindex=data[-(testY.size):]\n",
    "future_forecast = pd.DataFrame(test_Predict[:,0],index =testindex.index,columns=['Prediction'])\n",
    "pd.concat([testindex,future_forecast],axis=1).iplot()"
   ]
  },
  {
   "cell_type": "code",
   "execution_count": 24,
   "metadata": {},
   "outputs": [
    {
     "name": "stdout",
     "output_type": "stream",
     "text": [
      "Epoch 1/300\n",
      "1/1 [==============================] - 7s 7s/step - loss: 0.0619 - val_loss: 0.0367\n",
      "Epoch 2/300\n",
      "1/1 [==============================] - 0s 27ms/step - loss: 0.0606 - val_loss: 0.0358\n",
      "Epoch 3/300\n",
      "1/1 [==============================] - 0s 18ms/step - loss: 0.0594 - val_loss: 0.0349\n",
      "Epoch 4/300\n",
      "1/1 [==============================] - 0s 20ms/step - loss: 0.0581 - val_loss: 0.0339\n",
      "Epoch 5/300\n",
      "1/1 [==============================] - 0s 20ms/step - loss: 0.0568 - val_loss: 0.0331\n",
      "Epoch 6/300\n",
      "1/1 [==============================] - 0s 26ms/step - loss: 0.0556 - val_loss: 0.0322\n",
      "Epoch 7/300\n",
      "1/1 [==============================] - 0s 24ms/step - loss: 0.0543 - val_loss: 0.0313\n",
      "Epoch 8/300\n",
      "1/1 [==============================] - 0s 24ms/step - loss: 0.0530 - val_loss: 0.0304\n",
      "Epoch 9/300\n",
      "1/1 [==============================] - 0s 20ms/step - loss: 0.0517 - val_loss: 0.0295\n",
      "Epoch 10/300\n",
      "1/1 [==============================] - 0s 24ms/step - loss: 0.0504 - val_loss: 0.0286\n",
      "Epoch 11/300\n",
      "1/1 [==============================] - 0s 24ms/step - loss: 0.0491 - val_loss: 0.0278\n",
      "Epoch 12/300\n",
      "1/1 [==============================] - 0s 20ms/step - loss: 0.0478 - val_loss: 0.0269\n",
      "Epoch 13/300\n",
      "1/1 [==============================] - 0s 20ms/step - loss: 0.0465 - val_loss: 0.0260\n",
      "Epoch 14/300\n",
      "1/1 [==============================] - 0s 24ms/step - loss: 0.0451 - val_loss: 0.0252\n",
      "Epoch 15/300\n",
      "1/1 [==============================] - 0s 20ms/step - loss: 0.0438 - val_loss: 0.0244\n",
      "Epoch 16/300\n",
      "1/1 [==============================] - 0s 20ms/step - loss: 0.0425 - val_loss: 0.0235\n",
      "Epoch 17/300\n",
      "1/1 [==============================] - 0s 20ms/step - loss: 0.0411 - val_loss: 0.0228\n",
      "Epoch 18/300\n",
      "1/1 [==============================] - 0s 20ms/step - loss: 0.0398 - val_loss: 0.0220\n",
      "Epoch 19/300\n",
      "1/1 [==============================] - 0s 24ms/step - loss: 0.0385 - val_loss: 0.0213\n",
      "Epoch 20/300\n",
      "1/1 [==============================] - 0s 20ms/step - loss: 0.0372 - val_loss: 0.0206\n",
      "Epoch 21/300\n",
      "1/1 [==============================] - 0s 20ms/step - loss: 0.0359 - val_loss: 0.0200\n",
      "Epoch 22/300\n",
      "1/1 [==============================] - 0s 20ms/step - loss: 0.0347 - val_loss: 0.0195\n",
      "Epoch 23/300\n",
      "1/1 [==============================] - 0s 20ms/step - loss: 0.0335 - val_loss: 0.0191\n",
      "Epoch 24/300\n",
      "1/1 [==============================] - 0s 20ms/step - loss: 0.0325 - val_loss: 0.0187\n",
      "Epoch 25/300\n",
      "1/1 [==============================] - 0s 24ms/step - loss: 0.0315 - val_loss: 0.0185\n",
      "Epoch 26/300\n",
      "1/1 [==============================] - 0s 20ms/step - loss: 0.0306 - val_loss: 0.0184\n",
      "Epoch 27/300\n",
      "1/1 [==============================] - 0s 28ms/step - loss: 0.0298 - val_loss: 0.0184\n",
      "Epoch 28/300\n",
      "1/1 [==============================] - 0s 20ms/step - loss: 0.0292 - val_loss: 0.0186\n",
      "Epoch 29/300\n",
      "1/1 [==============================] - 0s 20ms/step - loss: 0.0288 - val_loss: 0.0189\n",
      "Epoch 30/300\n",
      "1/1 [==============================] - 0s 24ms/step - loss: 0.0285 - val_loss: 0.0193\n",
      "Epoch 31/300\n",
      "1/1 [==============================] - 0s 24ms/step - loss: 0.0284 - val_loss: 0.0198\n",
      "Epoch 32/300\n",
      "1/1 [==============================] - 0s 28ms/step - loss: 0.0284 - val_loss: 0.0203\n",
      "Epoch 33/300\n",
      "1/1 [==============================] - 0s 28ms/step - loss: 0.0285 - val_loss: 0.0208\n",
      "Epoch 34/300\n",
      "1/1 [==============================] - 0s 24ms/step - loss: 0.0287 - val_loss: 0.0212\n",
      "Epoch 35/300\n",
      "1/1 [==============================] - 0s 24ms/step - loss: 0.0289 - val_loss: 0.0215\n",
      "Epoch 36/300\n",
      "1/1 [==============================] - 0s 24ms/step - loss: 0.0290 - val_loss: 0.0217\n",
      "Epoch 37/300\n",
      "1/1 [==============================] - 0s 24ms/step - loss: 0.0290 - val_loss: 0.0216\n",
      "Epoch 38/300\n",
      "1/1 [==============================] - 0s 24ms/step - loss: 0.0290 - val_loss: 0.0215\n",
      "Epoch 39/300\n",
      "1/1 [==============================] - 0s 24ms/step - loss: 0.0288 - val_loss: 0.0212\n",
      "Epoch 40/300\n",
      "1/1 [==============================] - 0s 28ms/step - loss: 0.0286 - val_loss: 0.0209\n",
      "Epoch 41/300\n",
      "1/1 [==============================] - 0s 24ms/step - loss: 0.0284 - val_loss: 0.0205\n",
      "Epoch 42/300\n",
      "1/1 [==============================] - 0s 24ms/step - loss: 0.0281 - val_loss: 0.0201\n",
      "Epoch 43/300\n",
      "1/1 [==============================] - 0s 24ms/step - loss: 0.0279 - val_loss: 0.0197\n",
      "Epoch 44/300\n",
      "1/1 [==============================] - 0s 24ms/step - loss: 0.0277 - val_loss: 0.0194\n",
      "Epoch 45/300\n",
      "1/1 [==============================] - 0s 26ms/step - loss: 0.0275 - val_loss: 0.0190\n",
      "Epoch 46/300\n",
      "1/1 [==============================] - 0s 21ms/step - loss: 0.0274 - val_loss: 0.0188\n",
      "Epoch 47/300\n",
      "1/1 [==============================] - 0s 20ms/step - loss: 0.0273 - val_loss: 0.0185\n",
      "Epoch 48/300\n",
      "1/1 [==============================] - 0s 20ms/step - loss: 0.0272 - val_loss: 0.0183\n",
      "Epoch 49/300\n",
      "1/1 [==============================] - 0s 24ms/step - loss: 0.0271 - val_loss: 0.0181\n",
      "Epoch 50/300\n",
      "1/1 [==============================] - 0s 22ms/step - loss: 0.0271 - val_loss: 0.0180\n",
      "Epoch 51/300\n",
      "1/1 [==============================] - 0s 24ms/step - loss: 0.0270 - val_loss: 0.0178\n",
      "Epoch 52/300\n",
      "1/1 [==============================] - 0s 28ms/step - loss: 0.0270 - val_loss: 0.0177\n",
      "Epoch 53/300\n",
      "1/1 [==============================] - 0s 20ms/step - loss: 0.0269 - val_loss: 0.0176\n",
      "Epoch 54/300\n",
      "1/1 [==============================] - 0s 20ms/step - loss: 0.0269 - val_loss: 0.0175\n",
      "Epoch 55/300\n",
      "1/1 [==============================] - 0s 24ms/step - loss: 0.0268 - val_loss: 0.0175\n",
      "Epoch 56/300\n",
      "1/1 [==============================] - 0s 20ms/step - loss: 0.0267 - val_loss: 0.0174\n",
      "Epoch 57/300\n",
      "1/1 [==============================] - 0s 24ms/step - loss: 0.0266 - val_loss: 0.0174\n",
      "Epoch 58/300\n",
      "1/1 [==============================] - 0s 20ms/step - loss: 0.0265 - val_loss: 0.0173\n",
      "Epoch 59/300\n",
      "1/1 [==============================] - 0s 24ms/step - loss: 0.0264 - val_loss: 0.0173\n",
      "Epoch 60/300\n",
      "1/1 [==============================] - 0s 20ms/step - loss: 0.0263 - val_loss: 0.0173\n",
      "Epoch 61/300\n",
      "1/1 [==============================] - 0s 20ms/step - loss: 0.0262 - val_loss: 0.0173\n",
      "Epoch 62/300\n",
      "1/1 [==============================] - 0s 24ms/step - loss: 0.0261 - val_loss: 0.0173\n",
      "Epoch 63/300\n",
      "1/1 [==============================] - 0s 20ms/step - loss: 0.0260 - val_loss: 0.0173\n",
      "Epoch 64/300\n",
      "1/1 [==============================] - 0s 20ms/step - loss: 0.0259 - val_loss: 0.0173\n",
      "Epoch 65/300\n",
      "1/1 [==============================] - 0s 24ms/step - loss: 0.0257 - val_loss: 0.0173\n",
      "Epoch 66/300\n",
      "1/1 [==============================] - 0s 20ms/step - loss: 0.0256 - val_loss: 0.0173\n",
      "Epoch 67/300\n",
      "1/1 [==============================] - 0s 20ms/step - loss: 0.0255 - val_loss: 0.0172\n",
      "Epoch 68/300\n",
      "1/1 [==============================] - 0s 20ms/step - loss: 0.0254 - val_loss: 0.0172\n",
      "Epoch 69/300\n",
      "1/1 [==============================] - 0s 20ms/step - loss: 0.0253 - val_loss: 0.0172\n",
      "Epoch 70/300\n",
      "1/1 [==============================] - 0s 28ms/step - loss: 0.0252 - val_loss: 0.0171\n",
      "Epoch 71/300\n",
      "1/1 [==============================] - 0s 20ms/step - loss: 0.0251 - val_loss: 0.0170\n",
      "Epoch 72/300\n",
      "1/1 [==============================] - 0s 24ms/step - loss: 0.0250 - val_loss: 0.0169\n",
      "Epoch 73/300\n",
      "1/1 [==============================] - 0s 24ms/step - loss: 0.0249 - val_loss: 0.0168\n",
      "Epoch 74/300\n",
      "1/1 [==============================] - 0s 24ms/step - loss: 0.0247 - val_loss: 0.0166\n",
      "Epoch 75/300\n",
      "1/1 [==============================] - 0s 24ms/step - loss: 0.0246 - val_loss: 0.0165\n",
      "Epoch 76/300\n",
      "1/1 [==============================] - 0s 24ms/step - loss: 0.0245 - val_loss: 0.0163\n",
      "Epoch 77/300\n",
      "1/1 [==============================] - 0s 24ms/step - loss: 0.0243 - val_loss: 0.0161\n",
      "Epoch 78/300\n",
      "1/1 [==============================] - 0s 24ms/step - loss: 0.0242 - val_loss: 0.0159\n",
      "Epoch 79/300\n",
      "1/1 [==============================] - 0s 24ms/step - loss: 0.0241 - val_loss: 0.0158\n",
      "Epoch 80/300\n",
      "1/1 [==============================] - 0s 20ms/step - loss: 0.0239 - val_loss: 0.0156\n",
      "Epoch 81/300\n",
      "1/1 [==============================] - 0s 20ms/step - loss: 0.0238 - val_loss: 0.0154\n",
      "Epoch 82/300\n",
      "1/1 [==============================] - 0s 20ms/step - loss: 0.0236 - val_loss: 0.0152\n",
      "Epoch 83/300\n",
      "1/1 [==============================] - 0s 20ms/step - loss: 0.0235 - val_loss: 0.0151\n",
      "Epoch 84/300\n",
      "1/1 [==============================] - 0s 20ms/step - loss: 0.0234 - val_loss: 0.0150\n",
      "Epoch 85/300\n",
      "1/1 [==============================] - 0s 24ms/step - loss: 0.0232 - val_loss: 0.0148\n",
      "Epoch 86/300\n",
      "1/1 [==============================] - 0s 20ms/step - loss: 0.0231 - val_loss: 0.0147\n",
      "Epoch 87/300\n",
      "1/1 [==============================] - 0s 20ms/step - loss: 0.0230 - val_loss: 0.0146\n",
      "Epoch 88/300\n",
      "1/1 [==============================] - 0s 28ms/step - loss: 0.0228 - val_loss: 0.0145\n",
      "Epoch 89/300\n",
      "1/1 [==============================] - 0s 20ms/step - loss: 0.0227 - val_loss: 0.0144\n",
      "Epoch 90/300\n",
      "1/1 [==============================] - 0s 20ms/step - loss: 0.0226 - val_loss: 0.0144\n",
      "Epoch 91/300\n",
      "1/1 [==============================] - 0s 20ms/step - loss: 0.0224 - val_loss: 0.0143\n",
      "Epoch 92/300\n",
      "1/1 [==============================] - 0s 20ms/step - loss: 0.0223 - val_loss: 0.0143\n",
      "Epoch 93/300\n",
      "1/1 [==============================] - 0s 24ms/step - loss: 0.0222 - val_loss: 0.0142\n",
      "Epoch 94/300\n",
      "1/1 [==============================] - 0s 20ms/step - loss: 0.0221 - val_loss: 0.0142\n",
      "Epoch 95/300\n",
      "1/1 [==============================] - 0s 24ms/step - loss: 0.0219 - val_loss: 0.0142\n",
      "Epoch 96/300\n",
      "1/1 [==============================] - 0s 20ms/step - loss: 0.0218 - val_loss: 0.0141\n",
      "Epoch 97/300\n",
      "1/1 [==============================] - 0s 20ms/step - loss: 0.0217 - val_loss: 0.0141\n",
      "Epoch 98/300\n",
      "1/1 [==============================] - 0s 24ms/step - loss: 0.0216 - val_loss: 0.0140\n",
      "Epoch 99/300\n",
      "1/1 [==============================] - 0s 20ms/step - loss: 0.0215 - val_loss: 0.0140\n",
      "Epoch 100/300\n",
      "1/1 [==============================] - 0s 20ms/step - loss: 0.0214 - val_loss: 0.0140\n",
      "Epoch 101/300\n",
      "1/1 [==============================] - 0s 23ms/step - loss: 0.0213 - val_loss: 0.0139\n",
      "Epoch 102/300\n",
      "1/1 [==============================] - 0s 24ms/step - loss: 0.0212 - val_loss: 0.0139\n",
      "Epoch 103/300\n",
      "1/1 [==============================] - 0s 23ms/step - loss: 0.0212 - val_loss: 0.0139\n",
      "Epoch 104/300\n",
      "1/1 [==============================] - 0s 20ms/step - loss: 0.0211 - val_loss: 0.0139\n",
      "Epoch 105/300\n",
      "1/1 [==============================] - 0s 20ms/step - loss: 0.0210 - val_loss: 0.0140\n",
      "Epoch 106/300\n",
      "1/1 [==============================] - 0s 24ms/step - loss: 0.0209 - val_loss: 0.0140\n",
      "Epoch 107/300\n",
      "1/1 [==============================] - 0s 20ms/step - loss: 0.0208 - val_loss: 0.0141\n",
      "Epoch 108/300\n",
      "1/1 [==============================] - 0s 24ms/step - loss: 0.0208 - val_loss: 0.0142\n",
      "Epoch 109/300\n",
      "1/1 [==============================] - 0s 20ms/step - loss: 0.0207 - val_loss: 0.0142\n",
      "Epoch 110/300\n",
      "1/1 [==============================] - 0s 20ms/step - loss: 0.0206 - val_loss: 0.0143\n",
      "Epoch 111/300\n",
      "1/1 [==============================] - 0s 20ms/step - loss: 0.0205 - val_loss: 0.0144\n",
      "Epoch 112/300\n",
      "1/1 [==============================] - 0s 22ms/step - loss: 0.0204 - val_loss: 0.0145\n",
      "Epoch 113/300\n",
      "1/1 [==============================] - 0s 16ms/step - loss: 0.0204 - val_loss: 0.0146\n",
      "Epoch 114/300\n",
      "1/1 [==============================] - 0s 23ms/step - loss: 0.0203 - val_loss: 0.0147\n",
      "Epoch 115/300\n",
      "1/1 [==============================] - 0s 23ms/step - loss: 0.0202 - val_loss: 0.0148\n",
      "Epoch 116/300\n",
      "1/1 [==============================] - 0s 22ms/step - loss: 0.0201 - val_loss: 0.0149\n",
      "Epoch 117/300\n",
      "1/1 [==============================] - 0s 20ms/step - loss: 0.0200 - val_loss: 0.0150\n",
      "Epoch 118/300\n",
      "1/1 [==============================] - 0s 18ms/step - loss: 0.0200 - val_loss: 0.0151\n",
      "Epoch 119/300\n",
      "1/1 [==============================] - 0s 20ms/step - loss: 0.0199 - val_loss: 0.0152\n",
      "Epoch 120/300\n",
      "1/1 [==============================] - 0s 20ms/step - loss: 0.0198 - val_loss: 0.0153\n",
      "Epoch 121/300\n",
      "1/1 [==============================] - 0s 22ms/step - loss: 0.0197 - val_loss: 0.0154\n",
      "Epoch 122/300\n",
      "1/1 [==============================] - 0s 20ms/step - loss: 0.0197 - val_loss: 0.0155\n",
      "Epoch 123/300\n",
      "1/1 [==============================] - 0s 20ms/step - loss: 0.0196 - val_loss: 0.0156\n",
      "Epoch 124/300\n",
      "1/1 [==============================] - 0s 21ms/step - loss: 0.0195 - val_loss: 0.0157\n",
      "Epoch 125/300\n",
      "1/1 [==============================] - 0s 19ms/step - loss: 0.0195 - val_loss: 0.0159\n",
      "Epoch 126/300\n",
      "1/1 [==============================] - 0s 24ms/step - loss: 0.0194 - val_loss: 0.0160\n",
      "Epoch 127/300\n",
      "1/1 [==============================] - 0s 20ms/step - loss: 0.0193 - val_loss: 0.0161\n",
      "Epoch 128/300\n",
      "1/1 [==============================] - 0s 22ms/step - loss: 0.0193 - val_loss: 0.0163\n",
      "Epoch 129/300\n",
      "1/1 [==============================] - 0s 26ms/step - loss: 0.0192 - val_loss: 0.0164\n",
      "Epoch 130/300\n",
      "1/1 [==============================] - 0s 20ms/step - loss: 0.0192 - val_loss: 0.0165\n",
      "Epoch 131/300\n",
      "1/1 [==============================] - 0s 24ms/step - loss: 0.0191 - val_loss: 0.0167\n",
      "Epoch 132/300\n",
      "1/1 [==============================] - 0s 20ms/step - loss: 0.0191 - val_loss: 0.0168\n",
      "Epoch 133/300\n",
      "1/1 [==============================] - 0s 24ms/step - loss: 0.0190 - val_loss: 0.0169\n",
      "Epoch 134/300\n",
      "1/1 [==============================] - 0s 23ms/step - loss: 0.0190 - val_loss: 0.0171\n",
      "Epoch 135/300\n",
      "1/1 [==============================] - 0s 19ms/step - loss: 0.0189 - val_loss: 0.0172\n",
      "Epoch 136/300\n",
      "1/1 [==============================] - 0s 20ms/step - loss: 0.0189 - val_loss: 0.0173\n",
      "Epoch 137/300\n",
      "1/1 [==============================] - 0s 20ms/step - loss: 0.0188 - val_loss: 0.0175\n",
      "Epoch 138/300\n",
      "1/1 [==============================] - 0s 20ms/step - loss: 0.0188 - val_loss: 0.0176\n",
      "Epoch 139/300\n",
      "1/1 [==============================] - 0s 16ms/step - loss: 0.0187 - val_loss: 0.0178\n",
      "Epoch 140/300\n",
      "1/1 [==============================] - 0s 24ms/step - loss: 0.0187 - val_loss: 0.0179\n",
      "Epoch 141/300\n",
      "1/1 [==============================] - 0s 20ms/step - loss: 0.0186 - val_loss: 0.0181\n",
      "Epoch 142/300\n",
      "1/1 [==============================] - 0s 24ms/step - loss: 0.0186 - val_loss: 0.0182\n",
      "Epoch 143/300\n",
      "1/1 [==============================] - 0s 28ms/step - loss: 0.0185 - val_loss: 0.0184\n",
      "Epoch 144/300\n",
      "1/1 [==============================] - 0s 20ms/step - loss: 0.0185 - val_loss: 0.0185\n",
      "Epoch 145/300\n",
      "1/1 [==============================] - 0s 20ms/step - loss: 0.0184 - val_loss: 0.0187\n",
      "Epoch 146/300\n",
      "1/1 [==============================] - 0s 20ms/step - loss: 0.0184 - val_loss: 0.0188\n",
      "Epoch 147/300\n",
      "1/1 [==============================] - 0s 20ms/step - loss: 0.0184 - val_loss: 0.0189\n",
      "Epoch 148/300\n",
      "1/1 [==============================] - 0s 26ms/step - loss: 0.0183 - val_loss: 0.0191\n",
      "Epoch 149/300\n",
      "1/1 [==============================] - 0s 19ms/step - loss: 0.0183 - val_loss: 0.0192\n",
      "Epoch 150/300\n",
      "1/1 [==============================] - 0s 20ms/step - loss: 0.0182 - val_loss: 0.0194\n",
      "Epoch 151/300\n",
      "1/1 [==============================] - 0s 21ms/step - loss: 0.0182 - val_loss: 0.0195\n",
      "Epoch 152/300\n",
      "1/1 [==============================] - 0s 20ms/step - loss: 0.0181 - val_loss: 0.0197\n",
      "Epoch 153/300\n",
      "1/1 [==============================] - 0s 20ms/step - loss: 0.0181 - val_loss: 0.0198\n",
      "Epoch 154/300\n",
      "1/1 [==============================] - 0s 20ms/step - loss: 0.0181 - val_loss: 0.0200\n",
      "Epoch 155/300\n",
      "1/1 [==============================] - 0s 19ms/step - loss: 0.0180 - val_loss: 0.0201\n",
      "Epoch 156/300\n",
      "1/1 [==============================] - 0s 19ms/step - loss: 0.0180 - val_loss: 0.0202\n",
      "Epoch 157/300\n",
      "1/1 [==============================] - 0s 28ms/step - loss: 0.0179 - val_loss: 0.0204\n",
      "Epoch 158/300\n",
      "1/1 [==============================] - 0s 20ms/step - loss: 0.0179 - val_loss: 0.0205\n",
      "Epoch 159/300\n",
      "1/1 [==============================] - 0s 22ms/step - loss: 0.0179 - val_loss: 0.0206\n",
      "Epoch 160/300\n",
      "1/1 [==============================] - 0s 22ms/step - loss: 0.0178 - val_loss: 0.0208\n",
      "Epoch 161/300\n",
      "1/1 [==============================] - 0s 17ms/step - loss: 0.0178 - val_loss: 0.0209\n",
      "Epoch 162/300\n",
      "1/1 [==============================] - 0s 20ms/step - loss: 0.0177 - val_loss: 0.0211\n",
      "Epoch 163/300\n",
      "1/1 [==============================] - 0s 20ms/step - loss: 0.0177 - val_loss: 0.0212\n",
      "Epoch 164/300\n",
      "1/1 [==============================] - 0s 25ms/step - loss: 0.0177 - val_loss: 0.0213\n",
      "Epoch 165/300\n",
      "1/1 [==============================] - 0s 20ms/step - loss: 0.0176 - val_loss: 0.0215\n",
      "Epoch 166/300\n",
      "1/1 [==============================] - 0s 20ms/step - loss: 0.0176 - val_loss: 0.0216\n",
      "Epoch 167/300\n",
      "1/1 [==============================] - 0s 24ms/step - loss: 0.0176 - val_loss: 0.0217\n",
      "Epoch 168/300\n",
      "1/1 [==============================] - 0s 20ms/step - loss: 0.0175 - val_loss: 0.0219\n",
      "Epoch 169/300\n",
      "1/1 [==============================] - 0s 24ms/step - loss: 0.0175 - val_loss: 0.0220\n",
      "Epoch 170/300\n",
      "1/1 [==============================] - 0s 24ms/step - loss: 0.0174 - val_loss: 0.0221\n",
      "Epoch 171/300\n",
      "1/1 [==============================] - 0s 20ms/step - loss: 0.0174 - val_loss: 0.0223\n",
      "Epoch 172/300\n",
      "1/1 [==============================] - 0s 20ms/step - loss: 0.0174 - val_loss: 0.0224\n",
      "Epoch 173/300\n",
      "1/1 [==============================] - 0s 24ms/step - loss: 0.0173 - val_loss: 0.0225\n",
      "Epoch 174/300\n",
      "1/1 [==============================] - 0s 20ms/step - loss: 0.0173 - val_loss: 0.0227\n",
      "Epoch 175/300\n",
      "1/1 [==============================] - 0s 21ms/step - loss: 0.0173 - val_loss: 0.0228\n",
      "Epoch 176/300\n",
      "1/1 [==============================] - 0s 24ms/step - loss: 0.0172 - val_loss: 0.0229\n",
      "Epoch 177/300\n",
      "1/1 [==============================] - 0s 20ms/step - loss: 0.0172 - val_loss: 0.0231\n",
      "Epoch 178/300\n",
      "1/1 [==============================] - 0s 20ms/step - loss: 0.0171 - val_loss: 0.0232\n",
      "Epoch 179/300\n",
      "1/1 [==============================] - 0s 24ms/step - loss: 0.0171 - val_loss: 0.0234\n",
      "Epoch 180/300\n",
      "1/1 [==============================] - 0s 20ms/step - loss: 0.0171 - val_loss: 0.0235\n",
      "Epoch 181/300\n",
      "1/1 [==============================] - 0s 20ms/step - loss: 0.0170 - val_loss: 0.0236\n",
      "Epoch 182/300\n",
      "1/1 [==============================] - 0s 20ms/step - loss: 0.0170 - val_loss: 0.0238\n",
      "Epoch 183/300\n",
      "1/1 [==============================] - 0s 20ms/step - loss: 0.0170 - val_loss: 0.0239\n",
      "Epoch 184/300\n",
      "1/1 [==============================] - 0s 24ms/step - loss: 0.0169 - val_loss: 0.0241\n",
      "Epoch 185/300\n",
      "1/1 [==============================] - 0s 23ms/step - loss: 0.0169 - val_loss: 0.0242\n",
      "Epoch 186/300\n",
      "1/1 [==============================] - 0s 20ms/step - loss: 0.0168 - val_loss: 0.0244\n",
      "Epoch 187/300\n",
      "1/1 [==============================] - 0s 20ms/step - loss: 0.0168 - val_loss: 0.0245\n",
      "Epoch 188/300\n",
      "1/1 [==============================] - 0s 24ms/step - loss: 0.0168 - val_loss: 0.0246\n",
      "Epoch 189/300\n",
      "1/1 [==============================] - 0s 22ms/step - loss: 0.0167 - val_loss: 0.0248\n",
      "Epoch 190/300\n",
      "1/1 [==============================] - 0s 28ms/step - loss: 0.0167 - val_loss: 0.0249\n",
      "Epoch 191/300\n",
      "1/1 [==============================] - 0s 20ms/step - loss: 0.0167 - val_loss: 0.0251\n",
      "Epoch 192/300\n",
      "1/1 [==============================] - 0s 20ms/step - loss: 0.0166 - val_loss: 0.0252\n",
      "Epoch 193/300\n",
      "1/1 [==============================] - 0s 20ms/step - loss: 0.0166 - val_loss: 0.0254\n",
      "Epoch 194/300\n",
      "1/1 [==============================] - 0s 24ms/step - loss: 0.0165 - val_loss: 0.0255\n",
      "Epoch 195/300\n",
      "1/1 [==============================] - 0s 20ms/step - loss: 0.0165 - val_loss: 0.0257\n",
      "Epoch 196/300\n",
      "1/1 [==============================] - 0s 20ms/step - loss: 0.0165 - val_loss: 0.0258\n",
      "Epoch 197/300\n",
      "1/1 [==============================] - 0s 24ms/step - loss: 0.0164 - val_loss: 0.0259\n",
      "Epoch 198/300\n",
      "1/1 [==============================] - 0s 24ms/step - loss: 0.0164 - val_loss: 0.0261\n",
      "Epoch 199/300\n",
      "1/1 [==============================] - 0s 24ms/step - loss: 0.0163 - val_loss: 0.0262\n",
      "Epoch 200/300\n",
      "1/1 [==============================] - 0s 20ms/step - loss: 0.0163 - val_loss: 0.0264\n",
      "Epoch 201/300\n",
      "1/1 [==============================] - 0s 24ms/step - loss: 0.0163 - val_loss: 0.0265\n",
      "Epoch 202/300\n",
      "1/1 [==============================] - 0s 20ms/step - loss: 0.0162 - val_loss: 0.0266\n",
      "Epoch 203/300\n",
      "1/1 [==============================] - 0s 29ms/step - loss: 0.0162 - val_loss: 0.0268\n",
      "Epoch 204/300\n",
      "1/1 [==============================] - 0s 20ms/step - loss: 0.0161 - val_loss: 0.0269\n",
      "Epoch 205/300\n",
      "1/1 [==============================] - 0s 18ms/step - loss: 0.0161 - val_loss: 0.0271\n",
      "Epoch 206/300\n",
      "1/1 [==============================] - 0s 19ms/step - loss: 0.0161 - val_loss: 0.0272\n",
      "Epoch 207/300\n",
      "1/1 [==============================] - 0s 20ms/step - loss: 0.0160 - val_loss: 0.0273\n",
      "Epoch 208/300\n",
      "1/1 [==============================] - 0s 24ms/step - loss: 0.0160 - val_loss: 0.0275\n",
      "Epoch 209/300\n",
      "1/1 [==============================] - 0s 20ms/step - loss: 0.0159 - val_loss: 0.0276\n",
      "Epoch 210/300\n",
      "1/1 [==============================] - 0s 20ms/step - loss: 0.0159 - val_loss: 0.0277\n",
      "Epoch 211/300\n",
      "1/1 [==============================] - 0s 20ms/step - loss: 0.0158 - val_loss: 0.0278\n",
      "Epoch 212/300\n",
      "1/1 [==============================] - 0s 24ms/step - loss: 0.0158 - val_loss: 0.0280\n",
      "Epoch 213/300\n",
      "1/1 [==============================] - 0s 20ms/step - loss: 0.0158 - val_loss: 0.0281\n",
      "Epoch 214/300\n",
      "1/1 [==============================] - 0s 20ms/step - loss: 0.0157 - val_loss: 0.0282\n",
      "Epoch 215/300\n",
      "1/1 [==============================] - 0s 20ms/step - loss: 0.0157 - val_loss: 0.0283\n",
      "Epoch 216/300\n",
      "1/1 [==============================] - 0s 20ms/step - loss: 0.0156 - val_loss: 0.0285\n",
      "Epoch 217/300\n",
      "1/1 [==============================] - 0s 24ms/step - loss: 0.0156 - val_loss: 0.0286\n",
      "Epoch 218/300\n",
      "1/1 [==============================] - 0s 25ms/step - loss: 0.0155 - val_loss: 0.0287\n",
      "Epoch 219/300\n",
      "1/1 [==============================] - 0s 21ms/step - loss: 0.0155 - val_loss: 0.0288\n",
      "Epoch 220/300\n",
      "1/1 [==============================] - 0s 20ms/step - loss: 0.0154 - val_loss: 0.0289\n",
      "Epoch 221/300\n",
      "1/1 [==============================] - 0s 16ms/step - loss: 0.0154 - val_loss: 0.0291\n",
      "Epoch 222/300\n",
      "1/1 [==============================] - 0s 24ms/step - loss: 0.0153 - val_loss: 0.0292\n",
      "Epoch 223/300\n",
      "1/1 [==============================] - 0s 22ms/step - loss: 0.0153 - val_loss: 0.0293\n",
      "Epoch 224/300\n",
      "1/1 [==============================] - 0s 20ms/step - loss: 0.0152 - val_loss: 0.0294\n",
      "Epoch 225/300\n",
      "1/1 [==============================] - 0s 20ms/step - loss: 0.0152 - val_loss: 0.0295\n",
      "Epoch 226/300\n",
      "1/1 [==============================] - 0s 20ms/step - loss: 0.0151 - val_loss: 0.0296\n",
      "Epoch 227/300\n",
      "1/1 [==============================] - 0s 20ms/step - loss: 0.0151 - val_loss: 0.0297\n",
      "Epoch 228/300\n",
      "1/1 [==============================] - 0s 24ms/step - loss: 0.0150 - val_loss: 0.0298\n",
      "Epoch 229/300\n",
      "1/1 [==============================] - 0s 24ms/step - loss: 0.0150 - val_loss: 0.0300\n",
      "Epoch 230/300\n",
      "1/1 [==============================] - 0s 24ms/step - loss: 0.0149 - val_loss: 0.0301\n",
      "Epoch 231/300\n",
      "1/1 [==============================] - 0s 24ms/step - loss: 0.0149 - val_loss: 0.0302\n",
      "Epoch 232/300\n",
      "1/1 [==============================] - 0s 20ms/step - loss: 0.0148 - val_loss: 0.0303\n",
      "Epoch 233/300\n",
      "1/1 [==============================] - 0s 20ms/step - loss: 0.0147 - val_loss: 0.0304\n",
      "Epoch 234/300\n",
      "1/1 [==============================] - 0s 20ms/step - loss: 0.0147 - val_loss: 0.0305\n",
      "Epoch 235/300\n",
      "1/1 [==============================] - 0s 24ms/step - loss: 0.0146 - val_loss: 0.0306\n",
      "Epoch 236/300\n",
      "1/1 [==============================] - 0s 24ms/step - loss: 0.0146 - val_loss: 0.0307\n",
      "Epoch 237/300\n",
      "1/1 [==============================] - 0s 24ms/step - loss: 0.0145 - val_loss: 0.0308\n",
      "Epoch 238/300\n",
      "1/1 [==============================] - 0s 20ms/step - loss: 0.0144 - val_loss: 0.0309\n",
      "Epoch 239/300\n",
      "1/1 [==============================] - 0s 20ms/step - loss: 0.0144 - val_loss: 0.0310\n",
      "Epoch 240/300\n",
      "1/1 [==============================] - 0s 20ms/step - loss: 0.0143 - val_loss: 0.0311\n",
      "Epoch 241/300\n",
      "1/1 [==============================] - 0s 20ms/step - loss: 0.0143 - val_loss: 0.0312\n",
      "Epoch 242/300\n",
      "1/1 [==============================] - 0s 24ms/step - loss: 0.0142 - val_loss: 0.0313\n",
      "Epoch 243/300\n",
      "1/1 [==============================] - 0s 20ms/step - loss: 0.0141 - val_loss: 0.0314\n",
      "Epoch 244/300\n",
      "1/1 [==============================] - 0s 24ms/step - loss: 0.0141 - val_loss: 0.0315\n",
      "Epoch 245/300\n",
      "1/1 [==============================] - 0s 23ms/step - loss: 0.0140 - val_loss: 0.0316\n",
      "Epoch 246/300\n",
      "1/1 [==============================] - 0s 24ms/step - loss: 0.0139 - val_loss: 0.0317\n",
      "Epoch 247/300\n",
      "1/1 [==============================] - 0s 20ms/step - loss: 0.0138 - val_loss: 0.0318\n",
      "Epoch 248/300\n",
      "1/1 [==============================] - 0s 20ms/step - loss: 0.0138 - val_loss: 0.0319\n",
      "Epoch 249/300\n",
      "1/1 [==============================] - 0s 24ms/step - loss: 0.0137 - val_loss: 0.0320\n",
      "Epoch 250/300\n",
      "1/1 [==============================] - 0s 20ms/step - loss: 0.0136 - val_loss: 0.0320\n",
      "Epoch 251/300\n",
      "1/1 [==============================] - 0s 20ms/step - loss: 0.0135 - val_loss: 0.0321\n",
      "Epoch 252/300\n",
      "1/1 [==============================] - 0s 20ms/step - loss: 0.0135 - val_loss: 0.0322\n",
      "Epoch 253/300\n",
      "1/1 [==============================] - 0s 20ms/step - loss: 0.0134 - val_loss: 0.0323\n",
      "Epoch 254/300\n",
      "1/1 [==============================] - 0s 20ms/step - loss: 0.0133 - val_loss: 0.0324\n",
      "Epoch 255/300\n",
      "1/1 [==============================] - 0s 24ms/step - loss: 0.0132 - val_loss: 0.0325\n",
      "Epoch 256/300\n",
      "1/1 [==============================] - 0s 20ms/step - loss: 0.0132 - val_loss: 0.0326\n",
      "Epoch 257/300\n",
      "1/1 [==============================] - 0s 24ms/step - loss: 0.0131 - val_loss: 0.0327\n",
      "Epoch 258/300\n",
      "1/1 [==============================] - 0s 24ms/step - loss: 0.0130 - val_loss: 0.0328\n",
      "Epoch 259/300\n",
      "1/1 [==============================] - 0s 20ms/step - loss: 0.0129 - val_loss: 0.0329\n",
      "Epoch 260/300\n",
      "1/1 [==============================] - 0s 24ms/step - loss: 0.0128 - val_loss: 0.0330\n",
      "Epoch 261/300\n",
      "1/1 [==============================] - 0s 20ms/step - loss: 0.0127 - val_loss: 0.0330\n",
      "Epoch 262/300\n",
      "1/1 [==============================] - 0s 24ms/step - loss: 0.0127 - val_loss: 0.0331\n",
      "Epoch 263/300\n",
      "1/1 [==============================] - 0s 24ms/step - loss: 0.0126 - val_loss: 0.0332\n",
      "Epoch 264/300\n",
      "1/1 [==============================] - 0s 21ms/step - loss: 0.0125 - val_loss: 0.0333\n",
      "Epoch 265/300\n",
      "1/1 [==============================] - 0s 24ms/step - loss: 0.0124 - val_loss: 0.0334\n",
      "Epoch 266/300\n",
      "1/1 [==============================] - 0s 20ms/step - loss: 0.0123 - val_loss: 0.0335\n",
      "Epoch 267/300\n",
      "1/1 [==============================] - 0s 20ms/step - loss: 0.0122 - val_loss: 0.0336\n",
      "Epoch 268/300\n",
      "1/1 [==============================] - 0s 20ms/step - loss: 0.0121 - val_loss: 0.0336\n",
      "Epoch 269/300\n",
      "1/1 [==============================] - 0s 20ms/step - loss: 0.0120 - val_loss: 0.0337\n",
      "Epoch 270/300\n",
      "1/1 [==============================] - 0s 20ms/step - loss: 0.0119 - val_loss: 0.0338\n",
      "Epoch 271/300\n",
      "1/1 [==============================] - 0s 20ms/step - loss: 0.0118 - val_loss: 0.0339\n",
      "Epoch 272/300\n",
      "1/1 [==============================] - 0s 28ms/step - loss: 0.0118 - val_loss: 0.0340\n",
      "Epoch 273/300\n",
      "1/1 [==============================] - 0s 20ms/step - loss: 0.0117 - val_loss: 0.0341\n",
      "Epoch 274/300\n",
      "1/1 [==============================] - 0s 20ms/step - loss: 0.0116 - val_loss: 0.0341\n",
      "Epoch 275/300\n",
      "1/1 [==============================] - 0s 20ms/step - loss: 0.0115 - val_loss: 0.0342\n",
      "Epoch 276/300\n",
      "1/1 [==============================] - 0s 23ms/step - loss: 0.0114 - val_loss: 0.0343\n",
      "Epoch 277/300\n",
      "1/1 [==============================] - 0s 24ms/step - loss: 0.0113 - val_loss: 0.0344\n",
      "Epoch 278/300\n",
      "1/1 [==============================] - 0s 22ms/step - loss: 0.0112 - val_loss: 0.0345\n",
      "Epoch 279/300\n",
      "1/1 [==============================] - 0s 22ms/step - loss: 0.0111 - val_loss: 0.0345\n",
      "Epoch 280/300\n",
      "1/1 [==============================] - 0s 20ms/step - loss: 0.0110 - val_loss: 0.0346\n",
      "Epoch 281/300\n",
      "1/1 [==============================] - 0s 20ms/step - loss: 0.0109 - val_loss: 0.0347\n",
      "Epoch 282/300\n",
      "1/1 [==============================] - 0s 24ms/step - loss: 0.0108 - val_loss: 0.0347\n",
      "Epoch 283/300\n",
      "1/1 [==============================] - 0s 28ms/step - loss: 0.0107 - val_loss: 0.0348\n",
      "Epoch 284/300\n",
      "1/1 [==============================] - 0s 20ms/step - loss: 0.0106 - val_loss: 0.0349\n",
      "Epoch 285/300\n",
      "1/1 [==============================] - 0s 28ms/step - loss: 0.0105 - val_loss: 0.0349\n",
      "Epoch 286/300\n",
      "1/1 [==============================] - 0s 24ms/step - loss: 0.0104 - val_loss: 0.0350\n",
      "Epoch 287/300\n",
      "1/1 [==============================] - 0s 20ms/step - loss: 0.0104 - val_loss: 0.0351\n",
      "Epoch 288/300\n",
      "1/1 [==============================] - 0s 20ms/step - loss: 0.0103 - val_loss: 0.0351\n",
      "Epoch 289/300\n",
      "1/1 [==============================] - 0s 24ms/step - loss: 0.0102 - val_loss: 0.0352\n",
      "Epoch 290/300\n",
      "1/1 [==============================] - 0s 20ms/step - loss: 0.0101 - val_loss: 0.0352\n",
      "Epoch 291/300\n",
      "1/1 [==============================] - 0s 20ms/step - loss: 0.0100 - val_loss: 0.0353\n",
      "Epoch 292/300\n",
      "1/1 [==============================] - 0s 23ms/step - loss: 0.0099 - val_loss: 0.0353\n",
      "Epoch 293/300\n",
      "1/1 [==============================] - 0s 19ms/step - loss: 0.0098 - val_loss: 0.0353\n",
      "Epoch 294/300\n",
      "1/1 [==============================] - 0s 18ms/step - loss: 0.0098 - val_loss: 0.0354\n",
      "Epoch 295/300\n",
      "1/1 [==============================] - 0s 20ms/step - loss: 0.0097 - val_loss: 0.0354\n",
      "Epoch 296/300\n",
      "1/1 [==============================] - 0s 21ms/step - loss: 0.0096 - val_loss: 0.0354\n",
      "Epoch 297/300\n",
      "1/1 [==============================] - 0s 20ms/step - loss: 0.0095 - val_loss: 0.0354\n",
      "Epoch 298/300\n",
      "1/1 [==============================] - 0s 20ms/step - loss: 0.0095 - val_loss: 0.0354\n",
      "Epoch 299/300\n",
      "1/1 [==============================] - 0s 20ms/step - loss: 0.0094 - val_loss: 0.0354\n",
      "Epoch 300/300\n",
      "1/1 [==============================] - 0s 24ms/step - loss: 0.0093 - val_loss: 0.0354\n",
      "Test Score: 78.334 RMSE\n",
      "Test Score: 6136.249 MSE\n",
      "Test Score: 66.009 MAE\n",
      "Test Score: 11.799 MAPE\n",
      "Epoch 1/300\n",
      "2/2 [==============================] - 0s 48ms/step - loss: 0.0212 - val_loss: 0.0363\n",
      "Epoch 2/300\n",
      "2/2 [==============================] - 0s 20ms/step - loss: 0.0190 - val_loss: 0.0461\n",
      "Epoch 3/300\n",
      "2/2 [==============================] - 0s 27ms/step - loss: 0.0215 - val_loss: 0.0423\n",
      "Epoch 4/300\n",
      "2/2 [==============================] - 0s 15ms/step - loss: 0.0200 - val_loss: 0.0328\n",
      "Epoch 5/300\n",
      "2/2 [==============================] - 0s 20ms/step - loss: 0.0170 - val_loss: 0.0260\n",
      "Epoch 6/300\n",
      "2/2 [==============================] - 0s 20ms/step - loss: 0.0157 - val_loss: 0.0238\n",
      "Epoch 7/300\n",
      "2/2 [==============================] - 0s 20ms/step - loss: 0.0152 - val_loss: 0.0246\n",
      "Epoch 8/300\n",
      "2/2 [==============================] - 0s 20ms/step - loss: 0.0148 - val_loss: 0.0267\n",
      "Epoch 9/300\n",
      "2/2 [==============================] - 0s 20ms/step - loss: 0.0149 - val_loss: 0.0282\n",
      "Epoch 10/300\n",
      "2/2 [==============================] - 0s 20ms/step - loss: 0.0153 - val_loss: 0.0280\n",
      "Epoch 11/300\n",
      "2/2 [==============================] - 0s 28ms/step - loss: 0.0153 - val_loss: 0.0265\n",
      "Epoch 12/300\n",
      "2/2 [==============================] - 0s 20ms/step - loss: 0.0149 - val_loss: 0.0245\n",
      "Epoch 13/300\n",
      "2/2 [==============================] - 0s 20ms/step - loss: 0.0144 - val_loss: 0.0229\n",
      "Epoch 14/300\n",
      "2/2 [==============================] - 0s 16ms/step - loss: 0.0141 - val_loss: 0.0222\n",
      "Epoch 15/300\n",
      "2/2 [==============================] - 0s 20ms/step - loss: 0.0140 - val_loss: 0.0223\n",
      "Epoch 16/300\n",
      "2/2 [==============================] - 0s 28ms/step - loss: 0.0140 - val_loss: 0.0229\n",
      "Epoch 17/300\n",
      "2/2 [==============================] - 0s 20ms/step - loss: 0.0140 - val_loss: 0.0236\n",
      "Epoch 18/300\n",
      "2/2 [==============================] - 0s 20ms/step - loss: 0.0142 - val_loss: 0.0241\n",
      "Epoch 19/300\n",
      "2/2 [==============================] - 0s 20ms/step - loss: 0.0143 - val_loss: 0.0241\n",
      "Epoch 20/300\n",
      "2/2 [==============================] - 0s 20ms/step - loss: 0.0143 - val_loss: 0.0238\n",
      "Epoch 21/300\n",
      "2/2 [==============================] - 0s 20ms/step - loss: 0.0142 - val_loss: 0.0232\n",
      "Epoch 22/300\n",
      "2/2 [==============================] - 0s 22ms/step - loss: 0.0141 - val_loss: 0.0228\n",
      "Epoch 23/300\n",
      "2/2 [==============================] - 0s 24ms/step - loss: 0.0140 - val_loss: 0.0226\n",
      "Epoch 24/300\n",
      "2/2 [==============================] - 0s 16ms/step - loss: 0.0139 - val_loss: 0.0227\n",
      "Epoch 25/300\n",
      "2/2 [==============================] - 0s 20ms/step - loss: 0.0139 - val_loss: 0.0230\n",
      "Epoch 26/300\n",
      "2/2 [==============================] - 0s 23ms/step - loss: 0.0140 - val_loss: 0.0233\n",
      "Epoch 27/300\n",
      "2/2 [==============================] - 0s 20ms/step - loss: 0.0140 - val_loss: 0.0235\n",
      "Epoch 28/300\n",
      "2/2 [==============================] - 0s 24ms/step - loss: 0.0140 - val_loss: 0.0235\n",
      "Epoch 29/300\n",
      "2/2 [==============================] - 0s 18ms/step - loss: 0.0140 - val_loss: 0.0234\n",
      "Epoch 30/300\n",
      "2/2 [==============================] - 0s 20ms/step - loss: 0.0139 - val_loss: 0.0232\n",
      "Epoch 31/300\n",
      "2/2 [==============================] - 0s 20ms/step - loss: 0.0139 - val_loss: 0.0230\n",
      "Epoch 32/300\n",
      "2/2 [==============================] - 0s 20ms/step - loss: 0.0138 - val_loss: 0.0230\n",
      "Epoch 33/300\n",
      "2/2 [==============================] - 0s 20ms/step - loss: 0.0138 - val_loss: 0.0231\n",
      "Epoch 34/300\n",
      "2/2 [==============================] - 0s 20ms/step - loss: 0.0138 - val_loss: 0.0232\n",
      "Epoch 35/300\n",
      "2/2 [==============================] - 0s 24ms/step - loss: 0.0138 - val_loss: 0.0234\n",
      "Epoch 36/300\n",
      "2/2 [==============================] - 0s 16ms/step - loss: 0.0138 - val_loss: 0.0234\n",
      "Epoch 37/300\n",
      "2/2 [==============================] - 0s 16ms/step - loss: 0.0138 - val_loss: 0.0234\n",
      "Epoch 38/300\n",
      "2/2 [==============================] - 0s 20ms/step - loss: 0.0138 - val_loss: 0.0234\n",
      "Epoch 39/300\n",
      "2/2 [==============================] - 0s 25ms/step - loss: 0.0137 - val_loss: 0.0234\n",
      "Epoch 40/300\n",
      "2/2 [==============================] - 0s 20ms/step - loss: 0.0137 - val_loss: 0.0234\n",
      "Epoch 41/300\n",
      "2/2 [==============================] - 0s 26ms/step - loss: 0.0137 - val_loss: 0.0234\n",
      "Epoch 42/300\n",
      "2/2 [==============================] - 0s 24ms/step - loss: 0.0137 - val_loss: 0.0235\n",
      "Epoch 43/300\n",
      "2/2 [==============================] - 0s 19ms/step - loss: 0.0136 - val_loss: 0.0235\n",
      "Epoch 44/300\n",
      "2/2 [==============================] - 0s 25ms/step - loss: 0.0136 - val_loss: 0.0236\n",
      "Epoch 45/300\n",
      "2/2 [==============================] - 0s 20ms/step - loss: 0.0136 - val_loss: 0.0236\n",
      "Epoch 46/300\n",
      "2/2 [==============================] - 0s 20ms/step - loss: 0.0136 - val_loss: 0.0236\n",
      "Epoch 47/300\n",
      "2/2 [==============================] - 0s 24ms/step - loss: 0.0136 - val_loss: 0.0236\n",
      "Epoch 48/300\n",
      "2/2 [==============================] - 0s 20ms/step - loss: 0.0136 - val_loss: 0.0236\n",
      "Epoch 49/300\n",
      "2/2 [==============================] - 0s 20ms/step - loss: 0.0135 - val_loss: 0.0237\n",
      "Epoch 50/300\n",
      "2/2 [==============================] - 0s 20ms/step - loss: 0.0135 - val_loss: 0.0237\n",
      "Epoch 51/300\n",
      "2/2 [==============================] - 0s 20ms/step - loss: 0.0135 - val_loss: 0.0237\n",
      "Epoch 52/300\n",
      "2/2 [==============================] - 0s 20ms/step - loss: 0.0135 - val_loss: 0.0238\n",
      "Epoch 53/300\n",
      "2/2 [==============================] - 0s 20ms/step - loss: 0.0135 - val_loss: 0.0238\n",
      "Epoch 54/300\n",
      "2/2 [==============================] - 0s 16ms/step - loss: 0.0135 - val_loss: 0.0238\n",
      "Epoch 55/300\n",
      "2/2 [==============================] - 0s 20ms/step - loss: 0.0134 - val_loss: 0.0238\n",
      "Epoch 56/300\n",
      "2/2 [==============================] - 0s 20ms/step - loss: 0.0134 - val_loss: 0.0238\n",
      "Epoch 57/300\n",
      "2/2 [==============================] - 0s 20ms/step - loss: 0.0134 - val_loss: 0.0238\n",
      "Epoch 58/300\n",
      "2/2 [==============================] - 0s 20ms/step - loss: 0.0134 - val_loss: 0.0239\n",
      "Epoch 59/300\n",
      "2/2 [==============================] - 0s 20ms/step - loss: 0.0134 - val_loss: 0.0239\n",
      "Epoch 60/300\n",
      "2/2 [==============================] - 0s 16ms/step - loss: 0.0133 - val_loss: 0.0239\n",
      "Epoch 61/300\n",
      "2/2 [==============================] - 0s 20ms/step - loss: 0.0133 - val_loss: 0.0239\n",
      "Epoch 62/300\n",
      "2/2 [==============================] - 0s 20ms/step - loss: 0.0133 - val_loss: 0.0239\n",
      "Epoch 63/300\n",
      "2/2 [==============================] - 0s 24ms/step - loss: 0.0133 - val_loss: 0.0239\n",
      "Epoch 64/300\n",
      "2/2 [==============================] - 0s 20ms/step - loss: 0.0133 - val_loss: 0.0240\n",
      "Epoch 65/300\n",
      "2/2 [==============================] - 0s 20ms/step - loss: 0.0133 - val_loss: 0.0240\n",
      "Epoch 66/300\n",
      "2/2 [==============================] - 0s 20ms/step - loss: 0.0132 - val_loss: 0.0240\n",
      "Epoch 67/300\n",
      "2/2 [==============================] - 0s 16ms/step - loss: 0.0132 - val_loss: 0.0240\n",
      "Epoch 68/300\n",
      "2/2 [==============================] - 0s 20ms/step - loss: 0.0132 - val_loss: 0.0240\n",
      "Epoch 69/300\n",
      "2/2 [==============================] - 0s 20ms/step - loss: 0.0132 - val_loss: 0.0240\n",
      "Epoch 70/300\n",
      "2/2 [==============================] - 0s 20ms/step - loss: 0.0132 - val_loss: 0.0241\n",
      "Epoch 71/300\n",
      "2/2 [==============================] - 0s 20ms/step - loss: 0.0131 - val_loss: 0.0241\n",
      "Epoch 72/300\n",
      "2/2 [==============================] - 0s 20ms/step - loss: 0.0131 - val_loss: 0.0241\n",
      "Epoch 73/300\n",
      "2/2 [==============================] - 0s 16ms/step - loss: 0.0131 - val_loss: 0.0241\n",
      "Epoch 74/300\n",
      "2/2 [==============================] - 0s 20ms/step - loss: 0.0131 - val_loss: 0.0241\n",
      "Epoch 75/300\n",
      "2/2 [==============================] - 0s 20ms/step - loss: 0.0131 - val_loss: 0.0241\n",
      "Epoch 76/300\n",
      "2/2 [==============================] - 0s 24ms/step - loss: 0.0131 - val_loss: 0.0241\n",
      "Epoch 77/300\n",
      "2/2 [==============================] - 0s 20ms/step - loss: 0.0130 - val_loss: 0.0242\n",
      "Epoch 78/300\n",
      "2/2 [==============================] - 0s 20ms/step - loss: 0.0130 - val_loss: 0.0242\n",
      "Epoch 79/300\n",
      "2/2 [==============================] - 0s 19ms/step - loss: 0.0130 - val_loss: 0.0242\n",
      "Epoch 80/300\n",
      "2/2 [==============================] - 0s 16ms/step - loss: 0.0130 - val_loss: 0.0242\n",
      "Epoch 81/300\n",
      "2/2 [==============================] - 0s 20ms/step - loss: 0.0130 - val_loss: 0.0242\n",
      "Epoch 82/300\n",
      "2/2 [==============================] - 0s 23ms/step - loss: 0.0130 - val_loss: 0.0242\n",
      "Epoch 83/300\n",
      "2/2 [==============================] - 0s 18ms/step - loss: 0.0129 - val_loss: 0.0242\n",
      "Epoch 84/300\n",
      "2/2 [==============================] - 0s 28ms/step - loss: 0.0129 - val_loss: 0.0243\n",
      "Epoch 85/300\n",
      "2/2 [==============================] - 0s 20ms/step - loss: 0.0129 - val_loss: 0.0243\n",
      "Epoch 86/300\n",
      "2/2 [==============================] - 0s 20ms/step - loss: 0.0129 - val_loss: 0.0243\n",
      "Epoch 87/300\n",
      "2/2 [==============================] - 0s 19ms/step - loss: 0.0129 - val_loss: 0.0243\n",
      "Epoch 88/300\n",
      "2/2 [==============================] - 0s 20ms/step - loss: 0.0128 - val_loss: 0.0243\n",
      "Epoch 89/300\n",
      "2/2 [==============================] - 0s 16ms/step - loss: 0.0128 - val_loss: 0.0243\n",
      "Epoch 90/300\n",
      "2/2 [==============================] - 0s 21ms/step - loss: 0.0128 - val_loss: 0.0243\n",
      "Epoch 91/300\n",
      "2/2 [==============================] - 0s 20ms/step - loss: 0.0128 - val_loss: 0.0244\n",
      "Epoch 92/300\n",
      "2/2 [==============================] - 0s 20ms/step - loss: 0.0128 - val_loss: 0.0244\n",
      "Epoch 93/300\n",
      "2/2 [==============================] - 0s 22ms/step - loss: 0.0128 - val_loss: 0.0244\n",
      "Epoch 94/300\n",
      "2/2 [==============================] - 0s 21ms/step - loss: 0.0127 - val_loss: 0.0244\n",
      "Epoch 95/300\n",
      "2/2 [==============================] - 0s 20ms/step - loss: 0.0127 - val_loss: 0.0244\n",
      "Epoch 96/300\n",
      "2/2 [==============================] - 0s 27ms/step - loss: 0.0127 - val_loss: 0.0244\n",
      "Epoch 97/300\n",
      "2/2 [==============================] - 0s 20ms/step - loss: 0.0127 - val_loss: 0.0244\n",
      "Epoch 98/300\n",
      "2/2 [==============================] - 0s 18ms/step - loss: 0.0127 - val_loss: 0.0245\n",
      "Epoch 99/300\n",
      "2/2 [==============================] - 0s 16ms/step - loss: 0.0127 - val_loss: 0.0245\n",
      "Epoch 100/300\n",
      "2/2 [==============================] - 0s 20ms/step - loss: 0.0126 - val_loss: 0.0245\n",
      "Epoch 101/300\n",
      "2/2 [==============================] - 0s 24ms/step - loss: 0.0126 - val_loss: 0.0245\n",
      "Epoch 102/300\n",
      "2/2 [==============================] - 0s 21ms/step - loss: 0.0126 - val_loss: 0.0245\n",
      "Epoch 103/300\n",
      "2/2 [==============================] - 0s 20ms/step - loss: 0.0126 - val_loss: 0.0245\n",
      "Epoch 104/300\n",
      "2/2 [==============================] - 0s 24ms/step - loss: 0.0126 - val_loss: 0.0245\n",
      "Epoch 105/300\n",
      "2/2 [==============================] - 0s 16ms/step - loss: 0.0126 - val_loss: 0.0245\n",
      "Epoch 106/300\n",
      "2/2 [==============================] - 0s 19ms/step - loss: 0.0125 - val_loss: 0.0246\n",
      "Epoch 107/300\n",
      "2/2 [==============================] - 0s 20ms/step - loss: 0.0125 - val_loss: 0.0246\n",
      "Epoch 108/300\n",
      "2/2 [==============================] - 0s 24ms/step - loss: 0.0125 - val_loss: 0.0246\n",
      "Epoch 109/300\n",
      "2/2 [==============================] - 0s 20ms/step - loss: 0.0125 - val_loss: 0.0246\n",
      "Epoch 110/300\n",
      "2/2 [==============================] - 0s 20ms/step - loss: 0.0125 - val_loss: 0.0246\n",
      "Epoch 111/300\n",
      "2/2 [==============================] - 0s 20ms/step - loss: 0.0125 - val_loss: 0.0246\n",
      "Epoch 112/300\n",
      "2/2 [==============================] - 0s 24ms/step - loss: 0.0124 - val_loss: 0.0246\n",
      "Epoch 113/300\n",
      "2/2 [==============================] - 0s 16ms/step - loss: 0.0124 - val_loss: 0.0246\n",
      "Epoch 114/300\n",
      "2/2 [==============================] - 0s 20ms/step - loss: 0.0124 - val_loss: 0.0247\n",
      "Epoch 115/300\n",
      "2/2 [==============================] - 0s 20ms/step - loss: 0.0124 - val_loss: 0.0247\n",
      "Epoch 116/300\n",
      "2/2 [==============================] - 0s 16ms/step - loss: 0.0124 - val_loss: 0.0247\n",
      "Epoch 117/300\n",
      "2/2 [==============================] - 0s 20ms/step - loss: 0.0124 - val_loss: 0.0247\n",
      "Epoch 118/300\n",
      "2/2 [==============================] - 0s 20ms/step - loss: 0.0123 - val_loss: 0.0247\n",
      "Epoch 119/300\n",
      "2/2 [==============================] - 0s 20ms/step - loss: 0.0123 - val_loss: 0.0247\n",
      "Epoch 120/300\n",
      "2/2 [==============================] - 0s 24ms/step - loss: 0.0123 - val_loss: 0.0247\n",
      "Epoch 121/300\n",
      "2/2 [==============================] - 0s 19ms/step - loss: 0.0123 - val_loss: 0.0247\n",
      "Epoch 122/300\n",
      "2/2 [==============================] - 0s 16ms/step - loss: 0.0123 - val_loss: 0.0248\n",
      "Epoch 123/300\n",
      "2/2 [==============================] - 0s 20ms/step - loss: 0.0123 - val_loss: 0.0248\n",
      "Epoch 124/300\n",
      "2/2 [==============================] - 0s 20ms/step - loss: 0.0122 - val_loss: 0.0248\n",
      "Epoch 125/300\n",
      "2/2 [==============================] - 0s 21ms/step - loss: 0.0122 - val_loss: 0.0248\n",
      "Epoch 126/300\n",
      "2/2 [==============================] - 0s 20ms/step - loss: 0.0122 - val_loss: 0.0248\n",
      "Epoch 127/300\n",
      "2/2 [==============================] - 0s 20ms/step - loss: 0.0122 - val_loss: 0.0248\n",
      "Epoch 128/300\n",
      "2/2 [==============================] - 0s 20ms/step - loss: 0.0122 - val_loss: 0.0248\n",
      "Epoch 129/300\n",
      "2/2 [==============================] - 0s 20ms/step - loss: 0.0122 - val_loss: 0.0248\n",
      "Epoch 130/300\n",
      "2/2 [==============================] - 0s 20ms/step - loss: 0.0121 - val_loss: 0.0248\n",
      "Epoch 131/300\n",
      "2/2 [==============================] - 0s 20ms/step - loss: 0.0121 - val_loss: 0.0249\n",
      "Epoch 132/300\n",
      "2/2 [==============================] - 0s 16ms/step - loss: 0.0121 - val_loss: 0.0249\n",
      "Epoch 133/300\n",
      "2/2 [==============================] - 0s 24ms/step - loss: 0.0121 - val_loss: 0.0249\n",
      "Epoch 134/300\n",
      "2/2 [==============================] - 0s 20ms/step - loss: 0.0121 - val_loss: 0.0249\n",
      "Epoch 135/300\n",
      "2/2 [==============================] - 0s 16ms/step - loss: 0.0121 - val_loss: 0.0249\n",
      "Epoch 136/300\n",
      "2/2 [==============================] - 0s 20ms/step - loss: 0.0120 - val_loss: 0.0249\n",
      "Epoch 137/300\n",
      "2/2 [==============================] - 0s 24ms/step - loss: 0.0120 - val_loss: 0.0249\n",
      "Epoch 138/300\n",
      "2/2 [==============================] - 0s 20ms/step - loss: 0.0120 - val_loss: 0.0249\n",
      "Epoch 139/300\n",
      "2/2 [==============================] - 0s 20ms/step - loss: 0.0120 - val_loss: 0.0250\n",
      "Epoch 140/300\n",
      "2/2 [==============================] - 0s 18ms/step - loss: 0.0120 - val_loss: 0.0250\n",
      "Epoch 141/300\n",
      "2/2 [==============================] - 0s 20ms/step - loss: 0.0120 - val_loss: 0.0250\n",
      "Epoch 142/300\n",
      "2/2 [==============================] - 0s 20ms/step - loss: 0.0119 - val_loss: 0.0250\n",
      "Epoch 143/300\n",
      "2/2 [==============================] - 0s 24ms/step - loss: 0.0119 - val_loss: 0.0250\n",
      "Epoch 144/300\n",
      "2/2 [==============================] - 0s 28ms/step - loss: 0.0119 - val_loss: 0.0250\n",
      "Epoch 145/300\n",
      "2/2 [==============================] - 0s 20ms/step - loss: 0.0119 - val_loss: 0.0250\n",
      "Epoch 146/300\n",
      "2/2 [==============================] - 0s 20ms/step - loss: 0.0119 - val_loss: 0.0250\n",
      "Epoch 147/300\n",
      "2/2 [==============================] - 0s 20ms/step - loss: 0.0119 - val_loss: 0.0250\n",
      "Epoch 148/300\n",
      "2/2 [==============================] - 0s 20ms/step - loss: 0.0118 - val_loss: 0.0250\n",
      "Epoch 149/300\n",
      "2/2 [==============================] - 0s 20ms/step - loss: 0.0118 - val_loss: 0.0251\n",
      "Epoch 150/300\n",
      "2/2 [==============================] - 0s 24ms/step - loss: 0.0118 - val_loss: 0.0251\n",
      "Epoch 151/300\n",
      "2/2 [==============================] - 0s 24ms/step - loss: 0.0118 - val_loss: 0.0251\n",
      "Epoch 152/300\n",
      "2/2 [==============================] - 0s 21ms/step - loss: 0.0118 - val_loss: 0.0251\n",
      "Epoch 153/300\n",
      "2/2 [==============================] - 0s 24ms/step - loss: 0.0118 - val_loss: 0.0251\n",
      "Epoch 154/300\n",
      "2/2 [==============================] - 0s 20ms/step - loss: 0.0117 - val_loss: 0.0251\n",
      "Epoch 155/300\n",
      "2/2 [==============================] - 0s 20ms/step - loss: 0.0117 - val_loss: 0.0251\n",
      "Epoch 156/300\n",
      "2/2 [==============================] - 0s 28ms/step - loss: 0.0117 - val_loss: 0.0251\n",
      "Epoch 157/300\n",
      "2/2 [==============================] - 0s 16ms/step - loss: 0.0117 - val_loss: 0.0251\n",
      "Epoch 158/300\n",
      "2/2 [==============================] - 0s 20ms/step - loss: 0.0117 - val_loss: 0.0252\n",
      "Epoch 159/300\n",
      "2/2 [==============================] - 0s 20ms/step - loss: 0.0117 - val_loss: 0.0252\n",
      "Epoch 160/300\n",
      "2/2 [==============================] - 0s 24ms/step - loss: 0.0116 - val_loss: 0.0252\n",
      "Epoch 161/300\n",
      "2/2 [==============================] - 0s 19ms/step - loss: 0.0116 - val_loss: 0.0252\n",
      "Epoch 162/300\n",
      "2/2 [==============================] - 0s 23ms/step - loss: 0.0116 - val_loss: 0.0252\n",
      "Epoch 163/300\n",
      "2/2 [==============================] - 0s 20ms/step - loss: 0.0116 - val_loss: 0.0252\n",
      "Epoch 164/300\n",
      "2/2 [==============================] - 0s 17ms/step - loss: 0.0116 - val_loss: 0.0252\n",
      "Epoch 165/300\n",
      "2/2 [==============================] - 0s 24ms/step - loss: 0.0116 - val_loss: 0.0252\n",
      "Epoch 166/300\n",
      "2/2 [==============================] - 0s 23ms/step - loss: 0.0115 - val_loss: 0.0252\n",
      "Epoch 167/300\n",
      "2/2 [==============================] - 0s 20ms/step - loss: 0.0115 - val_loss: 0.0252\n",
      "Epoch 168/300\n",
      "2/2 [==============================] - 0s 20ms/step - loss: 0.0115 - val_loss: 0.0253\n",
      "Epoch 169/300\n",
      "2/2 [==============================] - 0s 24ms/step - loss: 0.0115 - val_loss: 0.0253\n",
      "Epoch 170/300\n",
      "2/2 [==============================] - 0s 20ms/step - loss: 0.0115 - val_loss: 0.0253\n",
      "Epoch 171/300\n",
      "2/2 [==============================] - 0s 19ms/step - loss: 0.0115 - val_loss: 0.0253\n",
      "Epoch 172/300\n",
      "2/2 [==============================] - 0s 24ms/step - loss: 0.0114 - val_loss: 0.0253\n",
      "Epoch 173/300\n",
      "2/2 [==============================] - 0s 21ms/step - loss: 0.0114 - val_loss: 0.0253\n",
      "Epoch 174/300\n",
      "2/2 [==============================] - 0s 20ms/step - loss: 0.0114 - val_loss: 0.0253\n",
      "Epoch 175/300\n",
      "2/2 [==============================] - 0s 20ms/step - loss: 0.0114 - val_loss: 0.0253\n",
      "Epoch 176/300\n",
      "2/2 [==============================] - 0s 24ms/step - loss: 0.0114 - val_loss: 0.0253\n",
      "Epoch 177/300\n",
      "2/2 [==============================] - 0s 22ms/step - loss: 0.0114 - val_loss: 0.0253\n",
      "Epoch 178/300\n",
      "2/2 [==============================] - 0s 20ms/step - loss: 0.0113 - val_loss: 0.0253\n",
      "Epoch 179/300\n",
      "2/2 [==============================] - 0s 20ms/step - loss: 0.0113 - val_loss: 0.0254\n",
      "Epoch 180/300\n",
      "2/2 [==============================] - 0s 28ms/step - loss: 0.0113 - val_loss: 0.0254\n",
      "Epoch 181/300\n",
      "2/2 [==============================] - 0s 16ms/step - loss: 0.0113 - val_loss: 0.0254\n",
      "Epoch 182/300\n",
      "2/2 [==============================] - 0s 20ms/step - loss: 0.0113 - val_loss: 0.0254\n",
      "Epoch 183/300\n",
      "2/2 [==============================] - 0s 20ms/step - loss: 0.0112 - val_loss: 0.0254\n",
      "Epoch 184/300\n",
      "2/2 [==============================] - 0s 20ms/step - loss: 0.0112 - val_loss: 0.0254\n",
      "Epoch 185/300\n",
      "2/2 [==============================] - 0s 24ms/step - loss: 0.0112 - val_loss: 0.0254\n",
      "Epoch 186/300\n",
      "2/2 [==============================] - 0s 20ms/step - loss: 0.0112 - val_loss: 0.0254\n",
      "Epoch 187/300\n",
      "2/2 [==============================] - 0s 20ms/step - loss: 0.0112 - val_loss: 0.0254\n",
      "Epoch 188/300\n",
      "2/2 [==============================] - 0s 20ms/step - loss: 0.0112 - val_loss: 0.0254\n",
      "Epoch 189/300\n",
      "2/2 [==============================] - 0s 20ms/step - loss: 0.0111 - val_loss: 0.0254\n",
      "Epoch 190/300\n",
      "2/2 [==============================] - 0s 20ms/step - loss: 0.0111 - val_loss: 0.0255\n",
      "Epoch 191/300\n",
      "2/2 [==============================] - 0s 24ms/step - loss: 0.0111 - val_loss: 0.0255\n",
      "Epoch 192/300\n",
      "2/2 [==============================] - 0s 20ms/step - loss: 0.0111 - val_loss: 0.0255\n",
      "Epoch 193/300\n",
      "2/2 [==============================] - 0s 20ms/step - loss: 0.0111 - val_loss: 0.0255\n",
      "Epoch 194/300\n",
      "2/2 [==============================] - 0s 18ms/step - loss: 0.0111 - val_loss: 0.0255\n",
      "Epoch 195/300\n",
      "2/2 [==============================] - 0s 20ms/step - loss: 0.0110 - val_loss: 0.0255\n",
      "Epoch 196/300\n",
      "2/2 [==============================] - 0s 24ms/step - loss: 0.0110 - val_loss: 0.0255\n",
      "Epoch 197/300\n",
      "2/2 [==============================] - 0s 24ms/step - loss: 0.0110 - val_loss: 0.0255\n",
      "Epoch 198/300\n",
      "2/2 [==============================] - 0s 20ms/step - loss: 0.0110 - val_loss: 0.0255\n",
      "Epoch 199/300\n",
      "2/2 [==============================] - 0s 20ms/step - loss: 0.0110 - val_loss: 0.0255\n",
      "Epoch 200/300\n",
      "2/2 [==============================] - 0s 24ms/step - loss: 0.0110 - val_loss: 0.0255\n",
      "Epoch 201/300\n",
      "2/2 [==============================] - 0s 20ms/step - loss: 0.0109 - val_loss: 0.0255\n",
      "Epoch 202/300\n",
      "2/2 [==============================] - 0s 24ms/step - loss: 0.0109 - val_loss: 0.0256\n",
      "Epoch 203/300\n",
      "2/2 [==============================] - 0s 24ms/step - loss: 0.0109 - val_loss: 0.0256\n",
      "Epoch 204/300\n",
      "2/2 [==============================] - 0s 20ms/step - loss: 0.0109 - val_loss: 0.0256\n",
      "Epoch 205/300\n",
      "2/2 [==============================] - 0s 20ms/step - loss: 0.0109 - val_loss: 0.0256\n",
      "Epoch 206/300\n",
      "2/2 [==============================] - 0s 20ms/step - loss: 0.0109 - val_loss: 0.0256\n",
      "Epoch 207/300\n",
      "2/2 [==============================] - 0s 20ms/step - loss: 0.0108 - val_loss: 0.0256\n",
      "Epoch 208/300\n",
      "2/2 [==============================] - 0s 19ms/step - loss: 0.0108 - val_loss: 0.0256\n",
      "Epoch 209/300\n",
      "2/2 [==============================] - 0s 20ms/step - loss: 0.0108 - val_loss: 0.0256\n",
      "Epoch 210/300\n",
      "2/2 [==============================] - 0s 25ms/step - loss: 0.0108 - val_loss: 0.0256\n",
      "Epoch 211/300\n",
      "2/2 [==============================] - 0s 20ms/step - loss: 0.0108 - val_loss: 0.0256\n",
      "Epoch 212/300\n",
      "2/2 [==============================] - 0s 20ms/step - loss: 0.0108 - val_loss: 0.0256\n",
      "Epoch 213/300\n",
      "2/2 [==============================] - 0s 20ms/step - loss: 0.0107 - val_loss: 0.0256\n",
      "Epoch 214/300\n",
      "2/2 [==============================] - 0s 20ms/step - loss: 0.0107 - val_loss: 0.0257\n",
      "Epoch 215/300\n",
      "2/2 [==============================] - 0s 24ms/step - loss: 0.0107 - val_loss: 0.0257\n",
      "Epoch 216/300\n",
      "2/2 [==============================] - 0s 20ms/step - loss: 0.0107 - val_loss: 0.0257\n",
      "Epoch 217/300\n",
      "2/2 [==============================] - 0s 20ms/step - loss: 0.0107 - val_loss: 0.0257\n",
      "Epoch 218/300\n",
      "2/2 [==============================] - 0s 20ms/step - loss: 0.0107 - val_loss: 0.0257\n",
      "Epoch 219/300\n",
      "2/2 [==============================] - 0s 20ms/step - loss: 0.0106 - val_loss: 0.0257\n",
      "Epoch 220/300\n",
      "2/2 [==============================] - 0s 22ms/step - loss: 0.0106 - val_loss: 0.0257\n",
      "Epoch 221/300\n",
      "2/2 [==============================] - 0s 18ms/step - loss: 0.0106 - val_loss: 0.0257\n",
      "Epoch 222/300\n",
      "2/2 [==============================] - 0s 22ms/step - loss: 0.0106 - val_loss: 0.0257\n",
      "Epoch 223/300\n",
      "2/2 [==============================] - 0s 20ms/step - loss: 0.0106 - val_loss: 0.0257\n",
      "Epoch 224/300\n",
      "2/2 [==============================] - 0s 20ms/step - loss: 0.0106 - val_loss: 0.0257\n",
      "Epoch 225/300\n",
      "2/2 [==============================] - 0s 24ms/step - loss: 0.0105 - val_loss: 0.0257\n",
      "Epoch 226/300\n",
      "2/2 [==============================] - 0s 20ms/step - loss: 0.0105 - val_loss: 0.0257\n",
      "Epoch 227/300\n",
      "2/2 [==============================] - 0s 20ms/step - loss: 0.0105 - val_loss: 0.0258\n",
      "Epoch 228/300\n",
      "2/2 [==============================] - 0s 18ms/step - loss: 0.0105 - val_loss: 0.0258\n",
      "Epoch 229/300\n",
      "2/2 [==============================] - 0s 30ms/step - loss: 0.0105 - val_loss: 0.0258\n",
      "Epoch 230/300\n",
      "2/2 [==============================] - 0s 18ms/step - loss: 0.0105 - val_loss: 0.0258\n",
      "Epoch 231/300\n",
      "2/2 [==============================] - 0s 20ms/step - loss: 0.0105 - val_loss: 0.0258\n",
      "Epoch 232/300\n",
      "2/2 [==============================] - 0s 20ms/step - loss: 0.0104 - val_loss: 0.0258\n",
      "Epoch 233/300\n",
      "2/2 [==============================] - 0s 18ms/step - loss: 0.0104 - val_loss: 0.0258\n",
      "Epoch 234/300\n",
      "2/2 [==============================] - 0s 20ms/step - loss: 0.0104 - val_loss: 0.0258\n",
      "Epoch 235/300\n",
      "2/2 [==============================] - 0s 24ms/step - loss: 0.0104 - val_loss: 0.0258\n",
      "Epoch 236/300\n",
      "2/2 [==============================] - 0s 20ms/step - loss: 0.0104 - val_loss: 0.0258\n",
      "Epoch 237/300\n",
      "2/2 [==============================] - 0s 20ms/step - loss: 0.0104 - val_loss: 0.0258\n",
      "Epoch 238/300\n",
      "2/2 [==============================] - 0s 20ms/step - loss: 0.0104 - val_loss: 0.0258\n",
      "Epoch 239/300\n",
      "2/2 [==============================] - 0s 20ms/step - loss: 0.0103 - val_loss: 0.0258\n",
      "Epoch 240/300\n",
      "2/2 [==============================] - 0s 20ms/step - loss: 0.0103 - val_loss: 0.0259\n",
      "Epoch 241/300\n",
      "2/2 [==============================] - 0s 24ms/step - loss: 0.0103 - val_loss: 0.0259\n",
      "Epoch 242/300\n",
      "2/2 [==============================] - 0s 20ms/step - loss: 0.0103 - val_loss: 0.0259\n",
      "Epoch 243/300\n",
      "2/2 [==============================] - 0s 20ms/step - loss: 0.0103 - val_loss: 0.0259\n",
      "Epoch 244/300\n",
      "2/2 [==============================] - 0s 20ms/step - loss: 0.0103 - val_loss: 0.0259\n",
      "Epoch 245/300\n",
      "2/2 [==============================] - 0s 20ms/step - loss: 0.0103 - val_loss: 0.0259\n",
      "Epoch 246/300\n",
      "2/2 [==============================] - 0s 20ms/step - loss: 0.0102 - val_loss: 0.0259\n",
      "Epoch 247/300\n",
      "2/2 [==============================] - 0s 21ms/step - loss: 0.0102 - val_loss: 0.0259\n",
      "Epoch 248/300\n",
      "2/2 [==============================] - 0s 20ms/step - loss: 0.0102 - val_loss: 0.0259\n",
      "Epoch 249/300\n",
      "2/2 [==============================] - 0s 20ms/step - loss: 0.0102 - val_loss: 0.0259\n",
      "Epoch 250/300\n",
      "2/2 [==============================] - 0s 20ms/step - loss: 0.0102 - val_loss: 0.0259\n",
      "Epoch 251/300\n",
      "2/2 [==============================] - 0s 25ms/step - loss: 0.0102 - val_loss: 0.0259\n",
      "Epoch 252/300\n",
      "2/2 [==============================] - 0s 20ms/step - loss: 0.0102 - val_loss: 0.0259\n",
      "Epoch 253/300\n",
      "2/2 [==============================] - 0s 24ms/step - loss: 0.0101 - val_loss: 0.0259\n",
      "Epoch 254/300\n",
      "2/2 [==============================] - 0s 20ms/step - loss: 0.0101 - val_loss: 0.0259\n",
      "Epoch 255/300\n",
      "2/2 [==============================] - 0s 19ms/step - loss: 0.0101 - val_loss: 0.0259\n",
      "Epoch 256/300\n",
      "2/2 [==============================] - 0s 20ms/step - loss: 0.0101 - val_loss: 0.0260\n",
      "Epoch 257/300\n",
      "2/2 [==============================] - 0s 20ms/step - loss: 0.0101 - val_loss: 0.0260\n",
      "Epoch 258/300\n",
      "2/2 [==============================] - 0s 20ms/step - loss: 0.0101 - val_loss: 0.0260\n",
      "Epoch 259/300\n",
      "2/2 [==============================] - 0s 16ms/step - loss: 0.0101 - val_loss: 0.0260\n",
      "Epoch 260/300\n",
      "2/2 [==============================] - 0s 20ms/step - loss: 0.0100 - val_loss: 0.0260\n",
      "Epoch 261/300\n",
      "2/2 [==============================] - 0s 20ms/step - loss: 0.0100 - val_loss: 0.0260\n",
      "Epoch 262/300\n",
      "2/2 [==============================] - 0s 20ms/step - loss: 0.0100 - val_loss: 0.0260\n",
      "Epoch 263/300\n",
      "2/2 [==============================] - 0s 20ms/step - loss: 0.0100 - val_loss: 0.0260\n",
      "Epoch 264/300\n",
      "2/2 [==============================] - 0s 20ms/step - loss: 0.0100 - val_loss: 0.0260\n",
      "Epoch 265/300\n",
      "2/2 [==============================] - 0s 20ms/step - loss: 0.0100 - val_loss: 0.0260\n",
      "Epoch 266/300\n",
      "2/2 [==============================] - 0s 20ms/step - loss: 0.0100 - val_loss: 0.0260\n",
      "Epoch 267/300\n",
      "2/2 [==============================] - 0s 20ms/step - loss: 0.0100 - val_loss: 0.0260\n",
      "Epoch 268/300\n",
      "2/2 [==============================] - 0s 20ms/step - loss: 0.0099 - val_loss: 0.0260\n",
      "Epoch 269/300\n",
      "2/2 [==============================] - 0s 20ms/step - loss: 0.0099 - val_loss: 0.0260\n",
      "Epoch 270/300\n",
      "2/2 [==============================] - 0s 20ms/step - loss: 0.0099 - val_loss: 0.0260\n",
      "Epoch 271/300\n",
      "2/2 [==============================] - 0s 20ms/step - loss: 0.0099 - val_loss: 0.0260\n",
      "Epoch 272/300\n",
      "2/2 [==============================] - 0s 20ms/step - loss: 0.0099 - val_loss: 0.0260\n",
      "Epoch 273/300\n",
      "2/2 [==============================] - 0s 20ms/step - loss: 0.0099 - val_loss: 0.0260\n",
      "Epoch 274/300\n",
      "2/2 [==============================] - 0s 21ms/step - loss: 0.0099 - val_loss: 0.0260\n",
      "Epoch 275/300\n",
      "2/2 [==============================] - 0s 28ms/step - loss: 0.0099 - val_loss: 0.0260\n",
      "Epoch 276/300\n",
      "2/2 [==============================] - 0s 21ms/step - loss: 0.0099 - val_loss: 0.0260\n",
      "Epoch 277/300\n",
      "2/2 [==============================] - 0s 18ms/step - loss: 0.0098 - val_loss: 0.0261\n",
      "Epoch 278/300\n",
      "2/2 [==============================] - 0s 20ms/step - loss: 0.0098 - val_loss: 0.0261\n",
      "Epoch 279/300\n",
      "2/2 [==============================] - 0s 24ms/step - loss: 0.0098 - val_loss: 0.0261\n",
      "Epoch 280/300\n",
      "2/2 [==============================] - 0s 20ms/step - loss: 0.0098 - val_loss: 0.0261\n",
      "Epoch 281/300\n",
      "2/2 [==============================] - 0s 18ms/step - loss: 0.0098 - val_loss: 0.0261\n",
      "Epoch 282/300\n",
      "2/2 [==============================] - 0s 24ms/step - loss: 0.0098 - val_loss: 0.0261\n",
      "Epoch 283/300\n",
      "2/2 [==============================] - 0s 20ms/step - loss: 0.0098 - val_loss: 0.0261\n",
      "Epoch 284/300\n",
      "2/2 [==============================] - 0s 20ms/step - loss: 0.0098 - val_loss: 0.0261\n",
      "Epoch 285/300\n",
      "2/2 [==============================] - 0s 26ms/step - loss: 0.0097 - val_loss: 0.0261\n",
      "Epoch 286/300\n",
      "2/2 [==============================] - 0s 24ms/step - loss: 0.0097 - val_loss: 0.0261\n",
      "Epoch 287/300\n",
      "2/2 [==============================] - 0s 20ms/step - loss: 0.0097 - val_loss: 0.0261\n",
      "Epoch 288/300\n",
      "2/2 [==============================] - 0s 20ms/step - loss: 0.0097 - val_loss: 0.0261\n",
      "Epoch 289/300\n",
      "2/2 [==============================] - 0s 20ms/step - loss: 0.0097 - val_loss: 0.0261\n",
      "Epoch 290/300\n",
      "2/2 [==============================] - 0s 21ms/step - loss: 0.0097 - val_loss: 0.0261\n",
      "Epoch 291/300\n",
      "2/2 [==============================] - 0s 20ms/step - loss: 0.0097 - val_loss: 0.0261\n",
      "Epoch 292/300\n",
      "2/2 [==============================] - 0s 20ms/step - loss: 0.0097 - val_loss: 0.0261\n",
      "Epoch 293/300\n",
      "2/2 [==============================] - 0s 17ms/step - loss: 0.0097 - val_loss: 0.0261\n",
      "Epoch 294/300\n",
      "2/2 [==============================] - 0s 24ms/step - loss: 0.0096 - val_loss: 0.0261\n",
      "Epoch 295/300\n",
      "2/2 [==============================] - 0s 20ms/step - loss: 0.0096 - val_loss: 0.0261\n",
      "Epoch 296/300\n",
      "2/2 [==============================] - 0s 19ms/step - loss: 0.0096 - val_loss: 0.0261\n",
      "Epoch 297/300\n",
      "2/2 [==============================] - 0s 19ms/step - loss: 0.0096 - val_loss: 0.0261\n",
      "Epoch 298/300\n",
      "2/2 [==============================] - 0s 20ms/step - loss: 0.0096 - val_loss: 0.0261\n",
      "Epoch 299/300\n",
      "2/2 [==============================] - 0s 20ms/step - loss: 0.0096 - val_loss: 0.0261\n",
      "Epoch 300/300\n",
      "2/2 [==============================] - 0s 25ms/step - loss: 0.0096 - val_loss: 0.0261\n",
      "Test Score: 67.335 RMSE\n",
      "Test Score: 4534.052 MSE\n",
      "Test Score: 49.941 MAE\n",
      "Test Score: 5.812 MAPE\n",
      "Epoch 1/300\n",
      "2/2 [==============================] - 0s 48ms/step - loss: 0.0149 - val_loss: 0.0180\n",
      "Epoch 2/300\n",
      "2/2 [==============================] - 0s 28ms/step - loss: 0.0148 - val_loss: 0.0173\n",
      "Epoch 3/300\n",
      "2/2 [==============================] - 0s 18ms/step - loss: 0.0147 - val_loss: 0.0157\n",
      "Epoch 4/300\n",
      "2/2 [==============================] - 0s 16ms/step - loss: 0.0139 - val_loss: 0.0162\n",
      "Epoch 5/300\n",
      "2/2 [==============================] - 0s 20ms/step - loss: 0.0137 - val_loss: 0.0168\n",
      "Epoch 6/300\n",
      "2/2 [==============================] - 0s 28ms/step - loss: 0.0141 - val_loss: 0.0158\n",
      "Epoch 7/300\n",
      "2/2 [==============================] - 0s 25ms/step - loss: 0.0137 - val_loss: 0.0157\n",
      "Epoch 8/300\n",
      "2/2 [==============================] - 0s 20ms/step - loss: 0.0134 - val_loss: 0.0164\n",
      "Epoch 9/300\n",
      "2/2 [==============================] - 0s 20ms/step - loss: 0.0134 - val_loss: 0.0168\n",
      "Epoch 10/300\n",
      "2/2 [==============================] - 0s 23ms/step - loss: 0.0135 - val_loss: 0.0163\n",
      "Epoch 11/300\n",
      "2/2 [==============================] - 0s 20ms/step - loss: 0.0134 - val_loss: 0.0161\n",
      "Epoch 12/300\n",
      "2/2 [==============================] - 0s 20ms/step - loss: 0.0132 - val_loss: 0.0164\n",
      "Epoch 13/300\n",
      "2/2 [==============================] - 0s 20ms/step - loss: 0.0132 - val_loss: 0.0167\n",
      "Epoch 14/300\n",
      "2/2 [==============================] - 0s 20ms/step - loss: 0.0133 - val_loss: 0.0165\n",
      "Epoch 15/300\n",
      "2/2 [==============================] - 0s 20ms/step - loss: 0.0132 - val_loss: 0.0161\n",
      "Epoch 16/300\n",
      "2/2 [==============================] - 0s 20ms/step - loss: 0.0131 - val_loss: 0.0161\n",
      "Epoch 17/300\n",
      "2/2 [==============================] - 0s 20ms/step - loss: 0.0130 - val_loss: 0.0162\n",
      "Epoch 18/300\n",
      "2/2 [==============================] - 0s 20ms/step - loss: 0.0130 - val_loss: 0.0163\n",
      "Epoch 19/300\n",
      "2/2 [==============================] - 0s 16ms/step - loss: 0.0131 - val_loss: 0.0162\n",
      "Epoch 20/300\n",
      "2/2 [==============================] - 0s 20ms/step - loss: 0.0130 - val_loss: 0.0160\n",
      "Epoch 21/300\n",
      "2/2 [==============================] - 0s 16ms/step - loss: 0.0130 - val_loss: 0.0160\n",
      "Epoch 22/300\n",
      "2/2 [==============================] - 0s 24ms/step - loss: 0.0129 - val_loss: 0.0162\n",
      "Epoch 23/300\n",
      "2/2 [==============================] - 0s 20ms/step - loss: 0.0130 - val_loss: 0.0163\n",
      "Epoch 24/300\n",
      "2/2 [==============================] - 0s 20ms/step - loss: 0.0130 - val_loss: 0.0162\n",
      "Epoch 25/300\n",
      "2/2 [==============================] - 0s 20ms/step - loss: 0.0129 - val_loss: 0.0161\n",
      "Epoch 26/300\n",
      "2/2 [==============================] - 0s 25ms/step - loss: 0.0129 - val_loss: 0.0161\n",
      "Epoch 27/300\n",
      "2/2 [==============================] - 0s 20ms/step - loss: 0.0129 - val_loss: 0.0162\n",
      "Epoch 28/300\n",
      "2/2 [==============================] - 0s 20ms/step - loss: 0.0129 - val_loss: 0.0163\n",
      "Epoch 29/300\n",
      "2/2 [==============================] - 0s 19ms/step - loss: 0.0129 - val_loss: 0.0162\n",
      "Epoch 30/300\n",
      "2/2 [==============================] - 0s 24ms/step - loss: 0.0129 - val_loss: 0.0162\n",
      "Epoch 31/300\n",
      "2/2 [==============================] - 0s 20ms/step - loss: 0.0128 - val_loss: 0.0162\n",
      "Epoch 32/300\n",
      "2/2 [==============================] - 0s 20ms/step - loss: 0.0128 - val_loss: 0.0162\n",
      "Epoch 33/300\n",
      "2/2 [==============================] - 0s 20ms/step - loss: 0.0128 - val_loss: 0.0162\n",
      "Epoch 34/300\n",
      "2/2 [==============================] - 0s 20ms/step - loss: 0.0128 - val_loss: 0.0162\n",
      "Epoch 35/300\n",
      "2/2 [==============================] - 0s 20ms/step - loss: 0.0128 - val_loss: 0.0162\n",
      "Epoch 36/300\n",
      "2/2 [==============================] - 0s 20ms/step - loss: 0.0128 - val_loss: 0.0162\n",
      "Epoch 37/300\n",
      "2/2 [==============================] - 0s 20ms/step - loss: 0.0128 - val_loss: 0.0162\n",
      "Epoch 38/300\n",
      "2/2 [==============================] - 0s 20ms/step - loss: 0.0128 - val_loss: 0.0162\n",
      "Epoch 39/300\n",
      "2/2 [==============================] - 0s 20ms/step - loss: 0.0127 - val_loss: 0.0162\n",
      "Epoch 40/300\n",
      "2/2 [==============================] - 0s 20ms/step - loss: 0.0127 - val_loss: 0.0162\n",
      "Epoch 41/300\n",
      "2/2 [==============================] - 0s 28ms/step - loss: 0.0127 - val_loss: 0.0162\n",
      "Epoch 42/300\n",
      "2/2 [==============================] - 0s 20ms/step - loss: 0.0127 - val_loss: 0.0162\n",
      "Epoch 43/300\n",
      "2/2 [==============================] - 0s 20ms/step - loss: 0.0127 - val_loss: 0.0163\n",
      "Epoch 44/300\n",
      "2/2 [==============================] - 0s 22ms/step - loss: 0.0127 - val_loss: 0.0163\n",
      "Epoch 45/300\n",
      "2/2 [==============================] - 0s 24ms/step - loss: 0.0127 - val_loss: 0.0163\n",
      "Epoch 46/300\n",
      "2/2 [==============================] - 0s 20ms/step - loss: 0.0127 - val_loss: 0.0163\n",
      "Epoch 47/300\n",
      "2/2 [==============================] - 0s 20ms/step - loss: 0.0126 - val_loss: 0.0163\n",
      "Epoch 48/300\n",
      "2/2 [==============================] - 0s 19ms/step - loss: 0.0126 - val_loss: 0.0163\n",
      "Epoch 49/300\n",
      "2/2 [==============================] - 0s 20ms/step - loss: 0.0126 - val_loss: 0.0163\n",
      "Epoch 50/300\n",
      "2/2 [==============================] - 0s 20ms/step - loss: 0.0126 - val_loss: 0.0163\n",
      "Epoch 51/300\n",
      "2/2 [==============================] - 0s 20ms/step - loss: 0.0126 - val_loss: 0.0163\n",
      "Epoch 52/300\n",
      "2/2 [==============================] - 0s 18ms/step - loss: 0.0126 - val_loss: 0.0163\n",
      "Epoch 53/300\n",
      "2/2 [==============================] - 0s 20ms/step - loss: 0.0126 - val_loss: 0.0163\n",
      "Epoch 54/300\n",
      "2/2 [==============================] - 0s 20ms/step - loss: 0.0126 - val_loss: 0.0163\n",
      "Epoch 55/300\n",
      "2/2 [==============================] - 0s 20ms/step - loss: 0.0126 - val_loss: 0.0163\n",
      "Epoch 56/300\n",
      "2/2 [==============================] - 0s 19ms/step - loss: 0.0125 - val_loss: 0.0163\n",
      "Epoch 57/300\n",
      "2/2 [==============================] - 0s 20ms/step - loss: 0.0125 - val_loss: 0.0163\n",
      "Epoch 58/300\n",
      "2/2 [==============================] - 0s 20ms/step - loss: 0.0125 - val_loss: 0.0163\n",
      "Epoch 59/300\n",
      "2/2 [==============================] - 0s 20ms/step - loss: 0.0125 - val_loss: 0.0163\n",
      "Epoch 60/300\n",
      "2/2 [==============================] - 0s 20ms/step - loss: 0.0125 - val_loss: 0.0163\n",
      "Epoch 61/300\n",
      "2/2 [==============================] - 0s 21ms/step - loss: 0.0125 - val_loss: 0.0163\n",
      "Epoch 62/300\n",
      "2/2 [==============================] - 0s 20ms/step - loss: 0.0125 - val_loss: 0.0163\n",
      "Epoch 63/300\n",
      "2/2 [==============================] - 0s 20ms/step - loss: 0.0125 - val_loss: 0.0163\n",
      "Epoch 64/300\n",
      "2/2 [==============================] - 0s 22ms/step - loss: 0.0124 - val_loss: 0.0163\n",
      "Epoch 65/300\n",
      "2/2 [==============================] - 0s 24ms/step - loss: 0.0124 - val_loss: 0.0163\n",
      "Epoch 66/300\n",
      "2/2 [==============================] - 0s 20ms/step - loss: 0.0124 - val_loss: 0.0163\n",
      "Epoch 67/300\n",
      "2/2 [==============================] - 0s 20ms/step - loss: 0.0124 - val_loss: 0.0163\n",
      "Epoch 68/300\n",
      "2/2 [==============================] - 0s 20ms/step - loss: 0.0124 - val_loss: 0.0163\n",
      "Epoch 69/300\n",
      "2/2 [==============================] - 0s 20ms/step - loss: 0.0124 - val_loss: 0.0163\n",
      "Epoch 70/300\n",
      "2/2 [==============================] - 0s 20ms/step - loss: 0.0124 - val_loss: 0.0163\n",
      "Epoch 71/300\n",
      "2/2 [==============================] - 0s 20ms/step - loss: 0.0124 - val_loss: 0.0163\n",
      "Epoch 72/300\n",
      "2/2 [==============================] - 0s 23ms/step - loss: 0.0124 - val_loss: 0.0164\n",
      "Epoch 73/300\n",
      "2/2 [==============================] - 0s 24ms/step - loss: 0.0124 - val_loss: 0.0164\n",
      "Epoch 74/300\n",
      "2/2 [==============================] - 0s 22ms/step - loss: 0.0123 - val_loss: 0.0164\n",
      "Epoch 75/300\n",
      "2/2 [==============================] - 0s 30ms/step - loss: 0.0123 - val_loss: 0.0164\n",
      "Epoch 76/300\n",
      "2/2 [==============================] - 0s 21ms/step - loss: 0.0123 - val_loss: 0.0164\n",
      "Epoch 77/300\n",
      "2/2 [==============================] - 0s 24ms/step - loss: 0.0123 - val_loss: 0.0164\n",
      "Epoch 78/300\n",
      "2/2 [==============================] - 0s 19ms/step - loss: 0.0123 - val_loss: 0.0164\n",
      "Epoch 79/300\n",
      "2/2 [==============================] - 0s 20ms/step - loss: 0.0123 - val_loss: 0.0164\n",
      "Epoch 80/300\n",
      "2/2 [==============================] - 0s 26ms/step - loss: 0.0123 - val_loss: 0.0164\n",
      "Epoch 81/300\n",
      "2/2 [==============================] - 0s 24ms/step - loss: 0.0123 - val_loss: 0.0164\n",
      "Epoch 82/300\n",
      "2/2 [==============================] - 0s 20ms/step - loss: 0.0123 - val_loss: 0.0164\n",
      "Epoch 83/300\n",
      "2/2 [==============================] - 0s 22ms/step - loss: 0.0122 - val_loss: 0.0164\n",
      "Epoch 84/300\n",
      "2/2 [==============================] - 0s 19ms/step - loss: 0.0122 - val_loss: 0.0164\n",
      "Epoch 85/300\n",
      "2/2 [==============================] - 0s 17ms/step - loss: 0.0122 - val_loss: 0.0164\n",
      "Epoch 86/300\n",
      "2/2 [==============================] - 0s 20ms/step - loss: 0.0122 - val_loss: 0.0164\n",
      "Epoch 87/300\n",
      "2/2 [==============================] - 0s 17ms/step - loss: 0.0122 - val_loss: 0.0164\n",
      "Epoch 88/300\n",
      "2/2 [==============================] - 0s 18ms/step - loss: 0.0122 - val_loss: 0.0164\n",
      "Epoch 89/300\n",
      "2/2 [==============================] - 0s 21ms/step - loss: 0.0122 - val_loss: 0.0164\n",
      "Epoch 90/300\n",
      "2/2 [==============================] - 0s 19ms/step - loss: 0.0122 - val_loss: 0.0164\n",
      "Epoch 91/300\n",
      "2/2 [==============================] - 0s 25ms/step - loss: 0.0122 - val_loss: 0.0164\n",
      "Epoch 92/300\n",
      "2/2 [==============================] - 0s 21ms/step - loss: 0.0121 - val_loss: 0.0164\n",
      "Epoch 93/300\n",
      "2/2 [==============================] - 0s 28ms/step - loss: 0.0121 - val_loss: 0.0164\n",
      "Epoch 94/300\n",
      "2/2 [==============================] - 0s 19ms/step - loss: 0.0121 - val_loss: 0.0164\n",
      "Epoch 95/300\n",
      "2/2 [==============================] - 0s 22ms/step - loss: 0.0121 - val_loss: 0.0164\n",
      "Epoch 96/300\n",
      "2/2 [==============================] - 0s 18ms/step - loss: 0.0121 - val_loss: 0.0164\n",
      "Epoch 97/300\n",
      "2/2 [==============================] - 0s 22ms/step - loss: 0.0121 - val_loss: 0.0164\n",
      "Epoch 98/300\n",
      "2/2 [==============================] - 0s 25ms/step - loss: 0.0121 - val_loss: 0.0164\n",
      "Epoch 99/300\n",
      "2/2 [==============================] - 0s 19ms/step - loss: 0.0121 - val_loss: 0.0164\n",
      "Epoch 100/300\n",
      "2/2 [==============================] - 0s 20ms/step - loss: 0.0121 - val_loss: 0.0164\n",
      "Epoch 101/300\n",
      "2/2 [==============================] - 0s 19ms/step - loss: 0.0120 - val_loss: 0.0164\n",
      "Epoch 102/300\n",
      "2/2 [==============================] - 0s 20ms/step - loss: 0.0120 - val_loss: 0.0164\n",
      "Epoch 103/300\n",
      "2/2 [==============================] - 0s 24ms/step - loss: 0.0120 - val_loss: 0.0164\n",
      "Epoch 104/300\n",
      "2/2 [==============================] - 0s 24ms/step - loss: 0.0120 - val_loss: 0.0164\n",
      "Epoch 105/300\n",
      "2/2 [==============================] - 0s 19ms/step - loss: 0.0120 - val_loss: 0.0164\n",
      "Epoch 106/300\n",
      "2/2 [==============================] - 0s 25ms/step - loss: 0.0120 - val_loss: 0.0164\n",
      "Epoch 107/300\n",
      "2/2 [==============================] - 0s 16ms/step - loss: 0.0120 - val_loss: 0.0164\n",
      "Epoch 108/300\n",
      "2/2 [==============================] - 0s 29ms/step - loss: 0.0120 - val_loss: 0.0164\n",
      "Epoch 109/300\n",
      "2/2 [==============================] - 0s 20ms/step - loss: 0.0120 - val_loss: 0.0164\n",
      "Epoch 110/300\n",
      "2/2 [==============================] - 0s 24ms/step - loss: 0.0120 - val_loss: 0.0164\n",
      "Epoch 111/300\n",
      "2/2 [==============================] - 0s 20ms/step - loss: 0.0119 - val_loss: 0.0164\n",
      "Epoch 112/300\n",
      "2/2 [==============================] - 0s 16ms/step - loss: 0.0119 - val_loss: 0.0164\n",
      "Epoch 113/300\n",
      "2/2 [==============================] - 0s 21ms/step - loss: 0.0119 - val_loss: 0.0164\n",
      "Epoch 114/300\n",
      "2/2 [==============================] - 0s 18ms/step - loss: 0.0119 - val_loss: 0.0164\n",
      "Epoch 115/300\n",
      "2/2 [==============================] - 0s 24ms/step - loss: 0.0119 - val_loss: 0.0164\n",
      "Epoch 116/300\n",
      "2/2 [==============================] - 0s 20ms/step - loss: 0.0119 - val_loss: 0.0164\n",
      "Epoch 117/300\n",
      "2/2 [==============================] - 0s 20ms/step - loss: 0.0119 - val_loss: 0.0164\n",
      "Epoch 118/300\n",
      "2/2 [==============================] - 0s 20ms/step - loss: 0.0119 - val_loss: 0.0164\n",
      "Epoch 119/300\n",
      "2/2 [==============================] - 0s 20ms/step - loss: 0.0119 - val_loss: 0.0164\n",
      "Epoch 120/300\n",
      "2/2 [==============================] - 0s 14ms/step - loss: 0.0118 - val_loss: 0.0164\n",
      "Epoch 121/300\n",
      "2/2 [==============================] - 0s 21ms/step - loss: 0.0118 - val_loss: 0.0164\n",
      "Epoch 122/300\n",
      "2/2 [==============================] - 0s 11ms/step - loss: 0.0118 - val_loss: 0.0164\n",
      "Epoch 123/300\n",
      "2/2 [==============================] - 0s 25ms/step - loss: 0.0118 - val_loss: 0.0164\n",
      "Epoch 124/300\n",
      "2/2 [==============================] - 0s 13ms/step - loss: 0.0118 - val_loss: 0.0164\n",
      "Epoch 125/300\n",
      "2/2 [==============================] - 0s 24ms/step - loss: 0.0118 - val_loss: 0.0164\n",
      "Epoch 126/300\n",
      "2/2 [==============================] - 0s 19ms/step - loss: 0.0118 - val_loss: 0.0164\n",
      "Epoch 127/300\n",
      "2/2 [==============================] - 0s 27ms/step - loss: 0.0118 - val_loss: 0.0165\n",
      "Epoch 128/300\n",
      "2/2 [==============================] - 0s 20ms/step - loss: 0.0118 - val_loss: 0.0165\n",
      "Epoch 129/300\n",
      "2/2 [==============================] - 0s 18ms/step - loss: 0.0117 - val_loss: 0.0165\n",
      "Epoch 130/300\n",
      "2/2 [==============================] - 0s 19ms/step - loss: 0.0117 - val_loss: 0.0165\n",
      "Epoch 131/300\n",
      "2/2 [==============================] - 0s 20ms/step - loss: 0.0117 - val_loss: 0.0165\n",
      "Epoch 132/300\n",
      "2/2 [==============================] - 0s 20ms/step - loss: 0.0117 - val_loss: 0.0165\n",
      "Epoch 133/300\n",
      "2/2 [==============================] - 0s 22ms/step - loss: 0.0117 - val_loss: 0.0165\n",
      "Epoch 134/300\n",
      "2/2 [==============================] - 0s 24ms/step - loss: 0.0117 - val_loss: 0.0165\n",
      "Epoch 135/300\n",
      "2/2 [==============================] - 0s 26ms/step - loss: 0.0117 - val_loss: 0.0165\n",
      "Epoch 136/300\n",
      "2/2 [==============================] - 0s 20ms/step - loss: 0.0117 - val_loss: 0.0165\n",
      "Epoch 137/300\n",
      "2/2 [==============================] - 0s 20ms/step - loss: 0.0117 - val_loss: 0.0165\n",
      "Epoch 138/300\n",
      "2/2 [==============================] - 0s 20ms/step - loss: 0.0117 - val_loss: 0.0165\n",
      "Epoch 139/300\n",
      "2/2 [==============================] - 0s 20ms/step - loss: 0.0116 - val_loss: 0.0165\n",
      "Epoch 140/300\n",
      "2/2 [==============================] - 0s 20ms/step - loss: 0.0116 - val_loss: 0.0165\n",
      "Epoch 141/300\n",
      "2/2 [==============================] - 0s 20ms/step - loss: 0.0116 - val_loss: 0.0165\n",
      "Epoch 142/300\n",
      "2/2 [==============================] - 0s 16ms/step - loss: 0.0116 - val_loss: 0.0165\n",
      "Epoch 143/300\n",
      "2/2 [==============================] - 0s 16ms/step - loss: 0.0116 - val_loss: 0.0165\n",
      "Epoch 144/300\n",
      "2/2 [==============================] - 0s 20ms/step - loss: 0.0116 - val_loss: 0.0165\n",
      "Epoch 145/300\n",
      "2/2 [==============================] - 0s 20ms/step - loss: 0.0116 - val_loss: 0.0165\n",
      "Epoch 146/300\n",
      "2/2 [==============================] - 0s 22ms/step - loss: 0.0116 - val_loss: 0.0165\n",
      "Epoch 147/300\n",
      "2/2 [==============================] - 0s 21ms/step - loss: 0.0116 - val_loss: 0.0165\n",
      "Epoch 148/300\n",
      "2/2 [==============================] - 0s 20ms/step - loss: 0.0115 - val_loss: 0.0165\n",
      "Epoch 149/300\n",
      "2/2 [==============================] - 0s 20ms/step - loss: 0.0115 - val_loss: 0.0165\n",
      "Epoch 150/300\n",
      "2/2 [==============================] - 0s 20ms/step - loss: 0.0115 - val_loss: 0.0165\n",
      "Epoch 151/300\n",
      "2/2 [==============================] - 0s 22ms/step - loss: 0.0115 - val_loss: 0.0165\n",
      "Epoch 152/300\n",
      "2/2 [==============================] - 0s 20ms/step - loss: 0.0115 - val_loss: 0.0165\n",
      "Epoch 153/300\n",
      "2/2 [==============================] - 0s 20ms/step - loss: 0.0115 - val_loss: 0.0165\n",
      "Epoch 154/300\n",
      "2/2 [==============================] - 0s 20ms/step - loss: 0.0115 - val_loss: 0.0165\n",
      "Epoch 155/300\n",
      "2/2 [==============================] - 0s 20ms/step - loss: 0.0115 - val_loss: 0.0165\n",
      "Epoch 156/300\n",
      "2/2 [==============================] - 0s 24ms/step - loss: 0.0115 - val_loss: 0.0165\n",
      "Epoch 157/300\n",
      "2/2 [==============================] - 0s 20ms/step - loss: 0.0115 - val_loss: 0.0165\n",
      "Epoch 158/300\n",
      "2/2 [==============================] - 0s 20ms/step - loss: 0.0114 - val_loss: 0.0165\n",
      "Epoch 159/300\n",
      "2/2 [==============================] - 0s 24ms/step - loss: 0.0114 - val_loss: 0.0165\n",
      "Epoch 160/300\n",
      "2/2 [==============================] - 0s 20ms/step - loss: 0.0114 - val_loss: 0.0165\n",
      "Epoch 161/300\n",
      "2/2 [==============================] - 0s 20ms/step - loss: 0.0114 - val_loss: 0.0165\n",
      "Epoch 162/300\n",
      "2/2 [==============================] - 0s 20ms/step - loss: 0.0114 - val_loss: 0.0165\n",
      "Epoch 163/300\n",
      "2/2 [==============================] - 0s 24ms/step - loss: 0.0114 - val_loss: 0.0165\n",
      "Epoch 164/300\n",
      "2/2 [==============================] - 0s 20ms/step - loss: 0.0114 - val_loss: 0.0165\n",
      "Epoch 165/300\n",
      "2/2 [==============================] - 0s 20ms/step - loss: 0.0114 - val_loss: 0.0165\n",
      "Epoch 166/300\n",
      "2/2 [==============================] - 0s 20ms/step - loss: 0.0114 - val_loss: 0.0165\n",
      "Epoch 167/300\n",
      "2/2 [==============================] - 0s 20ms/step - loss: 0.0113 - val_loss: 0.0165\n",
      "Epoch 168/300\n",
      "2/2 [==============================] - 0s 20ms/step - loss: 0.0113 - val_loss: 0.0165\n",
      "Epoch 169/300\n",
      "2/2 [==============================] - 0s 20ms/step - loss: 0.0113 - val_loss: 0.0165\n",
      "Epoch 170/300\n",
      "2/2 [==============================] - 0s 20ms/step - loss: 0.0113 - val_loss: 0.0165\n",
      "Epoch 171/300\n",
      "2/2 [==============================] - 0s 24ms/step - loss: 0.0113 - val_loss: 0.0165\n",
      "Epoch 172/300\n",
      "2/2 [==============================] - 0s 20ms/step - loss: 0.0113 - val_loss: 0.0165\n",
      "Epoch 173/300\n",
      "2/2 [==============================] - 0s 20ms/step - loss: 0.0113 - val_loss: 0.0165\n",
      "Epoch 174/300\n",
      "2/2 [==============================] - 0s 20ms/step - loss: 0.0113 - val_loss: 0.0165\n",
      "Epoch 175/300\n",
      "2/2 [==============================] - 0s 20ms/step - loss: 0.0113 - val_loss: 0.0165\n",
      "Epoch 176/300\n",
      "2/2 [==============================] - 0s 18ms/step - loss: 0.0113 - val_loss: 0.0165\n",
      "Epoch 177/300\n",
      "2/2 [==============================] - 0s 20ms/step - loss: 0.0112 - val_loss: 0.0165\n",
      "Epoch 178/300\n",
      "2/2 [==============================] - 0s 18ms/step - loss: 0.0112 - val_loss: 0.0165\n",
      "Epoch 179/300\n",
      "2/2 [==============================] - 0s 20ms/step - loss: 0.0112 - val_loss: 0.0165\n",
      "Epoch 180/300\n",
      "2/2 [==============================] - 0s 20ms/step - loss: 0.0112 - val_loss: 0.0165\n",
      "Epoch 181/300\n",
      "2/2 [==============================] - 0s 20ms/step - loss: 0.0112 - val_loss: 0.0165\n",
      "Epoch 182/300\n",
      "2/2 [==============================] - 0s 20ms/step - loss: 0.0112 - val_loss: 0.0165\n",
      "Epoch 183/300\n",
      "2/2 [==============================] - 0s 20ms/step - loss: 0.0112 - val_loss: 0.0165\n",
      "Epoch 184/300\n",
      "2/2 [==============================] - 0s 20ms/step - loss: 0.0112 - val_loss: 0.0166\n",
      "Epoch 185/300\n",
      "2/2 [==============================] - 0s 20ms/step - loss: 0.0112 - val_loss: 0.0166\n",
      "Epoch 186/300\n",
      "2/2 [==============================] - 0s 20ms/step - loss: 0.0111 - val_loss: 0.0166\n",
      "Epoch 187/300\n",
      "2/2 [==============================] - 0s 20ms/step - loss: 0.0111 - val_loss: 0.0166\n",
      "Epoch 188/300\n",
      "2/2 [==============================] - 0s 24ms/step - loss: 0.0111 - val_loss: 0.0166\n",
      "Epoch 189/300\n",
      "2/2 [==============================] - 0s 20ms/step - loss: 0.0111 - val_loss: 0.0166\n",
      "Epoch 190/300\n",
      "2/2 [==============================] - 0s 20ms/step - loss: 0.0111 - val_loss: 0.0166\n",
      "Epoch 191/300\n",
      "2/2 [==============================] - 0s 20ms/step - loss: 0.0111 - val_loss: 0.0166\n",
      "Epoch 192/300\n",
      "2/2 [==============================] - 0s 20ms/step - loss: 0.0111 - val_loss: 0.0166\n",
      "Epoch 193/300\n",
      "2/2 [==============================] - 0s 20ms/step - loss: 0.0111 - val_loss: 0.0166\n",
      "Epoch 194/300\n",
      "2/2 [==============================] - 0s 20ms/step - loss: 0.0111 - val_loss: 0.0166\n",
      "Epoch 195/300\n",
      "2/2 [==============================] - 0s 20ms/step - loss: 0.0111 - val_loss: 0.0166\n",
      "Epoch 196/300\n",
      "2/2 [==============================] - 0s 24ms/step - loss: 0.0110 - val_loss: 0.0166\n",
      "Epoch 197/300\n",
      "2/2 [==============================] - 0s 16ms/step - loss: 0.0110 - val_loss: 0.0166\n",
      "Epoch 198/300\n",
      "2/2 [==============================] - 0s 20ms/step - loss: 0.0110 - val_loss: 0.0166\n",
      "Epoch 199/300\n",
      "2/2 [==============================] - 0s 19ms/step - loss: 0.0110 - val_loss: 0.0166\n",
      "Epoch 200/300\n",
      "2/2 [==============================] - 0s 20ms/step - loss: 0.0110 - val_loss: 0.0166\n",
      "Epoch 201/300\n",
      "2/2 [==============================] - 0s 22ms/step - loss: 0.0110 - val_loss: 0.0166\n",
      "Epoch 202/300\n",
      "2/2 [==============================] - 0s 20ms/step - loss: 0.0110 - val_loss: 0.0166\n",
      "Epoch 203/300\n",
      "2/2 [==============================] - 0s 16ms/step - loss: 0.0110 - val_loss: 0.0166\n",
      "Epoch 204/300\n",
      "2/2 [==============================] - 0s 20ms/step - loss: 0.0110 - val_loss: 0.0166\n",
      "Epoch 205/300\n",
      "2/2 [==============================] - 0s 20ms/step - loss: 0.0110 - val_loss: 0.0166\n",
      "Epoch 206/300\n",
      "2/2 [==============================] - 0s 20ms/step - loss: 0.0109 - val_loss: 0.0166\n",
      "Epoch 207/300\n",
      "2/2 [==============================] - 0s 20ms/step - loss: 0.0109 - val_loss: 0.0166\n",
      "Epoch 208/300\n",
      "2/2 [==============================] - 0s 20ms/step - loss: 0.0109 - val_loss: 0.0166\n",
      "Epoch 209/300\n",
      "2/2 [==============================] - 0s 20ms/step - loss: 0.0109 - val_loss: 0.0166\n",
      "Epoch 210/300\n",
      "2/2 [==============================] - 0s 20ms/step - loss: 0.0109 - val_loss: 0.0166\n",
      "Epoch 211/300\n",
      "2/2 [==============================] - 0s 20ms/step - loss: 0.0109 - val_loss: 0.0166\n",
      "Epoch 212/300\n",
      "2/2 [==============================] - 0s 20ms/step - loss: 0.0109 - val_loss: 0.0166\n",
      "Epoch 213/300\n",
      "2/2 [==============================] - 0s 21ms/step - loss: 0.0109 - val_loss: 0.0166\n",
      "Epoch 214/300\n",
      "2/2 [==============================] - 0s 20ms/step - loss: 0.0109 - val_loss: 0.0166\n",
      "Epoch 215/300\n",
      "2/2 [==============================] - 0s 20ms/step - loss: 0.0109 - val_loss: 0.0166\n",
      "Epoch 216/300\n",
      "2/2 [==============================] - 0s 19ms/step - loss: 0.0108 - val_loss: 0.0166\n",
      "Epoch 217/300\n",
      "2/2 [==============================] - 0s 20ms/step - loss: 0.0108 - val_loss: 0.0166\n",
      "Epoch 218/300\n",
      "2/2 [==============================] - 0s 20ms/step - loss: 0.0108 - val_loss: 0.0166\n",
      "Epoch 219/300\n",
      "2/2 [==============================] - 0s 20ms/step - loss: 0.0108 - val_loss: 0.0166\n",
      "Epoch 220/300\n",
      "2/2 [==============================] - 0s 20ms/step - loss: 0.0108 - val_loss: 0.0166\n",
      "Epoch 221/300\n",
      "2/2 [==============================] - 0s 20ms/step - loss: 0.0108 - val_loss: 0.0166\n",
      "Epoch 222/300\n",
      "2/2 [==============================] - 0s 16ms/step - loss: 0.0108 - val_loss: 0.0166\n",
      "Epoch 223/300\n",
      "2/2 [==============================] - 0s 16ms/step - loss: 0.0108 - val_loss: 0.0166\n",
      "Epoch 224/300\n",
      "2/2 [==============================] - 0s 18ms/step - loss: 0.0108 - val_loss: 0.0166\n",
      "Epoch 225/300\n",
      "2/2 [==============================] - 0s 20ms/step - loss: 0.0108 - val_loss: 0.0166\n",
      "Epoch 226/300\n",
      "2/2 [==============================] - 0s 20ms/step - loss: 0.0108 - val_loss: 0.0167\n",
      "Epoch 227/300\n",
      "2/2 [==============================] - 0s 18ms/step - loss: 0.0107 - val_loss: 0.0167\n",
      "Epoch 228/300\n",
      "2/2 [==============================] - 0s 28ms/step - loss: 0.0107 - val_loss: 0.0167\n",
      "Epoch 229/300\n",
      "2/2 [==============================] - 0s 20ms/step - loss: 0.0107 - val_loss: 0.0167\n",
      "Epoch 230/300\n",
      "2/2 [==============================] - 0s 16ms/step - loss: 0.0107 - val_loss: 0.0167\n",
      "Epoch 231/300\n",
      "2/2 [==============================] - 0s 24ms/step - loss: 0.0107 - val_loss: 0.0167\n",
      "Epoch 232/300\n",
      "2/2 [==============================] - 0s 20ms/step - loss: 0.0107 - val_loss: 0.0167\n",
      "Epoch 233/300\n",
      "2/2 [==============================] - 0s 20ms/step - loss: 0.0107 - val_loss: 0.0167\n",
      "Epoch 234/300\n",
      "2/2 [==============================] - 0s 16ms/step - loss: 0.0107 - val_loss: 0.0167\n",
      "Epoch 235/300\n",
      "2/2 [==============================] - 0s 20ms/step - loss: 0.0107 - val_loss: 0.0167\n",
      "Epoch 236/300\n",
      "2/2 [==============================] - 0s 20ms/step - loss: 0.0107 - val_loss: 0.0167\n",
      "Epoch 237/300\n",
      "2/2 [==============================] - 0s 20ms/step - loss: 0.0107 - val_loss: 0.0167\n",
      "Epoch 238/300\n",
      "2/2 [==============================] - 0s 20ms/step - loss: 0.0106 - val_loss: 0.0167\n",
      "Epoch 239/300\n",
      "2/2 [==============================] - 0s 20ms/step - loss: 0.0106 - val_loss: 0.0167\n",
      "Epoch 240/300\n",
      "2/2 [==============================] - 0s 20ms/step - loss: 0.0106 - val_loss: 0.0167\n",
      "Epoch 241/300\n",
      "2/2 [==============================] - 0s 20ms/step - loss: 0.0106 - val_loss: 0.0167\n",
      "Epoch 242/300\n",
      "2/2 [==============================] - 0s 28ms/step - loss: 0.0106 - val_loss: 0.0167\n",
      "Epoch 243/300\n",
      "2/2 [==============================] - 0s 20ms/step - loss: 0.0106 - val_loss: 0.0167\n",
      "Epoch 244/300\n",
      "2/2 [==============================] - 0s 20ms/step - loss: 0.0106 - val_loss: 0.0167\n",
      "Epoch 245/300\n",
      "2/2 [==============================] - 0s 20ms/step - loss: 0.0106 - val_loss: 0.0167\n",
      "Epoch 246/300\n",
      "2/2 [==============================] - 0s 20ms/step - loss: 0.0106 - val_loss: 0.0167\n",
      "Epoch 247/300\n",
      "2/2 [==============================] - 0s 20ms/step - loss: 0.0106 - val_loss: 0.0167\n",
      "Epoch 248/300\n",
      "2/2 [==============================] - 0s 20ms/step - loss: 0.0106 - val_loss: 0.0167\n",
      "Epoch 249/300\n",
      "2/2 [==============================] - 0s 20ms/step - loss: 0.0105 - val_loss: 0.0167\n",
      "Epoch 250/300\n",
      "2/2 [==============================] - 0s 20ms/step - loss: 0.0105 - val_loss: 0.0167\n",
      "Epoch 251/300\n",
      "2/2 [==============================] - 0s 25ms/step - loss: 0.0105 - val_loss: 0.0167\n",
      "Epoch 252/300\n",
      "2/2 [==============================] - 0s 19ms/step - loss: 0.0105 - val_loss: 0.0167\n",
      "Epoch 253/300\n",
      "2/2 [==============================] - 0s 20ms/step - loss: 0.0105 - val_loss: 0.0167\n",
      "Epoch 254/300\n",
      "2/2 [==============================] - 0s 20ms/step - loss: 0.0105 - val_loss: 0.0167\n",
      "Epoch 255/300\n",
      "2/2 [==============================] - 0s 19ms/step - loss: 0.0105 - val_loss: 0.0167\n",
      "Epoch 256/300\n",
      "2/2 [==============================] - 0s 20ms/step - loss: 0.0105 - val_loss: 0.0167\n",
      "Epoch 257/300\n",
      "2/2 [==============================] - 0s 20ms/step - loss: 0.0105 - val_loss: 0.0167\n",
      "Epoch 258/300\n",
      "2/2 [==============================] - 0s 20ms/step - loss: 0.0105 - val_loss: 0.0167\n",
      "Epoch 259/300\n",
      "2/2 [==============================] - 0s 20ms/step - loss: 0.0105 - val_loss: 0.0167\n",
      "Epoch 260/300\n",
      "2/2 [==============================] - 0s 20ms/step - loss: 0.0105 - val_loss: 0.0167\n",
      "Epoch 261/300\n",
      "2/2 [==============================] - 0s 21ms/step - loss: 0.0104 - val_loss: 0.0167\n",
      "Epoch 262/300\n",
      "2/2 [==============================] - 0s 23ms/step - loss: 0.0104 - val_loss: 0.0167\n",
      "Epoch 263/300\n",
      "2/2 [==============================] - 0s 20ms/step - loss: 0.0104 - val_loss: 0.0168\n",
      "Epoch 264/300\n",
      "2/2 [==============================] - 0s 24ms/step - loss: 0.0104 - val_loss: 0.0168\n",
      "Epoch 265/300\n",
      "2/2 [==============================] - 0s 20ms/step - loss: 0.0104 - val_loss: 0.0168\n",
      "Epoch 266/300\n",
      "2/2 [==============================] - 0s 20ms/step - loss: 0.0104 - val_loss: 0.0168\n",
      "Epoch 267/300\n",
      "2/2 [==============================] - 0s 20ms/step - loss: 0.0104 - val_loss: 0.0168\n",
      "Epoch 268/300\n",
      "2/2 [==============================] - 0s 20ms/step - loss: 0.0104 - val_loss: 0.0168\n",
      "Epoch 269/300\n",
      "2/2 [==============================] - 0s 24ms/step - loss: 0.0104 - val_loss: 0.0168\n",
      "Epoch 270/300\n",
      "2/2 [==============================] - 0s 19ms/step - loss: 0.0104 - val_loss: 0.0168\n",
      "Epoch 271/300\n",
      "2/2 [==============================] - 0s 20ms/step - loss: 0.0104 - val_loss: 0.0168\n",
      "Epoch 272/300\n",
      "2/2 [==============================] - 0s 16ms/step - loss: 0.0104 - val_loss: 0.0168\n",
      "Epoch 273/300\n",
      "2/2 [==============================] - 0s 20ms/step - loss: 0.0104 - val_loss: 0.0168\n",
      "Epoch 274/300\n",
      "2/2 [==============================] - 0s 20ms/step - loss: 0.0103 - val_loss: 0.0168\n",
      "Epoch 275/300\n",
      "2/2 [==============================] - 0s 20ms/step - loss: 0.0103 - val_loss: 0.0168\n",
      "Epoch 276/300\n",
      "2/2 [==============================] - 0s 20ms/step - loss: 0.0103 - val_loss: 0.0168\n",
      "Epoch 277/300\n",
      "2/2 [==============================] - 0s 16ms/step - loss: 0.0103 - val_loss: 0.0168\n",
      "Epoch 278/300\n",
      "2/2 [==============================] - 0s 20ms/step - loss: 0.0103 - val_loss: 0.0168\n",
      "Epoch 279/300\n",
      "2/2 [==============================] - 0s 20ms/step - loss: 0.0103 - val_loss: 0.0168\n",
      "Epoch 280/300\n",
      "2/2 [==============================] - 0s 20ms/step - loss: 0.0103 - val_loss: 0.0168\n",
      "Epoch 281/300\n",
      "2/2 [==============================] - 0s 20ms/step - loss: 0.0103 - val_loss: 0.0168\n",
      "Epoch 282/300\n",
      "2/2 [==============================] - 0s 20ms/step - loss: 0.0103 - val_loss: 0.0168\n",
      "Epoch 283/300\n",
      "2/2 [==============================] - 0s 20ms/step - loss: 0.0103 - val_loss: 0.0168\n",
      "Epoch 284/300\n",
      "2/2 [==============================] - 0s 20ms/step - loss: 0.0103 - val_loss: 0.0168\n",
      "Epoch 285/300\n",
      "2/2 [==============================] - 0s 24ms/step - loss: 0.0103 - val_loss: 0.0168\n",
      "Epoch 286/300\n",
      "2/2 [==============================] - 0s 20ms/step - loss: 0.0102 - val_loss: 0.0168\n",
      "Epoch 287/300\n",
      "2/2 [==============================] - 0s 20ms/step - loss: 0.0102 - val_loss: 0.0168\n",
      "Epoch 288/300\n",
      "2/2 [==============================] - 0s 20ms/step - loss: 0.0102 - val_loss: 0.0168\n",
      "Epoch 289/300\n",
      "2/2 [==============================] - 0s 20ms/step - loss: 0.0102 - val_loss: 0.0168\n",
      "Epoch 290/300\n",
      "2/2 [==============================] - 0s 20ms/step - loss: 0.0102 - val_loss: 0.0168\n",
      "Epoch 291/300\n",
      "2/2 [==============================] - 0s 24ms/step - loss: 0.0102 - val_loss: 0.0168\n",
      "Epoch 292/300\n",
      "2/2 [==============================] - 0s 20ms/step - loss: 0.0102 - val_loss: 0.0168\n",
      "Epoch 293/300\n",
      "2/2 [==============================] - 0s 20ms/step - loss: 0.0102 - val_loss: 0.0168\n",
      "Epoch 294/300\n",
      "2/2 [==============================] - 0s 20ms/step - loss: 0.0102 - val_loss: 0.0168\n",
      "Epoch 295/300\n",
      "2/2 [==============================] - 0s 20ms/step - loss: 0.0102 - val_loss: 0.0168\n",
      "Epoch 296/300\n",
      "2/2 [==============================] - 0s 20ms/step - loss: 0.0102 - val_loss: 0.0168\n",
      "Epoch 297/300\n",
      "2/2 [==============================] - 0s 20ms/step - loss: 0.0102 - val_loss: 0.0168\n",
      "Epoch 298/300\n",
      "2/2 [==============================] - 0s 20ms/step - loss: 0.0102 - val_loss: 0.0168\n",
      "Epoch 299/300\n",
      "2/2 [==============================] - 0s 20ms/step - loss: 0.0102 - val_loss: 0.0168\n",
      "Epoch 300/300\n",
      "2/2 [==============================] - 0s 20ms/step - loss: 0.0101 - val_loss: 0.0169\n",
      "Test Score: 54.067 RMSE\n",
      "Test Score: 2923.261 MSE\n",
      "Test Score: 40.194 MAE\n",
      "Test Score: 14.356 MAPE\n",
      "Epoch 1/300\n",
      "3/3 [==============================] - 0s 27ms/step - loss: 0.0117 - val_loss: 0.0228\n",
      "Epoch 2/300\n",
      "3/3 [==============================] - 0s 13ms/step - loss: 0.0117 - val_loss: 0.0226\n",
      "Epoch 3/300\n",
      "3/3 [==============================] - 0s 12ms/step - loss: 0.0117 - val_loss: 0.0220\n",
      "Epoch 4/300\n",
      "3/3 [==============================] - 0s 10ms/step - loss: 0.0119 - val_loss: 0.0214\n",
      "Epoch 5/300\n",
      "3/3 [==============================] - 0s 12ms/step - loss: 0.0120 - val_loss: 0.0216\n",
      "Epoch 6/300\n",
      "3/3 [==============================] - 0s 12ms/step - loss: 0.0119 - val_loss: 0.0211\n",
      "Epoch 7/300\n",
      "3/3 [==============================] - 0s 12ms/step - loss: 0.0118 - val_loss: 0.0211\n",
      "Epoch 8/300\n",
      "3/3 [==============================] - 0s 10ms/step - loss: 0.0117 - val_loss: 0.0210\n",
      "Epoch 9/300\n",
      "3/3 [==============================] - 0s 14ms/step - loss: 0.0117 - val_loss: 0.0207\n",
      "Epoch 10/300\n",
      "3/3 [==============================] - 0s 12ms/step - loss: 0.0117 - val_loss: 0.0208\n",
      "Epoch 11/300\n",
      "3/3 [==============================] - 0s 12ms/step - loss: 0.0118 - val_loss: 0.0206\n",
      "Epoch 12/300\n",
      "3/3 [==============================] - 0s 12ms/step - loss: 0.0119 - val_loss: 0.0206\n",
      "Epoch 13/300\n",
      "3/3 [==============================] - 0s 10ms/step - loss: 0.0119 - val_loss: 0.0207\n",
      "Epoch 14/300\n",
      "3/3 [==============================] - 0s 11ms/step - loss: 0.0119 - val_loss: 0.0207\n",
      "Epoch 15/300\n",
      "3/3 [==============================] - 0s 12ms/step - loss: 0.0119 - val_loss: 0.0208\n",
      "Epoch 16/300\n",
      "3/3 [==============================] - 0s 12ms/step - loss: 0.0119 - val_loss: 0.0208\n",
      "Epoch 17/300\n",
      "3/3 [==============================] - 0s 13ms/step - loss: 0.0119 - val_loss: 0.0208\n",
      "Epoch 18/300\n",
      "3/3 [==============================] - 0s 12ms/step - loss: 0.0119 - val_loss: 0.0208\n",
      "Epoch 19/300\n",
      "3/3 [==============================] - 0s 14ms/step - loss: 0.0119 - val_loss: 0.0208\n",
      "Epoch 20/300\n",
      "3/3 [==============================] - 0s 10ms/step - loss: 0.0118 - val_loss: 0.0208\n",
      "Epoch 21/300\n",
      "3/3 [==============================] - 0s 10ms/step - loss: 0.0118 - val_loss: 0.0208\n",
      "Epoch 22/300\n",
      "3/3 [==============================] - 0s 14ms/step - loss: 0.0118 - val_loss: 0.0208\n",
      "Epoch 23/300\n",
      "3/3 [==============================] - 0s 10ms/step - loss: 0.0118 - val_loss: 0.0209\n",
      "Epoch 24/300\n",
      "3/3 [==============================] - 0s 13ms/step - loss: 0.0118 - val_loss: 0.0209\n",
      "Epoch 25/300\n",
      "3/3 [==============================] - 0s 12ms/step - loss: 0.0117 - val_loss: 0.0209\n",
      "Epoch 26/300\n",
      "3/3 [==============================] - 0s 10ms/step - loss: 0.0117 - val_loss: 0.0210\n",
      "Epoch 27/300\n",
      "3/3 [==============================] - 0s 12ms/step - loss: 0.0117 - val_loss: 0.0210\n",
      "Epoch 28/300\n",
      "3/3 [==============================] - 0s 13ms/step - loss: 0.0117 - val_loss: 0.0210\n",
      "Epoch 29/300\n",
      "3/3 [==============================] - 0s 12ms/step - loss: 0.0117 - val_loss: 0.0210\n",
      "Epoch 30/300\n",
      "3/3 [==============================] - 0s 12ms/step - loss: 0.0117 - val_loss: 0.0210\n",
      "Epoch 31/300\n",
      "3/3 [==============================] - 0s 12ms/step - loss: 0.0117 - val_loss: 0.0211\n",
      "Epoch 32/300\n",
      "3/3 [==============================] - 0s 12ms/step - loss: 0.0117 - val_loss: 0.0211\n",
      "Epoch 33/300\n",
      "3/3 [==============================] - 0s 13ms/step - loss: 0.0116 - val_loss: 0.0211\n",
      "Epoch 34/300\n",
      "3/3 [==============================] - 0s 14ms/step - loss: 0.0116 - val_loss: 0.0212\n",
      "Epoch 35/300\n",
      "3/3 [==============================] - 0s 15ms/step - loss: 0.0116 - val_loss: 0.0212\n",
      "Epoch 36/300\n",
      "3/3 [==============================] - 0s 10ms/step - loss: 0.0116 - val_loss: 0.0212\n",
      "Epoch 37/300\n",
      "3/3 [==============================] - 0s 10ms/step - loss: 0.0116 - val_loss: 0.0212\n",
      "Epoch 38/300\n",
      "3/3 [==============================] - 0s 10ms/step - loss: 0.0116 - val_loss: 0.0212\n",
      "Epoch 39/300\n",
      "3/3 [==============================] - 0s 12ms/step - loss: 0.0116 - val_loss: 0.0213\n",
      "Epoch 40/300\n",
      "3/3 [==============================] - 0s 14ms/step - loss: 0.0116 - val_loss: 0.0213\n",
      "Epoch 41/300\n",
      "3/3 [==============================] - 0s 11ms/step - loss: 0.0116 - val_loss: 0.0213\n",
      "Epoch 42/300\n",
      "3/3 [==============================] - 0s 12ms/step - loss: 0.0116 - val_loss: 0.0213\n",
      "Epoch 43/300\n",
      "3/3 [==============================] - 0s 12ms/step - loss: 0.0116 - val_loss: 0.0213\n",
      "Epoch 44/300\n",
      "3/3 [==============================] - 0s 13ms/step - loss: 0.0115 - val_loss: 0.0214\n",
      "Epoch 45/300\n",
      "3/3 [==============================] - 0s 9ms/step - loss: 0.0115 - val_loss: 0.0214\n",
      "Epoch 46/300\n",
      "3/3 [==============================] - 0s 11ms/step - loss: 0.0115 - val_loss: 0.0214\n",
      "Epoch 47/300\n",
      "3/3 [==============================] - 0s 12ms/step - loss: 0.0115 - val_loss: 0.0214\n",
      "Epoch 48/300\n",
      "3/3 [==============================] - 0s 12ms/step - loss: 0.0115 - val_loss: 0.0214\n",
      "Epoch 49/300\n",
      "3/3 [==============================] - 0s 13ms/step - loss: 0.0115 - val_loss: 0.0215\n",
      "Epoch 50/300\n",
      "3/3 [==============================] - 0s 12ms/step - loss: 0.0115 - val_loss: 0.0215\n",
      "Epoch 51/300\n",
      "3/3 [==============================] - 0s 11ms/step - loss: 0.0115 - val_loss: 0.0215\n",
      "Epoch 52/300\n",
      "3/3 [==============================] - 0s 13ms/step - loss: 0.0115 - val_loss: 0.0215\n",
      "Epoch 53/300\n",
      "3/3 [==============================] - 0s 11ms/step - loss: 0.0115 - val_loss: 0.0215\n",
      "Epoch 54/300\n",
      "3/3 [==============================] - 0s 9ms/step - loss: 0.0115 - val_loss: 0.0215\n",
      "Epoch 55/300\n",
      "3/3 [==============================] - 0s 13ms/step - loss: 0.0115 - val_loss: 0.0216\n",
      "Epoch 56/300\n",
      "3/3 [==============================] - 0s 11ms/step - loss: 0.0114 - val_loss: 0.0216\n",
      "Epoch 57/300\n",
      "3/3 [==============================] - 0s 10ms/step - loss: 0.0114 - val_loss: 0.0216\n",
      "Epoch 58/300\n",
      "3/3 [==============================] - 0s 9ms/step - loss: 0.0114 - val_loss: 0.0216\n",
      "Epoch 59/300\n",
      "3/3 [==============================] - 0s 12ms/step - loss: 0.0114 - val_loss: 0.0216\n",
      "Epoch 60/300\n",
      "3/3 [==============================] - 0s 12ms/step - loss: 0.0114 - val_loss: 0.0217\n",
      "Epoch 61/300\n",
      "3/3 [==============================] - 0s 10ms/step - loss: 0.0114 - val_loss: 0.0217\n",
      "Epoch 62/300\n",
      "3/3 [==============================] - 0s 15ms/step - loss: 0.0114 - val_loss: 0.0217\n",
      "Epoch 63/300\n",
      "3/3 [==============================] - 0s 9ms/step - loss: 0.0114 - val_loss: 0.0217\n",
      "Epoch 64/300\n",
      "3/3 [==============================] - 0s 12ms/step - loss: 0.0114 - val_loss: 0.0217\n",
      "Epoch 65/300\n",
      "3/3 [==============================] - 0s 12ms/step - loss: 0.0114 - val_loss: 0.0217\n",
      "Epoch 66/300\n",
      "3/3 [==============================] - 0s 12ms/step - loss: 0.0114 - val_loss: 0.0218\n",
      "Epoch 67/300\n",
      "3/3 [==============================] - 0s 11ms/step - loss: 0.0113 - val_loss: 0.0218\n",
      "Epoch 68/300\n",
      "3/3 [==============================] - 0s 11ms/step - loss: 0.0113 - val_loss: 0.0218\n",
      "Epoch 69/300\n",
      "3/3 [==============================] - 0s 10ms/step - loss: 0.0113 - val_loss: 0.0218\n",
      "Epoch 70/300\n",
      "3/3 [==============================] - 0s 12ms/step - loss: 0.0113 - val_loss: 0.0218\n",
      "Epoch 71/300\n",
      "3/3 [==============================] - 0s 16ms/step - loss: 0.0113 - val_loss: 0.0218\n",
      "Epoch 72/300\n",
      "3/3 [==============================] - 0s 11ms/step - loss: 0.0113 - val_loss: 0.0219\n",
      "Epoch 73/300\n",
      "3/3 [==============================] - 0s 12ms/step - loss: 0.0113 - val_loss: 0.0219\n",
      "Epoch 74/300\n",
      "3/3 [==============================] - 0s 10ms/step - loss: 0.0113 - val_loss: 0.0219\n",
      "Epoch 75/300\n",
      "3/3 [==============================] - 0s 10ms/step - loss: 0.0113 - val_loss: 0.0219\n",
      "Epoch 76/300\n",
      "3/3 [==============================] - 0s 17ms/step - loss: 0.0113 - val_loss: 0.0219\n",
      "Epoch 77/300\n",
      "3/3 [==============================] - 0s 10ms/step - loss: 0.0113 - val_loss: 0.0219\n",
      "Epoch 78/300\n",
      "3/3 [==============================] - 0s 10ms/step - loss: 0.0113 - val_loss: 0.0220\n",
      "Epoch 79/300\n",
      "3/3 [==============================] - 0s 10ms/step - loss: 0.0112 - val_loss: 0.0220\n",
      "Epoch 80/300\n",
      "3/3 [==============================] - 0s 12ms/step - loss: 0.0112 - val_loss: 0.0220\n",
      "Epoch 81/300\n",
      "3/3 [==============================] - 0s 12ms/step - loss: 0.0112 - val_loss: 0.0220\n",
      "Epoch 82/300\n",
      "3/3 [==============================] - 0s 12ms/step - loss: 0.0112 - val_loss: 0.0220\n",
      "Epoch 83/300\n",
      "3/3 [==============================] - 0s 8ms/step - loss: 0.0112 - val_loss: 0.0220\n",
      "Epoch 84/300\n",
      "3/3 [==============================] - 0s 12ms/step - loss: 0.0112 - val_loss: 0.0221\n",
      "Epoch 85/300\n",
      "3/3 [==============================] - 0s 8ms/step - loss: 0.0112 - val_loss: 0.0221\n",
      "Epoch 86/300\n",
      "3/3 [==============================] - 0s 11ms/step - loss: 0.0112 - val_loss: 0.0221\n",
      "Epoch 87/300\n",
      "3/3 [==============================] - 0s 12ms/step - loss: 0.0112 - val_loss: 0.0221\n",
      "Epoch 88/300\n",
      "3/3 [==============================] - 0s 16ms/step - loss: 0.0112 - val_loss: 0.0221\n",
      "Epoch 89/300\n",
      "3/3 [==============================] - 0s 10ms/step - loss: 0.0112 - val_loss: 0.0221\n",
      "Epoch 90/300\n",
      "3/3 [==============================] - 0s 12ms/step - loss: 0.0112 - val_loss: 0.0222\n",
      "Epoch 91/300\n",
      "3/3 [==============================] - 0s 14ms/step - loss: 0.0111 - val_loss: 0.0222\n",
      "Epoch 92/300\n",
      "3/3 [==============================] - 0s 10ms/step - loss: 0.0111 - val_loss: 0.0222\n",
      "Epoch 93/300\n",
      "3/3 [==============================] - 0s 12ms/step - loss: 0.0111 - val_loss: 0.0222\n",
      "Epoch 94/300\n",
      "3/3 [==============================] - 0s 8ms/step - loss: 0.0111 - val_loss: 0.0222\n",
      "Epoch 95/300\n",
      "3/3 [==============================] - 0s 9ms/step - loss: 0.0111 - val_loss: 0.0222\n",
      "Epoch 96/300\n",
      "3/3 [==============================] - 0s 12ms/step - loss: 0.0111 - val_loss: 0.0223\n",
      "Epoch 97/300\n",
      "3/3 [==============================] - 0s 12ms/step - loss: 0.0111 - val_loss: 0.0223\n",
      "Epoch 98/300\n",
      "3/3 [==============================] - 0s 12ms/step - loss: 0.0111 - val_loss: 0.0223\n",
      "Epoch 99/300\n",
      "3/3 [==============================] - 0s 14ms/step - loss: 0.0111 - val_loss: 0.0223\n",
      "Epoch 100/300\n",
      "3/3 [==============================] - 0s 13ms/step - loss: 0.0111 - val_loss: 0.0223\n",
      "Epoch 101/300\n",
      "3/3 [==============================] - 0s 14ms/step - loss: 0.0111 - val_loss: 0.0223\n",
      "Epoch 102/300\n",
      "3/3 [==============================] - 0s 12ms/step - loss: 0.0111 - val_loss: 0.0224\n",
      "Epoch 103/300\n",
      "3/3 [==============================] - 0s 11ms/step - loss: 0.0110 - val_loss: 0.0224\n",
      "Epoch 104/300\n",
      "3/3 [==============================] - 0s 8ms/step - loss: 0.0110 - val_loss: 0.0224\n",
      "Epoch 105/300\n",
      "3/3 [==============================] - 0s 12ms/step - loss: 0.0110 - val_loss: 0.0224\n",
      "Epoch 106/300\n",
      "3/3 [==============================] - 0s 14ms/step - loss: 0.0110 - val_loss: 0.0224\n",
      "Epoch 107/300\n",
      "3/3 [==============================] - 0s 14ms/step - loss: 0.0110 - val_loss: 0.0224\n",
      "Epoch 108/300\n",
      "3/3 [==============================] - 0s 11ms/step - loss: 0.0110 - val_loss: 0.0224\n",
      "Epoch 109/300\n",
      "3/3 [==============================] - 0s 13ms/step - loss: 0.0110 - val_loss: 0.0225\n",
      "Epoch 110/300\n",
      "3/3 [==============================] - 0s 13ms/step - loss: 0.0110 - val_loss: 0.0225\n",
      "Epoch 111/300\n",
      "3/3 [==============================] - 0s 8ms/step - loss: 0.0110 - val_loss: 0.0225\n",
      "Epoch 112/300\n",
      "3/3 [==============================] - 0s 13ms/step - loss: 0.0110 - val_loss: 0.0225\n",
      "Epoch 113/300\n",
      "3/3 [==============================] - 0s 11ms/step - loss: 0.0110 - val_loss: 0.0225\n",
      "Epoch 114/300\n",
      "3/3 [==============================] - 0s 9ms/step - loss: 0.0110 - val_loss: 0.0225\n",
      "Epoch 115/300\n",
      "3/3 [==============================] - 0s 12ms/step - loss: 0.0109 - val_loss: 0.0225\n",
      "Epoch 116/300\n",
      "3/3 [==============================] - 0s 12ms/step - loss: 0.0109 - val_loss: 0.0225\n",
      "Epoch 117/300\n",
      "3/3 [==============================] - 0s 15ms/step - loss: 0.0109 - val_loss: 0.0226\n",
      "Epoch 118/300\n",
      "3/3 [==============================] - 0s 8ms/step - loss: 0.0109 - val_loss: 0.0226\n",
      "Epoch 119/300\n",
      "3/3 [==============================] - 0s 9ms/step - loss: 0.0109 - val_loss: 0.0226\n",
      "Epoch 120/300\n",
      "3/3 [==============================] - 0s 9ms/step - loss: 0.0109 - val_loss: 0.0226\n",
      "Epoch 121/300\n",
      "3/3 [==============================] - 0s 12ms/step - loss: 0.0109 - val_loss: 0.0226\n",
      "Epoch 122/300\n",
      "3/3 [==============================] - 0s 9ms/step - loss: 0.0109 - val_loss: 0.0226\n",
      "Epoch 123/300\n",
      "3/3 [==============================] - 0s 12ms/step - loss: 0.0109 - val_loss: 0.0226\n",
      "Epoch 124/300\n",
      "3/3 [==============================] - 0s 10ms/step - loss: 0.0109 - val_loss: 0.0226\n",
      "Epoch 125/300\n",
      "3/3 [==============================] - 0s 10ms/step - loss: 0.0109 - val_loss: 0.0227\n",
      "Epoch 126/300\n",
      "3/3 [==============================] - 0s 12ms/step - loss: 0.0109 - val_loss: 0.0227\n",
      "Epoch 127/300\n",
      "3/3 [==============================] - 0s 10ms/step - loss: 0.0109 - val_loss: 0.0227\n",
      "Epoch 128/300\n",
      "3/3 [==============================] - 0s 15ms/step - loss: 0.0108 - val_loss: 0.0227\n",
      "Epoch 129/300\n",
      "3/3 [==============================] - 0s 12ms/step - loss: 0.0108 - val_loss: 0.0227\n",
      "Epoch 130/300\n",
      "3/3 [==============================] - 0s 12ms/step - loss: 0.0108 - val_loss: 0.0227\n",
      "Epoch 131/300\n",
      "3/3 [==============================] - 0s 12ms/step - loss: 0.0108 - val_loss: 0.0227\n",
      "Epoch 132/300\n",
      "3/3 [==============================] - 0s 12ms/step - loss: 0.0108 - val_loss: 0.0227\n",
      "Epoch 133/300\n",
      "3/3 [==============================] - 0s 12ms/step - loss: 0.0108 - val_loss: 0.0227\n",
      "Epoch 134/300\n",
      "3/3 [==============================] - 0s 9ms/step - loss: 0.0108 - val_loss: 0.0227\n",
      "Epoch 135/300\n",
      "3/3 [==============================] - 0s 12ms/step - loss: 0.0108 - val_loss: 0.0227\n",
      "Epoch 136/300\n",
      "3/3 [==============================] - 0s 9ms/step - loss: 0.0108 - val_loss: 0.0228\n",
      "Epoch 137/300\n",
      "3/3 [==============================] - 0s 10ms/step - loss: 0.0108 - val_loss: 0.0228\n",
      "Epoch 138/300\n",
      "3/3 [==============================] - 0s 11ms/step - loss: 0.0108 - val_loss: 0.0228\n",
      "Epoch 139/300\n",
      "3/3 [==============================] - 0s 8ms/step - loss: 0.0108 - val_loss: 0.0228\n",
      "Epoch 140/300\n",
      "3/3 [==============================] - 0s 10ms/step - loss: 0.0108 - val_loss: 0.0228\n",
      "Epoch 141/300\n",
      "3/3 [==============================] - 0s 8ms/step - loss: 0.0107 - val_loss: 0.0228\n",
      "Epoch 142/300\n",
      "3/3 [==============================] - 0s 12ms/step - loss: 0.0107 - val_loss: 0.0228\n",
      "Epoch 143/300\n",
      "3/3 [==============================] - 0s 12ms/step - loss: 0.0107 - val_loss: 0.0228\n",
      "Epoch 144/300\n",
      "3/3 [==============================] - 0s 11ms/step - loss: 0.0107 - val_loss: 0.0228\n",
      "Epoch 145/300\n",
      "3/3 [==============================] - 0s 12ms/step - loss: 0.0107 - val_loss: 0.0228\n",
      "Epoch 146/300\n",
      "3/3 [==============================] - 0s 16ms/step - loss: 0.0107 - val_loss: 0.0228\n",
      "Epoch 147/300\n",
      "3/3 [==============================] - 0s 17ms/step - loss: 0.0107 - val_loss: 0.0228\n",
      "Epoch 148/300\n",
      "3/3 [==============================] - 0s 12ms/step - loss: 0.0107 - val_loss: 0.0228\n",
      "Epoch 149/300\n",
      "3/3 [==============================] - 0s 12ms/step - loss: 0.0107 - val_loss: 0.0228\n",
      "Epoch 150/300\n",
      "3/3 [==============================] - 0s 14ms/step - loss: 0.0107 - val_loss: 0.0228\n",
      "Epoch 151/300\n",
      "3/3 [==============================] - 0s 14ms/step - loss: 0.0107 - val_loss: 0.0228\n",
      "Epoch 152/300\n",
      "3/3 [==============================] - 0s 15ms/step - loss: 0.0107 - val_loss: 0.0228\n",
      "Epoch 153/300\n",
      "3/3 [==============================] - 0s 13ms/step - loss: 0.0107 - val_loss: 0.0229\n",
      "Epoch 154/300\n",
      "3/3 [==============================] - 0s 10ms/step - loss: 0.0107 - val_loss: 0.0229\n",
      "Epoch 155/300\n",
      "3/3 [==============================] - 0s 12ms/step - loss: 0.0106 - val_loss: 0.0229\n",
      "Epoch 156/300\n",
      "3/3 [==============================] - 0s 12ms/step - loss: 0.0106 - val_loss: 0.0229\n",
      "Epoch 157/300\n",
      "3/3 [==============================] - 0s 10ms/step - loss: 0.0106 - val_loss: 0.0229\n",
      "Epoch 158/300\n",
      "3/3 [==============================] - 0s 10ms/step - loss: 0.0106 - val_loss: 0.0229\n",
      "Epoch 159/300\n",
      "3/3 [==============================] - 0s 12ms/step - loss: 0.0106 - val_loss: 0.0229\n",
      "Epoch 160/300\n",
      "3/3 [==============================] - 0s 14ms/step - loss: 0.0106 - val_loss: 0.0229\n",
      "Epoch 161/300\n",
      "3/3 [==============================] - 0s 11ms/step - loss: 0.0106 - val_loss: 0.0229\n",
      "Epoch 162/300\n",
      "3/3 [==============================] - 0s 12ms/step - loss: 0.0106 - val_loss: 0.0229\n",
      "Epoch 163/300\n",
      "3/3 [==============================] - 0s 12ms/step - loss: 0.0106 - val_loss: 0.0229\n",
      "Epoch 164/300\n",
      "3/3 [==============================] - 0s 13ms/step - loss: 0.0106 - val_loss: 0.0229\n",
      "Epoch 165/300\n",
      "3/3 [==============================] - 0s 8ms/step - loss: 0.0106 - val_loss: 0.0229\n",
      "Epoch 166/300\n",
      "3/3 [==============================] - 0s 12ms/step - loss: 0.0106 - val_loss: 0.0229\n",
      "Epoch 167/300\n",
      "3/3 [==============================] - 0s 12ms/step - loss: 0.0106 - val_loss: 0.0229\n",
      "Epoch 168/300\n",
      "3/3 [==============================] - 0s 10ms/step - loss: 0.0106 - val_loss: 0.0229\n",
      "Epoch 169/300\n",
      "3/3 [==============================] - 0s 15ms/step - loss: 0.0105 - val_loss: 0.0229\n",
      "Epoch 170/300\n",
      "3/3 [==============================] - 0s 8ms/step - loss: 0.0105 - val_loss: 0.0229\n",
      "Epoch 171/300\n",
      "3/3 [==============================] - 0s 10ms/step - loss: 0.0105 - val_loss: 0.0229\n",
      "Epoch 172/300\n",
      "3/3 [==============================] - 0s 12ms/step - loss: 0.0105 - val_loss: 0.0229\n",
      "Epoch 173/300\n",
      "3/3 [==============================] - 0s 12ms/step - loss: 0.0105 - val_loss: 0.0229\n",
      "Epoch 174/300\n",
      "3/3 [==============================] - 0s 11ms/step - loss: 0.0105 - val_loss: 0.0229\n",
      "Epoch 175/300\n",
      "3/3 [==============================] - 0s 13ms/step - loss: 0.0105 - val_loss: 0.0229\n",
      "Epoch 176/300\n",
      "3/3 [==============================] - 0s 12ms/step - loss: 0.0105 - val_loss: 0.0229\n",
      "Epoch 177/300\n",
      "3/3 [==============================] - 0s 15ms/step - loss: 0.0105 - val_loss: 0.0229\n",
      "Epoch 178/300\n",
      "3/3 [==============================] - 0s 9ms/step - loss: 0.0105 - val_loss: 0.0229\n",
      "Epoch 179/300\n",
      "3/3 [==============================] - 0s 12ms/step - loss: 0.0105 - val_loss: 0.0229\n",
      "Epoch 180/300\n",
      "3/3 [==============================] - 0s 8ms/step - loss: 0.0105 - val_loss: 0.0229\n",
      "Epoch 181/300\n",
      "3/3 [==============================] - 0s 10ms/step - loss: 0.0105 - val_loss: 0.0229\n",
      "Epoch 182/300\n",
      "3/3 [==============================] - 0s 8ms/step - loss: 0.0105 - val_loss: 0.0229\n",
      "Epoch 183/300\n",
      "3/3 [==============================] - 0s 12ms/step - loss: 0.0105 - val_loss: 0.0228\n",
      "Epoch 184/300\n",
      "3/3 [==============================] - 0s 17ms/step - loss: 0.0104 - val_loss: 0.0228\n",
      "Epoch 185/300\n",
      "3/3 [==============================] - 0s 11ms/step - loss: 0.0104 - val_loss: 0.0228\n",
      "Epoch 186/300\n",
      "3/3 [==============================] - 0s 10ms/step - loss: 0.0104 - val_loss: 0.0228\n",
      "Epoch 187/300\n",
      "3/3 [==============================] - 0s 9ms/step - loss: 0.0104 - val_loss: 0.0228\n",
      "Epoch 188/300\n",
      "3/3 [==============================] - 0s 10ms/step - loss: 0.0104 - val_loss: 0.0228\n",
      "Epoch 189/300\n",
      "3/3 [==============================] - 0s 12ms/step - loss: 0.0104 - val_loss: 0.0228\n",
      "Epoch 190/300\n",
      "3/3 [==============================] - 0s 8ms/step - loss: 0.0104 - val_loss: 0.0228\n",
      "Epoch 191/300\n",
      "3/3 [==============================] - 0s 13ms/step - loss: 0.0104 - val_loss: 0.0228\n",
      "Epoch 192/300\n",
      "3/3 [==============================] - 0s 12ms/step - loss: 0.0104 - val_loss: 0.0228\n",
      "Epoch 193/300\n",
      "3/3 [==============================] - 0s 12ms/step - loss: 0.0104 - val_loss: 0.0228\n",
      "Epoch 194/300\n",
      "3/3 [==============================] - 0s 12ms/step - loss: 0.0104 - val_loss: 0.0228\n",
      "Epoch 195/300\n",
      "3/3 [==============================] - 0s 10ms/step - loss: 0.0104 - val_loss: 0.0228\n",
      "Epoch 196/300\n",
      "3/3 [==============================] - 0s 12ms/step - loss: 0.0104 - val_loss: 0.0228\n",
      "Epoch 197/300\n",
      "3/3 [==============================] - 0s 8ms/step - loss: 0.0104 - val_loss: 0.0228\n",
      "Epoch 198/300\n",
      "3/3 [==============================] - 0s 14ms/step - loss: 0.0104 - val_loss: 0.0228\n",
      "Epoch 199/300\n",
      "3/3 [==============================] - 0s 13ms/step - loss: 0.0104 - val_loss: 0.0228\n",
      "Epoch 200/300\n",
      "3/3 [==============================] - 0s 8ms/step - loss: 0.0103 - val_loss: 0.0228\n",
      "Epoch 201/300\n",
      "3/3 [==============================] - 0s 9ms/step - loss: 0.0103 - val_loss: 0.0228\n",
      "Epoch 202/300\n",
      "3/3 [==============================] - 0s 9ms/step - loss: 0.0103 - val_loss: 0.0228\n",
      "Epoch 203/300\n",
      "3/3 [==============================] - 0s 8ms/step - loss: 0.0103 - val_loss: 0.0228\n",
      "Epoch 204/300\n",
      "3/3 [==============================] - 0s 10ms/step - loss: 0.0103 - val_loss: 0.0227\n",
      "Epoch 205/300\n",
      "3/3 [==============================] - 0s 12ms/step - loss: 0.0103 - val_loss: 0.0227\n",
      "Epoch 206/300\n",
      "3/3 [==============================] - 0s 10ms/step - loss: 0.0103 - val_loss: 0.0227\n",
      "Epoch 207/300\n",
      "3/3 [==============================] - 0s 12ms/step - loss: 0.0103 - val_loss: 0.0227\n",
      "Epoch 208/300\n",
      "3/3 [==============================] - 0s 13ms/step - loss: 0.0103 - val_loss: 0.0227\n",
      "Epoch 209/300\n",
      "3/3 [==============================] - 0s 12ms/step - loss: 0.0103 - val_loss: 0.0227\n",
      "Epoch 210/300\n",
      "3/3 [==============================] - 0s 8ms/step - loss: 0.0103 - val_loss: 0.0227\n",
      "Epoch 211/300\n",
      "3/3 [==============================] - 0s 9ms/step - loss: 0.0103 - val_loss: 0.0227\n",
      "Epoch 212/300\n",
      "3/3 [==============================] - 0s 10ms/step - loss: 0.0103 - val_loss: 0.0227\n",
      "Epoch 213/300\n",
      "3/3 [==============================] - 0s 15ms/step - loss: 0.0103 - val_loss: 0.0227\n",
      "Epoch 214/300\n",
      "3/3 [==============================] - 0s 13ms/step - loss: 0.0103 - val_loss: 0.0227\n",
      "Epoch 215/300\n",
      "3/3 [==============================] - ETA: 0s - loss: 0.008 - 0s 11ms/step - loss: 0.0103 - val_loss: 0.0227\n",
      "Epoch 216/300\n",
      "3/3 [==============================] - 0s 12ms/step - loss: 0.0103 - val_loss: 0.0227\n",
      "Epoch 217/300\n",
      "3/3 [==============================] - 0s 16ms/step - loss: 0.0103 - val_loss: 0.0227\n",
      "Epoch 218/300\n",
      "3/3 [==============================] - 0s 8ms/step - loss: 0.0102 - val_loss: 0.0226\n",
      "Epoch 219/300\n",
      "3/3 [==============================] - 0s 10ms/step - loss: 0.0102 - val_loss: 0.0226\n",
      "Epoch 220/300\n",
      "3/3 [==============================] - 0s 12ms/step - loss: 0.0102 - val_loss: 0.0226\n",
      "Epoch 221/300\n",
      "3/3 [==============================] - 0s 13ms/step - loss: 0.0102 - val_loss: 0.0226\n",
      "Epoch 222/300\n",
      "3/3 [==============================] - 0s 14ms/step - loss: 0.0102 - val_loss: 0.0226\n",
      "Epoch 223/300\n",
      "3/3 [==============================] - 0s 12ms/step - loss: 0.0102 - val_loss: 0.0226\n",
      "Epoch 224/300\n",
      "3/3 [==============================] - 0s 12ms/step - loss: 0.0102 - val_loss: 0.0226\n",
      "Epoch 225/300\n",
      "3/3 [==============================] - 0s 13ms/step - loss: 0.0102 - val_loss: 0.0226\n",
      "Epoch 226/300\n",
      "3/3 [==============================] - 0s 12ms/step - loss: 0.0102 - val_loss: 0.0226\n",
      "Epoch 227/300\n",
      "3/3 [==============================] - 0s 12ms/step - loss: 0.0102 - val_loss: 0.0226\n",
      "Epoch 228/300\n",
      "3/3 [==============================] - 0s 12ms/step - loss: 0.0102 - val_loss: 0.0226\n",
      "Epoch 229/300\n",
      "3/3 [==============================] - 0s 14ms/step - loss: 0.0102 - val_loss: 0.0226\n",
      "Epoch 230/300\n",
      "3/3 [==============================] - 0s 12ms/step - loss: 0.0102 - val_loss: 0.0226\n",
      "Epoch 231/300\n",
      "3/3 [==============================] - 0s 15ms/step - loss: 0.0102 - val_loss: 0.0225\n",
      "Epoch 232/300\n",
      "3/3 [==============================] - 0s 7ms/step - loss: 0.0102 - val_loss: 0.0225\n",
      "Epoch 233/300\n",
      "3/3 [==============================] - 0s 16ms/step - loss: 0.0102 - val_loss: 0.0225\n",
      "Epoch 234/300\n",
      "3/3 [==============================] - 0s 12ms/step - loss: 0.0102 - val_loss: 0.0225\n",
      "Epoch 235/300\n",
      "3/3 [==============================] - 0s 12ms/step - loss: 0.0102 - val_loss: 0.0225\n",
      "Epoch 236/300\n",
      "3/3 [==============================] - 0s 9ms/step - loss: 0.0102 - val_loss: 0.0225\n",
      "Epoch 237/300\n",
      "3/3 [==============================] - 0s 9ms/step - loss: 0.0101 - val_loss: 0.0225\n",
      "Epoch 238/300\n",
      "3/3 [==============================] - 0s 13ms/step - loss: 0.0101 - val_loss: 0.0225\n",
      "Epoch 239/300\n",
      "3/3 [==============================] - 0s 12ms/step - loss: 0.0101 - val_loss: 0.0225\n",
      "Epoch 240/300\n",
      "3/3 [==============================] - 0s 12ms/step - loss: 0.0101 - val_loss: 0.0225\n",
      "Epoch 241/300\n",
      "3/3 [==============================] - 0s 11ms/step - loss: 0.0101 - val_loss: 0.0225\n",
      "Epoch 242/300\n",
      "3/3 [==============================] - 0s 11ms/step - loss: 0.0101 - val_loss: 0.0225\n",
      "Epoch 243/300\n",
      "3/3 [==============================] - 0s 8ms/step - loss: 0.0101 - val_loss: 0.0224\n",
      "Epoch 244/300\n",
      "3/3 [==============================] - 0s 16ms/step - loss: 0.0101 - val_loss: 0.0224\n",
      "Epoch 245/300\n",
      "3/3 [==============================] - 0s 14ms/step - loss: 0.0101 - val_loss: 0.0224\n",
      "Epoch 246/300\n",
      "3/3 [==============================] - 0s 9ms/step - loss: 0.0101 - val_loss: 0.0224\n",
      "Epoch 247/300\n",
      "3/3 [==============================] - 0s 8ms/step - loss: 0.0101 - val_loss: 0.0224\n",
      "Epoch 248/300\n",
      "3/3 [==============================] - 0s 13ms/step - loss: 0.0101 - val_loss: 0.0224\n",
      "Epoch 249/300\n",
      "3/3 [==============================] - 0s 11ms/step - loss: 0.0101 - val_loss: 0.0224\n",
      "Epoch 250/300\n",
      "3/3 [==============================] - 0s 13ms/step - loss: 0.0101 - val_loss: 0.0224\n",
      "Epoch 251/300\n",
      "3/3 [==============================] - 0s 8ms/step - loss: 0.0101 - val_loss: 0.0224\n",
      "Epoch 252/300\n",
      "3/3 [==============================] - 0s 10ms/step - loss: 0.0101 - val_loss: 0.0224\n",
      "Epoch 253/300\n",
      "3/3 [==============================] - 0s 10ms/step - loss: 0.0101 - val_loss: 0.0224\n",
      "Epoch 254/300\n",
      "3/3 [==============================] - 0s 8ms/step - loss: 0.0101 - val_loss: 0.0224\n",
      "Epoch 255/300\n",
      "3/3 [==============================] - 0s 12ms/step - loss: 0.0101 - val_loss: 0.0224\n",
      "Epoch 256/300\n",
      "3/3 [==============================] - 0s 9ms/step - loss: 0.0101 - val_loss: 0.0223\n",
      "Epoch 257/300\n",
      "3/3 [==============================] - 0s 12ms/step - loss: 0.0100 - val_loss: 0.0223\n",
      "Epoch 258/300\n",
      "3/3 [==============================] - 0s 12ms/step - loss: 0.0100 - val_loss: 0.0223\n",
      "Epoch 259/300\n",
      "3/3 [==============================] - 0s 10ms/step - loss: 0.0100 - val_loss: 0.0223\n",
      "Epoch 260/300\n",
      "3/3 [==============================] - 0s 13ms/step - loss: 0.0100 - val_loss: 0.0223\n",
      "Epoch 261/300\n",
      "3/3 [==============================] - 0s 12ms/step - loss: 0.0100 - val_loss: 0.0223\n",
      "Epoch 262/300\n",
      "3/3 [==============================] - 0s 12ms/step - loss: 0.0100 - val_loss: 0.0223\n",
      "Epoch 263/300\n",
      "3/3 [==============================] - 0s 10ms/step - loss: 0.0100 - val_loss: 0.0223\n",
      "Epoch 264/300\n",
      "3/3 [==============================] - 0s 13ms/step - loss: 0.0100 - val_loss: 0.0223\n",
      "Epoch 265/300\n",
      "3/3 [==============================] - 0s 13ms/step - loss: 0.0100 - val_loss: 0.0223\n",
      "Epoch 266/300\n",
      "3/3 [==============================] - 0s 11ms/step - loss: 0.0100 - val_loss: 0.0223\n",
      "Epoch 267/300\n",
      "3/3 [==============================] - 0s 10ms/step - loss: 0.0100 - val_loss: 0.0223\n",
      "Epoch 268/300\n",
      "3/3 [==============================] - 0s 10ms/step - loss: 0.0100 - val_loss: 0.0222\n",
      "Epoch 269/300\n",
      "3/3 [==============================] - 0s 13ms/step - loss: 0.0100 - val_loss: 0.0222\n",
      "Epoch 270/300\n",
      "3/3 [==============================] - 0s 12ms/step - loss: 0.0100 - val_loss: 0.0222\n",
      "Epoch 271/300\n",
      "3/3 [==============================] - 0s 12ms/step - loss: 0.0100 - val_loss: 0.0222\n",
      "Epoch 272/300\n",
      "3/3 [==============================] - 0s 11ms/step - loss: 0.0100 - val_loss: 0.0222\n",
      "Epoch 273/300\n",
      "3/3 [==============================] - 0s 12ms/step - loss: 0.0100 - val_loss: 0.0222\n",
      "Epoch 274/300\n",
      "3/3 [==============================] - 0s 10ms/step - loss: 0.0100 - val_loss: 0.0222\n",
      "Epoch 275/300\n",
      "3/3 [==============================] - 0s 12ms/step - loss: 0.0100 - val_loss: 0.0222\n",
      "Epoch 276/300\n",
      "3/3 [==============================] - 0s 14ms/step - loss: 0.0100 - val_loss: 0.0222\n",
      "Epoch 277/300\n",
      "3/3 [==============================] - 0s 12ms/step - loss: 0.0100 - val_loss: 0.0222\n",
      "Epoch 278/300\n",
      "3/3 [==============================] - 0s 11ms/step - loss: 0.0099 - val_loss: 0.0222\n",
      "Epoch 279/300\n",
      "3/3 [==============================] - 0s 15ms/step - loss: 0.0099 - val_loss: 0.0222\n",
      "Epoch 280/300\n",
      "3/3 [==============================] - 0s 14ms/step - loss: 0.0099 - val_loss: 0.0222\n",
      "Epoch 281/300\n",
      "3/3 [==============================] - 0s 13ms/step - loss: 0.0099 - val_loss: 0.0221\n",
      "Epoch 282/300\n",
      "3/3 [==============================] - 0s 11ms/step - loss: 0.0099 - val_loss: 0.0221\n",
      "Epoch 283/300\n",
      "3/3 [==============================] - 0s 10ms/step - loss: 0.0099 - val_loss: 0.0221\n",
      "Epoch 284/300\n",
      "3/3 [==============================] - 0s 11ms/step - loss: 0.0099 - val_loss: 0.0221\n",
      "Epoch 285/300\n",
      "3/3 [==============================] - 0s 13ms/step - loss: 0.0099 - val_loss: 0.0221\n",
      "Epoch 286/300\n",
      "3/3 [==============================] - 0s 10ms/step - loss: 0.0099 - val_loss: 0.0221\n",
      "Epoch 287/300\n",
      "3/3 [==============================] - 0s 12ms/step - loss: 0.0099 - val_loss: 0.0221\n",
      "Epoch 288/300\n",
      "3/3 [==============================] - 0s 12ms/step - loss: 0.0099 - val_loss: 0.0221\n",
      "Epoch 289/300\n",
      "3/3 [==============================] - 0s 12ms/step - loss: 0.0099 - val_loss: 0.0221\n",
      "Epoch 290/300\n",
      "3/3 [==============================] - 0s 10ms/step - loss: 0.0099 - val_loss: 0.0221\n",
      "Epoch 291/300\n",
      "3/3 [==============================] - 0s 11ms/step - loss: 0.0099 - val_loss: 0.0221\n",
      "Epoch 292/300\n",
      "3/3 [==============================] - 0s 12ms/step - loss: 0.0099 - val_loss: 0.0221\n",
      "Epoch 293/300\n",
      "3/3 [==============================] - 0s 12ms/step - loss: 0.0099 - val_loss: 0.0221\n",
      "Epoch 294/300\n",
      "3/3 [==============================] - 0s 12ms/step - loss: 0.0099 - val_loss: 0.0221\n",
      "Epoch 295/300\n",
      "3/3 [==============================] - 0s 11ms/step - loss: 0.0099 - val_loss: 0.0220\n",
      "Epoch 296/300\n",
      "3/3 [==============================] - 0s 15ms/step - loss: 0.0099 - val_loss: 0.0220\n",
      "Epoch 297/300\n",
      "3/3 [==============================] - 0s 12ms/step - loss: 0.0099 - val_loss: 0.0220\n",
      "Epoch 298/300\n",
      "3/3 [==============================] - 0s 12ms/step - loss: 0.0099 - val_loss: 0.0220\n",
      "Epoch 299/300\n",
      "3/3 [==============================] - 0s 11ms/step - loss: 0.0099 - val_loss: 0.0220\n",
      "Epoch 300/300\n",
      "3/3 [==============================] - 0s 12ms/step - loss: 0.0099 - val_loss: 0.0220\n",
      "Test Score: 61.799 RMSE\n",
      "Test Score: 3819.083 MSE\n",
      "Test Score: 45.129 MAE\n",
      "Test Score: 8.076 MAPE\n",
      "Epoch 1/300\n",
      "3/3 [==============================] - 0s 29ms/step - loss: 0.0122 - val_loss: 0.0270\n",
      "Epoch 2/300\n",
      "3/3 [==============================] - 0s 10ms/step - loss: 0.0124 - val_loss: 0.0244\n",
      "Epoch 3/300\n",
      "3/3 [==============================] - 0s 10ms/step - loss: 0.0120 - val_loss: 0.0239\n",
      "Epoch 4/300\n",
      "3/3 [==============================] - 0s 14ms/step - loss: 0.0118 - val_loss: 0.0244\n",
      "Epoch 5/300\n",
      "3/3 [==============================] - 0s 13ms/step - loss: 0.0118 - val_loss: 0.0223\n",
      "Epoch 6/300\n",
      "3/3 [==============================] - 0s 12ms/step - loss: 0.0116 - val_loss: 0.0231\n",
      "Epoch 7/300\n",
      "3/3 [==============================] - 0s 12ms/step - loss: 0.0116 - val_loss: 0.0221\n",
      "Epoch 8/300\n",
      "3/3 [==============================] - 0s 14ms/step - loss: 0.0115 - val_loss: 0.0223\n",
      "Epoch 9/300\n",
      "3/3 [==============================] - 0s 12ms/step - loss: 0.0115 - val_loss: 0.0220\n",
      "Epoch 10/300\n",
      "3/3 [==============================] - 0s 11ms/step - loss: 0.0114 - val_loss: 0.0218\n",
      "Epoch 11/300\n",
      "3/3 [==============================] - 0s 13ms/step - loss: 0.0114 - val_loss: 0.0217\n",
      "Epoch 12/300\n",
      "3/3 [==============================] - 0s 11ms/step - loss: 0.0114 - val_loss: 0.0215\n",
      "Epoch 13/300\n",
      "3/3 [==============================] - 0s 12ms/step - loss: 0.0113 - val_loss: 0.0216\n",
      "Epoch 14/300\n",
      "3/3 [==============================] - 0s 12ms/step - loss: 0.0113 - val_loss: 0.0214\n",
      "Epoch 15/300\n",
      "3/3 [==============================] - 0s 13ms/step - loss: 0.0113 - val_loss: 0.0214\n",
      "Epoch 16/300\n",
      "3/3 [==============================] - 0s 11ms/step - loss: 0.0113 - val_loss: 0.0212\n",
      "Epoch 17/300\n",
      "3/3 [==============================] - 0s 13ms/step - loss: 0.0112 - val_loss: 0.0213\n",
      "Epoch 18/300\n",
      "3/3 [==============================] - 0s 14ms/step - loss: 0.0112 - val_loss: 0.0212\n",
      "Epoch 19/300\n",
      "3/3 [==============================] - 0s 12ms/step - loss: 0.0112 - val_loss: 0.0213\n",
      "Epoch 20/300\n",
      "3/3 [==============================] - 0s 13ms/step - loss: 0.0112 - val_loss: 0.0211\n",
      "Epoch 21/300\n",
      "3/3 [==============================] - 0s 12ms/step - loss: 0.0112 - val_loss: 0.0212\n",
      "Epoch 22/300\n",
      "3/3 [==============================] - 0s 10ms/step - loss: 0.0111 - val_loss: 0.0211\n",
      "Epoch 23/300\n",
      "3/3 [==============================] - 0s 12ms/step - loss: 0.0111 - val_loss: 0.0212\n",
      "Epoch 24/300\n",
      "3/3 [==============================] - 0s 12ms/step - loss: 0.0111 - val_loss: 0.0211\n",
      "Epoch 25/300\n",
      "3/3 [==============================] - 0s 14ms/step - loss: 0.0111 - val_loss: 0.0212\n",
      "Epoch 26/300\n",
      "3/3 [==============================] - 0s 12ms/step - loss: 0.0111 - val_loss: 0.0212\n",
      "Epoch 27/300\n",
      "3/3 [==============================] - 0s 10ms/step - loss: 0.0111 - val_loss: 0.0212\n",
      "Epoch 28/300\n",
      "3/3 [==============================] - 0s 10ms/step - loss: 0.0110 - val_loss: 0.0212\n",
      "Epoch 29/300\n",
      "3/3 [==============================] - 0s 16ms/step - loss: 0.0110 - val_loss: 0.0212\n",
      "Epoch 30/300\n",
      "3/3 [==============================] - 0s 12ms/step - loss: 0.0110 - val_loss: 0.0212\n",
      "Epoch 31/300\n",
      "3/3 [==============================] - 0s 10ms/step - loss: 0.0110 - val_loss: 0.0212\n",
      "Epoch 32/300\n",
      "3/3 [==============================] - 0s 10ms/step - loss: 0.0110 - val_loss: 0.0212\n",
      "Epoch 33/300\n",
      "3/3 [==============================] - 0s 12ms/step - loss: 0.0110 - val_loss: 0.0212\n",
      "Epoch 34/300\n",
      "3/3 [==============================] - 0s 12ms/step - loss: 0.0110 - val_loss: 0.0212\n",
      "Epoch 35/300\n",
      "3/3 [==============================] - 0s 14ms/step - loss: 0.0109 - val_loss: 0.0213\n",
      "Epoch 36/300\n",
      "3/3 [==============================] - ETA: 0s - loss: 0.008 - 0s 15ms/step - loss: 0.0109 - val_loss: 0.0212\n",
      "Epoch 37/300\n",
      "3/3 [==============================] - 0s 10ms/step - loss: 0.0109 - val_loss: 0.0213\n",
      "Epoch 38/300\n",
      "3/3 [==============================] - 0s 10ms/step - loss: 0.0109 - val_loss: 0.0213\n",
      "Epoch 39/300\n",
      "3/3 [==============================] - 0s 10ms/step - loss: 0.0109 - val_loss: 0.0213\n",
      "Epoch 40/300\n",
      "3/3 [==============================] - 0s 12ms/step - loss: 0.0109 - val_loss: 0.0213\n",
      "Epoch 41/300\n",
      "3/3 [==============================] - 0s 12ms/step - loss: 0.0109 - val_loss: 0.0213\n",
      "Epoch 42/300\n",
      "3/3 [==============================] - 0s 12ms/step - loss: 0.0109 - val_loss: 0.0213\n",
      "Epoch 43/300\n",
      "3/3 [==============================] - 0s 10ms/step - loss: 0.0108 - val_loss: 0.0213\n",
      "Epoch 44/300\n",
      "3/3 [==============================] - 0s 12ms/step - loss: 0.0108 - val_loss: 0.0213\n",
      "Epoch 45/300\n",
      "3/3 [==============================] - 0s 14ms/step - loss: 0.0108 - val_loss: 0.0214\n",
      "Epoch 46/300\n",
      "3/3 [==============================] - 0s 12ms/step - loss: 0.0108 - val_loss: 0.0214\n",
      "Epoch 47/300\n",
      "3/3 [==============================] - 0s 14ms/step - loss: 0.0108 - val_loss: 0.0214\n",
      "Epoch 48/300\n",
      "3/3 [==============================] - 0s 12ms/step - loss: 0.0108 - val_loss: 0.0214\n",
      "Epoch 49/300\n",
      "3/3 [==============================] - 0s 12ms/step - loss: 0.0108 - val_loss: 0.0214\n",
      "Epoch 50/300\n",
      "3/3 [==============================] - 0s 12ms/step - loss: 0.0108 - val_loss: 0.0214\n",
      "Epoch 51/300\n",
      "3/3 [==============================] - 0s 10ms/step - loss: 0.0108 - val_loss: 0.0214\n",
      "Epoch 52/300\n",
      "3/3 [==============================] - 0s 12ms/step - loss: 0.0107 - val_loss: 0.0215\n",
      "Epoch 53/300\n",
      "3/3 [==============================] - 0s 10ms/step - loss: 0.0107 - val_loss: 0.0215\n",
      "Epoch 54/300\n",
      "3/3 [==============================] - 0s 12ms/step - loss: 0.0107 - val_loss: 0.0215\n",
      "Epoch 55/300\n",
      "3/3 [==============================] - 0s 12ms/step - loss: 0.0107 - val_loss: 0.0215\n",
      "Epoch 56/300\n",
      "3/3 [==============================] - 0s 14ms/step - loss: 0.0107 - val_loss: 0.0215\n",
      "Epoch 57/300\n",
      "3/3 [==============================] - 0s 12ms/step - loss: 0.0107 - val_loss: 0.0215\n",
      "Epoch 58/300\n",
      "3/3 [==============================] - 0s 12ms/step - loss: 0.0107 - val_loss: 0.0215\n",
      "Epoch 59/300\n",
      "3/3 [==============================] - 0s 12ms/step - loss: 0.0107 - val_loss: 0.0216\n",
      "Epoch 60/300\n",
      "3/3 [==============================] - 0s 12ms/step - loss: 0.0107 - val_loss: 0.0216\n",
      "Epoch 61/300\n",
      "3/3 [==============================] - 0s 12ms/step - loss: 0.0107 - val_loss: 0.0216\n",
      "Epoch 62/300\n",
      "3/3 [==============================] - 0s 14ms/step - loss: 0.0107 - val_loss: 0.0216\n",
      "Epoch 63/300\n",
      "3/3 [==============================] - 0s 13ms/step - loss: 0.0106 - val_loss: 0.0216\n",
      "Epoch 64/300\n",
      "3/3 [==============================] - 0s 12ms/step - loss: 0.0106 - val_loss: 0.0216\n",
      "Epoch 65/300\n",
      "3/3 [==============================] - 0s 12ms/step - loss: 0.0106 - val_loss: 0.0217\n",
      "Epoch 66/300\n",
      "3/3 [==============================] - 0s 12ms/step - loss: 0.0106 - val_loss: 0.0217\n",
      "Epoch 67/300\n",
      "3/3 [==============================] - 0s 10ms/step - loss: 0.0106 - val_loss: 0.0217\n",
      "Epoch 68/300\n",
      "3/3 [==============================] - 0s 12ms/step - loss: 0.0106 - val_loss: 0.0217\n",
      "Epoch 69/300\n",
      "3/3 [==============================] - 0s 12ms/step - loss: 0.0106 - val_loss: 0.0217\n",
      "Epoch 70/300\n",
      "3/3 [==============================] - 0s 10ms/step - loss: 0.0106 - val_loss: 0.0217\n",
      "Epoch 71/300\n",
      "3/3 [==============================] - 0s 10ms/step - loss: 0.0106 - val_loss: 0.0218\n",
      "Epoch 72/300\n",
      "3/3 [==============================] - 0s 12ms/step - loss: 0.0106 - val_loss: 0.0218\n",
      "Epoch 73/300\n",
      "3/3 [==============================] - 0s 12ms/step - loss: 0.0106 - val_loss: 0.0218\n",
      "Epoch 74/300\n",
      "3/3 [==============================] - 0s 12ms/step - loss: 0.0105 - val_loss: 0.0218\n",
      "Epoch 75/300\n",
      "3/3 [==============================] - 0s 10ms/step - loss: 0.0105 - val_loss: 0.0218\n",
      "Epoch 76/300\n",
      "3/3 [==============================] - 0s 10ms/step - loss: 0.0105 - val_loss: 0.0218\n",
      "Epoch 77/300\n",
      "3/3 [==============================] - 0s 12ms/step - loss: 0.0105 - val_loss: 0.0219\n",
      "Epoch 78/300\n",
      "3/3 [==============================] - 0s 12ms/step - loss: 0.0105 - val_loss: 0.0219\n",
      "Epoch 79/300\n",
      "3/3 [==============================] - 0s 14ms/step - loss: 0.0105 - val_loss: 0.0219\n",
      "Epoch 80/300\n",
      "3/3 [==============================] - 0s 10ms/step - loss: 0.0105 - val_loss: 0.0219\n",
      "Epoch 81/300\n",
      "3/3 [==============================] - 0s 12ms/step - loss: 0.0105 - val_loss: 0.0219\n",
      "Epoch 82/300\n",
      "3/3 [==============================] - 0s 12ms/step - loss: 0.0105 - val_loss: 0.0219\n",
      "Epoch 83/300\n",
      "3/3 [==============================] - 0s 13ms/step - loss: 0.0105 - val_loss: 0.0220\n",
      "Epoch 84/300\n",
      "3/3 [==============================] - 0s 12ms/step - loss: 0.0105 - val_loss: 0.0220\n",
      "Epoch 85/300\n",
      "3/3 [==============================] - 0s 12ms/step - loss: 0.0105 - val_loss: 0.0220\n",
      "Epoch 86/300\n",
      "3/3 [==============================] - 0s 13ms/step - loss: 0.0105 - val_loss: 0.0220\n",
      "Epoch 87/300\n",
      "3/3 [==============================] - 0s 12ms/step - loss: 0.0104 - val_loss: 0.0220\n",
      "Epoch 88/300\n",
      "3/3 [==============================] - 0s 12ms/step - loss: 0.0104 - val_loss: 0.0220\n",
      "Epoch 89/300\n",
      "3/3 [==============================] - 0s 12ms/step - loss: 0.0104 - val_loss: 0.0221\n",
      "Epoch 90/300\n",
      "3/3 [==============================] - 0s 12ms/step - loss: 0.0104 - val_loss: 0.0221\n",
      "Epoch 91/300\n",
      "3/3 [==============================] - 0s 12ms/step - loss: 0.0104 - val_loss: 0.0221\n",
      "Epoch 92/300\n",
      "3/3 [==============================] - 0s 12ms/step - loss: 0.0104 - val_loss: 0.0221\n",
      "Epoch 93/300\n",
      "3/3 [==============================] - 0s 12ms/step - loss: 0.0104 - val_loss: 0.0221\n",
      "Epoch 94/300\n",
      "3/3 [==============================] - 0s 14ms/step - loss: 0.0104 - val_loss: 0.0221\n",
      "Epoch 95/300\n",
      "3/3 [==============================] - 0s 10ms/step - loss: 0.0104 - val_loss: 0.0221\n",
      "Epoch 96/300\n",
      "3/3 [==============================] - 0s 12ms/step - loss: 0.0104 - val_loss: 0.0222\n",
      "Epoch 97/300\n",
      "3/3 [==============================] - 0s 10ms/step - loss: 0.0104 - val_loss: 0.0222\n",
      "Epoch 98/300\n",
      "3/3 [==============================] - 0s 12ms/step - loss: 0.0104 - val_loss: 0.0222\n",
      "Epoch 99/300\n",
      "3/3 [==============================] - 0s 12ms/step - loss: 0.0104 - val_loss: 0.0222\n",
      "Epoch 100/300\n",
      "3/3 [==============================] - 0s 14ms/step - loss: 0.0103 - val_loss: 0.0222\n",
      "Epoch 101/300\n",
      "3/3 [==============================] - 0s 14ms/step - loss: 0.0103 - val_loss: 0.0222\n",
      "Epoch 102/300\n",
      "3/3 [==============================] - 0s 12ms/step - loss: 0.0103 - val_loss: 0.0222\n",
      "Epoch 103/300\n",
      "3/3 [==============================] - 0s 12ms/step - loss: 0.0103 - val_loss: 0.0223\n",
      "Epoch 104/300\n",
      "3/3 [==============================] - 0s 12ms/step - loss: 0.0103 - val_loss: 0.0223\n",
      "Epoch 105/300\n",
      "3/3 [==============================] - 0s 12ms/step - loss: 0.0103 - val_loss: 0.0223\n",
      "Epoch 106/300\n",
      "3/3 [==============================] - 0s 12ms/step - loss: 0.0103 - val_loss: 0.0223\n",
      "Epoch 107/300\n",
      "3/3 [==============================] - 0s 12ms/step - loss: 0.0103 - val_loss: 0.0223\n",
      "Epoch 108/300\n",
      "3/3 [==============================] - 0s 12ms/step - loss: 0.0103 - val_loss: 0.0223\n",
      "Epoch 109/300\n",
      "3/3 [==============================] - 0s 12ms/step - loss: 0.0103 - val_loss: 0.0223\n",
      "Epoch 110/300\n",
      "3/3 [==============================] - 0s 13ms/step - loss: 0.0103 - val_loss: 0.0223\n",
      "Epoch 111/300\n",
      "3/3 [==============================] - 0s 10ms/step - loss: 0.0103 - val_loss: 0.0224\n",
      "Epoch 112/300\n",
      "3/3 [==============================] - 0s 14ms/step - loss: 0.0103 - val_loss: 0.0224\n",
      "Epoch 113/300\n",
      "3/3 [==============================] - 0s 10ms/step - loss: 0.0103 - val_loss: 0.0224\n",
      "Epoch 114/300\n",
      "3/3 [==============================] - 0s 12ms/step - loss: 0.0103 - val_loss: 0.0224\n",
      "Epoch 115/300\n",
      "3/3 [==============================] - 0s 12ms/step - loss: 0.0102 - val_loss: 0.0224\n",
      "Epoch 116/300\n",
      "3/3 [==============================] - 0s 15ms/step - loss: 0.0102 - val_loss: 0.0224\n",
      "Epoch 117/300\n",
      "3/3 [==============================] - 0s 13ms/step - loss: 0.0102 - val_loss: 0.0224\n",
      "Epoch 118/300\n",
      "3/3 [==============================] - 0s 10ms/step - loss: 0.0102 - val_loss: 0.0224\n",
      "Epoch 119/300\n",
      "3/3 [==============================] - 0s 12ms/step - loss: 0.0102 - val_loss: 0.0225\n",
      "Epoch 120/300\n",
      "3/3 [==============================] - 0s 12ms/step - loss: 0.0102 - val_loss: 0.0225\n",
      "Epoch 121/300\n",
      "3/3 [==============================] - 0s 12ms/step - loss: 0.0102 - val_loss: 0.0225\n",
      "Epoch 122/300\n",
      "3/3 [==============================] - 0s 12ms/step - loss: 0.0102 - val_loss: 0.0225\n",
      "Epoch 123/300\n",
      "3/3 [==============================] - 0s 14ms/step - loss: 0.0102 - val_loss: 0.0225\n",
      "Epoch 124/300\n",
      "3/3 [==============================] - 0s 12ms/step - loss: 0.0102 - val_loss: 0.0225\n",
      "Epoch 125/300\n",
      "3/3 [==============================] - 0s 11ms/step - loss: 0.0102 - val_loss: 0.0225\n",
      "Epoch 126/300\n",
      "3/3 [==============================] - 0s 12ms/step - loss: 0.0102 - val_loss: 0.0225\n",
      "Epoch 127/300\n",
      "3/3 [==============================] - 0s 13ms/step - loss: 0.0102 - val_loss: 0.0225\n",
      "Epoch 128/300\n",
      "3/3 [==============================] - 0s 11ms/step - loss: 0.0102 - val_loss: 0.0226\n",
      "Epoch 129/300\n",
      "3/3 [==============================] - 0s 12ms/step - loss: 0.0102 - val_loss: 0.0226\n",
      "Epoch 130/300\n",
      "3/3 [==============================] - 0s 10ms/step - loss: 0.0102 - val_loss: 0.0226\n",
      "Epoch 131/300\n",
      "3/3 [==============================] - 0s 12ms/step - loss: 0.0102 - val_loss: 0.0226\n",
      "Epoch 132/300\n",
      "3/3 [==============================] - 0s 12ms/step - loss: 0.0101 - val_loss: 0.0226\n",
      "Epoch 133/300\n",
      "3/3 [==============================] - 0s 12ms/step - loss: 0.0101 - val_loss: 0.0226\n",
      "Epoch 134/300\n",
      "3/3 [==============================] - 0s 12ms/step - loss: 0.0101 - val_loss: 0.0226\n",
      "Epoch 135/300\n",
      "3/3 [==============================] - 0s 10ms/step - loss: 0.0101 - val_loss: 0.0226\n",
      "Epoch 136/300\n",
      "3/3 [==============================] - 0s 10ms/step - loss: 0.0101 - val_loss: 0.0226\n",
      "Epoch 137/300\n",
      "3/3 [==============================] - 0s 10ms/step - loss: 0.0101 - val_loss: 0.0226\n",
      "Epoch 138/300\n",
      "3/3 [==============================] - 0s 14ms/step - loss: 0.0101 - val_loss: 0.0227\n",
      "Epoch 139/300\n",
      "3/3 [==============================] - 0s 12ms/step - loss: 0.0101 - val_loss: 0.0227\n",
      "Epoch 140/300\n",
      "3/3 [==============================] - 0s 10ms/step - loss: 0.0101 - val_loss: 0.0227\n",
      "Epoch 141/300\n",
      "3/3 [==============================] - 0s 10ms/step - loss: 0.0101 - val_loss: 0.0227\n",
      "Epoch 142/300\n",
      "3/3 [==============================] - 0s 11ms/step - loss: 0.0101 - val_loss: 0.0227\n",
      "Epoch 143/300\n",
      "3/3 [==============================] - 0s 14ms/step - loss: 0.0101 - val_loss: 0.0227\n",
      "Epoch 144/300\n",
      "3/3 [==============================] - 0s 15ms/step - loss: 0.0101 - val_loss: 0.0227\n",
      "Epoch 145/300\n",
      "3/3 [==============================] - 0s 12ms/step - loss: 0.0101 - val_loss: 0.0227\n",
      "Epoch 146/300\n",
      "3/3 [==============================] - 0s 12ms/step - loss: 0.0101 - val_loss: 0.0227\n",
      "Epoch 147/300\n",
      "3/3 [==============================] - 0s 12ms/step - loss: 0.0101 - val_loss: 0.0227\n",
      "Epoch 148/300\n",
      "3/3 [==============================] - 0s 14ms/step - loss: 0.0101 - val_loss: 0.0227\n",
      "Epoch 149/300\n",
      "3/3 [==============================] - 0s 12ms/step - loss: 0.0100 - val_loss: 0.0227\n",
      "Epoch 150/300\n",
      "3/3 [==============================] - 0s 12ms/step - loss: 0.0100 - val_loss: 0.0228\n",
      "Epoch 151/300\n",
      "3/3 [==============================] - 0s 12ms/step - loss: 0.0100 - val_loss: 0.0228\n",
      "Epoch 152/300\n",
      "3/3 [==============================] - 0s 12ms/step - loss: 0.0100 - val_loss: 0.0228\n",
      "Epoch 153/300\n",
      "3/3 [==============================] - 0s 14ms/step - loss: 0.0100 - val_loss: 0.0228\n",
      "Epoch 154/300\n",
      "3/3 [==============================] - 0s 14ms/step - loss: 0.0100 - val_loss: 0.0228\n",
      "Epoch 155/300\n",
      "3/3 [==============================] - 0s 10ms/step - loss: 0.0100 - val_loss: 0.0228\n",
      "Epoch 156/300\n",
      "3/3 [==============================] - 0s 12ms/step - loss: 0.0100 - val_loss: 0.0228\n",
      "Epoch 157/300\n",
      "3/3 [==============================] - 0s 12ms/step - loss: 0.0100 - val_loss: 0.0228\n",
      "Epoch 158/300\n",
      "3/3 [==============================] - 0s 12ms/step - loss: 0.0100 - val_loss: 0.0228\n",
      "Epoch 159/300\n",
      "3/3 [==============================] - 0s 12ms/step - loss: 0.0100 - val_loss: 0.0228\n",
      "Epoch 160/300\n",
      "3/3 [==============================] - 0s 10ms/step - loss: 0.0100 - val_loss: 0.0228\n",
      "Epoch 161/300\n",
      "3/3 [==============================] - 0s 14ms/step - loss: 0.0100 - val_loss: 0.0228\n",
      "Epoch 162/300\n",
      "3/3 [==============================] - 0s 11ms/step - loss: 0.0100 - val_loss: 0.0228\n",
      "Epoch 163/300\n",
      "3/3 [==============================] - 0s 12ms/step - loss: 0.0100 - val_loss: 0.0228\n",
      "Epoch 164/300\n",
      "3/3 [==============================] - 0s 14ms/step - loss: 0.0100 - val_loss: 0.0228\n",
      "Epoch 165/300\n",
      "3/3 [==============================] - 0s 12ms/step - loss: 0.0100 - val_loss: 0.0229\n",
      "Epoch 166/300\n",
      "3/3 [==============================] - 0s 12ms/step - loss: 0.0100 - val_loss: 0.0229\n",
      "Epoch 167/300\n",
      "3/3 [==============================] - 0s 10ms/step - loss: 0.0100 - val_loss: 0.0229\n",
      "Epoch 168/300\n",
      "3/3 [==============================] - 0s 12ms/step - loss: 0.0099 - val_loss: 0.0229\n",
      "Epoch 169/300\n",
      "3/3 [==============================] - 0s 12ms/step - loss: 0.0099 - val_loss: 0.0229\n",
      "Epoch 170/300\n",
      "3/3 [==============================] - 0s 12ms/step - loss: 0.0099 - val_loss: 0.0229\n",
      "Epoch 171/300\n",
      "3/3 [==============================] - 0s 14ms/step - loss: 0.0099 - val_loss: 0.0229\n",
      "Epoch 172/300\n",
      "3/3 [==============================] - 0s 13ms/step - loss: 0.0099 - val_loss: 0.0229\n",
      "Epoch 173/300\n",
      "3/3 [==============================] - 0s 12ms/step - loss: 0.0099 - val_loss: 0.0229\n",
      "Epoch 174/300\n",
      "3/3 [==============================] - 0s 11ms/step - loss: 0.0099 - val_loss: 0.0229\n",
      "Epoch 175/300\n",
      "3/3 [==============================] - 0s 14ms/step - loss: 0.0099 - val_loss: 0.0229\n",
      "Epoch 176/300\n",
      "3/3 [==============================] - 0s 10ms/step - loss: 0.0099 - val_loss: 0.0229\n",
      "Epoch 177/300\n",
      "3/3 [==============================] - 0s 12ms/step - loss: 0.0099 - val_loss: 0.0229\n",
      "Epoch 178/300\n",
      "3/3 [==============================] - 0s 12ms/step - loss: 0.0099 - val_loss: 0.0229\n",
      "Epoch 179/300\n",
      "3/3 [==============================] - 0s 14ms/step - loss: 0.0099 - val_loss: 0.0229\n",
      "Epoch 180/300\n",
      "3/3 [==============================] - 0s 12ms/step - loss: 0.0099 - val_loss: 0.0229\n",
      "Epoch 181/300\n",
      "3/3 [==============================] - 0s 13ms/step - loss: 0.0099 - val_loss: 0.0229\n",
      "Epoch 182/300\n",
      "3/3 [==============================] - 0s 12ms/step - loss: 0.0099 - val_loss: 0.0229\n",
      "Epoch 183/300\n",
      "3/3 [==============================] - 0s 12ms/step - loss: 0.0099 - val_loss: 0.0229\n",
      "Epoch 184/300\n",
      "3/3 [==============================] - 0s 12ms/step - loss: 0.0099 - val_loss: 0.0229\n",
      "Epoch 185/300\n",
      "3/3 [==============================] - 0s 12ms/step - loss: 0.0099 - val_loss: 0.0229\n",
      "Epoch 186/300\n",
      "3/3 [==============================] - 0s 12ms/step - loss: 0.0099 - val_loss: 0.0230\n",
      "Epoch 187/300\n",
      "3/3 [==============================] - 0s 12ms/step - loss: 0.0098 - val_loss: 0.0230\n",
      "Epoch 188/300\n",
      "3/3 [==============================] - 0s 10ms/step - loss: 0.0098 - val_loss: 0.0230\n",
      "Epoch 189/300\n",
      "3/3 [==============================] - 0s 10ms/step - loss: 0.0098 - val_loss: 0.0230\n",
      "Epoch 190/300\n",
      "3/3 [==============================] - 0s 12ms/step - loss: 0.0098 - val_loss: 0.0230\n",
      "Epoch 191/300\n",
      "3/3 [==============================] - 0s 12ms/step - loss: 0.0098 - val_loss: 0.0230\n",
      "Epoch 192/300\n",
      "3/3 [==============================] - 0s 12ms/step - loss: 0.0098 - val_loss: 0.0230\n",
      "Epoch 193/300\n",
      "3/3 [==============================] - 0s 12ms/step - loss: 0.0098 - val_loss: 0.0230\n",
      "Epoch 194/300\n",
      "3/3 [==============================] - 0s 12ms/step - loss: 0.0098 - val_loss: 0.0230\n",
      "Epoch 195/300\n",
      "3/3 [==============================] - 0s 12ms/step - loss: 0.0098 - val_loss: 0.0230\n",
      "Epoch 196/300\n",
      "3/3 [==============================] - 0s 12ms/step - loss: 0.0098 - val_loss: 0.0230\n",
      "Epoch 197/300\n",
      "3/3 [==============================] - 0s 10ms/step - loss: 0.0098 - val_loss: 0.0230\n",
      "Epoch 198/300\n",
      "3/3 [==============================] - 0s 12ms/step - loss: 0.0098 - val_loss: 0.0230\n",
      "Epoch 199/300\n",
      "3/3 [==============================] - 0s 12ms/step - loss: 0.0098 - val_loss: 0.0230\n",
      "Epoch 200/300\n",
      "3/3 [==============================] - 0s 14ms/step - loss: 0.0098 - val_loss: 0.0230\n",
      "Epoch 201/300\n",
      "3/3 [==============================] - 0s 12ms/step - loss: 0.0098 - val_loss: 0.0230\n",
      "Epoch 202/300\n",
      "3/3 [==============================] - 0s 13ms/step - loss: 0.0098 - val_loss: 0.0230\n",
      "Epoch 203/300\n",
      "3/3 [==============================] - 0s 12ms/step - loss: 0.0098 - val_loss: 0.0230\n",
      "Epoch 204/300\n",
      "3/3 [==============================] - 0s 12ms/step - loss: 0.0098 - val_loss: 0.0230\n",
      "Epoch 205/300\n",
      "3/3 [==============================] - 0s 12ms/step - loss: 0.0098 - val_loss: 0.0230\n",
      "Epoch 206/300\n",
      "3/3 [==============================] - 0s 12ms/step - loss: 0.0098 - val_loss: 0.0230\n",
      "Epoch 207/300\n",
      "3/3 [==============================] - 0s 15ms/step - loss: 0.0097 - val_loss: 0.0230\n",
      "Epoch 208/300\n",
      "3/3 [==============================] - 0s 10ms/step - loss: 0.0097 - val_loss: 0.0230\n",
      "Epoch 209/300\n",
      "3/3 [==============================] - 0s 10ms/step - loss: 0.0097 - val_loss: 0.0230\n",
      "Epoch 210/300\n",
      "3/3 [==============================] - 0s 10ms/step - loss: 0.0097 - val_loss: 0.0230\n",
      "Epoch 211/300\n",
      "3/3 [==============================] - 0s 12ms/step - loss: 0.0097 - val_loss: 0.0230\n",
      "Epoch 212/300\n",
      "3/3 [==============================] - 0s 12ms/step - loss: 0.0097 - val_loss: 0.0230\n",
      "Epoch 213/300\n",
      "3/3 [==============================] - 0s 10ms/step - loss: 0.0097 - val_loss: 0.0230\n",
      "Epoch 214/300\n",
      "3/3 [==============================] - 0s 10ms/step - loss: 0.0097 - val_loss: 0.0230\n",
      "Epoch 215/300\n",
      "3/3 [==============================] - 0s 10ms/step - loss: 0.0097 - val_loss: 0.0230\n",
      "Epoch 216/300\n",
      "3/3 [==============================] - 0s 10ms/step - loss: 0.0097 - val_loss: 0.0230\n",
      "Epoch 217/300\n",
      "3/3 [==============================] - 0s 13ms/step - loss: 0.0097 - val_loss: 0.0230\n",
      "Epoch 218/300\n",
      "3/3 [==============================] - 0s 17ms/step - loss: 0.0097 - val_loss: 0.0230\n",
      "Epoch 219/300\n",
      "3/3 [==============================] - 0s 13ms/step - loss: 0.0097 - val_loss: 0.0230\n",
      "Epoch 220/300\n",
      "3/3 [==============================] - 0s 11ms/step - loss: 0.0097 - val_loss: 0.0230\n",
      "Epoch 221/300\n",
      "3/3 [==============================] - 0s 14ms/step - loss: 0.0097 - val_loss: 0.0230\n",
      "Epoch 222/300\n",
      "3/3 [==============================] - 0s 12ms/step - loss: 0.0097 - val_loss: 0.0230\n",
      "Epoch 223/300\n",
      "3/3 [==============================] - 0s 12ms/step - loss: 0.0097 - val_loss: 0.0230\n",
      "Epoch 224/300\n",
      "3/3 [==============================] - 0s 16ms/step - loss: 0.0097 - val_loss: 0.0230\n",
      "Epoch 225/300\n",
      "3/3 [==============================] - 0s 10ms/step - loss: 0.0097 - val_loss: 0.0230\n",
      "Epoch 226/300\n",
      "3/3 [==============================] - 0s 12ms/step - loss: 0.0097 - val_loss: 0.0230\n",
      "Epoch 227/300\n",
      "3/3 [==============================] - 0s 12ms/step - loss: 0.0097 - val_loss: 0.0230\n",
      "Epoch 228/300\n",
      "3/3 [==============================] - 0s 10ms/step - loss: 0.0096 - val_loss: 0.0230\n",
      "Epoch 229/300\n",
      "3/3 [==============================] - 0s 12ms/step - loss: 0.0096 - val_loss: 0.0230\n",
      "Epoch 230/300\n",
      "3/3 [==============================] - 0s 12ms/step - loss: 0.0096 - val_loss: 0.0230\n",
      "Epoch 231/300\n",
      "3/3 [==============================] - 0s 12ms/step - loss: 0.0096 - val_loss: 0.0230\n",
      "Epoch 232/300\n",
      "3/3 [==============================] - 0s 9ms/step - loss: 0.0096 - val_loss: 0.0230\n",
      "Epoch 233/300\n",
      "3/3 [==============================] - 0s 14ms/step - loss: 0.0096 - val_loss: 0.0230\n",
      "Epoch 234/300\n",
      "3/3 [==============================] - 0s 13ms/step - loss: 0.0096 - val_loss: 0.0230\n",
      "Epoch 235/300\n",
      "3/3 [==============================] - 0s 11ms/step - loss: 0.0096 - val_loss: 0.0230\n",
      "Epoch 236/300\n",
      "3/3 [==============================] - 0s 10ms/step - loss: 0.0096 - val_loss: 0.0230\n",
      "Epoch 237/300\n",
      "3/3 [==============================] - 0s 10ms/step - loss: 0.0096 - val_loss: 0.0230\n",
      "Epoch 238/300\n",
      "3/3 [==============================] - 0s 14ms/step - loss: 0.0096 - val_loss: 0.0230\n",
      "Epoch 239/300\n",
      "3/3 [==============================] - 0s 14ms/step - loss: 0.0096 - val_loss: 0.0230\n",
      "Epoch 240/300\n",
      "3/3 [==============================] - 0s 12ms/step - loss: 0.0096 - val_loss: 0.0230\n",
      "Epoch 241/300\n",
      "3/3 [==============================] - 0s 12ms/step - loss: 0.0096 - val_loss: 0.0230\n",
      "Epoch 242/300\n",
      "3/3 [==============================] - 0s 11ms/step - loss: 0.0096 - val_loss: 0.0230\n",
      "Epoch 243/300\n",
      "3/3 [==============================] - 0s 15ms/step - loss: 0.0096 - val_loss: 0.0230\n",
      "Epoch 244/300\n",
      "3/3 [==============================] - 0s 12ms/step - loss: 0.0096 - val_loss: 0.0230\n",
      "Epoch 245/300\n",
      "3/3 [==============================] - 0s 11ms/step - loss: 0.0096 - val_loss: 0.0230\n",
      "Epoch 246/300\n",
      "3/3 [==============================] - 0s 15ms/step - loss: 0.0096 - val_loss: 0.0230\n",
      "Epoch 247/300\n",
      "3/3 [==============================] - 0s 11ms/step - loss: 0.0096 - val_loss: 0.0230\n",
      "Epoch 248/300\n",
      "3/3 [==============================] - 0s 10ms/step - loss: 0.0096 - val_loss: 0.0230\n",
      "Epoch 249/300\n",
      "3/3 [==============================] - 0s 12ms/step - loss: 0.0095 - val_loss: 0.0230\n",
      "Epoch 250/300\n",
      "3/3 [==============================] - 0s 15ms/step - loss: 0.0095 - val_loss: 0.0230\n",
      "Epoch 251/300\n",
      "3/3 [==============================] - 0s 13ms/step - loss: 0.0095 - val_loss: 0.0230\n",
      "Epoch 252/300\n",
      "3/3 [==============================] - 0s 11ms/step - loss: 0.0095 - val_loss: 0.0230\n",
      "Epoch 253/300\n",
      "3/3 [==============================] - 0s 12ms/step - loss: 0.0095 - val_loss: 0.0230\n",
      "Epoch 254/300\n",
      "3/3 [==============================] - 0s 13ms/step - loss: 0.0095 - val_loss: 0.0230\n",
      "Epoch 255/300\n",
      "3/3 [==============================] - 0s 14ms/step - loss: 0.0095 - val_loss: 0.0230\n",
      "Epoch 256/300\n",
      "3/3 [==============================] - 0s 14ms/step - loss: 0.0095 - val_loss: 0.0230\n",
      "Epoch 257/300\n",
      "3/3 [==============================] - 0s 12ms/step - loss: 0.0095 - val_loss: 0.0230\n",
      "Epoch 258/300\n",
      "3/3 [==============================] - 0s 12ms/step - loss: 0.0095 - val_loss: 0.0230\n",
      "Epoch 259/300\n",
      "3/3 [==============================] - 0s 14ms/step - loss: 0.0095 - val_loss: 0.0230\n",
      "Epoch 260/300\n",
      "3/3 [==============================] - 0s 13ms/step - loss: 0.0095 - val_loss: 0.0230\n",
      "Epoch 261/300\n",
      "3/3 [==============================] - 0s 13ms/step - loss: 0.0095 - val_loss: 0.0230\n",
      "Epoch 262/300\n",
      "3/3 [==============================] - 0s 14ms/step - loss: 0.0095 - val_loss: 0.0230\n",
      "Epoch 263/300\n",
      "3/3 [==============================] - 0s 12ms/step - loss: 0.0095 - val_loss: 0.0230\n",
      "Epoch 264/300\n",
      "3/3 [==============================] - 0s 12ms/step - loss: 0.0095 - val_loss: 0.0230\n",
      "Epoch 265/300\n",
      "3/3 [==============================] - 0s 12ms/step - loss: 0.0095 - val_loss: 0.0230\n",
      "Epoch 266/300\n",
      "3/3 [==============================] - 0s 14ms/step - loss: 0.0095 - val_loss: 0.0230\n",
      "Epoch 267/300\n",
      "3/3 [==============================] - 0s 15ms/step - loss: 0.0095 - val_loss: 0.0230\n",
      "Epoch 268/300\n",
      "3/3 [==============================] - 0s 10ms/step - loss: 0.0095 - val_loss: 0.0230\n",
      "Epoch 269/300\n",
      "3/3 [==============================] - 0s 11ms/step - loss: 0.0095 - val_loss: 0.0230\n",
      "Epoch 270/300\n",
      "3/3 [==============================] - 0s 13ms/step - loss: 0.0095 - val_loss: 0.0230\n",
      "Epoch 271/300\n",
      "3/3 [==============================] - 0s 14ms/step - loss: 0.0094 - val_loss: 0.0230\n",
      "Epoch 272/300\n",
      "3/3 [==============================] - 0s 12ms/step - loss: 0.0094 - val_loss: 0.0230\n",
      "Epoch 273/300\n",
      "3/3 [==============================] - 0s 10ms/step - loss: 0.0094 - val_loss: 0.0230\n",
      "Epoch 274/300\n",
      "3/3 [==============================] - 0s 12ms/step - loss: 0.0094 - val_loss: 0.0230\n",
      "Epoch 275/300\n",
      "3/3 [==============================] - 0s 12ms/step - loss: 0.0094 - val_loss: 0.0230\n",
      "Epoch 276/300\n",
      "3/3 [==============================] - 0s 16ms/step - loss: 0.0094 - val_loss: 0.0230\n",
      "Epoch 277/300\n",
      "3/3 [==============================] - 0s 12ms/step - loss: 0.0094 - val_loss: 0.0230\n",
      "Epoch 278/300\n",
      "3/3 [==============================] - 0s 10ms/step - loss: 0.0094 - val_loss: 0.0230\n",
      "Epoch 279/300\n",
      "3/3 [==============================] - 0s 12ms/step - loss: 0.0094 - val_loss: 0.0229\n",
      "Epoch 280/300\n",
      "3/3 [==============================] - 0s 14ms/step - loss: 0.0094 - val_loss: 0.0229\n",
      "Epoch 281/300\n",
      "3/3 [==============================] - 0s 11ms/step - loss: 0.0094 - val_loss: 0.0229\n",
      "Epoch 282/300\n",
      "3/3 [==============================] - 0s 9ms/step - loss: 0.0094 - val_loss: 0.0229\n",
      "Epoch 283/300\n",
      "3/3 [==============================] - 0s 12ms/step - loss: 0.0094 - val_loss: 0.0229\n",
      "Epoch 284/300\n",
      "3/3 [==============================] - 0s 11ms/step - loss: 0.0094 - val_loss: 0.0229\n",
      "Epoch 285/300\n",
      "3/3 [==============================] - 0s 12ms/step - loss: 0.0094 - val_loss: 0.0229\n",
      "Epoch 286/300\n",
      "3/3 [==============================] - 0s 12ms/step - loss: 0.0094 - val_loss: 0.0229\n",
      "Epoch 287/300\n",
      "3/3 [==============================] - 0s 14ms/step - loss: 0.0094 - val_loss: 0.0229\n",
      "Epoch 288/300\n",
      "3/3 [==============================] - 0s 13ms/step - loss: 0.0094 - val_loss: 0.0229\n",
      "Epoch 289/300\n",
      "3/3 [==============================] - 0s 8ms/step - loss: 0.0094 - val_loss: 0.0229\n",
      "Epoch 290/300\n",
      "3/3 [==============================] - 0s 9ms/step - loss: 0.0094 - val_loss: 0.0229\n",
      "Epoch 291/300\n",
      "3/3 [==============================] - 0s 10ms/step - loss: 0.0094 - val_loss: 0.0229\n",
      "Epoch 292/300\n",
      "3/3 [==============================] - 0s 13ms/step - loss: 0.0094 - val_loss: 0.0229\n",
      "Epoch 293/300\n",
      "3/3 [==============================] - 0s 7ms/step - loss: 0.0093 - val_loss: 0.0229\n",
      "Epoch 294/300\n",
      "3/3 [==============================] - 0s 10ms/step - loss: 0.0093 - val_loss: 0.0229\n",
      "Epoch 295/300\n",
      "3/3 [==============================] - 0s 12ms/step - loss: 0.0093 - val_loss: 0.0229\n",
      "Epoch 296/300\n",
      "3/3 [==============================] - 0s 8ms/step - loss: 0.0093 - val_loss: 0.0229\n",
      "Epoch 297/300\n",
      "3/3 [==============================] - 0s 13ms/step - loss: 0.0093 - val_loss: 0.0229\n",
      "Epoch 298/300\n",
      "3/3 [==============================] - 0s 13ms/step - loss: 0.0093 - val_loss: 0.0229\n",
      "Epoch 299/300\n",
      "3/3 [==============================] - 0s 12ms/step - loss: 0.0093 - val_loss: 0.0229\n",
      "Epoch 300/300\n",
      "3/3 [==============================] - 0s 12ms/step - loss: 0.0093 - val_loss: 0.0229\n",
      "Test Score: 63.017 RMSE\n",
      "Test Score: 3971.084 MSE\n",
      "Test Score: 40.387 MAE\n",
      "Test Score: 3.475 MAPE\n",
      "Epoch 1/300\n",
      "4/4 [==============================] - 0s 20ms/step - loss: 0.0115 - val_loss: 0.0203\n",
      "Epoch 2/300\n",
      "4/4 [==============================] - 0s 10ms/step - loss: 0.0142 - val_loss: 0.0257\n",
      "Epoch 3/300\n",
      "4/4 [==============================] - 0s 10ms/step - loss: 0.0175 - val_loss: 0.0167\n",
      "Epoch 4/300\n",
      "4/4 [==============================] - 0s 8ms/step - loss: 0.0144 - val_loss: 0.0196\n",
      "Epoch 5/300\n",
      "4/4 [==============================] - 0s 8ms/step - loss: 0.0127 - val_loss: 0.0186\n",
      "Epoch 6/300\n",
      "4/4 [==============================] - 0s 9ms/step - loss: 0.0126 - val_loss: 0.0178\n",
      "Epoch 7/300\n",
      "4/4 [==============================] - 0s 8ms/step - loss: 0.0117 - val_loss: 0.0166\n",
      "Epoch 8/300\n",
      "4/4 [==============================] - 0s 8ms/step - loss: 0.0117 - val_loss: 0.0162\n",
      "Epoch 9/300\n",
      "4/4 [==============================] - 0s 9ms/step - loss: 0.0114 - val_loss: 0.0161\n",
      "Epoch 10/300\n",
      "4/4 [==============================] - 0s 8ms/step - loss: 0.0114 - val_loss: 0.0162\n",
      "Epoch 11/300\n",
      "4/4 [==============================] - 0s 8ms/step - loss: 0.0111 - val_loss: 0.0163\n",
      "Epoch 12/300\n",
      "4/4 [==============================] - 0s 8ms/step - loss: 0.0112 - val_loss: 0.0163\n",
      "Epoch 13/300\n",
      "4/4 [==============================] - 0s 10ms/step - loss: 0.0109 - val_loss: 0.0163\n",
      "Epoch 14/300\n",
      "4/4 [==============================] - 0s 10ms/step - loss: 0.0111 - val_loss: 0.0163\n",
      "Epoch 15/300\n",
      "4/4 [==============================] - 0s 10ms/step - loss: 0.0108 - val_loss: 0.0164\n",
      "Epoch 16/300\n",
      "4/4 [==============================] - 0s 7ms/step - loss: 0.0110 - val_loss: 0.0164\n",
      "Epoch 17/300\n",
      "4/4 [==============================] - 0s 10ms/step - loss: 0.0108 - val_loss: 0.0165\n",
      "Epoch 18/300\n",
      "4/4 [==============================] - 0s 10ms/step - loss: 0.0109 - val_loss: 0.0165\n",
      "Epoch 19/300\n",
      "4/4 [==============================] - 0s 8ms/step - loss: 0.0108 - val_loss: 0.0165\n",
      "Epoch 20/300\n",
      "4/4 [==============================] - 0s 8ms/step - loss: 0.0108 - val_loss: 0.0165\n",
      "Epoch 21/300\n",
      "4/4 [==============================] - 0s 10ms/step - loss: 0.0107 - val_loss: 0.0165\n",
      "Epoch 22/300\n",
      "4/4 [==============================] - 0s 8ms/step - loss: 0.0108 - val_loss: 0.0164\n",
      "Epoch 23/300\n",
      "4/4 [==============================] - 0s 9ms/step - loss: 0.0107 - val_loss: 0.0164\n",
      "Epoch 24/300\n",
      "4/4 [==============================] - 0s 8ms/step - loss: 0.0107 - val_loss: 0.0164\n",
      "Epoch 25/300\n",
      "4/4 [==============================] - 0s 7ms/step - loss: 0.0107 - val_loss: 0.0164\n",
      "Epoch 26/300\n",
      "4/4 [==============================] - 0s 8ms/step - loss: 0.0107 - val_loss: 0.0164\n",
      "Epoch 27/300\n",
      "4/4 [==============================] - 0s 9ms/step - loss: 0.0107 - val_loss: 0.0163\n",
      "Epoch 28/300\n",
      "4/4 [==============================] - 0s 9ms/step - loss: 0.0107 - val_loss: 0.0163\n",
      "Epoch 29/300\n",
      "4/4 [==============================] - 0s 8ms/step - loss: 0.0107 - val_loss: 0.0163\n",
      "Epoch 30/300\n",
      "4/4 [==============================] - 0s 11ms/step - loss: 0.0106 - val_loss: 0.0163\n",
      "Epoch 31/300\n",
      "4/4 [==============================] - 0s 11ms/step - loss: 0.0106 - val_loss: 0.0163\n",
      "Epoch 32/300\n",
      "4/4 [==============================] - 0s 9ms/step - loss: 0.0106 - val_loss: 0.0163\n",
      "Epoch 33/300\n",
      "4/4 [==============================] - 0s 11ms/step - loss: 0.0106 - val_loss: 0.0163\n",
      "Epoch 34/300\n",
      "4/4 [==============================] - 0s 10ms/step - loss: 0.0106 - val_loss: 0.0163\n",
      "Epoch 35/300\n",
      "4/4 [==============================] - 0s 8ms/step - loss: 0.0106 - val_loss: 0.0163\n",
      "Epoch 36/300\n",
      "4/4 [==============================] - 0s 11ms/step - loss: 0.0106 - val_loss: 0.0163\n",
      "Epoch 37/300\n",
      "4/4 [==============================] - 0s 13ms/step - loss: 0.0106 - val_loss: 0.0163\n",
      "Epoch 38/300\n",
      "4/4 [==============================] - 0s 11ms/step - loss: 0.0106 - val_loss: 0.0163\n",
      "Epoch 39/300\n",
      "4/4 [==============================] - 0s 10ms/step - loss: 0.0106 - val_loss: 0.0163\n",
      "Epoch 40/300\n",
      "4/4 [==============================] - 0s 8ms/step - loss: 0.0105 - val_loss: 0.0163\n",
      "Epoch 41/300\n",
      "4/4 [==============================] - 0s 8ms/step - loss: 0.0105 - val_loss: 0.0163\n",
      "Epoch 42/300\n",
      "4/4 [==============================] - 0s 8ms/step - loss: 0.0105 - val_loss: 0.0163\n",
      "Epoch 43/300\n",
      "4/4 [==============================] - 0s 11ms/step - loss: 0.0105 - val_loss: 0.0163\n",
      "Epoch 44/300\n",
      "4/4 [==============================] - 0s 8ms/step - loss: 0.0105 - val_loss: 0.0163\n",
      "Epoch 45/300\n",
      "4/4 [==============================] - 0s 8ms/step - loss: 0.0105 - val_loss: 0.0163\n",
      "Epoch 46/300\n",
      "4/4 [==============================] - 0s 9ms/step - loss: 0.0105 - val_loss: 0.0163\n",
      "Epoch 47/300\n",
      "4/4 [==============================] - 0s 9ms/step - loss: 0.0105 - val_loss: 0.0163\n",
      "Epoch 48/300\n",
      "4/4 [==============================] - 0s 11ms/step - loss: 0.0105 - val_loss: 0.0163\n",
      "Epoch 49/300\n",
      "4/4 [==============================] - 0s 7ms/step - loss: 0.0105 - val_loss: 0.0163\n",
      "Epoch 50/300\n",
      "4/4 [==============================] - 0s 8ms/step - loss: 0.0104 - val_loss: 0.0163\n",
      "Epoch 51/300\n",
      "4/4 [==============================] - 0s 8ms/step - loss: 0.0104 - val_loss: 0.0163\n",
      "Epoch 52/300\n",
      "4/4 [==============================] - 0s 9ms/step - loss: 0.0104 - val_loss: 0.0164\n",
      "Epoch 53/300\n",
      "4/4 [==============================] - 0s 8ms/step - loss: 0.0104 - val_loss: 0.0164\n",
      "Epoch 54/300\n",
      "4/4 [==============================] - 0s 8ms/step - loss: 0.0104 - val_loss: 0.0164\n",
      "Epoch 55/300\n",
      "4/4 [==============================] - 0s 9ms/step - loss: 0.0104 - val_loss: 0.0164\n",
      "Epoch 56/300\n",
      "4/4 [==============================] - 0s 9ms/step - loss: 0.0104 - val_loss: 0.0164\n",
      "Epoch 57/300\n",
      "4/4 [==============================] - 0s 10ms/step - loss: 0.0104 - val_loss: 0.0164\n",
      "Epoch 58/300\n",
      "4/4 [==============================] - 0s 8ms/step - loss: 0.0104 - val_loss: 0.0164\n",
      "Epoch 59/300\n",
      "4/4 [==============================] - 0s 8ms/step - loss: 0.0104 - val_loss: 0.0164\n",
      "Epoch 60/300\n",
      "4/4 [==============================] - 0s 8ms/step - loss: 0.0104 - val_loss: 0.0164\n",
      "Epoch 61/300\n",
      "4/4 [==============================] - 0s 8ms/step - loss: 0.0104 - val_loss: 0.0164\n",
      "Epoch 62/300\n",
      "4/4 [==============================] - 0s 11ms/step - loss: 0.0103 - val_loss: 0.0165\n",
      "Epoch 63/300\n",
      "4/4 [==============================] - 0s 7ms/step - loss: 0.0103 - val_loss: 0.0165\n",
      "Epoch 64/300\n",
      "4/4 [==============================] - 0s 7ms/step - loss: 0.0103 - val_loss: 0.0165\n",
      "Epoch 65/300\n",
      "4/4 [==============================] - 0s 8ms/step - loss: 0.0103 - val_loss: 0.0165\n",
      "Epoch 66/300\n",
      "4/4 [==============================] - 0s 8ms/step - loss: 0.0103 - val_loss: 0.0165\n",
      "Epoch 67/300\n",
      "4/4 [==============================] - 0s 8ms/step - loss: 0.0103 - val_loss: 0.0165\n",
      "Epoch 68/300\n",
      "4/4 [==============================] - 0s 8ms/step - loss: 0.0103 - val_loss: 0.0165\n",
      "Epoch 69/300\n",
      "4/4 [==============================] - 0s 8ms/step - loss: 0.0103 - val_loss: 0.0166\n",
      "Epoch 70/300\n",
      "4/4 [==============================] - 0s 9ms/step - loss: 0.0103 - val_loss: 0.0166\n",
      "Epoch 71/300\n",
      "4/4 [==============================] - 0s 10ms/step - loss: 0.0103 - val_loss: 0.0166\n",
      "Epoch 72/300\n",
      "4/4 [==============================] - 0s 11ms/step - loss: 0.0103 - val_loss: 0.0166\n",
      "Epoch 73/300\n",
      "4/4 [==============================] - 0s 7ms/step - loss: 0.0103 - val_loss: 0.0166\n",
      "Epoch 74/300\n",
      "4/4 [==============================] - 0s 8ms/step - loss: 0.0103 - val_loss: 0.0166\n",
      "Epoch 75/300\n",
      "4/4 [==============================] - 0s 11ms/step - loss: 0.0102 - val_loss: 0.0166\n",
      "Epoch 76/300\n",
      "4/4 [==============================] - 0s 11ms/step - loss: 0.0102 - val_loss: 0.0167\n",
      "Epoch 77/300\n",
      "4/4 [==============================] - 0s 11ms/step - loss: 0.0102 - val_loss: 0.0167\n",
      "Epoch 78/300\n",
      "4/4 [==============================] - 0s 11ms/step - loss: 0.0102 - val_loss: 0.0167\n",
      "Epoch 79/300\n",
      "4/4 [==============================] - 0s 11ms/step - loss: 0.0102 - val_loss: 0.0167\n",
      "Epoch 80/300\n",
      "4/4 [==============================] - 0s 8ms/step - loss: 0.0102 - val_loss: 0.0167\n",
      "Epoch 81/300\n",
      "4/4 [==============================] - 0s 11ms/step - loss: 0.0102 - val_loss: 0.0167\n",
      "Epoch 82/300\n",
      "4/4 [==============================] - 0s 11ms/step - loss: 0.0102 - val_loss: 0.0168\n",
      "Epoch 83/300\n",
      "4/4 [==============================] - 0s 8ms/step - loss: 0.0102 - val_loss: 0.0168\n",
      "Epoch 84/300\n",
      "4/4 [==============================] - 0s 5ms/step - loss: 0.0102 - val_loss: 0.0168\n",
      "Epoch 85/300\n",
      "4/4 [==============================] - 0s 8ms/step - loss: 0.0102 - val_loss: 0.0168\n",
      "Epoch 86/300\n",
      "4/4 [==============================] - 0s 7ms/step - loss: 0.0102 - val_loss: 0.0168\n",
      "Epoch 87/300\n",
      "4/4 [==============================] - 0s 8ms/step - loss: 0.0102 - val_loss: 0.0169\n",
      "Epoch 88/300\n",
      "4/4 [==============================] - 0s 8ms/step - loss: 0.0102 - val_loss: 0.0169\n",
      "Epoch 89/300\n",
      "4/4 [==============================] - 0s 11ms/step - loss: 0.0101 - val_loss: 0.0169\n",
      "Epoch 90/300\n",
      "4/4 [==============================] - 0s 8ms/step - loss: 0.0101 - val_loss: 0.0169\n",
      "Epoch 91/300\n",
      "4/4 [==============================] - 0s 10ms/step - loss: 0.0101 - val_loss: 0.0169\n",
      "Epoch 92/300\n",
      "4/4 [==============================] - 0s 12ms/step - loss: 0.0101 - val_loss: 0.0170\n",
      "Epoch 93/300\n",
      "4/4 [==============================] - 0s 8ms/step - loss: 0.0101 - val_loss: 0.0170\n",
      "Epoch 94/300\n",
      "4/4 [==============================] - 0s 10ms/step - loss: 0.0101 - val_loss: 0.0170\n",
      "Epoch 95/300\n",
      "4/4 [==============================] - 0s 9ms/step - loss: 0.0101 - val_loss: 0.0170\n",
      "Epoch 96/300\n",
      "4/4 [==============================] - 0s 9ms/step - loss: 0.0101 - val_loss: 0.0170\n",
      "Epoch 97/300\n",
      "4/4 [==============================] - 0s 8ms/step - loss: 0.0101 - val_loss: 0.0171\n",
      "Epoch 98/300\n",
      "4/4 [==============================] - 0s 7ms/step - loss: 0.0101 - val_loss: 0.0171\n",
      "Epoch 99/300\n",
      "4/4 [==============================] - 0s 9ms/step - loss: 0.0101 - val_loss: 0.0171\n",
      "Epoch 100/300\n",
      "4/4 [==============================] - 0s 10ms/step - loss: 0.0101 - val_loss: 0.0171\n",
      "Epoch 101/300\n",
      "4/4 [==============================] - 0s 9ms/step - loss: 0.0101 - val_loss: 0.0171\n",
      "Epoch 102/300\n",
      "4/4 [==============================] - 0s 8ms/step - loss: 0.0101 - val_loss: 0.0172\n",
      "Epoch 103/300\n",
      "4/4 [==============================] - 0s 9ms/step - loss: 0.0101 - val_loss: 0.0172\n",
      "Epoch 104/300\n",
      "4/4 [==============================] - 0s 8ms/step - loss: 0.0100 - val_loss: 0.0172\n",
      "Epoch 105/300\n",
      "4/4 [==============================] - 0s 10ms/step - loss: 0.0100 - val_loss: 0.0172\n",
      "Epoch 106/300\n",
      "4/4 [==============================] - 0s 10ms/step - loss: 0.0100 - val_loss: 0.0173\n",
      "Epoch 107/300\n",
      "4/4 [==============================] - 0s 10ms/step - loss: 0.0100 - val_loss: 0.0173\n",
      "Epoch 108/300\n",
      "4/4 [==============================] - 0s 8ms/step - loss: 0.0100 - val_loss: 0.0173\n",
      "Epoch 109/300\n",
      "4/4 [==============================] - 0s 7ms/step - loss: 0.0100 - val_loss: 0.0173\n",
      "Epoch 110/300\n",
      "4/4 [==============================] - 0s 10ms/step - loss: 0.0100 - val_loss: 0.0174\n",
      "Epoch 111/300\n",
      "4/4 [==============================] - 0s 12ms/step - loss: 0.0100 - val_loss: 0.0174\n",
      "Epoch 112/300\n",
      "4/4 [==============================] - 0s 8ms/step - loss: 0.0100 - val_loss: 0.0174\n",
      "Epoch 113/300\n",
      "4/4 [==============================] - 0s 10ms/step - loss: 0.0100 - val_loss: 0.0174\n",
      "Epoch 114/300\n",
      "4/4 [==============================] - 0s 9ms/step - loss: 0.0100 - val_loss: 0.0175\n",
      "Epoch 115/300\n",
      "4/4 [==============================] - 0s 9ms/step - loss: 0.0100 - val_loss: 0.0175\n",
      "Epoch 116/300\n",
      "4/4 [==============================] - 0s 9ms/step - loss: 0.0100 - val_loss: 0.0175\n",
      "Epoch 117/300\n",
      "4/4 [==============================] - 0s 9ms/step - loss: 0.0100 - val_loss: 0.0175\n",
      "Epoch 118/300\n",
      "4/4 [==============================] - 0s 9ms/step - loss: 0.0100 - val_loss: 0.0176\n",
      "Epoch 119/300\n",
      "4/4 [==============================] - 0s 9ms/step - loss: 0.0100 - val_loss: 0.0176\n",
      "Epoch 120/300\n",
      "4/4 [==============================] - 0s 11ms/step - loss: 0.0099 - val_loss: 0.0176\n",
      "Epoch 121/300\n",
      "4/4 [==============================] - 0s 8ms/step - loss: 0.0099 - val_loss: 0.0176\n",
      "Epoch 122/300\n",
      "4/4 [==============================] - 0s 8ms/step - loss: 0.0099 - val_loss: 0.0177\n",
      "Epoch 123/300\n",
      "4/4 [==============================] - 0s 8ms/step - loss: 0.0099 - val_loss: 0.0177\n",
      "Epoch 124/300\n",
      "4/4 [==============================] - 0s 9ms/step - loss: 0.0099 - val_loss: 0.0177\n",
      "Epoch 125/300\n",
      "4/4 [==============================] - 0s 9ms/step - loss: 0.0099 - val_loss: 0.0177\n",
      "Epoch 126/300\n",
      "4/4 [==============================] - 0s 8ms/step - loss: 0.0099 - val_loss: 0.0178\n",
      "Epoch 127/300\n",
      "4/4 [==============================] - 0s 9ms/step - loss: 0.0099 - val_loss: 0.0178\n",
      "Epoch 128/300\n",
      "4/4 [==============================] - 0s 8ms/step - loss: 0.0099 - val_loss: 0.0178\n",
      "Epoch 129/300\n",
      "4/4 [==============================] - 0s 9ms/step - loss: 0.0099 - val_loss: 0.0178\n",
      "Epoch 130/300\n",
      "4/4 [==============================] - 0s 9ms/step - loss: 0.0099 - val_loss: 0.0179\n",
      "Epoch 131/300\n",
      "4/4 [==============================] - 0s 9ms/step - loss: 0.0099 - val_loss: 0.0179\n",
      "Epoch 132/300\n",
      "4/4 [==============================] - 0s 8ms/step - loss: 0.0099 - val_loss: 0.0179\n",
      "Epoch 133/300\n",
      "4/4 [==============================] - 0s 8ms/step - loss: 0.0099 - val_loss: 0.0180\n",
      "Epoch 134/300\n",
      "4/4 [==============================] - 0s 11ms/step - loss: 0.0099 - val_loss: 0.0180\n",
      "Epoch 135/300\n",
      "4/4 [==============================] - 0s 9ms/step - loss: 0.0099 - val_loss: 0.0180\n",
      "Epoch 136/300\n",
      "4/4 [==============================] - 0s 8ms/step - loss: 0.0098 - val_loss: 0.0180\n",
      "Epoch 137/300\n",
      "4/4 [==============================] - 0s 7ms/step - loss: 0.0098 - val_loss: 0.0181\n",
      "Epoch 138/300\n",
      "4/4 [==============================] - 0s 9ms/step - loss: 0.0098 - val_loss: 0.0181\n",
      "Epoch 139/300\n",
      "4/4 [==============================] - 0s 9ms/step - loss: 0.0098 - val_loss: 0.0181\n",
      "Epoch 140/300\n",
      "4/4 [==============================] - 0s 9ms/step - loss: 0.0098 - val_loss: 0.0182\n",
      "Epoch 141/300\n",
      "4/4 [==============================] - 0s 9ms/step - loss: 0.0098 - val_loss: 0.0182\n",
      "Epoch 142/300\n",
      "4/4 [==============================] - 0s 9ms/step - loss: 0.0098 - val_loss: 0.0182\n",
      "Epoch 143/300\n",
      "4/4 [==============================] - 0s 9ms/step - loss: 0.0098 - val_loss: 0.0183\n",
      "Epoch 144/300\n",
      "4/4 [==============================] - 0s 9ms/step - loss: 0.0098 - val_loss: 0.0183\n",
      "Epoch 145/300\n",
      "4/4 [==============================] - 0s 9ms/step - loss: 0.0098 - val_loss: 0.0183\n",
      "Epoch 146/300\n",
      "4/4 [==============================] - 0s 9ms/step - loss: 0.0098 - val_loss: 0.0184\n",
      "Epoch 147/300\n",
      "4/4 [==============================] - 0s 8ms/step - loss: 0.0098 - val_loss: 0.0184\n",
      "Epoch 148/300\n",
      "4/4 [==============================] - 0s 8ms/step - loss: 0.0098 - val_loss: 0.0184\n",
      "Epoch 149/300\n",
      "4/4 [==============================] - 0s 8ms/step - loss: 0.0098 - val_loss: 0.0184\n",
      "Epoch 150/300\n",
      "4/4 [==============================] - 0s 11ms/step - loss: 0.0098 - val_loss: 0.0185\n",
      "Epoch 151/300\n",
      "4/4 [==============================] - 0s 8ms/step - loss: 0.0098 - val_loss: 0.0185\n",
      "Epoch 152/300\n",
      "4/4 [==============================] - 0s 8ms/step - loss: 0.0097 - val_loss: 0.0185\n",
      "Epoch 153/300\n",
      "4/4 [==============================] - 0s 9ms/step - loss: 0.0097 - val_loss: 0.0186\n",
      "Epoch 154/300\n",
      "4/4 [==============================] - 0s 9ms/step - loss: 0.0097 - val_loss: 0.0186\n",
      "Epoch 155/300\n",
      "4/4 [==============================] - 0s 9ms/step - loss: 0.0097 - val_loss: 0.0186\n",
      "Epoch 156/300\n",
      "4/4 [==============================] - 0s 9ms/step - loss: 0.0097 - val_loss: 0.0187\n",
      "Epoch 157/300\n",
      "4/4 [==============================] - 0s 9ms/step - loss: 0.0097 - val_loss: 0.0187\n",
      "Epoch 158/300\n",
      "4/4 [==============================] - 0s 9ms/step - loss: 0.0097 - val_loss: 0.0187\n",
      "Epoch 159/300\n",
      "4/4 [==============================] - 0s 9ms/step - loss: 0.0097 - val_loss: 0.0188\n",
      "Epoch 160/300\n",
      "4/4 [==============================] - 0s 9ms/step - loss: 0.0097 - val_loss: 0.0188\n",
      "Epoch 161/300\n",
      "4/4 [==============================] - 0s 9ms/step - loss: 0.0097 - val_loss: 0.0188\n",
      "Epoch 162/300\n",
      "4/4 [==============================] - 0s 9ms/step - loss: 0.0097 - val_loss: 0.0189\n",
      "Epoch 163/300\n",
      "4/4 [==============================] - 0s 8ms/step - loss: 0.0097 - val_loss: 0.0189\n",
      "Epoch 164/300\n",
      "4/4 [==============================] - 0s 9ms/step - loss: 0.0097 - val_loss: 0.0190\n",
      "Epoch 165/300\n",
      "4/4 [==============================] - 0s 9ms/step - loss: 0.0097 - val_loss: 0.0190\n",
      "Epoch 166/300\n",
      "4/4 [==============================] - 0s 8ms/step - loss: 0.0097 - val_loss: 0.0190\n",
      "Epoch 167/300\n",
      "4/4 [==============================] - 0s 11ms/step - loss: 0.0097 - val_loss: 0.0191\n",
      "Epoch 168/300\n",
      "4/4 [==============================] - 0s 9ms/step - loss: 0.0096 - val_loss: 0.0191\n",
      "Epoch 169/300\n",
      "4/4 [==============================] - 0s 12ms/step - loss: 0.0096 - val_loss: 0.0191\n",
      "Epoch 170/300\n",
      "4/4 [==============================] - 0s 9ms/step - loss: 0.0096 - val_loss: 0.0192\n",
      "Epoch 171/300\n",
      "4/4 [==============================] - 0s 9ms/step - loss: 0.0096 - val_loss: 0.0192\n",
      "Epoch 172/300\n",
      "4/4 [==============================] - 0s 11ms/step - loss: 0.0096 - val_loss: 0.0192\n",
      "Epoch 173/300\n",
      "4/4 [==============================] - 0s 9ms/step - loss: 0.0096 - val_loss: 0.0193\n",
      "Epoch 174/300\n",
      "4/4 [==============================] - 0s 10ms/step - loss: 0.0096 - val_loss: 0.0193\n",
      "Epoch 175/300\n",
      "4/4 [==============================] - 0s 8ms/step - loss: 0.0096 - val_loss: 0.0194\n",
      "Epoch 176/300\n",
      "4/4 [==============================] - 0s 9ms/step - loss: 0.0096 - val_loss: 0.0194\n",
      "Epoch 177/300\n",
      "4/4 [==============================] - 0s 9ms/step - loss: 0.0096 - val_loss: 0.0194\n",
      "Epoch 178/300\n",
      "4/4 [==============================] - 0s 9ms/step - loss: 0.0096 - val_loss: 0.0195\n",
      "Epoch 179/300\n",
      "4/4 [==============================] - 0s 9ms/step - loss: 0.0096 - val_loss: 0.0195\n",
      "Epoch 180/300\n",
      "4/4 [==============================] - 0s 8ms/step - loss: 0.0096 - val_loss: 0.0195\n",
      "Epoch 181/300\n",
      "4/4 [==============================] - 0s 9ms/step - loss: 0.0096 - val_loss: 0.0196\n",
      "Epoch 182/300\n",
      "4/4 [==============================] - 0s 11ms/step - loss: 0.0096 - val_loss: 0.0196\n",
      "Epoch 183/300\n",
      "4/4 [==============================] - 0s 9ms/step - loss: 0.0096 - val_loss: 0.0197\n",
      "Epoch 184/300\n",
      "4/4 [==============================] - 0s 9ms/step - loss: 0.0096 - val_loss: 0.0197\n",
      "Epoch 185/300\n",
      "4/4 [==============================] - 0s 9ms/step - loss: 0.0095 - val_loss: 0.0197\n",
      "Epoch 186/300\n",
      "4/4 [==============================] - 0s 9ms/step - loss: 0.0095 - val_loss: 0.0198\n",
      "Epoch 187/300\n",
      "4/4 [==============================] - 0s 9ms/step - loss: 0.0095 - val_loss: 0.0198\n",
      "Epoch 188/300\n",
      "4/4 [==============================] - 0s 11ms/step - loss: 0.0095 - val_loss: 0.0199\n",
      "Epoch 189/300\n",
      "4/4 [==============================] - 0s 8ms/step - loss: 0.0095 - val_loss: 0.0199\n",
      "Epoch 190/300\n",
      "4/4 [==============================] - 0s 8ms/step - loss: 0.0095 - val_loss: 0.0199\n",
      "Epoch 191/300\n",
      "4/4 [==============================] - 0s 9ms/step - loss: 0.0095 - val_loss: 0.0200\n",
      "Epoch 192/300\n",
      "4/4 [==============================] - 0s 8ms/step - loss: 0.0095 - val_loss: 0.0200\n",
      "Epoch 193/300\n",
      "4/4 [==============================] - 0s 8ms/step - loss: 0.0095 - val_loss: 0.0201\n",
      "Epoch 194/300\n",
      "4/4 [==============================] - 0s 8ms/step - loss: 0.0095 - val_loss: 0.0201\n",
      "Epoch 195/300\n",
      "4/4 [==============================] - 0s 8ms/step - loss: 0.0095 - val_loss: 0.0202\n",
      "Epoch 196/300\n",
      "4/4 [==============================] - 0s 9ms/step - loss: 0.0095 - val_loss: 0.0202\n",
      "Epoch 197/300\n",
      "4/4 [==============================] - 0s 8ms/step - loss: 0.0095 - val_loss: 0.0202\n",
      "Epoch 198/300\n",
      "4/4 [==============================] - 0s 10ms/step - loss: 0.0095 - val_loss: 0.0203\n",
      "Epoch 199/300\n",
      "4/4 [==============================] - 0s 8ms/step - loss: 0.0095 - val_loss: 0.0203\n",
      "Epoch 200/300\n",
      "4/4 [==============================] - 0s 8ms/step - loss: 0.0095 - val_loss: 0.0204\n",
      "Epoch 201/300\n",
      "4/4 [==============================] - 0s 8ms/step - loss: 0.0094 - val_loss: 0.0204\n",
      "Epoch 202/300\n",
      "4/4 [==============================] - 0s 8ms/step - loss: 0.0094 - val_loss: 0.0205\n",
      "Epoch 203/300\n",
      "4/4 [==============================] - 0s 8ms/step - loss: 0.0094 - val_loss: 0.0205\n",
      "Epoch 204/300\n",
      "4/4 [==============================] - 0s 8ms/step - loss: 0.0094 - val_loss: 0.0206\n",
      "Epoch 205/300\n",
      "4/4 [==============================] - 0s 10ms/step - loss: 0.0094 - val_loss: 0.0206\n",
      "Epoch 206/300\n",
      "4/4 [==============================] - 0s 8ms/step - loss: 0.0094 - val_loss: 0.0207\n",
      "Epoch 207/300\n",
      "4/4 [==============================] - 0s 9ms/step - loss: 0.0094 - val_loss: 0.0207\n",
      "Epoch 208/300\n",
      "4/4 [==============================] - 0s 9ms/step - loss: 0.0094 - val_loss: 0.0207\n",
      "Epoch 209/300\n",
      "4/4 [==============================] - 0s 9ms/step - loss: 0.0094 - val_loss: 0.0208\n",
      "Epoch 210/300\n",
      "4/4 [==============================] - 0s 9ms/step - loss: 0.0094 - val_loss: 0.0208\n",
      "Epoch 211/300\n",
      "4/4 [==============================] - 0s 10ms/step - loss: 0.0094 - val_loss: 0.0209\n",
      "Epoch 212/300\n",
      "4/4 [==============================] - 0s 9ms/step - loss: 0.0094 - val_loss: 0.0209\n",
      "Epoch 213/300\n",
      "4/4 [==============================] - 0s 9ms/step - loss: 0.0094 - val_loss: 0.0210\n",
      "Epoch 214/300\n",
      "4/4 [==============================] - 0s 9ms/step - loss: 0.0094 - val_loss: 0.0210\n",
      "Epoch 215/300\n",
      "4/4 [==============================] - 0s 9ms/step - loss: 0.0094 - val_loss: 0.0211\n",
      "Epoch 216/300\n",
      "4/4 [==============================] - 0s 9ms/step - loss: 0.0094 - val_loss: 0.0211\n",
      "Epoch 217/300\n",
      "4/4 [==============================] - 0s 10ms/step - loss: 0.0093 - val_loss: 0.0212\n",
      "Epoch 218/300\n",
      "4/4 [==============================] - 0s 8ms/step - loss: 0.0093 - val_loss: 0.0212\n",
      "Epoch 219/300\n",
      "4/4 [==============================] - 0s 8ms/step - loss: 0.0093 - val_loss: 0.0213\n",
      "Epoch 220/300\n",
      "4/4 [==============================] - 0s 9ms/step - loss: 0.0093 - val_loss: 0.0213\n",
      "Epoch 221/300\n",
      "4/4 [==============================] - 0s 9ms/step - loss: 0.0093 - val_loss: 0.0214\n",
      "Epoch 222/300\n",
      "4/4 [==============================] - 0s 9ms/step - loss: 0.0093 - val_loss: 0.0214\n",
      "Epoch 223/300\n",
      "4/4 [==============================] - 0s 9ms/step - loss: 0.0093 - val_loss: 0.0215\n",
      "Epoch 224/300\n",
      "4/4 [==============================] - 0s 9ms/step - loss: 0.0093 - val_loss: 0.0215\n",
      "Epoch 225/300\n",
      "4/4 [==============================] - 0s 8ms/step - loss: 0.0093 - val_loss: 0.0216\n",
      "Epoch 226/300\n",
      "4/4 [==============================] - 0s 10ms/step - loss: 0.0093 - val_loss: 0.0216\n",
      "Epoch 227/300\n",
      "4/4 [==============================] - 0s 12ms/step - loss: 0.0093 - val_loss: 0.0217\n",
      "Epoch 228/300\n",
      "4/4 [==============================] - 0s 9ms/step - loss: 0.0093 - val_loss: 0.0217\n",
      "Epoch 229/300\n",
      "4/4 [==============================] - 0s 8ms/step - loss: 0.0093 - val_loss: 0.0218\n",
      "Epoch 230/300\n",
      "4/4 [==============================] - 0s 8ms/step - loss: 0.0093 - val_loss: 0.0219\n",
      "Epoch 231/300\n",
      "4/4 [==============================] - 0s 9ms/step - loss: 0.0093 - val_loss: 0.0219\n",
      "Epoch 232/300\n",
      "4/4 [==============================] - 0s 9ms/step - loss: 0.0093 - val_loss: 0.0220\n",
      "Epoch 233/300\n",
      "4/4 [==============================] - 0s 9ms/step - loss: 0.0092 - val_loss: 0.0220\n",
      "Epoch 234/300\n",
      "4/4 [==============================] - 0s 9ms/step - loss: 0.0092 - val_loss: 0.0221\n",
      "Epoch 235/300\n",
      "4/4 [==============================] - 0s 8ms/step - loss: 0.0092 - val_loss: 0.0221\n",
      "Epoch 236/300\n",
      "4/4 [==============================] - 0s 9ms/step - loss: 0.0092 - val_loss: 0.0222\n",
      "Epoch 237/300\n",
      "4/4 [==============================] - 0s 9ms/step - loss: 0.0092 - val_loss: 0.0222\n",
      "Epoch 238/300\n",
      "4/4 [==============================] - 0s 9ms/step - loss: 0.0092 - val_loss: 0.0223\n",
      "Epoch 239/300\n",
      "4/4 [==============================] - 0s 9ms/step - loss: 0.0092 - val_loss: 0.0223\n",
      "Epoch 240/300\n",
      "4/4 [==============================] - 0s 8ms/step - loss: 0.0092 - val_loss: 0.0224\n",
      "Epoch 241/300\n",
      "4/4 [==============================] - 0s 8ms/step - loss: 0.0092 - val_loss: 0.0225\n",
      "Epoch 242/300\n",
      "4/4 [==============================] - 0s 9ms/step - loss: 0.0092 - val_loss: 0.0225\n",
      "Epoch 243/300\n",
      "4/4 [==============================] - 0s 9ms/step - loss: 0.0092 - val_loss: 0.0226\n",
      "Epoch 244/300\n",
      "4/4 [==============================] - 0s 11ms/step - loss: 0.0092 - val_loss: 0.0226\n",
      "Epoch 245/300\n",
      "4/4 [==============================] - 0s 9ms/step - loss: 0.0092 - val_loss: 0.0227\n",
      "Epoch 246/300\n",
      "4/4 [==============================] - 0s 9ms/step - loss: 0.0092 - val_loss: 0.0228\n",
      "Epoch 247/300\n",
      "4/4 [==============================] - 0s 11ms/step - loss: 0.0092 - val_loss: 0.0228\n",
      "Epoch 248/300\n",
      "4/4 [==============================] - 0s 8ms/step - loss: 0.0092 - val_loss: 0.0229\n",
      "Epoch 249/300\n",
      "4/4 [==============================] - 0s 8ms/step - loss: 0.0092 - val_loss: 0.0229\n",
      "Epoch 250/300\n",
      "4/4 [==============================] - 0s 11ms/step - loss: 0.0091 - val_loss: 0.0230\n",
      "Epoch 251/300\n",
      "4/4 [==============================] - 0s 9ms/step - loss: 0.0091 - val_loss: 0.0231\n",
      "Epoch 252/300\n",
      "4/4 [==============================] - 0s 9ms/step - loss: 0.0091 - val_loss: 0.0231\n",
      "Epoch 253/300\n",
      "4/4 [==============================] - 0s 8ms/step - loss: 0.0091 - val_loss: 0.0232\n",
      "Epoch 254/300\n",
      "4/4 [==============================] - 0s 9ms/step - loss: 0.0091 - val_loss: 0.0232\n",
      "Epoch 255/300\n",
      "4/4 [==============================] - 0s 9ms/step - loss: 0.0091 - val_loss: 0.0233\n",
      "Epoch 256/300\n",
      "4/4 [==============================] - 0s 8ms/step - loss: 0.0091 - val_loss: 0.0234\n",
      "Epoch 257/300\n",
      "4/4 [==============================] - 0s 9ms/step - loss: 0.0091 - val_loss: 0.0234\n",
      "Epoch 258/300\n",
      "4/4 [==============================] - 0s 9ms/step - loss: 0.0091 - val_loss: 0.0235\n",
      "Epoch 259/300\n",
      "4/4 [==============================] - 0s 8ms/step - loss: 0.0091 - val_loss: 0.0236\n",
      "Epoch 260/300\n",
      "4/4 [==============================] - 0s 9ms/step - loss: 0.0091 - val_loss: 0.0236\n",
      "Epoch 261/300\n",
      "4/4 [==============================] - 0s 8ms/step - loss: 0.0091 - val_loss: 0.0237\n",
      "Epoch 262/300\n",
      "4/4 [==============================] - 0s 9ms/step - loss: 0.0091 - val_loss: 0.0238\n",
      "Epoch 263/300\n",
      "4/4 [==============================] - 0s 8ms/step - loss: 0.0091 - val_loss: 0.0238\n",
      "Epoch 264/300\n",
      "4/4 [==============================] - 0s 8ms/step - loss: 0.0091 - val_loss: 0.0239\n",
      "Epoch 265/300\n",
      "4/4 [==============================] - 0s 9ms/step - loss: 0.0091 - val_loss: 0.0240\n",
      "Epoch 266/300\n",
      "4/4 [==============================] - 0s 10ms/step - loss: 0.0090 - val_loss: 0.0240\n",
      "Epoch 267/300\n",
      "4/4 [==============================] - 0s 9ms/step - loss: 0.0090 - val_loss: 0.0241\n",
      "Epoch 268/300\n",
      "4/4 [==============================] - 0s 9ms/step - loss: 0.0090 - val_loss: 0.0242\n",
      "Epoch 269/300\n",
      "4/4 [==============================] - 0s 8ms/step - loss: 0.0090 - val_loss: 0.0242\n",
      "Epoch 270/300\n",
      "4/4 [==============================] - 0s 9ms/step - loss: 0.0090 - val_loss: 0.0243\n",
      "Epoch 271/300\n",
      "4/4 [==============================] - 0s 9ms/step - loss: 0.0090 - val_loss: 0.0244\n",
      "Epoch 272/300\n",
      "4/4 [==============================] - 0s 9ms/step - loss: 0.0090 - val_loss: 0.0244\n",
      "Epoch 273/300\n",
      "4/4 [==============================] - 0s 9ms/step - loss: 0.0090 - val_loss: 0.0245\n",
      "Epoch 274/300\n",
      "4/4 [==============================] - 0s 9ms/step - loss: 0.0090 - val_loss: 0.0246\n",
      "Epoch 275/300\n",
      "4/4 [==============================] - 0s 10ms/step - loss: 0.0090 - val_loss: 0.0247\n",
      "Epoch 276/300\n",
      "4/4 [==============================] - 0s 9ms/step - loss: 0.0090 - val_loss: 0.0247\n",
      "Epoch 277/300\n",
      "4/4 [==============================] - 0s 8ms/step - loss: 0.0090 - val_loss: 0.0248\n",
      "Epoch 278/300\n",
      "4/4 [==============================] - 0s 7ms/step - loss: 0.0090 - val_loss: 0.0249\n",
      "Epoch 279/300\n",
      "4/4 [==============================] - 0s 8ms/step - loss: 0.0090 - val_loss: 0.0249\n",
      "Epoch 280/300\n",
      "4/4 [==============================] - 0s 10ms/step - loss: 0.0090 - val_loss: 0.0250\n",
      "Epoch 281/300\n",
      "4/4 [==============================] - 0s 9ms/step - loss: 0.0090 - val_loss: 0.0251\n",
      "Epoch 282/300\n",
      "4/4 [==============================] - 0s 9ms/step - loss: 0.0089 - val_loss: 0.0252\n",
      "Epoch 283/300\n",
      "4/4 [==============================] - 0s 9ms/step - loss: 0.0089 - val_loss: 0.0252\n",
      "Epoch 284/300\n",
      "4/4 [==============================] - 0s 9ms/step - loss: 0.0089 - val_loss: 0.0253\n",
      "Epoch 285/300\n",
      "4/4 [==============================] - 0s 8ms/step - loss: 0.0089 - val_loss: 0.0254\n",
      "Epoch 286/300\n",
      "4/4 [==============================] - 0s 14ms/step - loss: 0.0089 - val_loss: 0.0255\n",
      "Epoch 287/300\n",
      "4/4 [==============================] - 0s 8ms/step - loss: 0.0089 - val_loss: 0.0255\n",
      "Epoch 288/300\n",
      "4/4 [==============================] - 0s 8ms/step - loss: 0.0089 - val_loss: 0.0256\n",
      "Epoch 289/300\n",
      "4/4 [==============================] - 0s 9ms/step - loss: 0.0089 - val_loss: 0.0257\n",
      "Epoch 290/300\n",
      "4/4 [==============================] - 0s 7ms/step - loss: 0.0089 - val_loss: 0.0258\n",
      "Epoch 291/300\n",
      "4/4 [==============================] - 0s 7ms/step - loss: 0.0089 - val_loss: 0.0259\n",
      "Epoch 292/300\n",
      "4/4 [==============================] - 0s 11ms/step - loss: 0.0089 - val_loss: 0.0259\n",
      "Epoch 293/300\n",
      "4/4 [==============================] - 0s 10ms/step - loss: 0.0089 - val_loss: 0.0260\n",
      "Epoch 294/300\n",
      "4/4 [==============================] - 0s 9ms/step - loss: 0.0089 - val_loss: 0.0261\n",
      "Epoch 295/300\n",
      "4/4 [==============================] - 0s 8ms/step - loss: 0.0089 - val_loss: 0.0262\n",
      "Epoch 296/300\n",
      "4/4 [==============================] - 0s 8ms/step - loss: 0.0089 - val_loss: 0.0263\n",
      "Epoch 297/300\n",
      "4/4 [==============================] - 0s 10ms/step - loss: 0.0089 - val_loss: 0.0263\n",
      "Epoch 298/300\n",
      "4/4 [==============================] - 0s 6ms/step - loss: 0.0089 - val_loss: 0.0264\n",
      "Epoch 299/300\n",
      "4/4 [==============================] - 0s 10ms/step - loss: 0.0088 - val_loss: 0.0265\n",
      "Epoch 300/300\n",
      "4/4 [==============================] - 0s 8ms/step - loss: 0.0088 - val_loss: 0.0266\n",
      "Test Score: 67.910 RMSE\n",
      "Test Score: 4611.777 MSE\n",
      "Test Score: 46.401 MAE\n",
      "Test Score: 3.737 MAPE\n",
      "Epoch 1/300\n",
      "4/4 [==============================] - 0s 20ms/step - loss: 0.0114 - val_loss: 0.0288\n",
      "Epoch 2/300\n",
      "4/4 [==============================] - 0s 10ms/step - loss: 0.0111 - val_loss: 0.0279\n",
      "Epoch 3/300\n",
      "4/4 [==============================] - 0s 8ms/step - loss: 0.0114 - val_loss: 0.0256\n",
      "Epoch 4/300\n",
      "4/4 [==============================] - 0s 9ms/step - loss: 0.0107 - val_loss: 0.0253\n",
      "Epoch 5/300\n",
      "4/4 [==============================] - 0s 11ms/step - loss: 0.0103 - val_loss: 0.0265\n",
      "Epoch 6/300\n",
      "4/4 [==============================] - 0s 9ms/step - loss: 0.0105 - val_loss: 0.0259\n",
      "Epoch 7/300\n",
      "4/4 [==============================] - 0s 11ms/step - loss: 0.0105 - val_loss: 0.0247\n",
      "Epoch 8/300\n",
      "4/4 [==============================] - 0s 9ms/step - loss: 0.0102 - val_loss: 0.0258\n",
      "Epoch 9/300\n",
      "4/4 [==============================] - 0s 8ms/step - loss: 0.0101 - val_loss: 0.0265\n",
      "Epoch 10/300\n",
      "4/4 [==============================] - 0s 8ms/step - loss: 0.0102 - val_loss: 0.0254\n",
      "Epoch 11/300\n",
      "4/4 [==============================] - 0s 9ms/step - loss: 0.0101 - val_loss: 0.0255\n",
      "Epoch 12/300\n",
      "4/4 [==============================] - 0s 10ms/step - loss: 0.0100 - val_loss: 0.0263\n",
      "Epoch 13/300\n",
      "4/4 [==============================] - 0s 9ms/step - loss: 0.0100 - val_loss: 0.0260\n",
      "Epoch 14/300\n",
      "4/4 [==============================] - 0s 7ms/step - loss: 0.0100 - val_loss: 0.0259\n",
      "Epoch 15/300\n",
      "4/4 [==============================] - 0s 8ms/step - loss: 0.0099 - val_loss: 0.0264\n",
      "Epoch 16/300\n",
      "4/4 [==============================] - 0s 8ms/step - loss: 0.0100 - val_loss: 0.0264\n",
      "Epoch 17/300\n",
      "4/4 [==============================] - 0s 11ms/step - loss: 0.0099 - val_loss: 0.0263\n",
      "Epoch 18/300\n",
      "4/4 [==============================] - 0s 11ms/step - loss: 0.0099 - val_loss: 0.0266\n",
      "Epoch 19/300\n",
      "4/4 [==============================] - 0s 9ms/step - loss: 0.0099 - val_loss: 0.0267\n",
      "Epoch 20/300\n",
      "4/4 [==============================] - 0s 10ms/step - loss: 0.0099 - val_loss: 0.0266\n",
      "Epoch 21/300\n",
      "4/4 [==============================] - 0s 7ms/step - loss: 0.0099 - val_loss: 0.0266\n",
      "Epoch 22/300\n",
      "4/4 [==============================] - 0s 9ms/step - loss: 0.0098 - val_loss: 0.0268\n",
      "Epoch 23/300\n",
      "4/4 [==============================] - 0s 8ms/step - loss: 0.0098 - val_loss: 0.0268\n",
      "Epoch 24/300\n",
      "4/4 [==============================] - 0s 12ms/step - loss: 0.0098 - val_loss: 0.0268\n",
      "Epoch 25/300\n",
      "4/4 [==============================] - 0s 9ms/step - loss: 0.0098 - val_loss: 0.0269\n",
      "Epoch 26/300\n",
      "4/4 [==============================] - 0s 10ms/step - loss: 0.0098 - val_loss: 0.0270\n",
      "Epoch 27/300\n",
      "4/4 [==============================] - 0s 8ms/step - loss: 0.0098 - val_loss: 0.0269\n",
      "Epoch 28/300\n",
      "4/4 [==============================] - 0s 9ms/step - loss: 0.0098 - val_loss: 0.0269\n",
      "Epoch 29/300\n",
      "4/4 [==============================] - 0s 8ms/step - loss: 0.0097 - val_loss: 0.0270\n",
      "Epoch 30/300\n",
      "4/4 [==============================] - 0s 9ms/step - loss: 0.0097 - val_loss: 0.0271\n",
      "Epoch 31/300\n",
      "4/4 [==============================] - 0s 12ms/step - loss: 0.0097 - val_loss: 0.0270\n",
      "Epoch 32/300\n",
      "4/4 [==============================] - 0s 10ms/step - loss: 0.0097 - val_loss: 0.0271\n",
      "Epoch 33/300\n",
      "4/4 [==============================] - 0s 8ms/step - loss: 0.0097 - val_loss: 0.0271\n",
      "Epoch 34/300\n",
      "4/4 [==============================] - 0s 5ms/step - loss: 0.0097 - val_loss: 0.0272\n",
      "Epoch 35/300\n",
      "4/4 [==============================] - 0s 8ms/step - loss: 0.0097 - val_loss: 0.0271\n",
      "Epoch 36/300\n",
      "4/4 [==============================] - 0s 11ms/step - loss: 0.0097 - val_loss: 0.0272\n",
      "Epoch 37/300\n",
      "4/4 [==============================] - 0s 10ms/step - loss: 0.0097 - val_loss: 0.0273\n",
      "Epoch 38/300\n",
      "4/4 [==============================] - 0s 8ms/step - loss: 0.0097 - val_loss: 0.0272\n",
      "Epoch 39/300\n",
      "4/4 [==============================] - 0s 11ms/step - loss: 0.0097 - val_loss: 0.0273\n",
      "Epoch 40/300\n",
      "4/4 [==============================] - 0s 8ms/step - loss: 0.0096 - val_loss: 0.0273\n",
      "Epoch 41/300\n",
      "4/4 [==============================] - 0s 8ms/step - loss: 0.0096 - val_loss: 0.0273\n",
      "Epoch 42/300\n",
      "4/4 [==============================] - 0s 5ms/step - loss: 0.0096 - val_loss: 0.0273\n",
      "Epoch 43/300\n",
      "4/4 [==============================] - 0s 8ms/step - loss: 0.0096 - val_loss: 0.0274\n",
      "Epoch 44/300\n",
      "4/4 [==============================] - 0s 8ms/step - loss: 0.0096 - val_loss: 0.0274\n",
      "Epoch 45/300\n",
      "4/4 [==============================] - 0s 8ms/step - loss: 0.0096 - val_loss: 0.0274\n",
      "Epoch 46/300\n",
      "4/4 [==============================] - 0s 8ms/step - loss: 0.0096 - val_loss: 0.0274\n",
      "Epoch 47/300\n",
      "4/4 [==============================] - 0s 8ms/step - loss: 0.0096 - val_loss: 0.0275\n",
      "Epoch 48/300\n",
      "4/4 [==============================] - 0s 11ms/step - loss: 0.0096 - val_loss: 0.0275\n",
      "Epoch 49/300\n",
      "4/4 [==============================] - 0s 11ms/step - loss: 0.0096 - val_loss: 0.0275\n",
      "Epoch 50/300\n",
      "4/4 [==============================] - 0s 11ms/step - loss: 0.0096 - val_loss: 0.0275\n",
      "Epoch 51/300\n",
      "4/4 [==============================] - 0s 10ms/step - loss: 0.0096 - val_loss: 0.0276\n",
      "Epoch 52/300\n",
      "4/4 [==============================] - 0s 8ms/step - loss: 0.0096 - val_loss: 0.0276\n",
      "Epoch 53/300\n",
      "4/4 [==============================] - 0s 7ms/step - loss: 0.0095 - val_loss: 0.0276\n",
      "Epoch 54/300\n",
      "4/4 [==============================] - 0s 10ms/step - loss: 0.0095 - val_loss: 0.0276\n",
      "Epoch 55/300\n",
      "4/4 [==============================] - 0s 9ms/step - loss: 0.0095 - val_loss: 0.0276\n",
      "Epoch 56/300\n",
      "4/4 [==============================] - 0s 9ms/step - loss: 0.0095 - val_loss: 0.0277\n",
      "Epoch 57/300\n",
      "4/4 [==============================] - 0s 11ms/step - loss: 0.0095 - val_loss: 0.0277\n",
      "Epoch 58/300\n",
      "4/4 [==============================] - 0s 10ms/step - loss: 0.0095 - val_loss: 0.0277\n",
      "Epoch 59/300\n",
      "4/4 [==============================] - 0s 7ms/step - loss: 0.0095 - val_loss: 0.0277\n",
      "Epoch 60/300\n",
      "4/4 [==============================] - 0s 9ms/step - loss: 0.0095 - val_loss: 0.0277\n",
      "Epoch 61/300\n",
      "4/4 [==============================] - 0s 11ms/step - loss: 0.0095 - val_loss: 0.0278\n",
      "Epoch 62/300\n",
      "4/4 [==============================] - 0s 8ms/step - loss: 0.0095 - val_loss: 0.0278\n",
      "Epoch 63/300\n",
      "4/4 [==============================] - 0s 8ms/step - loss: 0.0095 - val_loss: 0.0278\n",
      "Epoch 64/300\n",
      "4/4 [==============================] - 0s 11ms/step - loss: 0.0095 - val_loss: 0.0278\n",
      "Epoch 65/300\n",
      "4/4 [==============================] - 0s 10ms/step - loss: 0.0095 - val_loss: 0.0278\n",
      "Epoch 66/300\n",
      "4/4 [==============================] - 0s 8ms/step - loss: 0.0095 - val_loss: 0.0279\n",
      "Epoch 67/300\n",
      "4/4 [==============================] - 0s 10ms/step - loss: 0.0094 - val_loss: 0.0279\n",
      "Epoch 68/300\n",
      "4/4 [==============================] - 0s 11ms/step - loss: 0.0094 - val_loss: 0.0279\n",
      "Epoch 69/300\n",
      "4/4 [==============================] - 0s 11ms/step - loss: 0.0094 - val_loss: 0.0279\n",
      "Epoch 70/300\n",
      "4/4 [==============================] - 0s 9ms/step - loss: 0.0094 - val_loss: 0.0279\n",
      "Epoch 71/300\n",
      "4/4 [==============================] - 0s 9ms/step - loss: 0.0094 - val_loss: 0.0279\n",
      "Epoch 72/300\n",
      "4/4 [==============================] - 0s 8ms/step - loss: 0.0094 - val_loss: 0.0280\n",
      "Epoch 73/300\n",
      "4/4 [==============================] - 0s 8ms/step - loss: 0.0094 - val_loss: 0.0280\n",
      "Epoch 74/300\n",
      "4/4 [==============================] - 0s 11ms/step - loss: 0.0094 - val_loss: 0.0280\n",
      "Epoch 75/300\n",
      "4/4 [==============================] - 0s 7ms/step - loss: 0.0094 - val_loss: 0.0280\n",
      "Epoch 76/300\n",
      "4/4 [==============================] - 0s 8ms/step - loss: 0.0094 - val_loss: 0.0280\n",
      "Epoch 77/300\n",
      "4/4 [==============================] - 0s 6ms/step - loss: 0.0094 - val_loss: 0.0280\n",
      "Epoch 78/300\n",
      "4/4 [==============================] - 0s 11ms/step - loss: 0.0094 - val_loss: 0.0281\n",
      "Epoch 79/300\n",
      "4/4 [==============================] - 0s 9ms/step - loss: 0.0094 - val_loss: 0.0281\n",
      "Epoch 80/300\n",
      "4/4 [==============================] - 0s 7ms/step - loss: 0.0094 - val_loss: 0.0281\n",
      "Epoch 81/300\n",
      "4/4 [==============================] - 0s 8ms/step - loss: 0.0094 - val_loss: 0.0281\n",
      "Epoch 82/300\n",
      "4/4 [==============================] - 0s 9ms/step - loss: 0.0094 - val_loss: 0.0281\n",
      "Epoch 83/300\n",
      "4/4 [==============================] - 0s 12ms/step - loss: 0.0093 - val_loss: 0.0281\n",
      "Epoch 84/300\n",
      "4/4 [==============================] - 0s 8ms/step - loss: 0.0093 - val_loss: 0.0282\n",
      "Epoch 85/300\n",
      "4/4 [==============================] - 0s 10ms/step - loss: 0.0093 - val_loss: 0.0282\n",
      "Epoch 86/300\n",
      "4/4 [==============================] - 0s 9ms/step - loss: 0.0093 - val_loss: 0.0282\n",
      "Epoch 87/300\n",
      "4/4 [==============================] - 0s 8ms/step - loss: 0.0093 - val_loss: 0.0282\n",
      "Epoch 88/300\n",
      "4/4 [==============================] - 0s 10ms/step - loss: 0.0093 - val_loss: 0.0282\n",
      "Epoch 89/300\n",
      "4/4 [==============================] - 0s 8ms/step - loss: 0.0093 - val_loss: 0.0282\n",
      "Epoch 90/300\n",
      "4/4 [==============================] - 0s 12ms/step - loss: 0.0093 - val_loss: 0.0283\n",
      "Epoch 91/300\n",
      "4/4 [==============================] - 0s 10ms/step - loss: 0.0093 - val_loss: 0.0283\n",
      "Epoch 92/300\n",
      "4/4 [==============================] - 0s 10ms/step - loss: 0.0093 - val_loss: 0.0283\n",
      "Epoch 93/300\n",
      "4/4 [==============================] - 0s 7ms/step - loss: 0.0093 - val_loss: 0.0283\n",
      "Epoch 94/300\n",
      "4/4 [==============================] - 0s 10ms/step - loss: 0.0093 - val_loss: 0.0283\n",
      "Epoch 95/300\n",
      "4/4 [==============================] - 0s 6ms/step - loss: 0.0093 - val_loss: 0.0283\n",
      "Epoch 96/300\n",
      "4/4 [==============================] - 0s 9ms/step - loss: 0.0093 - val_loss: 0.0283\n",
      "Epoch 97/300\n",
      "4/4 [==============================] - 0s 11ms/step - loss: 0.0093 - val_loss: 0.0284\n",
      "Epoch 98/300\n",
      "4/4 [==============================] - 0s 11ms/step - loss: 0.0093 - val_loss: 0.0284\n",
      "Epoch 99/300\n",
      "4/4 [==============================] - 0s 11ms/step - loss: 0.0093 - val_loss: 0.0284\n",
      "Epoch 100/300\n",
      "4/4 [==============================] - 0s 9ms/step - loss: 0.0092 - val_loss: 0.0284\n",
      "Epoch 101/300\n",
      "4/4 [==============================] - 0s 11ms/step - loss: 0.0092 - val_loss: 0.0284\n",
      "Epoch 102/300\n",
      "4/4 [==============================] - 0s 8ms/step - loss: 0.0092 - val_loss: 0.0284\n",
      "Epoch 103/300\n",
      "4/4 [==============================] - 0s 11ms/step - loss: 0.0092 - val_loss: 0.0284\n",
      "Epoch 104/300\n",
      "4/4 [==============================] - 0s 10ms/step - loss: 0.0092 - val_loss: 0.0285\n",
      "Epoch 105/300\n",
      "4/4 [==============================] - 0s 11ms/step - loss: 0.0092 - val_loss: 0.0285\n",
      "Epoch 106/300\n",
      "4/4 [==============================] - 0s 8ms/step - loss: 0.0092 - val_loss: 0.0285\n",
      "Epoch 107/300\n",
      "4/4 [==============================] - 0s 8ms/step - loss: 0.0092 - val_loss: 0.0285\n",
      "Epoch 108/300\n",
      "4/4 [==============================] - 0s 5ms/step - loss: 0.0092 - val_loss: 0.0285\n",
      "Epoch 109/300\n",
      "4/4 [==============================] - 0s 8ms/step - loss: 0.0092 - val_loss: 0.0285\n",
      "Epoch 110/300\n",
      "4/4 [==============================] - 0s 12ms/step - loss: 0.0092 - val_loss: 0.0286\n",
      "Epoch 111/300\n",
      "4/4 [==============================] - 0s 8ms/step - loss: 0.0092 - val_loss: 0.0286\n",
      "Epoch 112/300\n",
      "4/4 [==============================] - 0s 8ms/step - loss: 0.0092 - val_loss: 0.0286\n",
      "Epoch 113/300\n",
      "4/4 [==============================] - 0s 10ms/step - loss: 0.0092 - val_loss: 0.0286\n",
      "Epoch 114/300\n",
      "4/4 [==============================] - 0s 10ms/step - loss: 0.0092 - val_loss: 0.0286\n",
      "Epoch 115/300\n",
      "4/4 [==============================] - 0s 6ms/step - loss: 0.0092 - val_loss: 0.0286\n",
      "Epoch 116/300\n",
      "4/4 [==============================] - 0s 6ms/step - loss: 0.0092 - val_loss: 0.0286\n",
      "Epoch 117/300\n",
      "4/4 [==============================] - 0s 8ms/step - loss: 0.0092 - val_loss: 0.0286\n",
      "Epoch 118/300\n",
      "4/4 [==============================] - 0s 12ms/step - loss: 0.0091 - val_loss: 0.0287\n",
      "Epoch 119/300\n",
      "4/4 [==============================] - 0s 10ms/step - loss: 0.0091 - val_loss: 0.0287\n",
      "Epoch 120/300\n",
      "4/4 [==============================] - 0s 9ms/step - loss: 0.0091 - val_loss: 0.0287\n",
      "Epoch 121/300\n",
      "4/4 [==============================] - 0s 8ms/step - loss: 0.0091 - val_loss: 0.0287\n",
      "Epoch 122/300\n",
      "4/4 [==============================] - 0s 9ms/step - loss: 0.0091 - val_loss: 0.0287\n",
      "Epoch 123/300\n",
      "4/4 [==============================] - 0s 9ms/step - loss: 0.0091 - val_loss: 0.0287\n",
      "Epoch 124/300\n",
      "4/4 [==============================] - 0s 8ms/step - loss: 0.0091 - val_loss: 0.0287\n",
      "Epoch 125/300\n",
      "4/4 [==============================] - 0s 9ms/step - loss: 0.0091 - val_loss: 0.0288\n",
      "Epoch 126/300\n",
      "4/4 [==============================] - 0s 9ms/step - loss: 0.0091 - val_loss: 0.0288\n",
      "Epoch 127/300\n",
      "4/4 [==============================] - 0s 10ms/step - loss: 0.0091 - val_loss: 0.0288\n",
      "Epoch 128/300\n",
      "4/4 [==============================] - 0s 9ms/step - loss: 0.0091 - val_loss: 0.0288\n",
      "Epoch 129/300\n",
      "4/4 [==============================] - 0s 9ms/step - loss: 0.0091 - val_loss: 0.0288\n",
      "Epoch 130/300\n",
      "4/4 [==============================] - 0s 10ms/step - loss: 0.0091 - val_loss: 0.0288\n",
      "Epoch 131/300\n",
      "4/4 [==============================] - 0s 10ms/step - loss: 0.0091 - val_loss: 0.0288\n",
      "Epoch 132/300\n",
      "4/4 [==============================] - 0s 9ms/step - loss: 0.0091 - val_loss: 0.0289\n",
      "Epoch 133/300\n",
      "4/4 [==============================] - 0s 9ms/step - loss: 0.0091 - val_loss: 0.0289\n",
      "Epoch 134/300\n",
      "4/4 [==============================] - 0s 10ms/step - loss: 0.0091 - val_loss: 0.0289\n",
      "Epoch 135/300\n",
      "4/4 [==============================] - 0s 11ms/step - loss: 0.0091 - val_loss: 0.0289\n",
      "Epoch 136/300\n",
      "4/4 [==============================] - 0s 11ms/step - loss: 0.0090 - val_loss: 0.0289\n",
      "Epoch 137/300\n",
      "4/4 [==============================] - 0s 8ms/step - loss: 0.0090 - val_loss: 0.0289\n",
      "Epoch 138/300\n",
      "4/4 [==============================] - 0s 10ms/step - loss: 0.0090 - val_loss: 0.0289\n",
      "Epoch 139/300\n",
      "4/4 [==============================] - 0s 11ms/step - loss: 0.0090 - val_loss: 0.0290\n",
      "Epoch 140/300\n",
      "4/4 [==============================] - 0s 10ms/step - loss: 0.0090 - val_loss: 0.0290\n",
      "Epoch 141/300\n",
      "4/4 [==============================] - 0s 13ms/step - loss: 0.0090 - val_loss: 0.0290\n",
      "Epoch 142/300\n",
      "4/4 [==============================] - 0s 11ms/step - loss: 0.0090 - val_loss: 0.0290\n",
      "Epoch 143/300\n",
      "4/4 [==============================] - 0s 10ms/step - loss: 0.0090 - val_loss: 0.0290\n",
      "Epoch 144/300\n",
      "4/4 [==============================] - 0s 8ms/step - loss: 0.0090 - val_loss: 0.0290\n",
      "Epoch 145/300\n",
      "4/4 [==============================] - 0s 11ms/step - loss: 0.0090 - val_loss: 0.0290\n",
      "Epoch 146/300\n",
      "4/4 [==============================] - 0s 9ms/step - loss: 0.0090 - val_loss: 0.0291\n",
      "Epoch 147/300\n",
      "4/4 [==============================] - 0s 9ms/step - loss: 0.0090 - val_loss: 0.0291\n",
      "Epoch 148/300\n",
      "4/4 [==============================] - 0s 9ms/step - loss: 0.0090 - val_loss: 0.0291\n",
      "Epoch 149/300\n",
      "4/4 [==============================] - 0s 10ms/step - loss: 0.0090 - val_loss: 0.0291\n",
      "Epoch 150/300\n",
      "4/4 [==============================] - 0s 11ms/step - loss: 0.0090 - val_loss: 0.0291\n",
      "Epoch 151/300\n",
      "4/4 [==============================] - 0s 10ms/step - loss: 0.0090 - val_loss: 0.0291\n",
      "Epoch 152/300\n",
      "4/4 [==============================] - 0s 10ms/step - loss: 0.0090 - val_loss: 0.0291\n",
      "Epoch 153/300\n",
      "4/4 [==============================] - 0s 9ms/step - loss: 0.0090 - val_loss: 0.0291\n",
      "Epoch 154/300\n",
      "4/4 [==============================] - 0s 11ms/step - loss: 0.0089 - val_loss: 0.0292\n",
      "Epoch 155/300\n",
      "4/4 [==============================] - 0s 9ms/step - loss: 0.0089 - val_loss: 0.0292\n",
      "Epoch 156/300\n",
      "4/4 [==============================] - 0s 7ms/step - loss: 0.0089 - val_loss: 0.0292\n",
      "Epoch 157/300\n",
      "4/4 [==============================] - 0s 11ms/step - loss: 0.0089 - val_loss: 0.0292\n",
      "Epoch 158/300\n",
      "4/4 [==============================] - 0s 9ms/step - loss: 0.0089 - val_loss: 0.0292\n",
      "Epoch 159/300\n",
      "4/4 [==============================] - 0s 9ms/step - loss: 0.0089 - val_loss: 0.0292\n",
      "Epoch 160/300\n",
      "4/4 [==============================] - 0s 8ms/step - loss: 0.0089 - val_loss: 0.0292\n",
      "Epoch 161/300\n",
      "4/4 [==============================] - 0s 8ms/step - loss: 0.0089 - val_loss: 0.0293\n",
      "Epoch 162/300\n",
      "4/4 [==============================] - 0s 8ms/step - loss: 0.0089 - val_loss: 0.0293\n",
      "Epoch 163/300\n",
      "4/4 [==============================] - 0s 9ms/step - loss: 0.0089 - val_loss: 0.0293\n",
      "Epoch 164/300\n",
      "4/4 [==============================] - 0s 7ms/step - loss: 0.0089 - val_loss: 0.0293\n",
      "Epoch 165/300\n",
      "4/4 [==============================] - 0s 7ms/step - loss: 0.0089 - val_loss: 0.0293\n",
      "Epoch 166/300\n",
      "4/4 [==============================] - 0s 10ms/step - loss: 0.0089 - val_loss: 0.0293\n",
      "Epoch 167/300\n",
      "4/4 [==============================] - 0s 6ms/step - loss: 0.0089 - val_loss: 0.0293\n",
      "Epoch 168/300\n",
      "4/4 [==============================] - 0s 9ms/step - loss: 0.0089 - val_loss: 0.0294\n",
      "Epoch 169/300\n",
      "4/4 [==============================] - 0s 11ms/step - loss: 0.0089 - val_loss: 0.0294\n",
      "Epoch 170/300\n",
      "4/4 [==============================] - 0s 8ms/step - loss: 0.0089 - val_loss: 0.0294\n",
      "Epoch 171/300\n",
      "4/4 [==============================] - 0s 8ms/step - loss: 0.0089 - val_loss: 0.0294\n",
      "Epoch 172/300\n",
      "4/4 [==============================] - 0s 8ms/step - loss: 0.0088 - val_loss: 0.0294\n",
      "Epoch 173/300\n",
      "4/4 [==============================] - 0s 8ms/step - loss: 0.0088 - val_loss: 0.0294\n",
      "Epoch 174/300\n",
      "4/4 [==============================] - 0s 10ms/step - loss: 0.0088 - val_loss: 0.0294\n",
      "Epoch 175/300\n",
      "4/4 [==============================] - 0s 7ms/step - loss: 0.0088 - val_loss: 0.0295\n",
      "Epoch 176/300\n",
      "4/4 [==============================] - 0s 8ms/step - loss: 0.0088 - val_loss: 0.0295\n",
      "Epoch 177/300\n",
      "4/4 [==============================] - 0s 8ms/step - loss: 0.0088 - val_loss: 0.0295\n",
      "Epoch 178/300\n",
      "4/4 [==============================] - 0s 9ms/step - loss: 0.0088 - val_loss: 0.0295\n",
      "Epoch 179/300\n",
      "4/4 [==============================] - 0s 10ms/step - loss: 0.0088 - val_loss: 0.0295\n",
      "Epoch 180/300\n",
      "4/4 [==============================] - 0s 10ms/step - loss: 0.0088 - val_loss: 0.0295\n",
      "Epoch 181/300\n",
      "4/4 [==============================] - 0s 8ms/step - loss: 0.0088 - val_loss: 0.0295\n",
      "Epoch 182/300\n",
      "4/4 [==============================] - 0s 8ms/step - loss: 0.0088 - val_loss: 0.0296\n",
      "Epoch 183/300\n",
      "4/4 [==============================] - 0s 5ms/step - loss: 0.0088 - val_loss: 0.0296\n",
      "Epoch 184/300\n",
      "4/4 [==============================] - 0s 10ms/step - loss: 0.0088 - val_loss: 0.0296\n",
      "Epoch 185/300\n",
      "4/4 [==============================] - 0s 13ms/step - loss: 0.0088 - val_loss: 0.0296\n",
      "Epoch 186/300\n",
      "4/4 [==============================] - 0s 8ms/step - loss: 0.0088 - val_loss: 0.0296\n",
      "Epoch 187/300\n",
      "4/4 [==============================] - 0s 9ms/step - loss: 0.0088 - val_loss: 0.0296\n",
      "Epoch 188/300\n",
      "4/4 [==============================] - 0s 8ms/step - loss: 0.0088 - val_loss: 0.0296\n",
      "Epoch 189/300\n",
      "4/4 [==============================] - 0s 11ms/step - loss: 0.0088 - val_loss: 0.0297\n",
      "Epoch 190/300\n",
      "4/4 [==============================] - 0s 13ms/step - loss: 0.0087 - val_loss: 0.0297\n",
      "Epoch 191/300\n",
      "4/4 [==============================] - 0s 6ms/step - loss: 0.0087 - val_loss: 0.0297\n",
      "Epoch 192/300\n",
      "4/4 [==============================] - 0s 10ms/step - loss: 0.0087 - val_loss: 0.0297\n",
      "Epoch 193/300\n",
      "4/4 [==============================] - 0s 10ms/step - loss: 0.0087 - val_loss: 0.0297\n",
      "Epoch 194/300\n",
      "4/4 [==============================] - 0s 8ms/step - loss: 0.0087 - val_loss: 0.0297\n",
      "Epoch 195/300\n",
      "4/4 [==============================] - 0s 8ms/step - loss: 0.0087 - val_loss: 0.0297\n",
      "Epoch 196/300\n",
      "4/4 [==============================] - 0s 10ms/step - loss: 0.0087 - val_loss: 0.0298\n",
      "Epoch 197/300\n",
      "4/4 [==============================] - 0s 12ms/step - loss: 0.0087 - val_loss: 0.0298\n",
      "Epoch 198/300\n",
      "4/4 [==============================] - 0s 8ms/step - loss: 0.0087 - val_loss: 0.0298\n",
      "Epoch 199/300\n",
      "4/4 [==============================] - 0s 9ms/step - loss: 0.0087 - val_loss: 0.0298\n",
      "Epoch 200/300\n",
      "4/4 [==============================] - 0s 11ms/step - loss: 0.0087 - val_loss: 0.0298\n",
      "Epoch 201/300\n",
      "4/4 [==============================] - 0s 11ms/step - loss: 0.0087 - val_loss: 0.0298\n",
      "Epoch 202/300\n",
      "4/4 [==============================] - 0s 7ms/step - loss: 0.0087 - val_loss: 0.0298\n",
      "Epoch 203/300\n",
      "4/4 [==============================] - 0s 7ms/step - loss: 0.0087 - val_loss: 0.0299\n",
      "Epoch 204/300\n",
      "4/4 [==============================] - 0s 9ms/step - loss: 0.0087 - val_loss: 0.0299\n",
      "Epoch 205/300\n",
      "4/4 [==============================] - 0s 11ms/step - loss: 0.0087 - val_loss: 0.0299\n",
      "Epoch 206/300\n",
      "4/4 [==============================] - 0s 8ms/step - loss: 0.0087 - val_loss: 0.0299\n",
      "Epoch 207/300\n",
      "4/4 [==============================] - 0s 8ms/step - loss: 0.0087 - val_loss: 0.0299\n",
      "Epoch 208/300\n",
      "4/4 [==============================] - 0s 10ms/step - loss: 0.0086 - val_loss: 0.0299\n",
      "Epoch 209/300\n",
      "4/4 [==============================] - 0s 8ms/step - loss: 0.0086 - val_loss: 0.0300\n",
      "Epoch 210/300\n",
      "4/4 [==============================] - 0s 9ms/step - loss: 0.0086 - val_loss: 0.0300\n",
      "Epoch 211/300\n",
      "4/4 [==============================] - 0s 12ms/step - loss: 0.0086 - val_loss: 0.0300\n",
      "Epoch 212/300\n",
      "4/4 [==============================] - 0s 6ms/step - loss: 0.0086 - val_loss: 0.0300\n",
      "Epoch 213/300\n",
      "4/4 [==============================] - 0s 10ms/step - loss: 0.0086 - val_loss: 0.0300\n",
      "Epoch 214/300\n",
      "4/4 [==============================] - 0s 10ms/step - loss: 0.0086 - val_loss: 0.0300\n",
      "Epoch 215/300\n",
      "4/4 [==============================] - 0s 9ms/step - loss: 0.0086 - val_loss: 0.0300\n",
      "Epoch 216/300\n",
      "4/4 [==============================] - 0s 11ms/step - loss: 0.0086 - val_loss: 0.0301\n",
      "Epoch 217/300\n",
      "4/4 [==============================] - 0s 8ms/step - loss: 0.0086 - val_loss: 0.0301\n",
      "Epoch 218/300\n",
      "4/4 [==============================] - 0s 9ms/step - loss: 0.0086 - val_loss: 0.0301\n",
      "Epoch 219/300\n",
      "4/4 [==============================] - 0s 10ms/step - loss: 0.0086 - val_loss: 0.0301\n",
      "Epoch 220/300\n",
      "4/4 [==============================] - 0s 7ms/step - loss: 0.0086 - val_loss: 0.0301\n",
      "Epoch 221/300\n",
      "4/4 [==============================] - 0s 9ms/step - loss: 0.0086 - val_loss: 0.0301\n",
      "Epoch 222/300\n",
      "4/4 [==============================] - 0s 8ms/step - loss: 0.0086 - val_loss: 0.0302\n",
      "Epoch 223/300\n",
      "4/4 [==============================] - 0s 8ms/step - loss: 0.0086 - val_loss: 0.0302\n",
      "Epoch 224/300\n",
      "4/4 [==============================] - 0s 8ms/step - loss: 0.0086 - val_loss: 0.0302\n",
      "Epoch 225/300\n",
      "4/4 [==============================] - 0s 5ms/step - loss: 0.0086 - val_loss: 0.0302\n",
      "Epoch 226/300\n",
      "4/4 [==============================] - 0s 10ms/step - loss: 0.0086 - val_loss: 0.0302\n",
      "Epoch 227/300\n",
      "4/4 [==============================] - 0s 10ms/step - loss: 0.0085 - val_loss: 0.0302\n",
      "Epoch 228/300\n",
      "4/4 [==============================] - 0s 11ms/step - loss: 0.0085 - val_loss: 0.0302\n",
      "Epoch 229/300\n",
      "4/4 [==============================] - 0s 8ms/step - loss: 0.0085 - val_loss: 0.0303\n",
      "Epoch 230/300\n",
      "4/4 [==============================] - 0s 6ms/step - loss: 0.0085 - val_loss: 0.0303\n",
      "Epoch 231/300\n",
      "4/4 [==============================] - 0s 9ms/step - loss: 0.0085 - val_loss: 0.0303\n",
      "Epoch 232/300\n",
      "4/4 [==============================] - 0s 11ms/step - loss: 0.0085 - val_loss: 0.0303\n",
      "Epoch 233/300\n",
      "4/4 [==============================] - 0s 8ms/step - loss: 0.0085 - val_loss: 0.0303\n",
      "Epoch 234/300\n",
      "4/4 [==============================] - 0s 7ms/step - loss: 0.0085 - val_loss: 0.0303\n",
      "Epoch 235/300\n",
      "4/4 [==============================] - 0s 8ms/step - loss: 0.0085 - val_loss: 0.0304\n",
      "Epoch 236/300\n",
      "4/4 [==============================] - 0s 10ms/step - loss: 0.0085 - val_loss: 0.0304\n",
      "Epoch 237/300\n",
      "4/4 [==============================] - 0s 8ms/step - loss: 0.0085 - val_loss: 0.0304\n",
      "Epoch 238/300\n",
      "4/4 [==============================] - 0s 10ms/step - loss: 0.0085 - val_loss: 0.0304\n",
      "Epoch 239/300\n",
      "4/4 [==============================] - 0s 10ms/step - loss: 0.0085 - val_loss: 0.0304\n",
      "Epoch 240/300\n",
      "4/4 [==============================] - 0s 8ms/step - loss: 0.0085 - val_loss: 0.0304\n",
      "Epoch 241/300\n",
      "4/4 [==============================] - 0s 5ms/step - loss: 0.0085 - val_loss: 0.0304\n",
      "Epoch 242/300\n",
      "4/4 [==============================] - 0s 10ms/step - loss: 0.0085 - val_loss: 0.0305\n",
      "Epoch 243/300\n",
      "4/4 [==============================] - 0s 8ms/step - loss: 0.0085 - val_loss: 0.0305\n",
      "Epoch 244/300\n",
      "4/4 [==============================] - 0s 5ms/step - loss: 0.0085 - val_loss: 0.0305\n",
      "Epoch 245/300\n",
      "4/4 [==============================] - 0s 9ms/step - loss: 0.0084 - val_loss: 0.0305\n",
      "Epoch 246/300\n",
      "4/4 [==============================] - 0s 8ms/step - loss: 0.0084 - val_loss: 0.0305\n",
      "Epoch 247/300\n",
      "4/4 [==============================] - 0s 8ms/step - loss: 0.0084 - val_loss: 0.0305\n",
      "Epoch 248/300\n",
      "4/4 [==============================] - 0s 9ms/step - loss: 0.0084 - val_loss: 0.0306\n",
      "Epoch 249/300\n",
      "4/4 [==============================] - 0s 8ms/step - loss: 0.0084 - val_loss: 0.0306\n",
      "Epoch 250/300\n",
      "4/4 [==============================] - 0s 6ms/step - loss: 0.0084 - val_loss: 0.0306\n",
      "Epoch 251/300\n",
      "4/4 [==============================] - 0s 9ms/step - loss: 0.0084 - val_loss: 0.0306\n",
      "Epoch 252/300\n",
      "4/4 [==============================] - 0s 13ms/step - loss: 0.0084 - val_loss: 0.0306\n",
      "Epoch 253/300\n",
      "4/4 [==============================] - 0s 8ms/step - loss: 0.0084 - val_loss: 0.0306\n",
      "Epoch 254/300\n",
      "4/4 [==============================] - 0s 10ms/step - loss: 0.0084 - val_loss: 0.0307\n",
      "Epoch 255/300\n",
      "4/4 [==============================] - 0s 11ms/step - loss: 0.0084 - val_loss: 0.0307\n",
      "Epoch 256/300\n",
      "4/4 [==============================] - 0s 11ms/step - loss: 0.0084 - val_loss: 0.0307\n",
      "Epoch 257/300\n",
      "4/4 [==============================] - 0s 9ms/step - loss: 0.0084 - val_loss: 0.0307\n",
      "Epoch 258/300\n",
      "4/4 [==============================] - 0s 11ms/step - loss: 0.0084 - val_loss: 0.0307\n",
      "Epoch 259/300\n",
      "4/4 [==============================] - 0s 8ms/step - loss: 0.0084 - val_loss: 0.0307\n",
      "Epoch 260/300\n",
      "4/4 [==============================] - 0s 9ms/step - loss: 0.0084 - val_loss: 0.0308\n",
      "Epoch 261/300\n",
      "4/4 [==============================] - 0s 11ms/step - loss: 0.0084 - val_loss: 0.0308\n",
      "Epoch 262/300\n",
      "4/4 [==============================] - 0s 9ms/step - loss: 0.0084 - val_loss: 0.0308\n",
      "Epoch 263/300\n",
      "4/4 [==============================] - 0s 7ms/step - loss: 0.0083 - val_loss: 0.0308\n",
      "Epoch 264/300\n",
      "4/4 [==============================] - 0s 7ms/step - loss: 0.0083 - val_loss: 0.0308\n",
      "Epoch 265/300\n",
      "4/4 [==============================] - 0s 8ms/step - loss: 0.0083 - val_loss: 0.0308\n",
      "Epoch 266/300\n",
      "4/4 [==============================] - 0s 9ms/step - loss: 0.0083 - val_loss: 0.0309\n",
      "Epoch 267/300\n",
      "4/4 [==============================] - 0s 8ms/step - loss: 0.0083 - val_loss: 0.0309\n",
      "Epoch 268/300\n",
      "4/4 [==============================] - 0s 8ms/step - loss: 0.0083 - val_loss: 0.0309\n",
      "Epoch 269/300\n",
      "4/4 [==============================] - ETA: 0s - loss: 0.007 - 0s 8ms/step - loss: 0.0083 - val_loss: 0.0309\n",
      "Epoch 270/300\n",
      "4/4 [==============================] - 0s 8ms/step - loss: 0.0083 - val_loss: 0.0309\n",
      "Epoch 271/300\n",
      "4/4 [==============================] - 0s 12ms/step - loss: 0.0083 - val_loss: 0.0309\n",
      "Epoch 272/300\n",
      "4/4 [==============================] - 0s 7ms/step - loss: 0.0083 - val_loss: 0.0310\n",
      "Epoch 273/300\n",
      "4/4 [==============================] - 0s 7ms/step - loss: 0.0083 - val_loss: 0.0310\n",
      "Epoch 274/300\n",
      "4/4 [==============================] - 0s 8ms/step - loss: 0.0083 - val_loss: 0.0310\n",
      "Epoch 275/300\n",
      "4/4 [==============================] - 0s 9ms/step - loss: 0.0083 - val_loss: 0.0310\n",
      "Epoch 276/300\n",
      "4/4 [==============================] - 0s 10ms/step - loss: 0.0083 - val_loss: 0.0310\n",
      "Epoch 277/300\n",
      "4/4 [==============================] - 0s 11ms/step - loss: 0.0083 - val_loss: 0.0310\n",
      "Epoch 278/300\n",
      "4/4 [==============================] - 0s 10ms/step - loss: 0.0083 - val_loss: 0.0311\n",
      "Epoch 279/300\n",
      "4/4 [==============================] - 0s 7ms/step - loss: 0.0083 - val_loss: 0.0311\n",
      "Epoch 280/300\n",
      "4/4 [==============================] - 0s 6ms/step - loss: 0.0083 - val_loss: 0.0311\n",
      "Epoch 281/300\n",
      "4/4 [==============================] - 0s 10ms/step - loss: 0.0082 - val_loss: 0.0311\n",
      "Epoch 282/300\n",
      "4/4 [==============================] - 0s 9ms/step - loss: 0.0082 - val_loss: 0.0311\n",
      "Epoch 283/300\n",
      "4/4 [==============================] - 0s 8ms/step - loss: 0.0082 - val_loss: 0.0312\n",
      "Epoch 284/300\n",
      "4/4 [==============================] - 0s 9ms/step - loss: 0.0082 - val_loss: 0.0312\n",
      "Epoch 285/300\n",
      "4/4 [==============================] - 0s 6ms/step - loss: 0.0082 - val_loss: 0.0312\n",
      "Epoch 286/300\n",
      "4/4 [==============================] - 0s 10ms/step - loss: 0.0082 - val_loss: 0.0312\n",
      "Epoch 287/300\n",
      "4/4 [==============================] - 0s 12ms/step - loss: 0.0082 - val_loss: 0.0312\n",
      "Epoch 288/300\n",
      "4/4 [==============================] - 0s 6ms/step - loss: 0.0082 - val_loss: 0.0312\n",
      "Epoch 289/300\n",
      "4/4 [==============================] - 0s 8ms/step - loss: 0.0082 - val_loss: 0.0313\n",
      "Epoch 290/300\n",
      "4/4 [==============================] - 0s 8ms/step - loss: 0.0082 - val_loss: 0.0313\n",
      "Epoch 291/300\n",
      "4/4 [==============================] - 0s 11ms/step - loss: 0.0082 - val_loss: 0.0313\n",
      "Epoch 292/300\n",
      "4/4 [==============================] - 0s 10ms/step - loss: 0.0082 - val_loss: 0.0313\n",
      "Epoch 293/300\n",
      "4/4 [==============================] - 0s 8ms/step - loss: 0.0082 - val_loss: 0.0313\n",
      "Epoch 294/300\n",
      "4/4 [==============================] - 0s 9ms/step - loss: 0.0082 - val_loss: 0.0313\n",
      "Epoch 295/300\n",
      "4/4 [==============================] - 0s 11ms/step - loss: 0.0082 - val_loss: 0.0314\n",
      "Epoch 296/300\n",
      "4/4 [==============================] - 0s 10ms/step - loss: 0.0082 - val_loss: 0.0314\n",
      "Epoch 297/300\n",
      "4/4 [==============================] - 0s 10ms/step - loss: 0.0082 - val_loss: 0.0314\n",
      "Epoch 298/300\n",
      "4/4 [==============================] - 0s 10ms/step - loss: 0.0082 - val_loss: 0.0314\n",
      "Epoch 299/300\n",
      "4/4 [==============================] - 0s 10ms/step - loss: 0.0081 - val_loss: 0.0314\n",
      "Epoch 300/300\n",
      "4/4 [==============================] - 0s 7ms/step - loss: 0.0081 - val_loss: 0.0315\n",
      "Test Score: 73.863 RMSE\n",
      "Test Score: 5455.810 MSE\n",
      "Test Score: 52.094 MAE\n",
      "Test Score: 2.533 MAPE\n",
      "Epoch 1/300\n",
      "5/5 [==============================] - 0s 16ms/step - loss: 0.0110 - val_loss: 0.0591\n",
      "Epoch 2/300\n",
      "5/5 [==============================] - 0s 8ms/step - loss: 0.0111 - val_loss: 0.0557\n",
      "Epoch 3/300\n",
      "5/5 [==============================] - 0s 10ms/step - loss: 0.0117 - val_loss: 0.0560\n",
      "Epoch 4/300\n",
      "5/5 [==============================] - 0s 8ms/step - loss: 0.0123 - val_loss: 0.0643\n",
      "Epoch 5/300\n",
      "5/5 [==============================] - 0s 7ms/step - loss: 0.0142 - val_loss: 0.0644\n",
      "Epoch 6/300\n",
      "5/5 [==============================] - 0s 7ms/step - loss: 0.0146 - val_loss: 0.0411\n",
      "Epoch 7/300\n",
      "5/5 [==============================] - 0s 7ms/step - loss: 0.0110 - val_loss: 0.0377\n",
      "Epoch 8/300\n",
      "5/5 [==============================] - 0s 8ms/step - loss: 0.0112 - val_loss: 0.0454\n",
      "Epoch 9/300\n",
      "5/5 [==============================] - 0s 8ms/step - loss: 0.0116 - val_loss: 0.0375\n",
      "Epoch 10/300\n",
      "5/5 [==============================] - 0s 7ms/step - loss: 0.0105 - val_loss: 0.0393\n",
      "Epoch 11/300\n",
      "5/5 [==============================] - 0s 6ms/step - loss: 0.0108 - val_loss: 0.0401\n",
      "Epoch 12/300\n",
      "5/5 [==============================] - 0s 10ms/step - loss: 0.0106 - val_loss: 0.0383\n",
      "Epoch 13/300\n",
      "5/5 [==============================] - 0s 7ms/step - loss: 0.0104 - val_loss: 0.0414\n",
      "Epoch 14/300\n",
      "5/5 [==============================] - 0s 8ms/step - loss: 0.0105 - val_loss: 0.0402\n",
      "Epoch 15/300\n",
      "5/5 [==============================] - 0s 8ms/step - loss: 0.0103 - val_loss: 0.0412\n",
      "Epoch 16/300\n",
      "5/5 [==============================] - 0s 8ms/step - loss: 0.0103 - val_loss: 0.0426\n",
      "Epoch 17/300\n",
      "5/5 [==============================] - 0s 8ms/step - loss: 0.0103 - val_loss: 0.0422\n",
      "Epoch 18/300\n",
      "5/5 [==============================] - 0s 8ms/step - loss: 0.0102 - val_loss: 0.0432\n",
      "Epoch 19/300\n",
      "5/5 [==============================] - 0s 8ms/step - loss: 0.0102 - val_loss: 0.0439\n",
      "Epoch 20/300\n",
      "5/5 [==============================] - 0s 8ms/step - loss: 0.0102 - val_loss: 0.0440\n",
      "Epoch 21/300\n",
      "5/5 [==============================] - 0s 8ms/step - loss: 0.0101 - val_loss: 0.0446\n",
      "Epoch 22/300\n",
      "5/5 [==============================] - 0s 6ms/step - loss: 0.0102 - val_loss: 0.0451\n",
      "Epoch 23/300\n",
      "5/5 [==============================] - 0s 8ms/step - loss: 0.0101 - val_loss: 0.0453\n",
      "Epoch 24/300\n",
      "5/5 [==============================] - 0s 8ms/step - loss: 0.0101 - val_loss: 0.0456\n",
      "Epoch 25/300\n",
      "5/5 [==============================] - 0s 8ms/step - loss: 0.0101 - val_loss: 0.0459\n",
      "Epoch 26/300\n",
      "5/5 [==============================] - 0s 10ms/step - loss: 0.0101 - val_loss: 0.0461\n",
      "Epoch 27/300\n",
      "5/5 [==============================] - 0s 8ms/step - loss: 0.0101 - val_loss: 0.0462\n",
      "Epoch 28/300\n",
      "5/5 [==============================] - 0s 7ms/step - loss: 0.0101 - val_loss: 0.0465\n",
      "Epoch 29/300\n",
      "5/5 [==============================] - 0s 11ms/step - loss: 0.0101 - val_loss: 0.0466\n",
      "Epoch 30/300\n",
      "5/5 [==============================] - 0s 9ms/step - loss: 0.0100 - val_loss: 0.0466\n",
      "Epoch 31/300\n",
      "5/5 [==============================] - 0s 7ms/step - loss: 0.0100 - val_loss: 0.0468\n",
      "Epoch 32/300\n",
      "5/5 [==============================] - 0s 8ms/step - loss: 0.0100 - val_loss: 0.0470\n",
      "Epoch 33/300\n",
      "5/5 [==============================] - 0s 8ms/step - loss: 0.0100 - val_loss: 0.0470\n",
      "Epoch 34/300\n",
      "5/5 [==============================] - 0s 8ms/step - loss: 0.0100 - val_loss: 0.0471\n",
      "Epoch 35/300\n",
      "5/5 [==============================] - 0s 8ms/step - loss: 0.0100 - val_loss: 0.0472\n",
      "Epoch 36/300\n",
      "5/5 [==============================] - 0s 8ms/step - loss: 0.0100 - val_loss: 0.0473\n",
      "Epoch 37/300\n",
      "5/5 [==============================] - 0s 7ms/step - loss: 0.0100 - val_loss: 0.0473\n",
      "Epoch 38/300\n",
      "5/5 [==============================] - 0s 9ms/step - loss: 0.0099 - val_loss: 0.0474\n",
      "Epoch 39/300\n",
      "5/5 [==============================] - 0s 8ms/step - loss: 0.0099 - val_loss: 0.0475\n",
      "Epoch 40/300\n",
      "5/5 [==============================] - 0s 7ms/step - loss: 0.0099 - val_loss: 0.0475\n",
      "Epoch 41/300\n",
      "5/5 [==============================] - 0s 7ms/step - loss: 0.0099 - val_loss: 0.0475\n",
      "Epoch 42/300\n",
      "5/5 [==============================] - 0s 8ms/step - loss: 0.0099 - val_loss: 0.0476\n",
      "Epoch 43/300\n",
      "5/5 [==============================] - 0s 9ms/step - loss: 0.0099 - val_loss: 0.0476\n",
      "Epoch 44/300\n",
      "5/5 [==============================] - 0s 8ms/step - loss: 0.0099 - val_loss: 0.0476\n",
      "Epoch 45/300\n",
      "5/5 [==============================] - 0s 7ms/step - loss: 0.0099 - val_loss: 0.0477\n",
      "Epoch 46/300\n",
      "5/5 [==============================] - 0s 7ms/step - loss: 0.0099 - val_loss: 0.0477\n",
      "Epoch 47/300\n",
      "5/5 [==============================] - 0s 7ms/step - loss: 0.0099 - val_loss: 0.0477\n",
      "Epoch 48/300\n",
      "5/5 [==============================] - 0s 7ms/step - loss: 0.0099 - val_loss: 0.0478\n",
      "Epoch 49/300\n",
      "5/5 [==============================] - 0s 8ms/step - loss: 0.0099 - val_loss: 0.0478\n",
      "Epoch 50/300\n",
      "5/5 [==============================] - 0s 8ms/step - loss: 0.0098 - val_loss: 0.0478\n",
      "Epoch 51/300\n",
      "5/5 [==============================] - 0s 8ms/step - loss: 0.0098 - val_loss: 0.0478\n",
      "Epoch 52/300\n",
      "5/5 [==============================] - 0s 9ms/step - loss: 0.0098 - val_loss: 0.0478\n",
      "Epoch 53/300\n",
      "5/5 [==============================] - 0s 7ms/step - loss: 0.0098 - val_loss: 0.0479\n",
      "Epoch 54/300\n",
      "5/5 [==============================] - 0s 8ms/step - loss: 0.0098 - val_loss: 0.0479\n",
      "Epoch 55/300\n",
      "5/5 [==============================] - 0s 9ms/step - loss: 0.0098 - val_loss: 0.0479\n",
      "Epoch 56/300\n",
      "5/5 [==============================] - 0s 9ms/step - loss: 0.0098 - val_loss: 0.0479\n",
      "Epoch 57/300\n",
      "5/5 [==============================] - 0s 8ms/step - loss: 0.0098 - val_loss: 0.0479\n",
      "Epoch 58/300\n",
      "5/5 [==============================] - 0s 8ms/step - loss: 0.0098 - val_loss: 0.0479\n",
      "Epoch 59/300\n",
      "5/5 [==============================] - 0s 8ms/step - loss: 0.0098 - val_loss: 0.0479\n",
      "Epoch 60/300\n",
      "5/5 [==============================] - 0s 8ms/step - loss: 0.0098 - val_loss: 0.0479\n",
      "Epoch 61/300\n",
      "5/5 [==============================] - 0s 8ms/step - loss: 0.0098 - val_loss: 0.0479\n",
      "Epoch 62/300\n",
      "5/5 [==============================] - 0s 7ms/step - loss: 0.0098 - val_loss: 0.0479\n",
      "Epoch 63/300\n",
      "5/5 [==============================] - 0s 8ms/step - loss: 0.0098 - val_loss: 0.0479\n",
      "Epoch 64/300\n",
      "5/5 [==============================] - 0s 7ms/step - loss: 0.0098 - val_loss: 0.0479\n",
      "Epoch 65/300\n",
      "5/5 [==============================] - 0s 8ms/step - loss: 0.0098 - val_loss: 0.0479\n",
      "Epoch 66/300\n",
      "5/5 [==============================] - 0s 8ms/step - loss: 0.0097 - val_loss: 0.0479\n",
      "Epoch 67/300\n",
      "5/5 [==============================] - 0s 7ms/step - loss: 0.0097 - val_loss: 0.0479\n",
      "Epoch 68/300\n",
      "5/5 [==============================] - 0s 8ms/step - loss: 0.0097 - val_loss: 0.0479\n",
      "Epoch 69/300\n",
      "5/5 [==============================] - 0s 8ms/step - loss: 0.0097 - val_loss: 0.0479\n",
      "Epoch 70/300\n",
      "5/5 [==============================] - 0s 8ms/step - loss: 0.0097 - val_loss: 0.0479\n",
      "Epoch 71/300\n",
      "5/5 [==============================] - 0s 7ms/step - loss: 0.0097 - val_loss: 0.0479\n",
      "Epoch 72/300\n",
      "5/5 [==============================] - 0s 7ms/step - loss: 0.0097 - val_loss: 0.0479\n",
      "Epoch 73/300\n",
      "5/5 [==============================] - 0s 7ms/step - loss: 0.0097 - val_loss: 0.0478\n",
      "Epoch 74/300\n",
      "5/5 [==============================] - 0s 8ms/step - loss: 0.0097 - val_loss: 0.0478\n",
      "Epoch 75/300\n",
      "5/5 [==============================] - 0s 8ms/step - loss: 0.0097 - val_loss: 0.0478\n",
      "Epoch 76/300\n",
      "5/5 [==============================] - 0s 7ms/step - loss: 0.0097 - val_loss: 0.0478\n",
      "Epoch 77/300\n",
      "5/5 [==============================] - 0s 7ms/step - loss: 0.0097 - val_loss: 0.0478\n",
      "Epoch 78/300\n",
      "5/5 [==============================] - 0s 8ms/step - loss: 0.0097 - val_loss: 0.0478\n",
      "Epoch 79/300\n",
      "5/5 [==============================] - 0s 8ms/step - loss: 0.0097 - val_loss: 0.0478\n",
      "Epoch 80/300\n",
      "5/5 [==============================] - 0s 9ms/step - loss: 0.0097 - val_loss: 0.0478\n",
      "Epoch 81/300\n",
      "5/5 [==============================] - 0s 7ms/step - loss: 0.0097 - val_loss: 0.0477\n",
      "Epoch 82/300\n",
      "5/5 [==============================] - 0s 7ms/step - loss: 0.0097 - val_loss: 0.0477\n",
      "Epoch 83/300\n",
      "5/5 [==============================] - 0s 7ms/step - loss: 0.0097 - val_loss: 0.0477\n",
      "Epoch 84/300\n",
      "5/5 [==============================] - 0s 7ms/step - loss: 0.0096 - val_loss: 0.0477\n",
      "Epoch 85/300\n",
      "5/5 [==============================] - 0s 8ms/step - loss: 0.0096 - val_loss: 0.0477\n",
      "Epoch 86/300\n",
      "5/5 [==============================] - 0s 8ms/step - loss: 0.0096 - val_loss: 0.0477\n",
      "Epoch 87/300\n",
      "5/5 [==============================] - 0s 9ms/step - loss: 0.0096 - val_loss: 0.0477\n",
      "Epoch 88/300\n",
      "5/5 [==============================] - 0s 7ms/step - loss: 0.0096 - val_loss: 0.0476\n",
      "Epoch 89/300\n",
      "5/5 [==============================] - 0s 8ms/step - loss: 0.0096 - val_loss: 0.0476\n",
      "Epoch 90/300\n",
      "5/5 [==============================] - 0s 8ms/step - loss: 0.0096 - val_loss: 0.0476\n",
      "Epoch 91/300\n",
      "5/5 [==============================] - 0s 7ms/step - loss: 0.0096 - val_loss: 0.0476\n",
      "Epoch 92/300\n",
      "5/5 [==============================] - 0s 8ms/step - loss: 0.0096 - val_loss: 0.0476\n",
      "Epoch 93/300\n",
      "5/5 [==============================] - 0s 7ms/step - loss: 0.0096 - val_loss: 0.0476\n",
      "Epoch 94/300\n",
      "5/5 [==============================] - 0s 8ms/step - loss: 0.0096 - val_loss: 0.0475\n",
      "Epoch 95/300\n",
      "5/5 [==============================] - 0s 9ms/step - loss: 0.0096 - val_loss: 0.0475\n",
      "Epoch 96/300\n",
      "5/5 [==============================] - 0s 7ms/step - loss: 0.0096 - val_loss: 0.0475\n",
      "Epoch 97/300\n",
      "5/5 [==============================] - 0s 8ms/step - loss: 0.0096 - val_loss: 0.0475\n",
      "Epoch 98/300\n",
      "5/5 [==============================] - 0s 9ms/step - loss: 0.0096 - val_loss: 0.0475\n",
      "Epoch 99/300\n",
      "5/5 [==============================] - 0s 8ms/step - loss: 0.0096 - val_loss: 0.0474\n",
      "Epoch 100/300\n",
      "5/5 [==============================] - 0s 7ms/step - loss: 0.0096 - val_loss: 0.0474\n",
      "Epoch 101/300\n",
      "5/5 [==============================] - 0s 7ms/step - loss: 0.0096 - val_loss: 0.0474\n",
      "Epoch 102/300\n",
      "5/5 [==============================] - 0s 8ms/step - loss: 0.0096 - val_loss: 0.0474\n",
      "Epoch 103/300\n",
      "5/5 [==============================] - 0s 7ms/step - loss: 0.0096 - val_loss: 0.0474\n",
      "Epoch 104/300\n",
      "5/5 [==============================] - 0s 8ms/step - loss: 0.0096 - val_loss: 0.0473\n",
      "Epoch 105/300\n",
      "5/5 [==============================] - 0s 8ms/step - loss: 0.0095 - val_loss: 0.0473\n",
      "Epoch 106/300\n",
      "5/5 [==============================] - 0s 7ms/step - loss: 0.0095 - val_loss: 0.0473\n",
      "Epoch 107/300\n",
      "5/5 [==============================] - 0s 8ms/step - loss: 0.0095 - val_loss: 0.0473\n",
      "Epoch 108/300\n",
      "5/5 [==============================] - 0s 7ms/step - loss: 0.0095 - val_loss: 0.0472\n",
      "Epoch 109/300\n",
      "5/5 [==============================] - 0s 7ms/step - loss: 0.0095 - val_loss: 0.0472\n",
      "Epoch 110/300\n",
      "5/5 [==============================] - 0s 7ms/step - loss: 0.0095 - val_loss: 0.0472\n",
      "Epoch 111/300\n",
      "5/5 [==============================] - 0s 7ms/step - loss: 0.0095 - val_loss: 0.0472\n",
      "Epoch 112/300\n",
      "5/5 [==============================] - 0s 8ms/step - loss: 0.0095 - val_loss: 0.0472\n",
      "Epoch 113/300\n",
      "5/5 [==============================] - 0s 9ms/step - loss: 0.0095 - val_loss: 0.0471\n",
      "Epoch 114/300\n",
      "5/5 [==============================] - 0s 7ms/step - loss: 0.0095 - val_loss: 0.0471\n",
      "Epoch 115/300\n",
      "5/5 [==============================] - 0s 7ms/step - loss: 0.0095 - val_loss: 0.0471\n",
      "Epoch 116/300\n",
      "5/5 [==============================] - 0s 8ms/step - loss: 0.0095 - val_loss: 0.0471\n",
      "Epoch 117/300\n",
      "5/5 [==============================] - 0s 8ms/step - loss: 0.0095 - val_loss: 0.0470\n",
      "Epoch 118/300\n",
      "5/5 [==============================] - 0s 8ms/step - loss: 0.0095 - val_loss: 0.0470\n",
      "Epoch 119/300\n",
      "5/5 [==============================] - 0s 8ms/step - loss: 0.0095 - val_loss: 0.0470\n",
      "Epoch 120/300\n",
      "5/5 [==============================] - 0s 8ms/step - loss: 0.0095 - val_loss: 0.0470\n",
      "Epoch 121/300\n",
      "5/5 [==============================] - 0s 7ms/step - loss: 0.0095 - val_loss: 0.0469\n",
      "Epoch 122/300\n",
      "5/5 [==============================] - 0s 7ms/step - loss: 0.0095 - val_loss: 0.0469\n",
      "Epoch 123/300\n",
      "5/5 [==============================] - 0s 7ms/step - loss: 0.0095 - val_loss: 0.0469\n",
      "Epoch 124/300\n",
      "5/5 [==============================] - 0s 7ms/step - loss: 0.0095 - val_loss: 0.0469\n",
      "Epoch 125/300\n",
      "5/5 [==============================] - 0s 7ms/step - loss: 0.0095 - val_loss: 0.0468\n",
      "Epoch 126/300\n",
      "5/5 [==============================] - 0s 7ms/step - loss: 0.0095 - val_loss: 0.0468\n",
      "Epoch 127/300\n",
      "5/5 [==============================] - 0s 8ms/step - loss: 0.0094 - val_loss: 0.0468\n",
      "Epoch 128/300\n",
      "5/5 [==============================] - 0s 9ms/step - loss: 0.0094 - val_loss: 0.0468\n",
      "Epoch 129/300\n",
      "5/5 [==============================] - 0s 8ms/step - loss: 0.0094 - val_loss: 0.0467\n",
      "Epoch 130/300\n",
      "5/5 [==============================] - 0s 7ms/step - loss: 0.0094 - val_loss: 0.0467\n",
      "Epoch 131/300\n",
      "5/5 [==============================] - 0s 8ms/step - loss: 0.0094 - val_loss: 0.0467\n",
      "Epoch 132/300\n",
      "5/5 [==============================] - 0s 7ms/step - loss: 0.0094 - val_loss: 0.0467\n",
      "Epoch 133/300\n",
      "5/5 [==============================] - 0s 7ms/step - loss: 0.0094 - val_loss: 0.0466\n",
      "Epoch 134/300\n",
      "5/5 [==============================] - 0s 7ms/step - loss: 0.0094 - val_loss: 0.0466\n",
      "Epoch 135/300\n",
      "5/5 [==============================] - 0s 8ms/step - loss: 0.0094 - val_loss: 0.0466\n",
      "Epoch 136/300\n",
      "5/5 [==============================] - 0s 9ms/step - loss: 0.0094 - val_loss: 0.0466\n",
      "Epoch 137/300\n",
      "5/5 [==============================] - 0s 7ms/step - loss: 0.0094 - val_loss: 0.0465\n",
      "Epoch 138/300\n",
      "5/5 [==============================] - 0s 8ms/step - loss: 0.0094 - val_loss: 0.0465\n",
      "Epoch 139/300\n",
      "5/5 [==============================] - 0s 8ms/step - loss: 0.0094 - val_loss: 0.0465\n",
      "Epoch 140/300\n",
      "5/5 [==============================] - 0s 8ms/step - loss: 0.0094 - val_loss: 0.0465\n",
      "Epoch 141/300\n",
      "5/5 [==============================] - 0s 7ms/step - loss: 0.0094 - val_loss: 0.0464\n",
      "Epoch 142/300\n",
      "5/5 [==============================] - 0s 7ms/step - loss: 0.0094 - val_loss: 0.0464\n",
      "Epoch 143/300\n",
      "5/5 [==============================] - 0s 8ms/step - loss: 0.0094 - val_loss: 0.0464\n",
      "Epoch 144/300\n",
      "5/5 [==============================] - 0s 7ms/step - loss: 0.0094 - val_loss: 0.0464\n",
      "Epoch 145/300\n",
      "5/5 [==============================] - 0s 7ms/step - loss: 0.0094 - val_loss: 0.0463\n",
      "Epoch 146/300\n",
      "5/5 [==============================] - 0s 7ms/step - loss: 0.0094 - val_loss: 0.0463\n",
      "Epoch 147/300\n",
      "5/5 [==============================] - 0s 7ms/step - loss: 0.0094 - val_loss: 0.0463\n",
      "Epoch 148/300\n",
      "5/5 [==============================] - 0s 8ms/step - loss: 0.0094 - val_loss: 0.0462\n",
      "Epoch 149/300\n",
      "5/5 [==============================] - 0s 9ms/step - loss: 0.0094 - val_loss: 0.0462\n",
      "Epoch 150/300\n",
      "5/5 [==============================] - 0s 7ms/step - loss: 0.0093 - val_loss: 0.0462\n",
      "Epoch 151/300\n",
      "5/5 [==============================] - 0s 9ms/step - loss: 0.0093 - val_loss: 0.0462\n",
      "Epoch 152/300\n",
      "5/5 [==============================] - 0s 7ms/step - loss: 0.0093 - val_loss: 0.0461\n",
      "Epoch 153/300\n",
      "5/5 [==============================] - 0s 8ms/step - loss: 0.0093 - val_loss: 0.0461\n",
      "Epoch 154/300\n",
      "5/5 [==============================] - 0s 7ms/step - loss: 0.0093 - val_loss: 0.0461\n",
      "Epoch 155/300\n",
      "5/5 [==============================] - 0s 7ms/step - loss: 0.0093 - val_loss: 0.0461\n",
      "Epoch 156/300\n",
      "5/5 [==============================] - 0s 7ms/step - loss: 0.0093 - val_loss: 0.0460\n",
      "Epoch 157/300\n",
      "5/5 [==============================] - 0s 8ms/step - loss: 0.0093 - val_loss: 0.0460\n",
      "Epoch 158/300\n",
      "5/5 [==============================] - 0s 7ms/step - loss: 0.0093 - val_loss: 0.0460\n",
      "Epoch 159/300\n",
      "5/5 [==============================] - 0s 8ms/step - loss: 0.0093 - val_loss: 0.0459\n",
      "Epoch 160/300\n",
      "5/5 [==============================] - 0s 7ms/step - loss: 0.0093 - val_loss: 0.0459\n",
      "Epoch 161/300\n",
      "5/5 [==============================] - 0s 7ms/step - loss: 0.0093 - val_loss: 0.0459\n",
      "Epoch 162/300\n",
      "5/5 [==============================] - 0s 8ms/step - loss: 0.0093 - val_loss: 0.0459\n",
      "Epoch 163/300\n",
      "5/5 [==============================] - 0s 8ms/step - loss: 0.0093 - val_loss: 0.0458\n",
      "Epoch 164/300\n",
      "5/5 [==============================] - 0s 7ms/step - loss: 0.0093 - val_loss: 0.0458\n",
      "Epoch 165/300\n",
      "5/5 [==============================] - 0s 8ms/step - loss: 0.0093 - val_loss: 0.0458\n",
      "Epoch 166/300\n",
      "5/5 [==============================] - 0s 6ms/step - loss: 0.0093 - val_loss: 0.0458\n",
      "Epoch 167/300\n",
      "5/5 [==============================] - 0s 8ms/step - loss: 0.0093 - val_loss: 0.0457\n",
      "Epoch 168/300\n",
      "5/5 [==============================] - 0s 8ms/step - loss: 0.0093 - val_loss: 0.0457\n",
      "Epoch 169/300\n",
      "5/5 [==============================] - 0s 8ms/step - loss: 0.0093 - val_loss: 0.0457\n",
      "Epoch 170/300\n",
      "5/5 [==============================] - 0s 7ms/step - loss: 0.0093 - val_loss: 0.0456\n",
      "Epoch 171/300\n",
      "5/5 [==============================] - 0s 8ms/step - loss: 0.0093 - val_loss: 0.0456\n",
      "Epoch 172/300\n",
      "5/5 [==============================] - 0s 7ms/step - loss: 0.0093 - val_loss: 0.0456\n",
      "Epoch 173/300\n",
      "5/5 [==============================] - 0s 7ms/step - loss: 0.0093 - val_loss: 0.0456\n",
      "Epoch 174/300\n",
      "5/5 [==============================] - 0s 8ms/step - loss: 0.0092 - val_loss: 0.0455\n",
      "Epoch 175/300\n",
      "5/5 [==============================] - 0s 7ms/step - loss: 0.0092 - val_loss: 0.0455\n",
      "Epoch 176/300\n",
      "5/5 [==============================] - 0s 8ms/step - loss: 0.0092 - val_loss: 0.0455\n",
      "Epoch 177/300\n",
      "5/5 [==============================] - 0s 9ms/step - loss: 0.0092 - val_loss: 0.0455\n",
      "Epoch 178/300\n",
      "5/5 [==============================] - 0s 7ms/step - loss: 0.0092 - val_loss: 0.0454\n",
      "Epoch 179/300\n",
      "5/5 [==============================] - 0s 7ms/step - loss: 0.0092 - val_loss: 0.0454\n",
      "Epoch 180/300\n",
      "5/5 [==============================] - 0s 7ms/step - loss: 0.0092 - val_loss: 0.0454\n",
      "Epoch 181/300\n",
      "5/5 [==============================] - 0s 7ms/step - loss: 0.0092 - val_loss: 0.0453\n",
      "Epoch 182/300\n",
      "5/5 [==============================] - 0s 7ms/step - loss: 0.0092 - val_loss: 0.0453\n",
      "Epoch 183/300\n",
      "5/5 [==============================] - 0s 7ms/step - loss: 0.0092 - val_loss: 0.0453\n",
      "Epoch 184/300\n",
      "5/5 [==============================] - 0s 7ms/step - loss: 0.0092 - val_loss: 0.0453\n",
      "Epoch 185/300\n",
      "5/5 [==============================] - 0s 8ms/step - loss: 0.0092 - val_loss: 0.0452\n",
      "Epoch 186/300\n",
      "5/5 [==============================] - 0s 9ms/step - loss: 0.0092 - val_loss: 0.0452\n",
      "Epoch 187/300\n",
      "5/5 [==============================] - 0s 8ms/step - loss: 0.0092 - val_loss: 0.0452\n",
      "Epoch 188/300\n",
      "5/5 [==============================] - 0s 8ms/step - loss: 0.0092 - val_loss: 0.0451\n",
      "Epoch 189/300\n",
      "5/5 [==============================] - 0s 8ms/step - loss: 0.0092 - val_loss: 0.0451\n",
      "Epoch 190/300\n",
      "5/5 [==============================] - 0s 9ms/step - loss: 0.0092 - val_loss: 0.0451\n",
      "Epoch 191/300\n",
      "5/5 [==============================] - 0s 7ms/step - loss: 0.0092 - val_loss: 0.0451\n",
      "Epoch 192/300\n",
      "5/5 [==============================] - 0s 7ms/step - loss: 0.0092 - val_loss: 0.0450\n",
      "Epoch 193/300\n",
      "5/5 [==============================] - 0s 8ms/step - loss: 0.0092 - val_loss: 0.0450\n",
      "Epoch 194/300\n",
      "5/5 [==============================] - 0s 8ms/step - loss: 0.0092 - val_loss: 0.0450\n",
      "Epoch 195/300\n",
      "5/5 [==============================] - 0s 10ms/step - loss: 0.0092 - val_loss: 0.0449\n",
      "Epoch 196/300\n",
      "5/5 [==============================] - 0s 7ms/step - loss: 0.0092 - val_loss: 0.0449\n",
      "Epoch 197/300\n",
      "5/5 [==============================] - 0s 7ms/step - loss: 0.0092 - val_loss: 0.0449\n",
      "Epoch 198/300\n",
      "5/5 [==============================] - 0s 8ms/step - loss: 0.0091 - val_loss: 0.0449\n",
      "Epoch 199/300\n",
      "5/5 [==============================] - 0s 8ms/step - loss: 0.0091 - val_loss: 0.0448\n",
      "Epoch 200/300\n",
      "5/5 [==============================] - 0s 7ms/step - loss: 0.0091 - val_loss: 0.0448\n",
      "Epoch 201/300\n",
      "5/5 [==============================] - 0s 7ms/step - loss: 0.0091 - val_loss: 0.0448\n",
      "Epoch 202/300\n",
      "5/5 [==============================] - 0s 7ms/step - loss: 0.0091 - val_loss: 0.0448\n",
      "Epoch 203/300\n",
      "5/5 [==============================] - 0s 8ms/step - loss: 0.0091 - val_loss: 0.0447\n",
      "Epoch 204/300\n",
      "5/5 [==============================] - 0s 8ms/step - loss: 0.0091 - val_loss: 0.0447\n",
      "Epoch 205/300\n",
      "5/5 [==============================] - 0s 7ms/step - loss: 0.0091 - val_loss: 0.0447\n",
      "Epoch 206/300\n",
      "5/5 [==============================] - 0s 7ms/step - loss: 0.0091 - val_loss: 0.0446\n",
      "Epoch 207/300\n",
      "5/5 [==============================] - 0s 8ms/step - loss: 0.0091 - val_loss: 0.0446\n",
      "Epoch 208/300\n",
      "5/5 [==============================] - 0s 8ms/step - loss: 0.0091 - val_loss: 0.0446\n",
      "Epoch 209/300\n",
      "5/5 [==============================] - 0s 8ms/step - loss: 0.0091 - val_loss: 0.0446\n",
      "Epoch 210/300\n",
      "5/5 [==============================] - 0s 8ms/step - loss: 0.0091 - val_loss: 0.0445\n",
      "Epoch 211/300\n",
      "5/5 [==============================] - 0s 8ms/step - loss: 0.0091 - val_loss: 0.0445\n",
      "Epoch 212/300\n",
      "5/5 [==============================] - 0s 9ms/step - loss: 0.0091 - val_loss: 0.0445\n",
      "Epoch 213/300\n",
      "5/5 [==============================] - 0s 7ms/step - loss: 0.0091 - val_loss: 0.0445\n",
      "Epoch 214/300\n",
      "5/5 [==============================] - 0s 7ms/step - loss: 0.0091 - val_loss: 0.0444\n",
      "Epoch 215/300\n",
      "5/5 [==============================] - 0s 8ms/step - loss: 0.0091 - val_loss: 0.0444\n",
      "Epoch 216/300\n",
      "5/5 [==============================] - 0s 8ms/step - loss: 0.0091 - val_loss: 0.0444\n",
      "Epoch 217/300\n",
      "5/5 [==============================] - 0s 8ms/step - loss: 0.0091 - val_loss: 0.0443\n",
      "Epoch 218/300\n",
      "5/5 [==============================] - 0s 8ms/step - loss: 0.0091 - val_loss: 0.0443\n",
      "Epoch 219/300\n",
      "5/5 [==============================] - 0s 8ms/step - loss: 0.0091 - val_loss: 0.0443\n",
      "Epoch 220/300\n",
      "5/5 [==============================] - 0s 9ms/step - loss: 0.0091 - val_loss: 0.0443\n",
      "Epoch 221/300\n",
      "5/5 [==============================] - 0s 9ms/step - loss: 0.0091 - val_loss: 0.0442\n",
      "Epoch 222/300\n",
      "5/5 [==============================] - 0s 9ms/step - loss: 0.0091 - val_loss: 0.0442\n",
      "Epoch 223/300\n",
      "5/5 [==============================] - 0s 9ms/step - loss: 0.0091 - val_loss: 0.0442\n",
      "Epoch 224/300\n",
      "5/5 [==============================] - 0s 8ms/step - loss: 0.0090 - val_loss: 0.0442\n",
      "Epoch 225/300\n",
      "5/5 [==============================] - 0s 8ms/step - loss: 0.0090 - val_loss: 0.0441\n",
      "Epoch 226/300\n",
      "5/5 [==============================] - 0s 8ms/step - loss: 0.0090 - val_loss: 0.0441\n",
      "Epoch 227/300\n",
      "5/5 [==============================] - 0s 8ms/step - loss: 0.0090 - val_loss: 0.0441\n",
      "Epoch 228/300\n",
      "5/5 [==============================] - 0s 8ms/step - loss: 0.0090 - val_loss: 0.0441\n",
      "Epoch 229/300\n",
      "5/5 [==============================] - 0s 8ms/step - loss: 0.0090 - val_loss: 0.0440\n",
      "Epoch 230/300\n",
      "5/5 [==============================] - 0s 8ms/step - loss: 0.0090 - val_loss: 0.0440\n",
      "Epoch 231/300\n",
      "5/5 [==============================] - 0s 7ms/step - loss: 0.0090 - val_loss: 0.0440\n",
      "Epoch 232/300\n",
      "5/5 [==============================] - 0s 8ms/step - loss: 0.0090 - val_loss: 0.0439\n",
      "Epoch 233/300\n",
      "5/5 [==============================] - 0s 7ms/step - loss: 0.0090 - val_loss: 0.0439\n",
      "Epoch 234/300\n",
      "5/5 [==============================] - 0s 7ms/step - loss: 0.0090 - val_loss: 0.0439\n",
      "Epoch 235/300\n",
      "5/5 [==============================] - 0s 9ms/step - loss: 0.0090 - val_loss: 0.0439\n",
      "Epoch 236/300\n",
      "5/5 [==============================] - 0s 8ms/step - loss: 0.0090 - val_loss: 0.0438\n",
      "Epoch 237/300\n",
      "5/5 [==============================] - 0s 8ms/step - loss: 0.0090 - val_loss: 0.0438\n",
      "Epoch 238/300\n",
      "5/5 [==============================] - 0s 7ms/step - loss: 0.0090 - val_loss: 0.0438\n",
      "Epoch 239/300\n",
      "5/5 [==============================] - 0s 7ms/step - loss: 0.0090 - val_loss: 0.0438\n",
      "Epoch 240/300\n",
      "5/5 [==============================] - 0s 7ms/step - loss: 0.0090 - val_loss: 0.0437\n",
      "Epoch 241/300\n",
      "5/5 [==============================] - 0s 9ms/step - loss: 0.0090 - val_loss: 0.0437\n",
      "Epoch 242/300\n",
      "5/5 [==============================] - 0s 8ms/step - loss: 0.0090 - val_loss: 0.0437\n",
      "Epoch 243/300\n",
      "5/5 [==============================] - 0s 7ms/step - loss: 0.0090 - val_loss: 0.0437\n",
      "Epoch 244/300\n",
      "5/5 [==============================] - 0s 7ms/step - loss: 0.0090 - val_loss: 0.0436\n",
      "Epoch 245/300\n",
      "5/5 [==============================] - 0s 9ms/step - loss: 0.0090 - val_loss: 0.0436\n",
      "Epoch 246/300\n",
      "5/5 [==============================] - 0s 7ms/step - loss: 0.0090 - val_loss: 0.0436\n",
      "Epoch 247/300\n",
      "5/5 [==============================] - 0s 7ms/step - loss: 0.0090 - val_loss: 0.0436\n",
      "Epoch 248/300\n",
      "5/5 [==============================] - 0s 8ms/step - loss: 0.0090 - val_loss: 0.0435\n",
      "Epoch 249/300\n",
      "5/5 [==============================] - 0s 8ms/step - loss: 0.0090 - val_loss: 0.0435\n",
      "Epoch 250/300\n",
      "5/5 [==============================] - 0s 7ms/step - loss: 0.0089 - val_loss: 0.0435\n",
      "Epoch 251/300\n",
      "5/5 [==============================] - 0s 7ms/step - loss: 0.0089 - val_loss: 0.0435\n",
      "Epoch 252/300\n",
      "5/5 [==============================] - 0s 7ms/step - loss: 0.0089 - val_loss: 0.0434\n",
      "Epoch 253/300\n",
      "5/5 [==============================] - 0s 9ms/step - loss: 0.0089 - val_loss: 0.0434\n",
      "Epoch 254/300\n",
      "5/5 [==============================] - 0s 8ms/step - loss: 0.0089 - val_loss: 0.0434\n",
      "Epoch 255/300\n",
      "5/5 [==============================] - 0s 7ms/step - loss: 0.0089 - val_loss: 0.0434\n",
      "Epoch 256/300\n",
      "5/5 [==============================] - 0s 8ms/step - loss: 0.0089 - val_loss: 0.0433\n",
      "Epoch 257/300\n",
      "5/5 [==============================] - 0s 7ms/step - loss: 0.0089 - val_loss: 0.0433\n",
      "Epoch 258/300\n",
      "5/5 [==============================] - 0s 8ms/step - loss: 0.0089 - val_loss: 0.0433\n",
      "Epoch 259/300\n",
      "5/5 [==============================] - 0s 7ms/step - loss: 0.0089 - val_loss: 0.0433\n",
      "Epoch 260/300\n",
      "5/5 [==============================] - 0s 7ms/step - loss: 0.0089 - val_loss: 0.0432\n",
      "Epoch 261/300\n",
      "5/5 [==============================] - 0s 7ms/step - loss: 0.0089 - val_loss: 0.0432\n",
      "Epoch 262/300\n",
      "5/5 [==============================] - 0s 7ms/step - loss: 0.0089 - val_loss: 0.0432\n",
      "Epoch 263/300\n",
      "5/5 [==============================] - 0s 8ms/step - loss: 0.0089 - val_loss: 0.0432\n",
      "Epoch 264/300\n",
      "5/5 [==============================] - 0s 7ms/step - loss: 0.0089 - val_loss: 0.0431\n",
      "Epoch 265/300\n",
      "5/5 [==============================] - 0s 8ms/step - loss: 0.0089 - val_loss: 0.0431\n",
      "Epoch 266/300\n",
      "5/5 [==============================] - 0s 8ms/step - loss: 0.0089 - val_loss: 0.0431\n",
      "Epoch 267/300\n",
      "5/5 [==============================] - 0s 8ms/step - loss: 0.0089 - val_loss: 0.0431\n",
      "Epoch 268/300\n",
      "5/5 [==============================] - 0s 9ms/step - loss: 0.0089 - val_loss: 0.0430\n",
      "Epoch 269/300\n",
      "5/5 [==============================] - 0s 8ms/step - loss: 0.0089 - val_loss: 0.0430\n",
      "Epoch 270/300\n",
      "5/5 [==============================] - 0s 7ms/step - loss: 0.0089 - val_loss: 0.0430\n",
      "Epoch 271/300\n",
      "5/5 [==============================] - 0s 7ms/step - loss: 0.0089 - val_loss: 0.0430\n",
      "Epoch 272/300\n",
      "5/5 [==============================] - 0s 9ms/step - loss: 0.0089 - val_loss: 0.0430\n",
      "Epoch 273/300\n",
      "5/5 [==============================] - 0s 7ms/step - loss: 0.0089 - val_loss: 0.0429\n",
      "Epoch 274/300\n",
      "5/5 [==============================] - 0s 7ms/step - loss: 0.0089 - val_loss: 0.0429\n",
      "Epoch 275/300\n",
      "5/5 [==============================] - 0s 8ms/step - loss: 0.0088 - val_loss: 0.0429\n",
      "Epoch 276/300\n",
      "5/5 [==============================] - 0s 9ms/step - loss: 0.0088 - val_loss: 0.0429\n",
      "Epoch 277/300\n",
      "5/5 [==============================] - 0s 7ms/step - loss: 0.0088 - val_loss: 0.0428\n",
      "Epoch 278/300\n",
      "5/5 [==============================] - 0s 8ms/step - loss: 0.0088 - val_loss: 0.0428\n",
      "Epoch 279/300\n",
      "5/5 [==============================] - 0s 8ms/step - loss: 0.0088 - val_loss: 0.0428\n",
      "Epoch 280/300\n",
      "5/5 [==============================] - 0s 7ms/step - loss: 0.0088 - val_loss: 0.0428\n",
      "Epoch 281/300\n",
      "5/5 [==============================] - 0s 7ms/step - loss: 0.0088 - val_loss: 0.0428\n",
      "Epoch 282/300\n",
      "5/5 [==============================] - 0s 7ms/step - loss: 0.0088 - val_loss: 0.0427\n",
      "Epoch 283/300\n",
      "5/5 [==============================] - 0s 7ms/step - loss: 0.0088 - val_loss: 0.0427\n",
      "Epoch 284/300\n",
      "5/5 [==============================] - 0s 8ms/step - loss: 0.0088 - val_loss: 0.0427\n",
      "Epoch 285/300\n",
      "5/5 [==============================] - 0s 7ms/step - loss: 0.0088 - val_loss: 0.0427\n",
      "Epoch 286/300\n",
      "5/5 [==============================] - 0s 7ms/step - loss: 0.0088 - val_loss: 0.0426\n",
      "Epoch 287/300\n",
      "5/5 [==============================] - 0s 7ms/step - loss: 0.0088 - val_loss: 0.0426\n",
      "Epoch 288/300\n",
      "5/5 [==============================] - 0s 7ms/step - loss: 0.0088 - val_loss: 0.0426\n",
      "Epoch 289/300\n",
      "5/5 [==============================] - 0s 7ms/step - loss: 0.0088 - val_loss: 0.0426\n",
      "Epoch 290/300\n",
      "5/5 [==============================] - 0s 7ms/step - loss: 0.0088 - val_loss: 0.0426\n",
      "Epoch 291/300\n",
      "5/5 [==============================] - 0s 8ms/step - loss: 0.0088 - val_loss: 0.0425\n",
      "Epoch 292/300\n",
      "5/5 [==============================] - 0s 7ms/step - loss: 0.0088 - val_loss: 0.0425\n",
      "Epoch 293/300\n",
      "5/5 [==============================] - 0s 8ms/step - loss: 0.0088 - val_loss: 0.0425\n",
      "Epoch 294/300\n",
      "5/5 [==============================] - 0s 9ms/step - loss: 0.0088 - val_loss: 0.0425\n",
      "Epoch 295/300\n",
      "5/5 [==============================] - 0s 8ms/step - loss: 0.0088 - val_loss: 0.0425\n",
      "Epoch 296/300\n",
      "5/5 [==============================] - 0s 7ms/step - loss: 0.0088 - val_loss: 0.0424\n",
      "Epoch 297/300\n",
      "5/5 [==============================] - 0s 8ms/step - loss: 0.0088 - val_loss: 0.0424\n",
      "Epoch 298/300\n",
      "5/5 [==============================] - 0s 8ms/step - loss: 0.0088 - val_loss: 0.0424\n",
      "Epoch 299/300\n",
      "5/5 [==============================] - 0s 7ms/step - loss: 0.0088 - val_loss: 0.0424\n",
      "Epoch 300/300\n",
      "5/5 [==============================] - 0s 8ms/step - loss: 0.0088 - val_loss: 0.0424\n",
      "Test Score: 85.716 RMSE\n",
      "Test Score: 7347.249 MSE\n",
      "Test Score: 57.006 MAE\n",
      "Test Score: 4.677 MAPE\n",
      "Epoch 1/300\n",
      "5/5 [==============================] - 0s 15ms/step - loss: 0.0123 - val_loss: 0.0227\n",
      "Epoch 2/300\n",
      "5/5 [==============================] - 0s 7ms/step - loss: 0.0131 - val_loss: 0.0253\n",
      "Epoch 3/300\n",
      "5/5 [==============================] - 0s 7ms/step - loss: 0.0165 - val_loss: 0.0209\n",
      "Epoch 4/300\n",
      "5/5 [==============================] - 0s 8ms/step - loss: 0.0183 - val_loss: 0.0177\n",
      "Epoch 5/300\n",
      "5/5 [==============================] - 0s 8ms/step - loss: 0.0156 - val_loss: 0.0181\n",
      "Epoch 6/300\n",
      "5/5 [==============================] - 0s 7ms/step - loss: 0.0134 - val_loss: 0.0173\n",
      "Epoch 7/300\n",
      "5/5 [==============================] - 0s 8ms/step - loss: 0.0135 - val_loss: 0.0138\n",
      "Epoch 8/300\n",
      "5/5 [==============================] - 0s 8ms/step - loss: 0.0127 - val_loss: 0.0136\n",
      "Epoch 9/300\n",
      "5/5 [==============================] - 0s 8ms/step - loss: 0.0120 - val_loss: 0.0136\n",
      "Epoch 10/300\n",
      "5/5 [==============================] - 0s 7ms/step - loss: 0.0119 - val_loss: 0.0135\n",
      "Epoch 11/300\n",
      "5/5 [==============================] - 0s 8ms/step - loss: 0.0116 - val_loss: 0.0129\n",
      "Epoch 12/300\n",
      "5/5 [==============================] - 0s 7ms/step - loss: 0.0117 - val_loss: 0.0132\n",
      "Epoch 13/300\n",
      "5/5 [==============================] - 0s 7ms/step - loss: 0.0114 - val_loss: 0.0136\n",
      "Epoch 14/300\n",
      "5/5 [==============================] - 0s 7ms/step - loss: 0.0115 - val_loss: 0.0135\n",
      "Epoch 15/300\n",
      "5/5 [==============================] - 0s 8ms/step - loss: 0.0113 - val_loss: 0.0136\n",
      "Epoch 16/300\n",
      "5/5 [==============================] - 0s 8ms/step - loss: 0.0113 - val_loss: 0.0139\n",
      "Epoch 17/300\n",
      "5/5 [==============================] - 0s 8ms/step - loss: 0.0112 - val_loss: 0.0141\n",
      "Epoch 18/300\n",
      "5/5 [==============================] - 0s 8ms/step - loss: 0.0112 - val_loss: 0.0142\n",
      "Epoch 19/300\n",
      "5/5 [==============================] - 0s 7ms/step - loss: 0.0112 - val_loss: 0.0144\n",
      "Epoch 20/300\n",
      "5/5 [==============================] - 0s 7ms/step - loss: 0.0111 - val_loss: 0.0146\n",
      "Epoch 21/300\n",
      "5/5 [==============================] - 0s 9ms/step - loss: 0.0111 - val_loss: 0.0148\n",
      "Epoch 22/300\n",
      "5/5 [==============================] - 0s 7ms/step - loss: 0.0110 - val_loss: 0.0149\n",
      "Epoch 23/300\n",
      "5/5 [==============================] - 0s 7ms/step - loss: 0.0110 - val_loss: 0.0151\n",
      "Epoch 24/300\n",
      "5/5 [==============================] - 0s 8ms/step - loss: 0.0110 - val_loss: 0.0152\n",
      "Epoch 25/300\n",
      "5/5 [==============================] - 0s 9ms/step - loss: 0.0110 - val_loss: 0.0154\n",
      "Epoch 26/300\n",
      "5/5 [==============================] - 0s 8ms/step - loss: 0.0109 - val_loss: 0.0155\n",
      "Epoch 27/300\n",
      "5/5 [==============================] - 0s 8ms/step - loss: 0.0109 - val_loss: 0.0156\n",
      "Epoch 28/300\n",
      "5/5 [==============================] - 0s 8ms/step - loss: 0.0109 - val_loss: 0.0157\n",
      "Epoch 29/300\n",
      "5/5 [==============================] - 0s 8ms/step - loss: 0.0109 - val_loss: 0.0158\n",
      "Epoch 30/300\n",
      "5/5 [==============================] - 0s 8ms/step - loss: 0.0109 - val_loss: 0.0158\n",
      "Epoch 31/300\n",
      "5/5 [==============================] - 0s 8ms/step - loss: 0.0109 - val_loss: 0.0159\n",
      "Epoch 32/300\n",
      "5/5 [==============================] - 0s 7ms/step - loss: 0.0108 - val_loss: 0.0160\n",
      "Epoch 33/300\n",
      "5/5 [==============================] - 0s 8ms/step - loss: 0.0108 - val_loss: 0.0160\n",
      "Epoch 34/300\n",
      "5/5 [==============================] - 0s 8ms/step - loss: 0.0108 - val_loss: 0.0161\n",
      "Epoch 35/300\n",
      "5/5 [==============================] - 0s 8ms/step - loss: 0.0108 - val_loss: 0.0162\n",
      "Epoch 36/300\n",
      "5/5 [==============================] - 0s 7ms/step - loss: 0.0108 - val_loss: 0.0162\n",
      "Epoch 37/300\n",
      "5/5 [==============================] - 0s 8ms/step - loss: 0.0108 - val_loss: 0.0162\n",
      "Epoch 38/300\n",
      "5/5 [==============================] - 0s 8ms/step - loss: 0.0108 - val_loss: 0.0163\n",
      "Epoch 39/300\n",
      "5/5 [==============================] - 0s 7ms/step - loss: 0.0107 - val_loss: 0.0163\n",
      "Epoch 40/300\n",
      "5/5 [==============================] - 0s 7ms/step - loss: 0.0107 - val_loss: 0.0164\n",
      "Epoch 41/300\n",
      "5/5 [==============================] - 0s 8ms/step - loss: 0.0107 - val_loss: 0.0164\n",
      "Epoch 42/300\n",
      "5/5 [==============================] - 0s 7ms/step - loss: 0.0107 - val_loss: 0.0165\n",
      "Epoch 43/300\n",
      "5/5 [==============================] - 0s 8ms/step - loss: 0.0107 - val_loss: 0.0165\n",
      "Epoch 44/300\n",
      "5/5 [==============================] - 0s 8ms/step - loss: 0.0107 - val_loss: 0.0165\n",
      "Epoch 45/300\n",
      "5/5 [==============================] - 0s 7ms/step - loss: 0.0107 - val_loss: 0.0166\n",
      "Epoch 46/300\n",
      "5/5 [==============================] - 0s 8ms/step - loss: 0.0107 - val_loss: 0.0166\n",
      "Epoch 47/300\n",
      "5/5 [==============================] - 0s 8ms/step - loss: 0.0107 - val_loss: 0.0166\n",
      "Epoch 48/300\n",
      "5/5 [==============================] - 0s 8ms/step - loss: 0.0106 - val_loss: 0.0167\n",
      "Epoch 49/300\n",
      "5/5 [==============================] - 0s 8ms/step - loss: 0.0106 - val_loss: 0.0167\n",
      "Epoch 50/300\n",
      "5/5 [==============================] - 0s 8ms/step - loss: 0.0106 - val_loss: 0.0167\n",
      "Epoch 51/300\n",
      "5/5 [==============================] - 0s 8ms/step - loss: 0.0106 - val_loss: 0.0168\n",
      "Epoch 52/300\n",
      "5/5 [==============================] - 0s 7ms/step - loss: 0.0106 - val_loss: 0.0168\n",
      "Epoch 53/300\n",
      "5/5 [==============================] - 0s 8ms/step - loss: 0.0106 - val_loss: 0.0168\n",
      "Epoch 54/300\n",
      "5/5 [==============================] - 0s 7ms/step - loss: 0.0106 - val_loss: 0.0169\n",
      "Epoch 55/300\n",
      "5/5 [==============================] - 0s 9ms/step - loss: 0.0106 - val_loss: 0.0169\n",
      "Epoch 56/300\n",
      "5/5 [==============================] - 0s 7ms/step - loss: 0.0106 - val_loss: 0.0169\n",
      "Epoch 57/300\n",
      "5/5 [==============================] - 0s 8ms/step - loss: 0.0105 - val_loss: 0.0169\n",
      "Epoch 58/300\n",
      "5/5 [==============================] - 0s 7ms/step - loss: 0.0105 - val_loss: 0.0170\n",
      "Epoch 59/300\n",
      "5/5 [==============================] - 0s 7ms/step - loss: 0.0105 - val_loss: 0.0170\n",
      "Epoch 60/300\n",
      "5/5 [==============================] - 0s 7ms/step - loss: 0.0105 - val_loss: 0.0170\n",
      "Epoch 61/300\n",
      "5/5 [==============================] - 0s 8ms/step - loss: 0.0105 - val_loss: 0.0171\n",
      "Epoch 62/300\n",
      "5/5 [==============================] - 0s 9ms/step - loss: 0.0105 - val_loss: 0.0171\n",
      "Epoch 63/300\n",
      "5/5 [==============================] - 0s 8ms/step - loss: 0.0105 - val_loss: 0.0171\n",
      "Epoch 64/300\n",
      "5/5 [==============================] - 0s 7ms/step - loss: 0.0105 - val_loss: 0.0172\n",
      "Epoch 65/300\n",
      "5/5 [==============================] - 0s 8ms/step - loss: 0.0105 - val_loss: 0.0172\n",
      "Epoch 66/300\n",
      "5/5 [==============================] - 0s 8ms/step - loss: 0.0105 - val_loss: 0.0172\n",
      "Epoch 67/300\n",
      "5/5 [==============================] - 0s 8ms/step - loss: 0.0104 - val_loss: 0.0172\n",
      "Epoch 68/300\n",
      "5/5 [==============================] - 0s 8ms/step - loss: 0.0104 - val_loss: 0.0173\n",
      "Epoch 69/300\n",
      "5/5 [==============================] - 0s 8ms/step - loss: 0.0104 - val_loss: 0.0173\n",
      "Epoch 70/300\n",
      "5/5 [==============================] - 0s 8ms/step - loss: 0.0104 - val_loss: 0.0173\n",
      "Epoch 71/300\n",
      "5/5 [==============================] - 0s 9ms/step - loss: 0.0104 - val_loss: 0.0173\n",
      "Epoch 72/300\n",
      "5/5 [==============================] - 0s 7ms/step - loss: 0.0104 - val_loss: 0.0174\n",
      "Epoch 73/300\n",
      "5/5 [==============================] - 0s 7ms/step - loss: 0.0104 - val_loss: 0.0174\n",
      "Epoch 74/300\n",
      "5/5 [==============================] - 0s 8ms/step - loss: 0.0104 - val_loss: 0.0174\n",
      "Epoch 75/300\n",
      "5/5 [==============================] - 0s 7ms/step - loss: 0.0104 - val_loss: 0.0175\n",
      "Epoch 76/300\n",
      "5/5 [==============================] - 0s 8ms/step - loss: 0.0104 - val_loss: 0.0175\n",
      "Epoch 77/300\n",
      "5/5 [==============================] - 0s 9ms/step - loss: 0.0104 - val_loss: 0.0175\n",
      "Epoch 78/300\n",
      "5/5 [==============================] - 0s 7ms/step - loss: 0.0103 - val_loss: 0.0175\n",
      "Epoch 79/300\n",
      "5/5 [==============================] - 0s 8ms/step - loss: 0.0103 - val_loss: 0.0176\n",
      "Epoch 80/300\n",
      "5/5 [==============================] - 0s 8ms/step - loss: 0.0103 - val_loss: 0.0176\n",
      "Epoch 81/300\n",
      "5/5 [==============================] - 0s 7ms/step - loss: 0.0103 - val_loss: 0.0176\n",
      "Epoch 82/300\n",
      "5/5 [==============================] - 0s 8ms/step - loss: 0.0103 - val_loss: 0.0176\n",
      "Epoch 83/300\n",
      "5/5 [==============================] - 0s 8ms/step - loss: 0.0103 - val_loss: 0.0177\n",
      "Epoch 84/300\n",
      "5/5 [==============================] - 0s 8ms/step - loss: 0.0103 - val_loss: 0.0177\n",
      "Epoch 85/300\n",
      "5/5 [==============================] - 0s 8ms/step - loss: 0.0103 - val_loss: 0.0177\n",
      "Epoch 86/300\n",
      "5/5 [==============================] - 0s 8ms/step - loss: 0.0103 - val_loss: 0.0178\n",
      "Epoch 87/300\n",
      "5/5 [==============================] - 0s 8ms/step - loss: 0.0103 - val_loss: 0.0178\n",
      "Epoch 88/300\n",
      "5/5 [==============================] - 0s 8ms/step - loss: 0.0103 - val_loss: 0.0178\n",
      "Epoch 89/300\n",
      "5/5 [==============================] - 0s 8ms/step - loss: 0.0103 - val_loss: 0.0178\n",
      "Epoch 90/300\n",
      "5/5 [==============================] - 0s 10ms/step - loss: 0.0102 - val_loss: 0.0179\n",
      "Epoch 91/300\n",
      "5/5 [==============================] - 0s 7ms/step - loss: 0.0102 - val_loss: 0.0179\n",
      "Epoch 92/300\n",
      "5/5 [==============================] - 0s 7ms/step - loss: 0.0102 - val_loss: 0.0179\n",
      "Epoch 93/300\n",
      "5/5 [==============================] - 0s 8ms/step - loss: 0.0102 - val_loss: 0.0179\n",
      "Epoch 94/300\n",
      "5/5 [==============================] - 0s 7ms/step - loss: 0.0102 - val_loss: 0.0180\n",
      "Epoch 95/300\n",
      "5/5 [==============================] - 0s 8ms/step - loss: 0.0102 - val_loss: 0.0180\n",
      "Epoch 96/300\n",
      "5/5 [==============================] - 0s 7ms/step - loss: 0.0102 - val_loss: 0.0180\n",
      "Epoch 97/300\n",
      "5/5 [==============================] - 0s 8ms/step - loss: 0.0102 - val_loss: 0.0180\n",
      "Epoch 98/300\n",
      "5/5 [==============================] - 0s 7ms/step - loss: 0.0102 - val_loss: 0.0181\n",
      "Epoch 99/300\n",
      "5/5 [==============================] - 0s 8ms/step - loss: 0.0102 - val_loss: 0.0181\n",
      "Epoch 100/300\n",
      "5/5 [==============================] - 0s 8ms/step - loss: 0.0102 - val_loss: 0.0181\n",
      "Epoch 101/300\n",
      "5/5 [==============================] - 0s 8ms/step - loss: 0.0102 - val_loss: 0.0182\n",
      "Epoch 102/300\n",
      "5/5 [==============================] - 0s 8ms/step - loss: 0.0102 - val_loss: 0.0182\n",
      "Epoch 103/300\n",
      "5/5 [==============================] - 0s 8ms/step - loss: 0.0101 - val_loss: 0.0182\n",
      "Epoch 104/300\n",
      "5/5 [==============================] - 0s 7ms/step - loss: 0.0101 - val_loss: 0.0182\n",
      "Epoch 105/300\n",
      "5/5 [==============================] - 0s 9ms/step - loss: 0.0101 - val_loss: 0.0183\n",
      "Epoch 106/300\n",
      "5/5 [==============================] - 0s 7ms/step - loss: 0.0101 - val_loss: 0.0183\n",
      "Epoch 107/300\n",
      "5/5 [==============================] - 0s 7ms/step - loss: 0.0101 - val_loss: 0.0183\n",
      "Epoch 108/300\n",
      "5/5 [==============================] - 0s 8ms/step - loss: 0.0101 - val_loss: 0.0183\n",
      "Epoch 109/300\n",
      "5/5 [==============================] - 0s 7ms/step - loss: 0.0101 - val_loss: 0.0184\n",
      "Epoch 110/300\n",
      "5/5 [==============================] - 0s 8ms/step - loss: 0.0101 - val_loss: 0.0184\n",
      "Epoch 111/300\n",
      "5/5 [==============================] - 0s 8ms/step - loss: 0.0101 - val_loss: 0.0184\n",
      "Epoch 112/300\n",
      "5/5 [==============================] - 0s 9ms/step - loss: 0.0101 - val_loss: 0.0184\n",
      "Epoch 113/300\n",
      "5/5 [==============================] - 0s 7ms/step - loss: 0.0101 - val_loss: 0.0185\n",
      "Epoch 114/300\n",
      "5/5 [==============================] - 0s 7ms/step - loss: 0.0101 - val_loss: 0.0185\n",
      "Epoch 115/300\n",
      "5/5 [==============================] - 0s 8ms/step - loss: 0.0101 - val_loss: 0.0185\n",
      "Epoch 116/300\n",
      "5/5 [==============================] - 0s 7ms/step - loss: 0.0101 - val_loss: 0.0185\n",
      "Epoch 117/300\n",
      "5/5 [==============================] - 0s 7ms/step - loss: 0.0100 - val_loss: 0.0186\n",
      "Epoch 118/300\n",
      "5/5 [==============================] - 0s 8ms/step - loss: 0.0100 - val_loss: 0.0186\n",
      "Epoch 119/300\n",
      "5/5 [==============================] - 0s 8ms/step - loss: 0.0100 - val_loss: 0.0186\n",
      "Epoch 120/300\n",
      "5/5 [==============================] - 0s 9ms/step - loss: 0.0100 - val_loss: 0.0186\n",
      "Epoch 121/300\n",
      "5/5 [==============================] - 0s 8ms/step - loss: 0.0100 - val_loss: 0.0187\n",
      "Epoch 122/300\n",
      "5/5 [==============================] - 0s 7ms/step - loss: 0.0100 - val_loss: 0.0187\n",
      "Epoch 123/300\n",
      "5/5 [==============================] - 0s 8ms/step - loss: 0.0100 - val_loss: 0.0187\n",
      "Epoch 124/300\n",
      "5/5 [==============================] - 0s 8ms/step - loss: 0.0100 - val_loss: 0.0188\n",
      "Epoch 125/300\n",
      "5/5 [==============================] - 0s 7ms/step - loss: 0.0100 - val_loss: 0.0188\n",
      "Epoch 126/300\n",
      "5/5 [==============================] - 0s 8ms/step - loss: 0.0100 - val_loss: 0.0188\n",
      "Epoch 127/300\n",
      "5/5 [==============================] - 0s 8ms/step - loss: 0.0100 - val_loss: 0.0188\n",
      "Epoch 128/300\n",
      "5/5 [==============================] - 0s 8ms/step - loss: 0.0100 - val_loss: 0.0189\n",
      "Epoch 129/300\n",
      "5/5 [==============================] - 0s 7ms/step - loss: 0.0100 - val_loss: 0.0189\n",
      "Epoch 130/300\n",
      "5/5 [==============================] - 0s 8ms/step - loss: 0.0100 - val_loss: 0.0189\n",
      "Epoch 131/300\n",
      "5/5 [==============================] - 0s 7ms/step - loss: 0.0099 - val_loss: 0.0189\n",
      "Epoch 132/300\n",
      "5/5 [==============================] - 0s 8ms/step - loss: 0.0099 - val_loss: 0.0190\n",
      "Epoch 133/300\n",
      "5/5 [==============================] - 0s 8ms/step - loss: 0.0099 - val_loss: 0.0190\n",
      "Epoch 134/300\n",
      "5/5 [==============================] - 0s 8ms/step - loss: 0.0099 - val_loss: 0.0190\n",
      "Epoch 135/300\n",
      "5/5 [==============================] - 0s 6ms/step - loss: 0.0099 - val_loss: 0.0190\n",
      "Epoch 136/300\n",
      "5/5 [==============================] - 0s 6ms/step - loss: 0.0099 - val_loss: 0.0190\n",
      "Epoch 137/300\n",
      "5/5 [==============================] - 0s 7ms/step - loss: 0.0099 - val_loss: 0.0191\n",
      "Epoch 138/300\n",
      "5/5 [==============================] - 0s 8ms/step - loss: 0.0099 - val_loss: 0.0191\n",
      "Epoch 139/300\n",
      "5/5 [==============================] - 0s 9ms/step - loss: 0.0099 - val_loss: 0.0191\n",
      "Epoch 140/300\n",
      "5/5 [==============================] - 0s 8ms/step - loss: 0.0099 - val_loss: 0.0191\n",
      "Epoch 141/300\n",
      "5/5 [==============================] - 0s 8ms/step - loss: 0.0099 - val_loss: 0.0192\n",
      "Epoch 142/300\n",
      "5/5 [==============================] - 0s 7ms/step - loss: 0.0099 - val_loss: 0.0192\n",
      "Epoch 143/300\n",
      "5/5 [==============================] - 0s 8ms/step - loss: 0.0099 - val_loss: 0.0192\n",
      "Epoch 144/300\n",
      "5/5 [==============================] - 0s 8ms/step - loss: 0.0099 - val_loss: 0.0192\n",
      "Epoch 145/300\n",
      "5/5 [==============================] - 0s 8ms/step - loss: 0.0099 - val_loss: 0.0193\n",
      "Epoch 146/300\n",
      "5/5 [==============================] - 0s 8ms/step - loss: 0.0098 - val_loss: 0.0193\n",
      "Epoch 147/300\n",
      "5/5 [==============================] - 0s 7ms/step - loss: 0.0098 - val_loss: 0.0193\n",
      "Epoch 148/300\n",
      "5/5 [==============================] - 0s 6ms/step - loss: 0.0098 - val_loss: 0.0193\n",
      "Epoch 149/300\n",
      "5/5 [==============================] - 0s 5ms/step - loss: 0.0098 - val_loss: 0.0194\n",
      "Epoch 150/300\n",
      "5/5 [==============================] - 0s 9ms/step - loss: 0.0098 - val_loss: 0.0194\n",
      "Epoch 151/300\n",
      "5/5 [==============================] - 0s 8ms/step - loss: 0.0098 - val_loss: 0.0194\n",
      "Epoch 152/300\n",
      "5/5 [==============================] - 0s 8ms/step - loss: 0.0098 - val_loss: 0.0194\n",
      "Epoch 153/300\n",
      "5/5 [==============================] - 0s 9ms/step - loss: 0.0098 - val_loss: 0.0195\n",
      "Epoch 154/300\n",
      "5/5 [==============================] - 0s 6ms/step - loss: 0.0098 - val_loss: 0.0195\n",
      "Epoch 155/300\n",
      "5/5 [==============================] - 0s 10ms/step - loss: 0.0098 - val_loss: 0.0195\n",
      "Epoch 156/300\n",
      "5/5 [==============================] - 0s 9ms/step - loss: 0.0098 - val_loss: 0.0195\n",
      "Epoch 157/300\n",
      "5/5 [==============================] - 0s 8ms/step - loss: 0.0098 - val_loss: 0.0195\n",
      "Epoch 158/300\n",
      "5/5 [==============================] - 0s 8ms/step - loss: 0.0098 - val_loss: 0.0196\n",
      "Epoch 159/300\n",
      "5/5 [==============================] - 0s 7ms/step - loss: 0.0098 - val_loss: 0.0196\n",
      "Epoch 160/300\n",
      "5/5 [==============================] - 0s 7ms/step - loss: 0.0098 - val_loss: 0.0196\n",
      "Epoch 161/300\n",
      "5/5 [==============================] - 0s 6ms/step - loss: 0.0097 - val_loss: 0.0196\n",
      "Epoch 162/300\n",
      "5/5 [==============================] - 0s 8ms/step - loss: 0.0097 - val_loss: 0.0197\n",
      "Epoch 163/300\n",
      "5/5 [==============================] - 0s 8ms/step - loss: 0.0097 - val_loss: 0.0197\n",
      "Epoch 164/300\n",
      "5/5 [==============================] - 0s 9ms/step - loss: 0.0097 - val_loss: 0.0197\n",
      "Epoch 165/300\n",
      "5/5 [==============================] - 0s 6ms/step - loss: 0.0097 - val_loss: 0.0197\n",
      "Epoch 166/300\n",
      "5/5 [==============================] - 0s 8ms/step - loss: 0.0097 - val_loss: 0.0197\n",
      "Epoch 167/300\n",
      "5/5 [==============================] - 0s 9ms/step - loss: 0.0097 - val_loss: 0.0198\n",
      "Epoch 168/300\n",
      "5/5 [==============================] - 0s 8ms/step - loss: 0.0097 - val_loss: 0.0198\n",
      "Epoch 169/300\n",
      "5/5 [==============================] - 0s 8ms/step - loss: 0.0097 - val_loss: 0.0198\n",
      "Epoch 170/300\n",
      "5/5 [==============================] - 0s 6ms/step - loss: 0.0097 - val_loss: 0.0198\n",
      "Epoch 171/300\n",
      "5/5 [==============================] - 0s 8ms/step - loss: 0.0097 - val_loss: 0.0198\n",
      "Epoch 172/300\n",
      "5/5 [==============================] - 0s 8ms/step - loss: 0.0097 - val_loss: 0.0199\n",
      "Epoch 173/300\n",
      "5/5 [==============================] - 0s 8ms/step - loss: 0.0097 - val_loss: 0.0199\n",
      "Epoch 174/300\n",
      "5/5 [==============================] - 0s 6ms/step - loss: 0.0097 - val_loss: 0.0199\n",
      "Epoch 175/300\n",
      "5/5 [==============================] - 0s 7ms/step - loss: 0.0097 - val_loss: 0.0199\n",
      "Epoch 176/300\n",
      "5/5 [==============================] - 0s 8ms/step - loss: 0.0097 - val_loss: 0.0200\n",
      "Epoch 177/300\n",
      "5/5 [==============================] - 0s 8ms/step - loss: 0.0096 - val_loss: 0.0200\n",
      "Epoch 178/300\n",
      "5/5 [==============================] - 0s 7ms/step - loss: 0.0096 - val_loss: 0.0200\n",
      "Epoch 179/300\n",
      "5/5 [==============================] - 0s 7ms/step - loss: 0.0096 - val_loss: 0.0200\n",
      "Epoch 180/300\n",
      "5/5 [==============================] - 0s 6ms/step - loss: 0.0096 - val_loss: 0.0200\n",
      "Epoch 181/300\n",
      "5/5 [==============================] - 0s 8ms/step - loss: 0.0096 - val_loss: 0.0201\n",
      "Epoch 182/300\n",
      "5/5 [==============================] - 0s 6ms/step - loss: 0.0096 - val_loss: 0.0201\n",
      "Epoch 183/300\n",
      "5/5 [==============================] - 0s 6ms/step - loss: 0.0096 - val_loss: 0.0201\n",
      "Epoch 184/300\n",
      "5/5 [==============================] - 0s 6ms/step - loss: 0.0096 - val_loss: 0.0201\n",
      "Epoch 185/300\n",
      "5/5 [==============================] - 0s 8ms/step - loss: 0.0096 - val_loss: 0.0201\n",
      "Epoch 186/300\n",
      "5/5 [==============================] - 0s 7ms/step - loss: 0.0096 - val_loss: 0.0202\n",
      "Epoch 187/300\n",
      "5/5 [==============================] - 0s 8ms/step - loss: 0.0096 - val_loss: 0.0202\n",
      "Epoch 188/300\n",
      "5/5 [==============================] - 0s 6ms/step - loss: 0.0096 - val_loss: 0.0202\n",
      "Epoch 189/300\n",
      "5/5 [==============================] - 0s 9ms/step - loss: 0.0096 - val_loss: 0.0202\n",
      "Epoch 190/300\n",
      "5/5 [==============================] - 0s 8ms/step - loss: 0.0096 - val_loss: 0.0202\n",
      "Epoch 191/300\n",
      "5/5 [==============================] - 0s 8ms/step - loss: 0.0096 - val_loss: 0.0202\n",
      "Epoch 192/300\n",
      "5/5 [==============================] - 0s 7ms/step - loss: 0.0095 - val_loss: 0.0203\n",
      "Epoch 193/300\n",
      "5/5 [==============================] - 0s 8ms/step - loss: 0.0095 - val_loss: 0.0203\n",
      "Epoch 194/300\n",
      "5/5 [==============================] - 0s 6ms/step - loss: 0.0095 - val_loss: 0.0203\n",
      "Epoch 195/300\n",
      "5/5 [==============================] - 0s 10ms/step - loss: 0.0095 - val_loss: 0.0203\n",
      "Epoch 196/300\n",
      "5/5 [==============================] - 0s 7ms/step - loss: 0.0095 - val_loss: 0.0203\n",
      "Epoch 197/300\n",
      "5/5 [==============================] - 0s 7ms/step - loss: 0.0095 - val_loss: 0.0204\n",
      "Epoch 198/300\n",
      "5/5 [==============================] - 0s 8ms/step - loss: 0.0095 - val_loss: 0.0204\n",
      "Epoch 199/300\n",
      "5/5 [==============================] - 0s 8ms/step - loss: 0.0095 - val_loss: 0.0204\n",
      "Epoch 200/300\n",
      "5/5 [==============================] - 0s 7ms/step - loss: 0.0095 - val_loss: 0.0204\n",
      "Epoch 201/300\n",
      "5/5 [==============================] - 0s 10ms/step - loss: 0.0095 - val_loss: 0.0204\n",
      "Epoch 202/300\n",
      "5/5 [==============================] - 0s 9ms/step - loss: 0.0095 - val_loss: 0.0204\n",
      "Epoch 203/300\n",
      "5/5 [==============================] - 0s 8ms/step - loss: 0.0095 - val_loss: 0.0205\n",
      "Epoch 204/300\n",
      "5/5 [==============================] - 0s 6ms/step - loss: 0.0095 - val_loss: 0.0205\n",
      "Epoch 205/300\n",
      "5/5 [==============================] - 0s 8ms/step - loss: 0.0095 - val_loss: 0.0205\n",
      "Epoch 206/300\n",
      "5/5 [==============================] - 0s 7ms/step - loss: 0.0095 - val_loss: 0.0205\n",
      "Epoch 207/300\n",
      "5/5 [==============================] - 0s 8ms/step - loss: 0.0095 - val_loss: 0.0205\n",
      "Epoch 208/300\n",
      "5/5 [==============================] - 0s 9ms/step - loss: 0.0094 - val_loss: 0.0206\n",
      "Epoch 209/300\n",
      "5/5 [==============================] - 0s 8ms/step - loss: 0.0094 - val_loss: 0.0206\n",
      "Epoch 210/300\n",
      "5/5 [==============================] - 0s 7ms/step - loss: 0.0094 - val_loss: 0.0206\n",
      "Epoch 211/300\n",
      "5/5 [==============================] - 0s 8ms/step - loss: 0.0094 - val_loss: 0.0206\n",
      "Epoch 212/300\n",
      "5/5 [==============================] - 0s 8ms/step - loss: 0.0094 - val_loss: 0.0206\n",
      "Epoch 213/300\n",
      "5/5 [==============================] - 0s 6ms/step - loss: 0.0094 - val_loss: 0.0206\n",
      "Epoch 214/300\n",
      "5/5 [==============================] - 0s 8ms/step - loss: 0.0094 - val_loss: 0.0206\n",
      "Epoch 215/300\n",
      "5/5 [==============================] - 0s 6ms/step - loss: 0.0094 - val_loss: 0.0207\n",
      "Epoch 216/300\n",
      "5/5 [==============================] - 0s 6ms/step - loss: 0.0094 - val_loss: 0.0207\n",
      "Epoch 217/300\n",
      "5/5 [==============================] - 0s 10ms/step - loss: 0.0094 - val_loss: 0.0207\n",
      "Epoch 218/300\n",
      "5/5 [==============================] - 0s 8ms/step - loss: 0.0094 - val_loss: 0.0207\n",
      "Epoch 219/300\n",
      "5/5 [==============================] - 0s 10ms/step - loss: 0.0094 - val_loss: 0.0207\n",
      "Epoch 220/300\n",
      "5/5 [==============================] - 0s 9ms/step - loss: 0.0094 - val_loss: 0.0207\n",
      "Epoch 221/300\n",
      "5/5 [==============================] - 0s 8ms/step - loss: 0.0094 - val_loss: 0.0208\n",
      "Epoch 222/300\n",
      "5/5 [==============================] - 0s 10ms/step - loss: 0.0094 - val_loss: 0.0208\n",
      "Epoch 223/300\n",
      "5/5 [==============================] - 0s 7ms/step - loss: 0.0094 - val_loss: 0.0208\n",
      "Epoch 224/300\n",
      "5/5 [==============================] - 0s 8ms/step - loss: 0.0093 - val_loss: 0.0208\n",
      "Epoch 225/300\n",
      "5/5 [==============================] - 0s 7ms/step - loss: 0.0093 - val_loss: 0.0208\n",
      "Epoch 226/300\n",
      "5/5 [==============================] - 0s 8ms/step - loss: 0.0093 - val_loss: 0.0208\n",
      "Epoch 227/300\n",
      "5/5 [==============================] - 0s 9ms/step - loss: 0.0093 - val_loss: 0.0208\n",
      "Epoch 228/300\n",
      "5/5 [==============================] - 0s 8ms/step - loss: 0.0093 - val_loss: 0.0209\n",
      "Epoch 229/300\n",
      "5/5 [==============================] - 0s 7ms/step - loss: 0.0093 - val_loss: 0.0209\n",
      "Epoch 230/300\n",
      "5/5 [==============================] - 0s 8ms/step - loss: 0.0093 - val_loss: 0.0209\n",
      "Epoch 231/300\n",
      "5/5 [==============================] - 0s 9ms/step - loss: 0.0093 - val_loss: 0.0209\n",
      "Epoch 232/300\n",
      "5/5 [==============================] - 0s 7ms/step - loss: 0.0093 - val_loss: 0.0209\n",
      "Epoch 233/300\n",
      "5/5 [==============================] - 0s 7ms/step - loss: 0.0093 - val_loss: 0.0209\n",
      "Epoch 234/300\n",
      "5/5 [==============================] - 0s 8ms/step - loss: 0.0093 - val_loss: 0.0209\n",
      "Epoch 235/300\n",
      "5/5 [==============================] - 0s 8ms/step - loss: 0.0093 - val_loss: 0.0210\n",
      "Epoch 236/300\n",
      "5/5 [==============================] - 0s 9ms/step - loss: 0.0093 - val_loss: 0.0210\n",
      "Epoch 237/300\n",
      "5/5 [==============================] - 0s 8ms/step - loss: 0.0093 - val_loss: 0.0210\n",
      "Epoch 238/300\n",
      "5/5 [==============================] - 0s 8ms/step - loss: 0.0093 - val_loss: 0.0210\n",
      "Epoch 239/300\n",
      "5/5 [==============================] - 0s 8ms/step - loss: 0.0093 - val_loss: 0.0210\n",
      "Epoch 240/300\n",
      "5/5 [==============================] - 0s 8ms/step - loss: 0.0092 - val_loss: 0.0210\n",
      "Epoch 241/300\n",
      "5/5 [==============================] - 0s 7ms/step - loss: 0.0092 - val_loss: 0.0210\n",
      "Epoch 242/300\n",
      "5/5 [==============================] - 0s 7ms/step - loss: 0.0092 - val_loss: 0.0210\n",
      "Epoch 243/300\n",
      "5/5 [==============================] - 0s 7ms/step - loss: 0.0092 - val_loss: 0.0211\n",
      "Epoch 244/300\n",
      "5/5 [==============================] - ETA: 0s - loss: 0.006 - 0s 7ms/step - loss: 0.0092 - val_loss: 0.0211\n",
      "Epoch 245/300\n",
      "5/5 [==============================] - 0s 7ms/step - loss: 0.0092 - val_loss: 0.0211\n",
      "Epoch 246/300\n",
      "5/5 [==============================] - 0s 8ms/step - loss: 0.0092 - val_loss: 0.0211\n",
      "Epoch 247/300\n",
      "5/5 [==============================] - 0s 8ms/step - loss: 0.0092 - val_loss: 0.0211\n",
      "Epoch 248/300\n",
      "5/5 [==============================] - 0s 9ms/step - loss: 0.0092 - val_loss: 0.0211\n",
      "Epoch 249/300\n",
      "5/5 [==============================] - 0s 9ms/step - loss: 0.0092 - val_loss: 0.0211\n",
      "Epoch 250/300\n",
      "5/5 [==============================] - 0s 8ms/step - loss: 0.0092 - val_loss: 0.0211\n",
      "Epoch 251/300\n",
      "5/5 [==============================] - 0s 8ms/step - loss: 0.0092 - val_loss: 0.0211\n",
      "Epoch 252/300\n",
      "5/5 [==============================] - 0s 8ms/step - loss: 0.0092 - val_loss: 0.0212\n",
      "Epoch 253/300\n",
      "5/5 [==============================] - 0s 11ms/step - loss: 0.0092 - val_loss: 0.0212\n",
      "Epoch 254/300\n",
      "5/5 [==============================] - 0s 7ms/step - loss: 0.0092 - val_loss: 0.0212\n",
      "Epoch 255/300\n",
      "5/5 [==============================] - 0s 8ms/step - loss: 0.0092 - val_loss: 0.0212\n",
      "Epoch 256/300\n",
      "5/5 [==============================] - 0s 8ms/step - loss: 0.0091 - val_loss: 0.0212\n",
      "Epoch 257/300\n",
      "5/5 [==============================] - 0s 8ms/step - loss: 0.0091 - val_loss: 0.0212\n",
      "Epoch 258/300\n",
      "5/5 [==============================] - 0s 8ms/step - loss: 0.0091 - val_loss: 0.0212\n",
      "Epoch 259/300\n",
      "5/5 [==============================] - 0s 6ms/step - loss: 0.0091 - val_loss: 0.0212\n",
      "Epoch 260/300\n",
      "5/5 [==============================] - 0s 7ms/step - loss: 0.0091 - val_loss: 0.0212\n",
      "Epoch 261/300\n",
      "5/5 [==============================] - 0s 8ms/step - loss: 0.0091 - val_loss: 0.0212\n",
      "Epoch 262/300\n",
      "5/5 [==============================] - 0s 8ms/step - loss: 0.0091 - val_loss: 0.0213\n",
      "Epoch 263/300\n",
      "5/5 [==============================] - 0s 7ms/step - loss: 0.0091 - val_loss: 0.0213\n",
      "Epoch 264/300\n",
      "5/5 [==============================] - 0s 8ms/step - loss: 0.0091 - val_loss: 0.0213\n",
      "Epoch 265/300\n",
      "5/5 [==============================] - 0s 9ms/step - loss: 0.0091 - val_loss: 0.0213\n",
      "Epoch 266/300\n",
      "5/5 [==============================] - 0s 8ms/step - loss: 0.0091 - val_loss: 0.0213\n",
      "Epoch 267/300\n",
      "5/5 [==============================] - 0s 8ms/step - loss: 0.0091 - val_loss: 0.0213\n",
      "Epoch 268/300\n",
      "5/5 [==============================] - 0s 8ms/step - loss: 0.0091 - val_loss: 0.0213\n",
      "Epoch 269/300\n",
      "5/5 [==============================] - 0s 10ms/step - loss: 0.0091 - val_loss: 0.0213\n",
      "Epoch 270/300\n",
      "5/5 [==============================] - 0s 10ms/step - loss: 0.0091 - val_loss: 0.0213\n",
      "Epoch 271/300\n",
      "5/5 [==============================] - 0s 8ms/step - loss: 0.0091 - val_loss: 0.0213\n",
      "Epoch 272/300\n",
      "5/5 [==============================] - 0s 8ms/step - loss: 0.0091 - val_loss: 0.0213\n",
      "Epoch 273/300\n",
      "5/5 [==============================] - 0s 9ms/step - loss: 0.0090 - val_loss: 0.0213\n",
      "Epoch 274/300\n",
      "5/5 [==============================] - 0s 7ms/step - loss: 0.0090 - val_loss: 0.0214\n",
      "Epoch 275/300\n",
      "5/5 [==============================] - 0s 7ms/step - loss: 0.0090 - val_loss: 0.0214\n",
      "Epoch 276/300\n",
      "5/5 [==============================] - 0s 8ms/step - loss: 0.0090 - val_loss: 0.0214\n",
      "Epoch 277/300\n",
      "5/5 [==============================] - 0s 7ms/step - loss: 0.0090 - val_loss: 0.0214\n",
      "Epoch 278/300\n",
      "5/5 [==============================] - 0s 8ms/step - loss: 0.0090 - val_loss: 0.0214\n",
      "Epoch 279/300\n",
      "5/5 [==============================] - 0s 8ms/step - loss: 0.0090 - val_loss: 0.0214\n",
      "Epoch 280/300\n",
      "5/5 [==============================] - 0s 9ms/step - loss: 0.0090 - val_loss: 0.0214\n",
      "Epoch 281/300\n",
      "5/5 [==============================] - 0s 10ms/step - loss: 0.0090 - val_loss: 0.0214\n",
      "Epoch 282/300\n",
      "5/5 [==============================] - 0s 7ms/step - loss: 0.0090 - val_loss: 0.0214\n",
      "Epoch 283/300\n",
      "5/5 [==============================] - 0s 8ms/step - loss: 0.0090 - val_loss: 0.0214\n",
      "Epoch 284/300\n",
      "5/5 [==============================] - 0s 8ms/step - loss: 0.0090 - val_loss: 0.0214\n",
      "Epoch 285/300\n",
      "5/5 [==============================] - 0s 8ms/step - loss: 0.0090 - val_loss: 0.0214\n",
      "Epoch 286/300\n",
      "5/5 [==============================] - 0s 7ms/step - loss: 0.0090 - val_loss: 0.0214\n",
      "Epoch 287/300\n",
      "5/5 [==============================] - 0s 7ms/step - loss: 0.0090 - val_loss: 0.0214\n",
      "Epoch 288/300\n",
      "5/5 [==============================] - 0s 8ms/step - loss: 0.0090 - val_loss: 0.0214\n",
      "Epoch 289/300\n",
      "5/5 [==============================] - 0s 8ms/step - loss: 0.0089 - val_loss: 0.0214\n",
      "Epoch 290/300\n",
      "5/5 [==============================] - 0s 7ms/step - loss: 0.0089 - val_loss: 0.0214\n",
      "Epoch 291/300\n",
      "5/5 [==============================] - 0s 10ms/step - loss: 0.0089 - val_loss: 0.0215\n",
      "Epoch 292/300\n",
      "5/5 [==============================] - 0s 7ms/step - loss: 0.0089 - val_loss: 0.0215\n",
      "Epoch 293/300\n",
      "5/5 [==============================] - 0s 7ms/step - loss: 0.0089 - val_loss: 0.0215\n",
      "Epoch 294/300\n",
      "5/5 [==============================] - 0s 8ms/step - loss: 0.0089 - val_loss: 0.0215\n",
      "Epoch 295/300\n",
      "5/5 [==============================] - 0s 8ms/step - loss: 0.0089 - val_loss: 0.0215\n",
      "Epoch 296/300\n",
      "5/5 [==============================] - 0s 8ms/step - loss: 0.0089 - val_loss: 0.0215\n",
      "Epoch 297/300\n",
      "5/5 [==============================] - 0s 8ms/step - loss: 0.0089 - val_loss: 0.0215\n",
      "Epoch 298/300\n",
      "5/5 [==============================] - 0s 7ms/step - loss: 0.0089 - val_loss: 0.0215\n",
      "Epoch 299/300\n",
      "5/5 [==============================] - 0s 7ms/step - loss: 0.0089 - val_loss: 0.0215\n",
      "Epoch 300/300\n",
      "5/5 [==============================] - 0s 8ms/step - loss: 0.0089 - val_loss: 0.0215\n",
      "Test Score: 61.095 RMSE\n",
      "Test Score: 3732.606 MSE\n",
      "Test Score: 42.436 MAE\n",
      "Test Score: 5.659 MAPE\n",
      "Epoch 1/300\n",
      "6/6 [==============================] - 0s 14ms/step - loss: 0.0102 - val_loss: 0.0302\n",
      "Epoch 2/300\n",
      "6/6 [==============================] - 0s 6ms/step - loss: 0.0102 - val_loss: 0.0301\n",
      "Epoch 3/300\n",
      "6/6 [==============================] - 0s 7ms/step - loss: 0.0102 - val_loss: 0.0290\n",
      "Epoch 4/300\n",
      "6/6 [==============================] - 0s 7ms/step - loss: 0.0101 - val_loss: 0.0300\n",
      "Epoch 5/300\n",
      "6/6 [==============================] - 0s 8ms/step - loss: 0.0104 - val_loss: 0.0321\n",
      "Epoch 6/300\n",
      "6/6 [==============================] - 0s 6ms/step - loss: 0.0112 - val_loss: 0.0355\n",
      "Epoch 7/300\n",
      "6/6 [==============================] - 0s 6ms/step - loss: 0.0124 - val_loss: 0.0352\n",
      "Epoch 8/300\n",
      "6/6 [==============================] - 0s 6ms/step - loss: 0.0137 - val_loss: 0.0253\n",
      "Epoch 9/300\n",
      "6/6 [==============================] - 0s 7ms/step - loss: 0.0134 - val_loss: 0.0192\n",
      "Epoch 10/300\n",
      "6/6 [==============================] - 0s 7ms/step - loss: 0.0130 - val_loss: 0.0196\n",
      "Epoch 11/300\n",
      "6/6 [==============================] - 0s 6ms/step - loss: 0.0124 - val_loss: 0.0208\n",
      "Epoch 12/300\n",
      "6/6 [==============================] - 0s 6ms/step - loss: 0.0106 - val_loss: 0.0221\n",
      "Epoch 13/300\n",
      "6/6 [==============================] - 0s 7ms/step - loss: 0.0107 - val_loss: 0.0176\n",
      "Epoch 14/300\n",
      "6/6 [==============================] - 0s 6ms/step - loss: 0.0105 - val_loss: 0.0182\n",
      "Epoch 15/300\n",
      "6/6 [==============================] - 0s 7ms/step - loss: 0.0099 - val_loss: 0.0204\n",
      "Epoch 16/300\n",
      "6/6 [==============================] - 0s 6ms/step - loss: 0.0099 - val_loss: 0.0195\n",
      "Epoch 17/300\n",
      "6/6 [==============================] - 0s 6ms/step - loss: 0.0099 - val_loss: 0.0191\n",
      "Epoch 18/300\n",
      "6/6 [==============================] - 0s 6ms/step - loss: 0.0097 - val_loss: 0.0202\n",
      "Epoch 19/300\n",
      "6/6 [==============================] - 0s 7ms/step - loss: 0.0096 - val_loss: 0.0212\n",
      "Epoch 20/300\n",
      "6/6 [==============================] - 0s 6ms/step - loss: 0.0096 - val_loss: 0.0212\n",
      "Epoch 21/300\n",
      "6/6 [==============================] - 0s 6ms/step - loss: 0.0095 - val_loss: 0.0212\n",
      "Epoch 22/300\n",
      "6/6 [==============================] - 0s 6ms/step - loss: 0.0095 - val_loss: 0.0214\n",
      "Epoch 23/300\n",
      "6/6 [==============================] - 0s 6ms/step - loss: 0.0094 - val_loss: 0.0219\n",
      "Epoch 24/300\n",
      "6/6 [==============================] - 0s 6ms/step - loss: 0.0094 - val_loss: 0.0223\n",
      "Epoch 25/300\n",
      "6/6 [==============================] - 0s 6ms/step - loss: 0.0094 - val_loss: 0.0226\n",
      "Epoch 26/300\n",
      "6/6 [==============================] - 0s 6ms/step - loss: 0.0094 - val_loss: 0.0228\n",
      "Epoch 27/300\n",
      "6/6 [==============================] - 0s 6ms/step - loss: 0.0094 - val_loss: 0.0229\n",
      "Epoch 28/300\n",
      "6/6 [==============================] - 0s 8ms/step - loss: 0.0094 - val_loss: 0.0229\n",
      "Epoch 29/300\n",
      "6/6 [==============================] - 0s 6ms/step - loss: 0.0094 - val_loss: 0.0230\n",
      "Epoch 30/300\n",
      "6/6 [==============================] - 0s 6ms/step - loss: 0.0093 - val_loss: 0.0231\n",
      "Epoch 31/300\n",
      "6/6 [==============================] - 0s 6ms/step - loss: 0.0093 - val_loss: 0.0233\n",
      "Epoch 32/300\n",
      "6/6 [==============================] - 0s 6ms/step - loss: 0.0093 - val_loss: 0.0235\n",
      "Epoch 33/300\n",
      "6/6 [==============================] - 0s 7ms/step - loss: 0.0093 - val_loss: 0.0236\n",
      "Epoch 34/300\n",
      "6/6 [==============================] - 0s 7ms/step - loss: 0.0093 - val_loss: 0.0237\n",
      "Epoch 35/300\n",
      "6/6 [==============================] - 0s 7ms/step - loss: 0.0093 - val_loss: 0.0237\n",
      "Epoch 36/300\n",
      "6/6 [==============================] - 0s 8ms/step - loss: 0.0093 - val_loss: 0.0237\n",
      "Epoch 37/300\n",
      "6/6 [==============================] - 0s 6ms/step - loss: 0.0093 - val_loss: 0.0237\n",
      "Epoch 38/300\n",
      "6/6 [==============================] - 0s 6ms/step - loss: 0.0093 - val_loss: 0.0238\n",
      "Epoch 39/300\n",
      "6/6 [==============================] - 0s 6ms/step - loss: 0.0092 - val_loss: 0.0238\n",
      "Epoch 40/300\n",
      "6/6 [==============================] - 0s 6ms/step - loss: 0.0092 - val_loss: 0.0239\n",
      "Epoch 41/300\n",
      "6/6 [==============================] - 0s 7ms/step - loss: 0.0092 - val_loss: 0.0240\n",
      "Epoch 42/300\n",
      "6/6 [==============================] - 0s 6ms/step - loss: 0.0092 - val_loss: 0.0241\n",
      "Epoch 43/300\n",
      "6/6 [==============================] - 0s 7ms/step - loss: 0.0092 - val_loss: 0.0242\n",
      "Epoch 44/300\n",
      "6/6 [==============================] - 0s 7ms/step - loss: 0.0092 - val_loss: 0.0242\n",
      "Epoch 45/300\n",
      "6/6 [==============================] - 0s 6ms/step - loss: 0.0092 - val_loss: 0.0243\n",
      "Epoch 46/300\n",
      "6/6 [==============================] - 0s 6ms/step - loss: 0.0092 - val_loss: 0.0243\n",
      "Epoch 47/300\n",
      "6/6 [==============================] - 0s 8ms/step - loss: 0.0092 - val_loss: 0.0243\n",
      "Epoch 48/300\n",
      "6/6 [==============================] - 0s 7ms/step - loss: 0.0092 - val_loss: 0.0244\n",
      "Epoch 49/300\n",
      "6/6 [==============================] - 0s 6ms/step - loss: 0.0092 - val_loss: 0.0244\n",
      "Epoch 50/300\n",
      "6/6 [==============================] - 0s 6ms/step - loss: 0.0092 - val_loss: 0.0244\n",
      "Epoch 51/300\n",
      "6/6 [==============================] - 0s 7ms/step - loss: 0.0092 - val_loss: 0.0245\n",
      "Epoch 52/300\n",
      "6/6 [==============================] - 0s 7ms/step - loss: 0.0091 - val_loss: 0.0245\n",
      "Epoch 53/300\n",
      "6/6 [==============================] - 0s 6ms/step - loss: 0.0091 - val_loss: 0.0246\n",
      "Epoch 54/300\n",
      "6/6 [==============================] - 0s 6ms/step - loss: 0.0091 - val_loss: 0.0246\n",
      "Epoch 55/300\n",
      "6/6 [==============================] - 0s 6ms/step - loss: 0.0091 - val_loss: 0.0247\n",
      "Epoch 56/300\n",
      "6/6 [==============================] - 0s 6ms/step - loss: 0.0091 - val_loss: 0.0247\n",
      "Epoch 57/300\n",
      "6/6 [==============================] - 0s 6ms/step - loss: 0.0091 - val_loss: 0.0248\n",
      "Epoch 58/300\n",
      "6/6 [==============================] - 0s 6ms/step - loss: 0.0091 - val_loss: 0.0248\n",
      "Epoch 59/300\n",
      "6/6 [==============================] - 0s 6ms/step - loss: 0.0091 - val_loss: 0.0249\n",
      "Epoch 60/300\n",
      "6/6 [==============================] - 0s 7ms/step - loss: 0.0091 - val_loss: 0.0249\n",
      "Epoch 61/300\n",
      "6/6 [==============================] - 0s 6ms/step - loss: 0.0091 - val_loss: 0.0249\n",
      "Epoch 62/300\n",
      "6/6 [==============================] - 0s 7ms/step - loss: 0.0091 - val_loss: 0.0250\n",
      "Epoch 63/300\n",
      "6/6 [==============================] - 0s 7ms/step - loss: 0.0091 - val_loss: 0.0250\n",
      "Epoch 64/300\n",
      "6/6 [==============================] - 0s 7ms/step - loss: 0.0091 - val_loss: 0.0250\n",
      "Epoch 65/300\n",
      "6/6 [==============================] - 0s 6ms/step - loss: 0.0091 - val_loss: 0.0250\n",
      "Epoch 66/300\n",
      "6/6 [==============================] - 0s 7ms/step - loss: 0.0091 - val_loss: 0.0251\n",
      "Epoch 67/300\n",
      "6/6 [==============================] - 0s 7ms/step - loss: 0.0090 - val_loss: 0.0251\n",
      "Epoch 68/300\n",
      "6/6 [==============================] - 0s 9ms/step - loss: 0.0090 - val_loss: 0.0251\n",
      "Epoch 69/300\n",
      "6/6 [==============================] - 0s 6ms/step - loss: 0.0090 - val_loss: 0.0251\n",
      "Epoch 70/300\n",
      "6/6 [==============================] - 0s 6ms/step - loss: 0.0090 - val_loss: 0.0252\n",
      "Epoch 71/300\n",
      "6/6 [==============================] - 0s 7ms/step - loss: 0.0090 - val_loss: 0.0252\n",
      "Epoch 72/300\n",
      "6/6 [==============================] - 0s 6ms/step - loss: 0.0090 - val_loss: 0.0252\n",
      "Epoch 73/300\n",
      "6/6 [==============================] - 0s 6ms/step - loss: 0.0090 - val_loss: 0.0253\n",
      "Epoch 74/300\n",
      "6/6 [==============================] - 0s 8ms/step - loss: 0.0090 - val_loss: 0.0253\n",
      "Epoch 75/300\n",
      "6/6 [==============================] - 0s 7ms/step - loss: 0.0090 - val_loss: 0.0254\n",
      "Epoch 76/300\n",
      "6/6 [==============================] - 0s 6ms/step - loss: 0.0090 - val_loss: 0.0254\n",
      "Epoch 77/300\n",
      "6/6 [==============================] - 0s 6ms/step - loss: 0.0090 - val_loss: 0.0255\n",
      "Epoch 78/300\n",
      "6/6 [==============================] - 0s 6ms/step - loss: 0.0090 - val_loss: 0.0255\n",
      "Epoch 79/300\n",
      "6/6 [==============================] - 0s 7ms/step - loss: 0.0090 - val_loss: 0.0256\n",
      "Epoch 80/300\n",
      "6/6 [==============================] - 0s 6ms/step - loss: 0.0090 - val_loss: 0.0256\n",
      "Epoch 81/300\n",
      "6/6 [==============================] - 0s 7ms/step - loss: 0.0090 - val_loss: 0.0257\n",
      "Epoch 82/300\n",
      "6/6 [==============================] - 0s 7ms/step - loss: 0.0090 - val_loss: 0.0257\n",
      "Epoch 83/300\n",
      "6/6 [==============================] - 0s 7ms/step - loss: 0.0090 - val_loss: 0.0258\n",
      "Epoch 84/300\n",
      "6/6 [==============================] - 0s 8ms/step - loss: 0.0090 - val_loss: 0.0258\n",
      "Epoch 85/300\n",
      "6/6 [==============================] - 0s 6ms/step - loss: 0.0090 - val_loss: 0.0258\n",
      "Epoch 86/300\n",
      "6/6 [==============================] - 0s 7ms/step - loss: 0.0090 - val_loss: 0.0258\n",
      "Epoch 87/300\n",
      "6/6 [==============================] - 0s 7ms/step - loss: 0.0089 - val_loss: 0.0258\n",
      "Epoch 88/300\n",
      "6/6 [==============================] - 0s 7ms/step - loss: 0.0089 - val_loss: 0.0257\n",
      "Epoch 89/300\n",
      "6/6 [==============================] - 0s 6ms/step - loss: 0.0089 - val_loss: 0.0257\n",
      "Epoch 90/300\n",
      "6/6 [==============================] - 0s 6ms/step - loss: 0.0089 - val_loss: 0.0257\n",
      "Epoch 91/300\n",
      "6/6 [==============================] - 0s 7ms/step - loss: 0.0089 - val_loss: 0.0256\n",
      "Epoch 92/300\n",
      "6/6 [==============================] - 0s 8ms/step - loss: 0.0089 - val_loss: 0.0256\n",
      "Epoch 93/300\n",
      "6/6 [==============================] - 0s 6ms/step - loss: 0.0089 - val_loss: 0.0255\n",
      "Epoch 94/300\n",
      "6/6 [==============================] - 0s 7ms/step - loss: 0.0089 - val_loss: 0.0255\n",
      "Epoch 95/300\n",
      "6/6 [==============================] - 0s 7ms/step - loss: 0.0089 - val_loss: 0.0254\n",
      "Epoch 96/300\n",
      "6/6 [==============================] - 0s 8ms/step - loss: 0.0089 - val_loss: 0.0254\n",
      "Epoch 97/300\n",
      "6/6 [==============================] - 0s 7ms/step - loss: 0.0089 - val_loss: 0.0254\n",
      "Epoch 98/300\n",
      "6/6 [==============================] - 0s 7ms/step - loss: 0.0089 - val_loss: 0.0254\n",
      "Epoch 99/300\n",
      "6/6 [==============================] - 0s 8ms/step - loss: 0.0089 - val_loss: 0.0254\n",
      "Epoch 100/300\n",
      "6/6 [==============================] - 0s 9ms/step - loss: 0.0089 - val_loss: 0.0254\n",
      "Epoch 101/300\n",
      "6/6 [==============================] - 0s 7ms/step - loss: 0.0088 - val_loss: 0.0254\n",
      "Epoch 102/300\n",
      "6/6 [==============================] - 0s 6ms/step - loss: 0.0088 - val_loss: 0.0255\n",
      "Epoch 103/300\n",
      "6/6 [==============================] - 0s 8ms/step - loss: 0.0088 - val_loss: 0.0256\n",
      "Epoch 104/300\n",
      "6/6 [==============================] - 0s 6ms/step - loss: 0.0088 - val_loss: 0.0257\n",
      "Epoch 105/300\n",
      "6/6 [==============================] - 0s 6ms/step - loss: 0.0088 - val_loss: 0.0258\n",
      "Epoch 106/300\n",
      "6/6 [==============================] - 0s 7ms/step - loss: 0.0088 - val_loss: 0.0260\n",
      "Epoch 107/300\n",
      "6/6 [==============================] - 0s 7ms/step - loss: 0.0088 - val_loss: 0.0262\n",
      "Epoch 108/300\n",
      "6/6 [==============================] - 0s 7ms/step - loss: 0.0087 - val_loss: 0.0264\n",
      "Epoch 109/300\n",
      "6/6 [==============================] - 0s 7ms/step - loss: 0.0087 - val_loss: 0.0267\n",
      "Epoch 110/300\n",
      "6/6 [==============================] - 0s 7ms/step - loss: 0.0087 - val_loss: 0.0270\n",
      "Epoch 111/300\n",
      "6/6 [==============================] - 0s 6ms/step - loss: 0.0087 - val_loss: 0.0273\n",
      "Epoch 112/300\n",
      "6/6 [==============================] - 0s 6ms/step - loss: 0.0087 - val_loss: 0.0277\n",
      "Epoch 113/300\n",
      "6/6 [==============================] - 0s 7ms/step - loss: 0.0088 - val_loss: 0.0281\n",
      "Epoch 114/300\n",
      "6/6 [==============================] - 0s 7ms/step - loss: 0.0088 - val_loss: 0.0285\n",
      "Epoch 115/300\n",
      "6/6 [==============================] - 0s 7ms/step - loss: 0.0088 - val_loss: 0.0290\n",
      "Epoch 116/300\n",
      "6/6 [==============================] - 0s 7ms/step - loss: 0.0089 - val_loss: 0.0294\n",
      "Epoch 117/300\n",
      "6/6 [==============================] - 0s 6ms/step - loss: 0.0089 - val_loss: 0.0298\n",
      "Epoch 118/300\n",
      "6/6 [==============================] - 0s 7ms/step - loss: 0.0090 - val_loss: 0.0301\n",
      "Epoch 119/300\n",
      "6/6 [==============================] - 0s 6ms/step - loss: 0.0091 - val_loss: 0.0301\n",
      "Epoch 120/300\n",
      "6/6 [==============================] - 0s 6ms/step - loss: 0.0092 - val_loss: 0.0299\n",
      "Epoch 121/300\n",
      "6/6 [==============================] - 0s 6ms/step - loss: 0.0093 - val_loss: 0.0293\n",
      "Epoch 122/300\n",
      "6/6 [==============================] - 0s 6ms/step - loss: 0.0094 - val_loss: 0.0281\n",
      "Epoch 123/300\n",
      "6/6 [==============================] - 0s 7ms/step - loss: 0.0094 - val_loss: 0.0264\n",
      "Epoch 124/300\n",
      "6/6 [==============================] - 0s 8ms/step - loss: 0.0095 - val_loss: 0.0246\n",
      "Epoch 125/300\n",
      "6/6 [==============================] - 0s 7ms/step - loss: 0.0096 - val_loss: 0.0231\n",
      "Epoch 126/300\n",
      "6/6 [==============================] - 0s 6ms/step - loss: 0.0099 - val_loss: 0.0223\n",
      "Epoch 127/300\n",
      "6/6 [==============================] - 0s 6ms/step - loss: 0.0103 - val_loss: 0.0221\n",
      "Epoch 128/300\n",
      "6/6 [==============================] - 0s 7ms/step - loss: 0.0106 - val_loss: 0.0218\n",
      "Epoch 129/300\n",
      "6/6 [==============================] - 0s 6ms/step - loss: 0.0106 - val_loss: 0.0213\n",
      "Epoch 130/300\n",
      "6/6 [==============================] - 0s 7ms/step - loss: 0.0100 - val_loss: 0.0229\n",
      "Epoch 131/300\n",
      "6/6 [==============================] - 0s 7ms/step - loss: 0.0092 - val_loss: 0.0266\n",
      "Epoch 132/300\n",
      "6/6 [==============================] - 0s 6ms/step - loss: 0.0091 - val_loss: 0.0281\n",
      "Epoch 133/300\n",
      "6/6 [==============================] - 0s 6ms/step - loss: 0.0093 - val_loss: 0.0260\n",
      "Epoch 134/300\n",
      "6/6 [==============================] - 0s 7ms/step - loss: 0.0092 - val_loss: 0.0236\n",
      "Epoch 135/300\n",
      "6/6 [==============================] - 0s 6ms/step - loss: 0.0090 - val_loss: 0.0225\n",
      "Epoch 136/300\n",
      "6/6 [==============================] - 0s 6ms/step - loss: 0.0090 - val_loss: 0.0223\n",
      "Epoch 137/300\n",
      "6/6 [==============================] - 0s 6ms/step - loss: 0.0090 - val_loss: 0.0230\n",
      "Epoch 138/300\n",
      "6/6 [==============================] - 0s 7ms/step - loss: 0.0088 - val_loss: 0.0243\n",
      "Epoch 139/300\n",
      "6/6 [==============================] - 0s 7ms/step - loss: 0.0086 - val_loss: 0.0257\n",
      "Epoch 140/300\n",
      "6/6 [==============================] - 0s 6ms/step - loss: 0.0086 - val_loss: 0.0266\n",
      "Epoch 141/300\n",
      "6/6 [==============================] - 0s 6ms/step - loss: 0.0087 - val_loss: 0.0267\n",
      "Epoch 142/300\n",
      "6/6 [==============================] - 0s 6ms/step - loss: 0.0087 - val_loss: 0.0263\n",
      "Epoch 143/300\n",
      "6/6 [==============================] - 0s 7ms/step - loss: 0.0087 - val_loss: 0.0257\n",
      "Epoch 144/300\n",
      "6/6 [==============================] - 0s 6ms/step - loss: 0.0087 - val_loss: 0.0252\n",
      "Epoch 145/300\n",
      "6/6 [==============================] - 0s 7ms/step - loss: 0.0087 - val_loss: 0.0248\n",
      "Epoch 146/300\n",
      "6/6 [==============================] - 0s 6ms/step - loss: 0.0087 - val_loss: 0.0246\n",
      "Epoch 147/300\n",
      "6/6 [==============================] - 0s 7ms/step - loss: 0.0086 - val_loss: 0.0246\n",
      "Epoch 148/300\n",
      "6/6 [==============================] - 0s 8ms/step - loss: 0.0086 - val_loss: 0.0247\n",
      "Epoch 149/300\n",
      "6/6 [==============================] - 0s 7ms/step - loss: 0.0086 - val_loss: 0.0249\n",
      "Epoch 150/300\n",
      "6/6 [==============================] - 0s 6ms/step - loss: 0.0086 - val_loss: 0.0252\n",
      "Epoch 151/300\n",
      "6/6 [==============================] - 0s 6ms/step - loss: 0.0085 - val_loss: 0.0256\n",
      "Epoch 152/300\n",
      "6/6 [==============================] - 0s 7ms/step - loss: 0.0085 - val_loss: 0.0260\n",
      "Epoch 153/300\n",
      "6/6 [==============================] - 0s 6ms/step - loss: 0.0085 - val_loss: 0.0265\n",
      "Epoch 154/300\n",
      "6/6 [==============================] - 0s 6ms/step - loss: 0.0085 - val_loss: 0.0270\n",
      "Epoch 155/300\n",
      "6/6 [==============================] - 0s 8ms/step - loss: 0.0085 - val_loss: 0.0274\n",
      "Epoch 156/300\n",
      "6/6 [==============================] - 0s 7ms/step - loss: 0.0085 - val_loss: 0.0279\n",
      "Epoch 157/300\n",
      "6/6 [==============================] - 0s 7ms/step - loss: 0.0086 - val_loss: 0.0282\n",
      "Epoch 158/300\n",
      "6/6 [==============================] - 0s 7ms/step - loss: 0.0086 - val_loss: 0.0284\n",
      "Epoch 159/300\n",
      "6/6 [==============================] - 0s 7ms/step - loss: 0.0086 - val_loss: 0.0285\n",
      "Epoch 160/300\n",
      "6/6 [==============================] - 0s 6ms/step - loss: 0.0087 - val_loss: 0.0284\n",
      "Epoch 161/300\n",
      "6/6 [==============================] - 0s 6ms/step - loss: 0.0087 - val_loss: 0.0280\n",
      "Epoch 162/300\n",
      "6/6 [==============================] - 0s 7ms/step - loss: 0.0087 - val_loss: 0.0274\n",
      "Epoch 163/300\n",
      "6/6 [==============================] - 0s 7ms/step - loss: 0.0088 - val_loss: 0.0267\n",
      "Epoch 164/300\n",
      "6/6 [==============================] - 0s 7ms/step - loss: 0.0088 - val_loss: 0.0259\n",
      "Epoch 165/300\n",
      "6/6 [==============================] - 0s 8ms/step - loss: 0.0088 - val_loss: 0.0252\n",
      "Epoch 166/300\n",
      "6/6 [==============================] - 0s 7ms/step - loss: 0.0088 - val_loss: 0.0245\n",
      "Epoch 167/300\n",
      "6/6 [==============================] - 0s 6ms/step - loss: 0.0088 - val_loss: 0.0240\n",
      "Epoch 168/300\n",
      "6/6 [==============================] - 0s 7ms/step - loss: 0.0089 - val_loss: 0.0237\n",
      "Epoch 169/300\n",
      "6/6 [==============================] - 0s 7ms/step - loss: 0.0089 - val_loss: 0.0235\n",
      "Epoch 170/300\n",
      "6/6 [==============================] - 0s 6ms/step - loss: 0.0090 - val_loss: 0.0234\n",
      "Epoch 171/300\n",
      "6/6 [==============================] - 0s 8ms/step - loss: 0.0089 - val_loss: 0.0235\n",
      "Epoch 172/300\n",
      "6/6 [==============================] - 0s 7ms/step - loss: 0.0088 - val_loss: 0.0239\n",
      "Epoch 173/300\n",
      "6/6 [==============================] - 0s 8ms/step - loss: 0.0087 - val_loss: 0.0247\n",
      "Epoch 174/300\n",
      "6/6 [==============================] - 0s 7ms/step - loss: 0.0085 - val_loss: 0.0259\n",
      "Epoch 175/300\n",
      "6/6 [==============================] - 0s 6ms/step - loss: 0.0084 - val_loss: 0.0274\n",
      "Epoch 176/300\n",
      "6/6 [==============================] - 0s 7ms/step - loss: 0.0085 - val_loss: 0.0290\n",
      "Epoch 177/300\n",
      "6/6 [==============================] - 0s 6ms/step - loss: 0.0086 - val_loss: 0.0306\n",
      "Epoch 178/300\n",
      "6/6 [==============================] - 0s 6ms/step - loss: 0.0088 - val_loss: 0.0318\n",
      "Epoch 179/300\n",
      "6/6 [==============================] - 0s 6ms/step - loss: 0.0090 - val_loss: 0.0323\n",
      "Epoch 180/300\n",
      "6/6 [==============================] - 0s 7ms/step - loss: 0.0092 - val_loss: 0.0316\n",
      "Epoch 181/300\n",
      "6/6 [==============================] - 0s 8ms/step - loss: 0.0093 - val_loss: 0.0296\n",
      "Epoch 182/300\n",
      "6/6 [==============================] - 0s 6ms/step - loss: 0.0093 - val_loss: 0.0267\n",
      "Epoch 183/300\n",
      "6/6 [==============================] - 0s 6ms/step - loss: 0.0092 - val_loss: 0.0243\n",
      "Epoch 184/300\n",
      "6/6 [==============================] - 0s 7ms/step - loss: 0.0092 - val_loss: 0.0230\n",
      "Epoch 185/300\n",
      "6/6 [==============================] - 0s 7ms/step - loss: 0.0093 - val_loss: 0.0225\n",
      "Epoch 186/300\n",
      "6/6 [==============================] - 0s 7ms/step - loss: 0.0093 - val_loss: 0.0224\n",
      "Epoch 187/300\n",
      "6/6 [==============================] - 0s 7ms/step - loss: 0.0091 - val_loss: 0.0231\n",
      "Epoch 188/300\n",
      "6/6 [==============================] - 0s 7ms/step - loss: 0.0087 - val_loss: 0.0249\n",
      "Epoch 189/300\n",
      "6/6 [==============================] - 0s 8ms/step - loss: 0.0084 - val_loss: 0.0271\n",
      "Epoch 190/300\n",
      "6/6 [==============================] - 0s 6ms/step - loss: 0.0085 - val_loss: 0.0285\n",
      "Epoch 191/300\n",
      "6/6 [==============================] - 0s 6ms/step - loss: 0.0086 - val_loss: 0.0286\n",
      "Epoch 192/300\n",
      "6/6 [==============================] - 0s 7ms/step - loss: 0.0087 - val_loss: 0.0278\n",
      "Epoch 193/300\n",
      "6/6 [==============================] - 0s 7ms/step - loss: 0.0086 - val_loss: 0.0266\n",
      "Epoch 194/300\n",
      "6/6 [==============================] - 0s 6ms/step - loss: 0.0086 - val_loss: 0.0256\n",
      "Epoch 195/300\n",
      "6/6 [==============================] - 0s 7ms/step - loss: 0.0085 - val_loss: 0.0249\n",
      "Epoch 196/300\n",
      "6/6 [==============================] - 0s 7ms/step - loss: 0.0085 - val_loss: 0.0246\n",
      "Epoch 197/300\n",
      "6/6 [==============================] - 0s 8ms/step - loss: 0.0085 - val_loss: 0.0247\n",
      "Epoch 198/300\n",
      "6/6 [==============================] - 0s 6ms/step - loss: 0.0084 - val_loss: 0.0250\n",
      "Epoch 199/300\n",
      "6/6 [==============================] - 0s 6ms/step - loss: 0.0084 - val_loss: 0.0254\n",
      "Epoch 200/300\n",
      "6/6 [==============================] - 0s 7ms/step - loss: 0.0083 - val_loss: 0.0261\n",
      "Epoch 201/300\n",
      "6/6 [==============================] - 0s 7ms/step - loss: 0.0083 - val_loss: 0.0269\n",
      "Epoch 202/300\n",
      "6/6 [==============================] - 0s 6ms/step - loss: 0.0083 - val_loss: 0.0276\n",
      "Epoch 203/300\n",
      "6/6 [==============================] - 0s 7ms/step - loss: 0.0083 - val_loss: 0.0283\n",
      "Epoch 204/300\n",
      "6/6 [==============================] - 0s 7ms/step - loss: 0.0083 - val_loss: 0.0289\n",
      "Epoch 205/300\n",
      "6/6 [==============================] - 0s 7ms/step - loss: 0.0084 - val_loss: 0.0294\n",
      "Epoch 206/300\n",
      "6/6 [==============================] - 0s 6ms/step - loss: 0.0084 - val_loss: 0.0295\n",
      "Epoch 207/300\n",
      "6/6 [==============================] - 0s 6ms/step - loss: 0.0085 - val_loss: 0.0294\n",
      "Epoch 208/300\n",
      "6/6 [==============================] - 0s 7ms/step - loss: 0.0085 - val_loss: 0.0289\n",
      "Epoch 209/300\n",
      "6/6 [==============================] - 0s 6ms/step - loss: 0.0086 - val_loss: 0.0282\n",
      "Epoch 210/300\n",
      "6/6 [==============================] - 0s 6ms/step - loss: 0.0086 - val_loss: 0.0273\n",
      "Epoch 211/300\n",
      "6/6 [==============================] - 0s 7ms/step - loss: 0.0086 - val_loss: 0.0264\n",
      "Epoch 212/300\n",
      "6/6 [==============================] - 0s 7ms/step - loss: 0.0086 - val_loss: 0.0256\n",
      "Epoch 213/300\n",
      "6/6 [==============================] - 0s 7ms/step - loss: 0.0086 - val_loss: 0.0250\n",
      "Epoch 214/300\n",
      "6/6 [==============================] - 0s 6ms/step - loss: 0.0086 - val_loss: 0.0245\n",
      "Epoch 215/300\n",
      "6/6 [==============================] - 0s 6ms/step - loss: 0.0086 - val_loss: 0.0243\n",
      "Epoch 216/300\n",
      "6/6 [==============================] - 0s 7ms/step - loss: 0.0086 - val_loss: 0.0243\n",
      "Epoch 217/300\n",
      "6/6 [==============================] - 0s 7ms/step - loss: 0.0086 - val_loss: 0.0245\n",
      "Epoch 218/300\n",
      "6/6 [==============================] - 0s 6ms/step - loss: 0.0085 - val_loss: 0.0250\n",
      "Epoch 219/300\n",
      "6/6 [==============================] - 0s 7ms/step - loss: 0.0084 - val_loss: 0.0257\n",
      "Epoch 220/300\n",
      "6/6 [==============================] - 0s 7ms/step - loss: 0.0083 - val_loss: 0.0268\n",
      "Epoch 221/300\n",
      "6/6 [==============================] - 0s 7ms/step - loss: 0.0082 - val_loss: 0.0281\n",
      "Epoch 222/300\n",
      "6/6 [==============================] - 0s 6ms/step - loss: 0.0082 - val_loss: 0.0295\n",
      "Epoch 223/300\n",
      "6/6 [==============================] - 0s 6ms/step - loss: 0.0083 - val_loss: 0.0309\n",
      "Epoch 224/300\n",
      "6/6 [==============================] - 0s 8ms/step - loss: 0.0085 - val_loss: 0.0321\n",
      "Epoch 225/300\n",
      "6/6 [==============================] - 0s 7ms/step - loss: 0.0087 - val_loss: 0.0328\n",
      "Epoch 226/300\n",
      "6/6 [==============================] - 0s 6ms/step - loss: 0.0089 - val_loss: 0.0325\n",
      "Epoch 227/300\n",
      "6/6 [==============================] - 0s 6ms/step - loss: 0.0090 - val_loss: 0.0312\n",
      "Epoch 228/300\n",
      "6/6 [==============================] - 0s 7ms/step - loss: 0.0090 - val_loss: 0.0288\n",
      "Epoch 229/300\n",
      "6/6 [==============================] - 0s 8ms/step - loss: 0.0090 - val_loss: 0.0262\n",
      "Epoch 230/300\n",
      "6/6 [==============================] - 0s 6ms/step - loss: 0.0089 - val_loss: 0.0243\n",
      "Epoch 231/300\n",
      "6/6 [==============================] - 0s 6ms/step - loss: 0.0090 - val_loss: 0.0234\n",
      "Epoch 232/300\n",
      "6/6 [==============================] - 0s 7ms/step - loss: 0.0091 - val_loss: 0.0230\n",
      "Epoch 233/300\n",
      "6/6 [==============================] - 0s 8ms/step - loss: 0.0091 - val_loss: 0.0231\n",
      "Epoch 234/300\n",
      "6/6 [==============================] - 0s 6ms/step - loss: 0.0088 - val_loss: 0.0242\n",
      "Epoch 235/300\n",
      "6/6 [==============================] - 0s 7ms/step - loss: 0.0084 - val_loss: 0.0263\n",
      "Epoch 236/300\n",
      "6/6 [==============================] - 0s 7ms/step - loss: 0.0083 - val_loss: 0.0286\n",
      "Epoch 237/300\n",
      "6/6 [==============================] - 0s 7ms/step - loss: 0.0083 - val_loss: 0.0299\n",
      "Epoch 238/300\n",
      "6/6 [==============================] - 0s 6ms/step - loss: 0.0085 - val_loss: 0.0298\n",
      "Epoch 239/300\n",
      "6/6 [==============================] - 0s 6ms/step - loss: 0.0085 - val_loss: 0.0287\n",
      "Epoch 240/300\n",
      "6/6 [==============================] - 0s 6ms/step - loss: 0.0085 - val_loss: 0.0273\n",
      "Epoch 241/300\n",
      "6/6 [==============================] - 0s 6ms/step - loss: 0.0084 - val_loss: 0.0261\n",
      "Epoch 242/300\n",
      "6/6 [==============================] - 0s 6ms/step - loss: 0.0084 - val_loss: 0.0253\n",
      "Epoch 243/300\n",
      "6/6 [==============================] - 0s 6ms/step - loss: 0.0084 - val_loss: 0.0250\n",
      "Epoch 244/300\n",
      "6/6 [==============================] - 0s 6ms/step - loss: 0.0084 - val_loss: 0.0250\n",
      "Epoch 245/300\n",
      "6/6 [==============================] - 0s 8ms/step - loss: 0.0083 - val_loss: 0.0254\n",
      "Epoch 246/300\n",
      "6/6 [==============================] - 0s 6ms/step - loss: 0.0082 - val_loss: 0.0260\n",
      "Epoch 247/300\n",
      "6/6 [==============================] - 0s 6ms/step - loss: 0.0081 - val_loss: 0.0269\n",
      "Epoch 248/300\n",
      "6/6 [==============================] - 0s 7ms/step - loss: 0.0081 - val_loss: 0.0279\n",
      "Epoch 249/300\n",
      "6/6 [==============================] - 0s 6ms/step - loss: 0.0081 - val_loss: 0.0288\n",
      "Epoch 250/300\n",
      "6/6 [==============================] - 0s 6ms/step - loss: 0.0081 - val_loss: 0.0296\n",
      "Epoch 251/300\n",
      "6/6 [==============================] - 0s 6ms/step - loss: 0.0082 - val_loss: 0.0302\n",
      "Epoch 252/300\n",
      "6/6 [==============================] - 0s 7ms/step - loss: 0.0083 - val_loss: 0.0305\n",
      "Epoch 253/300\n",
      "6/6 [==============================] - 0s 6ms/step - loss: 0.0083 - val_loss: 0.0304\n",
      "Epoch 254/300\n",
      "6/6 [==============================] - 0s 7ms/step - loss: 0.0084 - val_loss: 0.0299\n",
      "Epoch 255/300\n",
      "6/6 [==============================] - 0s 6ms/step - loss: 0.0084 - val_loss: 0.0291\n",
      "Epoch 256/300\n",
      "6/6 [==============================] - 0s 6ms/step - loss: 0.0084 - val_loss: 0.0280\n",
      "Epoch 257/300\n",
      "6/6 [==============================] - 0s 7ms/step - loss: 0.0084 - val_loss: 0.0269\n",
      "Epoch 258/300\n",
      "6/6 [==============================] - 0s 6ms/step - loss: 0.0084 - val_loss: 0.0260\n",
      "Epoch 259/300\n",
      "6/6 [==============================] - 0s 8ms/step - loss: 0.0084 - val_loss: 0.0253\n",
      "Epoch 260/300\n",
      "6/6 [==============================] - 0s 7ms/step - loss: 0.0084 - val_loss: 0.0249\n",
      "Epoch 261/300\n",
      "6/6 [==============================] - 0s 6ms/step - loss: 0.0084 - val_loss: 0.0248\n",
      "Epoch 262/300\n",
      "6/6 [==============================] - 0s 6ms/step - loss: 0.0084 - val_loss: 0.0249\n",
      "Epoch 263/300\n",
      "6/6 [==============================] - 0s 6ms/step - loss: 0.0084 - val_loss: 0.0252\n",
      "Epoch 264/300\n",
      "6/6 [==============================] - 0s 6ms/step - loss: 0.0082 - val_loss: 0.0260\n",
      "Epoch 265/300\n",
      "6/6 [==============================] - 0s 6ms/step - loss: 0.0081 - val_loss: 0.0270\n",
      "Epoch 266/300\n",
      "6/6 [==============================] - 0s 7ms/step - loss: 0.0081 - val_loss: 0.0284\n",
      "Epoch 267/300\n",
      "6/6 [==============================] - 0s 8ms/step - loss: 0.0080 - val_loss: 0.0299\n",
      "Epoch 268/300\n",
      "6/6 [==============================] - 0s 7ms/step - loss: 0.0081 - val_loss: 0.0314\n",
      "Epoch 269/300\n",
      "6/6 [==============================] - 0s 6ms/step - loss: 0.0083 - val_loss: 0.0326\n",
      "Epoch 270/300\n",
      "6/6 [==============================] - 0s 6ms/step - loss: 0.0084 - val_loss: 0.0333\n",
      "Epoch 271/300\n",
      "6/6 [==============================] - 0s 7ms/step - loss: 0.0086 - val_loss: 0.0331\n",
      "Epoch 272/300\n",
      "6/6 [==============================] - 0s 7ms/step - loss: 0.0088 - val_loss: 0.0317\n",
      "Epoch 273/300\n",
      "6/6 [==============================] - 0s 6ms/step - loss: 0.0088 - val_loss: 0.0295\n",
      "Epoch 274/300\n",
      "6/6 [==============================] - 0s 7ms/step - loss: 0.0088 - val_loss: 0.0270\n",
      "Epoch 275/300\n",
      "6/6 [==============================] - 0s 8ms/step - loss: 0.0087 - val_loss: 0.0250\n",
      "Epoch 276/300\n",
      "6/6 [==============================] - 0s 8ms/step - loss: 0.0087 - val_loss: 0.0240\n",
      "Epoch 277/300\n",
      "6/6 [==============================] - 0s 7ms/step - loss: 0.0088 - val_loss: 0.0236\n",
      "Epoch 278/300\n",
      "6/6 [==============================] - 0s 6ms/step - loss: 0.0088 - val_loss: 0.0237\n",
      "Epoch 279/300\n",
      "6/6 [==============================] - 0s 7ms/step - loss: 0.0086 - val_loss: 0.0246\n",
      "Epoch 280/300\n",
      "6/6 [==============================] - 0s 6ms/step - loss: 0.0083 - val_loss: 0.0266\n",
      "Epoch 281/300\n",
      "6/6 [==============================] - 0s 6ms/step - loss: 0.0081 - val_loss: 0.0290\n",
      "Epoch 282/300\n",
      "6/6 [==============================] - 0s 7ms/step - loss: 0.0081 - val_loss: 0.0308\n",
      "Epoch 283/300\n",
      "6/6 [==============================] - 0s 6ms/step - loss: 0.0083 - val_loss: 0.0312\n",
      "Epoch 284/300\n",
      "6/6 [==============================] - 0s 7ms/step - loss: 0.0084 - val_loss: 0.0304\n",
      "Epoch 285/300\n",
      "6/6 [==============================] - 0s 7ms/step - loss: 0.0084 - val_loss: 0.0288\n",
      "Epoch 286/300\n",
      "6/6 [==============================] - 0s 6ms/step - loss: 0.0083 - val_loss: 0.0273\n",
      "Epoch 287/300\n",
      "6/6 [==============================] - 0s 7ms/step - loss: 0.0083 - val_loss: 0.0261\n",
      "Epoch 288/300\n",
      "6/6 [==============================] - 0s 7ms/step - loss: 0.0083 - val_loss: 0.0255\n",
      "Epoch 289/300\n",
      "6/6 [==============================] - 0s 6ms/step - loss: 0.0082 - val_loss: 0.0253\n",
      "Epoch 290/300\n",
      "6/6 [==============================] - 0s 7ms/step - loss: 0.0082 - val_loss: 0.0255\n",
      "Epoch 291/300\n",
      "6/6 [==============================] - 0s 7ms/step - loss: 0.0081 - val_loss: 0.0260\n",
      "Epoch 292/300\n",
      "6/6 [==============================] - 0s 8ms/step - loss: 0.0080 - val_loss: 0.0270\n",
      "Epoch 293/300\n",
      "6/6 [==============================] - 0s 6ms/step - loss: 0.0079 - val_loss: 0.0281\n",
      "Epoch 294/300\n",
      "6/6 [==============================] - 0s 7ms/step - loss: 0.0079 - val_loss: 0.0293\n",
      "Epoch 295/300\n",
      "6/6 [==============================] - 0s 7ms/step - loss: 0.0080 - val_loss: 0.0303\n",
      "Epoch 296/300\n",
      "6/6 [==============================] - 0s 7ms/step - loss: 0.0080 - val_loss: 0.0311\n",
      "Epoch 297/300\n",
      "6/6 [==============================] - 0s 6ms/step - loss: 0.0081 - val_loss: 0.0315\n",
      "Epoch 298/300\n",
      "6/6 [==============================] - 0s 7ms/step - loss: 0.0082 - val_loss: 0.0314\n",
      "Epoch 299/300\n",
      "6/6 [==============================] - 0s 7ms/step - loss: 0.0083 - val_loss: 0.0308\n",
      "Epoch 300/300\n",
      "6/6 [==============================] - 0s 7ms/step - loss: 0.0083 - val_loss: 0.0298\n",
      "Test Score: 71.856 RMSE\n",
      "Test Score: 5163.340 MSE\n",
      "Test Score: 51.089 MAE\n",
      "Test Score: 10.086 MAPE\n"
     ]
    }
   ],
   "source": [
    "#Training the data using cross validation\n",
    "from sklearn.model_selection import train_test_split\n",
    "from sklearn.model_selection import KFold\n",
    "from sklearn.model_selection import cross_val_score\n",
    "from sklearn.model_selection import TimeSeriesSplit\n",
    "\n",
    "RMSE = []\n",
    "MSE =[]\n",
    "MAE =[]\n",
    "MAPE =[]\n",
    "\n",
    "nn = 10\n",
    "\n",
    "model=Sequential()\n",
    "model.add(LSTM(50, return_sequences=True,input_shape=(1,look_back)))\n",
    "model.add(LSTM(50,return_sequences=True))\n",
    "model.add(LSTM(50))\n",
    "model.add(Dense(1))\n",
    "model.compile(loss='mean_squared_error', optimizer='adam')\n",
    "\n",
    "  \n",
    "\n",
    "tscv = TimeSeriesSplit(max_train_size=None, n_splits=nn)\n",
    "for train_index, test_index in tscv.split(trainX):\n",
    "    tX,testX=trainX[train_index], trainX[test_index]\n",
    "    tY,testY = trainY[train_index], trainY[test_index]\n",
    "    history = model.fit(tX, tY, epochs=300, batch_size=120, validation_data=(testX, testY), shuffle=False)\n",
    "    \n",
    "    testPredict = model.predict(testX)\n",
    "# invert predictions\n",
    "    test_Predict = scaler.inverse_transform(testPredict)\n",
    "    test_Y = scaler.inverse_transform([testY])\n",
    "# calculate root mean squared error\n",
    "    testScore = math.sqrt(mean_squared_error(test_Y[0], test_Predict[:,0]))\n",
    "    print('Test Score: %.3f RMSE' % (testScore))\n",
    "    \n",
    "    testScore = mean_squared_error(test_Y[0], test_Predict[:,0])\n",
    "    print('Test Score: %.3f MSE' % (testScore))\n",
    "    \n",
    "    testScore = mean_absolute_error(test_Y[0], test_Predict[:,0])\n",
    "    print('Test Score: %.3f MAE' % (testScore))\n",
    "    \n",
    "    testScore = mean_absolute_percentage_error(test_Y[0], test_Predict[:,0])\n",
    "    print('Test Score: %.3f MAPE' % (testScore))\n",
    "    "
   ]
  },
  {
   "cell_type": "code",
   "execution_count": 25,
   "metadata": {},
   "outputs": [
    {
     "data": {
      "application/vnd.plotly.v1+json": {
       "config": {
        "linkText": "Export to plot.ly",
        "plotlyServerURL": "https://plot.ly",
        "showLink": true
       },
       "data": [
        {
         "line": {
          "color": "rgba(255, 153, 51, 1.0)",
          "dash": "solid",
          "shape": "linear",
          "width": 1.3
         },
         "mode": "lines",
         "name": "rainfall",
         "text": "",
         "type": "scatter",
         "x": [
          "2014-06",
          "2014-07",
          "2014-08",
          "2014-09",
          "2014-10",
          "2014-11",
          "2014-12",
          "2015-01",
          "2015-02",
          "2015-03",
          "2015-04",
          "2015-05",
          "2015-07",
          "2015-08",
          "2015-09",
          "2015-10",
          "2015-11",
          "2015-12",
          "2016-01",
          "2016-02",
          "2016-03",
          "2016-04",
          "2016-05",
          "2016-06",
          "2016-07",
          "2016-08",
          "2016-09",
          "2016-10",
          "2016-11",
          "2016-12",
          "2017-01",
          "2017-02",
          "2017-03",
          "2017-04",
          "2017-05",
          "2017-06",
          "2017-07",
          "2017-08",
          "2017-09",
          "2017-10",
          "2017-11",
          "2017-12",
          "2018-01",
          "2018-02",
          "2018-03",
          "2018-04",
          "2018-05",
          "2018-07",
          "2018-08",
          "2018-09",
          "2018-10",
          "2018-11",
          "2018-12",
          "2019-01",
          "2019-02",
          "2019-03",
          "2019-04",
          "2019-05",
          "2019-06",
          "2019-08",
          "2019-09",
          "2019-10",
          "2019-11",
          "2019-12"
         ],
         "y": [
          0.4,
          1.2,
          9.4,
          8.6,
          23.2,
          141.2,
          150.8,
          131.6,
          125,
          74.2,
          63.8,
          30.2,
          5.2,
          2.8,
          37.8,
          32,
          27.4,
          112.4,
          75.4,
          84.8,
          89.2,
          19.8,
          18,
          3.4,
          21.2,
          6,
          1.8,
          32.8,
          136.6,
          198.6,
          144.2,
          152.2,
          58,
          28.8,
          49.2,
          0.2,
          4,
          0.4,
          16.6,
          49.4,
          122.6,
          146.2,
          45.6,
          137.6,
          75.6,
          125.2,
          26,
          6.6,
          32.6,
          24.4,
          37.2,
          36.6,
          78.6,
          125.8,
          44,
          52.2,
          65.8,
          2.4,
          4.4,
          3.6,
          34.6,
          60.4,
          82.6,
          108.6
         ]
        },
        {
         "line": {
          "color": "rgba(55, 128, 191, 1.0)",
          "dash": "solid",
          "shape": "linear",
          "width": 1.3
         },
         "mode": "lines",
         "name": "Prediction",
         "text": "",
         "type": "scatter",
         "x": [
          "2014-06",
          "2014-07",
          "2014-08",
          "2014-09",
          "2014-10",
          "2014-11",
          "2014-12",
          "2015-01",
          "2015-02",
          "2015-03",
          "2015-04",
          "2015-05",
          "2015-07",
          "2015-08",
          "2015-09",
          "2015-10",
          "2015-11",
          "2015-12",
          "2016-01",
          "2016-02",
          "2016-03",
          "2016-04",
          "2016-05",
          "2016-06",
          "2016-07",
          "2016-08",
          "2016-09",
          "2016-10",
          "2016-11",
          "2016-12",
          "2017-01",
          "2017-02",
          "2017-03",
          "2017-04",
          "2017-05",
          "2017-06",
          "2017-07",
          "2017-08",
          "2017-09",
          "2017-10",
          "2017-11",
          "2017-12",
          "2018-01",
          "2018-02",
          "2018-03",
          "2018-04",
          "2018-05",
          "2018-07",
          "2018-08",
          "2018-09",
          "2018-10",
          "2018-11",
          "2018-12",
          "2019-01",
          "2019-02",
          "2019-03",
          "2019-04",
          "2019-05",
          "2019-06",
          "2019-08",
          "2019-09",
          "2019-10",
          "2019-11",
          "2019-12"
         ],
         "y": [
          240.63949584960938,
          62.565433502197266,
          265.0931701660156,
          71.94520568847656,
          111.67706298828125,
          81.92375183105469,
          54.67923355102539,
          7.693727970123291,
          4.71305513381958,
          0.5732235908508301,
          29.99630355834961,
          164.17543029785156,
          90.59186553955078,
          107.47150421142578,
          149.28782653808594,
          35.63382339477539,
          49.56092834472656,
          39.27068328857422,
          27.938438415527344,
          9.59858226776123,
          11.796730995178223,
          14.555106163024902,
          59.87069320678711,
          171.70864868164062,
          100.98685455322266,
          81.90789031982422,
          172.09024047851562,
          125.05988311767578,
          49.137237548828125,
          23.78620147705078,
          14.247023582458496,
          22.904380798339844,
          44.13162612915039,
          61.10071563720703,
          189.3218994140625,
          241.16946411132812,
          74.43470764160156,
          72.04487609863281,
          48.6944694519043,
          26.556570053100586,
          38.76404571533203,
          134.38067626953125,
          43.40391159057617,
          154.93417358398438,
          36.25096893310547,
          72.62507629394531,
          49.83753204345703,
          25.06583023071289,
          8.899450302124023,
          11.254022598266602,
          38.687705993652344,
          68.06135559082031,
          103.82624816894531,
          166.86021423339844,
          109.91468048095703,
          109.10877227783203,
          109.9531478881836,
          32.526634216308594,
          21.394079208374023,
          15.497636795043945,
          25.10605812072754,
          66.31788635253906,
          95.92932891845703,
          253.04989624023438
         ]
        }
       ],
       "layout": {
        "legend": {
         "bgcolor": "#F5F6F9",
         "font": {
          "color": "#4D5663"
         }
        },
        "paper_bgcolor": "#F5F6F9",
        "plot_bgcolor": "#F5F6F9",
        "template": {
         "data": {
          "bar": [
           {
            "error_x": {
             "color": "#2a3f5f"
            },
            "error_y": {
             "color": "#2a3f5f"
            },
            "marker": {
             "line": {
              "color": "#E5ECF6",
              "width": 0.5
             }
            },
            "type": "bar"
           }
          ],
          "barpolar": [
           {
            "marker": {
             "line": {
              "color": "#E5ECF6",
              "width": 0.5
             }
            },
            "type": "barpolar"
           }
          ],
          "carpet": [
           {
            "aaxis": {
             "endlinecolor": "#2a3f5f",
             "gridcolor": "white",
             "linecolor": "white",
             "minorgridcolor": "white",
             "startlinecolor": "#2a3f5f"
            },
            "baxis": {
             "endlinecolor": "#2a3f5f",
             "gridcolor": "white",
             "linecolor": "white",
             "minorgridcolor": "white",
             "startlinecolor": "#2a3f5f"
            },
            "type": "carpet"
           }
          ],
          "choropleth": [
           {
            "colorbar": {
             "outlinewidth": 0,
             "ticks": ""
            },
            "type": "choropleth"
           }
          ],
          "contour": [
           {
            "colorbar": {
             "outlinewidth": 0,
             "ticks": ""
            },
            "colorscale": [
             [
              0,
              "#0d0887"
             ],
             [
              0.1111111111111111,
              "#46039f"
             ],
             [
              0.2222222222222222,
              "#7201a8"
             ],
             [
              0.3333333333333333,
              "#9c179e"
             ],
             [
              0.4444444444444444,
              "#bd3786"
             ],
             [
              0.5555555555555556,
              "#d8576b"
             ],
             [
              0.6666666666666666,
              "#ed7953"
             ],
             [
              0.7777777777777778,
              "#fb9f3a"
             ],
             [
              0.8888888888888888,
              "#fdca26"
             ],
             [
              1,
              "#f0f921"
             ]
            ],
            "type": "contour"
           }
          ],
          "contourcarpet": [
           {
            "colorbar": {
             "outlinewidth": 0,
             "ticks": ""
            },
            "type": "contourcarpet"
           }
          ],
          "heatmap": [
           {
            "colorbar": {
             "outlinewidth": 0,
             "ticks": ""
            },
            "colorscale": [
             [
              0,
              "#0d0887"
             ],
             [
              0.1111111111111111,
              "#46039f"
             ],
             [
              0.2222222222222222,
              "#7201a8"
             ],
             [
              0.3333333333333333,
              "#9c179e"
             ],
             [
              0.4444444444444444,
              "#bd3786"
             ],
             [
              0.5555555555555556,
              "#d8576b"
             ],
             [
              0.6666666666666666,
              "#ed7953"
             ],
             [
              0.7777777777777778,
              "#fb9f3a"
             ],
             [
              0.8888888888888888,
              "#fdca26"
             ],
             [
              1,
              "#f0f921"
             ]
            ],
            "type": "heatmap"
           }
          ],
          "heatmapgl": [
           {
            "colorbar": {
             "outlinewidth": 0,
             "ticks": ""
            },
            "colorscale": [
             [
              0,
              "#0d0887"
             ],
             [
              0.1111111111111111,
              "#46039f"
             ],
             [
              0.2222222222222222,
              "#7201a8"
             ],
             [
              0.3333333333333333,
              "#9c179e"
             ],
             [
              0.4444444444444444,
              "#bd3786"
             ],
             [
              0.5555555555555556,
              "#d8576b"
             ],
             [
              0.6666666666666666,
              "#ed7953"
             ],
             [
              0.7777777777777778,
              "#fb9f3a"
             ],
             [
              0.8888888888888888,
              "#fdca26"
             ],
             [
              1,
              "#f0f921"
             ]
            ],
            "type": "heatmapgl"
           }
          ],
          "histogram": [
           {
            "marker": {
             "colorbar": {
              "outlinewidth": 0,
              "ticks": ""
             }
            },
            "type": "histogram"
           }
          ],
          "histogram2d": [
           {
            "colorbar": {
             "outlinewidth": 0,
             "ticks": ""
            },
            "colorscale": [
             [
              0,
              "#0d0887"
             ],
             [
              0.1111111111111111,
              "#46039f"
             ],
             [
              0.2222222222222222,
              "#7201a8"
             ],
             [
              0.3333333333333333,
              "#9c179e"
             ],
             [
              0.4444444444444444,
              "#bd3786"
             ],
             [
              0.5555555555555556,
              "#d8576b"
             ],
             [
              0.6666666666666666,
              "#ed7953"
             ],
             [
              0.7777777777777778,
              "#fb9f3a"
             ],
             [
              0.8888888888888888,
              "#fdca26"
             ],
             [
              1,
              "#f0f921"
             ]
            ],
            "type": "histogram2d"
           }
          ],
          "histogram2dcontour": [
           {
            "colorbar": {
             "outlinewidth": 0,
             "ticks": ""
            },
            "colorscale": [
             [
              0,
              "#0d0887"
             ],
             [
              0.1111111111111111,
              "#46039f"
             ],
             [
              0.2222222222222222,
              "#7201a8"
             ],
             [
              0.3333333333333333,
              "#9c179e"
             ],
             [
              0.4444444444444444,
              "#bd3786"
             ],
             [
              0.5555555555555556,
              "#d8576b"
             ],
             [
              0.6666666666666666,
              "#ed7953"
             ],
             [
              0.7777777777777778,
              "#fb9f3a"
             ],
             [
              0.8888888888888888,
              "#fdca26"
             ],
             [
              1,
              "#f0f921"
             ]
            ],
            "type": "histogram2dcontour"
           }
          ],
          "mesh3d": [
           {
            "colorbar": {
             "outlinewidth": 0,
             "ticks": ""
            },
            "type": "mesh3d"
           }
          ],
          "parcoords": [
           {
            "line": {
             "colorbar": {
              "outlinewidth": 0,
              "ticks": ""
             }
            },
            "type": "parcoords"
           }
          ],
          "pie": [
           {
            "automargin": true,
            "type": "pie"
           }
          ],
          "scatter": [
           {
            "marker": {
             "colorbar": {
              "outlinewidth": 0,
              "ticks": ""
             }
            },
            "type": "scatter"
           }
          ],
          "scatter3d": [
           {
            "line": {
             "colorbar": {
              "outlinewidth": 0,
              "ticks": ""
             }
            },
            "marker": {
             "colorbar": {
              "outlinewidth": 0,
              "ticks": ""
             }
            },
            "type": "scatter3d"
           }
          ],
          "scattercarpet": [
           {
            "marker": {
             "colorbar": {
              "outlinewidth": 0,
              "ticks": ""
             }
            },
            "type": "scattercarpet"
           }
          ],
          "scattergeo": [
           {
            "marker": {
             "colorbar": {
              "outlinewidth": 0,
              "ticks": ""
             }
            },
            "type": "scattergeo"
           }
          ],
          "scattergl": [
           {
            "marker": {
             "colorbar": {
              "outlinewidth": 0,
              "ticks": ""
             }
            },
            "type": "scattergl"
           }
          ],
          "scattermapbox": [
           {
            "marker": {
             "colorbar": {
              "outlinewidth": 0,
              "ticks": ""
             }
            },
            "type": "scattermapbox"
           }
          ],
          "scatterpolar": [
           {
            "marker": {
             "colorbar": {
              "outlinewidth": 0,
              "ticks": ""
             }
            },
            "type": "scatterpolar"
           }
          ],
          "scatterpolargl": [
           {
            "marker": {
             "colorbar": {
              "outlinewidth": 0,
              "ticks": ""
             }
            },
            "type": "scatterpolargl"
           }
          ],
          "scatterternary": [
           {
            "marker": {
             "colorbar": {
              "outlinewidth": 0,
              "ticks": ""
             }
            },
            "type": "scatterternary"
           }
          ],
          "surface": [
           {
            "colorbar": {
             "outlinewidth": 0,
             "ticks": ""
            },
            "colorscale": [
             [
              0,
              "#0d0887"
             ],
             [
              0.1111111111111111,
              "#46039f"
             ],
             [
              0.2222222222222222,
              "#7201a8"
             ],
             [
              0.3333333333333333,
              "#9c179e"
             ],
             [
              0.4444444444444444,
              "#bd3786"
             ],
             [
              0.5555555555555556,
              "#d8576b"
             ],
             [
              0.6666666666666666,
              "#ed7953"
             ],
             [
              0.7777777777777778,
              "#fb9f3a"
             ],
             [
              0.8888888888888888,
              "#fdca26"
             ],
             [
              1,
              "#f0f921"
             ]
            ],
            "type": "surface"
           }
          ],
          "table": [
           {
            "cells": {
             "fill": {
              "color": "#EBF0F8"
             },
             "line": {
              "color": "white"
             }
            },
            "header": {
             "fill": {
              "color": "#C8D4E3"
             },
             "line": {
              "color": "white"
             }
            },
            "type": "table"
           }
          ]
         },
         "layout": {
          "annotationdefaults": {
           "arrowcolor": "#2a3f5f",
           "arrowhead": 0,
           "arrowwidth": 1
          },
          "autotypenumbers": "strict",
          "coloraxis": {
           "colorbar": {
            "outlinewidth": 0,
            "ticks": ""
           }
          },
          "colorscale": {
           "diverging": [
            [
             0,
             "#8e0152"
            ],
            [
             0.1,
             "#c51b7d"
            ],
            [
             0.2,
             "#de77ae"
            ],
            [
             0.3,
             "#f1b6da"
            ],
            [
             0.4,
             "#fde0ef"
            ],
            [
             0.5,
             "#f7f7f7"
            ],
            [
             0.6,
             "#e6f5d0"
            ],
            [
             0.7,
             "#b8e186"
            ],
            [
             0.8,
             "#7fbc41"
            ],
            [
             0.9,
             "#4d9221"
            ],
            [
             1,
             "#276419"
            ]
           ],
           "sequential": [
            [
             0,
             "#0d0887"
            ],
            [
             0.1111111111111111,
             "#46039f"
            ],
            [
             0.2222222222222222,
             "#7201a8"
            ],
            [
             0.3333333333333333,
             "#9c179e"
            ],
            [
             0.4444444444444444,
             "#bd3786"
            ],
            [
             0.5555555555555556,
             "#d8576b"
            ],
            [
             0.6666666666666666,
             "#ed7953"
            ],
            [
             0.7777777777777778,
             "#fb9f3a"
            ],
            [
             0.8888888888888888,
             "#fdca26"
            ],
            [
             1,
             "#f0f921"
            ]
           ],
           "sequentialminus": [
            [
             0,
             "#0d0887"
            ],
            [
             0.1111111111111111,
             "#46039f"
            ],
            [
             0.2222222222222222,
             "#7201a8"
            ],
            [
             0.3333333333333333,
             "#9c179e"
            ],
            [
             0.4444444444444444,
             "#bd3786"
            ],
            [
             0.5555555555555556,
             "#d8576b"
            ],
            [
             0.6666666666666666,
             "#ed7953"
            ],
            [
             0.7777777777777778,
             "#fb9f3a"
            ],
            [
             0.8888888888888888,
             "#fdca26"
            ],
            [
             1,
             "#f0f921"
            ]
           ]
          },
          "colorway": [
           "#636efa",
           "#EF553B",
           "#00cc96",
           "#ab63fa",
           "#FFA15A",
           "#19d3f3",
           "#FF6692",
           "#B6E880",
           "#FF97FF",
           "#FECB52"
          ],
          "font": {
           "color": "#2a3f5f"
          },
          "geo": {
           "bgcolor": "white",
           "lakecolor": "white",
           "landcolor": "#E5ECF6",
           "showlakes": true,
           "showland": true,
           "subunitcolor": "white"
          },
          "hoverlabel": {
           "align": "left"
          },
          "hovermode": "closest",
          "mapbox": {
           "style": "light"
          },
          "paper_bgcolor": "white",
          "plot_bgcolor": "#E5ECF6",
          "polar": {
           "angularaxis": {
            "gridcolor": "white",
            "linecolor": "white",
            "ticks": ""
           },
           "bgcolor": "#E5ECF6",
           "radialaxis": {
            "gridcolor": "white",
            "linecolor": "white",
            "ticks": ""
           }
          },
          "scene": {
           "xaxis": {
            "backgroundcolor": "#E5ECF6",
            "gridcolor": "white",
            "gridwidth": 2,
            "linecolor": "white",
            "showbackground": true,
            "ticks": "",
            "zerolinecolor": "white"
           },
           "yaxis": {
            "backgroundcolor": "#E5ECF6",
            "gridcolor": "white",
            "gridwidth": 2,
            "linecolor": "white",
            "showbackground": true,
            "ticks": "",
            "zerolinecolor": "white"
           },
           "zaxis": {
            "backgroundcolor": "#E5ECF6",
            "gridcolor": "white",
            "gridwidth": 2,
            "linecolor": "white",
            "showbackground": true,
            "ticks": "",
            "zerolinecolor": "white"
           }
          },
          "shapedefaults": {
           "line": {
            "color": "#2a3f5f"
           }
          },
          "ternary": {
           "aaxis": {
            "gridcolor": "white",
            "linecolor": "white",
            "ticks": ""
           },
           "baxis": {
            "gridcolor": "white",
            "linecolor": "white",
            "ticks": ""
           },
           "bgcolor": "#E5ECF6",
           "caxis": {
            "gridcolor": "white",
            "linecolor": "white",
            "ticks": ""
           }
          },
          "title": {
           "x": 0.05
          },
          "xaxis": {
           "automargin": true,
           "gridcolor": "white",
           "linecolor": "white",
           "ticks": "",
           "title": {
            "standoff": 15
           },
           "zerolinecolor": "white",
           "zerolinewidth": 2
          },
          "yaxis": {
           "automargin": true,
           "gridcolor": "white",
           "linecolor": "white",
           "ticks": "",
           "title": {
            "standoff": 15
           },
           "zerolinecolor": "white",
           "zerolinewidth": 2
          }
         }
        },
        "title": {
         "font": {
          "color": "#4D5663"
         }
        },
        "xaxis": {
         "gridcolor": "#E1E5ED",
         "showgrid": true,
         "tickfont": {
          "color": "#4D5663"
         },
         "title": {
          "font": {
           "color": "#4D5663"
          },
          "text": ""
         },
         "zerolinecolor": "#E1E5ED"
        },
        "yaxis": {
         "gridcolor": "#E1E5ED",
         "showgrid": true,
         "tickfont": {
          "color": "#4D5663"
         },
         "title": {
          "font": {
           "color": "#4D5663"
          },
          "text": ""
         },
         "zerolinecolor": "#E1E5ED"
        }
       }
      },
      "text/html": [
       "<div>                            <div id=\"f2bb932b-e938-4f37-847f-1b2ef1a5e0ca\" class=\"plotly-graph-div\" style=\"height:525px; width:100%;\"></div>            <script type=\"text/javascript\">                require([\"plotly\"], function(Plotly) {                    window.PLOTLYENV=window.PLOTLYENV || {};\n",
       "                    window.PLOTLYENV.BASE_URL='https://plot.ly';                                    if (document.getElementById(\"f2bb932b-e938-4f37-847f-1b2ef1a5e0ca\")) {                    Plotly.newPlot(                        \"f2bb932b-e938-4f37-847f-1b2ef1a5e0ca\",                        [{\"line\": {\"color\": \"rgba(255, 153, 51, 1.0)\", \"dash\": \"solid\", \"shape\": \"linear\", \"width\": 1.3}, \"mode\": \"lines\", \"name\": \"rainfall\", \"text\": \"\", \"type\": \"scatter\", \"x\": [\"2014-06\", \"2014-07\", \"2014-08\", \"2014-09\", \"2014-10\", \"2014-11\", \"2014-12\", \"2015-01\", \"2015-02\", \"2015-03\", \"2015-04\", \"2015-05\", \"2015-07\", \"2015-08\", \"2015-09\", \"2015-10\", \"2015-11\", \"2015-12\", \"2016-01\", \"2016-02\", \"2016-03\", \"2016-04\", \"2016-05\", \"2016-06\", \"2016-07\", \"2016-08\", \"2016-09\", \"2016-10\", \"2016-11\", \"2016-12\", \"2017-01\", \"2017-02\", \"2017-03\", \"2017-04\", \"2017-05\", \"2017-06\", \"2017-07\", \"2017-08\", \"2017-09\", \"2017-10\", \"2017-11\", \"2017-12\", \"2018-01\", \"2018-02\", \"2018-03\", \"2018-04\", \"2018-05\", \"2018-07\", \"2018-08\", \"2018-09\", \"2018-10\", \"2018-11\", \"2018-12\", \"2019-01\", \"2019-02\", \"2019-03\", \"2019-04\", \"2019-05\", \"2019-06\", \"2019-08\", \"2019-09\", \"2019-10\", \"2019-11\", \"2019-12\"], \"y\": [0.4, 1.2, 9.4, 8.6, 23.2, 141.2, 150.8, 131.6, 125.0, 74.2, 63.8, 30.2, 5.2, 2.8, 37.8, 32.0, 27.4, 112.4, 75.4, 84.8, 89.2, 19.8, 18.0, 3.4, 21.2, 6.0, 1.8, 32.8, 136.6, 198.6, 144.2, 152.2, 58.0, 28.8, 49.2, 0.2, 4.0, 0.4, 16.6, 49.4, 122.6, 146.2, 45.6, 137.6, 75.6, 125.2, 26.0, 6.6, 32.6, 24.4, 37.2, 36.6, 78.6, 125.8, 44.0, 52.2, 65.8, 2.4, 4.4, 3.6, 34.6, 60.4, 82.6, 108.6]}, {\"line\": {\"color\": \"rgba(55, 128, 191, 1.0)\", \"dash\": \"solid\", \"shape\": \"linear\", \"width\": 1.3}, \"mode\": \"lines\", \"name\": \"Prediction\", \"text\": \"\", \"type\": \"scatter\", \"x\": [\"2014-06\", \"2014-07\", \"2014-08\", \"2014-09\", \"2014-10\", \"2014-11\", \"2014-12\", \"2015-01\", \"2015-02\", \"2015-03\", \"2015-04\", \"2015-05\", \"2015-07\", \"2015-08\", \"2015-09\", \"2015-10\", \"2015-11\", \"2015-12\", \"2016-01\", \"2016-02\", \"2016-03\", \"2016-04\", \"2016-05\", \"2016-06\", \"2016-07\", \"2016-08\", \"2016-09\", \"2016-10\", \"2016-11\", \"2016-12\", \"2017-01\", \"2017-02\", \"2017-03\", \"2017-04\", \"2017-05\", \"2017-06\", \"2017-07\", \"2017-08\", \"2017-09\", \"2017-10\", \"2017-11\", \"2017-12\", \"2018-01\", \"2018-02\", \"2018-03\", \"2018-04\", \"2018-05\", \"2018-07\", \"2018-08\", \"2018-09\", \"2018-10\", \"2018-11\", \"2018-12\", \"2019-01\", \"2019-02\", \"2019-03\", \"2019-04\", \"2019-05\", \"2019-06\", \"2019-08\", \"2019-09\", \"2019-10\", \"2019-11\", \"2019-12\"], \"y\": [240.63949584960938, 62.565433502197266, 265.0931701660156, 71.94520568847656, 111.67706298828125, 81.92375183105469, 54.67923355102539, 7.693727970123291, 4.71305513381958, 0.5732235908508301, 29.99630355834961, 164.17543029785156, 90.59186553955078, 107.47150421142578, 149.28782653808594, 35.63382339477539, 49.56092834472656, 39.27068328857422, 27.938438415527344, 9.59858226776123, 11.796730995178223, 14.555106163024902, 59.87069320678711, 171.70864868164062, 100.98685455322266, 81.90789031982422, 172.09024047851562, 125.05988311767578, 49.137237548828125, 23.78620147705078, 14.247023582458496, 22.904380798339844, 44.13162612915039, 61.10071563720703, 189.3218994140625, 241.16946411132812, 74.43470764160156, 72.04487609863281, 48.6944694519043, 26.556570053100586, 38.76404571533203, 134.38067626953125, 43.40391159057617, 154.93417358398438, 36.25096893310547, 72.62507629394531, 49.83753204345703, 25.06583023071289, 8.899450302124023, 11.254022598266602, 38.687705993652344, 68.06135559082031, 103.82624816894531, 166.86021423339844, 109.91468048095703, 109.10877227783203, 109.9531478881836, 32.526634216308594, 21.394079208374023, 15.497636795043945, 25.10605812072754, 66.31788635253906, 95.92932891845703, 253.04989624023438]}],                        {\"legend\": {\"bgcolor\": \"#F5F6F9\", \"font\": {\"color\": \"#4D5663\"}}, \"paper_bgcolor\": \"#F5F6F9\", \"plot_bgcolor\": \"#F5F6F9\", \"template\": {\"data\": {\"bar\": [{\"error_x\": {\"color\": \"#2a3f5f\"}, \"error_y\": {\"color\": \"#2a3f5f\"}, \"marker\": {\"line\": {\"color\": \"#E5ECF6\", \"width\": 0.5}}, \"type\": \"bar\"}], \"barpolar\": [{\"marker\": {\"line\": {\"color\": \"#E5ECF6\", \"width\": 0.5}}, \"type\": \"barpolar\"}], \"carpet\": [{\"aaxis\": {\"endlinecolor\": \"#2a3f5f\", \"gridcolor\": \"white\", \"linecolor\": \"white\", \"minorgridcolor\": \"white\", \"startlinecolor\": \"#2a3f5f\"}, \"baxis\": {\"endlinecolor\": \"#2a3f5f\", \"gridcolor\": \"white\", \"linecolor\": \"white\", \"minorgridcolor\": \"white\", \"startlinecolor\": \"#2a3f5f\"}, \"type\": \"carpet\"}], \"choropleth\": [{\"colorbar\": {\"outlinewidth\": 0, \"ticks\": \"\"}, \"type\": \"choropleth\"}], \"contour\": [{\"colorbar\": {\"outlinewidth\": 0, \"ticks\": \"\"}, \"colorscale\": [[0.0, \"#0d0887\"], [0.1111111111111111, \"#46039f\"], [0.2222222222222222, \"#7201a8\"], [0.3333333333333333, \"#9c179e\"], [0.4444444444444444, \"#bd3786\"], [0.5555555555555556, \"#d8576b\"], [0.6666666666666666, \"#ed7953\"], [0.7777777777777778, \"#fb9f3a\"], [0.8888888888888888, \"#fdca26\"], [1.0, \"#f0f921\"]], \"type\": \"contour\"}], \"contourcarpet\": [{\"colorbar\": {\"outlinewidth\": 0, \"ticks\": \"\"}, \"type\": \"contourcarpet\"}], \"heatmap\": [{\"colorbar\": {\"outlinewidth\": 0, \"ticks\": \"\"}, \"colorscale\": [[0.0, \"#0d0887\"], [0.1111111111111111, \"#46039f\"], [0.2222222222222222, \"#7201a8\"], [0.3333333333333333, \"#9c179e\"], [0.4444444444444444, \"#bd3786\"], [0.5555555555555556, \"#d8576b\"], [0.6666666666666666, \"#ed7953\"], [0.7777777777777778, \"#fb9f3a\"], [0.8888888888888888, \"#fdca26\"], [1.0, \"#f0f921\"]], \"type\": \"heatmap\"}], \"heatmapgl\": [{\"colorbar\": {\"outlinewidth\": 0, \"ticks\": \"\"}, \"colorscale\": [[0.0, \"#0d0887\"], [0.1111111111111111, \"#46039f\"], [0.2222222222222222, \"#7201a8\"], [0.3333333333333333, \"#9c179e\"], [0.4444444444444444, \"#bd3786\"], [0.5555555555555556, \"#d8576b\"], [0.6666666666666666, \"#ed7953\"], [0.7777777777777778, \"#fb9f3a\"], [0.8888888888888888, \"#fdca26\"], [1.0, \"#f0f921\"]], \"type\": \"heatmapgl\"}], \"histogram\": [{\"marker\": {\"colorbar\": {\"outlinewidth\": 0, \"ticks\": \"\"}}, \"type\": \"histogram\"}], \"histogram2d\": [{\"colorbar\": {\"outlinewidth\": 0, \"ticks\": \"\"}, \"colorscale\": [[0.0, \"#0d0887\"], [0.1111111111111111, \"#46039f\"], [0.2222222222222222, \"#7201a8\"], [0.3333333333333333, \"#9c179e\"], [0.4444444444444444, \"#bd3786\"], [0.5555555555555556, \"#d8576b\"], [0.6666666666666666, \"#ed7953\"], [0.7777777777777778, \"#fb9f3a\"], [0.8888888888888888, \"#fdca26\"], [1.0, \"#f0f921\"]], \"type\": \"histogram2d\"}], \"histogram2dcontour\": [{\"colorbar\": {\"outlinewidth\": 0, \"ticks\": \"\"}, \"colorscale\": [[0.0, \"#0d0887\"], [0.1111111111111111, \"#46039f\"], [0.2222222222222222, \"#7201a8\"], [0.3333333333333333, \"#9c179e\"], [0.4444444444444444, \"#bd3786\"], [0.5555555555555556, \"#d8576b\"], [0.6666666666666666, \"#ed7953\"], [0.7777777777777778, \"#fb9f3a\"], [0.8888888888888888, \"#fdca26\"], [1.0, \"#f0f921\"]], \"type\": \"histogram2dcontour\"}], \"mesh3d\": [{\"colorbar\": {\"outlinewidth\": 0, \"ticks\": \"\"}, \"type\": \"mesh3d\"}], \"parcoords\": [{\"line\": {\"colorbar\": {\"outlinewidth\": 0, \"ticks\": \"\"}}, \"type\": \"parcoords\"}], \"pie\": [{\"automargin\": true, \"type\": \"pie\"}], \"scatter\": [{\"marker\": {\"colorbar\": {\"outlinewidth\": 0, \"ticks\": \"\"}}, \"type\": \"scatter\"}], \"scatter3d\": [{\"line\": {\"colorbar\": {\"outlinewidth\": 0, \"ticks\": \"\"}}, \"marker\": {\"colorbar\": {\"outlinewidth\": 0, \"ticks\": \"\"}}, \"type\": \"scatter3d\"}], \"scattercarpet\": [{\"marker\": {\"colorbar\": {\"outlinewidth\": 0, \"ticks\": \"\"}}, \"type\": \"scattercarpet\"}], \"scattergeo\": [{\"marker\": {\"colorbar\": {\"outlinewidth\": 0, \"ticks\": \"\"}}, \"type\": \"scattergeo\"}], \"scattergl\": [{\"marker\": {\"colorbar\": {\"outlinewidth\": 0, \"ticks\": \"\"}}, \"type\": \"scattergl\"}], \"scattermapbox\": [{\"marker\": {\"colorbar\": {\"outlinewidth\": 0, \"ticks\": \"\"}}, \"type\": \"scattermapbox\"}], \"scatterpolar\": [{\"marker\": {\"colorbar\": {\"outlinewidth\": 0, \"ticks\": \"\"}}, \"type\": \"scatterpolar\"}], \"scatterpolargl\": [{\"marker\": {\"colorbar\": {\"outlinewidth\": 0, \"ticks\": \"\"}}, \"type\": \"scatterpolargl\"}], \"scatterternary\": [{\"marker\": {\"colorbar\": {\"outlinewidth\": 0, \"ticks\": \"\"}}, \"type\": \"scatterternary\"}], \"surface\": [{\"colorbar\": {\"outlinewidth\": 0, \"ticks\": \"\"}, \"colorscale\": [[0.0, \"#0d0887\"], [0.1111111111111111, \"#46039f\"], [0.2222222222222222, \"#7201a8\"], [0.3333333333333333, \"#9c179e\"], [0.4444444444444444, \"#bd3786\"], [0.5555555555555556, \"#d8576b\"], [0.6666666666666666, \"#ed7953\"], [0.7777777777777778, \"#fb9f3a\"], [0.8888888888888888, \"#fdca26\"], [1.0, \"#f0f921\"]], \"type\": \"surface\"}], \"table\": [{\"cells\": {\"fill\": {\"color\": \"#EBF0F8\"}, \"line\": {\"color\": \"white\"}}, \"header\": {\"fill\": {\"color\": \"#C8D4E3\"}, \"line\": {\"color\": \"white\"}}, \"type\": \"table\"}]}, \"layout\": {\"annotationdefaults\": {\"arrowcolor\": \"#2a3f5f\", \"arrowhead\": 0, \"arrowwidth\": 1}, \"autotypenumbers\": \"strict\", \"coloraxis\": {\"colorbar\": {\"outlinewidth\": 0, \"ticks\": \"\"}}, \"colorscale\": {\"diverging\": [[0, \"#8e0152\"], [0.1, \"#c51b7d\"], [0.2, \"#de77ae\"], [0.3, \"#f1b6da\"], [0.4, \"#fde0ef\"], [0.5, \"#f7f7f7\"], [0.6, \"#e6f5d0\"], [0.7, \"#b8e186\"], [0.8, \"#7fbc41\"], [0.9, \"#4d9221\"], [1, \"#276419\"]], \"sequential\": [[0.0, \"#0d0887\"], [0.1111111111111111, \"#46039f\"], [0.2222222222222222, \"#7201a8\"], [0.3333333333333333, \"#9c179e\"], [0.4444444444444444, \"#bd3786\"], [0.5555555555555556, \"#d8576b\"], [0.6666666666666666, \"#ed7953\"], [0.7777777777777778, \"#fb9f3a\"], [0.8888888888888888, \"#fdca26\"], [1.0, \"#f0f921\"]], \"sequentialminus\": [[0.0, \"#0d0887\"], [0.1111111111111111, \"#46039f\"], [0.2222222222222222, \"#7201a8\"], [0.3333333333333333, \"#9c179e\"], [0.4444444444444444, \"#bd3786\"], [0.5555555555555556, \"#d8576b\"], [0.6666666666666666, \"#ed7953\"], [0.7777777777777778, \"#fb9f3a\"], [0.8888888888888888, \"#fdca26\"], [1.0, \"#f0f921\"]]}, \"colorway\": [\"#636efa\", \"#EF553B\", \"#00cc96\", \"#ab63fa\", \"#FFA15A\", \"#19d3f3\", \"#FF6692\", \"#B6E880\", \"#FF97FF\", \"#FECB52\"], \"font\": {\"color\": \"#2a3f5f\"}, \"geo\": {\"bgcolor\": \"white\", \"lakecolor\": \"white\", \"landcolor\": \"#E5ECF6\", \"showlakes\": true, \"showland\": true, \"subunitcolor\": \"white\"}, \"hoverlabel\": {\"align\": \"left\"}, \"hovermode\": \"closest\", \"mapbox\": {\"style\": \"light\"}, \"paper_bgcolor\": \"white\", \"plot_bgcolor\": \"#E5ECF6\", \"polar\": {\"angularaxis\": {\"gridcolor\": \"white\", \"linecolor\": \"white\", \"ticks\": \"\"}, \"bgcolor\": \"#E5ECF6\", \"radialaxis\": {\"gridcolor\": \"white\", \"linecolor\": \"white\", \"ticks\": \"\"}}, \"scene\": {\"xaxis\": {\"backgroundcolor\": \"#E5ECF6\", \"gridcolor\": \"white\", \"gridwidth\": 2, \"linecolor\": \"white\", \"showbackground\": true, \"ticks\": \"\", \"zerolinecolor\": \"white\"}, \"yaxis\": {\"backgroundcolor\": \"#E5ECF6\", \"gridcolor\": \"white\", \"gridwidth\": 2, \"linecolor\": \"white\", \"showbackground\": true, \"ticks\": \"\", \"zerolinecolor\": \"white\"}, \"zaxis\": {\"backgroundcolor\": \"#E5ECF6\", \"gridcolor\": \"white\", \"gridwidth\": 2, \"linecolor\": \"white\", \"showbackground\": true, \"ticks\": \"\", \"zerolinecolor\": \"white\"}}, \"shapedefaults\": {\"line\": {\"color\": \"#2a3f5f\"}}, \"ternary\": {\"aaxis\": {\"gridcolor\": \"white\", \"linecolor\": \"white\", \"ticks\": \"\"}, \"baxis\": {\"gridcolor\": \"white\", \"linecolor\": \"white\", \"ticks\": \"\"}, \"bgcolor\": \"#E5ECF6\", \"caxis\": {\"gridcolor\": \"white\", \"linecolor\": \"white\", \"ticks\": \"\"}}, \"title\": {\"x\": 0.05}, \"xaxis\": {\"automargin\": true, \"gridcolor\": \"white\", \"linecolor\": \"white\", \"ticks\": \"\", \"title\": {\"standoff\": 15}, \"zerolinecolor\": \"white\", \"zerolinewidth\": 2}, \"yaxis\": {\"automargin\": true, \"gridcolor\": \"white\", \"linecolor\": \"white\", \"ticks\": \"\", \"title\": {\"standoff\": 15}, \"zerolinecolor\": \"white\", \"zerolinewidth\": 2}}}, \"title\": {\"font\": {\"color\": \"#4D5663\"}}, \"xaxis\": {\"gridcolor\": \"#E1E5ED\", \"showgrid\": true, \"tickfont\": {\"color\": \"#4D5663\"}, \"title\": {\"font\": {\"color\": \"#4D5663\"}, \"text\": \"\"}, \"zerolinecolor\": \"#E1E5ED\"}, \"yaxis\": {\"gridcolor\": \"#E1E5ED\", \"showgrid\": true, \"tickfont\": {\"color\": \"#4D5663\"}, \"title\": {\"font\": {\"color\": \"#4D5663\"}, \"text\": \"\"}, \"zerolinecolor\": \"#E1E5ED\"}},                        {\"showLink\": true, \"linkText\": \"Export to plot.ly\", \"plotlyServerURL\": \"https://plot.ly\", \"responsive\": true}                    ).then(function(){\n",
       "                            \n",
       "var gd = document.getElementById('f2bb932b-e938-4f37-847f-1b2ef1a5e0ca');\n",
       "var x = new MutationObserver(function (mutations, observer) {{\n",
       "        var display = window.getComputedStyle(gd).display;\n",
       "        if (!display || display === 'none') {{\n",
       "            console.log([gd, 'removed!']);\n",
       "            Plotly.purge(gd);\n",
       "            observer.disconnect();\n",
       "        }}\n",
       "}});\n",
       "\n",
       "// Listen for the removal of the full notebook cells\n",
       "var notebookContainer = gd.closest('#notebook-container');\n",
       "if (notebookContainer) {{\n",
       "    x.observe(notebookContainer, {childList: true});\n",
       "}}\n",
       "\n",
       "// Listen for the clearing of the current output cell\n",
       "var outputEl = gd.closest('.output');\n",
       "if (outputEl) {{\n",
       "    x.observe(outputEl, {childList: true});\n",
       "}}\n",
       "\n",
       "                        })                };                });            </script>        </div>"
      ]
     },
     "metadata": {},
     "output_type": "display_data"
    }
   ],
   "source": [
    "data = df.drop(columns = ['month','year'])\n",
    "testindex=data[-(testY.size):]\n",
    "future_forecast = pd.DataFrame(test_Predict[:,0],index =testindex.index,columns=['Prediction'])\n",
    "pd.concat([testindex,future_forecast],axis=1).iplot()"
   ]
  },
  {
   "cell_type": "code",
   "execution_count": null,
   "metadata": {},
   "outputs": [],
   "source": []
  },
  {
   "cell_type": "markdown",
   "metadata": {},
   "source": [
    "# ARIMA Model"
   ]
  },
  {
   "cell_type": "raw",
   "metadata": {},
   "source": [
    "\n",
    "ARIMA models work on the following assumptions –\n",
    "\n",
    "    -The data series is stationary, which means that the mean and variance should not vary with time.\n",
    "    -The data provided as input must be a univariate series, since arima uses the past values to predict the future values.\n",
    "\n",
    "To identify the nature of data, we will be using the null hypothesis.\n",
    "\n",
    "    Ho: It is non-stationary\n",
    "    H1: It is stationary We will be considering the null hypothesis that data is not stationary and the alternate hypothesis that data is stationary."
   ]
  },
  {
   "cell_type": "code",
   "execution_count": 26,
   "metadata": {},
   "outputs": [
    {
     "name": "stdout",
     "output_type": "stream",
     "text": [
      "ADF Test Statistic : -7.200906045063223\n",
      "p-value : 2.3669408812724056e-10\n",
      "#Lags Used : 11\n",
      "Number of Observations : 793\n",
      "strong evidence against the null hypothesis(Ho), reject the null hypothesis. Data is stationary\n"
     ]
    }
   ],
   "source": [
    "test_result=adfuller(df['rainfall'])\n",
    "def adfuller_test(sales):\n",
    "    result=adfuller(sales)\n",
    "    labels = ['ADF Test Statistic','p-value','#Lags Used','Number of Observations']\n",
    "    for value,label in zip(result,labels):\n",
    "        print(label+' : '+str(value) )\n",
    "\n",
    "    if result[1] <= 0.05:\n",
    "        print(\"strong evidence against the null hypothesis(Ho), reject the null hypothesis. Data is stationary\")\n",
    "    else:\n",
    "        print(\"weak evidence against null hypothesis,indicating it is non-stationary \")\n",
    "\n",
    "adfuller_test(df['rainfall'])"
   ]
  },
  {
   "cell_type": "raw",
   "metadata": {},
   "source": [
    "As we are working on univariate time series and Data is also stationary.So we can use Arima model."
   ]
  },
  {
   "cell_type": "code",
   "execution_count": 27,
   "metadata": {},
   "outputs": [],
   "source": [
    "# split into train and test sets\n",
    "df = df.drop(columns = ['month','year'])\n",
    "training_size=int(len(df)*0.90)\n",
    "test_size=len(df)-training_size\n",
    "train,valid=df.iloc[0:training_size,:],df.iloc[training_size:len(df),:1]\n",
    "training,validation=train['rainfall'], valid['rainfall']"
   ]
  },
  {
   "cell_type": "raw",
   "metadata": {},
   "source": [
    "I'm using auto arima in which i don't have to select the combination of p, q, d.Because the model select the best combination of these parameters."
   ]
  },
  {
   "cell_type": "code",
   "execution_count": 28,
   "metadata": {},
   "outputs": [
    {
     "name": "stdout",
     "output_type": "stream",
     "text": [
      "Performing stepwise search to minimize aic\n",
      " ARIMA(0,0,0)(0,1,0)[12] intercept   : AIC=8252.213, Time=0.05 sec\n",
      " ARIMA(1,0,0)(1,1,0)[12] intercept   : AIC=8095.230, Time=0.66 sec\n",
      " ARIMA(0,0,1)(0,1,1)[12] intercept   : AIC=inf, Time=0.64 sec\n",
      " ARIMA(0,0,0)(0,1,0)[12]             : AIC=8250.221, Time=0.02 sec\n",
      " ARIMA(1,0,0)(0,1,0)[12] intercept   : AIC=8204.501, Time=0.08 sec\n",
      " ARIMA(1,0,0)(1,1,1)[12] intercept   : AIC=inf, Time=0.85 sec\n",
      " ARIMA(1,0,0)(0,1,1)[12] intercept   : AIC=inf, Time=0.58 sec\n",
      " ARIMA(0,0,0)(1,1,0)[12] intercept   : AIC=8175.575, Time=0.64 sec\n",
      " ARIMA(2,0,0)(1,1,0)[12] intercept   : AIC=8091.870, Time=0.83 sec\n",
      " ARIMA(2,0,0)(0,1,0)[12] intercept   : AIC=8200.643, Time=0.11 sec\n",
      " ARIMA(2,0,0)(1,1,1)[12] intercept   : AIC=inf, Time=1.14 sec\n",
      " ARIMA(2,0,0)(0,1,1)[12] intercept   : AIC=inf, Time=0.87 sec\n",
      " ARIMA(3,0,0)(1,1,0)[12] intercept   : AIC=8080.242, Time=1.08 sec\n",
      " ARIMA(3,0,0)(0,1,0)[12] intercept   : AIC=8196.404, Time=0.16 sec\n",
      " ARIMA(3,0,0)(1,1,1)[12] intercept   : AIC=inf, Time=1.31 sec\n",
      " ARIMA(3,0,0)(0,1,1)[12] intercept   : AIC=inf, Time=0.96 sec\n",
      " ARIMA(3,0,1)(1,1,0)[12] intercept   : AIC=8048.286, Time=2.29 sec\n",
      " ARIMA(3,0,1)(0,1,0)[12] intercept   : AIC=8179.570, Time=0.94 sec\n",
      " ARIMA(3,0,1)(1,1,1)[12] intercept   : AIC=inf, Time=3.67 sec\n",
      " ARIMA(3,0,1)(0,1,1)[12] intercept   : AIC=inf, Time=2.87 sec\n",
      " ARIMA(2,0,1)(1,1,0)[12] intercept   : AIC=8091.276, Time=1.32 sec\n",
      " ARIMA(3,0,2)(1,1,0)[12] intercept   : AIC=8011.358, Time=3.77 sec\n",
      " ARIMA(3,0,2)(0,1,0)[12] intercept   : AIC=inf, Time=1.56 sec\n",
      " ARIMA(3,0,2)(1,1,1)[12] intercept   : AIC=inf, Time=4.99 sec\n",
      " ARIMA(3,0,2)(0,1,1)[12] intercept   : AIC=inf, Time=4.38 sec\n",
      " ARIMA(2,0,2)(1,1,0)[12] intercept   : AIC=8009.429, Time=3.14 sec\n",
      " ARIMA(2,0,2)(0,1,0)[12] intercept   : AIC=8129.717, Time=1.28 sec\n",
      " ARIMA(2,0,2)(1,1,1)[12] intercept   : AIC=inf, Time=4.07 sec\n",
      " ARIMA(2,0,2)(0,1,1)[12] intercept   : AIC=inf, Time=2.99 sec\n",
      " ARIMA(1,0,2)(1,1,0)[12] intercept   : AIC=8082.453, Time=1.26 sec\n",
      " ARIMA(2,0,3)(1,1,0)[12] intercept   : AIC=8011.364, Time=3.11 sec\n",
      " ARIMA(1,0,1)(1,1,0)[12] intercept   : AIC=8094.545, Time=0.75 sec\n",
      " ARIMA(1,0,3)(1,1,0)[12] intercept   : AIC=inf, Time=1.60 sec\n",
      " ARIMA(3,0,3)(1,1,0)[12] intercept   : AIC=inf, Time=3.52 sec\n",
      " ARIMA(2,0,2)(1,1,0)[12]             : AIC=8007.429, Time=0.97 sec\n",
      " ARIMA(2,0,2)(0,1,0)[12]             : AIC=8127.726, Time=0.90 sec\n",
      " ARIMA(2,0,2)(1,1,1)[12]             : AIC=inf, Time=3.45 sec\n",
      " ARIMA(2,0,2)(0,1,1)[12]             : AIC=inf, Time=2.40 sec\n",
      " ARIMA(1,0,2)(1,1,0)[12]             : AIC=8080.456, Time=0.55 sec\n",
      " ARIMA(2,0,1)(1,1,0)[12]             : AIC=8089.280, Time=0.59 sec\n",
      " ARIMA(3,0,2)(1,1,0)[12]             : AIC=8009.358, Time=1.28 sec\n",
      " ARIMA(2,0,3)(1,1,0)[12]             : AIC=8009.363, Time=1.07 sec\n",
      " ARIMA(1,0,1)(1,1,0)[12]             : AIC=8092.548, Time=0.32 sec\n",
      " ARIMA(1,0,3)(1,1,0)[12]             : AIC=inf, Time=1.05 sec\n",
      " ARIMA(3,0,1)(1,1,0)[12]             : AIC=8046.286, Time=0.84 sec\n",
      " ARIMA(3,0,3)(1,1,0)[12]             : AIC=inf, Time=2.65 sec\n",
      "\n",
      "Best model:  ARIMA(2,0,2)(1,1,0)[12]          \n",
      "Total fit time: 73.600 seconds\n"
     ]
    },
    {
     "data": {
      "text/plain": [
       "ARIMA(order=(2, 0, 2), scoring_args={}, seasonal_order=(1, 1, 0, 12),\n",
       "      suppress_warnings=True, with_intercept=False)"
      ]
     },
     "execution_count": 28,
     "metadata": {},
     "output_type": "execute_result"
    }
   ],
   "source": [
    "model = auto_arima(training, start_p=0, start_q=0,max_p=3, max_q=3, m=12,start_P=0,start_Q=0,max_P=1,max_Q=1, seasonal=True,d=0, D=1, trace=True,error_action='ignore',suppress_warnings=True)\n",
    "model.fit(training)"
   ]
  },
  {
   "cell_type": "markdown",
   "metadata": {},
   "source": [
    "# Predict results and Checking for accuracy scores"
   ]
  },
  {
   "cell_type": "code",
   "execution_count": 29,
   "metadata": {},
   "outputs": [
    {
     "data": {
      "application/vnd.plotly.v1+json": {
       "config": {
        "linkText": "Export to plot.ly",
        "plotlyServerURL": "https://plot.ly",
        "showLink": true
       },
       "data": [
        {
         "line": {
          "color": "rgba(255, 153, 51, 1.0)",
          "dash": "solid",
          "shape": "linear",
          "width": 1.3
         },
         "mode": "lines",
         "name": "rainfall",
         "text": "",
         "type": "scatter",
         "x": [
          "2013-01",
          "2013-02",
          "2013-03",
          "2013-04",
          "2013-05",
          "2013-06",
          "2013-07",
          "2013-08",
          "2013-09",
          "2013-10",
          "2013-11",
          "2013-12",
          "2014-01",
          "2014-02",
          "2014-03",
          "2014-04",
          "2014-05",
          "2014-06",
          "2014-07",
          "2014-08",
          "2014-09",
          "2014-10",
          "2014-11",
          "2014-12",
          "2015-01",
          "2015-02",
          "2015-03",
          "2015-04",
          "2015-05",
          "2015-07",
          "2015-08",
          "2015-09",
          "2015-10",
          "2015-11",
          "2015-12",
          "2016-01",
          "2016-02",
          "2016-03",
          "2016-04",
          "2016-05",
          "2016-06",
          "2016-07",
          "2016-08",
          "2016-09",
          "2016-10",
          "2016-11",
          "2016-12",
          "2017-01",
          "2017-02",
          "2017-03",
          "2017-04",
          "2017-05",
          "2017-06",
          "2017-07",
          "2017-08",
          "2017-09",
          "2017-10",
          "2017-11",
          "2017-12",
          "2018-01",
          "2018-02",
          "2018-03",
          "2018-04",
          "2018-05",
          "2018-07",
          "2018-08",
          "2018-09",
          "2018-10",
          "2018-11",
          "2018-12",
          "2019-01",
          "2019-02",
          "2019-03",
          "2019-04",
          "2019-05",
          "2019-06",
          "2019-08",
          "2019-09",
          "2019-10",
          "2019-11",
          "2019-12"
         ],
         "y": [
          244.8,
          160,
          127.2,
          108,
          53.2,
          0.4,
          3.2,
          10,
          19.6,
          71.2,
          72.6,
          137.8,
          55.6,
          101.6,
          303.4,
          23.8,
          16.8,
          0.4,
          1.2,
          9.4,
          8.6,
          23.2,
          141.2,
          150.8,
          131.6,
          125,
          74.2,
          63.8,
          30.2,
          5.2,
          2.8,
          37.8,
          32,
          27.4,
          112.4,
          75.4,
          84.8,
          89.2,
          19.8,
          18,
          3.4,
          21.2,
          6,
          1.8,
          32.8,
          136.6,
          198.6,
          144.2,
          152.2,
          58,
          28.8,
          49.2,
          0.2,
          4,
          0.4,
          16.6,
          49.4,
          122.6,
          146.2,
          45.6,
          137.6,
          75.6,
          125.2,
          26,
          6.6,
          32.6,
          24.4,
          37.2,
          36.6,
          78.6,
          125.8,
          44,
          52.2,
          65.8,
          2.4,
          4.4,
          3.6,
          34.6,
          60.4,
          82.6,
          108.6
         ]
        },
        {
         "line": {
          "color": "rgba(55, 128, 191, 1.0)",
          "dash": "solid",
          "shape": "linear",
          "width": 1.3
         },
         "mode": "lines",
         "name": "Prediction",
         "text": "",
         "type": "scatter",
         "x": [
          "2013-01",
          "2013-02",
          "2013-03",
          "2013-04",
          "2013-05",
          "2013-06",
          "2013-07",
          "2013-08",
          "2013-09",
          "2013-10",
          "2013-11",
          "2013-12",
          "2014-01",
          "2014-02",
          "2014-03",
          "2014-04",
          "2014-05",
          "2014-06",
          "2014-07",
          "2014-08",
          "2014-09",
          "2014-10",
          "2014-11",
          "2014-12",
          "2015-01",
          "2015-02",
          "2015-03",
          "2015-04",
          "2015-05",
          "2015-07",
          "2015-08",
          "2015-09",
          "2015-10",
          "2015-11",
          "2015-12",
          "2016-01",
          "2016-02",
          "2016-03",
          "2016-04",
          "2016-05",
          "2016-06",
          "2016-07",
          "2016-08",
          "2016-09",
          "2016-10",
          "2016-11",
          "2016-12",
          "2017-01",
          "2017-02",
          "2017-03",
          "2017-04",
          "2017-05",
          "2017-06",
          "2017-07",
          "2017-08",
          "2017-09",
          "2017-10",
          "2017-11",
          "2017-12",
          "2018-01",
          "2018-02",
          "2018-03",
          "2018-04",
          "2018-05",
          "2018-07",
          "2018-08",
          "2018-09",
          "2018-10",
          "2018-11",
          "2018-12",
          "2019-01",
          "2019-02",
          "2019-03",
          "2019-04",
          "2019-05",
          "2019-06",
          "2019-08",
          "2019-09",
          "2019-10",
          "2019-11",
          "2019-12"
         ],
         "y": [
          177.90529531398744,
          191.33245020333743,
          65.23230125607827,
          15.340415537674502,
          15.582428224490315,
          -26.56382230204365,
          5.449460025044361,
          34.62958402105167,
          48.01309422825871,
          165.01810812543903,
          116.74790377734575,
          130.2068653809909,
          155.8588565391209,
          156.96279723341215,
          77.46937308941969,
          19.319885513258384,
          26.95490850831905,
          4.246221037861542,
          28.46404924944182,
          40.88452685077445,
          37.24923456864736,
          173.43437281142286,
          95.18014583132098,
          141.66623188369832,
          149.34768563450874,
          164.86715289677332,
          75.12857730904273,
          29.229955609908032,
          36.84310624676036,
          2.75878142254105,
          23.538070549607365,
          35.23516968054463,
          32.877271502085115,
          158.0758533945832,
          95.55752543592749,
          132.59539142188993,
          154.74772229551903,
          168.5657727848475,
          85.07258180765213,
          31.79861364139507,
          35.1438556393779,
          1.3189678166616683,
          20.0500634015069,
          30.958512410005902,
          29.55866309086949,
          163.06377834611453,
          97.17655964796036,
          141.17231688839345,
          157.5490916805453,
          170.8678118943214,
          81.93942901211975,
          29.137471686619413,
          32.39759469799435,
          -2.0476957754997636,
          18.64827364160005,
          31.95482181047884,
          32.30657348805477,
          163.56217511715556,
          99.52239631383236,
          139.52786634593807,
          156.91944840571853,
          168.7955346866741,
          81.20418496490636,
          27.98417682706308,
          31.97355707353618,
          -0.9518990829027758,
          20.129891197023564,
          33.18320235799345,
          32.866364271412685,
          164.57792602271195,
          98.7398958260925,
          139.57631353482662,
          155.89514356978287,
          168.35590449197298,
          80.61238775514438,
          28.330384698841442,
          32.72939152245332,
          -0.42737450503913543,
          20.51040596935747,
          33.315079775602044,
          32.7184385531495
         ]
        }
       ],
       "layout": {
        "legend": {
         "bgcolor": "#F5F6F9",
         "font": {
          "color": "#4D5663"
         }
        },
        "paper_bgcolor": "#F5F6F9",
        "plot_bgcolor": "#F5F6F9",
        "template": {
         "data": {
          "bar": [
           {
            "error_x": {
             "color": "#2a3f5f"
            },
            "error_y": {
             "color": "#2a3f5f"
            },
            "marker": {
             "line": {
              "color": "#E5ECF6",
              "width": 0.5
             }
            },
            "type": "bar"
           }
          ],
          "barpolar": [
           {
            "marker": {
             "line": {
              "color": "#E5ECF6",
              "width": 0.5
             }
            },
            "type": "barpolar"
           }
          ],
          "carpet": [
           {
            "aaxis": {
             "endlinecolor": "#2a3f5f",
             "gridcolor": "white",
             "linecolor": "white",
             "minorgridcolor": "white",
             "startlinecolor": "#2a3f5f"
            },
            "baxis": {
             "endlinecolor": "#2a3f5f",
             "gridcolor": "white",
             "linecolor": "white",
             "minorgridcolor": "white",
             "startlinecolor": "#2a3f5f"
            },
            "type": "carpet"
           }
          ],
          "choropleth": [
           {
            "colorbar": {
             "outlinewidth": 0,
             "ticks": ""
            },
            "type": "choropleth"
           }
          ],
          "contour": [
           {
            "colorbar": {
             "outlinewidth": 0,
             "ticks": ""
            },
            "colorscale": [
             [
              0,
              "#0d0887"
             ],
             [
              0.1111111111111111,
              "#46039f"
             ],
             [
              0.2222222222222222,
              "#7201a8"
             ],
             [
              0.3333333333333333,
              "#9c179e"
             ],
             [
              0.4444444444444444,
              "#bd3786"
             ],
             [
              0.5555555555555556,
              "#d8576b"
             ],
             [
              0.6666666666666666,
              "#ed7953"
             ],
             [
              0.7777777777777778,
              "#fb9f3a"
             ],
             [
              0.8888888888888888,
              "#fdca26"
             ],
             [
              1,
              "#f0f921"
             ]
            ],
            "type": "contour"
           }
          ],
          "contourcarpet": [
           {
            "colorbar": {
             "outlinewidth": 0,
             "ticks": ""
            },
            "type": "contourcarpet"
           }
          ],
          "heatmap": [
           {
            "colorbar": {
             "outlinewidth": 0,
             "ticks": ""
            },
            "colorscale": [
             [
              0,
              "#0d0887"
             ],
             [
              0.1111111111111111,
              "#46039f"
             ],
             [
              0.2222222222222222,
              "#7201a8"
             ],
             [
              0.3333333333333333,
              "#9c179e"
             ],
             [
              0.4444444444444444,
              "#bd3786"
             ],
             [
              0.5555555555555556,
              "#d8576b"
             ],
             [
              0.6666666666666666,
              "#ed7953"
             ],
             [
              0.7777777777777778,
              "#fb9f3a"
             ],
             [
              0.8888888888888888,
              "#fdca26"
             ],
             [
              1,
              "#f0f921"
             ]
            ],
            "type": "heatmap"
           }
          ],
          "heatmapgl": [
           {
            "colorbar": {
             "outlinewidth": 0,
             "ticks": ""
            },
            "colorscale": [
             [
              0,
              "#0d0887"
             ],
             [
              0.1111111111111111,
              "#46039f"
             ],
             [
              0.2222222222222222,
              "#7201a8"
             ],
             [
              0.3333333333333333,
              "#9c179e"
             ],
             [
              0.4444444444444444,
              "#bd3786"
             ],
             [
              0.5555555555555556,
              "#d8576b"
             ],
             [
              0.6666666666666666,
              "#ed7953"
             ],
             [
              0.7777777777777778,
              "#fb9f3a"
             ],
             [
              0.8888888888888888,
              "#fdca26"
             ],
             [
              1,
              "#f0f921"
             ]
            ],
            "type": "heatmapgl"
           }
          ],
          "histogram": [
           {
            "marker": {
             "colorbar": {
              "outlinewidth": 0,
              "ticks": ""
             }
            },
            "type": "histogram"
           }
          ],
          "histogram2d": [
           {
            "colorbar": {
             "outlinewidth": 0,
             "ticks": ""
            },
            "colorscale": [
             [
              0,
              "#0d0887"
             ],
             [
              0.1111111111111111,
              "#46039f"
             ],
             [
              0.2222222222222222,
              "#7201a8"
             ],
             [
              0.3333333333333333,
              "#9c179e"
             ],
             [
              0.4444444444444444,
              "#bd3786"
             ],
             [
              0.5555555555555556,
              "#d8576b"
             ],
             [
              0.6666666666666666,
              "#ed7953"
             ],
             [
              0.7777777777777778,
              "#fb9f3a"
             ],
             [
              0.8888888888888888,
              "#fdca26"
             ],
             [
              1,
              "#f0f921"
             ]
            ],
            "type": "histogram2d"
           }
          ],
          "histogram2dcontour": [
           {
            "colorbar": {
             "outlinewidth": 0,
             "ticks": ""
            },
            "colorscale": [
             [
              0,
              "#0d0887"
             ],
             [
              0.1111111111111111,
              "#46039f"
             ],
             [
              0.2222222222222222,
              "#7201a8"
             ],
             [
              0.3333333333333333,
              "#9c179e"
             ],
             [
              0.4444444444444444,
              "#bd3786"
             ],
             [
              0.5555555555555556,
              "#d8576b"
             ],
             [
              0.6666666666666666,
              "#ed7953"
             ],
             [
              0.7777777777777778,
              "#fb9f3a"
             ],
             [
              0.8888888888888888,
              "#fdca26"
             ],
             [
              1,
              "#f0f921"
             ]
            ],
            "type": "histogram2dcontour"
           }
          ],
          "mesh3d": [
           {
            "colorbar": {
             "outlinewidth": 0,
             "ticks": ""
            },
            "type": "mesh3d"
           }
          ],
          "parcoords": [
           {
            "line": {
             "colorbar": {
              "outlinewidth": 0,
              "ticks": ""
             }
            },
            "type": "parcoords"
           }
          ],
          "pie": [
           {
            "automargin": true,
            "type": "pie"
           }
          ],
          "scatter": [
           {
            "marker": {
             "colorbar": {
              "outlinewidth": 0,
              "ticks": ""
             }
            },
            "type": "scatter"
           }
          ],
          "scatter3d": [
           {
            "line": {
             "colorbar": {
              "outlinewidth": 0,
              "ticks": ""
             }
            },
            "marker": {
             "colorbar": {
              "outlinewidth": 0,
              "ticks": ""
             }
            },
            "type": "scatter3d"
           }
          ],
          "scattercarpet": [
           {
            "marker": {
             "colorbar": {
              "outlinewidth": 0,
              "ticks": ""
             }
            },
            "type": "scattercarpet"
           }
          ],
          "scattergeo": [
           {
            "marker": {
             "colorbar": {
              "outlinewidth": 0,
              "ticks": ""
             }
            },
            "type": "scattergeo"
           }
          ],
          "scattergl": [
           {
            "marker": {
             "colorbar": {
              "outlinewidth": 0,
              "ticks": ""
             }
            },
            "type": "scattergl"
           }
          ],
          "scattermapbox": [
           {
            "marker": {
             "colorbar": {
              "outlinewidth": 0,
              "ticks": ""
             }
            },
            "type": "scattermapbox"
           }
          ],
          "scatterpolar": [
           {
            "marker": {
             "colorbar": {
              "outlinewidth": 0,
              "ticks": ""
             }
            },
            "type": "scatterpolar"
           }
          ],
          "scatterpolargl": [
           {
            "marker": {
             "colorbar": {
              "outlinewidth": 0,
              "ticks": ""
             }
            },
            "type": "scatterpolargl"
           }
          ],
          "scatterternary": [
           {
            "marker": {
             "colorbar": {
              "outlinewidth": 0,
              "ticks": ""
             }
            },
            "type": "scatterternary"
           }
          ],
          "surface": [
           {
            "colorbar": {
             "outlinewidth": 0,
             "ticks": ""
            },
            "colorscale": [
             [
              0,
              "#0d0887"
             ],
             [
              0.1111111111111111,
              "#46039f"
             ],
             [
              0.2222222222222222,
              "#7201a8"
             ],
             [
              0.3333333333333333,
              "#9c179e"
             ],
             [
              0.4444444444444444,
              "#bd3786"
             ],
             [
              0.5555555555555556,
              "#d8576b"
             ],
             [
              0.6666666666666666,
              "#ed7953"
             ],
             [
              0.7777777777777778,
              "#fb9f3a"
             ],
             [
              0.8888888888888888,
              "#fdca26"
             ],
             [
              1,
              "#f0f921"
             ]
            ],
            "type": "surface"
           }
          ],
          "table": [
           {
            "cells": {
             "fill": {
              "color": "#EBF0F8"
             },
             "line": {
              "color": "white"
             }
            },
            "header": {
             "fill": {
              "color": "#C8D4E3"
             },
             "line": {
              "color": "white"
             }
            },
            "type": "table"
           }
          ]
         },
         "layout": {
          "annotationdefaults": {
           "arrowcolor": "#2a3f5f",
           "arrowhead": 0,
           "arrowwidth": 1
          },
          "autotypenumbers": "strict",
          "coloraxis": {
           "colorbar": {
            "outlinewidth": 0,
            "ticks": ""
           }
          },
          "colorscale": {
           "diverging": [
            [
             0,
             "#8e0152"
            ],
            [
             0.1,
             "#c51b7d"
            ],
            [
             0.2,
             "#de77ae"
            ],
            [
             0.3,
             "#f1b6da"
            ],
            [
             0.4,
             "#fde0ef"
            ],
            [
             0.5,
             "#f7f7f7"
            ],
            [
             0.6,
             "#e6f5d0"
            ],
            [
             0.7,
             "#b8e186"
            ],
            [
             0.8,
             "#7fbc41"
            ],
            [
             0.9,
             "#4d9221"
            ],
            [
             1,
             "#276419"
            ]
           ],
           "sequential": [
            [
             0,
             "#0d0887"
            ],
            [
             0.1111111111111111,
             "#46039f"
            ],
            [
             0.2222222222222222,
             "#7201a8"
            ],
            [
             0.3333333333333333,
             "#9c179e"
            ],
            [
             0.4444444444444444,
             "#bd3786"
            ],
            [
             0.5555555555555556,
             "#d8576b"
            ],
            [
             0.6666666666666666,
             "#ed7953"
            ],
            [
             0.7777777777777778,
             "#fb9f3a"
            ],
            [
             0.8888888888888888,
             "#fdca26"
            ],
            [
             1,
             "#f0f921"
            ]
           ],
           "sequentialminus": [
            [
             0,
             "#0d0887"
            ],
            [
             0.1111111111111111,
             "#46039f"
            ],
            [
             0.2222222222222222,
             "#7201a8"
            ],
            [
             0.3333333333333333,
             "#9c179e"
            ],
            [
             0.4444444444444444,
             "#bd3786"
            ],
            [
             0.5555555555555556,
             "#d8576b"
            ],
            [
             0.6666666666666666,
             "#ed7953"
            ],
            [
             0.7777777777777778,
             "#fb9f3a"
            ],
            [
             0.8888888888888888,
             "#fdca26"
            ],
            [
             1,
             "#f0f921"
            ]
           ]
          },
          "colorway": [
           "#636efa",
           "#EF553B",
           "#00cc96",
           "#ab63fa",
           "#FFA15A",
           "#19d3f3",
           "#FF6692",
           "#B6E880",
           "#FF97FF",
           "#FECB52"
          ],
          "font": {
           "color": "#2a3f5f"
          },
          "geo": {
           "bgcolor": "white",
           "lakecolor": "white",
           "landcolor": "#E5ECF6",
           "showlakes": true,
           "showland": true,
           "subunitcolor": "white"
          },
          "hoverlabel": {
           "align": "left"
          },
          "hovermode": "closest",
          "mapbox": {
           "style": "light"
          },
          "paper_bgcolor": "white",
          "plot_bgcolor": "#E5ECF6",
          "polar": {
           "angularaxis": {
            "gridcolor": "white",
            "linecolor": "white",
            "ticks": ""
           },
           "bgcolor": "#E5ECF6",
           "radialaxis": {
            "gridcolor": "white",
            "linecolor": "white",
            "ticks": ""
           }
          },
          "scene": {
           "xaxis": {
            "backgroundcolor": "#E5ECF6",
            "gridcolor": "white",
            "gridwidth": 2,
            "linecolor": "white",
            "showbackground": true,
            "ticks": "",
            "zerolinecolor": "white"
           },
           "yaxis": {
            "backgroundcolor": "#E5ECF6",
            "gridcolor": "white",
            "gridwidth": 2,
            "linecolor": "white",
            "showbackground": true,
            "ticks": "",
            "zerolinecolor": "white"
           },
           "zaxis": {
            "backgroundcolor": "#E5ECF6",
            "gridcolor": "white",
            "gridwidth": 2,
            "linecolor": "white",
            "showbackground": true,
            "ticks": "",
            "zerolinecolor": "white"
           }
          },
          "shapedefaults": {
           "line": {
            "color": "#2a3f5f"
           }
          },
          "ternary": {
           "aaxis": {
            "gridcolor": "white",
            "linecolor": "white",
            "ticks": ""
           },
           "baxis": {
            "gridcolor": "white",
            "linecolor": "white",
            "ticks": ""
           },
           "bgcolor": "#E5ECF6",
           "caxis": {
            "gridcolor": "white",
            "linecolor": "white",
            "ticks": ""
           }
          },
          "title": {
           "x": 0.05
          },
          "xaxis": {
           "automargin": true,
           "gridcolor": "white",
           "linecolor": "white",
           "ticks": "",
           "title": {
            "standoff": 15
           },
           "zerolinecolor": "white",
           "zerolinewidth": 2
          },
          "yaxis": {
           "automargin": true,
           "gridcolor": "white",
           "linecolor": "white",
           "ticks": "",
           "title": {
            "standoff": 15
           },
           "zerolinecolor": "white",
           "zerolinewidth": 2
          }
         }
        },
        "title": {
         "font": {
          "color": "#4D5663"
         }
        },
        "xaxis": {
         "gridcolor": "#E1E5ED",
         "showgrid": true,
         "tickfont": {
          "color": "#4D5663"
         },
         "title": {
          "font": {
           "color": "#4D5663"
          },
          "text": ""
         },
         "zerolinecolor": "#E1E5ED"
        },
        "yaxis": {
         "gridcolor": "#E1E5ED",
         "showgrid": true,
         "tickfont": {
          "color": "#4D5663"
         },
         "title": {
          "font": {
           "color": "#4D5663"
          },
          "text": ""
         },
         "zerolinecolor": "#E1E5ED"
        }
       }
      },
      "text/html": [
       "<div>                            <div id=\"81d98d1b-c16a-4705-a083-138e65ad1956\" class=\"plotly-graph-div\" style=\"height:525px; width:100%;\"></div>            <script type=\"text/javascript\">                require([\"plotly\"], function(Plotly) {                    window.PLOTLYENV=window.PLOTLYENV || {};\n",
       "                    window.PLOTLYENV.BASE_URL='https://plot.ly';                                    if (document.getElementById(\"81d98d1b-c16a-4705-a083-138e65ad1956\")) {                    Plotly.newPlot(                        \"81d98d1b-c16a-4705-a083-138e65ad1956\",                        [{\"line\": {\"color\": \"rgba(255, 153, 51, 1.0)\", \"dash\": \"solid\", \"shape\": \"linear\", \"width\": 1.3}, \"mode\": \"lines\", \"name\": \"rainfall\", \"text\": \"\", \"type\": \"scatter\", \"x\": [\"2013-01\", \"2013-02\", \"2013-03\", \"2013-04\", \"2013-05\", \"2013-06\", \"2013-07\", \"2013-08\", \"2013-09\", \"2013-10\", \"2013-11\", \"2013-12\", \"2014-01\", \"2014-02\", \"2014-03\", \"2014-04\", \"2014-05\", \"2014-06\", \"2014-07\", \"2014-08\", \"2014-09\", \"2014-10\", \"2014-11\", \"2014-12\", \"2015-01\", \"2015-02\", \"2015-03\", \"2015-04\", \"2015-05\", \"2015-07\", \"2015-08\", \"2015-09\", \"2015-10\", \"2015-11\", \"2015-12\", \"2016-01\", \"2016-02\", \"2016-03\", \"2016-04\", \"2016-05\", \"2016-06\", \"2016-07\", \"2016-08\", \"2016-09\", \"2016-10\", \"2016-11\", \"2016-12\", \"2017-01\", \"2017-02\", \"2017-03\", \"2017-04\", \"2017-05\", \"2017-06\", \"2017-07\", \"2017-08\", \"2017-09\", \"2017-10\", \"2017-11\", \"2017-12\", \"2018-01\", \"2018-02\", \"2018-03\", \"2018-04\", \"2018-05\", \"2018-07\", \"2018-08\", \"2018-09\", \"2018-10\", \"2018-11\", \"2018-12\", \"2019-01\", \"2019-02\", \"2019-03\", \"2019-04\", \"2019-05\", \"2019-06\", \"2019-08\", \"2019-09\", \"2019-10\", \"2019-11\", \"2019-12\"], \"y\": [244.8, 160.0, 127.2, 108.0, 53.2, 0.4, 3.2, 10.0, 19.6, 71.2, 72.6, 137.8, 55.6, 101.6, 303.4, 23.8, 16.8, 0.4, 1.2, 9.4, 8.6, 23.2, 141.2, 150.8, 131.6, 125.0, 74.2, 63.8, 30.2, 5.2, 2.8, 37.8, 32.0, 27.4, 112.4, 75.4, 84.8, 89.2, 19.8, 18.0, 3.4, 21.2, 6.0, 1.8, 32.8, 136.6, 198.6, 144.2, 152.2, 58.0, 28.8, 49.2, 0.2, 4.0, 0.4, 16.6, 49.4, 122.6, 146.2, 45.6, 137.6, 75.6, 125.2, 26.0, 6.6, 32.6, 24.4, 37.2, 36.6, 78.6, 125.8, 44.0, 52.2, 65.8, 2.4, 4.4, 3.6, 34.6, 60.4, 82.6, 108.6]}, {\"line\": {\"color\": \"rgba(55, 128, 191, 1.0)\", \"dash\": \"solid\", \"shape\": \"linear\", \"width\": 1.3}, \"mode\": \"lines\", \"name\": \"Prediction\", \"text\": \"\", \"type\": \"scatter\", \"x\": [\"2013-01\", \"2013-02\", \"2013-03\", \"2013-04\", \"2013-05\", \"2013-06\", \"2013-07\", \"2013-08\", \"2013-09\", \"2013-10\", \"2013-11\", \"2013-12\", \"2014-01\", \"2014-02\", \"2014-03\", \"2014-04\", \"2014-05\", \"2014-06\", \"2014-07\", \"2014-08\", \"2014-09\", \"2014-10\", \"2014-11\", \"2014-12\", \"2015-01\", \"2015-02\", \"2015-03\", \"2015-04\", \"2015-05\", \"2015-07\", \"2015-08\", \"2015-09\", \"2015-10\", \"2015-11\", \"2015-12\", \"2016-01\", \"2016-02\", \"2016-03\", \"2016-04\", \"2016-05\", \"2016-06\", \"2016-07\", \"2016-08\", \"2016-09\", \"2016-10\", \"2016-11\", \"2016-12\", \"2017-01\", \"2017-02\", \"2017-03\", \"2017-04\", \"2017-05\", \"2017-06\", \"2017-07\", \"2017-08\", \"2017-09\", \"2017-10\", \"2017-11\", \"2017-12\", \"2018-01\", \"2018-02\", \"2018-03\", \"2018-04\", \"2018-05\", \"2018-07\", \"2018-08\", \"2018-09\", \"2018-10\", \"2018-11\", \"2018-12\", \"2019-01\", \"2019-02\", \"2019-03\", \"2019-04\", \"2019-05\", \"2019-06\", \"2019-08\", \"2019-09\", \"2019-10\", \"2019-11\", \"2019-12\"], \"y\": [177.90529531398744, 191.33245020333743, 65.23230125607827, 15.340415537674502, 15.582428224490315, -26.56382230204365, 5.449460025044361, 34.62958402105167, 48.01309422825871, 165.01810812543903, 116.74790377734575, 130.2068653809909, 155.8588565391209, 156.96279723341215, 77.46937308941969, 19.319885513258384, 26.95490850831905, 4.246221037861542, 28.46404924944182, 40.88452685077445, 37.24923456864736, 173.43437281142286, 95.18014583132098, 141.66623188369832, 149.34768563450874, 164.86715289677332, 75.12857730904273, 29.229955609908032, 36.84310624676036, 2.75878142254105, 23.538070549607365, 35.23516968054463, 32.877271502085115, 158.0758533945832, 95.55752543592749, 132.59539142188993, 154.74772229551903, 168.5657727848475, 85.07258180765213, 31.79861364139507, 35.1438556393779, 1.3189678166616683, 20.0500634015069, 30.958512410005902, 29.55866309086949, 163.06377834611453, 97.17655964796036, 141.17231688839345, 157.5490916805453, 170.8678118943214, 81.93942901211975, 29.137471686619413, 32.39759469799435, -2.0476957754997636, 18.64827364160005, 31.95482181047884, 32.30657348805477, 163.56217511715556, 99.52239631383236, 139.52786634593807, 156.91944840571853, 168.7955346866741, 81.20418496490636, 27.98417682706308, 31.97355707353618, -0.9518990829027758, 20.129891197023564, 33.18320235799345, 32.866364271412685, 164.57792602271195, 98.7398958260925, 139.57631353482662, 155.89514356978287, 168.35590449197298, 80.61238775514438, 28.330384698841442, 32.72939152245332, -0.42737450503913543, 20.51040596935747, 33.315079775602044, 32.7184385531495]}],                        {\"legend\": {\"bgcolor\": \"#F5F6F9\", \"font\": {\"color\": \"#4D5663\"}}, \"paper_bgcolor\": \"#F5F6F9\", \"plot_bgcolor\": \"#F5F6F9\", \"template\": {\"data\": {\"bar\": [{\"error_x\": {\"color\": \"#2a3f5f\"}, \"error_y\": {\"color\": \"#2a3f5f\"}, \"marker\": {\"line\": {\"color\": \"#E5ECF6\", \"width\": 0.5}}, \"type\": \"bar\"}], \"barpolar\": [{\"marker\": {\"line\": {\"color\": \"#E5ECF6\", \"width\": 0.5}}, \"type\": \"barpolar\"}], \"carpet\": [{\"aaxis\": {\"endlinecolor\": \"#2a3f5f\", \"gridcolor\": \"white\", \"linecolor\": \"white\", \"minorgridcolor\": \"white\", \"startlinecolor\": \"#2a3f5f\"}, \"baxis\": {\"endlinecolor\": \"#2a3f5f\", \"gridcolor\": \"white\", \"linecolor\": \"white\", \"minorgridcolor\": \"white\", \"startlinecolor\": \"#2a3f5f\"}, \"type\": \"carpet\"}], \"choropleth\": [{\"colorbar\": {\"outlinewidth\": 0, \"ticks\": \"\"}, \"type\": \"choropleth\"}], \"contour\": [{\"colorbar\": {\"outlinewidth\": 0, \"ticks\": \"\"}, \"colorscale\": [[0.0, \"#0d0887\"], [0.1111111111111111, \"#46039f\"], [0.2222222222222222, \"#7201a8\"], [0.3333333333333333, \"#9c179e\"], [0.4444444444444444, \"#bd3786\"], [0.5555555555555556, \"#d8576b\"], [0.6666666666666666, \"#ed7953\"], [0.7777777777777778, \"#fb9f3a\"], [0.8888888888888888, \"#fdca26\"], [1.0, \"#f0f921\"]], \"type\": \"contour\"}], \"contourcarpet\": [{\"colorbar\": {\"outlinewidth\": 0, \"ticks\": \"\"}, \"type\": \"contourcarpet\"}], \"heatmap\": [{\"colorbar\": {\"outlinewidth\": 0, \"ticks\": \"\"}, \"colorscale\": [[0.0, \"#0d0887\"], [0.1111111111111111, \"#46039f\"], [0.2222222222222222, \"#7201a8\"], [0.3333333333333333, \"#9c179e\"], [0.4444444444444444, \"#bd3786\"], [0.5555555555555556, \"#d8576b\"], [0.6666666666666666, \"#ed7953\"], [0.7777777777777778, \"#fb9f3a\"], [0.8888888888888888, \"#fdca26\"], [1.0, \"#f0f921\"]], \"type\": \"heatmap\"}], \"heatmapgl\": [{\"colorbar\": {\"outlinewidth\": 0, \"ticks\": \"\"}, \"colorscale\": [[0.0, \"#0d0887\"], [0.1111111111111111, \"#46039f\"], [0.2222222222222222, \"#7201a8\"], [0.3333333333333333, \"#9c179e\"], [0.4444444444444444, \"#bd3786\"], [0.5555555555555556, \"#d8576b\"], [0.6666666666666666, \"#ed7953\"], [0.7777777777777778, \"#fb9f3a\"], [0.8888888888888888, \"#fdca26\"], [1.0, \"#f0f921\"]], \"type\": \"heatmapgl\"}], \"histogram\": [{\"marker\": {\"colorbar\": {\"outlinewidth\": 0, \"ticks\": \"\"}}, \"type\": \"histogram\"}], \"histogram2d\": [{\"colorbar\": {\"outlinewidth\": 0, \"ticks\": \"\"}, \"colorscale\": [[0.0, \"#0d0887\"], [0.1111111111111111, \"#46039f\"], [0.2222222222222222, \"#7201a8\"], [0.3333333333333333, \"#9c179e\"], [0.4444444444444444, \"#bd3786\"], [0.5555555555555556, \"#d8576b\"], [0.6666666666666666, \"#ed7953\"], [0.7777777777777778, \"#fb9f3a\"], [0.8888888888888888, \"#fdca26\"], [1.0, \"#f0f921\"]], \"type\": \"histogram2d\"}], \"histogram2dcontour\": [{\"colorbar\": {\"outlinewidth\": 0, \"ticks\": \"\"}, \"colorscale\": [[0.0, \"#0d0887\"], [0.1111111111111111, \"#46039f\"], [0.2222222222222222, \"#7201a8\"], [0.3333333333333333, \"#9c179e\"], [0.4444444444444444, \"#bd3786\"], [0.5555555555555556, \"#d8576b\"], [0.6666666666666666, \"#ed7953\"], [0.7777777777777778, \"#fb9f3a\"], [0.8888888888888888, \"#fdca26\"], [1.0, \"#f0f921\"]], \"type\": \"histogram2dcontour\"}], \"mesh3d\": [{\"colorbar\": {\"outlinewidth\": 0, \"ticks\": \"\"}, \"type\": \"mesh3d\"}], \"parcoords\": [{\"line\": {\"colorbar\": {\"outlinewidth\": 0, \"ticks\": \"\"}}, \"type\": \"parcoords\"}], \"pie\": [{\"automargin\": true, \"type\": \"pie\"}], \"scatter\": [{\"marker\": {\"colorbar\": {\"outlinewidth\": 0, \"ticks\": \"\"}}, \"type\": \"scatter\"}], \"scatter3d\": [{\"line\": {\"colorbar\": {\"outlinewidth\": 0, \"ticks\": \"\"}}, \"marker\": {\"colorbar\": {\"outlinewidth\": 0, \"ticks\": \"\"}}, \"type\": \"scatter3d\"}], \"scattercarpet\": [{\"marker\": {\"colorbar\": {\"outlinewidth\": 0, \"ticks\": \"\"}}, \"type\": \"scattercarpet\"}], \"scattergeo\": [{\"marker\": {\"colorbar\": {\"outlinewidth\": 0, \"ticks\": \"\"}}, \"type\": \"scattergeo\"}], \"scattergl\": [{\"marker\": {\"colorbar\": {\"outlinewidth\": 0, \"ticks\": \"\"}}, \"type\": \"scattergl\"}], \"scattermapbox\": [{\"marker\": {\"colorbar\": {\"outlinewidth\": 0, \"ticks\": \"\"}}, \"type\": \"scattermapbox\"}], \"scatterpolar\": [{\"marker\": {\"colorbar\": {\"outlinewidth\": 0, \"ticks\": \"\"}}, \"type\": \"scatterpolar\"}], \"scatterpolargl\": [{\"marker\": {\"colorbar\": {\"outlinewidth\": 0, \"ticks\": \"\"}}, \"type\": \"scatterpolargl\"}], \"scatterternary\": [{\"marker\": {\"colorbar\": {\"outlinewidth\": 0, \"ticks\": \"\"}}, \"type\": \"scatterternary\"}], \"surface\": [{\"colorbar\": {\"outlinewidth\": 0, \"ticks\": \"\"}, \"colorscale\": [[0.0, \"#0d0887\"], [0.1111111111111111, \"#46039f\"], [0.2222222222222222, \"#7201a8\"], [0.3333333333333333, \"#9c179e\"], [0.4444444444444444, \"#bd3786\"], [0.5555555555555556, \"#d8576b\"], [0.6666666666666666, \"#ed7953\"], [0.7777777777777778, \"#fb9f3a\"], [0.8888888888888888, \"#fdca26\"], [1.0, \"#f0f921\"]], \"type\": \"surface\"}], \"table\": [{\"cells\": {\"fill\": {\"color\": \"#EBF0F8\"}, \"line\": {\"color\": \"white\"}}, \"header\": {\"fill\": {\"color\": \"#C8D4E3\"}, \"line\": {\"color\": \"white\"}}, \"type\": \"table\"}]}, \"layout\": {\"annotationdefaults\": {\"arrowcolor\": \"#2a3f5f\", \"arrowhead\": 0, \"arrowwidth\": 1}, \"autotypenumbers\": \"strict\", \"coloraxis\": {\"colorbar\": {\"outlinewidth\": 0, \"ticks\": \"\"}}, \"colorscale\": {\"diverging\": [[0, \"#8e0152\"], [0.1, \"#c51b7d\"], [0.2, \"#de77ae\"], [0.3, \"#f1b6da\"], [0.4, \"#fde0ef\"], [0.5, \"#f7f7f7\"], [0.6, \"#e6f5d0\"], [0.7, \"#b8e186\"], [0.8, \"#7fbc41\"], [0.9, \"#4d9221\"], [1, \"#276419\"]], \"sequential\": [[0.0, \"#0d0887\"], [0.1111111111111111, \"#46039f\"], [0.2222222222222222, \"#7201a8\"], [0.3333333333333333, \"#9c179e\"], [0.4444444444444444, \"#bd3786\"], [0.5555555555555556, \"#d8576b\"], [0.6666666666666666, \"#ed7953\"], [0.7777777777777778, \"#fb9f3a\"], [0.8888888888888888, \"#fdca26\"], [1.0, \"#f0f921\"]], \"sequentialminus\": [[0.0, \"#0d0887\"], [0.1111111111111111, \"#46039f\"], [0.2222222222222222, \"#7201a8\"], [0.3333333333333333, \"#9c179e\"], [0.4444444444444444, \"#bd3786\"], [0.5555555555555556, \"#d8576b\"], [0.6666666666666666, \"#ed7953\"], [0.7777777777777778, \"#fb9f3a\"], [0.8888888888888888, \"#fdca26\"], [1.0, \"#f0f921\"]]}, \"colorway\": [\"#636efa\", \"#EF553B\", \"#00cc96\", \"#ab63fa\", \"#FFA15A\", \"#19d3f3\", \"#FF6692\", \"#B6E880\", \"#FF97FF\", \"#FECB52\"], \"font\": {\"color\": \"#2a3f5f\"}, \"geo\": {\"bgcolor\": \"white\", \"lakecolor\": \"white\", \"landcolor\": \"#E5ECF6\", \"showlakes\": true, \"showland\": true, \"subunitcolor\": \"white\"}, \"hoverlabel\": {\"align\": \"left\"}, \"hovermode\": \"closest\", \"mapbox\": {\"style\": \"light\"}, \"paper_bgcolor\": \"white\", \"plot_bgcolor\": \"#E5ECF6\", \"polar\": {\"angularaxis\": {\"gridcolor\": \"white\", \"linecolor\": \"white\", \"ticks\": \"\"}, \"bgcolor\": \"#E5ECF6\", \"radialaxis\": {\"gridcolor\": \"white\", \"linecolor\": \"white\", \"ticks\": \"\"}}, \"scene\": {\"xaxis\": {\"backgroundcolor\": \"#E5ECF6\", \"gridcolor\": \"white\", \"gridwidth\": 2, \"linecolor\": \"white\", \"showbackground\": true, \"ticks\": \"\", \"zerolinecolor\": \"white\"}, \"yaxis\": {\"backgroundcolor\": \"#E5ECF6\", \"gridcolor\": \"white\", \"gridwidth\": 2, \"linecolor\": \"white\", \"showbackground\": true, \"ticks\": \"\", \"zerolinecolor\": \"white\"}, \"zaxis\": {\"backgroundcolor\": \"#E5ECF6\", \"gridcolor\": \"white\", \"gridwidth\": 2, \"linecolor\": \"white\", \"showbackground\": true, \"ticks\": \"\", \"zerolinecolor\": \"white\"}}, \"shapedefaults\": {\"line\": {\"color\": \"#2a3f5f\"}}, \"ternary\": {\"aaxis\": {\"gridcolor\": \"white\", \"linecolor\": \"white\", \"ticks\": \"\"}, \"baxis\": {\"gridcolor\": \"white\", \"linecolor\": \"white\", \"ticks\": \"\"}, \"bgcolor\": \"#E5ECF6\", \"caxis\": {\"gridcolor\": \"white\", \"linecolor\": \"white\", \"ticks\": \"\"}}, \"title\": {\"x\": 0.05}, \"xaxis\": {\"automargin\": true, \"gridcolor\": \"white\", \"linecolor\": \"white\", \"ticks\": \"\", \"title\": {\"standoff\": 15}, \"zerolinecolor\": \"white\", \"zerolinewidth\": 2}, \"yaxis\": {\"automargin\": true, \"gridcolor\": \"white\", \"linecolor\": \"white\", \"ticks\": \"\", \"title\": {\"standoff\": 15}, \"zerolinecolor\": \"white\", \"zerolinewidth\": 2}}}, \"title\": {\"font\": {\"color\": \"#4D5663\"}}, \"xaxis\": {\"gridcolor\": \"#E1E5ED\", \"showgrid\": true, \"tickfont\": {\"color\": \"#4D5663\"}, \"title\": {\"font\": {\"color\": \"#4D5663\"}, \"text\": \"\"}, \"zerolinecolor\": \"#E1E5ED\"}, \"yaxis\": {\"gridcolor\": \"#E1E5ED\", \"showgrid\": true, \"tickfont\": {\"color\": \"#4D5663\"}, \"title\": {\"font\": {\"color\": \"#4D5663\"}, \"text\": \"\"}, \"zerolinecolor\": \"#E1E5ED\"}},                        {\"showLink\": true, \"linkText\": \"Export to plot.ly\", \"plotlyServerURL\": \"https://plot.ly\", \"responsive\": true}                    ).then(function(){\n",
       "                            \n",
       "var gd = document.getElementById('81d98d1b-c16a-4705-a083-138e65ad1956');\n",
       "var x = new MutationObserver(function (mutations, observer) {{\n",
       "        var display = window.getComputedStyle(gd).display;\n",
       "        if (!display || display === 'none') {{\n",
       "            console.log([gd, 'removed!']);\n",
       "            Plotly.purge(gd);\n",
       "            observer.disconnect();\n",
       "        }}\n",
       "}});\n",
       "\n",
       "// Listen for the removal of the full notebook cells\n",
       "var notebookContainer = gd.closest('#notebook-container');\n",
       "if (notebookContainer) {{\n",
       "    x.observe(notebookContainer, {childList: true});\n",
       "}}\n",
       "\n",
       "// Listen for the clearing of the current output cell\n",
       "var outputEl = gd.closest('.output');\n",
       "if (outputEl) {{\n",
       "    x.observe(outputEl, {childList: true});\n",
       "}}\n",
       "\n",
       "                        })                };                });            </script>        </div>"
      ]
     },
     "metadata": {},
     "output_type": "display_data"
    }
   ],
   "source": [
    "future_forecast = model.predict(len(valid))\n",
    "future_forecast = pd.DataFrame(future_forecast,index =valid.index,columns=['Prediction'])\n",
    "#iplot.title(\"Machine Learned the Pattern Predicting Future Values \")\n",
    "pd.concat([valid,future_forecast],axis=1).iplot()"
   ]
  },
  {
   "cell_type": "code",
   "execution_count": 30,
   "metadata": {},
   "outputs": [
    {
     "name": "stdout",
     "output_type": "stream",
     "text": [
      "Test Score: 58.552 RMSE\n"
     ]
    }
   ],
   "source": [
    "testScore = math.sqrt(mean_squared_error(valid,future_forecast))\n",
    "print('Test Score: %.3f RMSE' % (testScore))"
   ]
  },
  {
   "cell_type": "code",
   "execution_count": 34,
   "metadata": {},
   "outputs": [
    {
     "name": "stdout",
     "output_type": "stream",
     "text": [
      "Test Score: 3428.321 MAE\n"
     ]
    }
   ],
   "source": [
    "testScore = mean_squared_error(valid,future_forecast)\n",
    "print('Test Score: %.3f MAE' % (testScore))"
   ]
  },
  {
   "cell_type": "code",
   "execution_count": 35,
   "metadata": {},
   "outputs": [
    {
     "name": "stdout",
     "output_type": "stream",
     "text": [
      "Test Score: 42.434 MAE\n"
     ]
    }
   ],
   "source": [
    "testScore = mean_absolute_error(valid,future_forecast)\n",
    "print('Test Score: %.3f MAE' % (testScore))"
   ]
  },
  {
   "cell_type": "code",
   "execution_count": 36,
   "metadata": {},
   "outputs": [
    {
     "name": "stdout",
     "output_type": "stream",
     "text": [
      "Test Score: 5.631 MAPE\n"
     ]
    }
   ],
   "source": [
    "testScore = mean_absolute_percentage_error(valid,future_forecast)\n",
    "print('Test Score: %.3f MAPE' % (testScore))"
   ]
  },
  {
   "cell_type": "code",
   "execution_count": null,
   "metadata": {},
   "outputs": [],
   "source": []
  }
 ],
 "metadata": {
  "kernelspec": {
   "display_name": "Python 3",
   "language": "python",
   "name": "python3"
  },
  "language_info": {
   "codemirror_mode": {
    "name": "ipython",
    "version": 3
   },
   "file_extension": ".py",
   "mimetype": "text/x-python",
   "name": "python",
   "nbconvert_exporter": "python",
   "pygments_lexer": "ipython3",
   "version": "3.8.5"
  }
 },
 "nbformat": 4,
 "nbformat_minor": 4
}
