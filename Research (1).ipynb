{
 "cells": [
  {
   "cell_type": "markdown",
   "metadata": {},
   "source": [
    "# Importing libraries and Data cleaning"
   ]
  },
  {
   "cell_type": "code",
   "execution_count": 265,
   "metadata": {},
   "outputs": [
    {
     "name": "stdout",
     "output_type": "stream",
     "text": [
      "Requirement already satisfied: pmdarima in c:\\users\\naled\\anaconda3\\lib\\site-packages (1.8.2)\n",
      "Requirement already satisfied: statsmodels!=0.12.0,>=0.11 in c:\\users\\naled\\anaconda3\\lib\\site-packages (from pmdarima) (0.12.2)\n",
      "Requirement already satisfied: Cython!=0.29.18,>=0.29 in c:\\users\\naled\\anaconda3\\lib\\site-packages (from pmdarima) (0.29.21)\n",
      "Requirement already satisfied: scikit-learn>=0.22 in c:\\users\\naled\\anaconda3\\lib\\site-packages (from pmdarima) (0.24.2)\n",
      "Requirement already satisfied: scipy>=1.3.2 in c:\\users\\naled\\anaconda3\\lib\\site-packages (from pmdarima) (1.5.2)\n",
      "Requirement already satisfied: numpy~=1.19.0 in c:\\users\\naled\\anaconda3\\lib\\site-packages (from pmdarima) (1.19.2)\n",
      "Requirement already satisfied: joblib>=0.11 in c:\\users\\naled\\anaconda3\\lib\\site-packages (from pmdarima) (0.17.0)\n",
      "Requirement already satisfied: pandas>=0.19 in c:\\users\\naled\\anaconda3\\lib\\site-packages (from pmdarima) (1.1.3)\n",
      "Requirement already satisfied: urllib3 in c:\\users\\naled\\anaconda3\\lib\\site-packages (from pmdarima) (1.25.11)\n",
      "Requirement already satisfied: setuptools!=50.0.0,>=38.6.0 in c:\\users\\naled\\anaconda3\\lib\\site-packages (from pmdarima) (50.3.1.post20201107)\n",
      "Requirement already satisfied: patsy>=0.5 in c:\\users\\naled\\anaconda3\\lib\\site-packages (from statsmodels!=0.12.0,>=0.11->pmdarima) (0.5.1)\n",
      "Requirement already satisfied: threadpoolctl>=2.0.0 in c:\\users\\naled\\anaconda3\\lib\\site-packages (from scikit-learn>=0.22->pmdarima) (2.1.0)\n",
      "Requirement already satisfied: python-dateutil>=2.7.3 in c:\\users\\naled\\anaconda3\\lib\\site-packages (from pandas>=0.19->pmdarima) (2.8.1)\n",
      "Requirement already satisfied: pytz>=2017.2 in c:\\users\\naled\\anaconda3\\lib\\site-packages (from pandas>=0.19->pmdarima) (2020.1)\n",
      "Requirement already satisfied: six in c:\\users\\naled\\anaconda3\\lib\\site-packages (from patsy>=0.5->statsmodels!=0.12.0,>=0.11->pmdarima) (1.15.0)\n"
     ]
    }
   ],
   "source": [
    "!pip install pmdarima"
   ]
  },
  {
   "cell_type": "code",
   "execution_count": 266,
   "metadata": {},
   "outputs": [
    {
     "name": "stdout",
     "output_type": "stream",
     "text": [
      "Requirement already satisfied: iplot in c:\\users\\naled\\anaconda3\\lib\\site-packages (0.0.0)\n"
     ]
    }
   ],
   "source": [
    "!pip install iplot"
   ]
  },
  {
   "cell_type": "code",
   "execution_count": 267,
   "metadata": {},
   "outputs": [
    {
     "name": "stdout",
     "output_type": "stream",
     "text": [
      "Requirement already satisfied: cufflinks in c:\\users\\naled\\anaconda3\\lib\\site-packages (0.17.3)\n",
      "Requirement already satisfied: six>=1.9.0 in c:\\users\\naled\\anaconda3\\lib\\site-packages (from cufflinks) (1.15.0)\n",
      "Requirement already satisfied: ipywidgets>=7.0.0 in c:\\users\\naled\\anaconda3\\lib\\site-packages (from cufflinks) (7.5.1)\n",
      "Requirement already satisfied: colorlover>=0.2.1 in c:\\users\\naled\\anaconda3\\lib\\site-packages (from cufflinks) (0.3.0)\n",
      "Requirement already satisfied: pandas>=0.19.2 in c:\\users\\naled\\anaconda3\\lib\\site-packages (from cufflinks) (1.1.3)\n",
      "Requirement already satisfied: numpy>=1.9.2 in c:\\users\\naled\\anaconda3\\lib\\site-packages (from cufflinks) (1.19.2)\n",
      "Requirement already satisfied: ipython>=5.3.0 in c:\\users\\naled\\anaconda3\\lib\\site-packages (from cufflinks) (7.19.0)\n",
      "Requirement already satisfied: setuptools>=34.4.1 in c:\\users\\naled\\anaconda3\\lib\\site-packages (from cufflinks) (50.3.1.post20201107)\n",
      "Requirement already satisfied: plotly>=4.1.1 in c:\\users\\naled\\anaconda3\\lib\\site-packages (from cufflinks) (4.14.3)\n",
      "Requirement already satisfied: traitlets>=4.3.1 in c:\\users\\naled\\anaconda3\\lib\\site-packages (from ipywidgets>=7.0.0->cufflinks) (5.0.5)\n",
      "Requirement already satisfied: ipykernel>=4.5.1 in c:\\users\\naled\\anaconda3\\lib\\site-packages (from ipywidgets>=7.0.0->cufflinks) (5.3.4)\n",
      "Requirement already satisfied: nbformat>=4.2.0 in c:\\users\\naled\\anaconda3\\lib\\site-packages (from ipywidgets>=7.0.0->cufflinks) (5.0.8)\n",
      "Requirement already satisfied: widgetsnbextension~=3.5.0 in c:\\users\\naled\\anaconda3\\lib\\site-packages (from ipywidgets>=7.0.0->cufflinks) (3.5.1)\n",
      "Requirement already satisfied: python-dateutil>=2.7.3 in c:\\users\\naled\\anaconda3\\lib\\site-packages (from pandas>=0.19.2->cufflinks) (2.8.1)\n",
      "Requirement already satisfied: pytz>=2017.2 in c:\\users\\naled\\anaconda3\\lib\\site-packages (from pandas>=0.19.2->cufflinks) (2020.1)\n",
      "Requirement already satisfied: decorator in c:\\users\\naled\\anaconda3\\lib\\site-packages (from ipython>=5.3.0->cufflinks) (4.4.2)\n",
      "Requirement already satisfied: colorama; sys_platform == \"win32\" in c:\\users\\naled\\anaconda3\\lib\\site-packages (from ipython>=5.3.0->cufflinks) (0.4.4)\n",
      "Requirement already satisfied: pickleshare in c:\\users\\naled\\anaconda3\\lib\\site-packages (from ipython>=5.3.0->cufflinks) (0.7.5)\n",
      "Requirement already satisfied: pygments in c:\\users\\naled\\anaconda3\\lib\\site-packages (from ipython>=5.3.0->cufflinks) (2.7.2)\n",
      "Requirement already satisfied: prompt-toolkit!=3.0.0,!=3.0.1,<3.1.0,>=2.0.0 in c:\\users\\naled\\anaconda3\\lib\\site-packages (from ipython>=5.3.0->cufflinks) (3.0.8)\n",
      "Requirement already satisfied: jedi>=0.10 in c:\\users\\naled\\anaconda3\\lib\\site-packages (from ipython>=5.3.0->cufflinks) (0.17.1)\n",
      "Requirement already satisfied: backcall in c:\\users\\naled\\anaconda3\\lib\\site-packages (from ipython>=5.3.0->cufflinks) (0.2.0)\n",
      "Requirement already satisfied: retrying>=1.3.3 in c:\\users\\naled\\anaconda3\\lib\\site-packages (from plotly>=4.1.1->cufflinks) (1.3.3)\n",
      "Requirement already satisfied: ipython-genutils in c:\\users\\naled\\anaconda3\\lib\\site-packages (from traitlets>=4.3.1->ipywidgets>=7.0.0->cufflinks) (0.2.0)\n",
      "Requirement already satisfied: tornado>=4.2 in c:\\users\\naled\\anaconda3\\lib\\site-packages (from ipykernel>=4.5.1->ipywidgets>=7.0.0->cufflinks) (6.0.4)\n",
      "Requirement already satisfied: jupyter-client in c:\\users\\naled\\anaconda3\\lib\\site-packages (from ipykernel>=4.5.1->ipywidgets>=7.0.0->cufflinks) (6.1.7)\n",
      "Requirement already satisfied: jupyter-core in c:\\users\\naled\\anaconda3\\lib\\site-packages (from nbformat>=4.2.0->ipywidgets>=7.0.0->cufflinks) (4.6.3)\n",
      "Requirement already satisfied: jsonschema!=2.5.0,>=2.4 in c:\\users\\naled\\anaconda3\\lib\\site-packages (from nbformat>=4.2.0->ipywidgets>=7.0.0->cufflinks) (3.2.0)\n",
      "Requirement already satisfied: notebook>=4.4.1 in c:\\users\\naled\\anaconda3\\lib\\site-packages (from widgetsnbextension~=3.5.0->ipywidgets>=7.0.0->cufflinks) (6.1.4)\n",
      "Requirement already satisfied: wcwidth in c:\\users\\naled\\anaconda3\\lib\\site-packages (from prompt-toolkit!=3.0.0,!=3.0.1,<3.1.0,>=2.0.0->ipython>=5.3.0->cufflinks) (0.2.5)\n",
      "Requirement already satisfied: parso<0.8.0,>=0.7.0 in c:\\users\\naled\\anaconda3\\lib\\site-packages (from jedi>=0.10->ipython>=5.3.0->cufflinks) (0.7.0)\n",
      "Requirement already satisfied: pyzmq>=13 in c:\\users\\naled\\anaconda3\\lib\\site-packages (from jupyter-client->ipykernel>=4.5.1->ipywidgets>=7.0.0->cufflinks) (19.0.2)\n",
      "Requirement already satisfied: pywin32>=1.0; sys_platform == \"win32\" in c:\\users\\naled\\anaconda3\\lib\\site-packages (from jupyter-core->nbformat>=4.2.0->ipywidgets>=7.0.0->cufflinks) (227)\n",
      "Requirement already satisfied: pyrsistent>=0.14.0 in c:\\users\\naled\\anaconda3\\lib\\site-packages (from jsonschema!=2.5.0,>=2.4->nbformat>=4.2.0->ipywidgets>=7.0.0->cufflinks) (0.17.3)\n",
      "Requirement already satisfied: attrs>=17.4.0 in c:\\users\\naled\\anaconda3\\lib\\site-packages (from jsonschema!=2.5.0,>=2.4->nbformat>=4.2.0->ipywidgets>=7.0.0->cufflinks) (20.3.0)\n",
      "Requirement already satisfied: argon2-cffi in c:\\users\\naled\\anaconda3\\lib\\site-packages (from notebook>=4.4.1->widgetsnbextension~=3.5.0->ipywidgets>=7.0.0->cufflinks) (20.1.0)\n",
      "Requirement already satisfied: jinja2 in c:\\users\\naled\\anaconda3\\lib\\site-packages (from notebook>=4.4.1->widgetsnbextension~=3.5.0->ipywidgets>=7.0.0->cufflinks) (2.11.2)\n",
      "Requirement already satisfied: Send2Trash in c:\\users\\naled\\anaconda3\\lib\\site-packages (from notebook>=4.4.1->widgetsnbextension~=3.5.0->ipywidgets>=7.0.0->cufflinks) (1.5.0)\n",
      "Requirement already satisfied: prometheus-client in c:\\users\\naled\\anaconda3\\lib\\site-packages (from notebook>=4.4.1->widgetsnbextension~=3.5.0->ipywidgets>=7.0.0->cufflinks) (0.8.0)\n",
      "Requirement already satisfied: terminado>=0.8.3 in c:\\users\\naled\\anaconda3\\lib\\site-packages (from notebook>=4.4.1->widgetsnbextension~=3.5.0->ipywidgets>=7.0.0->cufflinks) (0.9.1)\n",
      "Requirement already satisfied: nbconvert in c:\\users\\naled\\anaconda3\\lib\\site-packages (from notebook>=4.4.1->widgetsnbextension~=3.5.0->ipywidgets>=7.0.0->cufflinks) (6.0.7)\n",
      "Requirement already satisfied: cffi>=1.0.0 in c:\\users\\naled\\anaconda3\\lib\\site-packages (from argon2-cffi->notebook>=4.4.1->widgetsnbextension~=3.5.0->ipywidgets>=7.0.0->cufflinks) (1.14.3)\n",
      "Requirement already satisfied: MarkupSafe>=0.23 in c:\\users\\naled\\anaconda3\\lib\\site-packages (from jinja2->notebook>=4.4.1->widgetsnbextension~=3.5.0->ipywidgets>=7.0.0->cufflinks) (1.1.1)\n",
      "Requirement already satisfied: pywinpty>=0.5 in c:\\users\\naled\\anaconda3\\lib\\site-packages (from terminado>=0.8.3->notebook>=4.4.1->widgetsnbextension~=3.5.0->ipywidgets>=7.0.0->cufflinks) (0.5.7)\n",
      "Requirement already satisfied: bleach in c:\\users\\naled\\anaconda3\\lib\\site-packages (from nbconvert->notebook>=4.4.1->widgetsnbextension~=3.5.0->ipywidgets>=7.0.0->cufflinks) (3.2.1)\n",
      "Requirement already satisfied: nbclient<0.6.0,>=0.5.0 in c:\\users\\naled\\anaconda3\\lib\\site-packages (from nbconvert->notebook>=4.4.1->widgetsnbextension~=3.5.0->ipywidgets>=7.0.0->cufflinks) (0.5.1)\n",
      "Requirement already satisfied: jupyterlab-pygments in c:\\users\\naled\\anaconda3\\lib\\site-packages (from nbconvert->notebook>=4.4.1->widgetsnbextension~=3.5.0->ipywidgets>=7.0.0->cufflinks) (0.1.2)\n",
      "Requirement already satisfied: entrypoints>=0.2.2 in c:\\users\\naled\\anaconda3\\lib\\site-packages (from nbconvert->notebook>=4.4.1->widgetsnbextension~=3.5.0->ipywidgets>=7.0.0->cufflinks) (0.3)\n",
      "Requirement already satisfied: pandocfilters>=1.4.1 in c:\\users\\naled\\anaconda3\\lib\\site-packages (from nbconvert->notebook>=4.4.1->widgetsnbextension~=3.5.0->ipywidgets>=7.0.0->cufflinks) (1.4.3)\n",
      "Requirement already satisfied: defusedxml in c:\\users\\naled\\anaconda3\\lib\\site-packages (from nbconvert->notebook>=4.4.1->widgetsnbextension~=3.5.0->ipywidgets>=7.0.0->cufflinks) (0.6.0)\n",
      "Requirement already satisfied: mistune<2,>=0.8.1 in c:\\users\\naled\\anaconda3\\lib\\site-packages (from nbconvert->notebook>=4.4.1->widgetsnbextension~=3.5.0->ipywidgets>=7.0.0->cufflinks) (0.8.4)\n",
      "Requirement already satisfied: testpath in c:\\users\\naled\\anaconda3\\lib\\site-packages (from nbconvert->notebook>=4.4.1->widgetsnbextension~=3.5.0->ipywidgets>=7.0.0->cufflinks) (0.4.4)\n",
      "Requirement already satisfied: pycparser in c:\\users\\naled\\anaconda3\\lib\\site-packages (from cffi>=1.0.0->argon2-cffi->notebook>=4.4.1->widgetsnbextension~=3.5.0->ipywidgets>=7.0.0->cufflinks) (2.20)\n",
      "Requirement already satisfied: packaging in c:\\users\\naled\\anaconda3\\lib\\site-packages (from bleach->nbconvert->notebook>=4.4.1->widgetsnbextension~=3.5.0->ipywidgets>=7.0.0->cufflinks) (20.4)\n",
      "Requirement already satisfied: webencodings in c:\\users\\naled\\anaconda3\\lib\\site-packages (from bleach->nbconvert->notebook>=4.4.1->widgetsnbextension~=3.5.0->ipywidgets>=7.0.0->cufflinks) (0.5.1)\n",
      "Requirement already satisfied: nest-asyncio in c:\\users\\naled\\anaconda3\\lib\\site-packages (from nbclient<0.6.0,>=0.5.0->nbconvert->notebook>=4.4.1->widgetsnbextension~=3.5.0->ipywidgets>=7.0.0->cufflinks) (1.4.2)\n",
      "Requirement already satisfied: async-generator in c:\\users\\naled\\anaconda3\\lib\\site-packages (from nbclient<0.6.0,>=0.5.0->nbconvert->notebook>=4.4.1->widgetsnbextension~=3.5.0->ipywidgets>=7.0.0->cufflinks) (1.10)\n",
      "Requirement already satisfied: pyparsing>=2.0.2 in c:\\users\\naled\\anaconda3\\lib\\site-packages (from packaging->bleach->nbconvert->notebook>=4.4.1->widgetsnbextension~=3.5.0->ipywidgets>=7.0.0->cufflinks) (2.4.7)\n"
     ]
    }
   ],
   "source": [
    " !pip install cufflinks"
   ]
  },
  {
   "cell_type": "code",
   "execution_count": 356,
   "metadata": {},
   "outputs": [
    {
     "data": {
      "text/html": [
       "        <script type=\"text/javascript\">\n",
       "        window.PlotlyConfig = {MathJaxConfig: 'local'};\n",
       "        if (window.MathJax) {MathJax.Hub.Config({SVG: {font: \"STIX-Web\"}});}\n",
       "        if (typeof require !== 'undefined') {\n",
       "        require.undef(\"plotly\");\n",
       "        requirejs.config({\n",
       "            paths: {\n",
       "                'plotly': ['https://cdn.plot.ly/plotly-latest.min']\n",
       "            }\n",
       "        });\n",
       "        require(['plotly'], function(Plotly) {\n",
       "            window._Plotly = Plotly;\n",
       "        });\n",
       "        }\n",
       "        </script>\n",
       "        "
      ]
     },
     "metadata": {},
     "output_type": "display_data"
    }
   ],
   "source": [
    "#Importing Libraries\n",
    "\n",
    "# linear algebra\n",
    "import numpy as np\n",
    "import math\n",
    "\n",
    "# data processing\n",
    "import pandas as pd\n",
    "\n",
    "# data visualization\n",
    "import matplotlib.pyplot as plt\n",
    "import plotly.express as py\n",
    "import plotly.offline\n",
    "%matplotlib inline\n",
    "import seaborn as sns\n",
    "import plotly.express as px\n",
    "import cufflinks as cf\n",
    "cf.go_offline()\n",
    "cf.set_config_file(offline=False, world_readable=True)\n",
    "\n",
    "#For lstm model\n",
    "from sklearn.preprocessing import MinMaxScaler\n",
    "from sklearn.metrics import mean_squared_error\n",
    "from keras.models import Sequential\n",
    "from keras.layers import Dense\n",
    "from keras.layers import LSTM\n",
    "from keras.layers import Flatten\n",
    "\n",
    "#for Arima model\n",
    "\n",
    "from pmdarima.arima import auto_arima\n",
    "from statsmodels.tsa.stattools import adfuller\n"
   ]
  },
  {
   "cell_type": "code",
   "execution_count": 269,
   "metadata": {},
   "outputs": [
    {
     "data": {
      "text/html": [
       "<div>\n",
       "<style scoped>\n",
       "    .dataframe tbody tr th:only-of-type {\n",
       "        vertical-align: middle;\n",
       "    }\n",
       "\n",
       "    .dataframe tbody tr th {\n",
       "        vertical-align: top;\n",
       "    }\n",
       "\n",
       "    .dataframe thead th {\n",
       "        text-align: right;\n",
       "    }\n",
       "</style>\n",
       "<table border=\"1\" class=\"dataframe\">\n",
       "  <thead>\n",
       "    <tr style=\"text-align: right;\">\n",
       "      <th></th>\n",
       "      <th>year</th>\n",
       "      <th>month</th>\n",
       "      <th>rainfall</th>\n",
       "    </tr>\n",
       "  </thead>\n",
       "  <tbody>\n",
       "    <tr>\n",
       "      <th>0</th>\n",
       "      <td>1940</td>\n",
       "      <td>Jan</td>\n",
       "      <td>82.9</td>\n",
       "    </tr>\n",
       "    <tr>\n",
       "      <th>1</th>\n",
       "      <td>1940</td>\n",
       "      <td>Feb</td>\n",
       "      <td>64.9</td>\n",
       "    </tr>\n",
       "    <tr>\n",
       "      <th>2</th>\n",
       "      <td>1940</td>\n",
       "      <td>Mar</td>\n",
       "      <td>111.3</td>\n",
       "    </tr>\n",
       "    <tr>\n",
       "      <th>3</th>\n",
       "      <td>1940</td>\n",
       "      <td>Apr</td>\n",
       "      <td>56.5</td>\n",
       "    </tr>\n",
       "    <tr>\n",
       "      <th>4</th>\n",
       "      <td>1940</td>\n",
       "      <td>May</td>\n",
       "      <td>15.8</td>\n",
       "    </tr>\n",
       "    <tr>\n",
       "      <th>...</th>\n",
       "      <td>...</td>\n",
       "      <td>...</td>\n",
       "      <td>...</td>\n",
       "    </tr>\n",
       "    <tr>\n",
       "      <th>800</th>\n",
       "      <td>2019</td>\n",
       "      <td>Aug</td>\n",
       "      <td>3.6</td>\n",
       "    </tr>\n",
       "    <tr>\n",
       "      <th>801</th>\n",
       "      <td>2019</td>\n",
       "      <td>Sep</td>\n",
       "      <td>34.6</td>\n",
       "    </tr>\n",
       "    <tr>\n",
       "      <th>802</th>\n",
       "      <td>2019</td>\n",
       "      <td>Oct</td>\n",
       "      <td>60.4</td>\n",
       "    </tr>\n",
       "    <tr>\n",
       "      <th>803</th>\n",
       "      <td>2019</td>\n",
       "      <td>Nov</td>\n",
       "      <td>82.6</td>\n",
       "    </tr>\n",
       "    <tr>\n",
       "      <th>804</th>\n",
       "      <td>2019</td>\n",
       "      <td>Dec</td>\n",
       "      <td>108.6</td>\n",
       "    </tr>\n",
       "  </tbody>\n",
       "</table>\n",
       "<p>805 rows × 3 columns</p>\n",
       "</div>"
      ],
      "text/plain": [
       "     year month  rainfall\n",
       "0    1940   Jan      82.9\n",
       "1    1940   Feb      64.9\n",
       "2    1940   Mar     111.3\n",
       "3    1940   Apr      56.5\n",
       "4    1940   May      15.8\n",
       "..    ...   ...       ...\n",
       "800  2019   Aug       3.6\n",
       "801  2019   Sep      34.6\n",
       "802  2019   Oct      60.4\n",
       "803  2019   Nov      82.6\n",
       "804  2019   Dec     108.6\n",
       "\n",
       "[805 rows x 3 columns]"
      ]
     },
     "execution_count": 269,
     "metadata": {},
     "output_type": "execute_result"
    }
   ],
   "source": [
    "df= pd.read_csv('Precipitation.csv')\n",
    "\n",
    "df\n"
   ]
  },
  {
   "cell_type": "code",
   "execution_count": 270,
   "metadata": {},
   "outputs": [
    {
     "name": "stdout",
     "output_type": "stream",
     "text": [
      "year\n",
      "month\n",
      "rainfall\n"
     ]
    }
   ],
   "source": [
    "for col in df.columns:\n",
    "    print(col)"
   ]
  },
  {
   "cell_type": "code",
   "execution_count": 271,
   "metadata": {},
   "outputs": [
    {
     "data": {
      "text/plain": [
       "(805, 3)"
      ]
     },
     "execution_count": 271,
     "metadata": {},
     "output_type": "execute_result"
    }
   ],
   "source": [
    "df.shape"
   ]
  },
  {
   "cell_type": "code",
   "execution_count": 274,
   "metadata": {},
   "outputs": [
    {
     "data": {
      "text/html": [
       "<div>\n",
       "<style scoped>\n",
       "    .dataframe tbody tr th:only-of-type {\n",
       "        vertical-align: middle;\n",
       "    }\n",
       "\n",
       "    .dataframe tbody tr th {\n",
       "        vertical-align: top;\n",
       "    }\n",
       "\n",
       "    .dataframe thead th {\n",
       "        text-align: right;\n",
       "    }\n",
       "</style>\n",
       "<table border=\"1\" class=\"dataframe\">\n",
       "  <thead>\n",
       "    <tr style=\"text-align: right;\">\n",
       "      <th></th>\n",
       "      <th>year</th>\n",
       "      <th>month</th>\n",
       "      <th>rainfall</th>\n",
       "    </tr>\n",
       "  </thead>\n",
       "  <tbody>\n",
       "    <tr>\n",
       "      <th>0</th>\n",
       "      <td>1940</td>\n",
       "      <td>Jan</td>\n",
       "      <td>82.9</td>\n",
       "    </tr>\n",
       "    <tr>\n",
       "      <th>1</th>\n",
       "      <td>1940</td>\n",
       "      <td>Feb</td>\n",
       "      <td>64.9</td>\n",
       "    </tr>\n",
       "    <tr>\n",
       "      <th>2</th>\n",
       "      <td>1940</td>\n",
       "      <td>Mar</td>\n",
       "      <td>111.3</td>\n",
       "    </tr>\n",
       "    <tr>\n",
       "      <th>3</th>\n",
       "      <td>1940</td>\n",
       "      <td>Apr</td>\n",
       "      <td>56.5</td>\n",
       "    </tr>\n",
       "    <tr>\n",
       "      <th>4</th>\n",
       "      <td>1940</td>\n",
       "      <td>May</td>\n",
       "      <td>15.8</td>\n",
       "    </tr>\n",
       "  </tbody>\n",
       "</table>\n",
       "</div>"
      ],
      "text/plain": [
       "   year month  rainfall\n",
       "0  1940   Jan      82.9\n",
       "1  1940   Feb      64.9\n",
       "2  1940   Mar     111.3\n",
       "3  1940   Apr      56.5\n",
       "4  1940   May      15.8"
      ]
     },
     "execution_count": 274,
     "metadata": {},
     "output_type": "execute_result"
    }
   ],
   "source": [
    "df.head()"
   ]
  },
  {
   "cell_type": "code",
   "execution_count": 275,
   "metadata": {},
   "outputs": [],
   "source": [
    "# Check how balanced our dataset is.\n",
    "#sns.countplot(x=\"year\", data=df)"
   ]
  },
  {
   "cell_type": "code",
   "execution_count": 276,
   "metadata": {},
   "outputs": [
    {
     "name": "stdout",
     "output_type": "stream",
     "text": [
      "<class 'pandas.core.frame.DataFrame'>\n",
      "RangeIndex: 805 entries, 0 to 804\n",
      "Data columns (total 3 columns):\n",
      " #   Column    Non-Null Count  Dtype  \n",
      "---  ------    --------------  -----  \n",
      " 0   year      805 non-null    int64  \n",
      " 1   month     805 non-null    object \n",
      " 2   rainfall  805 non-null    float64\n",
      "dtypes: float64(1), int64(1), object(1)\n",
      "memory usage: 19.0+ KB\n"
     ]
    }
   ],
   "source": [
    "df.info()"
   ]
  },
  {
   "cell_type": "code",
   "execution_count": 277,
   "metadata": {},
   "outputs": [
    {
     "data": {
      "text/html": [
       "<div>\n",
       "<style scoped>\n",
       "    .dataframe tbody tr th:only-of-type {\n",
       "        vertical-align: middle;\n",
       "    }\n",
       "\n",
       "    .dataframe tbody tr th {\n",
       "        vertical-align: top;\n",
       "    }\n",
       "\n",
       "    .dataframe thead th {\n",
       "        text-align: right;\n",
       "    }\n",
       "</style>\n",
       "<table border=\"1\" class=\"dataframe\">\n",
       "  <thead>\n",
       "    <tr style=\"text-align: right;\">\n",
       "      <th></th>\n",
       "      <th>year</th>\n",
       "      <th>rainfall</th>\n",
       "    </tr>\n",
       "  </thead>\n",
       "  <tbody>\n",
       "    <tr>\n",
       "      <th>count</th>\n",
       "      <td>805.000000</td>\n",
       "      <td>805.00000</td>\n",
       "    </tr>\n",
       "    <tr>\n",
       "      <th>mean</th>\n",
       "      <td>1980.342857</td>\n",
       "      <td>68.51764</td>\n",
       "    </tr>\n",
       "    <tr>\n",
       "      <th>std</th>\n",
       "      <td>23.413049</td>\n",
       "      <td>66.53645</td>\n",
       "    </tr>\n",
       "    <tr>\n",
       "      <th>min</th>\n",
       "      <td>1940.000000</td>\n",
       "      <td>0.10000</td>\n",
       "    </tr>\n",
       "    <tr>\n",
       "      <th>25%</th>\n",
       "      <td>1960.000000</td>\n",
       "      <td>14.70000</td>\n",
       "    </tr>\n",
       "    <tr>\n",
       "      <th>50%</th>\n",
       "      <td>1981.000000</td>\n",
       "      <td>51.20000</td>\n",
       "    </tr>\n",
       "    <tr>\n",
       "      <th>75%</th>\n",
       "      <td>2001.000000</td>\n",
       "      <td>105.30000</td>\n",
       "    </tr>\n",
       "    <tr>\n",
       "      <th>max</th>\n",
       "      <td>2019.000000</td>\n",
       "      <td>416.60000</td>\n",
       "    </tr>\n",
       "  </tbody>\n",
       "</table>\n",
       "</div>"
      ],
      "text/plain": [
       "              year   rainfall\n",
       "count   805.000000  805.00000\n",
       "mean   1980.342857   68.51764\n",
       "std      23.413049   66.53645\n",
       "min    1940.000000    0.10000\n",
       "25%    1960.000000   14.70000\n",
       "50%    1981.000000   51.20000\n",
       "75%    2001.000000  105.30000\n",
       "max    2019.000000  416.60000"
      ]
     },
     "execution_count": 277,
     "metadata": {},
     "output_type": "execute_result"
    }
   ],
   "source": [
    "df.describe()"
   ]
  },
  {
   "cell_type": "code",
   "execution_count": 279,
   "metadata": {},
   "outputs": [
    {
     "name": "stdout",
     "output_type": "stream",
     "text": [
      "Total Months:  12\n",
      "Total Years:  77\n",
      "Maximum Rainfall:  416.6\n",
      "Minimum Rainfall:  0.1\n"
     ]
    }
   ],
   "source": [
    "getmonths = df['month'].unique()\n",
    "getyears = df['year'].unique()\n",
    "print(\"Total Months: \", len(getmonths))\n",
    "print(\"Total Years: \", len(getyears))\n",
    "print(\"Maximum Rainfall: \", df['rainfall'].max() )\n",
    "print(\"Minimum Rainfall: \", df['rainfall'].min() )"
   ]
  },
  {
   "cell_type": "code",
   "execution_count": 280,
   "metadata": {},
   "outputs": [
    {
     "name": "stdout",
     "output_type": "stream",
     "text": [
      "Average Rainfall of Year 2019:  53.127272727272725\n"
     ]
    }
   ],
   "source": [
    "print(\"Average Rainfall of Year 2019: \",\n",
    "df[df.year == 2019][\"rainfall\"].sum()/len(df[df.year == 2019][\"rainfall\"]) )\n"
   ]
  },
  {
   "cell_type": "markdown",
   "metadata": {},
   "source": [
    "# Exploratory Data Analysis"
   ]
  },
  {
   "cell_type": "code",
   "execution_count": 281,
   "metadata": {},
   "outputs": [
    {
     "data": {
      "application/vnd.plotly.v1+json": {
       "config": {
        "plotlyServerURL": "https://plot.ly"
       },
       "data": [
        {
         "hovertemplate": "year=%{x}<br>rainfall=%{y}<extra></extra>",
         "legendgroup": "",
         "line": {
          "color": "Orange",
          "dash": "solid"
         },
         "mode": "lines+markers",
         "name": "",
         "orientation": "v",
         "showlegend": false,
         "type": "scatter",
         "x": [
          1940,
          1941,
          1942,
          1943,
          1944,
          1945,
          1946,
          1947,
          1948,
          1949,
          1950,
          1951,
          1952,
          1953,
          1954,
          1955,
          1956,
          1957,
          1958,
          1959,
          1960,
          1961,
          1962,
          1964,
          1965,
          1966,
          1967,
          1968,
          1969,
          1970,
          1971,
          1972,
          1974,
          1975,
          1976,
          1977,
          1978,
          1979,
          1980,
          1981,
          1982,
          1983,
          1984,
          1985,
          1986,
          1987,
          1988,
          1989,
          1990,
          1991,
          1993,
          1994,
          1995,
          1996,
          1997,
          1998,
          1999,
          2000,
          2001,
          2002,
          2003,
          2004,
          2005,
          2006,
          2007,
          2008,
          2009,
          2010,
          2011,
          2012,
          2013,
          2014,
          2015,
          2016,
          2017,
          2018,
          2019
         ],
         "xaxis": "x",
         "y": [
          77.50909090909092,
          62.936363636363645,
          92.38333333333333,
          75.3,
          63.04545454545455,
          65.10000000000001,
          55.866666666666674,
          118.25,
          75.41,
          86.09,
          47.1,
          26.354545454545452,
          64.78333333333332,
          61.68999999999998,
          72.17272727272729,
          101.66363636363636,
          83.58181818181818,
          73.45,
          95.74,
          88.13333333333333,
          61.34444444444445,
          78.88333333333333,
          50.23333333333334,
          68.48181818181818,
          46.474999999999994,
          67.85833333333333,
          67.06666666666668,
          47.60833333333333,
          77.03333333333335,
          34.75,
          79.47499999999998,
          80.63636363636363,
          38.6875,
          89.05454545454546,
          90.17999999999999,
          74.65,
          61,
          51.958333333333336,
          96.16,
          76.89999999999999,
          46.13636363636363,
          52.99090909090909,
          86.41818181818182,
          80.25454545454544,
          64.91818181818182,
          82.01818181818182,
          67.69166666666668,
          75.10000000000001,
          74.71818181818182,
          192.25,
          34.699999999999996,
          50.239999999999995,
          71.7,
          109.54545454545455,
          58.25,
          48.63636363636363,
          64.60000000000001,
          123.7,
          56.036363636363625,
          46.05833333333334,
          33.44444444444444,
          50.56666666666666,
          58.67999999999999,
          112.52000000000001,
          45.290909090909096,
          57.283333333333324,
          57.57142857142858,
          57.2,
          69.58333333333333,
          84.23636363636363,
          84.00000000000001,
          69.66666666666667,
          58.4,
          57.300000000000004,
          64.31666666666666,
          56.90909090909091,
          53.127272727272725
         ],
         "yaxis": "y"
        }
       ],
       "layout": {
        "legend": {
         "tracegroupgap": 0
        },
        "template": {
         "data": {
          "bar": [
           {
            "error_x": {
             "color": "#2a3f5f"
            },
            "error_y": {
             "color": "#2a3f5f"
            },
            "marker": {
             "line": {
              "color": "#E5ECF6",
              "width": 0.5
             }
            },
            "type": "bar"
           }
          ],
          "barpolar": [
           {
            "marker": {
             "line": {
              "color": "#E5ECF6",
              "width": 0.5
             }
            },
            "type": "barpolar"
           }
          ],
          "carpet": [
           {
            "aaxis": {
             "endlinecolor": "#2a3f5f",
             "gridcolor": "white",
             "linecolor": "white",
             "minorgridcolor": "white",
             "startlinecolor": "#2a3f5f"
            },
            "baxis": {
             "endlinecolor": "#2a3f5f",
             "gridcolor": "white",
             "linecolor": "white",
             "minorgridcolor": "white",
             "startlinecolor": "#2a3f5f"
            },
            "type": "carpet"
           }
          ],
          "choropleth": [
           {
            "colorbar": {
             "outlinewidth": 0,
             "ticks": ""
            },
            "type": "choropleth"
           }
          ],
          "contour": [
           {
            "colorbar": {
             "outlinewidth": 0,
             "ticks": ""
            },
            "colorscale": [
             [
              0,
              "#0d0887"
             ],
             [
              0.1111111111111111,
              "#46039f"
             ],
             [
              0.2222222222222222,
              "#7201a8"
             ],
             [
              0.3333333333333333,
              "#9c179e"
             ],
             [
              0.4444444444444444,
              "#bd3786"
             ],
             [
              0.5555555555555556,
              "#d8576b"
             ],
             [
              0.6666666666666666,
              "#ed7953"
             ],
             [
              0.7777777777777778,
              "#fb9f3a"
             ],
             [
              0.8888888888888888,
              "#fdca26"
             ],
             [
              1,
              "#f0f921"
             ]
            ],
            "type": "contour"
           }
          ],
          "contourcarpet": [
           {
            "colorbar": {
             "outlinewidth": 0,
             "ticks": ""
            },
            "type": "contourcarpet"
           }
          ],
          "heatmap": [
           {
            "colorbar": {
             "outlinewidth": 0,
             "ticks": ""
            },
            "colorscale": [
             [
              0,
              "#0d0887"
             ],
             [
              0.1111111111111111,
              "#46039f"
             ],
             [
              0.2222222222222222,
              "#7201a8"
             ],
             [
              0.3333333333333333,
              "#9c179e"
             ],
             [
              0.4444444444444444,
              "#bd3786"
             ],
             [
              0.5555555555555556,
              "#d8576b"
             ],
             [
              0.6666666666666666,
              "#ed7953"
             ],
             [
              0.7777777777777778,
              "#fb9f3a"
             ],
             [
              0.8888888888888888,
              "#fdca26"
             ],
             [
              1,
              "#f0f921"
             ]
            ],
            "type": "heatmap"
           }
          ],
          "heatmapgl": [
           {
            "colorbar": {
             "outlinewidth": 0,
             "ticks": ""
            },
            "colorscale": [
             [
              0,
              "#0d0887"
             ],
             [
              0.1111111111111111,
              "#46039f"
             ],
             [
              0.2222222222222222,
              "#7201a8"
             ],
             [
              0.3333333333333333,
              "#9c179e"
             ],
             [
              0.4444444444444444,
              "#bd3786"
             ],
             [
              0.5555555555555556,
              "#d8576b"
             ],
             [
              0.6666666666666666,
              "#ed7953"
             ],
             [
              0.7777777777777778,
              "#fb9f3a"
             ],
             [
              0.8888888888888888,
              "#fdca26"
             ],
             [
              1,
              "#f0f921"
             ]
            ],
            "type": "heatmapgl"
           }
          ],
          "histogram": [
           {
            "marker": {
             "colorbar": {
              "outlinewidth": 0,
              "ticks": ""
             }
            },
            "type": "histogram"
           }
          ],
          "histogram2d": [
           {
            "colorbar": {
             "outlinewidth": 0,
             "ticks": ""
            },
            "colorscale": [
             [
              0,
              "#0d0887"
             ],
             [
              0.1111111111111111,
              "#46039f"
             ],
             [
              0.2222222222222222,
              "#7201a8"
             ],
             [
              0.3333333333333333,
              "#9c179e"
             ],
             [
              0.4444444444444444,
              "#bd3786"
             ],
             [
              0.5555555555555556,
              "#d8576b"
             ],
             [
              0.6666666666666666,
              "#ed7953"
             ],
             [
              0.7777777777777778,
              "#fb9f3a"
             ],
             [
              0.8888888888888888,
              "#fdca26"
             ],
             [
              1,
              "#f0f921"
             ]
            ],
            "type": "histogram2d"
           }
          ],
          "histogram2dcontour": [
           {
            "colorbar": {
             "outlinewidth": 0,
             "ticks": ""
            },
            "colorscale": [
             [
              0,
              "#0d0887"
             ],
             [
              0.1111111111111111,
              "#46039f"
             ],
             [
              0.2222222222222222,
              "#7201a8"
             ],
             [
              0.3333333333333333,
              "#9c179e"
             ],
             [
              0.4444444444444444,
              "#bd3786"
             ],
             [
              0.5555555555555556,
              "#d8576b"
             ],
             [
              0.6666666666666666,
              "#ed7953"
             ],
             [
              0.7777777777777778,
              "#fb9f3a"
             ],
             [
              0.8888888888888888,
              "#fdca26"
             ],
             [
              1,
              "#f0f921"
             ]
            ],
            "type": "histogram2dcontour"
           }
          ],
          "mesh3d": [
           {
            "colorbar": {
             "outlinewidth": 0,
             "ticks": ""
            },
            "type": "mesh3d"
           }
          ],
          "parcoords": [
           {
            "line": {
             "colorbar": {
              "outlinewidth": 0,
              "ticks": ""
             }
            },
            "type": "parcoords"
           }
          ],
          "pie": [
           {
            "automargin": true,
            "type": "pie"
           }
          ],
          "scatter": [
           {
            "marker": {
             "colorbar": {
              "outlinewidth": 0,
              "ticks": ""
             }
            },
            "type": "scatter"
           }
          ],
          "scatter3d": [
           {
            "line": {
             "colorbar": {
              "outlinewidth": 0,
              "ticks": ""
             }
            },
            "marker": {
             "colorbar": {
              "outlinewidth": 0,
              "ticks": ""
             }
            },
            "type": "scatter3d"
           }
          ],
          "scattercarpet": [
           {
            "marker": {
             "colorbar": {
              "outlinewidth": 0,
              "ticks": ""
             }
            },
            "type": "scattercarpet"
           }
          ],
          "scattergeo": [
           {
            "marker": {
             "colorbar": {
              "outlinewidth": 0,
              "ticks": ""
             }
            },
            "type": "scattergeo"
           }
          ],
          "scattergl": [
           {
            "marker": {
             "colorbar": {
              "outlinewidth": 0,
              "ticks": ""
             }
            },
            "type": "scattergl"
           }
          ],
          "scattermapbox": [
           {
            "marker": {
             "colorbar": {
              "outlinewidth": 0,
              "ticks": ""
             }
            },
            "type": "scattermapbox"
           }
          ],
          "scatterpolar": [
           {
            "marker": {
             "colorbar": {
              "outlinewidth": 0,
              "ticks": ""
             }
            },
            "type": "scatterpolar"
           }
          ],
          "scatterpolargl": [
           {
            "marker": {
             "colorbar": {
              "outlinewidth": 0,
              "ticks": ""
             }
            },
            "type": "scatterpolargl"
           }
          ],
          "scatterternary": [
           {
            "marker": {
             "colorbar": {
              "outlinewidth": 0,
              "ticks": ""
             }
            },
            "type": "scatterternary"
           }
          ],
          "surface": [
           {
            "colorbar": {
             "outlinewidth": 0,
             "ticks": ""
            },
            "colorscale": [
             [
              0,
              "#0d0887"
             ],
             [
              0.1111111111111111,
              "#46039f"
             ],
             [
              0.2222222222222222,
              "#7201a8"
             ],
             [
              0.3333333333333333,
              "#9c179e"
             ],
             [
              0.4444444444444444,
              "#bd3786"
             ],
             [
              0.5555555555555556,
              "#d8576b"
             ],
             [
              0.6666666666666666,
              "#ed7953"
             ],
             [
              0.7777777777777778,
              "#fb9f3a"
             ],
             [
              0.8888888888888888,
              "#fdca26"
             ],
             [
              1,
              "#f0f921"
             ]
            ],
            "type": "surface"
           }
          ],
          "table": [
           {
            "cells": {
             "fill": {
              "color": "#EBF0F8"
             },
             "line": {
              "color": "white"
             }
            },
            "header": {
             "fill": {
              "color": "#C8D4E3"
             },
             "line": {
              "color": "white"
             }
            },
            "type": "table"
           }
          ]
         },
         "layout": {
          "annotationdefaults": {
           "arrowcolor": "#2a3f5f",
           "arrowhead": 0,
           "arrowwidth": 1
          },
          "autotypenumbers": "strict",
          "coloraxis": {
           "colorbar": {
            "outlinewidth": 0,
            "ticks": ""
           }
          },
          "colorscale": {
           "diverging": [
            [
             0,
             "#8e0152"
            ],
            [
             0.1,
             "#c51b7d"
            ],
            [
             0.2,
             "#de77ae"
            ],
            [
             0.3,
             "#f1b6da"
            ],
            [
             0.4,
             "#fde0ef"
            ],
            [
             0.5,
             "#f7f7f7"
            ],
            [
             0.6,
             "#e6f5d0"
            ],
            [
             0.7,
             "#b8e186"
            ],
            [
             0.8,
             "#7fbc41"
            ],
            [
             0.9,
             "#4d9221"
            ],
            [
             1,
             "#276419"
            ]
           ],
           "sequential": [
            [
             0,
             "#0d0887"
            ],
            [
             0.1111111111111111,
             "#46039f"
            ],
            [
             0.2222222222222222,
             "#7201a8"
            ],
            [
             0.3333333333333333,
             "#9c179e"
            ],
            [
             0.4444444444444444,
             "#bd3786"
            ],
            [
             0.5555555555555556,
             "#d8576b"
            ],
            [
             0.6666666666666666,
             "#ed7953"
            ],
            [
             0.7777777777777778,
             "#fb9f3a"
            ],
            [
             0.8888888888888888,
             "#fdca26"
            ],
            [
             1,
             "#f0f921"
            ]
           ],
           "sequentialminus": [
            [
             0,
             "#0d0887"
            ],
            [
             0.1111111111111111,
             "#46039f"
            ],
            [
             0.2222222222222222,
             "#7201a8"
            ],
            [
             0.3333333333333333,
             "#9c179e"
            ],
            [
             0.4444444444444444,
             "#bd3786"
            ],
            [
             0.5555555555555556,
             "#d8576b"
            ],
            [
             0.6666666666666666,
             "#ed7953"
            ],
            [
             0.7777777777777778,
             "#fb9f3a"
            ],
            [
             0.8888888888888888,
             "#fdca26"
            ],
            [
             1,
             "#f0f921"
            ]
           ]
          },
          "colorway": [
           "#636efa",
           "#EF553B",
           "#00cc96",
           "#ab63fa",
           "#FFA15A",
           "#19d3f3",
           "#FF6692",
           "#B6E880",
           "#FF97FF",
           "#FECB52"
          ],
          "font": {
           "color": "#2a3f5f"
          },
          "geo": {
           "bgcolor": "white",
           "lakecolor": "white",
           "landcolor": "#E5ECF6",
           "showlakes": true,
           "showland": true,
           "subunitcolor": "white"
          },
          "hoverlabel": {
           "align": "left"
          },
          "hovermode": "closest",
          "mapbox": {
           "style": "light"
          },
          "paper_bgcolor": "white",
          "plot_bgcolor": "#E5ECF6",
          "polar": {
           "angularaxis": {
            "gridcolor": "white",
            "linecolor": "white",
            "ticks": ""
           },
           "bgcolor": "#E5ECF6",
           "radialaxis": {
            "gridcolor": "white",
            "linecolor": "white",
            "ticks": ""
           }
          },
          "scene": {
           "xaxis": {
            "backgroundcolor": "#E5ECF6",
            "gridcolor": "white",
            "gridwidth": 2,
            "linecolor": "white",
            "showbackground": true,
            "ticks": "",
            "zerolinecolor": "white"
           },
           "yaxis": {
            "backgroundcolor": "#E5ECF6",
            "gridcolor": "white",
            "gridwidth": 2,
            "linecolor": "white",
            "showbackground": true,
            "ticks": "",
            "zerolinecolor": "white"
           },
           "zaxis": {
            "backgroundcolor": "#E5ECF6",
            "gridcolor": "white",
            "gridwidth": 2,
            "linecolor": "white",
            "showbackground": true,
            "ticks": "",
            "zerolinecolor": "white"
           }
          },
          "shapedefaults": {
           "line": {
            "color": "#2a3f5f"
           }
          },
          "ternary": {
           "aaxis": {
            "gridcolor": "white",
            "linecolor": "white",
            "ticks": ""
           },
           "baxis": {
            "gridcolor": "white",
            "linecolor": "white",
            "ticks": ""
           },
           "bgcolor": "#E5ECF6",
           "caxis": {
            "gridcolor": "white",
            "linecolor": "white",
            "ticks": ""
           }
          },
          "title": {
           "x": 0.05
          },
          "xaxis": {
           "automargin": true,
           "gridcolor": "white",
           "linecolor": "white",
           "ticks": "",
           "title": {
            "standoff": 15
           },
           "zerolinecolor": "white",
           "zerolinewidth": 2
          },
          "yaxis": {
           "automargin": true,
           "gridcolor": "white",
           "linecolor": "white",
           "ticks": "",
           "title": {
            "standoff": 15
           },
           "zerolinecolor": "white",
           "zerolinewidth": 2
          }
         }
        },
        "title": {
         "text": "Annual rainfall in Mbombela from 1940 to 2019",
         "x": 0.5
        },
        "xaxis": {
         "anchor": "y",
         "domain": [
          0,
          1
         ],
         "title": {
          "text": "year"
         }
        },
        "yaxis": {
         "anchor": "x",
         "domain": [
          0,
          1
         ],
         "title": {
          "text": "rainfall"
         }
        }
       }
      },
      "text/html": [
       "<div>                            <div id=\"e42a98bb-232d-4038-ac1e-4f35944cd2c1\" class=\"plotly-graph-div\" style=\"height:525px; width:100%;\"></div>            <script type=\"text/javascript\">                require([\"plotly\"], function(Plotly) {                    window.PLOTLYENV=window.PLOTLYENV || {};                                    if (document.getElementById(\"e42a98bb-232d-4038-ac1e-4f35944cd2c1\")) {                    Plotly.newPlot(                        \"e42a98bb-232d-4038-ac1e-4f35944cd2c1\",                        [{\"hovertemplate\": \"year=%{x}<br>rainfall=%{y}<extra></extra>\", \"legendgroup\": \"\", \"line\": {\"color\": \"Orange\", \"dash\": \"solid\"}, \"mode\": \"lines+markers\", \"name\": \"\", \"orientation\": \"v\", \"showlegend\": false, \"type\": \"scatter\", \"x\": [1940, 1941, 1942, 1943, 1944, 1945, 1946, 1947, 1948, 1949, 1950, 1951, 1952, 1953, 1954, 1955, 1956, 1957, 1958, 1959, 1960, 1961, 1962, 1964, 1965, 1966, 1967, 1968, 1969, 1970, 1971, 1972, 1974, 1975, 1976, 1977, 1978, 1979, 1980, 1981, 1982, 1983, 1984, 1985, 1986, 1987, 1988, 1989, 1990, 1991, 1993, 1994, 1995, 1996, 1997, 1998, 1999, 2000, 2001, 2002, 2003, 2004, 2005, 2006, 2007, 2008, 2009, 2010, 2011, 2012, 2013, 2014, 2015, 2016, 2017, 2018, 2019], \"xaxis\": \"x\", \"y\": [77.50909090909092, 62.936363636363645, 92.38333333333333, 75.3, 63.04545454545455, 65.10000000000001, 55.866666666666674, 118.25, 75.41, 86.09, 47.1, 26.354545454545452, 64.78333333333332, 61.68999999999998, 72.17272727272729, 101.66363636363636, 83.58181818181818, 73.45, 95.74, 88.13333333333333, 61.34444444444445, 78.88333333333333, 50.23333333333334, 68.48181818181818, 46.474999999999994, 67.85833333333333, 67.06666666666668, 47.60833333333333, 77.03333333333335, 34.75, 79.47499999999998, 80.63636363636363, 38.6875, 89.05454545454546, 90.17999999999999, 74.65, 61.0, 51.958333333333336, 96.16, 76.89999999999999, 46.13636363636363, 52.99090909090909, 86.41818181818182, 80.25454545454544, 64.91818181818182, 82.01818181818182, 67.69166666666668, 75.10000000000001, 74.71818181818182, 192.25, 34.699999999999996, 50.239999999999995, 71.7, 109.54545454545455, 58.25, 48.63636363636363, 64.60000000000001, 123.7, 56.036363636363625, 46.05833333333334, 33.44444444444444, 50.56666666666666, 58.67999999999999, 112.52000000000001, 45.290909090909096, 57.283333333333324, 57.57142857142858, 57.2, 69.58333333333333, 84.23636363636363, 84.00000000000001, 69.66666666666667, 58.4, 57.300000000000004, 64.31666666666666, 56.90909090909091, 53.127272727272725], \"yaxis\": \"y\"}],                        {\"legend\": {\"tracegroupgap\": 0}, \"template\": {\"data\": {\"bar\": [{\"error_x\": {\"color\": \"#2a3f5f\"}, \"error_y\": {\"color\": \"#2a3f5f\"}, \"marker\": {\"line\": {\"color\": \"#E5ECF6\", \"width\": 0.5}}, \"type\": \"bar\"}], \"barpolar\": [{\"marker\": {\"line\": {\"color\": \"#E5ECF6\", \"width\": 0.5}}, \"type\": \"barpolar\"}], \"carpet\": [{\"aaxis\": {\"endlinecolor\": \"#2a3f5f\", \"gridcolor\": \"white\", \"linecolor\": \"white\", \"minorgridcolor\": \"white\", \"startlinecolor\": \"#2a3f5f\"}, \"baxis\": {\"endlinecolor\": \"#2a3f5f\", \"gridcolor\": \"white\", \"linecolor\": \"white\", \"minorgridcolor\": \"white\", \"startlinecolor\": \"#2a3f5f\"}, \"type\": \"carpet\"}], \"choropleth\": [{\"colorbar\": {\"outlinewidth\": 0, \"ticks\": \"\"}, \"type\": \"choropleth\"}], \"contour\": [{\"colorbar\": {\"outlinewidth\": 0, \"ticks\": \"\"}, \"colorscale\": [[0.0, \"#0d0887\"], [0.1111111111111111, \"#46039f\"], [0.2222222222222222, \"#7201a8\"], [0.3333333333333333, \"#9c179e\"], [0.4444444444444444, \"#bd3786\"], [0.5555555555555556, \"#d8576b\"], [0.6666666666666666, \"#ed7953\"], [0.7777777777777778, \"#fb9f3a\"], [0.8888888888888888, \"#fdca26\"], [1.0, \"#f0f921\"]], \"type\": \"contour\"}], \"contourcarpet\": [{\"colorbar\": {\"outlinewidth\": 0, \"ticks\": \"\"}, \"type\": \"contourcarpet\"}], \"heatmap\": [{\"colorbar\": {\"outlinewidth\": 0, \"ticks\": \"\"}, \"colorscale\": [[0.0, \"#0d0887\"], [0.1111111111111111, \"#46039f\"], [0.2222222222222222, \"#7201a8\"], [0.3333333333333333, \"#9c179e\"], [0.4444444444444444, \"#bd3786\"], [0.5555555555555556, \"#d8576b\"], [0.6666666666666666, \"#ed7953\"], [0.7777777777777778, \"#fb9f3a\"], [0.8888888888888888, \"#fdca26\"], [1.0, \"#f0f921\"]], \"type\": \"heatmap\"}], \"heatmapgl\": [{\"colorbar\": {\"outlinewidth\": 0, \"ticks\": \"\"}, \"colorscale\": [[0.0, \"#0d0887\"], [0.1111111111111111, \"#46039f\"], [0.2222222222222222, \"#7201a8\"], [0.3333333333333333, \"#9c179e\"], [0.4444444444444444, \"#bd3786\"], [0.5555555555555556, \"#d8576b\"], [0.6666666666666666, \"#ed7953\"], [0.7777777777777778, \"#fb9f3a\"], [0.8888888888888888, \"#fdca26\"], [1.0, \"#f0f921\"]], \"type\": \"heatmapgl\"}], \"histogram\": [{\"marker\": {\"colorbar\": {\"outlinewidth\": 0, \"ticks\": \"\"}}, \"type\": \"histogram\"}], \"histogram2d\": [{\"colorbar\": {\"outlinewidth\": 0, \"ticks\": \"\"}, \"colorscale\": [[0.0, \"#0d0887\"], [0.1111111111111111, \"#46039f\"], [0.2222222222222222, \"#7201a8\"], [0.3333333333333333, \"#9c179e\"], [0.4444444444444444, \"#bd3786\"], [0.5555555555555556, \"#d8576b\"], [0.6666666666666666, \"#ed7953\"], [0.7777777777777778, \"#fb9f3a\"], [0.8888888888888888, \"#fdca26\"], [1.0, \"#f0f921\"]], \"type\": \"histogram2d\"}], \"histogram2dcontour\": [{\"colorbar\": {\"outlinewidth\": 0, \"ticks\": \"\"}, \"colorscale\": [[0.0, \"#0d0887\"], [0.1111111111111111, \"#46039f\"], [0.2222222222222222, \"#7201a8\"], [0.3333333333333333, \"#9c179e\"], [0.4444444444444444, \"#bd3786\"], [0.5555555555555556, \"#d8576b\"], [0.6666666666666666, \"#ed7953\"], [0.7777777777777778, \"#fb9f3a\"], [0.8888888888888888, \"#fdca26\"], [1.0, \"#f0f921\"]], \"type\": \"histogram2dcontour\"}], \"mesh3d\": [{\"colorbar\": {\"outlinewidth\": 0, \"ticks\": \"\"}, \"type\": \"mesh3d\"}], \"parcoords\": [{\"line\": {\"colorbar\": {\"outlinewidth\": 0, \"ticks\": \"\"}}, \"type\": \"parcoords\"}], \"pie\": [{\"automargin\": true, \"type\": \"pie\"}], \"scatter\": [{\"marker\": {\"colorbar\": {\"outlinewidth\": 0, \"ticks\": \"\"}}, \"type\": \"scatter\"}], \"scatter3d\": [{\"line\": {\"colorbar\": {\"outlinewidth\": 0, \"ticks\": \"\"}}, \"marker\": {\"colorbar\": {\"outlinewidth\": 0, \"ticks\": \"\"}}, \"type\": \"scatter3d\"}], \"scattercarpet\": [{\"marker\": {\"colorbar\": {\"outlinewidth\": 0, \"ticks\": \"\"}}, \"type\": \"scattercarpet\"}], \"scattergeo\": [{\"marker\": {\"colorbar\": {\"outlinewidth\": 0, \"ticks\": \"\"}}, \"type\": \"scattergeo\"}], \"scattergl\": [{\"marker\": {\"colorbar\": {\"outlinewidth\": 0, \"ticks\": \"\"}}, \"type\": \"scattergl\"}], \"scattermapbox\": [{\"marker\": {\"colorbar\": {\"outlinewidth\": 0, \"ticks\": \"\"}}, \"type\": \"scattermapbox\"}], \"scatterpolar\": [{\"marker\": {\"colorbar\": {\"outlinewidth\": 0, \"ticks\": \"\"}}, \"type\": \"scatterpolar\"}], \"scatterpolargl\": [{\"marker\": {\"colorbar\": {\"outlinewidth\": 0, \"ticks\": \"\"}}, \"type\": \"scatterpolargl\"}], \"scatterternary\": [{\"marker\": {\"colorbar\": {\"outlinewidth\": 0, \"ticks\": \"\"}}, \"type\": \"scatterternary\"}], \"surface\": [{\"colorbar\": {\"outlinewidth\": 0, \"ticks\": \"\"}, \"colorscale\": [[0.0, \"#0d0887\"], [0.1111111111111111, \"#46039f\"], [0.2222222222222222, \"#7201a8\"], [0.3333333333333333, \"#9c179e\"], [0.4444444444444444, \"#bd3786\"], [0.5555555555555556, \"#d8576b\"], [0.6666666666666666, \"#ed7953\"], [0.7777777777777778, \"#fb9f3a\"], [0.8888888888888888, \"#fdca26\"], [1.0, \"#f0f921\"]], \"type\": \"surface\"}], \"table\": [{\"cells\": {\"fill\": {\"color\": \"#EBF0F8\"}, \"line\": {\"color\": \"white\"}}, \"header\": {\"fill\": {\"color\": \"#C8D4E3\"}, \"line\": {\"color\": \"white\"}}, \"type\": \"table\"}]}, \"layout\": {\"annotationdefaults\": {\"arrowcolor\": \"#2a3f5f\", \"arrowhead\": 0, \"arrowwidth\": 1}, \"autotypenumbers\": \"strict\", \"coloraxis\": {\"colorbar\": {\"outlinewidth\": 0, \"ticks\": \"\"}}, \"colorscale\": {\"diverging\": [[0, \"#8e0152\"], [0.1, \"#c51b7d\"], [0.2, \"#de77ae\"], [0.3, \"#f1b6da\"], [0.4, \"#fde0ef\"], [0.5, \"#f7f7f7\"], [0.6, \"#e6f5d0\"], [0.7, \"#b8e186\"], [0.8, \"#7fbc41\"], [0.9, \"#4d9221\"], [1, \"#276419\"]], \"sequential\": [[0.0, \"#0d0887\"], [0.1111111111111111, \"#46039f\"], [0.2222222222222222, \"#7201a8\"], [0.3333333333333333, \"#9c179e\"], [0.4444444444444444, \"#bd3786\"], [0.5555555555555556, \"#d8576b\"], [0.6666666666666666, \"#ed7953\"], [0.7777777777777778, \"#fb9f3a\"], [0.8888888888888888, \"#fdca26\"], [1.0, \"#f0f921\"]], \"sequentialminus\": [[0.0, \"#0d0887\"], [0.1111111111111111, \"#46039f\"], [0.2222222222222222, \"#7201a8\"], [0.3333333333333333, \"#9c179e\"], [0.4444444444444444, \"#bd3786\"], [0.5555555555555556, \"#d8576b\"], [0.6666666666666666, \"#ed7953\"], [0.7777777777777778, \"#fb9f3a\"], [0.8888888888888888, \"#fdca26\"], [1.0, \"#f0f921\"]]}, \"colorway\": [\"#636efa\", \"#EF553B\", \"#00cc96\", \"#ab63fa\", \"#FFA15A\", \"#19d3f3\", \"#FF6692\", \"#B6E880\", \"#FF97FF\", \"#FECB52\"], \"font\": {\"color\": \"#2a3f5f\"}, \"geo\": {\"bgcolor\": \"white\", \"lakecolor\": \"white\", \"landcolor\": \"#E5ECF6\", \"showlakes\": true, \"showland\": true, \"subunitcolor\": \"white\"}, \"hoverlabel\": {\"align\": \"left\"}, \"hovermode\": \"closest\", \"mapbox\": {\"style\": \"light\"}, \"paper_bgcolor\": \"white\", \"plot_bgcolor\": \"#E5ECF6\", \"polar\": {\"angularaxis\": {\"gridcolor\": \"white\", \"linecolor\": \"white\", \"ticks\": \"\"}, \"bgcolor\": \"#E5ECF6\", \"radialaxis\": {\"gridcolor\": \"white\", \"linecolor\": \"white\", \"ticks\": \"\"}}, \"scene\": {\"xaxis\": {\"backgroundcolor\": \"#E5ECF6\", \"gridcolor\": \"white\", \"gridwidth\": 2, \"linecolor\": \"white\", \"showbackground\": true, \"ticks\": \"\", \"zerolinecolor\": \"white\"}, \"yaxis\": {\"backgroundcolor\": \"#E5ECF6\", \"gridcolor\": \"white\", \"gridwidth\": 2, \"linecolor\": \"white\", \"showbackground\": true, \"ticks\": \"\", \"zerolinecolor\": \"white\"}, \"zaxis\": {\"backgroundcolor\": \"#E5ECF6\", \"gridcolor\": \"white\", \"gridwidth\": 2, \"linecolor\": \"white\", \"showbackground\": true, \"ticks\": \"\", \"zerolinecolor\": \"white\"}}, \"shapedefaults\": {\"line\": {\"color\": \"#2a3f5f\"}}, \"ternary\": {\"aaxis\": {\"gridcolor\": \"white\", \"linecolor\": \"white\", \"ticks\": \"\"}, \"baxis\": {\"gridcolor\": \"white\", \"linecolor\": \"white\", \"ticks\": \"\"}, \"bgcolor\": \"#E5ECF6\", \"caxis\": {\"gridcolor\": \"white\", \"linecolor\": \"white\", \"ticks\": \"\"}}, \"title\": {\"x\": 0.05}, \"xaxis\": {\"automargin\": true, \"gridcolor\": \"white\", \"linecolor\": \"white\", \"ticks\": \"\", \"title\": {\"standoff\": 15}, \"zerolinecolor\": \"white\", \"zerolinewidth\": 2}, \"yaxis\": {\"automargin\": true, \"gridcolor\": \"white\", \"linecolor\": \"white\", \"ticks\": \"\", \"title\": {\"standoff\": 15}, \"zerolinecolor\": \"white\", \"zerolinewidth\": 2}}}, \"title\": {\"text\": \"Annual rainfall in Mbombela from 1940 to 2019\", \"x\": 0.5}, \"xaxis\": {\"anchor\": \"y\", \"domain\": [0.0, 1.0], \"title\": {\"text\": \"year\"}}, \"yaxis\": {\"anchor\": \"x\", \"domain\": [0.0, 1.0], \"title\": {\"text\": \"rainfall\"}}},                        {\"responsive\": true}                    ).then(function(){\n",
       "                            \n",
       "var gd = document.getElementById('e42a98bb-232d-4038-ac1e-4f35944cd2c1');\n",
       "var x = new MutationObserver(function (mutations, observer) {{\n",
       "        var display = window.getComputedStyle(gd).display;\n",
       "        if (!display || display === 'none') {{\n",
       "            console.log([gd, 'removed!']);\n",
       "            Plotly.purge(gd);\n",
       "            observer.disconnect();\n",
       "        }}\n",
       "}});\n",
       "\n",
       "// Listen for the removal of the full notebook cells\n",
       "var notebookContainer = gd.closest('#notebook-container');\n",
       "if (notebookContainer) {{\n",
       "    x.observe(notebookContainer, {childList: true});\n",
       "}}\n",
       "\n",
       "// Listen for the clearing of the current output cell\n",
       "var outputEl = gd.closest('.output');\n",
       "if (outputEl) {{\n",
       "    x.observe(outputEl, {childList: true});\n",
       "}}\n",
       "\n",
       "                        })                };                });            </script>        </div>"
      ]
     },
     "metadata": {},
     "output_type": "display_data"
    }
   ],
   "source": [
    "ax=df.groupby([df.year]).mean()['rainfall']\n",
    "fig = px.line(ax, x=ax.index, y='rainfall', title='Annual rainfall in Mbombela from 1940 to 2019')\n",
    "fig.update_traces(mode='lines+markers',line=dict(color='Orange'))\n",
    "fig.update(layout=dict(title=dict(x=0.5)))\n",
    "fig.show()"
   ]
  },
  {
   "cell_type": "markdown",
   "metadata": {},
   "source": [
    "From the graph, we can see that the highest average rainfall in Mbombela was recorded in the year 1991."
   ]
  },
  {
   "cell_type": "code",
   "execution_count": 282,
   "metadata": {},
   "outputs": [
    {
     "data": {
      "image/png": "[encoded data removed]",
      "text/plain": [
       "<Figure size 2160x720 with 1 Axes>"
      ]
     },
     "metadata": {
      "needs_background": "light"
     },
     "output_type": "display_data"
    }
   ],
   "source": [
    "import warnings\n",
    "warnings.filterwarnings('ignore')\n",
    "\n",
    "f,ax=plt.subplots(1,1,figsize=(30,10))\n",
    "title = plt.title('Monthly Rainfall in Mbombela', fontsize=20)\n",
    "title.set_position([0.5, 1.05])\n",
    "\n",
    "g = sns.boxplot(df[\"month\"], df[\"rainfall\"],ax=ax, order=[\"Jan\",\"Feb\",\"Mar\",\"Apr\",\"May\",\"Jun\",\"Jul\",\"Aug\",\"Sep\",\"Oct\",\"Nov\",\"Dec\"])"
   ]
  },
  {
   "cell_type": "markdown",
   "metadata": {},
   "source": [
    "From the figure, the majority of the rainfall is received in the months of Dec and Jan which is the summer season while in Jun, \tJuly, and August the least Rainfall is recorded.\n"
   ]
  },
  {
   "cell_type": "code",
   "execution_count": 283,
   "metadata": {},
   "outputs": [
    {
     "data": {
      "image/png": "[encoded data removed]",
      "text/plain": [
       "<Figure size 432x288 with 1 Axes>"
      ]
     },
     "metadata": {
      "needs_background": "light"
     },
     "output_type": "display_data"
    }
   ],
   "source": [
    "g1 = sns.distplot(np.log(df['rainfall'] + 1))\n",
    "g1.set_title(\"Rainfall Distribution\", fontsize=16);"
   ]
  },
  {
   "cell_type": "markdown",
   "metadata": {},
   "source": [
    "# LSTM MODEL"
   ]
  },
  {
   "cell_type": "code",
   "execution_count": 284,
   "metadata": {},
   "outputs": [],
   "source": [
    "#Data preprcessing\n",
    "dataset = df.drop(columns = ['month','year'])\n",
    "# normalize the dataset\n",
    "scaler = MinMaxScaler(feature_range=(0, 1))\n",
    "dataset = scaler.fit_transform(dataset)"
   ]
  },
  {
   "cell_type": "code",
   "execution_count": 285,
   "metadata": {},
   "outputs": [],
   "source": [
    "# convert an array of values into a dataset matrix\n",
    "def create_dataset(dataset, look_back=12):\n",
    "    dataX, dataY = [], []\n",
    "    for i in range(len(dataset)-look_back-1):\n",
    "        a = dataset[i:(i+look_back), 0]\n",
    "        dataX.append(a)\n",
    "        dataY.append(dataset[i + look_back, 0])\n",
    "    return np.array(dataX), np.array(dataY)"
   ]
  },
  {
   "cell_type": "code",
   "execution_count": 286,
   "metadata": {},
   "outputs": [],
   "source": [
    "# split into train and test sets\n",
    "training_size=int(len(dataset)*0.90)\n",
    "test_size=len(dataset)-training_size\n",
    "train, test =dataset[0:training_size,:],dataset[training_size:len(dataset),:1]\n",
    "\n",
    "#reshape into X=t and Y=t+1\n",
    "look_back =12\n",
    "trainX, trainY = create_dataset(train, look_back)\n",
    "testX, testY = create_dataset(test, look_back)"
   ]
  },
  {
   "cell_type": "code",
   "execution_count": 287,
   "metadata": {},
   "outputs": [],
   "source": [
    "# reshape input to be [samples, time steps, features]\n",
    "trainX = np.reshape(trainX, (trainX.shape[0], 1, trainX.shape[1]))\n",
    "testX = np.reshape(testX, (testX.shape[0], 1, testX.shape[1]))"
   ]
  },
  {
   "cell_type": "code",
   "execution_count": 288,
   "metadata": {},
   "outputs": [
    {
     "name": "stdout",
     "output_type": "stream",
     "text": [
      "Epoch 1/600\n",
      "4/4 [==============================] - 6s 367ms/step - loss: 0.0512 - val_loss: 0.0350\n",
      "Epoch 2/600\n",
      "4/4 [==============================] - 0s 6ms/step - loss: 0.0458 - val_loss: 0.0305\n",
      "Epoch 3/600\n",
      "4/4 [==============================] - 0s 10ms/step - loss: 0.0405 - val_loss: 0.0264\n",
      "Epoch 4/600\n",
      "4/4 [==============================] - 0s 5ms/step - loss: 0.0353 - val_loss: 0.0227\n",
      "Epoch 5/600\n",
      "4/4 [==============================] - 0s 11ms/step - loss: 0.0306 - val_loss: 0.0199\n",
      "Epoch 6/600\n",
      "4/4 [==============================] - 0s 9ms/step - loss: 0.0270 - val_loss: 0.0187\n",
      "Epoch 7/600\n",
      "4/4 [==============================] - 0s 8ms/step - loss: 0.0251 - val_loss: 0.0192\n",
      "Epoch 8/600\n",
      "4/4 [==============================] - 0s 11ms/step - loss: 0.0247 - val_loss: 0.0198\n",
      "Epoch 9/600\n",
      "4/4 [==============================] - 0s 10ms/step - loss: 0.0245 - val_loss: 0.0192\n",
      "Epoch 10/600\n",
      "4/4 [==============================] - 0s 10ms/step - loss: 0.0237 - val_loss: 0.0178\n",
      "Epoch 11/600\n",
      "4/4 [==============================] - 0s 11ms/step - loss: 0.0228 - val_loss: 0.0167\n",
      "Epoch 12/600\n",
      "4/4 [==============================] - 0s 7ms/step - loss: 0.0221 - val_loss: 0.0159\n",
      "Epoch 13/600\n",
      "4/4 [==============================] - 0s 10ms/step - loss: 0.0216 - val_loss: 0.0151\n",
      "Epoch 14/600\n",
      "4/4 [==============================] - 0s 11ms/step - loss: 0.0208 - val_loss: 0.0144\n",
      "Epoch 15/600\n",
      "4/4 [==============================] - 0s 9ms/step - loss: 0.0200 - val_loss: 0.0138\n",
      "Epoch 16/600\n",
      "4/4 [==============================] - 0s 11ms/step - loss: 0.0193 - val_loss: 0.0132\n",
      "Epoch 17/600\n",
      "4/4 [==============================] - 0s 10ms/step - loss: 0.0187 - val_loss: 0.0126\n",
      "Epoch 18/600\n",
      "4/4 [==============================] - 0s 10ms/step - loss: 0.0182 - val_loss: 0.0119\n",
      "Epoch 19/600\n",
      "4/4 [==============================] - 0s 11ms/step - loss: 0.0179 - val_loss: 0.0115\n",
      "Epoch 20/600\n",
      "4/4 [==============================] - 0s 11ms/step - loss: 0.0178 - val_loss: 0.0114\n",
      "Epoch 21/600\n",
      "4/4 [==============================] - 0s 12ms/step - loss: 0.0178 - val_loss: 0.0114\n",
      "Epoch 22/600\n",
      "4/4 [==============================] - 0s 9ms/step - loss: 0.0177 - val_loss: 0.0114\n",
      "Epoch 23/600\n",
      "4/4 [==============================] - 0s 10ms/step - loss: 0.0176 - val_loss: 0.0115\n",
      "Epoch 24/600\n",
      "4/4 [==============================] - 0s 10ms/step - loss: 0.0175 - val_loss: 0.0115\n",
      "Epoch 25/600\n",
      "4/4 [==============================] - 0s 11ms/step - loss: 0.0174 - val_loss: 0.0115\n",
      "Epoch 26/600\n",
      "4/4 [==============================] - 0s 8ms/step - loss: 0.0173 - val_loss: 0.0116\n",
      "Epoch 27/600\n",
      "4/4 [==============================] - 0s 9ms/step - loss: 0.0173 - val_loss: 0.0116\n",
      "Epoch 28/600\n",
      "4/4 [==============================] - 0s 11ms/step - loss: 0.0172 - val_loss: 0.0116\n",
      "Epoch 29/600\n",
      "4/4 [==============================] - 0s 11ms/step - loss: 0.0172 - val_loss: 0.0116\n",
      "Epoch 30/600\n",
      "4/4 [==============================] - 0s 9ms/step - loss: 0.0171 - val_loss: 0.0115\n",
      "Epoch 31/600\n",
      "4/4 [==============================] - 0s 11ms/step - loss: 0.0171 - val_loss: 0.0115\n",
      "Epoch 32/600\n",
      "4/4 [==============================] - 0s 12ms/step - loss: 0.0170 - val_loss: 0.0115\n",
      "Epoch 33/600\n",
      "4/4 [==============================] - 0s 12ms/step - loss: 0.0170 - val_loss: 0.0115\n",
      "Epoch 34/600\n",
      "4/4 [==============================] - 0s 7ms/step - loss: 0.0170 - val_loss: 0.0115\n",
      "Epoch 35/600\n",
      "4/4 [==============================] - 0s 8ms/step - loss: 0.0170 - val_loss: 0.0115\n",
      "Epoch 36/600\n",
      "4/4 [==============================] - 0s 7ms/step - loss: 0.0169 - val_loss: 0.0115\n",
      "Epoch 37/600\n",
      "4/4 [==============================] - 0s 10ms/step - loss: 0.0169 - val_loss: 0.0115\n",
      "Epoch 38/600\n",
      "4/4 [==============================] - 0s 10ms/step - loss: 0.0169 - val_loss: 0.0115\n",
      "Epoch 39/600\n",
      "4/4 [==============================] - 0s 10ms/step - loss: 0.0169 - val_loss: 0.0115\n",
      "Epoch 40/600\n",
      "4/4 [==============================] - 0s 10ms/step - loss: 0.0169 - val_loss: 0.0115\n",
      "Epoch 41/600\n",
      "4/4 [==============================] - 0s 10ms/step - loss: 0.0168 - val_loss: 0.0115\n",
      "Epoch 42/600\n",
      "4/4 [==============================] - 0s 8ms/step - loss: 0.0168 - val_loss: 0.0115\n",
      "Epoch 43/600\n",
      "4/4 [==============================] - 0s 11ms/step - loss: 0.0168 - val_loss: 0.0115\n",
      "Epoch 44/600\n",
      "4/4 [==============================] - 0s 9ms/step - loss: 0.0168 - val_loss: 0.0115\n",
      "Epoch 45/600\n",
      "4/4 [==============================] - 0s 11ms/step - loss: 0.0168 - val_loss: 0.0115\n",
      "Epoch 46/600\n",
      "4/4 [==============================] - 0s 10ms/step - loss: 0.0168 - val_loss: 0.0115\n",
      "Epoch 47/600\n",
      "4/4 [==============================] - 0s 10ms/step - loss: 0.0168 - val_loss: 0.0115\n",
      "Epoch 48/600\n",
      "4/4 [==============================] - 0s 10ms/step - loss: 0.0168 - val_loss: 0.0115\n",
      "Epoch 49/600\n",
      "4/4 [==============================] - 0s 10ms/step - loss: 0.0167 - val_loss: 0.0115\n",
      "Epoch 50/600\n",
      "4/4 [==============================] - 0s 9ms/step - loss: 0.0167 - val_loss: 0.0115\n",
      "Epoch 51/600\n",
      "4/4 [==============================] - 0s 8ms/step - loss: 0.0167 - val_loss: 0.0115\n",
      "Epoch 52/600\n",
      "4/4 [==============================] - 0s 11ms/step - loss: 0.0167 - val_loss: 0.0115\n",
      "Epoch 53/600\n",
      "4/4 [==============================] - 0s 10ms/step - loss: 0.0167 - val_loss: 0.0115\n",
      "Epoch 54/600\n",
      "4/4 [==============================] - 0s 11ms/step - loss: 0.0167 - val_loss: 0.0115\n",
      "Epoch 55/600\n",
      "4/4 [==============================] - 0s 10ms/step - loss: 0.0167 - val_loss: 0.0114\n",
      "Epoch 56/600\n",
      "4/4 [==============================] - 0s 8ms/step - loss: 0.0167 - val_loss: 0.0114\n",
      "Epoch 57/600\n",
      "4/4 [==============================] - 0s 11ms/step - loss: 0.0167 - val_loss: 0.0114\n",
      "Epoch 58/600\n",
      "4/4 [==============================] - 0s 7ms/step - loss: 0.0167 - val_loss: 0.0114\n",
      "Epoch 59/600\n",
      "4/4 [==============================] - 0s 6ms/step - loss: 0.0166 - val_loss: 0.0114\n",
      "Epoch 60/600\n",
      "4/4 [==============================] - 0s 10ms/step - loss: 0.0166 - val_loss: 0.0114\n",
      "Epoch 61/600\n",
      "4/4 [==============================] - 0s 10ms/step - loss: 0.0166 - val_loss: 0.0114\n",
      "Epoch 62/600\n",
      "4/4 [==============================] - 0s 8ms/step - loss: 0.0166 - val_loss: 0.0114\n",
      "Epoch 63/600\n",
      "4/4 [==============================] - 0s 10ms/step - loss: 0.0166 - val_loss: 0.0114\n",
      "Epoch 64/600\n",
      "4/4 [==============================] - 0s 10ms/step - loss: 0.0166 - val_loss: 0.0114\n",
      "Epoch 65/600\n",
      "4/4 [==============================] - 0s 5ms/step - loss: 0.0166 - val_loss: 0.0114\n",
      "Epoch 66/600\n",
      "4/4 [==============================] - 0s 10ms/step - loss: 0.0166 - val_loss: 0.0114\n",
      "Epoch 67/600\n",
      "4/4 [==============================] - 0s 10ms/step - loss: 0.0166 - val_loss: 0.0113\n",
      "Epoch 68/600\n",
      "4/4 [==============================] - 0s 10ms/step - loss: 0.0166 - val_loss: 0.0113\n",
      "Epoch 69/600\n",
      "4/4 [==============================] - 0s 11ms/step - loss: 0.0166 - val_loss: 0.0113\n",
      "Epoch 70/600\n",
      "4/4 [==============================] - 0s 9ms/step - loss: 0.0165 - val_loss: 0.0113\n",
      "Epoch 71/600\n",
      "4/4 [==============================] - 0s 6ms/step - loss: 0.0165 - val_loss: 0.0113\n",
      "Epoch 72/600\n",
      "4/4 [==============================] - 0s 9ms/step - loss: 0.0165 - val_loss: 0.0113\n",
      "Epoch 73/600\n",
      "4/4 [==============================] - 0s 8ms/step - loss: 0.0165 - val_loss: 0.0113\n",
      "Epoch 74/600\n",
      "4/4 [==============================] - 0s 10ms/step - loss: 0.0165 - val_loss: 0.0113\n",
      "Epoch 75/600\n",
      "4/4 [==============================] - 0s 8ms/step - loss: 0.0165 - val_loss: 0.0113\n",
      "Epoch 76/600\n",
      "4/4 [==============================] - 0s 8ms/step - loss: 0.0165 - val_loss: 0.0113\n",
      "Epoch 77/600\n",
      "4/4 [==============================] - 0s 8ms/step - loss: 0.0165 - val_loss: 0.0113\n",
      "Epoch 78/600\n",
      "4/4 [==============================] - 0s 9ms/step - loss: 0.0165 - val_loss: 0.0113\n",
      "Epoch 79/600\n",
      "4/4 [==============================] - 0s 7ms/step - loss: 0.0165 - val_loss: 0.0112\n",
      "Epoch 80/600\n",
      "4/4 [==============================] - 0s 10ms/step - loss: 0.0165 - val_loss: 0.0112\n",
      "Epoch 81/600\n",
      "4/4 [==============================] - 0s 8ms/step - loss: 0.0164 - val_loss: 0.0112\n",
      "Epoch 82/600\n",
      "4/4 [==============================] - 0s 9ms/step - loss: 0.0164 - val_loss: 0.0112\n",
      "Epoch 83/600\n",
      "4/4 [==============================] - 0s 8ms/step - loss: 0.0164 - val_loss: 0.0112\n",
      "Epoch 84/600\n",
      "4/4 [==============================] - 0s 10ms/step - loss: 0.0164 - val_loss: 0.0112\n",
      "Epoch 85/600\n",
      "4/4 [==============================] - 0s 9ms/step - loss: 0.0164 - val_loss: 0.0112\n",
      "Epoch 86/600\n",
      "4/4 [==============================] - 0s 11ms/step - loss: 0.0164 - val_loss: 0.0112\n",
      "Epoch 87/600\n",
      "4/4 [==============================] - 0s 8ms/step - loss: 0.0164 - val_loss: 0.0112\n",
      "Epoch 88/600\n",
      "4/4 [==============================] - 0s 9ms/step - loss: 0.0164 - val_loss: 0.0112\n",
      "Epoch 89/600\n",
      "4/4 [==============================] - 0s 12ms/step - loss: 0.0164 - val_loss: 0.0112\n",
      "Epoch 90/600\n",
      "4/4 [==============================] - 0s 8ms/step - loss: 0.0164 - val_loss: 0.0112\n",
      "Epoch 91/600\n",
      "4/4 [==============================] - 0s 9ms/step - loss: 0.0163 - val_loss: 0.0112\n",
      "Epoch 92/600\n",
      "4/4 [==============================] - 0s 8ms/step - loss: 0.0163 - val_loss: 0.0111\n",
      "Epoch 93/600\n",
      "4/4 [==============================] - 0s 10ms/step - loss: 0.0163 - val_loss: 0.0111\n",
      "Epoch 94/600\n",
      "4/4 [==============================] - 0s 8ms/step - loss: 0.0163 - val_loss: 0.0111\n",
      "Epoch 95/600\n",
      "4/4 [==============================] - 0s 8ms/step - loss: 0.0163 - val_loss: 0.0111\n",
      "Epoch 96/600\n",
      "4/4 [==============================] - 0s 9ms/step - loss: 0.0163 - val_loss: 0.0111\n",
      "Epoch 97/600\n",
      "4/4 [==============================] - 0s 10ms/step - loss: 0.0163 - val_loss: 0.0111\n",
      "Epoch 98/600\n",
      "4/4 [==============================] - 0s 8ms/step - loss: 0.0163 - val_loss: 0.0111\n",
      "Epoch 99/600\n",
      "4/4 [==============================] - 0s 10ms/step - loss: 0.0163 - val_loss: 0.0111\n",
      "Epoch 100/600\n",
      "4/4 [==============================] - 0s 8ms/step - loss: 0.0163 - val_loss: 0.0111\n",
      "Epoch 101/600\n",
      "4/4 [==============================] - 0s 8ms/step - loss: 0.0163 - val_loss: 0.0111\n",
      "Epoch 102/600\n",
      "4/4 [==============================] - 0s 10ms/step - loss: 0.0162 - val_loss: 0.0111\n",
      "Epoch 103/600\n",
      "4/4 [==============================] - 0s 9ms/step - loss: 0.0162 - val_loss: 0.0111\n",
      "Epoch 104/600\n",
      "4/4 [==============================] - 0s 11ms/step - loss: 0.0162 - val_loss: 0.0111\n",
      "Epoch 105/600\n",
      "4/4 [==============================] - 0s 11ms/step - loss: 0.0162 - val_loss: 0.0111\n",
      "Epoch 106/600\n",
      "4/4 [==============================] - 0s 8ms/step - loss: 0.0162 - val_loss: 0.0110\n",
      "Epoch 107/600\n",
      "4/4 [==============================] - 0s 10ms/step - loss: 0.0162 - val_loss: 0.0110\n",
      "Epoch 108/600\n",
      "4/4 [==============================] - 0s 10ms/step - loss: 0.0162 - val_loss: 0.0110\n",
      "Epoch 109/600\n",
      "4/4 [==============================] - 0s 8ms/step - loss: 0.0162 - val_loss: 0.0110\n",
      "Epoch 110/600\n",
      "4/4 [==============================] - 0s 8ms/step - loss: 0.0162 - val_loss: 0.0110\n",
      "Epoch 111/600\n",
      "4/4 [==============================] - 0s 10ms/step - loss: 0.0161 - val_loss: 0.0110\n",
      "Epoch 112/600\n",
      "4/4 [==============================] - 0s 9ms/step - loss: 0.0161 - val_loss: 0.0110\n",
      "Epoch 113/600\n",
      "4/4 [==============================] - 0s 11ms/step - loss: 0.0161 - val_loss: 0.0110\n",
      "Epoch 114/600\n",
      "4/4 [==============================] - 0s 11ms/step - loss: 0.0161 - val_loss: 0.0110\n",
      "Epoch 115/600\n",
      "4/4 [==============================] - 0s 10ms/step - loss: 0.0161 - val_loss: 0.0110\n",
      "Epoch 116/600\n",
      "4/4 [==============================] - 0s 11ms/step - loss: 0.0161 - val_loss: 0.0110\n",
      "Epoch 117/600\n",
      "4/4 [==============================] - 0s 7ms/step - loss: 0.0161 - val_loss: 0.0110\n",
      "Epoch 118/600\n",
      "4/4 [==============================] - 0s 8ms/step - loss: 0.0161 - val_loss: 0.0110\n",
      "Epoch 119/600\n",
      "4/4 [==============================] - 0s 11ms/step - loss: 0.0161 - val_loss: 0.0110\n",
      "Epoch 120/600\n",
      "4/4 [==============================] - 0s 12ms/step - loss: 0.0161 - val_loss: 0.0109\n",
      "Epoch 121/600\n",
      "4/4 [==============================] - 0s 11ms/step - loss: 0.0160 - val_loss: 0.0109\n",
      "Epoch 122/600\n",
      "4/4 [==============================] - 0s 11ms/step - loss: 0.0160 - val_loss: 0.0109\n",
      "Epoch 123/600\n",
      "4/4 [==============================] - 0s 11ms/step - loss: 0.0160 - val_loss: 0.0109\n",
      "Epoch 124/600\n",
      "4/4 [==============================] - 0s 8ms/step - loss: 0.0160 - val_loss: 0.0109\n",
      "Epoch 125/600\n",
      "4/4 [==============================] - 0s 8ms/step - loss: 0.0160 - val_loss: 0.0109\n",
      "Epoch 126/600\n",
      "4/4 [==============================] - 0s 10ms/step - loss: 0.0160 - val_loss: 0.0109\n",
      "Epoch 127/600\n",
      "4/4 [==============================] - 0s 11ms/step - loss: 0.0160 - val_loss: 0.0109\n",
      "Epoch 128/600\n",
      "4/4 [==============================] - 0s 10ms/step - loss: 0.0160 - val_loss: 0.0109\n",
      "Epoch 129/600\n",
      "4/4 [==============================] - 0s 11ms/step - loss: 0.0160 - val_loss: 0.0109\n",
      "Epoch 130/600\n",
      "4/4 [==============================] - 0s 8ms/step - loss: 0.0159 - val_loss: 0.0109\n",
      "Epoch 131/600\n",
      "4/4 [==============================] - 0s 10ms/step - loss: 0.0159 - val_loss: 0.0109\n",
      "Epoch 132/600\n",
      "4/4 [==============================] - 0s 11ms/step - loss: 0.0159 - val_loss: 0.0109\n",
      "Epoch 133/600\n",
      "4/4 [==============================] - 0s 9ms/step - loss: 0.0159 - val_loss: 0.0109\n",
      "Epoch 134/600\n",
      "4/4 [==============================] - 0s 10ms/step - loss: 0.0159 - val_loss: 0.0108\n",
      "Epoch 135/600\n",
      "4/4 [==============================] - 0s 10ms/step - loss: 0.0159 - val_loss: 0.0108\n",
      "Epoch 136/600\n",
      "4/4 [==============================] - 0s 8ms/step - loss: 0.0159 - val_loss: 0.0108\n",
      "Epoch 137/600\n",
      "4/4 [==============================] - 0s 9ms/step - loss: 0.0159 - val_loss: 0.0108\n",
      "Epoch 138/600\n",
      "4/4 [==============================] - 0s 8ms/step - loss: 0.0159 - val_loss: 0.0108\n",
      "Epoch 139/600\n",
      "4/4 [==============================] - 0s 8ms/step - loss: 0.0158 - val_loss: 0.0108\n",
      "Epoch 140/600\n",
      "4/4 [==============================] - 0s 10ms/step - loss: 0.0158 - val_loss: 0.0108\n",
      "Epoch 141/600\n",
      "4/4 [==============================] - 0s 11ms/step - loss: 0.0158 - val_loss: 0.0108\n",
      "Epoch 142/600\n",
      "4/4 [==============================] - 0s 10ms/step - loss: 0.0158 - val_loss: 0.0108\n",
      "Epoch 143/600\n",
      "4/4 [==============================] - 0s 12ms/step - loss: 0.0158 - val_loss: 0.0108\n",
      "Epoch 144/600\n",
      "4/4 [==============================] - 0s 11ms/step - loss: 0.0158 - val_loss: 0.0108\n",
      "Epoch 145/600\n",
      "4/4 [==============================] - 0s 8ms/step - loss: 0.0158 - val_loss: 0.0108\n",
      "Epoch 146/600\n",
      "4/4 [==============================] - 0s 9ms/step - loss: 0.0158 - val_loss: 0.0108\n",
      "Epoch 147/600\n",
      "4/4 [==============================] - 0s 11ms/step - loss: 0.0158 - val_loss: 0.0108\n",
      "Epoch 148/600\n",
      "4/4 [==============================] - 0s 8ms/step - loss: 0.0157 - val_loss: 0.0107\n",
      "Epoch 149/600\n",
      "4/4 [==============================] - 0s 9ms/step - loss: 0.0157 - val_loss: 0.0107\n",
      "Epoch 150/600\n",
      "4/4 [==============================] - 0s 10ms/step - loss: 0.0157 - val_loss: 0.0107\n",
      "Epoch 151/600\n",
      "4/4 [==============================] - 0s 10ms/step - loss: 0.0157 - val_loss: 0.0107\n",
      "Epoch 152/600\n",
      "4/4 [==============================] - 0s 10ms/step - loss: 0.0157 - val_loss: 0.0107\n",
      "Epoch 153/600\n",
      "4/4 [==============================] - 0s 10ms/step - loss: 0.0157 - val_loss: 0.0107\n",
      "Epoch 154/600\n",
      "4/4 [==============================] - 0s 9ms/step - loss: 0.0157 - val_loss: 0.0107\n",
      "Epoch 155/600\n",
      "4/4 [==============================] - 0s 10ms/step - loss: 0.0157 - val_loss: 0.0107\n",
      "Epoch 156/600\n",
      "4/4 [==============================] - 0s 10ms/step - loss: 0.0157 - val_loss: 0.0107\n",
      "Epoch 157/600\n",
      "4/4 [==============================] - 0s 9ms/step - loss: 0.0156 - val_loss: 0.0107\n",
      "Epoch 158/600\n",
      "4/4 [==============================] - 0s 11ms/step - loss: 0.0156 - val_loss: 0.0107\n",
      "Epoch 159/600\n",
      "4/4 [==============================] - 0s 11ms/step - loss: 0.0156 - val_loss: 0.0107\n",
      "Epoch 160/600\n",
      "4/4 [==============================] - 0s 11ms/step - loss: 0.0156 - val_loss: 0.0106\n",
      "Epoch 161/600\n",
      "4/4 [==============================] - 0s 10ms/step - loss: 0.0156 - val_loss: 0.0106\n",
      "Epoch 162/600\n",
      "4/4 [==============================] - 0s 10ms/step - loss: 0.0156 - val_loss: 0.0106\n",
      "Epoch 163/600\n",
      "4/4 [==============================] - 0s 10ms/step - loss: 0.0156 - val_loss: 0.0106\n",
      "Epoch 164/600\n",
      "4/4 [==============================] - 0s 8ms/step - loss: 0.0156 - val_loss: 0.0106\n",
      "Epoch 165/600\n",
      "4/4 [==============================] - 0s 9ms/step - loss: 0.0156 - val_loss: 0.0106\n",
      "Epoch 166/600\n",
      "4/4 [==============================] - 0s 8ms/step - loss: 0.0156 - val_loss: 0.0106\n",
      "Epoch 167/600\n",
      "4/4 [==============================] - 0s 12ms/step - loss: 0.0155 - val_loss: 0.0106\n",
      "Epoch 168/600\n",
      "4/4 [==============================] - 0s 9ms/step - loss: 0.0155 - val_loss: 0.0106\n",
      "Epoch 169/600\n",
      "4/4 [==============================] - 0s 11ms/step - loss: 0.0155 - val_loss: 0.0106\n",
      "Epoch 170/600\n",
      "4/4 [==============================] - 0s 10ms/step - loss: 0.0155 - val_loss: 0.0106\n",
      "Epoch 171/600\n",
      "4/4 [==============================] - 0s 8ms/step - loss: 0.0155 - val_loss: 0.0106\n",
      "Epoch 172/600\n",
      "4/4 [==============================] - 0s 11ms/step - loss: 0.0155 - val_loss: 0.0105\n",
      "Epoch 173/600\n",
      "4/4 [==============================] - 0s 10ms/step - loss: 0.0155 - val_loss: 0.0105\n",
      "Epoch 174/600\n",
      "4/4 [==============================] - 0s 12ms/step - loss: 0.0155 - val_loss: 0.0105\n",
      "Epoch 175/600\n",
      "4/4 [==============================] - 0s 12ms/step - loss: 0.0155 - val_loss: 0.0105\n",
      "Epoch 176/600\n",
      "4/4 [==============================] - 0s 10ms/step - loss: 0.0155 - val_loss: 0.0105\n",
      "Epoch 177/600\n",
      "4/4 [==============================] - 0s 8ms/step - loss: 0.0155 - val_loss: 0.0105\n",
      "Epoch 178/600\n",
      "4/4 [==============================] - 0s 12ms/step - loss: 0.0155 - val_loss: 0.0105\n",
      "Epoch 179/600\n",
      "4/4 [==============================] - 0s 11ms/step - loss: 0.0154 - val_loss: 0.0105\n",
      "Epoch 180/600\n",
      "4/4 [==============================] - 0s 12ms/step - loss: 0.0154 - val_loss: 0.0105\n",
      "Epoch 181/600\n",
      "4/4 [==============================] - 0s 10ms/step - loss: 0.0154 - val_loss: 0.0105\n",
      "Epoch 182/600\n",
      "4/4 [==============================] - 0s 10ms/step - loss: 0.0154 - val_loss: 0.0105\n",
      "Epoch 183/600\n",
      "4/4 [==============================] - 0s 11ms/step - loss: 0.0154 - val_loss: 0.0105\n",
      "Epoch 184/600\n",
      "4/4 [==============================] - 0s 8ms/step - loss: 0.0154 - val_loss: 0.0105\n",
      "Epoch 185/600\n",
      "4/4 [==============================] - 0s 10ms/step - loss: 0.0154 - val_loss: 0.0105\n",
      "Epoch 186/600\n",
      "4/4 [==============================] - 0s 8ms/step - loss: 0.0154 - val_loss: 0.0104\n",
      "Epoch 187/600\n",
      "4/4 [==============================] - 0s 9ms/step - loss: 0.0154 - val_loss: 0.0104\n",
      "Epoch 188/600\n",
      "4/4 [==============================] - 0s 11ms/step - loss: 0.0154 - val_loss: 0.0104\n",
      "Epoch 189/600\n",
      "4/4 [==============================] - 0s 8ms/step - loss: 0.0154 - val_loss: 0.0104\n",
      "Epoch 190/600\n",
      "4/4 [==============================] - 0s 10ms/step - loss: 0.0154 - val_loss: 0.0104\n",
      "Epoch 191/600\n",
      "4/4 [==============================] - 0s 11ms/step - loss: 0.0154 - val_loss: 0.0104\n",
      "Epoch 192/600\n",
      "4/4 [==============================] - 0s 11ms/step - loss: 0.0154 - val_loss: 0.0104\n",
      "Epoch 193/600\n",
      "4/4 [==============================] - 0s 10ms/step - loss: 0.0154 - val_loss: 0.0104\n",
      "Epoch 194/600\n",
      "4/4 [==============================] - 0s 11ms/step - loss: 0.0153 - val_loss: 0.0104\n",
      "Epoch 195/600\n",
      "4/4 [==============================] - 0s 5ms/step - loss: 0.0153 - val_loss: 0.0104\n",
      "Epoch 196/600\n",
      "4/4 [==============================] - 0s 8ms/step - loss: 0.0153 - val_loss: 0.0104\n",
      "Epoch 197/600\n",
      "4/4 [==============================] - 0s 11ms/step - loss: 0.0153 - val_loss: 0.0104\n",
      "Epoch 198/600\n",
      "4/4 [==============================] - 0s 10ms/step - loss: 0.0153 - val_loss: 0.0104\n",
      "Epoch 199/600\n",
      "4/4 [==============================] - 0s 12ms/step - loss: 0.0153 - val_loss: 0.0104\n",
      "Epoch 200/600\n",
      "4/4 [==============================] - 0s 11ms/step - loss: 0.0153 - val_loss: 0.0104\n",
      "Epoch 201/600\n",
      "4/4 [==============================] - 0s 12ms/step - loss: 0.0153 - val_loss: 0.0104\n",
      "Epoch 202/600\n",
      "4/4 [==============================] - 0s 8ms/step - loss: 0.0153 - val_loss: 0.0104\n",
      "Epoch 203/600\n",
      "4/4 [==============================] - 0s 8ms/step - loss: 0.0153 - val_loss: 0.0104\n",
      "Epoch 204/600\n",
      "4/4 [==============================] - 0s 10ms/step - loss: 0.0153 - val_loss: 0.0104\n",
      "Epoch 205/600\n",
      "4/4 [==============================] - 0s 7ms/step - loss: 0.0153 - val_loss: 0.0103\n",
      "Epoch 206/600\n",
      "4/4 [==============================] - 0s 9ms/step - loss: 0.0153 - val_loss: 0.0103\n",
      "Epoch 207/600\n",
      "4/4 [==============================] - 0s 9ms/step - loss: 0.0153 - val_loss: 0.0103\n",
      "Epoch 208/600\n",
      "4/4 [==============================] - 0s 8ms/step - loss: 0.0153 - val_loss: 0.0103\n",
      "Epoch 209/600\n",
      "4/4 [==============================] - 0s 12ms/step - loss: 0.0153 - val_loss: 0.0103\n",
      "Epoch 210/600\n",
      "4/4 [==============================] - 0s 10ms/step - loss: 0.0153 - val_loss: 0.0103\n",
      "Epoch 211/600\n",
      "4/4 [==============================] - 0s 11ms/step - loss: 0.0153 - val_loss: 0.0103\n",
      "Epoch 212/600\n",
      "4/4 [==============================] - 0s 8ms/step - loss: 0.0153 - val_loss: 0.0103\n",
      "Epoch 213/600\n",
      "4/4 [==============================] - 0s 9ms/step - loss: 0.0153 - val_loss: 0.0103\n",
      "Epoch 214/600\n",
      "4/4 [==============================] - 0s 8ms/step - loss: 0.0152 - val_loss: 0.0103\n",
      "Epoch 215/600\n",
      "4/4 [==============================] - 0s 11ms/step - loss: 0.0152 - val_loss: 0.0103\n",
      "Epoch 216/600\n",
      "4/4 [==============================] - 0s 9ms/step - loss: 0.0152 - val_loss: 0.0103\n",
      "Epoch 217/600\n",
      "4/4 [==============================] - 0s 11ms/step - loss: 0.0152 - val_loss: 0.0103\n",
      "Epoch 218/600\n",
      "4/4 [==============================] - 0s 7ms/step - loss: 0.0152 - val_loss: 0.0103\n",
      "Epoch 219/600\n",
      "4/4 [==============================] - 0s 10ms/step - loss: 0.0152 - val_loss: 0.0103\n",
      "Epoch 220/600\n",
      "4/4 [==============================] - 0s 11ms/step - loss: 0.0152 - val_loss: 0.0103\n",
      "Epoch 221/600\n",
      "4/4 [==============================] - 0s 10ms/step - loss: 0.0152 - val_loss: 0.0103\n",
      "Epoch 222/600\n",
      "4/4 [==============================] - 0s 9ms/step - loss: 0.0152 - val_loss: 0.0103\n",
      "Epoch 223/600\n",
      "4/4 [==============================] - 0s 8ms/step - loss: 0.0152 - val_loss: 0.0103\n",
      "Epoch 224/600\n",
      "4/4 [==============================] - 0s 8ms/step - loss: 0.0152 - val_loss: 0.0103\n",
      "Epoch 225/600\n",
      "4/4 [==============================] - 0s 9ms/step - loss: 0.0152 - val_loss: 0.0103\n",
      "Epoch 226/600\n",
      "4/4 [==============================] - 0s 8ms/step - loss: 0.0152 - val_loss: 0.0103\n",
      "Epoch 227/600\n",
      "4/4 [==============================] - 0s 8ms/step - loss: 0.0152 - val_loss: 0.0103\n",
      "Epoch 228/600\n",
      "4/4 [==============================] - 0s 8ms/step - loss: 0.0152 - val_loss: 0.0103\n",
      "Epoch 229/600\n",
      "4/4 [==============================] - 0s 9ms/step - loss: 0.0152 - val_loss: 0.0103\n",
      "Epoch 230/600\n",
      "4/4 [==============================] - 0s 10ms/step - loss: 0.0152 - val_loss: 0.0103\n",
      "Epoch 231/600\n",
      "4/4 [==============================] - 0s 11ms/step - loss: 0.0152 - val_loss: 0.0103\n",
      "Epoch 232/600\n",
      "4/4 [==============================] - 0s 5ms/step - loss: 0.0152 - val_loss: 0.0103\n",
      "Epoch 233/600\n",
      "4/4 [==============================] - 0s 10ms/step - loss: 0.0152 - val_loss: 0.0103\n",
      "Epoch 234/600\n",
      "4/4 [==============================] - 0s 5ms/step - loss: 0.0152 - val_loss: 0.0103\n",
      "Epoch 235/600\n",
      "4/4 [==============================] - 0s 10ms/step - loss: 0.0152 - val_loss: 0.0103\n",
      "Epoch 236/600\n",
      "4/4 [==============================] - 0s 7ms/step - loss: 0.0152 - val_loss: 0.0103\n",
      "Epoch 237/600\n",
      "4/4 [==============================] - 0s 10ms/step - loss: 0.0152 - val_loss: 0.0103\n",
      "Epoch 238/600\n",
      "4/4 [==============================] - 0s 11ms/step - loss: 0.0152 - val_loss: 0.0103\n",
      "Epoch 239/600\n",
      "4/4 [==============================] - 0s 10ms/step - loss: 0.0151 - val_loss: 0.0103\n",
      "Epoch 240/600\n",
      "4/4 [==============================] - 0s 11ms/step - loss: 0.0151 - val_loss: 0.0103\n",
      "Epoch 241/600\n",
      "4/4 [==============================] - 0s 10ms/step - loss: 0.0151 - val_loss: 0.0103\n",
      "Epoch 242/600\n",
      "4/4 [==============================] - 0s 10ms/step - loss: 0.0151 - val_loss: 0.0103\n",
      "Epoch 243/600\n",
      "4/4 [==============================] - 0s 7ms/step - loss: 0.0151 - val_loss: 0.0103\n",
      "Epoch 244/600\n",
      "4/4 [==============================] - 0s 10ms/step - loss: 0.0151 - val_loss: 0.0103\n",
      "Epoch 245/600\n",
      "4/4 [==============================] - 0s 10ms/step - loss: 0.0151 - val_loss: 0.0103\n",
      "Epoch 246/600\n",
      "4/4 [==============================] - 0s 8ms/step - loss: 0.0151 - val_loss: 0.0103\n",
      "Epoch 247/600\n",
      "4/4 [==============================] - 0s 8ms/step - loss: 0.0151 - val_loss: 0.0103\n",
      "Epoch 248/600\n",
      "4/4 [==============================] - 0s 10ms/step - loss: 0.0151 - val_loss: 0.0103\n",
      "Epoch 249/600\n",
      "4/4 [==============================] - 0s 10ms/step - loss: 0.0151 - val_loss: 0.0103\n",
      "Epoch 250/600\n",
      "4/4 [==============================] - 0s 10ms/step - loss: 0.0151 - val_loss: 0.0103\n",
      "Epoch 251/600\n",
      "4/4 [==============================] - 0s 10ms/step - loss: 0.0151 - val_loss: 0.0103\n",
      "Epoch 252/600\n",
      "4/4 [==============================] - 0s 8ms/step - loss: 0.0151 - val_loss: 0.0103\n",
      "Epoch 253/600\n",
      "4/4 [==============================] - 0s 10ms/step - loss: 0.0151 - val_loss: 0.0103\n",
      "Epoch 254/600\n",
      "4/4 [==============================] - 0s 10ms/step - loss: 0.0151 - val_loss: 0.0103\n",
      "Epoch 255/600\n",
      "4/4 [==============================] - 0s 10ms/step - loss: 0.0151 - val_loss: 0.0103\n",
      "Epoch 256/600\n",
      "4/4 [==============================] - 0s 10ms/step - loss: 0.0151 - val_loss: 0.0102\n",
      "Epoch 257/600\n",
      "4/4 [==============================] - 0s 10ms/step - loss: 0.0151 - val_loss: 0.0102\n",
      "Epoch 258/600\n",
      "4/4 [==============================] - 0s 10ms/step - loss: 0.0151 - val_loss: 0.0102\n",
      "Epoch 259/600\n",
      "4/4 [==============================] - 0s 8ms/step - loss: 0.0151 - val_loss: 0.0102\n",
      "Epoch 260/600\n",
      "4/4 [==============================] - 0s 10ms/step - loss: 0.0151 - val_loss: 0.0102\n",
      "Epoch 261/600\n",
      "4/4 [==============================] - 0s 8ms/step - loss: 0.0151 - val_loss: 0.0102\n",
      "Epoch 262/600\n",
      "4/4 [==============================] - 0s 10ms/step - loss: 0.0151 - val_loss: 0.0102\n",
      "Epoch 263/600\n",
      "4/4 [==============================] - 0s 10ms/step - loss: 0.0151 - val_loss: 0.0102\n",
      "Epoch 264/600\n",
      "4/4 [==============================] - 0s 9ms/step - loss: 0.0151 - val_loss: 0.0102\n",
      "Epoch 265/600\n",
      "4/4 [==============================] - 0s 8ms/step - loss: 0.0151 - val_loss: 0.0102\n",
      "Epoch 266/600\n",
      "4/4 [==============================] - 0s 7ms/step - loss: 0.0151 - val_loss: 0.0102\n",
      "Epoch 267/600\n",
      "4/4 [==============================] - 0s 11ms/step - loss: 0.0151 - val_loss: 0.0102\n",
      "Epoch 268/600\n",
      "4/4 [==============================] - 0s 11ms/step - loss: 0.0150 - val_loss: 0.0102\n",
      "Epoch 269/600\n",
      "4/4 [==============================] - 0s 10ms/step - loss: 0.0150 - val_loss: 0.0102\n",
      "Epoch 270/600\n",
      "4/4 [==============================] - 0s 8ms/step - loss: 0.0150 - val_loss: 0.0102\n",
      "Epoch 271/600\n",
      "4/4 [==============================] - 0s 10ms/step - loss: 0.0150 - val_loss: 0.0102\n",
      "Epoch 272/600\n",
      "4/4 [==============================] - 0s 10ms/step - loss: 0.0150 - val_loss: 0.0102\n",
      "Epoch 273/600\n",
      "4/4 [==============================] - 0s 9ms/step - loss: 0.0150 - val_loss: 0.0102\n",
      "Epoch 274/600\n",
      "4/4 [==============================] - 0s 11ms/step - loss: 0.0150 - val_loss: 0.0102\n",
      "Epoch 275/600\n",
      "4/4 [==============================] - 0s 11ms/step - loss: 0.0150 - val_loss: 0.0102\n",
      "Epoch 276/600\n",
      "4/4 [==============================] - 0s 8ms/step - loss: 0.0150 - val_loss: 0.0102\n",
      "Epoch 277/600\n",
      "4/4 [==============================] - 0s 9ms/step - loss: 0.0150 - val_loss: 0.0102\n",
      "Epoch 278/600\n",
      "4/4 [==============================] - 0s 8ms/step - loss: 0.0150 - val_loss: 0.0102\n",
      "Epoch 279/600\n",
      "4/4 [==============================] - 0s 8ms/step - loss: 0.0150 - val_loss: 0.0102\n",
      "Epoch 280/600\n",
      "4/4 [==============================] - 0s 8ms/step - loss: 0.0150 - val_loss: 0.0102\n",
      "Epoch 281/600\n",
      "4/4 [==============================] - 0s 8ms/step - loss: 0.0150 - val_loss: 0.0102\n",
      "Epoch 282/600\n",
      "4/4 [==============================] - 0s 9ms/step - loss: 0.0150 - val_loss: 0.0102\n",
      "Epoch 283/600\n",
      "4/4 [==============================] - 0s 9ms/step - loss: 0.0150 - val_loss: 0.0102\n",
      "Epoch 284/600\n",
      "4/4 [==============================] - 0s 10ms/step - loss: 0.0150 - val_loss: 0.0102\n",
      "Epoch 285/600\n",
      "4/4 [==============================] - 0s 12ms/step - loss: 0.0150 - val_loss: 0.0102\n",
      "Epoch 286/600\n",
      "4/4 [==============================] - 0s 10ms/step - loss: 0.0150 - val_loss: 0.0102\n",
      "Epoch 287/600\n",
      "4/4 [==============================] - 0s 9ms/step - loss: 0.0150 - val_loss: 0.0102\n",
      "Epoch 288/600\n",
      "4/4 [==============================] - 0s 11ms/step - loss: 0.0150 - val_loss: 0.0102\n",
      "Epoch 289/600\n",
      "4/4 [==============================] - 0s 9ms/step - loss: 0.0150 - val_loss: 0.0102\n",
      "Epoch 290/600\n",
      "4/4 [==============================] - 0s 8ms/step - loss: 0.0150 - val_loss: 0.0102\n",
      "Epoch 291/600\n",
      "4/4 [==============================] - 0s 11ms/step - loss: 0.0150 - val_loss: 0.0102\n",
      "Epoch 292/600\n",
      "4/4 [==============================] - 0s 11ms/step - loss: 0.0150 - val_loss: 0.0102\n",
      "Epoch 293/600\n",
      "4/4 [==============================] - 0s 11ms/step - loss: 0.0150 - val_loss: 0.0102\n",
      "Epoch 294/600\n",
      "4/4 [==============================] - 0s 8ms/step - loss: 0.0150 - val_loss: 0.0102\n",
      "Epoch 295/600\n",
      "4/4 [==============================] - 0s 9ms/step - loss: 0.0150 - val_loss: 0.0102\n",
      "Epoch 296/600\n",
      "4/4 [==============================] - 0s 11ms/step - loss: 0.0150 - val_loss: 0.0102\n",
      "Epoch 297/600\n",
      "4/4 [==============================] - 0s 8ms/step - loss: 0.0149 - val_loss: 0.0102\n",
      "Epoch 298/600\n",
      "4/4 [==============================] - 0s 9ms/step - loss: 0.0149 - val_loss: 0.0102\n",
      "Epoch 299/600\n",
      "4/4 [==============================] - 0s 8ms/step - loss: 0.0149 - val_loss: 0.0102\n",
      "Epoch 300/600\n",
      "4/4 [==============================] - 0s 11ms/step - loss: 0.0149 - val_loss: 0.0102\n",
      "Epoch 301/600\n",
      "4/4 [==============================] - 0s 9ms/step - loss: 0.0149 - val_loss: 0.0102\n",
      "Epoch 302/600\n",
      "4/4 [==============================] - 0s 8ms/step - loss: 0.0149 - val_loss: 0.0102\n",
      "Epoch 303/600\n",
      "4/4 [==============================] - 0s 10ms/step - loss: 0.0149 - val_loss: 0.0102\n",
      "Epoch 304/600\n",
      "4/4 [==============================] - 0s 9ms/step - loss: 0.0149 - val_loss: 0.0102\n",
      "Epoch 305/600\n",
      "4/4 [==============================] - 0s 9ms/step - loss: 0.0149 - val_loss: 0.0102\n",
      "Epoch 306/600\n",
      "4/4 [==============================] - 0s 8ms/step - loss: 0.0149 - val_loss: 0.0102\n",
      "Epoch 307/600\n",
      "4/4 [==============================] - 0s 9ms/step - loss: 0.0149 - val_loss: 0.0102\n",
      "Epoch 308/600\n",
      "4/4 [==============================] - 0s 8ms/step - loss: 0.0149 - val_loss: 0.0102\n",
      "Epoch 309/600\n",
      "4/4 [==============================] - 0s 10ms/step - loss: 0.0149 - val_loss: 0.0102\n",
      "Epoch 310/600\n",
      "4/4 [==============================] - 0s 8ms/step - loss: 0.0149 - val_loss: 0.0102\n",
      "Epoch 311/600\n",
      "4/4 [==============================] - 0s 11ms/step - loss: 0.0149 - val_loss: 0.0102\n",
      "Epoch 312/600\n",
      "4/4 [==============================] - 0s 11ms/step - loss: 0.0149 - val_loss: 0.0102\n",
      "Epoch 313/600\n",
      "4/4 [==============================] - 0s 9ms/step - loss: 0.0149 - val_loss: 0.0102\n",
      "Epoch 314/600\n",
      "4/4 [==============================] - 0s 11ms/step - loss: 0.0149 - val_loss: 0.0102\n",
      "Epoch 315/600\n",
      "4/4 [==============================] - 0s 11ms/step - loss: 0.0149 - val_loss: 0.0102\n",
      "Epoch 316/600\n",
      "4/4 [==============================] - 0s 12ms/step - loss: 0.0149 - val_loss: 0.0102\n",
      "Epoch 317/600\n",
      "4/4 [==============================] - 0s 11ms/step - loss: 0.0149 - val_loss: 0.0102\n",
      "Epoch 318/600\n",
      "4/4 [==============================] - 0s 11ms/step - loss: 0.0149 - val_loss: 0.0102\n",
      "Epoch 319/600\n",
      "4/4 [==============================] - 0s 8ms/step - loss: 0.0149 - val_loss: 0.0102\n",
      "Epoch 320/600\n",
      "4/4 [==============================] - 0s 11ms/step - loss: 0.0149 - val_loss: 0.0102\n",
      "Epoch 321/600\n",
      "4/4 [==============================] - 0s 7ms/step - loss: 0.0149 - val_loss: 0.0102\n",
      "Epoch 322/600\n",
      "4/4 [==============================] - 0s 10ms/step - loss: 0.0149 - val_loss: 0.0102\n",
      "Epoch 323/600\n",
      "4/4 [==============================] - 0s 8ms/step - loss: 0.0149 - val_loss: 0.0102\n",
      "Epoch 324/600\n",
      "4/4 [==============================] - 0s 10ms/step - loss: 0.0149 - val_loss: 0.0102\n",
      "Epoch 325/600\n",
      "4/4 [==============================] - 0s 9ms/step - loss: 0.0149 - val_loss: 0.0102\n",
      "Epoch 326/600\n",
      "4/4 [==============================] - 0s 8ms/step - loss: 0.0148 - val_loss: 0.0102\n",
      "Epoch 327/600\n",
      "4/4 [==============================] - 0s 9ms/step - loss: 0.0148 - val_loss: 0.0102\n",
      "Epoch 328/600\n",
      "4/4 [==============================] - 0s 11ms/step - loss: 0.0148 - val_loss: 0.0102\n",
      "Epoch 329/600\n",
      "4/4 [==============================] - 0s 9ms/step - loss: 0.0148 - val_loss: 0.0102\n",
      "Epoch 330/600\n",
      "4/4 [==============================] - 0s 11ms/step - loss: 0.0148 - val_loss: 0.0102\n",
      "Epoch 331/600\n",
      "4/4 [==============================] - 0s 11ms/step - loss: 0.0148 - val_loss: 0.0102\n",
      "Epoch 332/600\n",
      "4/4 [==============================] - 0s 8ms/step - loss: 0.0148 - val_loss: 0.0102\n",
      "Epoch 333/600\n",
      "4/4 [==============================] - 0s 10ms/step - loss: 0.0148 - val_loss: 0.0102\n",
      "Epoch 334/600\n",
      "4/4 [==============================] - 0s 11ms/step - loss: 0.0148 - val_loss: 0.0102\n",
      "Epoch 335/600\n",
      "4/4 [==============================] - 0s 8ms/step - loss: 0.0148 - val_loss: 0.0102\n",
      "Epoch 336/600\n",
      "4/4 [==============================] - 0s 10ms/step - loss: 0.0148 - val_loss: 0.0102\n",
      "Epoch 337/600\n",
      "4/4 [==============================] - 0s 8ms/step - loss: 0.0148 - val_loss: 0.0102\n",
      "Epoch 338/600\n",
      "4/4 [==============================] - 0s 10ms/step - loss: 0.0148 - val_loss: 0.0102\n",
      "Epoch 339/600\n",
      "4/4 [==============================] - 0s 10ms/step - loss: 0.0148 - val_loss: 0.0102\n",
      "Epoch 340/600\n",
      "4/4 [==============================] - 0s 8ms/step - loss: 0.0148 - val_loss: 0.0102\n",
      "Epoch 341/600\n",
      "4/4 [==============================] - 0s 10ms/step - loss: 0.0148 - val_loss: 0.0102\n",
      "Epoch 342/600\n",
      "4/4 [==============================] - 0s 10ms/step - loss: 0.0148 - val_loss: 0.0102\n",
      "Epoch 343/600\n",
      "4/4 [==============================] - 0s 8ms/step - loss: 0.0148 - val_loss: 0.0102\n",
      "Epoch 344/600\n",
      "4/4 [==============================] - 0s 10ms/step - loss: 0.0148 - val_loss: 0.0102\n",
      "Epoch 345/600\n",
      "4/4 [==============================] - 0s 9ms/step - loss: 0.0148 - val_loss: 0.0102\n",
      "Epoch 346/600\n",
      "4/4 [==============================] - 0s 9ms/step - loss: 0.0148 - val_loss: 0.0102\n",
      "Epoch 347/600\n",
      "4/4 [==============================] - 0s 8ms/step - loss: 0.0148 - val_loss: 0.0102\n",
      "Epoch 348/600\n",
      "4/4 [==============================] - 0s 10ms/step - loss: 0.0148 - val_loss: 0.0102\n",
      "Epoch 349/600\n",
      "4/4 [==============================] - 0s 8ms/step - loss: 0.0148 - val_loss: 0.0102\n",
      "Epoch 350/600\n",
      "4/4 [==============================] - 0s 9ms/step - loss: 0.0148 - val_loss: 0.0102\n",
      "Epoch 351/600\n",
      "4/4 [==============================] - 0s 7ms/step - loss: 0.0148 - val_loss: 0.0102\n",
      "Epoch 352/600\n",
      "4/4 [==============================] - 0s 8ms/step - loss: 0.0148 - val_loss: 0.0102\n",
      "Epoch 353/600\n",
      "4/4 [==============================] - 0s 9ms/step - loss: 0.0148 - val_loss: 0.0102\n",
      "Epoch 354/600\n",
      "4/4 [==============================] - 0s 7ms/step - loss: 0.0147 - val_loss: 0.0102\n",
      "Epoch 355/600\n",
      "4/4 [==============================] - 0s 8ms/step - loss: 0.0147 - val_loss: 0.0102\n",
      "Epoch 356/600\n",
      "4/4 [==============================] - 0s 9ms/step - loss: 0.0147 - val_loss: 0.0102\n",
      "Epoch 357/600\n",
      "4/4 [==============================] - 0s 7ms/step - loss: 0.0147 - val_loss: 0.0102\n",
      "Epoch 358/600\n",
      "4/4 [==============================] - 0s 8ms/step - loss: 0.0147 - val_loss: 0.0102\n",
      "Epoch 359/600\n",
      "4/4 [==============================] - 0s 8ms/step - loss: 0.0147 - val_loss: 0.0102\n",
      "Epoch 360/600\n",
      "4/4 [==============================] - 0s 6ms/step - loss: 0.0147 - val_loss: 0.0102\n",
      "Epoch 361/600\n",
      "4/4 [==============================] - 0s 10ms/step - loss: 0.0147 - val_loss: 0.0102\n",
      "Epoch 362/600\n",
      "4/4 [==============================] - 0s 12ms/step - loss: 0.0147 - val_loss: 0.0102\n",
      "Epoch 363/600\n",
      "4/4 [==============================] - 0s 10ms/step - loss: 0.0147 - val_loss: 0.0102\n",
      "Epoch 364/600\n",
      "4/4 [==============================] - 0s 12ms/step - loss: 0.0147 - val_loss: 0.0102\n",
      "Epoch 365/600\n",
      "4/4 [==============================] - 0s 10ms/step - loss: 0.0147 - val_loss: 0.0102\n",
      "Epoch 366/600\n",
      "4/4 [==============================] - 0s 11ms/step - loss: 0.0147 - val_loss: 0.0102\n",
      "Epoch 367/600\n",
      "4/4 [==============================] - 0s 8ms/step - loss: 0.0147 - val_loss: 0.0102\n",
      "Epoch 368/600\n",
      "4/4 [==============================] - 0s 9ms/step - loss: 0.0147 - val_loss: 0.0102\n",
      "Epoch 369/600\n",
      "4/4 [==============================] - 0s 8ms/step - loss: 0.0147 - val_loss: 0.0102\n",
      "Epoch 370/600\n",
      "4/4 [==============================] - 0s 8ms/step - loss: 0.0147 - val_loss: 0.0102\n",
      "Epoch 371/600\n",
      "4/4 [==============================] - 0s 9ms/step - loss: 0.0147 - val_loss: 0.0102\n",
      "Epoch 372/600\n",
      "4/4 [==============================] - 0s 8ms/step - loss: 0.0147 - val_loss: 0.0102\n",
      "Epoch 373/600\n",
      "4/4 [==============================] - 0s 8ms/step - loss: 0.0147 - val_loss: 0.0102\n",
      "Epoch 374/600\n",
      "4/4 [==============================] - 0s 8ms/step - loss: 0.0147 - val_loss: 0.0102\n",
      "Epoch 375/600\n",
      "4/4 [==============================] - 0s 8ms/step - loss: 0.0147 - val_loss: 0.0102\n",
      "Epoch 376/600\n",
      "4/4 [==============================] - 0s 8ms/step - loss: 0.0147 - val_loss: 0.0102\n",
      "Epoch 377/600\n",
      "4/4 [==============================] - 0s 10ms/step - loss: 0.0147 - val_loss: 0.0102\n",
      "Epoch 378/600\n",
      "4/4 [==============================] - 0s 8ms/step - loss: 0.0147 - val_loss: 0.0102\n",
      "Epoch 379/600\n",
      "4/4 [==============================] - 0s 10ms/step - loss: 0.0147 - val_loss: 0.0102\n",
      "Epoch 380/600\n",
      "4/4 [==============================] - 0s 10ms/step - loss: 0.0146 - val_loss: 0.0103\n",
      "Epoch 381/600\n",
      "4/4 [==============================] - 0s 8ms/step - loss: 0.0146 - val_loss: 0.0103\n",
      "Epoch 382/600\n",
      "4/4 [==============================] - 0s 9ms/step - loss: 0.0146 - val_loss: 0.0103\n",
      "Epoch 383/600\n",
      "4/4 [==============================] - 0s 8ms/step - loss: 0.0146 - val_loss: 0.0103\n",
      "Epoch 384/600\n",
      "4/4 [==============================] - 0s 10ms/step - loss: 0.0146 - val_loss: 0.0103\n",
      "Epoch 385/600\n",
      "4/4 [==============================] - 0s 8ms/step - loss: 0.0146 - val_loss: 0.0103\n",
      "Epoch 386/600\n",
      "4/4 [==============================] - 0s 11ms/step - loss: 0.0146 - val_loss: 0.0103\n",
      "Epoch 387/600\n",
      "4/4 [==============================] - 0s 8ms/step - loss: 0.0146 - val_loss: 0.0103\n",
      "Epoch 388/600\n",
      "4/4 [==============================] - 0s 8ms/step - loss: 0.0146 - val_loss: 0.0103\n",
      "Epoch 389/600\n",
      "4/4 [==============================] - 0s 7ms/step - loss: 0.0146 - val_loss: 0.0103\n",
      "Epoch 390/600\n",
      "4/4 [==============================] - 0s 8ms/step - loss: 0.0146 - val_loss: 0.0103\n",
      "Epoch 391/600\n",
      "4/4 [==============================] - 0s 10ms/step - loss: 0.0146 - val_loss: 0.0103\n",
      "Epoch 392/600\n",
      "4/4 [==============================] - 0s 7ms/step - loss: 0.0146 - val_loss: 0.0103\n",
      "Epoch 393/600\n",
      "4/4 [==============================] - 0s 10ms/step - loss: 0.0146 - val_loss: 0.0103\n",
      "Epoch 394/600\n",
      "4/4 [==============================] - 0s 12ms/step - loss: 0.0146 - val_loss: 0.0103\n",
      "Epoch 395/600\n",
      "4/4 [==============================] - 0s 10ms/step - loss: 0.0146 - val_loss: 0.0103\n",
      "Epoch 396/600\n",
      "4/4 [==============================] - 0s 12ms/step - loss: 0.0146 - val_loss: 0.0103\n",
      "Epoch 397/600\n",
      "4/4 [==============================] - 0s 12ms/step - loss: 0.0146 - val_loss: 0.0103\n",
      "Epoch 398/600\n",
      "4/4 [==============================] - 0s 12ms/step - loss: 0.0146 - val_loss: 0.0103\n",
      "Epoch 399/600\n",
      "4/4 [==============================] - 0s 11ms/step - loss: 0.0146 - val_loss: 0.0103\n",
      "Epoch 400/600\n",
      "4/4 [==============================] - 0s 8ms/step - loss: 0.0146 - val_loss: 0.0103\n",
      "Epoch 401/600\n",
      "4/4 [==============================] - 0s 8ms/step - loss: 0.0146 - val_loss: 0.0103\n",
      "Epoch 402/600\n",
      "4/4 [==============================] - 0s 10ms/step - loss: 0.0146 - val_loss: 0.0103\n",
      "Epoch 403/600\n",
      "4/4 [==============================] - 0s 12ms/step - loss: 0.0146 - val_loss: 0.0103\n",
      "Epoch 404/600\n",
      "4/4 [==============================] - 0s 8ms/step - loss: 0.0146 - val_loss: 0.0103\n",
      "Epoch 405/600\n",
      "4/4 [==============================] - 0s 11ms/step - loss: 0.0146 - val_loss: 0.0103\n",
      "Epoch 406/600\n",
      "4/4 [==============================] - 0s 10ms/step - loss: 0.0145 - val_loss: 0.0103\n",
      "Epoch 407/600\n",
      "4/4 [==============================] - 0s 8ms/step - loss: 0.0145 - val_loss: 0.0103\n",
      "Epoch 408/600\n",
      "4/4 [==============================] - 0s 11ms/step - loss: 0.0145 - val_loss: 0.0103\n",
      "Epoch 409/600\n",
      "4/4 [==============================] - 0s 9ms/step - loss: 0.0145 - val_loss: 0.0103\n",
      "Epoch 410/600\n",
      "4/4 [==============================] - 0s 10ms/step - loss: 0.0145 - val_loss: 0.0103\n",
      "Epoch 411/600\n",
      "4/4 [==============================] - 0s 8ms/step - loss: 0.0145 - val_loss: 0.0103\n",
      "Epoch 412/600\n",
      "4/4 [==============================] - 0s 8ms/step - loss: 0.0145 - val_loss: 0.0103\n",
      "Epoch 413/600\n",
      "4/4 [==============================] - 0s 10ms/step - loss: 0.0145 - val_loss: 0.0103\n",
      "Epoch 414/600\n",
      "4/4 [==============================] - 0s 12ms/step - loss: 0.0145 - val_loss: 0.0103\n",
      "Epoch 415/600\n",
      "4/4 [==============================] - 0s 10ms/step - loss: 0.0145 - val_loss: 0.0103\n",
      "Epoch 416/600\n",
      "4/4 [==============================] - 0s 11ms/step - loss: 0.0145 - val_loss: 0.0103\n",
      "Epoch 417/600\n",
      "4/4 [==============================] - 0s 10ms/step - loss: 0.0145 - val_loss: 0.0103\n",
      "Epoch 418/600\n",
      "4/4 [==============================] - 0s 8ms/step - loss: 0.0145 - val_loss: 0.0103\n",
      "Epoch 419/600\n",
      "4/4 [==============================] - 0s 10ms/step - loss: 0.0145 - val_loss: 0.0103\n",
      "Epoch 420/600\n",
      "4/4 [==============================] - 0s 10ms/step - loss: 0.0145 - val_loss: 0.0103\n",
      "Epoch 421/600\n",
      "4/4 [==============================] - 0s 11ms/step - loss: 0.0145 - val_loss: 0.0103\n",
      "Epoch 422/600\n",
      "4/4 [==============================] - 0s 11ms/step - loss: 0.0145 - val_loss: 0.0103\n",
      "Epoch 423/600\n",
      "4/4 [==============================] - 0s 13ms/step - loss: 0.0145 - val_loss: 0.0103\n",
      "Epoch 424/600\n",
      "4/4 [==============================] - 0s 10ms/step - loss: 0.0145 - val_loss: 0.0103\n",
      "Epoch 425/600\n",
      "4/4 [==============================] - 0s 8ms/step - loss: 0.0145 - val_loss: 0.0103\n",
      "Epoch 426/600\n",
      "4/4 [==============================] - 0s 10ms/step - loss: 0.0145 - val_loss: 0.0103\n",
      "Epoch 427/600\n",
      "4/4 [==============================] - 0s 8ms/step - loss: 0.0145 - val_loss: 0.0103\n",
      "Epoch 428/600\n",
      "4/4 [==============================] - 0s 8ms/step - loss: 0.0145 - val_loss: 0.0103\n",
      "Epoch 429/600\n",
      "4/4 [==============================] - 0s 7ms/step - loss: 0.0145 - val_loss: 0.0103\n",
      "Epoch 430/600\n",
      "4/4 [==============================] - 0s 10ms/step - loss: 0.0145 - val_loss: 0.0103\n",
      "Epoch 431/600\n",
      "4/4 [==============================] - 0s 10ms/step - loss: 0.0144 - val_loss: 0.0103\n",
      "Epoch 432/600\n",
      "4/4 [==============================] - 0s 10ms/step - loss: 0.0144 - val_loss: 0.0103\n",
      "Epoch 433/600\n",
      "4/4 [==============================] - 0s 8ms/step - loss: 0.0144 - val_loss: 0.0103\n",
      "Epoch 434/600\n",
      "4/4 [==============================] - 0s 10ms/step - loss: 0.0144 - val_loss: 0.0103\n",
      "Epoch 435/600\n",
      "4/4 [==============================] - 0s 10ms/step - loss: 0.0144 - val_loss: 0.0103\n",
      "Epoch 436/600\n",
      "4/4 [==============================] - 0s 6ms/step - loss: 0.0144 - val_loss: 0.0103\n",
      "Epoch 437/600\n",
      "4/4 [==============================] - 0s 10ms/step - loss: 0.0144 - val_loss: 0.0103\n",
      "Epoch 438/600\n",
      "4/4 [==============================] - 0s 8ms/step - loss: 0.0144 - val_loss: 0.0103\n",
      "Epoch 439/600\n",
      "4/4 [==============================] - 0s 10ms/step - loss: 0.0144 - val_loss: 0.0103\n",
      "Epoch 440/600\n",
      "4/4 [==============================] - 0s 7ms/step - loss: 0.0144 - val_loss: 0.0103\n",
      "Epoch 441/600\n",
      "4/4 [==============================] - 0s 10ms/step - loss: 0.0144 - val_loss: 0.0103\n",
      "Epoch 442/600\n",
      "4/4 [==============================] - 0s 8ms/step - loss: 0.0144 - val_loss: 0.0103\n",
      "Epoch 443/600\n",
      "4/4 [==============================] - 0s 11ms/step - loss: 0.0144 - val_loss: 0.0103\n",
      "Epoch 444/600\n",
      "4/4 [==============================] - 0s 10ms/step - loss: 0.0144 - val_loss: 0.0103\n",
      "Epoch 445/600\n",
      "4/4 [==============================] - 0s 11ms/step - loss: 0.0144 - val_loss: 0.0103\n",
      "Epoch 446/600\n",
      "4/4 [==============================] - 0s 7ms/step - loss: 0.0144 - val_loss: 0.0103\n",
      "Epoch 447/600\n",
      "4/4 [==============================] - 0s 10ms/step - loss: 0.0144 - val_loss: 0.0103\n",
      "Epoch 448/600\n",
      "4/4 [==============================] - 0s 11ms/step - loss: 0.0144 - val_loss: 0.0103\n",
      "Epoch 449/600\n",
      "4/4 [==============================] - 0s 8ms/step - loss: 0.0144 - val_loss: 0.0103\n",
      "Epoch 450/600\n",
      "4/4 [==============================] - 0s 8ms/step - loss: 0.0144 - val_loss: 0.0103\n",
      "Epoch 451/600\n",
      "4/4 [==============================] - 0s 9ms/step - loss: 0.0144 - val_loss: 0.0103\n",
      "Epoch 452/600\n",
      "4/4 [==============================] - 0s 7ms/step - loss: 0.0144 - val_loss: 0.0104\n",
      "Epoch 453/600\n",
      "4/4 [==============================] - 0s 9ms/step - loss: 0.0144 - val_loss: 0.0104\n",
      "Epoch 454/600\n",
      "4/4 [==============================] - 0s 11ms/step - loss: 0.0144 - val_loss: 0.0104\n",
      "Epoch 455/600\n",
      "4/4 [==============================] - 0s 11ms/step - loss: 0.0143 - val_loss: 0.0104\n",
      "Epoch 456/600\n",
      "4/4 [==============================] - 0s 11ms/step - loss: 0.0143 - val_loss: 0.0104\n",
      "Epoch 457/600\n",
      "4/4 [==============================] - 0s 8ms/step - loss: 0.0143 - val_loss: 0.0104\n",
      "Epoch 458/600\n",
      "4/4 [==============================] - 0s 12ms/step - loss: 0.0143 - val_loss: 0.0104\n",
      "Epoch 459/600\n",
      "4/4 [==============================] - 0s 8ms/step - loss: 0.0143 - val_loss: 0.0104\n",
      "Epoch 460/600\n",
      "4/4 [==============================] - 0s 10ms/step - loss: 0.0143 - val_loss: 0.0104\n",
      "Epoch 461/600\n",
      "4/4 [==============================] - 0s 6ms/step - loss: 0.0143 - val_loss: 0.0104\n",
      "Epoch 462/600\n",
      "4/4 [==============================] - 0s 8ms/step - loss: 0.0143 - val_loss: 0.0104\n",
      "Epoch 463/600\n",
      "4/4 [==============================] - 0s 11ms/step - loss: 0.0143 - val_loss: 0.0104\n",
      "Epoch 464/600\n",
      "4/4 [==============================] - 0s 10ms/step - loss: 0.0143 - val_loss: 0.0104\n",
      "Epoch 465/600\n",
      "4/4 [==============================] - 0s 8ms/step - loss: 0.0143 - val_loss: 0.0104\n",
      "Epoch 466/600\n",
      "4/4 [==============================] - 0s 10ms/step - loss: 0.0143 - val_loss: 0.0104\n",
      "Epoch 467/600\n",
      "4/4 [==============================] - 0s 10ms/step - loss: 0.0143 - val_loss: 0.0104\n",
      "Epoch 468/600\n",
      "4/4 [==============================] - 0s 8ms/step - loss: 0.0143 - val_loss: 0.0104\n",
      "Epoch 469/600\n",
      "4/4 [==============================] - 0s 10ms/step - loss: 0.0143 - val_loss: 0.0104\n",
      "Epoch 470/600\n",
      "4/4 [==============================] - 0s 12ms/step - loss: 0.0143 - val_loss: 0.0104\n",
      "Epoch 471/600\n",
      "4/4 [==============================] - 0s 11ms/step - loss: 0.0143 - val_loss: 0.0104\n",
      "Epoch 472/600\n",
      "4/4 [==============================] - 0s 8ms/step - loss: 0.0143 - val_loss: 0.0104\n",
      "Epoch 473/600\n",
      "4/4 [==============================] - 0s 9ms/step - loss: 0.0143 - val_loss: 0.0104\n",
      "Epoch 474/600\n",
      "4/4 [==============================] - 0s 11ms/step - loss: 0.0143 - val_loss: 0.0104\n",
      "Epoch 475/600\n",
      "4/4 [==============================] - 0s 7ms/step - loss: 0.0143 - val_loss: 0.0104\n",
      "Epoch 476/600\n",
      "4/4 [==============================] - 0s 8ms/step - loss: 0.0143 - val_loss: 0.0104\n",
      "Epoch 477/600\n",
      "4/4 [==============================] - 0s 9ms/step - loss: 0.0143 - val_loss: 0.0104\n",
      "Epoch 478/600\n",
      "4/4 [==============================] - 0s 10ms/step - loss: 0.0143 - val_loss: 0.0104\n",
      "Epoch 479/600\n",
      "4/4 [==============================] - 0s 11ms/step - loss: 0.0142 - val_loss: 0.0104\n",
      "Epoch 480/600\n",
      "4/4 [==============================] - 0s 9ms/step - loss: 0.0142 - val_loss: 0.0104\n",
      "Epoch 481/600\n",
      "4/4 [==============================] - 0s 10ms/step - loss: 0.0142 - val_loss: 0.0104\n",
      "Epoch 482/600\n",
      "4/4 [==============================] - 0s 11ms/step - loss: 0.0142 - val_loss: 0.0104\n",
      "Epoch 483/600\n",
      "4/4 [==============================] - 0s 11ms/step - loss: 0.0142 - val_loss: 0.0104\n",
      "Epoch 484/600\n",
      "4/4 [==============================] - 0s 6ms/step - loss: 0.0142 - val_loss: 0.0104\n",
      "Epoch 485/600\n",
      "4/4 [==============================] - 0s 11ms/step - loss: 0.0142 - val_loss: 0.0104\n",
      "Epoch 486/600\n",
      "4/4 [==============================] - 0s 11ms/step - loss: 0.0142 - val_loss: 0.0104\n",
      "Epoch 487/600\n",
      "4/4 [==============================] - 0s 12ms/step - loss: 0.0142 - val_loss: 0.0104\n",
      "Epoch 488/600\n",
      "4/4 [==============================] - 0s 9ms/step - loss: 0.0142 - val_loss: 0.0104\n",
      "Epoch 489/600\n",
      "4/4 [==============================] - 0s 8ms/step - loss: 0.0142 - val_loss: 0.0104\n",
      "Epoch 490/600\n",
      "4/4 [==============================] - 0s 12ms/step - loss: 0.0142 - val_loss: 0.0105\n",
      "Epoch 491/600\n",
      "4/4 [==============================] - 0s 8ms/step - loss: 0.0142 - val_loss: 0.0105\n",
      "Epoch 492/600\n",
      "4/4 [==============================] - 0s 10ms/step - loss: 0.0142 - val_loss: 0.0105\n",
      "Epoch 493/600\n",
      "4/4 [==============================] - 0s 9ms/step - loss: 0.0142 - val_loss: 0.0105\n",
      "Epoch 494/600\n",
      "4/4 [==============================] - 0s 10ms/step - loss: 0.0142 - val_loss: 0.0105\n",
      "Epoch 495/600\n",
      "4/4 [==============================] - 0s 10ms/step - loss: 0.0142 - val_loss: 0.0105\n",
      "Epoch 496/600\n",
      "4/4 [==============================] - 0s 10ms/step - loss: 0.0142 - val_loss: 0.0105\n",
      "Epoch 497/600\n",
      "4/4 [==============================] - 0s 9ms/step - loss: 0.0142 - val_loss: 0.0105\n",
      "Epoch 498/600\n",
      "4/4 [==============================] - 0s 9ms/step - loss: 0.0142 - val_loss: 0.0105\n",
      "Epoch 499/600\n",
      "4/4 [==============================] - 0s 11ms/step - loss: 0.0142 - val_loss: 0.0105\n",
      "Epoch 500/600\n",
      "4/4 [==============================] - 0s 9ms/step - loss: 0.0142 - val_loss: 0.0105\n",
      "Epoch 501/600\n",
      "4/4 [==============================] - 0s 10ms/step - loss: 0.0142 - val_loss: 0.0105\n",
      "Epoch 502/600\n",
      "4/4 [==============================] - 0s 11ms/step - loss: 0.0142 - val_loss: 0.0105\n",
      "Epoch 503/600\n",
      "4/4 [==============================] - 0s 11ms/step - loss: 0.0142 - val_loss: 0.0105\n",
      "Epoch 504/600\n",
      "4/4 [==============================] - 0s 9ms/step - loss: 0.0141 - val_loss: 0.0105\n",
      "Epoch 505/600\n",
      "4/4 [==============================] - 0s 8ms/step - loss: 0.0141 - val_loss: 0.0105\n",
      "Epoch 506/600\n",
      "4/4 [==============================] - 0s 8ms/step - loss: 0.0141 - val_loss: 0.0105\n",
      "Epoch 507/600\n",
      "4/4 [==============================] - 0s 12ms/step - loss: 0.0141 - val_loss: 0.0105\n",
      "Epoch 508/600\n",
      "4/4 [==============================] - 0s 8ms/step - loss: 0.0141 - val_loss: 0.0105\n",
      "Epoch 509/600\n",
      "4/4 [==============================] - 0s 8ms/step - loss: 0.0141 - val_loss: 0.0105\n",
      "Epoch 510/600\n",
      "4/4 [==============================] - 0s 9ms/step - loss: 0.0141 - val_loss: 0.0105\n",
      "Epoch 511/600\n",
      "4/4 [==============================] - 0s 8ms/step - loss: 0.0141 - val_loss: 0.0105\n",
      "Epoch 512/600\n",
      "4/4 [==============================] - 0s 10ms/step - loss: 0.0141 - val_loss: 0.0105\n",
      "Epoch 513/600\n",
      "4/4 [==============================] - 0s 10ms/step - loss: 0.0141 - val_loss: 0.0105\n",
      "Epoch 514/600\n",
      "4/4 [==============================] - 0s 8ms/step - loss: 0.0141 - val_loss: 0.0105\n",
      "Epoch 515/600\n",
      "4/4 [==============================] - 0s 9ms/step - loss: 0.0141 - val_loss: 0.0105\n",
      "Epoch 516/600\n",
      "4/4 [==============================] - 0s 8ms/step - loss: 0.0141 - val_loss: 0.0105\n",
      "Epoch 517/600\n",
      "4/4 [==============================] - 0s 10ms/step - loss: 0.0141 - val_loss: 0.0105\n",
      "Epoch 518/600\n",
      "4/4 [==============================] - 0s 8ms/step - loss: 0.0141 - val_loss: 0.0106\n",
      "Epoch 519/600\n",
      "4/4 [==============================] - 0s 10ms/step - loss: 0.0141 - val_loss: 0.0106\n",
      "Epoch 520/600\n",
      "4/4 [==============================] - 0s 6ms/step - loss: 0.0141 - val_loss: 0.0106\n",
      "Epoch 521/600\n",
      "4/4 [==============================] - 0s 10ms/step - loss: 0.0141 - val_loss: 0.0106\n",
      "Epoch 522/600\n",
      "4/4 [==============================] - 0s 10ms/step - loss: 0.0141 - val_loss: 0.0106\n",
      "Epoch 523/600\n",
      "4/4 [==============================] - 0s 9ms/step - loss: 0.0141 - val_loss: 0.0106\n",
      "Epoch 524/600\n",
      "4/4 [==============================] - 0s 9ms/step - loss: 0.0141 - val_loss: 0.0106\n",
      "Epoch 525/600\n",
      "4/4 [==============================] - 0s 11ms/step - loss: 0.0141 - val_loss: 0.0106\n",
      "Epoch 526/600\n",
      "4/4 [==============================] - 0s 8ms/step - loss: 0.0141 - val_loss: 0.0106\n",
      "Epoch 527/600\n",
      "4/4 [==============================] - 0s 8ms/step - loss: 0.0141 - val_loss: 0.0106\n",
      "Epoch 528/600\n",
      "4/4 [==============================] - 0s 11ms/step - loss: 0.0141 - val_loss: 0.0106\n",
      "Epoch 529/600\n",
      "4/4 [==============================] - 0s 11ms/step - loss: 0.0140 - val_loss: 0.0106\n",
      "Epoch 530/600\n",
      "4/4 [==============================] - 0s 8ms/step - loss: 0.0140 - val_loss: 0.0106\n",
      "Epoch 531/600\n",
      "4/4 [==============================] - 0s 7ms/step - loss: 0.0140 - val_loss: 0.0106\n",
      "Epoch 532/600\n",
      "4/4 [==============================] - 0s 10ms/step - loss: 0.0140 - val_loss: 0.0106\n",
      "Epoch 533/600\n",
      "4/4 [==============================] - 0s 10ms/step - loss: 0.0140 - val_loss: 0.0106\n",
      "Epoch 534/600\n",
      "4/4 [==============================] - 0s 10ms/step - loss: 0.0140 - val_loss: 0.0106\n",
      "Epoch 535/600\n",
      "4/4 [==============================] - 0s 8ms/step - loss: 0.0140 - val_loss: 0.0106\n",
      "Epoch 536/600\n",
      "4/4 [==============================] - 0s 10ms/step - loss: 0.0140 - val_loss: 0.0106\n",
      "Epoch 537/600\n",
      "4/4 [==============================] - 0s 10ms/step - loss: 0.0140 - val_loss: 0.0106\n",
      "Epoch 538/600\n",
      "4/4 [==============================] - 0s 9ms/step - loss: 0.0140 - val_loss: 0.0106\n",
      "Epoch 539/600\n",
      "4/4 [==============================] - 0s 10ms/step - loss: 0.0140 - val_loss: 0.0106\n",
      "Epoch 540/600\n",
      "4/4 [==============================] - 0s 8ms/step - loss: 0.0140 - val_loss: 0.0106\n",
      "Epoch 541/600\n",
      "4/4 [==============================] - 0s 10ms/step - loss: 0.0140 - val_loss: 0.0106\n",
      "Epoch 542/600\n",
      "4/4 [==============================] - 0s 10ms/step - loss: 0.0140 - val_loss: 0.0107\n",
      "Epoch 543/600\n",
      "4/4 [==============================] - 0s 11ms/step - loss: 0.0140 - val_loss: 0.0107\n",
      "Epoch 544/600\n",
      "4/4 [==============================] - 0s 8ms/step - loss: 0.0140 - val_loss: 0.0107\n",
      "Epoch 545/600\n",
      "4/4 [==============================] - 0s 9ms/step - loss: 0.0140 - val_loss: 0.0107\n",
      "Epoch 546/600\n",
      "4/4 [==============================] - 0s 11ms/step - loss: 0.0140 - val_loss: 0.0107\n",
      "Epoch 547/600\n",
      "4/4 [==============================] - 0s 10ms/step - loss: 0.0140 - val_loss: 0.0107\n",
      "Epoch 548/600\n",
      "4/4 [==============================] - 0s 10ms/step - loss: 0.0140 - val_loss: 0.0107\n",
      "Epoch 549/600\n",
      "4/4 [==============================] - 0s 11ms/step - loss: 0.0140 - val_loss: 0.0107\n",
      "Epoch 550/600\n",
      "4/4 [==============================] - 0s 10ms/step - loss: 0.0140 - val_loss: 0.0107\n",
      "Epoch 551/600\n",
      "4/4 [==============================] - 0s 10ms/step - loss: 0.0140 - val_loss: 0.0107\n",
      "Epoch 552/600\n",
      "4/4 [==============================] - 0s 10ms/step - loss: 0.0140 - val_loss: 0.0107\n",
      "Epoch 553/600\n",
      "4/4 [==============================] - 0s 9ms/step - loss: 0.0140 - val_loss: 0.0107\n",
      "Epoch 554/600\n",
      "4/4 [==============================] - 0s 8ms/step - loss: 0.0140 - val_loss: 0.0107\n",
      "Epoch 555/600\n",
      "4/4 [==============================] - 0s 11ms/step - loss: 0.0139 - val_loss: 0.0107\n",
      "Epoch 556/600\n",
      "4/4 [==============================] - 0s 12ms/step - loss: 0.0139 - val_loss: 0.0107\n",
      "Epoch 557/600\n",
      "4/4 [==============================] - 0s 11ms/step - loss: 0.0139 - val_loss: 0.0107\n",
      "Epoch 558/600\n",
      "4/4 [==============================] - 0s 8ms/step - loss: 0.0139 - val_loss: 0.0107\n",
      "Epoch 559/600\n",
      "4/4 [==============================] - 0s 9ms/step - loss: 0.0139 - val_loss: 0.0107\n",
      "Epoch 560/600\n",
      "4/4 [==============================] - 0s 11ms/step - loss: 0.0139 - val_loss: 0.0107\n",
      "Epoch 561/600\n",
      "4/4 [==============================] - 0s 9ms/step - loss: 0.0139 - val_loss: 0.0107\n",
      "Epoch 562/600\n",
      "4/4 [==============================] - 0s 9ms/step - loss: 0.0139 - val_loss: 0.0108\n",
      "Epoch 563/600\n",
      "4/4 [==============================] - 0s 11ms/step - loss: 0.0139 - val_loss: 0.0108\n",
      "Epoch 564/600\n",
      "4/4 [==============================] - 0s 5ms/step - loss: 0.0139 - val_loss: 0.0108\n",
      "Epoch 565/600\n",
      "4/4 [==============================] - 0s 9ms/step - loss: 0.0139 - val_loss: 0.0108\n",
      "Epoch 566/600\n",
      "4/4 [==============================] - 0s 7ms/step - loss: 0.0139 - val_loss: 0.0108\n",
      "Epoch 567/600\n",
      "4/4 [==============================] - 0s 8ms/step - loss: 0.0139 - val_loss: 0.0108\n",
      "Epoch 568/600\n",
      "4/4 [==============================] - 0s 7ms/step - loss: 0.0139 - val_loss: 0.0108\n",
      "Epoch 569/600\n",
      "4/4 [==============================] - 0s 8ms/step - loss: 0.0139 - val_loss: 0.0108\n",
      "Epoch 570/600\n",
      "4/4 [==============================] - 0s 8ms/step - loss: 0.0139 - val_loss: 0.0108\n",
      "Epoch 571/600\n",
      "4/4 [==============================] - 0s 10ms/step - loss: 0.0139 - val_loss: 0.0108\n",
      "Epoch 572/600\n",
      "4/4 [==============================] - 0s 11ms/step - loss: 0.0139 - val_loss: 0.0108\n",
      "Epoch 573/600\n",
      "4/4 [==============================] - 0s 10ms/step - loss: 0.0139 - val_loss: 0.0108\n",
      "Epoch 574/600\n",
      "4/4 [==============================] - 0s 11ms/step - loss: 0.0139 - val_loss: 0.0108\n",
      "Epoch 575/600\n",
      "4/4 [==============================] - 0s 11ms/step - loss: 0.0139 - val_loss: 0.0108\n",
      "Epoch 576/600\n",
      "4/4 [==============================] - 0s 9ms/step - loss: 0.0139 - val_loss: 0.0108\n",
      "Epoch 577/600\n",
      "4/4 [==============================] - 0s 8ms/step - loss: 0.0139 - val_loss: 0.0108\n",
      "Epoch 578/600\n",
      "4/4 [==============================] - 0s 10ms/step - loss: 0.0139 - val_loss: 0.0108\n",
      "Epoch 579/600\n",
      "4/4 [==============================] - 0s 7ms/step - loss: 0.0139 - val_loss: 0.0108\n",
      "Epoch 580/600\n",
      "4/4 [==============================] - 0s 10ms/step - loss: 0.0139 - val_loss: 0.0108\n",
      "Epoch 581/600\n",
      "4/4 [==============================] - 0s 11ms/step - loss: 0.0139 - val_loss: 0.0109\n",
      "Epoch 582/600\n",
      "4/4 [==============================] - 0s 10ms/step - loss: 0.0138 - val_loss: 0.0109\n",
      "Epoch 583/600\n",
      "4/4 [==============================] - 0s 11ms/step - loss: 0.0138 - val_loss: 0.0109\n",
      "Epoch 584/600\n",
      "4/4 [==============================] - 0s 11ms/step - loss: 0.0138 - val_loss: 0.0109\n",
      "Epoch 585/600\n",
      "4/4 [==============================] - 0s 9ms/step - loss: 0.0138 - val_loss: 0.0109\n",
      "Epoch 586/600\n",
      "4/4 [==============================] - 0s 12ms/step - loss: 0.0138 - val_loss: 0.0109\n",
      "Epoch 587/600\n",
      "4/4 [==============================] - 0s 10ms/step - loss: 0.0138 - val_loss: 0.0109\n",
      "Epoch 588/600\n",
      "4/4 [==============================] - 0s 11ms/step - loss: 0.0138 - val_loss: 0.0109\n",
      "Epoch 589/600\n",
      "4/4 [==============================] - 0s 11ms/step - loss: 0.0138 - val_loss: 0.0109\n",
      "Epoch 590/600\n",
      "4/4 [==============================] - 0s 8ms/step - loss: 0.0138 - val_loss: 0.0109\n",
      "Epoch 591/600\n",
      "4/4 [==============================] - 0s 11ms/step - loss: 0.0138 - val_loss: 0.0109\n",
      "Epoch 592/600\n",
      "4/4 [==============================] - 0s 11ms/step - loss: 0.0138 - val_loss: 0.0109\n",
      "Epoch 593/600\n",
      "4/4 [==============================] - 0s 13ms/step - loss: 0.0138 - val_loss: 0.0109\n",
      "Epoch 594/600\n",
      "4/4 [==============================] - 0s 8ms/step - loss: 0.0138 - val_loss: 0.0109\n",
      "Epoch 595/600\n",
      "4/4 [==============================] - 0s 11ms/step - loss: 0.0138 - val_loss: 0.0109\n",
      "Epoch 596/600\n",
      "4/4 [==============================] - 0s 12ms/step - loss: 0.0138 - val_loss: 0.0109\n",
      "Epoch 597/600\n",
      "4/4 [==============================] - 0s 14ms/step - loss: 0.0138 - val_loss: 0.0109\n",
      "Epoch 598/600\n",
      "4/4 [==============================] - 0s 14ms/step - loss: 0.0138 - val_loss: 0.0109\n",
      "Epoch 599/600\n",
      "4/4 [==============================] - 0s 15ms/step - loss: 0.0138 - val_loss: 0.0110\n",
      "Epoch 600/600\n",
      "4/4 [==============================] - 0s 13ms/step - loss: 0.0138 - val_loss: 0.0110\n"
     ]
    }
   ],
   "source": [
    "# create and fit the LSTM network\n",
    "model=Sequential()\n",
    "model.add(LSTM(50,return_sequences=True,input_shape=(1,look_back)))\n",
    "model.add(LSTM(50,return_sequences=True))\n",
    "model.add(LSTM(50))\n",
    "model.add(Dense(1))\n",
    "model.compile(loss='mean_squared_error', optimizer='adam')\n",
    "history = model.fit(trainX, trainY, epochs=600, batch_size=200, validation_data=(testX, testY), shuffle=False)"
   ]
  },
  {
   "cell_type": "code",
   "execution_count": 289,
   "metadata": {},
   "outputs": [
    {
     "data": {
      "image/png": "[encoded data removed]",
      "text/plain": [
       "<Figure size 432x288 with 1 Axes>"
      ]
     },
     "metadata": {
      "needs_background": "light"
     },
     "output_type": "display_data"
    }
   ],
   "source": [
    "# plot train and validation loss\n",
    "import matplotlib.pyplot as plt\n",
    "plt.plot(history.history['loss'])\n",
    "plt.plot(history.history['val_loss'])\n",
    "plt.title('Model train vs validation loss')\n",
    "plt.ylabel('loss')\n",
    "plt.xlabel('epoch')\n",
    "plt.legend(['train', 'validation'], loc='upper right')\n",
    "plt.show()"
   ]
  },
  {
   "cell_type": "markdown",
   "metadata": {},
   "source": [
    "Train and Validation Learning Curves Showing a Good Fit because The plot of validation loss decreases and has a small gap with the training loss."
   ]
  },
  {
   "cell_type": "code",
   "execution_count": 290,
   "metadata": {},
   "outputs": [],
   "source": [
    "#The model is fit, now we can estimate the performance of the model on the test datasets."
   ]
  },
  {
   "cell_type": "code",
   "execution_count": 291,
   "metadata": {},
   "outputs": [
    {
     "name": "stdout",
     "output_type": "stream",
     "text": [
      "WARNING:tensorflow:5 out of the last 13 calls to <function Model.make_predict_function.<locals>.predict_function at 0x00000215216118B0> triggered tf.function retracing. Tracing is expensive and the excessive number of tracings could be due to (1) creating @tf.function repeatedly in a loop, (2) passing tensors with different shapes, (3) passing Python objects instead of tensors. For (1), please define your @tf.function outside of the loop. For (2), @tf.function has experimental_relax_shapes=True option that relaxes argument shapes that can avoid unnecessary retracing. For (3), please refer to https://www.tensorflow.org/guide/function#controlling_retracing and https://www.tensorflow.org/api_docs/python/tf/function for  more details.\n",
      "Test Score: 43.60 RMSE\n"
     ]
    }
   ],
   "source": [
    "testPredict = model.predict(testX)\n",
    "# invert predictions\n",
    "test_Predict = scaler.inverse_transform(testPredict)\n",
    "test_Y = scaler.inverse_transform([testY])\n",
    "# calculate root mean squared error\n",
    "testScore = math.sqrt(mean_squared_error(test_Y[0], test_Predict[:,0]))\n",
    "print('Test Score: %.2f RMSE' % (testScore))"
   ]
  },
  {
   "cell_type": "code",
   "execution_count": 292,
   "metadata": {},
   "outputs": [
    {
     "data": {
      "application/vnd.plotly.v1+json": {
       "config": {
        "linkText": "Export to plot.ly",
        "plotlyServerURL": "https://plot.ly",
        "showLink": true
       },
       "data": [
        {
         "line": {
          "color": "rgba(255, 153, 51, 1.0)",
          "dash": "solid",
          "shape": "linear",
          "width": 1.3
         },
         "mode": "lines",
         "name": "rainfall",
         "text": "",
         "type": "scatter",
         "x": [
          737,
          738,
          739,
          740,
          741,
          742,
          743,
          744,
          745,
          746,
          747,
          748,
          749,
          750,
          751,
          752,
          753,
          754,
          755,
          756,
          757,
          758,
          759,
          760,
          761,
          762,
          763,
          764,
          765,
          766,
          767,
          768,
          769,
          770,
          771,
          772,
          773,
          774,
          775,
          776,
          777,
          778,
          779,
          780,
          781,
          782,
          783,
          784,
          785,
          786,
          787,
          788,
          789,
          790,
          791,
          792,
          793,
          794,
          795,
          796,
          797,
          798,
          799,
          800,
          801,
          802,
          803,
          804
         ],
         "y": [
          101.6,
          303.4,
          23.8,
          16.8,
          0.4,
          1.2,
          9.4,
          8.6,
          23.2,
          141.2,
          150.8,
          131.6,
          125,
          74.2,
          63.8,
          30.2,
          5.2,
          2.8,
          37.8,
          32,
          27.4,
          112.4,
          75.4,
          84.8,
          89.2,
          19.8,
          18,
          3.4,
          21.2,
          6,
          1.8,
          32.8,
          136.6,
          198.6,
          144.2,
          152.2,
          58,
          28.8,
          49.2,
          0.2,
          4,
          0.4,
          16.6,
          49.4,
          122.6,
          146.2,
          45.6,
          137.6,
          75.6,
          125.2,
          26,
          6.6,
          32.6,
          24.4,
          37.2,
          36.6,
          78.6,
          125.8,
          44,
          52.2,
          65.8,
          2.4,
          4.4,
          3.6,
          34.6,
          60.4,
          82.6,
          108.6
         ]
        },
        {
         "line": {
          "color": "rgba(55, 128, 191, 1.0)",
          "dash": "solid",
          "shape": "linear",
          "width": 1.3
         },
         "mode": "lines",
         "name": "Prediction",
         "text": "",
         "type": "scatter",
         "x": [
          737,
          738,
          739,
          740,
          741,
          742,
          743,
          744,
          745,
          746,
          747,
          748,
          749,
          750,
          751,
          752,
          753,
          754,
          755,
          756,
          757,
          758,
          759,
          760,
          761,
          762,
          763,
          764,
          765,
          766,
          767,
          768,
          769,
          770,
          771,
          772,
          773,
          774,
          775,
          776,
          777,
          778,
          779,
          780,
          781,
          782,
          783,
          784,
          785,
          786,
          787,
          788,
          789,
          790,
          791,
          792,
          793,
          794,
          795,
          796,
          797,
          798,
          799,
          800,
          801,
          802,
          803,
          804
         ],
         "y": [
          124.34966278076172,
          94.96166229248047,
          80.6893081665039,
          70.51206970214844,
          -6.196963310241699,
          -3.44209361076355,
          -13.50036334991455,
          29.63533592224121,
          27.743633270263672,
          89.96537017822266,
          138.86813354492188,
          148.13328552246094,
          190.08795166015625,
          140.7740020751953,
          141.56512451171875,
          47.977718353271484,
          19.81352996826172,
          5.7283525466918945,
          13.839280128479004,
          23.95033073425293,
          49.023834228515625,
          86.85150909423828,
          86.88927459716797,
          111.85928344726562,
          103.43055725097656,
          89.44247436523438,
          62.17346954345703,
          35.85725784301758,
          13.290616989135742,
          13.478597640991211,
          44.417789459228516,
          44.11802291870117,
          59.92753219604492,
          86.24793243408203,
          126.02276611328125,
          147.09910583496094,
          133.89651489257812,
          94.42855834960938,
          46.5068473815918,
          20.109975814819336,
          14.107674598693848,
          22.752769470214844,
          34.96059799194336,
          25.967418670654297,
          77.43148803710938,
          81.03230285644531,
          111.49833679199219,
          139.80970764160156,
          105.0923080444336,
          75.6412582397461,
          46.983970642089844,
          31.739177703857422,
          -0.4061024487018585,
          10.289278984069824,
          21.211355209350586,
          45.08946228027344,
          76.24684143066406,
          107.60649108886719,
          124.1355209350586,
          118.48433685302734,
          85.32677459716797,
          60.79001235961914,
          56.545082092285156,
          21.51338005065918,
          12.104601860046387,
          30.121456146240234,
          68.1954345703125,
          76.17876434326172
         ]
        }
       ],
       "layout": {
        "legend": {
         "bgcolor": "#F5F6F9",
         "font": {
          "color": "#4D5663"
         }
        },
        "paper_bgcolor": "#F5F6F9",
        "plot_bgcolor": "#F5F6F9",
        "template": {
         "data": {
          "bar": [
           {
            "error_x": {
             "color": "#2a3f5f"
            },
            "error_y": {
             "color": "#2a3f5f"
            },
            "marker": {
             "line": {
              "color": "#E5ECF6",
              "width": 0.5
             }
            },
            "type": "bar"
           }
          ],
          "barpolar": [
           {
            "marker": {
             "line": {
              "color": "#E5ECF6",
              "width": 0.5
             }
            },
            "type": "barpolar"
           }
          ],
          "carpet": [
           {
            "aaxis": {
             "endlinecolor": "#2a3f5f",
             "gridcolor": "white",
             "linecolor": "white",
             "minorgridcolor": "white",
             "startlinecolor": "#2a3f5f"
            },
            "baxis": {
             "endlinecolor": "#2a3f5f",
             "gridcolor": "white",
             "linecolor": "white",
             "minorgridcolor": "white",
             "startlinecolor": "#2a3f5f"
            },
            "type": "carpet"
           }
          ],
          "choropleth": [
           {
            "colorbar": {
             "outlinewidth": 0,
             "ticks": ""
            },
            "type": "choropleth"
           }
          ],
          "contour": [
           {
            "colorbar": {
             "outlinewidth": 0,
             "ticks": ""
            },
            "colorscale": [
             [
              0,
              "#0d0887"
             ],
             [
              0.1111111111111111,
              "#46039f"
             ],
             [
              0.2222222222222222,
              "#7201a8"
             ],
             [
              0.3333333333333333,
              "#9c179e"
             ],
             [
              0.4444444444444444,
              "#bd3786"
             ],
             [
              0.5555555555555556,
              "#d8576b"
             ],
             [
              0.6666666666666666,
              "#ed7953"
             ],
             [
              0.7777777777777778,
              "#fb9f3a"
             ],
             [
              0.8888888888888888,
              "#fdca26"
             ],
             [
              1,
              "#f0f921"
             ]
            ],
            "type": "contour"
           }
          ],
          "contourcarpet": [
           {
            "colorbar": {
             "outlinewidth": 0,
             "ticks": ""
            },
            "type": "contourcarpet"
           }
          ],
          "heatmap": [
           {
            "colorbar": {
             "outlinewidth": 0,
             "ticks": ""
            },
            "colorscale": [
             [
              0,
              "#0d0887"
             ],
             [
              0.1111111111111111,
              "#46039f"
             ],
             [
              0.2222222222222222,
              "#7201a8"
             ],
             [
              0.3333333333333333,
              "#9c179e"
             ],
             [
              0.4444444444444444,
              "#bd3786"
             ],
             [
              0.5555555555555556,
              "#d8576b"
             ],
             [
              0.6666666666666666,
              "#ed7953"
             ],
             [
              0.7777777777777778,
              "#fb9f3a"
             ],
             [
              0.8888888888888888,
              "#fdca26"
             ],
             [
              1,
              "#f0f921"
             ]
            ],
            "type": "heatmap"
           }
          ],
          "heatmapgl": [
           {
            "colorbar": {
             "outlinewidth": 0,
             "ticks": ""
            },
            "colorscale": [
             [
              0,
              "#0d0887"
             ],
             [
              0.1111111111111111,
              "#46039f"
             ],
             [
              0.2222222222222222,
              "#7201a8"
             ],
             [
              0.3333333333333333,
              "#9c179e"
             ],
             [
              0.4444444444444444,
              "#bd3786"
             ],
             [
              0.5555555555555556,
              "#d8576b"
             ],
             [
              0.6666666666666666,
              "#ed7953"
             ],
             [
              0.7777777777777778,
              "#fb9f3a"
             ],
             [
              0.8888888888888888,
              "#fdca26"
             ],
             [
              1,
              "#f0f921"
             ]
            ],
            "type": "heatmapgl"
           }
          ],
          "histogram": [
           {
            "marker": {
             "colorbar": {
              "outlinewidth": 0,
              "ticks": ""
             }
            },
            "type": "histogram"
           }
          ],
          "histogram2d": [
           {
            "colorbar": {
             "outlinewidth": 0,
             "ticks": ""
            },
            "colorscale": [
             [
              0,
              "#0d0887"
             ],
             [
              0.1111111111111111,
              "#46039f"
             ],
             [
              0.2222222222222222,
              "#7201a8"
             ],
             [
              0.3333333333333333,
              "#9c179e"
             ],
             [
              0.4444444444444444,
              "#bd3786"
             ],
             [
              0.5555555555555556,
              "#d8576b"
             ],
             [
              0.6666666666666666,
              "#ed7953"
             ],
             [
              0.7777777777777778,
              "#fb9f3a"
             ],
             [
              0.8888888888888888,
              "#fdca26"
             ],
             [
              1,
              "#f0f921"
             ]
            ],
            "type": "histogram2d"
           }
          ],
          "histogram2dcontour": [
           {
            "colorbar": {
             "outlinewidth": 0,
             "ticks": ""
            },
            "colorscale": [
             [
              0,
              "#0d0887"
             ],
             [
              0.1111111111111111,
              "#46039f"
             ],
             [
              0.2222222222222222,
              "#7201a8"
             ],
             [
              0.3333333333333333,
              "#9c179e"
             ],
             [
              0.4444444444444444,
              "#bd3786"
             ],
             [
              0.5555555555555556,
              "#d8576b"
             ],
             [
              0.6666666666666666,
              "#ed7953"
             ],
             [
              0.7777777777777778,
              "#fb9f3a"
             ],
             [
              0.8888888888888888,
              "#fdca26"
             ],
             [
              1,
              "#f0f921"
             ]
            ],
            "type": "histogram2dcontour"
           }
          ],
          "mesh3d": [
           {
            "colorbar": {
             "outlinewidth": 0,
             "ticks": ""
            },
            "type": "mesh3d"
           }
          ],
          "parcoords": [
           {
            "line": {
             "colorbar": {
              "outlinewidth": 0,
              "ticks": ""
             }
            },
            "type": "parcoords"
           }
          ],
          "pie": [
           {
            "automargin": true,
            "type": "pie"
           }
          ],
          "scatter": [
           {
            "marker": {
             "colorbar": {
              "outlinewidth": 0,
              "ticks": ""
             }
            },
            "type": "scatter"
           }
          ],
          "scatter3d": [
           {
            "line": {
             "colorbar": {
              "outlinewidth": 0,
              "ticks": ""
             }
            },
            "marker": {
             "colorbar": {
              "outlinewidth": 0,
              "ticks": ""
             }
            },
            "type": "scatter3d"
           }
          ],
          "scattercarpet": [
           {
            "marker": {
             "colorbar": {
              "outlinewidth": 0,
              "ticks": ""
             }
            },
            "type": "scattercarpet"
           }
          ],
          "scattergeo": [
           {
            "marker": {
             "colorbar": {
              "outlinewidth": 0,
              "ticks": ""
             }
            },
            "type": "scattergeo"
           }
          ],
          "scattergl": [
           {
            "marker": {
             "colorbar": {
              "outlinewidth": 0,
              "ticks": ""
             }
            },
            "type": "scattergl"
           }
          ],
          "scattermapbox": [
           {
            "marker": {
             "colorbar": {
              "outlinewidth": 0,
              "ticks": ""
             }
            },
            "type": "scattermapbox"
           }
          ],
          "scatterpolar": [
           {
            "marker": {
             "colorbar": {
              "outlinewidth": 0,
              "ticks": ""
             }
            },
            "type": "scatterpolar"
           }
          ],
          "scatterpolargl": [
           {
            "marker": {
             "colorbar": {
              "outlinewidth": 0,
              "ticks": ""
             }
            },
            "type": "scatterpolargl"
           }
          ],
          "scatterternary": [
           {
            "marker": {
             "colorbar": {
              "outlinewidth": 0,
              "ticks": ""
             }
            },
            "type": "scatterternary"
           }
          ],
          "surface": [
           {
            "colorbar": {
             "outlinewidth": 0,
             "ticks": ""
            },
            "colorscale": [
             [
              0,
              "#0d0887"
             ],
             [
              0.1111111111111111,
              "#46039f"
             ],
             [
              0.2222222222222222,
              "#7201a8"
             ],
             [
              0.3333333333333333,
              "#9c179e"
             ],
             [
              0.4444444444444444,
              "#bd3786"
             ],
             [
              0.5555555555555556,
              "#d8576b"
             ],
             [
              0.6666666666666666,
              "#ed7953"
             ],
             [
              0.7777777777777778,
              "#fb9f3a"
             ],
             [
              0.8888888888888888,
              "#fdca26"
             ],
             [
              1,
              "#f0f921"
             ]
            ],
            "type": "surface"
           }
          ],
          "table": [
           {
            "cells": {
             "fill": {
              "color": "#EBF0F8"
             },
             "line": {
              "color": "white"
             }
            },
            "header": {
             "fill": {
              "color": "#C8D4E3"
             },
             "line": {
              "color": "white"
             }
            },
            "type": "table"
           }
          ]
         },
         "layout": {
          "annotationdefaults": {
           "arrowcolor": "#2a3f5f",
           "arrowhead": 0,
           "arrowwidth": 1
          },
          "autotypenumbers": "strict",
          "coloraxis": {
           "colorbar": {
            "outlinewidth": 0,
            "ticks": ""
           }
          },
          "colorscale": {
           "diverging": [
            [
             0,
             "#8e0152"
            ],
            [
             0.1,
             "#c51b7d"
            ],
            [
             0.2,
             "#de77ae"
            ],
            [
             0.3,
             "#f1b6da"
            ],
            [
             0.4,
             "#fde0ef"
            ],
            [
             0.5,
             "#f7f7f7"
            ],
            [
             0.6,
             "#e6f5d0"
            ],
            [
             0.7,
             "#b8e186"
            ],
            [
             0.8,
             "#7fbc41"
            ],
            [
             0.9,
             "#4d9221"
            ],
            [
             1,
             "#276419"
            ]
           ],
           "sequential": [
            [
             0,
             "#0d0887"
            ],
            [
             0.1111111111111111,
             "#46039f"
            ],
            [
             0.2222222222222222,
             "#7201a8"
            ],
            [
             0.3333333333333333,
             "#9c179e"
            ],
            [
             0.4444444444444444,
             "#bd3786"
            ],
            [
             0.5555555555555556,
             "#d8576b"
            ],
            [
             0.6666666666666666,
             "#ed7953"
            ],
            [
             0.7777777777777778,
             "#fb9f3a"
            ],
            [
             0.8888888888888888,
             "#fdca26"
            ],
            [
             1,
             "#f0f921"
            ]
           ],
           "sequentialminus": [
            [
             0,
             "#0d0887"
            ],
            [
             0.1111111111111111,
             "#46039f"
            ],
            [
             0.2222222222222222,
             "#7201a8"
            ],
            [
             0.3333333333333333,
             "#9c179e"
            ],
            [
             0.4444444444444444,
             "#bd3786"
            ],
            [
             0.5555555555555556,
             "#d8576b"
            ],
            [
             0.6666666666666666,
             "#ed7953"
            ],
            [
             0.7777777777777778,
             "#fb9f3a"
            ],
            [
             0.8888888888888888,
             "#fdca26"
            ],
            [
             1,
             "#f0f921"
            ]
           ]
          },
          "colorway": [
           "#636efa",
           "#EF553B",
           "#00cc96",
           "#ab63fa",
           "#FFA15A",
           "#19d3f3",
           "#FF6692",
           "#B6E880",
           "#FF97FF",
           "#FECB52"
          ],
          "font": {
           "color": "#2a3f5f"
          },
          "geo": {
           "bgcolor": "white",
           "lakecolor": "white",
           "landcolor": "#E5ECF6",
           "showlakes": true,
           "showland": true,
           "subunitcolor": "white"
          },
          "hoverlabel": {
           "align": "left"
          },
          "hovermode": "closest",
          "mapbox": {
           "style": "light"
          },
          "paper_bgcolor": "white",
          "plot_bgcolor": "#E5ECF6",
          "polar": {
           "angularaxis": {
            "gridcolor": "white",
            "linecolor": "white",
            "ticks": ""
           },
           "bgcolor": "#E5ECF6",
           "radialaxis": {
            "gridcolor": "white",
            "linecolor": "white",
            "ticks": ""
           }
          },
          "scene": {
           "xaxis": {
            "backgroundcolor": "#E5ECF6",
            "gridcolor": "white",
            "gridwidth": 2,
            "linecolor": "white",
            "showbackground": true,
            "ticks": "",
            "zerolinecolor": "white"
           },
           "yaxis": {
            "backgroundcolor": "#E5ECF6",
            "gridcolor": "white",
            "gridwidth": 2,
            "linecolor": "white",
            "showbackground": true,
            "ticks": "",
            "zerolinecolor": "white"
           },
           "zaxis": {
            "backgroundcolor": "#E5ECF6",
            "gridcolor": "white",
            "gridwidth": 2,
            "linecolor": "white",
            "showbackground": true,
            "ticks": "",
            "zerolinecolor": "white"
           }
          },
          "shapedefaults": {
           "line": {
            "color": "#2a3f5f"
           }
          },
          "ternary": {
           "aaxis": {
            "gridcolor": "white",
            "linecolor": "white",
            "ticks": ""
           },
           "baxis": {
            "gridcolor": "white",
            "linecolor": "white",
            "ticks": ""
           },
           "bgcolor": "#E5ECF6",
           "caxis": {
            "gridcolor": "white",
            "linecolor": "white",
            "ticks": ""
           }
          },
          "title": {
           "x": 0.05
          },
          "xaxis": {
           "automargin": true,
           "gridcolor": "white",
           "linecolor": "white",
           "ticks": "",
           "title": {
            "standoff": 15
           },
           "zerolinecolor": "white",
           "zerolinewidth": 2
          },
          "yaxis": {
           "automargin": true,
           "gridcolor": "white",
           "linecolor": "white",
           "ticks": "",
           "title": {
            "standoff": 15
           },
           "zerolinecolor": "white",
           "zerolinewidth": 2
          }
         }
        },
        "title": {
         "font": {
          "color": "#4D5663"
         }
        },
        "xaxis": {
         "gridcolor": "#E1E5ED",
         "showgrid": true,
         "tickfont": {
          "color": "#4D5663"
         },
         "title": {
          "font": {
           "color": "#4D5663"
          },
          "text": ""
         },
         "zerolinecolor": "#E1E5ED"
        },
        "yaxis": {
         "gridcolor": "#E1E5ED",
         "showgrid": true,
         "tickfont": {
          "color": "#4D5663"
         },
         "title": {
          "font": {
           "color": "#4D5663"
          },
          "text": ""
         },
         "zerolinecolor": "#E1E5ED"
        }
       }
      },
      "text/html": [
       "<div>                            <div id=\"b11f4a37-ce09-4465-ae1e-5f8e5d761e61\" class=\"plotly-graph-div\" style=\"height:525px; width:100%;\"></div>            <script type=\"text/javascript\">                require([\"plotly\"], function(Plotly) {                    window.PLOTLYENV=window.PLOTLYENV || {};\n",
       "                    window.PLOTLYENV.BASE_URL='https://plot.ly';                                    if (document.getElementById(\"b11f4a37-ce09-4465-ae1e-5f8e5d761e61\")) {                    Plotly.newPlot(                        \"b11f4a37-ce09-4465-ae1e-5f8e5d761e61\",                        [{\"line\": {\"color\": \"rgba(255, 153, 51, 1.0)\", \"dash\": \"solid\", \"shape\": \"linear\", \"width\": 1.3}, \"mode\": \"lines\", \"name\": \"rainfall\", \"text\": \"\", \"type\": \"scatter\", \"x\": [737, 738, 739, 740, 741, 742, 743, 744, 745, 746, 747, 748, 749, 750, 751, 752, 753, 754, 755, 756, 757, 758, 759, 760, 761, 762, 763, 764, 765, 766, 767, 768, 769, 770, 771, 772, 773, 774, 775, 776, 777, 778, 779, 780, 781, 782, 783, 784, 785, 786, 787, 788, 789, 790, 791, 792, 793, 794, 795, 796, 797, 798, 799, 800, 801, 802, 803, 804], \"y\": [101.6, 303.4, 23.8, 16.8, 0.4, 1.2, 9.4, 8.6, 23.2, 141.2, 150.8, 131.6, 125.0, 74.2, 63.8, 30.2, 5.2, 2.8, 37.8, 32.0, 27.4, 112.4, 75.4, 84.8, 89.2, 19.8, 18.0, 3.4, 21.2, 6.0, 1.8, 32.8, 136.6, 198.6, 144.2, 152.2, 58.0, 28.8, 49.2, 0.2, 4.0, 0.4, 16.6, 49.4, 122.6, 146.2, 45.6, 137.6, 75.6, 125.2, 26.0, 6.6, 32.6, 24.4, 37.2, 36.6, 78.6, 125.8, 44.0, 52.2, 65.8, 2.4, 4.4, 3.6, 34.6, 60.4, 82.6, 108.6]}, {\"line\": {\"color\": \"rgba(55, 128, 191, 1.0)\", \"dash\": \"solid\", \"shape\": \"linear\", \"width\": 1.3}, \"mode\": \"lines\", \"name\": \"Prediction\", \"text\": \"\", \"type\": \"scatter\", \"x\": [737, 738, 739, 740, 741, 742, 743, 744, 745, 746, 747, 748, 749, 750, 751, 752, 753, 754, 755, 756, 757, 758, 759, 760, 761, 762, 763, 764, 765, 766, 767, 768, 769, 770, 771, 772, 773, 774, 775, 776, 777, 778, 779, 780, 781, 782, 783, 784, 785, 786, 787, 788, 789, 790, 791, 792, 793, 794, 795, 796, 797, 798, 799, 800, 801, 802, 803, 804], \"y\": [124.34966278076172, 94.96166229248047, 80.6893081665039, 70.51206970214844, -6.196963310241699, -3.44209361076355, -13.50036334991455, 29.63533592224121, 27.743633270263672, 89.96537017822266, 138.86813354492188, 148.13328552246094, 190.08795166015625, 140.7740020751953, 141.56512451171875, 47.977718353271484, 19.81352996826172, 5.7283525466918945, 13.839280128479004, 23.95033073425293, 49.023834228515625, 86.85150909423828, 86.88927459716797, 111.85928344726562, 103.43055725097656, 89.44247436523438, 62.17346954345703, 35.85725784301758, 13.290616989135742, 13.478597640991211, 44.417789459228516, 44.11802291870117, 59.92753219604492, 86.24793243408203, 126.02276611328125, 147.09910583496094, 133.89651489257812, 94.42855834960938, 46.5068473815918, 20.109975814819336, 14.107674598693848, 22.752769470214844, 34.96059799194336, 25.967418670654297, 77.43148803710938, 81.03230285644531, 111.49833679199219, 139.80970764160156, 105.0923080444336, 75.6412582397461, 46.983970642089844, 31.739177703857422, -0.4061024487018585, 10.289278984069824, 21.211355209350586, 45.08946228027344, 76.24684143066406, 107.60649108886719, 124.1355209350586, 118.48433685302734, 85.32677459716797, 60.79001235961914, 56.545082092285156, 21.51338005065918, 12.104601860046387, 30.121456146240234, 68.1954345703125, 76.17876434326172]}],                        {\"legend\": {\"bgcolor\": \"#F5F6F9\", \"font\": {\"color\": \"#4D5663\"}}, \"paper_bgcolor\": \"#F5F6F9\", \"plot_bgcolor\": \"#F5F6F9\", \"template\": {\"data\": {\"bar\": [{\"error_x\": {\"color\": \"#2a3f5f\"}, \"error_y\": {\"color\": \"#2a3f5f\"}, \"marker\": {\"line\": {\"color\": \"#E5ECF6\", \"width\": 0.5}}, \"type\": \"bar\"}], \"barpolar\": [{\"marker\": {\"line\": {\"color\": \"#E5ECF6\", \"width\": 0.5}}, \"type\": \"barpolar\"}], \"carpet\": [{\"aaxis\": {\"endlinecolor\": \"#2a3f5f\", \"gridcolor\": \"white\", \"linecolor\": \"white\", \"minorgridcolor\": \"white\", \"startlinecolor\": \"#2a3f5f\"}, \"baxis\": {\"endlinecolor\": \"#2a3f5f\", \"gridcolor\": \"white\", \"linecolor\": \"white\", \"minorgridcolor\": \"white\", \"startlinecolor\": \"#2a3f5f\"}, \"type\": \"carpet\"}], \"choropleth\": [{\"colorbar\": {\"outlinewidth\": 0, \"ticks\": \"\"}, \"type\": \"choropleth\"}], \"contour\": [{\"colorbar\": {\"outlinewidth\": 0, \"ticks\": \"\"}, \"colorscale\": [[0.0, \"#0d0887\"], [0.1111111111111111, \"#46039f\"], [0.2222222222222222, \"#7201a8\"], [0.3333333333333333, \"#9c179e\"], [0.4444444444444444, \"#bd3786\"], [0.5555555555555556, \"#d8576b\"], [0.6666666666666666, \"#ed7953\"], [0.7777777777777778, \"#fb9f3a\"], [0.8888888888888888, \"#fdca26\"], [1.0, \"#f0f921\"]], \"type\": \"contour\"}], \"contourcarpet\": [{\"colorbar\": {\"outlinewidth\": 0, \"ticks\": \"\"}, \"type\": \"contourcarpet\"}], \"heatmap\": [{\"colorbar\": {\"outlinewidth\": 0, \"ticks\": \"\"}, \"colorscale\": [[0.0, \"#0d0887\"], [0.1111111111111111, \"#46039f\"], [0.2222222222222222, \"#7201a8\"], [0.3333333333333333, \"#9c179e\"], [0.4444444444444444, \"#bd3786\"], [0.5555555555555556, \"#d8576b\"], [0.6666666666666666, \"#ed7953\"], [0.7777777777777778, \"#fb9f3a\"], [0.8888888888888888, \"#fdca26\"], [1.0, \"#f0f921\"]], \"type\": \"heatmap\"}], \"heatmapgl\": [{\"colorbar\": {\"outlinewidth\": 0, \"ticks\": \"\"}, \"colorscale\": [[0.0, \"#0d0887\"], [0.1111111111111111, \"#46039f\"], [0.2222222222222222, \"#7201a8\"], [0.3333333333333333, \"#9c179e\"], [0.4444444444444444, \"#bd3786\"], [0.5555555555555556, \"#d8576b\"], [0.6666666666666666, \"#ed7953\"], [0.7777777777777778, \"#fb9f3a\"], [0.8888888888888888, \"#fdca26\"], [1.0, \"#f0f921\"]], \"type\": \"heatmapgl\"}], \"histogram\": [{\"marker\": {\"colorbar\": {\"outlinewidth\": 0, \"ticks\": \"\"}}, \"type\": \"histogram\"}], \"histogram2d\": [{\"colorbar\": {\"outlinewidth\": 0, \"ticks\": \"\"}, \"colorscale\": [[0.0, \"#0d0887\"], [0.1111111111111111, \"#46039f\"], [0.2222222222222222, \"#7201a8\"], [0.3333333333333333, \"#9c179e\"], [0.4444444444444444, \"#bd3786\"], [0.5555555555555556, \"#d8576b\"], [0.6666666666666666, \"#ed7953\"], [0.7777777777777778, \"#fb9f3a\"], [0.8888888888888888, \"#fdca26\"], [1.0, \"#f0f921\"]], \"type\": \"histogram2d\"}], \"histogram2dcontour\": [{\"colorbar\": {\"outlinewidth\": 0, \"ticks\": \"\"}, \"colorscale\": [[0.0, \"#0d0887\"], [0.1111111111111111, \"#46039f\"], [0.2222222222222222, \"#7201a8\"], [0.3333333333333333, \"#9c179e\"], [0.4444444444444444, \"#bd3786\"], [0.5555555555555556, \"#d8576b\"], [0.6666666666666666, \"#ed7953\"], [0.7777777777777778, \"#fb9f3a\"], [0.8888888888888888, \"#fdca26\"], [1.0, \"#f0f921\"]], \"type\": \"histogram2dcontour\"}], \"mesh3d\": [{\"colorbar\": {\"outlinewidth\": 0, \"ticks\": \"\"}, \"type\": \"mesh3d\"}], \"parcoords\": [{\"line\": {\"colorbar\": {\"outlinewidth\": 0, \"ticks\": \"\"}}, \"type\": \"parcoords\"}], \"pie\": [{\"automargin\": true, \"type\": \"pie\"}], \"scatter\": [{\"marker\": {\"colorbar\": {\"outlinewidth\": 0, \"ticks\": \"\"}}, \"type\": \"scatter\"}], \"scatter3d\": [{\"line\": {\"colorbar\": {\"outlinewidth\": 0, \"ticks\": \"\"}}, \"marker\": {\"colorbar\": {\"outlinewidth\": 0, \"ticks\": \"\"}}, \"type\": \"scatter3d\"}], \"scattercarpet\": [{\"marker\": {\"colorbar\": {\"outlinewidth\": 0, \"ticks\": \"\"}}, \"type\": \"scattercarpet\"}], \"scattergeo\": [{\"marker\": {\"colorbar\": {\"outlinewidth\": 0, \"ticks\": \"\"}}, \"type\": \"scattergeo\"}], \"scattergl\": [{\"marker\": {\"colorbar\": {\"outlinewidth\": 0, \"ticks\": \"\"}}, \"type\": \"scattergl\"}], \"scattermapbox\": [{\"marker\": {\"colorbar\": {\"outlinewidth\": 0, \"ticks\": \"\"}}, \"type\": \"scattermapbox\"}], \"scatterpolar\": [{\"marker\": {\"colorbar\": {\"outlinewidth\": 0, \"ticks\": \"\"}}, \"type\": \"scatterpolar\"}], \"scatterpolargl\": [{\"marker\": {\"colorbar\": {\"outlinewidth\": 0, \"ticks\": \"\"}}, \"type\": \"scatterpolargl\"}], \"scatterternary\": [{\"marker\": {\"colorbar\": {\"outlinewidth\": 0, \"ticks\": \"\"}}, \"type\": \"scatterternary\"}], \"surface\": [{\"colorbar\": {\"outlinewidth\": 0, \"ticks\": \"\"}, \"colorscale\": [[0.0, \"#0d0887\"], [0.1111111111111111, \"#46039f\"], [0.2222222222222222, \"#7201a8\"], [0.3333333333333333, \"#9c179e\"], [0.4444444444444444, \"#bd3786\"], [0.5555555555555556, \"#d8576b\"], [0.6666666666666666, \"#ed7953\"], [0.7777777777777778, \"#fb9f3a\"], [0.8888888888888888, \"#fdca26\"], [1.0, \"#f0f921\"]], \"type\": \"surface\"}], \"table\": [{\"cells\": {\"fill\": {\"color\": \"#EBF0F8\"}, \"line\": {\"color\": \"white\"}}, \"header\": {\"fill\": {\"color\": \"#C8D4E3\"}, \"line\": {\"color\": \"white\"}}, \"type\": \"table\"}]}, \"layout\": {\"annotationdefaults\": {\"arrowcolor\": \"#2a3f5f\", \"arrowhead\": 0, \"arrowwidth\": 1}, \"autotypenumbers\": \"strict\", \"coloraxis\": {\"colorbar\": {\"outlinewidth\": 0, \"ticks\": \"\"}}, \"colorscale\": {\"diverging\": [[0, \"#8e0152\"], [0.1, \"#c51b7d\"], [0.2, \"#de77ae\"], [0.3, \"#f1b6da\"], [0.4, \"#fde0ef\"], [0.5, \"#f7f7f7\"], [0.6, \"#e6f5d0\"], [0.7, \"#b8e186\"], [0.8, \"#7fbc41\"], [0.9, \"#4d9221\"], [1, \"#276419\"]], \"sequential\": [[0.0, \"#0d0887\"], [0.1111111111111111, \"#46039f\"], [0.2222222222222222, \"#7201a8\"], [0.3333333333333333, \"#9c179e\"], [0.4444444444444444, \"#bd3786\"], [0.5555555555555556, \"#d8576b\"], [0.6666666666666666, \"#ed7953\"], [0.7777777777777778, \"#fb9f3a\"], [0.8888888888888888, \"#fdca26\"], [1.0, \"#f0f921\"]], \"sequentialminus\": [[0.0, \"#0d0887\"], [0.1111111111111111, \"#46039f\"], [0.2222222222222222, \"#7201a8\"], [0.3333333333333333, \"#9c179e\"], [0.4444444444444444, \"#bd3786\"], [0.5555555555555556, \"#d8576b\"], [0.6666666666666666, \"#ed7953\"], [0.7777777777777778, \"#fb9f3a\"], [0.8888888888888888, \"#fdca26\"], [1.0, \"#f0f921\"]]}, \"colorway\": [\"#636efa\", \"#EF553B\", \"#00cc96\", \"#ab63fa\", \"#FFA15A\", \"#19d3f3\", \"#FF6692\", \"#B6E880\", \"#FF97FF\", \"#FECB52\"], \"font\": {\"color\": \"#2a3f5f\"}, \"geo\": {\"bgcolor\": \"white\", \"lakecolor\": \"white\", \"landcolor\": \"#E5ECF6\", \"showlakes\": true, \"showland\": true, \"subunitcolor\": \"white\"}, \"hoverlabel\": {\"align\": \"left\"}, \"hovermode\": \"closest\", \"mapbox\": {\"style\": \"light\"}, \"paper_bgcolor\": \"white\", \"plot_bgcolor\": \"#E5ECF6\", \"polar\": {\"angularaxis\": {\"gridcolor\": \"white\", \"linecolor\": \"white\", \"ticks\": \"\"}, \"bgcolor\": \"#E5ECF6\", \"radialaxis\": {\"gridcolor\": \"white\", \"linecolor\": \"white\", \"ticks\": \"\"}}, \"scene\": {\"xaxis\": {\"backgroundcolor\": \"#E5ECF6\", \"gridcolor\": \"white\", \"gridwidth\": 2, \"linecolor\": \"white\", \"showbackground\": true, \"ticks\": \"\", \"zerolinecolor\": \"white\"}, \"yaxis\": {\"backgroundcolor\": \"#E5ECF6\", \"gridcolor\": \"white\", \"gridwidth\": 2, \"linecolor\": \"white\", \"showbackground\": true, \"ticks\": \"\", \"zerolinecolor\": \"white\"}, \"zaxis\": {\"backgroundcolor\": \"#E5ECF6\", \"gridcolor\": \"white\", \"gridwidth\": 2, \"linecolor\": \"white\", \"showbackground\": true, \"ticks\": \"\", \"zerolinecolor\": \"white\"}}, \"shapedefaults\": {\"line\": {\"color\": \"#2a3f5f\"}}, \"ternary\": {\"aaxis\": {\"gridcolor\": \"white\", \"linecolor\": \"white\", \"ticks\": \"\"}, \"baxis\": {\"gridcolor\": \"white\", \"linecolor\": \"white\", \"ticks\": \"\"}, \"bgcolor\": \"#E5ECF6\", \"caxis\": {\"gridcolor\": \"white\", \"linecolor\": \"white\", \"ticks\": \"\"}}, \"title\": {\"x\": 0.05}, \"xaxis\": {\"automargin\": true, \"gridcolor\": \"white\", \"linecolor\": \"white\", \"ticks\": \"\", \"title\": {\"standoff\": 15}, \"zerolinecolor\": \"white\", \"zerolinewidth\": 2}, \"yaxis\": {\"automargin\": true, \"gridcolor\": \"white\", \"linecolor\": \"white\", \"ticks\": \"\", \"title\": {\"standoff\": 15}, \"zerolinecolor\": \"white\", \"zerolinewidth\": 2}}}, \"title\": {\"font\": {\"color\": \"#4D5663\"}}, \"xaxis\": {\"gridcolor\": \"#E1E5ED\", \"showgrid\": true, \"tickfont\": {\"color\": \"#4D5663\"}, \"title\": {\"font\": {\"color\": \"#4D5663\"}, \"text\": \"\"}, \"zerolinecolor\": \"#E1E5ED\"}, \"yaxis\": {\"gridcolor\": \"#E1E5ED\", \"showgrid\": true, \"tickfont\": {\"color\": \"#4D5663\"}, \"title\": {\"font\": {\"color\": \"#4D5663\"}, \"text\": \"\"}, \"zerolinecolor\": \"#E1E5ED\"}},                        {\"showLink\": true, \"linkText\": \"Export to plot.ly\", \"plotlyServerURL\": \"https://plot.ly\", \"responsive\": true}                    ).then(function(){\n",
       "                            \n",
       "var gd = document.getElementById('b11f4a37-ce09-4465-ae1e-5f8e5d761e61');\n",
       "var x = new MutationObserver(function (mutations, observer) {{\n",
       "        var display = window.getComputedStyle(gd).display;\n",
       "        if (!display || display === 'none') {{\n",
       "            console.log([gd, 'removed!']);\n",
       "            Plotly.purge(gd);\n",
       "            observer.disconnect();\n",
       "        }}\n",
       "}});\n",
       "\n",
       "// Listen for the removal of the full notebook cells\n",
       "var notebookContainer = gd.closest('#notebook-container');\n",
       "if (notebookContainer) {{\n",
       "    x.observe(notebookContainer, {childList: true});\n",
       "}}\n",
       "\n",
       "// Listen for the clearing of the current output cell\n",
       "var outputEl = gd.closest('.output');\n",
       "if (outputEl) {{\n",
       "    x.observe(outputEl, {childList: true});\n",
       "}}\n",
       "\n",
       "                        })                };                });            </script>        </div>"
      ]
     },
     "metadata": {},
     "output_type": "display_data"
    }
   ],
   "source": [
    "data = df.drop(columns = ['month','year'])\n",
    "testindex=data[-(testY.size):]\n",
    "future_forecast = pd.DataFrame(test_Predict[:,0],index =testindex.index,columns=['Prediction'])\n",
    "pd.concat([testindex,future_forecast],axis=1).iplot()"
   ]
  },
  {
   "cell_type": "code",
   "execution_count": null,
   "metadata": {},
   "outputs": [],
   "source": []
  },
  {
   "cell_type": "markdown",
   "metadata": {},
   "source": [
    "# ARIMA MODEL "
   ]
  },
  {
   "cell_type": "code",
   "execution_count": 293,
   "metadata": {},
   "outputs": [
    {
     "name": "stdout",
     "output_type": "stream",
     "text": [
      "ADF Test Statistic : -7.200906045063223\n",
      "p-value : 2.3669408812724056e-10\n",
      "#Lags Used : 11\n",
      "Number of Observations : 793\n",
      "strong evidence against the null hypothesis(Ho), reject the null hypothesis. Data is stationary\n"
     ]
    }
   ],
   "source": [
    "test_result=adfuller(df['rainfall'])\n",
    "def adfuller_test(sales):\n",
    "    result=adfuller(sales)\n",
    "    labels = ['ADF Test Statistic','p-value','#Lags Used','Number of Observations']\n",
    "    for value,label in zip(result,labels):\n",
    "        print(label+' : '+str(value) )\n",
    "\n",
    "    if result[1] <= 0.05:\n",
    "        print(\"strong evidence against the null hypothesis(Ho), reject the null hypothesis. Data is stationary\")\n",
    "    else:\n",
    "        print(\"weak evidence against null hypothesis,indicating it is non-stationary \")\n",
    "\n",
    "adfuller_test(df['rainfall'])"
   ]
  },
  {
   "cell_type": "markdown",
   "metadata": {},
   "source": [
    "As we are working on univariate time series and Data is also stationary.So we can use Arima model."
   ]
  },
  {
   "cell_type": "code",
   "execution_count": 294,
   "metadata": {},
   "outputs": [
    {
     "name": "stdout",
     "output_type": "stream",
     "text": [
      "Train size =  724\n",
      "Validation size =  81\n"
     ]
    }
   ],
   "source": [
    "# split into train and test sets\n",
    "\n",
    "\n",
    "df = df.drop(columns = ['month','year'])\n",
    "data_train, data_val = train_test_split(df, test_size=0.10, random_state=42)\n",
    "data_train.index = range(len(data_train))\n",
    "data_val.index = range(len(data_val))\n",
    "\n",
    "print(\"Train size = \", len(data_train))\n",
    "print(\"Validation size = \", len(data_val))"
   ]
  },
  {
   "cell_type": "code",
   "execution_count": 295,
   "metadata": {},
   "outputs": [
    {
     "name": "stdout",
     "output_type": "stream",
     "text": [
      "Performing stepwise search to minimize aic\n",
      " ARIMA(0,0,0)(0,1,0)[12] intercept   : AIC=8565.700, Time=0.10 sec\n",
      " ARIMA(1,0,0)(1,1,0)[12] intercept   : AIC=8350.648, Time=0.59 sec\n",
      " ARIMA(0,0,1)(0,1,1)[12] intercept   : AIC=inf, Time=0.58 sec\n",
      " ARIMA(0,0,0)(0,1,0)[12]             : AIC=8563.709, Time=0.03 sec\n",
      " ARIMA(1,0,0)(0,1,0)[12] intercept   : AIC=8566.869, Time=0.06 sec\n",
      " ARIMA(1,0,0)(1,1,1)[12] intercept   : AIC=inf, Time=0.84 sec\n",
      " ARIMA(1,0,0)(0,1,1)[12] intercept   : AIC=inf, Time=0.53 sec\n",
      " ARIMA(0,0,0)(1,1,0)[12] intercept   : AIC=8349.712, Time=0.71 sec\n",
      " ARIMA(0,0,0)(1,1,1)[12] intercept   : AIC=inf, Time=0.53 sec\n",
      " ARIMA(0,0,0)(0,1,1)[12] intercept   : AIC=inf, Time=0.36 sec\n",
      " ARIMA(0,0,1)(1,1,0)[12] intercept   : AIC=8350.722, Time=0.45 sec\n",
      " ARIMA(1,0,1)(1,1,0)[12] intercept   : AIC=8352.257, Time=1.41 sec\n",
      " ARIMA(0,0,0)(1,1,0)[12]             : AIC=8347.719, Time=0.15 sec\n",
      " ARIMA(0,0,0)(1,1,1)[12]             : AIC=inf, Time=0.61 sec\n",
      " ARIMA(0,0,0)(0,1,1)[12]             : AIC=inf, Time=0.31 sec\n",
      " ARIMA(1,0,0)(1,1,0)[12]             : AIC=8348.655, Time=0.24 sec\n",
      " ARIMA(0,0,1)(1,1,0)[12]             : AIC=8348.727, Time=0.20 sec\n",
      " ARIMA(1,0,1)(1,1,0)[12]             : AIC=8350.259, Time=0.40 sec\n",
      "\n",
      "Best model:  ARIMA(0,0,0)(1,1,0)[12]          \n",
      "Total fit time: 8.121 seconds\n"
     ]
    },
    {
     "data": {
      "text/plain": [
       "ARIMA(order=(0, 0, 0), scoring_args={}, seasonal_order=(1, 1, 0, 12),\n",
       "      suppress_warnings=True, with_intercept=False)"
      ]
     },
     "execution_count": 295,
     "metadata": {},
     "output_type": "execute_result"
    }
   ],
   "source": [
    "model = auto_arima(data_train, start_p=0, start_q=0,max_p=3, max_q=3, m=12,start_P=0,start_Q=0,max_P=1,max_Q=1, seasonal=True,d=0, D=1, trace=True,error_action='ignore',suppress_warnings=True)\n",
    "model.fit(data_train)"
   ]
  },
  {
   "cell_type": "code",
   "execution_count": 296,
   "metadata": {},
   "outputs": [
    {
     "data": {
      "application/vnd.plotly.v1+json": {
       "config": {
        "linkText": "Export to plot.ly",
        "plotlyServerURL": "https://plot.ly",
        "showLink": true
       },
       "data": [
        {
         "line": {
          "color": "rgba(255, 153, 51, 1.0)",
          "dash": "solid",
          "shape": "linear",
          "width": 1.3
         },
         "mode": "lines",
         "name": "rainfall",
         "text": "",
         "type": "scatter",
         "x": [
          0,
          1,
          2,
          3,
          4,
          5,
          6,
          7,
          8,
          9,
          10,
          11,
          12,
          13,
          14,
          15,
          16,
          17,
          18,
          19,
          20,
          21,
          22,
          23,
          24,
          25,
          26,
          27,
          28,
          29,
          30,
          31,
          32,
          33,
          34,
          35,
          36,
          37,
          38,
          39,
          40,
          41,
          42,
          43,
          44,
          45,
          46,
          47,
          48,
          49,
          50,
          51,
          52,
          53,
          54,
          55,
          56,
          57,
          58,
          59,
          60,
          61,
          62,
          63,
          64,
          65,
          66,
          67,
          68,
          69,
          70,
          71,
          72,
          73,
          74,
          75,
          76,
          77,
          78,
          79,
          80
         ],
         "y": [
          174.9,
          0.4,
          66.3,
          38.4,
          16,
          37.2,
          21.2,
          44.4,
          54.7,
          6.6,
          0.5,
          76.4,
          51.2,
          34.6,
          0.3,
          41.8,
          83.7,
          16.6,
          120.4,
          84,
          75.4,
          144.3,
          155,
          219.2,
          0.5,
          54.9,
          26.1,
          7.4,
          85,
          0.5,
          53.2,
          95.4,
          64.4,
          0.8,
          0.2,
          80.5,
          135.4,
          29,
          31.4,
          71.9,
          1.8,
          187,
          13,
          51.4,
          11.6,
          65.1,
          85.6,
          16.8,
          50.4,
          0.4,
          109.5,
          7.5,
          0.4,
          117.6,
          14.5,
          84.8,
          21.8,
          84.1,
          4.2,
          1.4,
          160,
          9.6,
          26.7,
          134.9,
          174.4,
          0.9,
          10.6,
          6.6,
          40.4,
          0.5,
          3,
          181.4,
          106.3,
          3.6,
          56.2,
          51.2,
          183.1,
          5.2,
          66.7,
          75.4,
          15.4
         ]
        },
        {
         "line": {
          "color": "rgba(55, 128, 191, 1.0)",
          "dash": "solid",
          "shape": "linear",
          "width": 1.3
         },
         "mode": "lines",
         "name": "Prediction",
         "text": "",
         "type": "scatter",
         "x": [
          0,
          1,
          2,
          3,
          4,
          5,
          6,
          7,
          8,
          9,
          10,
          11,
          12,
          13,
          14,
          15,
          16,
          17,
          18,
          19,
          20,
          21,
          22,
          23,
          24,
          25,
          26,
          27,
          28,
          29,
          30,
          31,
          32,
          33,
          34,
          35,
          36,
          37,
          38,
          39,
          40,
          41,
          42,
          43,
          44,
          45,
          46,
          47,
          48,
          49,
          50,
          51,
          52,
          53,
          54,
          55,
          56,
          57,
          58,
          59,
          60,
          61,
          62,
          63,
          64,
          65,
          66,
          67,
          68,
          69,
          70,
          71,
          72,
          73,
          74,
          75,
          76,
          77,
          78,
          79,
          80
         ],
         "y": [
          102.64347721123579,
          55.19392534645597,
          30.42075974338858,
          76.90187073563524,
          94.99845739089092,
          37.4203259195865,
          84.32679585971276,
          63.21127174510024,
          15.560341334474444,
          35.74346729685212,
          122.52234088971748,
          84.3317617279498,
          50.156505198119014,
          60.83504850674422,
          47.48038823778687,
          42.864369154958794,
          56.055631323007304,
          34.69514564891585,
          87.70601939534437,
          81.0066989125796,
          16.050873783195158,
          51.90378630192909,
          186.56407725047782,
          62.91184480047847,
          77.55641524218743,
          57.89019836182098,
          38.574706157004506,
          60.63305432891593,
          76.38505575341944,
          36.11777856916862,
          85.94195457423093,
          71.71690594332898,
          15.79479985754966,
          43.46757308483014,
          153.13220362453765,
          74.09373955366527,
          63.252769182448574,
          59.42750611590506,
          43.223762456795015,
          51.357221551857876,
          65.77243362498392,
          35.37511781840336,
          86.86285390517985,
          76.5664806458261,
          15.928478792687406,
          47.871551336868116,
          170.5847312675212,
          68.25642605265035,
          70.71973860947317,
          58.624981364402416,
          40.79680354645369,
          56.19950857904049,
          71.31256826216882,
          35.76281093507131,
          86.3821144405116,
          74.03484459398443,
          15.858694031687177,
          45.572531155027214,
          161.47394302582452,
          71.30369394966038,
          66.82173720540753,
          59.04392544054031,
          42.06375519699631,
          53.67167693123261,
          68.4204374177193,
          35.56042249249261,
          86.63307610930919,
          75.35644112402329,
          15.895123951351342,
          46.772694619518866,
          166.23007142642382,
          69.71292079099186,
          68.85662098183036,
          58.82522297858833,
          41.40236514297726,
          54.99128743837286,
          69.93022397873084,
          35.66607585575444,
          86.50206593886452,
          74.66652466192355,
          15.876106345964214
         ]
        }
       ],
       "layout": {
        "legend": {
         "bgcolor": "#F5F6F9",
         "font": {
          "color": "#4D5663"
         }
        },
        "paper_bgcolor": "#F5F6F9",
        "plot_bgcolor": "#F5F6F9",
        "template": {
         "data": {
          "bar": [
           {
            "error_x": {
             "color": "#2a3f5f"
            },
            "error_y": {
             "color": "#2a3f5f"
            },
            "marker": {
             "line": {
              "color": "#E5ECF6",
              "width": 0.5
             }
            },
            "type": "bar"
           }
          ],
          "barpolar": [
           {
            "marker": {
             "line": {
              "color": "#E5ECF6",
              "width": 0.5
             }
            },
            "type": "barpolar"
           }
          ],
          "carpet": [
           {
            "aaxis": {
             "endlinecolor": "#2a3f5f",
             "gridcolor": "white",
             "linecolor": "white",
             "minorgridcolor": "white",
             "startlinecolor": "#2a3f5f"
            },
            "baxis": {
             "endlinecolor": "#2a3f5f",
             "gridcolor": "white",
             "linecolor": "white",
             "minorgridcolor": "white",
             "startlinecolor": "#2a3f5f"
            },
            "type": "carpet"
           }
          ],
          "choropleth": [
           {
            "colorbar": {
             "outlinewidth": 0,
             "ticks": ""
            },
            "type": "choropleth"
           }
          ],
          "contour": [
           {
            "colorbar": {
             "outlinewidth": 0,
             "ticks": ""
            },
            "colorscale": [
             [
              0,
              "#0d0887"
             ],
             [
              0.1111111111111111,
              "#46039f"
             ],
             [
              0.2222222222222222,
              "#7201a8"
             ],
             [
              0.3333333333333333,
              "#9c179e"
             ],
             [
              0.4444444444444444,
              "#bd3786"
             ],
             [
              0.5555555555555556,
              "#d8576b"
             ],
             [
              0.6666666666666666,
              "#ed7953"
             ],
             [
              0.7777777777777778,
              "#fb9f3a"
             ],
             [
              0.8888888888888888,
              "#fdca26"
             ],
             [
              1,
              "#f0f921"
             ]
            ],
            "type": "contour"
           }
          ],
          "contourcarpet": [
           {
            "colorbar": {
             "outlinewidth": 0,
             "ticks": ""
            },
            "type": "contourcarpet"
           }
          ],
          "heatmap": [
           {
            "colorbar": {
             "outlinewidth": 0,
             "ticks": ""
            },
            "colorscale": [
             [
              0,
              "#0d0887"
             ],
             [
              0.1111111111111111,
              "#46039f"
             ],
             [
              0.2222222222222222,
              "#7201a8"
             ],
             [
              0.3333333333333333,
              "#9c179e"
             ],
             [
              0.4444444444444444,
              "#bd3786"
             ],
             [
              0.5555555555555556,
              "#d8576b"
             ],
             [
              0.6666666666666666,
              "#ed7953"
             ],
             [
              0.7777777777777778,
              "#fb9f3a"
             ],
             [
              0.8888888888888888,
              "#fdca26"
             ],
             [
              1,
              "#f0f921"
             ]
            ],
            "type": "heatmap"
           }
          ],
          "heatmapgl": [
           {
            "colorbar": {
             "outlinewidth": 0,
             "ticks": ""
            },
            "colorscale": [
             [
              0,
              "#0d0887"
             ],
             [
              0.1111111111111111,
              "#46039f"
             ],
             [
              0.2222222222222222,
              "#7201a8"
             ],
             [
              0.3333333333333333,
              "#9c179e"
             ],
             [
              0.4444444444444444,
              "#bd3786"
             ],
             [
              0.5555555555555556,
              "#d8576b"
             ],
             [
              0.6666666666666666,
              "#ed7953"
             ],
             [
              0.7777777777777778,
              "#fb9f3a"
             ],
             [
              0.8888888888888888,
              "#fdca26"
             ],
             [
              1,
              "#f0f921"
             ]
            ],
            "type": "heatmapgl"
           }
          ],
          "histogram": [
           {
            "marker": {
             "colorbar": {
              "outlinewidth": 0,
              "ticks": ""
             }
            },
            "type": "histogram"
           }
          ],
          "histogram2d": [
           {
            "colorbar": {
             "outlinewidth": 0,
             "ticks": ""
            },
            "colorscale": [
             [
              0,
              "#0d0887"
             ],
             [
              0.1111111111111111,
              "#46039f"
             ],
             [
              0.2222222222222222,
              "#7201a8"
             ],
             [
              0.3333333333333333,
              "#9c179e"
             ],
             [
              0.4444444444444444,
              "#bd3786"
             ],
             [
              0.5555555555555556,
              "#d8576b"
             ],
             [
              0.6666666666666666,
              "#ed7953"
             ],
             [
              0.7777777777777778,
              "#fb9f3a"
             ],
             [
              0.8888888888888888,
              "#fdca26"
             ],
             [
              1,
              "#f0f921"
             ]
            ],
            "type": "histogram2d"
           }
          ],
          "histogram2dcontour": [
           {
            "colorbar": {
             "outlinewidth": 0,
             "ticks": ""
            },
            "colorscale": [
             [
              0,
              "#0d0887"
             ],
             [
              0.1111111111111111,
              "#46039f"
             ],
             [
              0.2222222222222222,
              "#7201a8"
             ],
             [
              0.3333333333333333,
              "#9c179e"
             ],
             [
              0.4444444444444444,
              "#bd3786"
             ],
             [
              0.5555555555555556,
              "#d8576b"
             ],
             [
              0.6666666666666666,
              "#ed7953"
             ],
             [
              0.7777777777777778,
              "#fb9f3a"
             ],
             [
              0.8888888888888888,
              "#fdca26"
             ],
             [
              1,
              "#f0f921"
             ]
            ],
            "type": "histogram2dcontour"
           }
          ],
          "mesh3d": [
           {
            "colorbar": {
             "outlinewidth": 0,
             "ticks": ""
            },
            "type": "mesh3d"
           }
          ],
          "parcoords": [
           {
            "line": {
             "colorbar": {
              "outlinewidth": 0,
              "ticks": ""
             }
            },
            "type": "parcoords"
           }
          ],
          "pie": [
           {
            "automargin": true,
            "type": "pie"
           }
          ],
          "scatter": [
           {
            "marker": {
             "colorbar": {
              "outlinewidth": 0,
              "ticks": ""
             }
            },
            "type": "scatter"
           }
          ],
          "scatter3d": [
           {
            "line": {
             "colorbar": {
              "outlinewidth": 0,
              "ticks": ""
             }
            },
            "marker": {
             "colorbar": {
              "outlinewidth": 0,
              "ticks": ""
             }
            },
            "type": "scatter3d"
           }
          ],
          "scattercarpet": [
           {
            "marker": {
             "colorbar": {
              "outlinewidth": 0,
              "ticks": ""
             }
            },
            "type": "scattercarpet"
           }
          ],
          "scattergeo": [
           {
            "marker": {
             "colorbar": {
              "outlinewidth": 0,
              "ticks": ""
             }
            },
            "type": "scattergeo"
           }
          ],
          "scattergl": [
           {
            "marker": {
             "colorbar": {
              "outlinewidth": 0,
              "ticks": ""
             }
            },
            "type": "scattergl"
           }
          ],
          "scattermapbox": [
           {
            "marker": {
             "colorbar": {
              "outlinewidth": 0,
              "ticks": ""
             }
            },
            "type": "scattermapbox"
           }
          ],
          "scatterpolar": [
           {
            "marker": {
             "colorbar": {
              "outlinewidth": 0,
              "ticks": ""
             }
            },
            "type": "scatterpolar"
           }
          ],
          "scatterpolargl": [
           {
            "marker": {
             "colorbar": {
              "outlinewidth": 0,
              "ticks": ""
             }
            },
            "type": "scatterpolargl"
           }
          ],
          "scatterternary": [
           {
            "marker": {
             "colorbar": {
              "outlinewidth": 0,
              "ticks": ""
             }
            },
            "type": "scatterternary"
           }
          ],
          "surface": [
           {
            "colorbar": {
             "outlinewidth": 0,
             "ticks": ""
            },
            "colorscale": [
             [
              0,
              "#0d0887"
             ],
             [
              0.1111111111111111,
              "#46039f"
             ],
             [
              0.2222222222222222,
              "#7201a8"
             ],
             [
              0.3333333333333333,
              "#9c179e"
             ],
             [
              0.4444444444444444,
              "#bd3786"
             ],
             [
              0.5555555555555556,
              "#d8576b"
             ],
             [
              0.6666666666666666,
              "#ed7953"
             ],
             [
              0.7777777777777778,
              "#fb9f3a"
             ],
             [
              0.8888888888888888,
              "#fdca26"
             ],
             [
              1,
              "#f0f921"
             ]
            ],
            "type": "surface"
           }
          ],
          "table": [
           {
            "cells": {
             "fill": {
              "color": "#EBF0F8"
             },
             "line": {
              "color": "white"
             }
            },
            "header": {
             "fill": {
              "color": "#C8D4E3"
             },
             "line": {
              "color": "white"
             }
            },
            "type": "table"
           }
          ]
         },
         "layout": {
          "annotationdefaults": {
           "arrowcolor": "#2a3f5f",
           "arrowhead": 0,
           "arrowwidth": 1
          },
          "autotypenumbers": "strict",
          "coloraxis": {
           "colorbar": {
            "outlinewidth": 0,
            "ticks": ""
           }
          },
          "colorscale": {
           "diverging": [
            [
             0,
             "#8e0152"
            ],
            [
             0.1,
             "#c51b7d"
            ],
            [
             0.2,
             "#de77ae"
            ],
            [
             0.3,
             "#f1b6da"
            ],
            [
             0.4,
             "#fde0ef"
            ],
            [
             0.5,
             "#f7f7f7"
            ],
            [
             0.6,
             "#e6f5d0"
            ],
            [
             0.7,
             "#b8e186"
            ],
            [
             0.8,
             "#7fbc41"
            ],
            [
             0.9,
             "#4d9221"
            ],
            [
             1,
             "#276419"
            ]
           ],
           "sequential": [
            [
             0,
             "#0d0887"
            ],
            [
             0.1111111111111111,
             "#46039f"
            ],
            [
             0.2222222222222222,
             "#7201a8"
            ],
            [
             0.3333333333333333,
             "#9c179e"
            ],
            [
             0.4444444444444444,
             "#bd3786"
            ],
            [
             0.5555555555555556,
             "#d8576b"
            ],
            [
             0.6666666666666666,
             "#ed7953"
            ],
            [
             0.7777777777777778,
             "#fb9f3a"
            ],
            [
             0.8888888888888888,
             "#fdca26"
            ],
            [
             1,
             "#f0f921"
            ]
           ],
           "sequentialminus": [
            [
             0,
             "#0d0887"
            ],
            [
             0.1111111111111111,
             "#46039f"
            ],
            [
             0.2222222222222222,
             "#7201a8"
            ],
            [
             0.3333333333333333,
             "#9c179e"
            ],
            [
             0.4444444444444444,
             "#bd3786"
            ],
            [
             0.5555555555555556,
             "#d8576b"
            ],
            [
             0.6666666666666666,
             "#ed7953"
            ],
            [
             0.7777777777777778,
             "#fb9f3a"
            ],
            [
             0.8888888888888888,
             "#fdca26"
            ],
            [
             1,
             "#f0f921"
            ]
           ]
          },
          "colorway": [
           "#636efa",
           "#EF553B",
           "#00cc96",
           "#ab63fa",
           "#FFA15A",
           "#19d3f3",
           "#FF6692",
           "#B6E880",
           "#FF97FF",
           "#FECB52"
          ],
          "font": {
           "color": "#2a3f5f"
          },
          "geo": {
           "bgcolor": "white",
           "lakecolor": "white",
           "landcolor": "#E5ECF6",
           "showlakes": true,
           "showland": true,
           "subunitcolor": "white"
          },
          "hoverlabel": {
           "align": "left"
          },
          "hovermode": "closest",
          "mapbox": {
           "style": "light"
          },
          "paper_bgcolor": "white",
          "plot_bgcolor": "#E5ECF6",
          "polar": {
           "angularaxis": {
            "gridcolor": "white",
            "linecolor": "white",
            "ticks": ""
           },
           "bgcolor": "#E5ECF6",
           "radialaxis": {
            "gridcolor": "white",
            "linecolor": "white",
            "ticks": ""
           }
          },
          "scene": {
           "xaxis": {
            "backgroundcolor": "#E5ECF6",
            "gridcolor": "white",
            "gridwidth": 2,
            "linecolor": "white",
            "showbackground": true,
            "ticks": "",
            "zerolinecolor": "white"
           },
           "yaxis": {
            "backgroundcolor": "#E5ECF6",
            "gridcolor": "white",
            "gridwidth": 2,
            "linecolor": "white",
            "showbackground": true,
            "ticks": "",
            "zerolinecolor": "white"
           },
           "zaxis": {
            "backgroundcolor": "#E5ECF6",
            "gridcolor": "white",
            "gridwidth": 2,
            "linecolor": "white",
            "showbackground": true,
            "ticks": "",
            "zerolinecolor": "white"
           }
          },
          "shapedefaults": {
           "line": {
            "color": "#2a3f5f"
           }
          },
          "ternary": {
           "aaxis": {
            "gridcolor": "white",
            "linecolor": "white",
            "ticks": ""
           },
           "baxis": {
            "gridcolor": "white",
            "linecolor": "white",
            "ticks": ""
           },
           "bgcolor": "#E5ECF6",
           "caxis": {
            "gridcolor": "white",
            "linecolor": "white",
            "ticks": ""
           }
          },
          "title": {
           "x": 0.05
          },
          "xaxis": {
           "automargin": true,
           "gridcolor": "white",
           "linecolor": "white",
           "ticks": "",
           "title": {
            "standoff": 15
           },
           "zerolinecolor": "white",
           "zerolinewidth": 2
          },
          "yaxis": {
           "automargin": true,
           "gridcolor": "white",
           "linecolor": "white",
           "ticks": "",
           "title": {
            "standoff": 15
           },
           "zerolinecolor": "white",
           "zerolinewidth": 2
          }
         }
        },
        "title": {
         "font": {
          "color": "#4D5663"
         }
        },
        "xaxis": {
         "gridcolor": "#E1E5ED",
         "showgrid": true,
         "tickfont": {
          "color": "#4D5663"
         },
         "title": {
          "font": {
           "color": "#4D5663"
          },
          "text": ""
         },
         "zerolinecolor": "#E1E5ED"
        },
        "yaxis": {
         "gridcolor": "#E1E5ED",
         "showgrid": true,
         "tickfont": {
          "color": "#4D5663"
         },
         "title": {
          "font": {
           "color": "#4D5663"
          },
          "text": ""
         },
         "zerolinecolor": "#E1E5ED"
        }
       }
      },
      "text/html": [
       "<div>                            <div id=\"694df13a-3af9-4e7e-9155-e093ca4e53d1\" class=\"plotly-graph-div\" style=\"height:525px; width:100%;\"></div>            <script type=\"text/javascript\">                require([\"plotly\"], function(Plotly) {                    window.PLOTLYENV=window.PLOTLYENV || {};\n",
       "                    window.PLOTLYENV.BASE_URL='https://plot.ly';                                    if (document.getElementById(\"694df13a-3af9-4e7e-9155-e093ca4e53d1\")) {                    Plotly.newPlot(                        \"694df13a-3af9-4e7e-9155-e093ca4e53d1\",                        [{\"line\": {\"color\": \"rgba(255, 153, 51, 1.0)\", \"dash\": \"solid\", \"shape\": \"linear\", \"width\": 1.3}, \"mode\": \"lines\", \"name\": \"rainfall\", \"text\": \"\", \"type\": \"scatter\", \"x\": [0, 1, 2, 3, 4, 5, 6, 7, 8, 9, 10, 11, 12, 13, 14, 15, 16, 17, 18, 19, 20, 21, 22, 23, 24, 25, 26, 27, 28, 29, 30, 31, 32, 33, 34, 35, 36, 37, 38, 39, 40, 41, 42, 43, 44, 45, 46, 47, 48, 49, 50, 51, 52, 53, 54, 55, 56, 57, 58, 59, 60, 61, 62, 63, 64, 65, 66, 67, 68, 69, 70, 71, 72, 73, 74, 75, 76, 77, 78, 79, 80], \"y\": [174.9, 0.4, 66.3, 38.4, 16.0, 37.2, 21.2, 44.4, 54.7, 6.6, 0.5, 76.4, 51.2, 34.6, 0.3, 41.8, 83.7, 16.6, 120.4, 84.0, 75.4, 144.3, 155.0, 219.2, 0.5, 54.9, 26.1, 7.4, 85.0, 0.5, 53.2, 95.4, 64.4, 0.8, 0.2, 80.5, 135.4, 29.0, 31.4, 71.9, 1.8, 187.0, 13.0, 51.4, 11.6, 65.1, 85.6, 16.8, 50.4, 0.4, 109.5, 7.5, 0.4, 117.6, 14.5, 84.8, 21.8, 84.1, 4.2, 1.4, 160.0, 9.6, 26.7, 134.9, 174.4, 0.9, 10.6, 6.6, 40.4, 0.5, 3.0, 181.4, 106.3, 3.6, 56.2, 51.2, 183.1, 5.2, 66.7, 75.4, 15.4]}, {\"line\": {\"color\": \"rgba(55, 128, 191, 1.0)\", \"dash\": \"solid\", \"shape\": \"linear\", \"width\": 1.3}, \"mode\": \"lines\", \"name\": \"Prediction\", \"text\": \"\", \"type\": \"scatter\", \"x\": [0, 1, 2, 3, 4, 5, 6, 7, 8, 9, 10, 11, 12, 13, 14, 15, 16, 17, 18, 19, 20, 21, 22, 23, 24, 25, 26, 27, 28, 29, 30, 31, 32, 33, 34, 35, 36, 37, 38, 39, 40, 41, 42, 43, 44, 45, 46, 47, 48, 49, 50, 51, 52, 53, 54, 55, 56, 57, 58, 59, 60, 61, 62, 63, 64, 65, 66, 67, 68, 69, 70, 71, 72, 73, 74, 75, 76, 77, 78, 79, 80], \"y\": [102.64347721123579, 55.19392534645597, 30.42075974338858, 76.90187073563524, 94.99845739089092, 37.4203259195865, 84.32679585971276, 63.21127174510024, 15.560341334474444, 35.74346729685212, 122.52234088971748, 84.3317617279498, 50.156505198119014, 60.83504850674422, 47.48038823778687, 42.864369154958794, 56.055631323007304, 34.69514564891585, 87.70601939534437, 81.0066989125796, 16.050873783195158, 51.90378630192909, 186.56407725047782, 62.91184480047847, 77.55641524218743, 57.89019836182098, 38.574706157004506, 60.63305432891593, 76.38505575341944, 36.11777856916862, 85.94195457423093, 71.71690594332898, 15.79479985754966, 43.46757308483014, 153.13220362453765, 74.09373955366527, 63.252769182448574, 59.42750611590506, 43.223762456795015, 51.357221551857876, 65.77243362498392, 35.37511781840336, 86.86285390517985, 76.5664806458261, 15.928478792687406, 47.871551336868116, 170.5847312675212, 68.25642605265035, 70.71973860947317, 58.624981364402416, 40.79680354645369, 56.19950857904049, 71.31256826216882, 35.76281093507131, 86.3821144405116, 74.03484459398443, 15.858694031687177, 45.572531155027214, 161.47394302582452, 71.30369394966038, 66.82173720540753, 59.04392544054031, 42.06375519699631, 53.67167693123261, 68.4204374177193, 35.56042249249261, 86.63307610930919, 75.35644112402329, 15.895123951351342, 46.772694619518866, 166.23007142642382, 69.71292079099186, 68.85662098183036, 58.82522297858833, 41.40236514297726, 54.99128743837286, 69.93022397873084, 35.66607585575444, 86.50206593886452, 74.66652466192355, 15.876106345964214]}],                        {\"legend\": {\"bgcolor\": \"#F5F6F9\", \"font\": {\"color\": \"#4D5663\"}}, \"paper_bgcolor\": \"#F5F6F9\", \"plot_bgcolor\": \"#F5F6F9\", \"template\": {\"data\": {\"bar\": [{\"error_x\": {\"color\": \"#2a3f5f\"}, \"error_y\": {\"color\": \"#2a3f5f\"}, \"marker\": {\"line\": {\"color\": \"#E5ECF6\", \"width\": 0.5}}, \"type\": \"bar\"}], \"barpolar\": [{\"marker\": {\"line\": {\"color\": \"#E5ECF6\", \"width\": 0.5}}, \"type\": \"barpolar\"}], \"carpet\": [{\"aaxis\": {\"endlinecolor\": \"#2a3f5f\", \"gridcolor\": \"white\", \"linecolor\": \"white\", \"minorgridcolor\": \"white\", \"startlinecolor\": \"#2a3f5f\"}, \"baxis\": {\"endlinecolor\": \"#2a3f5f\", \"gridcolor\": \"white\", \"linecolor\": \"white\", \"minorgridcolor\": \"white\", \"startlinecolor\": \"#2a3f5f\"}, \"type\": \"carpet\"}], \"choropleth\": [{\"colorbar\": {\"outlinewidth\": 0, \"ticks\": \"\"}, \"type\": \"choropleth\"}], \"contour\": [{\"colorbar\": {\"outlinewidth\": 0, \"ticks\": \"\"}, \"colorscale\": [[0.0, \"#0d0887\"], [0.1111111111111111, \"#46039f\"], [0.2222222222222222, \"#7201a8\"], [0.3333333333333333, \"#9c179e\"], [0.4444444444444444, \"#bd3786\"], [0.5555555555555556, \"#d8576b\"], [0.6666666666666666, \"#ed7953\"], [0.7777777777777778, \"#fb9f3a\"], [0.8888888888888888, \"#fdca26\"], [1.0, \"#f0f921\"]], \"type\": \"contour\"}], \"contourcarpet\": [{\"colorbar\": {\"outlinewidth\": 0, \"ticks\": \"\"}, \"type\": \"contourcarpet\"}], \"heatmap\": [{\"colorbar\": {\"outlinewidth\": 0, \"ticks\": \"\"}, \"colorscale\": [[0.0, \"#0d0887\"], [0.1111111111111111, \"#46039f\"], [0.2222222222222222, \"#7201a8\"], [0.3333333333333333, \"#9c179e\"], [0.4444444444444444, \"#bd3786\"], [0.5555555555555556, \"#d8576b\"], [0.6666666666666666, \"#ed7953\"], [0.7777777777777778, \"#fb9f3a\"], [0.8888888888888888, \"#fdca26\"], [1.0, \"#f0f921\"]], \"type\": \"heatmap\"}], \"heatmapgl\": [{\"colorbar\": {\"outlinewidth\": 0, \"ticks\": \"\"}, \"colorscale\": [[0.0, \"#0d0887\"], [0.1111111111111111, \"#46039f\"], [0.2222222222222222, \"#7201a8\"], [0.3333333333333333, \"#9c179e\"], [0.4444444444444444, \"#bd3786\"], [0.5555555555555556, \"#d8576b\"], [0.6666666666666666, \"#ed7953\"], [0.7777777777777778, \"#fb9f3a\"], [0.8888888888888888, \"#fdca26\"], [1.0, \"#f0f921\"]], \"type\": \"heatmapgl\"}], \"histogram\": [{\"marker\": {\"colorbar\": {\"outlinewidth\": 0, \"ticks\": \"\"}}, \"type\": \"histogram\"}], \"histogram2d\": [{\"colorbar\": {\"outlinewidth\": 0, \"ticks\": \"\"}, \"colorscale\": [[0.0, \"#0d0887\"], [0.1111111111111111, \"#46039f\"], [0.2222222222222222, \"#7201a8\"], [0.3333333333333333, \"#9c179e\"], [0.4444444444444444, \"#bd3786\"], [0.5555555555555556, \"#d8576b\"], [0.6666666666666666, \"#ed7953\"], [0.7777777777777778, \"#fb9f3a\"], [0.8888888888888888, \"#fdca26\"], [1.0, \"#f0f921\"]], \"type\": \"histogram2d\"}], \"histogram2dcontour\": [{\"colorbar\": {\"outlinewidth\": 0, \"ticks\": \"\"}, \"colorscale\": [[0.0, \"#0d0887\"], [0.1111111111111111, \"#46039f\"], [0.2222222222222222, \"#7201a8\"], [0.3333333333333333, \"#9c179e\"], [0.4444444444444444, \"#bd3786\"], [0.5555555555555556, \"#d8576b\"], [0.6666666666666666, \"#ed7953\"], [0.7777777777777778, \"#fb9f3a\"], [0.8888888888888888, \"#fdca26\"], [1.0, \"#f0f921\"]], \"type\": \"histogram2dcontour\"}], \"mesh3d\": [{\"colorbar\": {\"outlinewidth\": 0, \"ticks\": \"\"}, \"type\": \"mesh3d\"}], \"parcoords\": [{\"line\": {\"colorbar\": {\"outlinewidth\": 0, \"ticks\": \"\"}}, \"type\": \"parcoords\"}], \"pie\": [{\"automargin\": true, \"type\": \"pie\"}], \"scatter\": [{\"marker\": {\"colorbar\": {\"outlinewidth\": 0, \"ticks\": \"\"}}, \"type\": \"scatter\"}], \"scatter3d\": [{\"line\": {\"colorbar\": {\"outlinewidth\": 0, \"ticks\": \"\"}}, \"marker\": {\"colorbar\": {\"outlinewidth\": 0, \"ticks\": \"\"}}, \"type\": \"scatter3d\"}], \"scattercarpet\": [{\"marker\": {\"colorbar\": {\"outlinewidth\": 0, \"ticks\": \"\"}}, \"type\": \"scattercarpet\"}], \"scattergeo\": [{\"marker\": {\"colorbar\": {\"outlinewidth\": 0, \"ticks\": \"\"}}, \"type\": \"scattergeo\"}], \"scattergl\": [{\"marker\": {\"colorbar\": {\"outlinewidth\": 0, \"ticks\": \"\"}}, \"type\": \"scattergl\"}], \"scattermapbox\": [{\"marker\": {\"colorbar\": {\"outlinewidth\": 0, \"ticks\": \"\"}}, \"type\": \"scattermapbox\"}], \"scatterpolar\": [{\"marker\": {\"colorbar\": {\"outlinewidth\": 0, \"ticks\": \"\"}}, \"type\": \"scatterpolar\"}], \"scatterpolargl\": [{\"marker\": {\"colorbar\": {\"outlinewidth\": 0, \"ticks\": \"\"}}, \"type\": \"scatterpolargl\"}], \"scatterternary\": [{\"marker\": {\"colorbar\": {\"outlinewidth\": 0, \"ticks\": \"\"}}, \"type\": \"scatterternary\"}], \"surface\": [{\"colorbar\": {\"outlinewidth\": 0, \"ticks\": \"\"}, \"colorscale\": [[0.0, \"#0d0887\"], [0.1111111111111111, \"#46039f\"], [0.2222222222222222, \"#7201a8\"], [0.3333333333333333, \"#9c179e\"], [0.4444444444444444, \"#bd3786\"], [0.5555555555555556, \"#d8576b\"], [0.6666666666666666, \"#ed7953\"], [0.7777777777777778, \"#fb9f3a\"], [0.8888888888888888, \"#fdca26\"], [1.0, \"#f0f921\"]], \"type\": \"surface\"}], \"table\": [{\"cells\": {\"fill\": {\"color\": \"#EBF0F8\"}, \"line\": {\"color\": \"white\"}}, \"header\": {\"fill\": {\"color\": \"#C8D4E3\"}, \"line\": {\"color\": \"white\"}}, \"type\": \"table\"}]}, \"layout\": {\"annotationdefaults\": {\"arrowcolor\": \"#2a3f5f\", \"arrowhead\": 0, \"arrowwidth\": 1}, \"autotypenumbers\": \"strict\", \"coloraxis\": {\"colorbar\": {\"outlinewidth\": 0, \"ticks\": \"\"}}, \"colorscale\": {\"diverging\": [[0, \"#8e0152\"], [0.1, \"#c51b7d\"], [0.2, \"#de77ae\"], [0.3, \"#f1b6da\"], [0.4, \"#fde0ef\"], [0.5, \"#f7f7f7\"], [0.6, \"#e6f5d0\"], [0.7, \"#b8e186\"], [0.8, \"#7fbc41\"], [0.9, \"#4d9221\"], [1, \"#276419\"]], \"sequential\": [[0.0, \"#0d0887\"], [0.1111111111111111, \"#46039f\"], [0.2222222222222222, \"#7201a8\"], [0.3333333333333333, \"#9c179e\"], [0.4444444444444444, \"#bd3786\"], [0.5555555555555556, \"#d8576b\"], [0.6666666666666666, \"#ed7953\"], [0.7777777777777778, \"#fb9f3a\"], [0.8888888888888888, \"#fdca26\"], [1.0, \"#f0f921\"]], \"sequentialminus\": [[0.0, \"#0d0887\"], [0.1111111111111111, \"#46039f\"], [0.2222222222222222, \"#7201a8\"], [0.3333333333333333, \"#9c179e\"], [0.4444444444444444, \"#bd3786\"], [0.5555555555555556, \"#d8576b\"], [0.6666666666666666, \"#ed7953\"], [0.7777777777777778, \"#fb9f3a\"], [0.8888888888888888, \"#fdca26\"], [1.0, \"#f0f921\"]]}, \"colorway\": [\"#636efa\", \"#EF553B\", \"#00cc96\", \"#ab63fa\", \"#FFA15A\", \"#19d3f3\", \"#FF6692\", \"#B6E880\", \"#FF97FF\", \"#FECB52\"], \"font\": {\"color\": \"#2a3f5f\"}, \"geo\": {\"bgcolor\": \"white\", \"lakecolor\": \"white\", \"landcolor\": \"#E5ECF6\", \"showlakes\": true, \"showland\": true, \"subunitcolor\": \"white\"}, \"hoverlabel\": {\"align\": \"left\"}, \"hovermode\": \"closest\", \"mapbox\": {\"style\": \"light\"}, \"paper_bgcolor\": \"white\", \"plot_bgcolor\": \"#E5ECF6\", \"polar\": {\"angularaxis\": {\"gridcolor\": \"white\", \"linecolor\": \"white\", \"ticks\": \"\"}, \"bgcolor\": \"#E5ECF6\", \"radialaxis\": {\"gridcolor\": \"white\", \"linecolor\": \"white\", \"ticks\": \"\"}}, \"scene\": {\"xaxis\": {\"backgroundcolor\": \"#E5ECF6\", \"gridcolor\": \"white\", \"gridwidth\": 2, \"linecolor\": \"white\", \"showbackground\": true, \"ticks\": \"\", \"zerolinecolor\": \"white\"}, \"yaxis\": {\"backgroundcolor\": \"#E5ECF6\", \"gridcolor\": \"white\", \"gridwidth\": 2, \"linecolor\": \"white\", \"showbackground\": true, \"ticks\": \"\", \"zerolinecolor\": \"white\"}, \"zaxis\": {\"backgroundcolor\": \"#E5ECF6\", \"gridcolor\": \"white\", \"gridwidth\": 2, \"linecolor\": \"white\", \"showbackground\": true, \"ticks\": \"\", \"zerolinecolor\": \"white\"}}, \"shapedefaults\": {\"line\": {\"color\": \"#2a3f5f\"}}, \"ternary\": {\"aaxis\": {\"gridcolor\": \"white\", \"linecolor\": \"white\", \"ticks\": \"\"}, \"baxis\": {\"gridcolor\": \"white\", \"linecolor\": \"white\", \"ticks\": \"\"}, \"bgcolor\": \"#E5ECF6\", \"caxis\": {\"gridcolor\": \"white\", \"linecolor\": \"white\", \"ticks\": \"\"}}, \"title\": {\"x\": 0.05}, \"xaxis\": {\"automargin\": true, \"gridcolor\": \"white\", \"linecolor\": \"white\", \"ticks\": \"\", \"title\": {\"standoff\": 15}, \"zerolinecolor\": \"white\", \"zerolinewidth\": 2}, \"yaxis\": {\"automargin\": true, \"gridcolor\": \"white\", \"linecolor\": \"white\", \"ticks\": \"\", \"title\": {\"standoff\": 15}, \"zerolinecolor\": \"white\", \"zerolinewidth\": 2}}}, \"title\": {\"font\": {\"color\": \"#4D5663\"}}, \"xaxis\": {\"gridcolor\": \"#E1E5ED\", \"showgrid\": true, \"tickfont\": {\"color\": \"#4D5663\"}, \"title\": {\"font\": {\"color\": \"#4D5663\"}, \"text\": \"\"}, \"zerolinecolor\": \"#E1E5ED\"}, \"yaxis\": {\"gridcolor\": \"#E1E5ED\", \"showgrid\": true, \"tickfont\": {\"color\": \"#4D5663\"}, \"title\": {\"font\": {\"color\": \"#4D5663\"}, \"text\": \"\"}, \"zerolinecolor\": \"#E1E5ED\"}},                        {\"showLink\": true, \"linkText\": \"Export to plot.ly\", \"plotlyServerURL\": \"https://plot.ly\", \"responsive\": true}                    ).then(function(){\n",
       "                            \n",
       "var gd = document.getElementById('694df13a-3af9-4e7e-9155-e093ca4e53d1');\n",
       "var x = new MutationObserver(function (mutations, observer) {{\n",
       "        var display = window.getComputedStyle(gd).display;\n",
       "        if (!display || display === 'none') {{\n",
       "            console.log([gd, 'removed!']);\n",
       "            Plotly.purge(gd);\n",
       "            observer.disconnect();\n",
       "        }}\n",
       "}});\n",
       "\n",
       "// Listen for the removal of the full notebook cells\n",
       "var notebookContainer = gd.closest('#notebook-container');\n",
       "if (notebookContainer) {{\n",
       "    x.observe(notebookContainer, {childList: true});\n",
       "}}\n",
       "\n",
       "// Listen for the clearing of the current output cell\n",
       "var outputEl = gd.closest('.output');\n",
       "if (outputEl) {{\n",
       "    x.observe(outputEl, {childList: true});\n",
       "}}\n",
       "\n",
       "                        })                };                });            </script>        </div>"
      ]
     },
     "metadata": {},
     "output_type": "display_data"
    }
   ],
   "source": [
    "future_forecast = model.predict(len(data_val))\n",
    "future_forecast = pd.DataFrame(future_forecast,index =data_val.index,columns=['Prediction'])\n",
    "pd.concat([data_val,future_forecast],axis=1).iplot()"
   ]
  },
  {
   "cell_type": "code",
   "execution_count": 297,
   "metadata": {},
   "outputs": [
    {
     "name": "stdout",
     "output_type": "stream",
     "text": [
      "Test Score: 63.99 RMSE\n"
     ]
    }
   ],
   "source": [
    "testScore = math.sqrt(mean_squared_error(data_val,future_forecast))\n",
    "print('Test Score: %.2f RMSE' % (testScore))"
   ]
  },
  {
   "cell_type": "markdown",
   "metadata": {},
   "source": [
    "# SVM MODEL"
   ]
  },
  {
   "cell_type": "code",
   "execution_count": 343,
   "metadata": {},
   "outputs": [],
   "source": [
    "from sklearn.datasets import make_classification\n",
    "from sklearn.model_selection import train_test_split\n",
    "from sklearn import svm\n",
    "\n",
    "X,y = make_classification(n_samples=77, random_state=0)\n",
    "X_train, X_test, y_train, y_test = train_test_split(X,y, random_state = 0)\n"
   ]
  },
  {
   "cell_type": "code",
   "execution_count": 344,
   "metadata": {},
   "outputs": [
    {
     "name": "stdout",
     "output_type": "stream",
     "text": [
      "SVR()\n"
     ]
    }
   ],
   "source": [
    "model = svm.SVR()\n",
    "model.fit(X_train, y_train)\n",
    "print(model)"
   ]
  },
  {
   "cell_type": "code",
   "execution_count": 345,
   "metadata": {},
   "outputs": [],
   "source": [
    "expected_y  = y_test\n",
    "predicted_y = model.predict(X_test)"
   ]
  },
  {
   "cell_type": "code",
   "execution_count": 346,
   "metadata": {},
   "outputs": [
    {
     "name": "stdout",
     "output_type": "stream",
     "text": [
      "0.47818230566551634\n",
      "0.13045442358362092\n"
     ]
    }
   ],
   "source": [
    "print(metrics.r2_score(expected_y, predicted_y))\n",
    "print(metrics.mean_squared_error(expected_y, predicted_y))"
   ]
  },
  {
   "cell_type": "code",
   "execution_count": 347,
   "metadata": {},
   "outputs": [
    {
     "data": {
      "text/plain": [
       "<AxesSubplot:>"
      ]
     },
     "execution_count": 347,
     "metadata": {},
     "output_type": "execute_result"
    },
    {
     "data": {
      "image/png": "[encoded data removed]",
      "text/plain": [
       "<Figure size 720x720 with 1 Axes>"
      ]
     },
     "metadata": {
      "needs_background": "light"
     },
     "output_type": "display_data"
    }
   ],
   "source": [
    "plt.figure(figsize=(10,10))\n",
    "sns.regplot(expected_y, predicted_y, fit_reg=True, scatter_kws={\"s\": 100})"
   ]
  },
  {
   "cell_type": "code",
   "execution_count": 337,
   "metadata": {},
   "outputs": [],
   "source": [
    "from sklearn.ensemble import RandomForestRegressor \n",
    "from sklearn.metrics import mean_squared_error\n",
    " \n",
    " \n",
    "def data_pre(data):\n",
    "    \"\"\"\n",
    "    :param data: \n",
    "    :param seq_len: \n",
    "    :return: \n",
    "    \"\"\"\n",
    "    row = round(0.9 * data.shape[0])\n",
    "    data = data.values\n",
    "    train = data[:int(row), :]\n",
    "    x_train = train[:, :]\n",
    "    y_train = train[:,16:17]\n",
    "    x_test = data[int(row):, :]\n",
    "    y_test = data[int(row):, 16:17]\n",
    "    x_train = np.reshape(x_train, (x_train.shape[0], x_train.shape[1]))\n",
    "    x_test = np.reshape(x_test, (x_test.shape[0], x_test.shape[1]))\n",
    "    return [x_train, y_train, x_test, y_test]        \n",
    "\n",
    "   \n",
    "\n",
    "    X_train, y_train, X_test, y_test = data_pre(df)\n",
    "    print(X_train.shape, y_train.shape, X_test.shape, y_test.shape)\n",
    "\n",
    "    \n",
    "   \n",
    "   "
   ]
  },
  {
   "cell_type": "code",
   "execution_count": 353,
   "metadata": {},
   "outputs": [],
   "source": [
    "    clf = RandomForestRegressor(n_estimators=77, criterion='mse', max_depth=None,\n",
    "                                min_samples_split=2, min_samples_leaf=1,\n",
    "                                max_features='auto', max_leaf_nodes=None,\n",
    "                                bootstrap=True, oob_score=False, n_jobs=1,\n",
    "                                random_state=None, verbose=0)\n",
    "    clf.fit(X_train, y_train)\n",
    "    predictions = clf.predict(X_test)\n"
   ]
  },
  {
   "cell_type": "code",
   "execution_count": 354,
   "metadata": {},
   "outputs": [
    {
     "name": "stdout",
     "output_type": "stream",
     "text": [
      "Random Forest Test MSE: 0.111\n"
     ]
    }
   ],
   "source": [
    "    error = mean_squared_error(y_test, predictions)\n",
    "    print('Random Forest Test MSE: %.3f' % error)\n"
   ]
  },
  {
   "cell_type": "code",
   "execution_count": 355,
   "metadata": {},
   "outputs": [
    {
     "data": {
      "image/png": "[encoded data removed]",
      "text/plain": [
       "<Figure size 432x288 with 1 Axes>"
      ]
     },
     "metadata": {
      "needs_background": "light"
     },
     "output_type": "display_data"
    }
   ],
   "source": [
    "    plt.plot(y_test, label='True Data')\n",
    "    plt.plot(predictions, label='Random Forest Predict')\n",
    "    plt.title('Random Forest Regression')\n",
    "    plt.legend()\n",
    "    plt.show()"
   ]
  },
  {
   "cell_type": "code",
   "execution_count": null,
   "metadata": {},
   "outputs": [],
   "source": []
  }
 ],
 "metadata": {
  "kernelspec": {
   "display_name": "Python 3",
   "language": "python",
   "name": "python3"
  },
  "language_info": {
   "codemirror_mode": {
    "name": "ipython",
    "version": 3
   },
   "file_extension": ".py",
   "mimetype": "text/x-python",
   "name": "python",
   "nbconvert_exporter": "python",
   "pygments_lexer": "ipython3",
   "version": "3.8.5"
  }
 },
 "nbformat": 4,
 "nbformat_minor": 4
}
